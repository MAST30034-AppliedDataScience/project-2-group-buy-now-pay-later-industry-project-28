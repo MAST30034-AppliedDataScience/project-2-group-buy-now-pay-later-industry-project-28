{
 "cells": [
  {
   "cell_type": "markdown",
   "metadata": {},
   "source": [
    "# Modelling"
   ]
  },
  {
   "cell_type": "markdown",
   "metadata": {},
   "source": [
    "This notebook is used to create a Gradient Boosted Trees model to predict whether the transaction is fraud in the future."
   ]
  },
  {
   "cell_type": "markdown",
   "metadata": {},
   "source": [
    "---"
   ]
  },
  {
   "cell_type": "code",
   "execution_count": 1,
   "metadata": {},
   "outputs": [],
   "source": [
    "from pyspark.sql import SparkSession\n",
    "from pyspark.sql.functions import* \n",
    "from pyspark.ml.feature import VectorAssembler, StandardScaler\n",
    "from pyspark.ml.classification import GBTClassifier\n",
    "from pyspark.ml.evaluation import BinaryClassificationEvaluator\n",
    "from pyspark.ml.evaluation import MulticlassClassificationEvaluator"
   ]
  },
  {
   "cell_type": "code",
   "execution_count": 2,
   "metadata": {},
   "outputs": [
    {
     "name": "stderr",
     "output_type": "stream",
     "text": [
      "24/09/20 02:18:07 WARN Utils: Your hostname, Cocos-MacBook-Air.local resolves to a loopback address: 127.0.0.1; using 172.16.33.67 instead (on interface en0)\n",
      "24/09/20 02:18:07 WARN Utils: Set SPARK_LOCAL_IP if you need to bind to another address\n",
      "Setting default log level to \"WARN\".\n",
      "To adjust logging level use sc.setLogLevel(newLevel). For SparkR, use setLogLevel(newLevel).\n",
      "24/09/20 02:18:07 WARN NativeCodeLoader: Unable to load native-hadoop library for your platform... using builtin-java classes where applicable\n"
     ]
    }
   ],
   "source": [
    "spark = (\n",
    "    SparkSession.builder.appName(\"Modelling\")\n",
    "    .config(\"spark.sql.repl.eagerEval.enabled\", True) \n",
    "    .config(\"spark.sql.parquet.cacheMetadata\", \"true\")\n",
    "    .config(\"spark.sql.session.timeZone\", \"Etc/UTC\")\n",
    "    .config(\"spark.sql.debug.maxToStringFields\", 3000)\n",
    "    .config(\"spark.network.timeout\", \"300s\")\n",
    "    .config(\"spark.driver.maxResultSize\", \"4g\")\n",
    "    .config(\"spark.rpc.askTimeout\", \"300s\")\n",
    "    .config(\"spark.driver.memory\", \"8G\")\n",
    "    .config(\"spark.executor.memory\", \"8G\")\n",
    "    .getOrCreate()\n",
    ")"
   ]
  },
  {
   "cell_type": "markdown",
   "metadata": {},
   "source": [
    "# Read dataset"
   ]
  },
  {
   "cell_type": "code",
   "execution_count": 3,
   "metadata": {},
   "outputs": [
    {
     "name": "stderr",
     "output_type": "stream",
     "text": [
      "                                                                                \r"
     ]
    }
   ],
   "source": [
    "full_transaction = spark.read.parquet('../data/curated/full_transaction_with_segments')"
   ]
  },
  {
   "cell_type": "code",
   "execution_count": 4,
   "metadata": {},
   "outputs": [
    {
     "name": "stdout",
     "output_type": "stream",
     "text": [
      "root\n",
      " |-- merchant_abn: long (nullable = true)\n",
      " |-- order_id: string (nullable = true)\n",
      " |-- take_rate: float (nullable = true)\n",
      " |-- merchant_fraud_probability: double (nullable = true)\n",
      " |-- transaction_revenue: double (nullable = true)\n",
      " |-- BNPL_revenue: double (nullable = true)\n",
      " |-- revenue_level_e: integer (nullable = true)\n",
      " |-- revenue_level_d: integer (nullable = true)\n",
      " |-- revenue_level_c: integer (nullable = true)\n",
      " |-- revenue_level_b: integer (nullable = true)\n",
      " |-- revenue_level_a: integer (nullable = true)\n",
      " |-- category_jewelry: integer (nullable = true)\n",
      " |-- category_art: integer (nullable = true)\n",
      " |-- category_television: integer (nullable = true)\n",
      " |-- category_watch: integer (nullable = true)\n",
      " |-- category_cable: integer (nullable = true)\n",
      " |-- category_repair: integer (nullable = true)\n",
      " |-- category_stock: integer (nullable = true)\n",
      " |-- category_flower: integer (nullable = true)\n",
      " |-- category_office: integer (nullable = true)\n",
      " |-- category_souvenir: integer (nullable = true)\n",
      " |-- category_goods:: integer (nullable = true)\n",
      " |-- category_novelty: integer (nullable = true)\n",
      " |-- category_optical: integer (nullable = true)\n",
      " |-- category_integrated: integer (nullable = true)\n",
      " |-- category_new: integer (nullable = true)\n",
      " |-- category_antique: integer (nullable = true)\n",
      " |-- category_newspaper: integer (nullable = true)\n",
      " |-- category_shoe: integer (nullable = true)\n",
      " |-- category_tent: integer (nullable = true)\n",
      " |-- category_beauty: integer (nullable = true)\n",
      " |-- category_system: integer (nullable = true)\n",
      " |-- category_lawn: integer (nullable = true)\n",
      " |-- category_sheet: integer (nullable = true)\n",
      " |-- category_programming: integer (nullable = true)\n",
      " |-- category_radio: integer (nullable = true)\n",
      " |-- category_stationery: integer (nullable = true)\n",
      " |-- category_optician: integer (nullable = true)\n",
      " |-- category_paper: integer (nullable = true)\n",
      " |-- category_software: integer (nullable = true)\n",
      " |-- category_clock: integer (nullable = true)\n",
      " |-- category_peripheral: integer (nullable = true)\n",
      " |-- category_craft: integer (nullable = true)\n",
      " |-- category_awning: integer (nullable = true)\n",
      " |-- category_garden: integer (nullable = true)\n",
      " |-- category_data: integer (nullable = true)\n",
      " |-- category_music: integer (nullable = true)\n",
      " |-- category_silverware: integer (nullable = true)\n",
      " |-- category_movie: integer (nullable = true)\n",
      " |-- category_hobby: integer (nullable = true)\n",
      " |-- category_digital: integer (nullable = true)\n",
      " |-- category_sale: integer (nullable = true)\n",
      " |-- category_tool: integer (nullable = true)\n",
      " |-- category_artist: integer (nullable = true)\n",
      " |-- category_health: integer (nullable = true)\n",
      " |-- category_writing: integer (nullable = true)\n",
      " |-- category_musical: integer (nullable = true)\n",
      " |-- category_outlet: integer (nullable = true)\n",
      " |-- category_furniture: integer (nullable = true)\n",
      " |-- category_florist: integer (nullable = true)\n",
      " |-- category_periodical: integer (nullable = true)\n",
      " |-- category_restoration: integer (nullable = true)\n",
      " |-- category_telecom: integer (nullable = true)\n",
      " |-- category_part: integer (nullable = true)\n",
      " |-- category_card: integer (nullable = true)\n",
      " |-- category_satellite: integer (nullable = true)\n",
      " |-- category_eyeglass: integer (nullable = true)\n",
      " |-- category_motor: integer (nullable = true)\n",
      " |-- category_computer: integer (nullable = true)\n",
      " |-- category_equipment: integer (nullable = true)\n",
      " |-- category_service: integer (nullable = true)\n",
      " |-- category_leasing: integer (nullable = true)\n",
      " |-- category_gift: integer (nullable = true)\n",
      " |-- category_vehicle: integer (nullable = true)\n",
      " |-- category_printing: integer (nullable = true)\n",
      " |-- category_home: integer (nullable = true)\n",
      " |-- category_instrument: integer (nullable = true)\n",
      " |-- category_nursery: integer (nullable = true)\n",
      " |-- category_good: integer (nullable = true)\n",
      " |-- category_game: integer (nullable = true)\n",
      " |-- category_spa: integer (nullable = true)\n",
      " |-- category_furnishing: integer (nullable = true)\n",
      " |-- category_rent: integer (nullable = true)\n",
      " |-- category_processing: integer (nullable = true)\n",
      " |-- category_gallery: integer (nullable = true)\n",
      " |-- category_supply: integer (nullable = true)\n",
      " |-- category_pay: integer (nullable = true)\n",
      " |-- category_design: integer (nullable = true)\n",
      " |-- category_manufacturer: integer (nullable = true)\n",
      " |-- category_toy: integer (nullable = true)\n",
      " |-- category_book: integer (nullable = true)\n",
      " |-- category_dealer: integer (nullable = true)\n",
      " |-- category_appliance: integer (nullable = true)\n",
      " |-- category_piano: integer (nullable = true)\n",
      " |-- category_bicycle: integer (nullable = true)\n",
      " |-- merchant_is_fraud: integer (nullable = true)\n",
      " |-- user_id: long (nullable = true)\n",
      " |-- postcode: integer (nullable = true)\n",
      " |-- order_datetime: date (nullable = true)\n",
      " |-- consumer_id: long (nullable = true)\n",
      " |-- dollar_value: double (nullable = true)\n",
      " |-- consumer_fraud_probability: double (nullable = true)\n",
      " |-- average_population: double (nullable = true)\n",
      " |-- avg_age_persons: double (nullable = true)\n",
      " |-- avg_mortgage_repay_monthly: double (nullable = true)\n",
      " |-- avg_tot_prsnl_inc_weekly: double (nullable = true)\n",
      " |-- avg_rent_weekly: double (nullable = true)\n",
      " |-- avg_tot_fam_inc_weekly: double (nullable = true)\n",
      " |-- avg_num_psns_per_bedroom: double (nullable = true)\n",
      " |-- avg_tot_hhd_inc_weekly: double (nullable = true)\n",
      " |-- avg_household_size: double (nullable = true)\n",
      " |-- avg_unemployment_rate: double (nullable = true)\n",
      " |-- state_NT: integer (nullable = true)\n",
      " |-- state_ACT: integer (nullable = true)\n",
      " |-- state_SA: integer (nullable = true)\n",
      " |-- state_TAS: integer (nullable = true)\n",
      " |-- state_WA: integer (nullable = true)\n",
      " |-- state_QLD: integer (nullable = true)\n",
      " |-- state_VIC: integer (nullable = true)\n",
      " |-- state_NSW: integer (nullable = true)\n",
      " |-- gender_Undisclosed: integer (nullable = true)\n",
      " |-- gender_Female: integer (nullable = true)\n",
      " |-- gender_Male: integer (nullable = true)\n",
      " |-- order_timestamp: long (nullable = true)\n",
      " |-- hashed_postcode: vector (nullable = true)\n",
      " |-- consumer_is_fraud: integer (nullable = true)\n",
      " |-- transaction_is_fraud: integer (nullable = true)\n",
      " |-- merchant_segment_1: integer (nullable = true)\n",
      " |-- merchant_segment_3: integer (nullable = true)\n",
      " |-- merchant_segment_5: integer (nullable = true)\n",
      " |-- merchant_segment_4: integer (nullable = true)\n",
      " |-- merchant_segment_2: integer (nullable = true)\n",
      "\n"
     ]
    }
   ],
   "source": [
    "full_transaction.printSchema()"
   ]
  },
  {
   "cell_type": "markdown",
   "metadata": {},
   "source": [
    "# Drop unnecessary columns"
   ]
  },
  {
   "cell_type": "markdown",
   "metadata": {},
   "source": [
    "- The columns starts with `category_` are dropped since they were converted to the column starts with `merchant_segment_`\n",
    "- `postcode` and `hashed_postcode` are dropped since \n",
    "  - they are repeated\n",
    "  - the dimension of `hashed_postcode` is too high (6000 dimensions)\n",
    "  - they are not important based on previous correlation and feature importance\n",
    "- `order_datetime` is dropped since it was converted to `order_timestamp`\n",
    "- `consumer_is_fraud` and `merchant_is_fraud` are dropped since they are directly related to the label `transaction_is_fraud`\n",
    "- And we tried if include `hashed_postcode` and the columns starts with `category_` in the model, the evaluation results is almost the same as the model which dropped those columns."
   ]
  },
  {
   "cell_type": "code",
   "execution_count": 5,
   "metadata": {},
   "outputs": [],
   "source": [
    "columns_to_drop = [\n",
    "                   'merchant_abn', 'order_id', 'user_id', 'postcode', 'hashed_postcode',\n",
    "                   'consumer_id', 'consumer_is_fraud', 'order_datetime', 'merchant_is_fraud'\n",
    "                  ] + [col for col in full_transaction.columns if col.startswith('category_')]\n",
    "data = full_transaction.drop(*columns_to_drop)"
   ]
  },
  {
   "cell_type": "markdown",
   "metadata": {},
   "source": [
    "# Train the Gradient Boosted Trees model"
   ]
  },
  {
   "cell_type": "code",
   "execution_count": 6,
   "metadata": {},
   "outputs": [
    {
     "name": "stderr",
     "output_type": "stream",
     "text": [
      "                                                                                \r"
     ]
    }
   ],
   "source": [
    "# assemble features into a single vector column\n",
    "selected_columns = [col for col in data.columns if col != 'transaction_is_fraud']\n",
    "assembler = VectorAssembler(inputCols=selected_columns, outputCol='features')\n",
    "assembled_data = assembler.transform(data)\n",
    "\n",
    "# scale features\n",
    "scaler = StandardScaler(inputCol='features', outputCol='scaledFeatures')\n",
    "scaler_model = scaler.fit(assembled_data)\n",
    "scaled_data = scaler_model.transform(assembled_data)\n",
    "\n",
    "# split the data into training and test sets\n",
    "train_data, test_data = scaled_data.randomSplit([0.7, 0.3], seed=42)\n",
    "\n",
    "# define Gradient Boosted Trees model\n",
    "gbt = GBTClassifier(labelCol='transaction_is_fraud', \n",
    "                    featuresCol='scaledFeatures', maxIter=10, seed=42)\n",
    "\n",
    "# train the model\n",
    "gbt_model = gbt.fit(train_data)\n",
    "\n",
    "# make predictions on the test set\n",
    "predictions = gbt_model.transform(test_data)"
   ]
  },
  {
   "cell_type": "markdown",
   "metadata": {},
   "source": [
    "# Evaluations"
   ]
  },
  {
   "cell_type": "markdown",
   "metadata": {},
   "source": [
    "### ROC AUC Score\n",
    "\n",
    "The ROC AUC Score (Receiver Operating Characteristic Area Under the Curve) is a metric used to evaluate the performance of binary classification models. It quantifies a model's ability to distinguish between two classes, with a score ranging from 0 to 1. \n",
    "- A score of 1 indicates perfect classification\n",
    "- A score of 0.5 equates to no better than random guessing\n",
    "- A score of 0 implies complete misclassification."
   ]
  },
  {
   "cell_type": "code",
   "execution_count": 7,
   "metadata": {},
   "outputs": [
    {
     "name": "stderr",
     "output_type": "stream",
     "text": [
      "24/09/20 02:24:35 WARN InstanceBuilder: Failed to load implementation from:dev.ludovic.netlib.blas.JNIBLAS\n",
      "                                                                                \r"
     ]
    },
    {
     "name": "stdout",
     "output_type": "stream",
     "text": [
      "ROC AUC Score: 0.9998325969497125\n"
     ]
    }
   ],
   "source": [
    "# evaluate the model performance using Binary Classification metrics\n",
    "binary_evaluator = BinaryClassificationEvaluator(labelCol='transaction_is_fraud', \n",
    "                                                 metricName='areaUnderROC')\n",
    "roc_auc = binary_evaluator.evaluate(predictions)\n",
    "print(f\"ROC AUC Score: {roc_auc}\")"
   ]
  },
  {
   "cell_type": "markdown",
   "metadata": {},
   "source": [
    "The provided ROC AUC Score of 0.9998325969497125 suggests an exceptionally high discriminatory power, indicating that the model can very accurately differentiate between the positive and negative classes."
   ]
  },
  {
   "cell_type": "markdown",
   "metadata": {},
   "source": [
    "### Precision, recall, and F1 score"
   ]
  },
  {
   "cell_type": "code",
   "execution_count": 8,
   "metadata": {},
   "outputs": [
    {
     "name": "stderr",
     "output_type": "stream",
     "text": [
      "[Stage 123:============================================>           (8 + 2) / 10]\r"
     ]
    },
    {
     "name": "stdout",
     "output_type": "stream",
     "text": [
      "Precision: 0.9971343677836155\n",
      "Recall: 0.9925347345362653\n",
      "F1 Score: 0.9926324044661374\n"
     ]
    },
    {
     "name": "stderr",
     "output_type": "stream",
     "text": [
      "                                                                                \r"
     ]
    }
   ],
   "source": [
    "# define evaluators for precision, recall, and F1 score\n",
    "evaluator_precision = MulticlassClassificationEvaluator(labelCol='transaction_is_fraud', \n",
    "                                                        predictionCol='prediction', \n",
    "                                                        metricName='precisionByLabel')\n",
    "evaluator_recall = MulticlassClassificationEvaluator(labelCol='transaction_is_fraud', \n",
    "                                                     predictionCol='prediction', \n",
    "                                                     metricName='recallByLabel')\n",
    "evaluator_f1 = MulticlassClassificationEvaluator(labelCol='transaction_is_fraud', \n",
    "                                                 predictionCol='prediction', \n",
    "                                                 metricName='f1')\n",
    "\n",
    "# evaluate the model using the defined evaluators\n",
    "precision = evaluator_precision.evaluate(predictions)\n",
    "recall = evaluator_recall.evaluate(predictions)\n",
    "f1_score = evaluator_f1.evaluate(predictions)\n",
    "\n",
    "print(f\"Precision: {precision}\")\n",
    "print(f\"Recall: {recall}\")\n",
    "print(f\"F1 Score: {f1_score}\")"
   ]
  },
  {
   "cell_type": "markdown",
   "metadata": {},
   "source": [
    "### Confusion matrix-like summary"
   ]
  },
  {
   "cell_type": "code",
   "execution_count": 9,
   "metadata": {},
   "outputs": [
    {
     "name": "stderr",
     "output_type": "stream",
     "text": [
      "24/09/20 02:28:47 WARN RowBasedKeyValueBatch: Calling spill() on RowBasedKeyValueBatch. Will not spill but return 0.\n",
      "24/09/20 02:28:47 WARN RowBasedKeyValueBatch: Calling spill() on RowBasedKeyValueBatch. Will not spill but return 0.\n",
      "24/09/20 02:28:47 WARN RowBasedKeyValueBatch: Calling spill() on RowBasedKeyValueBatch. Will not spill but return 0.\n",
      "24/09/20 02:28:47 WARN RowBasedKeyValueBatch: Calling spill() on RowBasedKeyValueBatch. Will not spill but return 0.\n",
      "24/09/20 02:28:47 WARN RowBasedKeyValueBatch: Calling spill() on RowBasedKeyValueBatch. Will not spill but return 0.\n",
      "24/09/20 02:28:47 WARN RowBasedKeyValueBatch: Calling spill() on RowBasedKeyValueBatch. Will not spill but return 0.\n",
      "24/09/20 02:28:47 WARN RowBasedKeyValueBatch: Calling spill() on RowBasedKeyValueBatch. Will not spill but return 0.\n",
      "24/09/20 02:28:47 WARN RowBasedKeyValueBatch: Calling spill() on RowBasedKeyValueBatch. Will not spill but return 0.\n",
      "24/09/20 02:29:03 WARN RowBasedKeyValueBatch: Calling spill() on RowBasedKeyValueBatch. Will not spill but return 0.\n",
      "24/09/20 02:29:03 WARN RowBasedKeyValueBatch: Calling spill() on RowBasedKeyValueBatch. Will not spill but return 0.\n",
      "24/09/20 02:29:03 WARN RowBasedKeyValueBatch: Calling spill() on RowBasedKeyValueBatch. Will not spill but return 0.\n",
      "24/09/20 02:29:03 WARN RowBasedKeyValueBatch: Calling spill() on RowBasedKeyValueBatch. Will not spill but return 0.\n",
      "24/09/20 02:29:04 WARN RowBasedKeyValueBatch: Calling spill() on RowBasedKeyValueBatch. Will not spill but return 0.\n",
      "24/09/20 02:29:04 WARN RowBasedKeyValueBatch: Calling spill() on RowBasedKeyValueBatch. Will not spill but return 0.\n",
      "24/09/20 02:29:04 WARN RowBasedKeyValueBatch: Calling spill() on RowBasedKeyValueBatch. Will not spill but return 0.\n",
      "24/09/20 02:29:04 WARN RowBasedKeyValueBatch: Calling spill() on RowBasedKeyValueBatch. Will not spill but return 0.\n",
      "[Stage 125:============================================>           (8 + 2) / 10]\r"
     ]
    },
    {
     "name": "stdout",
     "output_type": "stream",
     "text": [
      "+--------------------+----------+-------+\n",
      "|transaction_is_fraud|prediction|  count|\n",
      "+--------------------+----------+-------+\n",
      "|                   1|       0.0|   6917|\n",
      "|                   0|       0.0|2406861|\n",
      "|                   1|       1.0| 958213|\n",
      "|                   0|       1.0|  18103|\n",
      "+--------------------+----------+-------+\n",
      "\n"
     ]
    },
    {
     "name": "stderr",
     "output_type": "stream",
     "text": [
      "                                                                                \r"
     ]
    }
   ],
   "source": [
    "predictions.groupBy('transaction_is_fraud', 'prediction').count().show()"
   ]
  }
 ],
 "metadata": {
  "kernelspec": {
   "display_name": "base",
   "language": "python",
   "name": "python3"
  },
  "language_info": {
   "codemirror_mode": {
    "name": "ipython",
    "version": 3
   },
   "file_extension": ".py",
   "mimetype": "text/x-python",
   "name": "python",
   "nbconvert_exporter": "python",
   "pygments_lexer": "ipython3",
   "version": "3.11.3"
  }
 },
 "nbformat": 4,
 "nbformat_minor": 2
}
