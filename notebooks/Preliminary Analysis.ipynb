{
 "cells": [
  {
   "cell_type": "markdown",
   "metadata": {},
   "source": [
    "# Preliminary Analysis"
   ]
  },
  {
   "cell_type": "markdown",
   "metadata": {},
   "source": [
    "BNPL Data timeline: 2021-2-28 to 2022-10-26"
   ]
  },
  {
   "cell_type": "code",
   "execution_count": 63,
   "metadata": {},
   "outputs": [],
   "source": [
    "from pyspark.sql import SparkSession\n",
    "from pyspark.sql import functions as F\n",
    "from pyspark.sql.functions import* \n",
    "from pyspark.sql.functions import regexp_replace, col, trim, split"
   ]
  },
  {
   "cell_type": "code",
   "execution_count": 64,
   "metadata": {},
   "outputs": [],
   "source": [
    "spark = (\n",
    "    SparkSession.builder.appName(\"Preliminary Analysis\")\n",
    "    .config(\"spark.sql.repl.eagerEval.enabled\", True) \n",
    "    .config(\"spark.driver.memory\",\"4G\")\n",
    "    .config(\"spark.executor.memory\",\"4G\")\n",
    "    .config(\"spark.sql.parquet.cacheMetadata\", \"true\")\n",
    "    .config(\"spark.sql.session.timeZone\", \"Etc/UTC\")\n",
    "    .getOrCreate()\n",
    ")"
   ]
  },
  {
   "cell_type": "markdown",
   "metadata": {},
   "source": [
    "# Table 1"
   ]
  },
  {
   "cell_type": "code",
   "execution_count": 65,
   "metadata": {},
   "outputs": [],
   "source": [
    "consumer_fraud = spark.read.csv('../data/tables/tables 1/consumer_fraud_probability.csv', header=True, inferSchema=True)\n",
    "merchant_fraud = spark.read.csv('../data/tables/tables 1/merchant_fraud_probability.csv', header=True, inferSchema=True)\n",
    "consumer_user_details = spark.read.parquet('../data/tables/tables 1/consumer_user_details.parquet')\n",
    "tbl_consumer = spark.read.csv('../data/tables/tables 1/tbl_consumer.csv', header=True, inferSchema=True)\n",
    "tbl_merchants = spark.read.parquet('../data/tables/tables 1/tbl_merchants.parquet')"
   ]
  },
  {
   "cell_type": "code",
   "execution_count": 66,
   "metadata": {},
   "outputs": [
    {
     "name": "stdout",
     "output_type": "stream",
     "text": [
      "+----------------+--------------------+-----+--------+------+-----------+\n",
      "|            name|             address|state|postcode|gender|consumer_id|\n",
      "+----------------+--------------------+-----+--------+------+-----------+\n",
      "|Yolanda Williams|413 Haney Gardens...|   WA|    6935|Female|    1195503|\n",
      "|      Mary Smith|     3764 Amber Oval|  NSW|    2782|Female|     179208|\n",
      "|   Jill Jones MD|  40693 Henry Greens|   NT|     862|Female|    1194530|\n",
      "+----------------+--------------------+-----+--------+------+-----------+\n",
      "only showing top 3 rows\n",
      "\n"
     ]
    }
   ],
   "source": [
    "# split tbl_consumer table\n",
    "# single column into multiple columns\n",
    "split_col = split(tbl_consumer['name|address|state|postcode|gender|consumer_id'], r'\\|')\n",
    "\n",
    "# create separate columns for each part\n",
    "tbl_consumer = tbl_consumer.withColumn('name', split_col.getItem(0)) \\\n",
    "                           .withColumn('address', split_col.getItem(1)) \\\n",
    "                           .withColumn('state', split_col.getItem(2)) \\\n",
    "                           .withColumn('postcode', split_col.getItem(3)) \\\n",
    "                           .withColumn('gender', split_col.getItem(4)) \\\n",
    "                           .withColumn('consumer_id', split_col.getItem(5))\n",
    "\n",
    "tbl_consumer = tbl_consumer.drop('name|address|state|postcode|gender|consumer_id')\n",
    "\n",
    "tbl_consumer.show(3)"
   ]
  },
  {
   "cell_type": "markdown",
   "metadata": {},
   "source": [
    "# Join all comsumer, merchant table"
   ]
  },
  {
   "cell_type": "code",
   "execution_count": 67,
   "metadata": {},
   "outputs": [
    {
     "name": "stdout",
     "output_type": "stream",
     "text": [
      "+-----------+-------+--------------+------------------+-----------------+--------------------+-----+--------+-----------+\n",
      "|consumer_id|user_id|order_datetime| fraud_probability|             name|             address|state|postcode|     gender|\n",
      "+-----------+-------+--------------+------------------+-----------------+--------------------+-----+--------+-----------+\n",
      "|    1174371|     95|    2021-09-22|10.950213110987248|      Linda Burns|76786 Stephanie I...|  NSW|    2352|     Female|\n",
      "|    1174371|     95|    2021-11-03| 9.077685805360991|      Linda Burns|76786 Stephanie I...|  NSW|    2352|     Female|\n",
      "|     921339|    152|    2021-12-17|14.821132072309535|       Tina Clark|     637 Daniel View|  NSW|    2161|     Female|\n",
      "|     612215|    275|    2021-06-04| 12.90435899477071|Dr. Nicholas Hill|36154 Rivera Neck...|  VIC|    3147|Undisclosed|\n",
      "|    1493354|    378|    2021-10-24|15.080740281581361| William Sullivan|716 Samuel Rapids...|  VIC|    3533|       Male|\n",
      "|    1493354|    378|    2021-10-12| 9.075543396104425| William Sullivan|716 Samuel Rapids...|  VIC|    3533|       Male|\n",
      "|    1493354|    378|    2021-11-21| 8.385219010957915| William Sullivan|716 Samuel Rapids...|  VIC|    3533|       Male|\n",
      "|     742966|    652|    2022-01-12|14.546282928384265|    Douglas Davis|  80455 Andrew Brook|  QLD|    4741|       Male|\n",
      "|     567201|    846|    2021-10-02|19.789915258960185|   Joseph Rosario|307 Chavez Curve ...|  NSW|    2763|       Male|\n",
      "|     567201|    846|    2021-11-27| 11.59318771997229|   Joseph Rosario|307 Chavez Curve ...|  NSW|    2763|       Male|\n",
      "+-----------+-------+--------------+------------------+-----------------+--------------------+-----+--------+-----------+\n",
      "only showing top 10 rows\n",
      "\n"
     ]
    }
   ],
   "source": [
    "consumer_table = consumer_fraud.join(consumer_user_details, on=\"user_id\", how=\"inner\")\n",
    "consumer_table = consumer_table.join(tbl_consumer, on=\"consumer_id\", how=\"inner\")\n",
    "consumer_table.show(10)"
   ]
  },
  {
   "cell_type": "code",
   "execution_count": 68,
   "metadata": {},
   "outputs": [
    {
     "name": "stdout",
     "output_type": "stream",
     "text": [
      "+------------+--------------+------------------+--------------------+--------------------+\n",
      "|merchant_abn|order_datetime| fraud_probability|                name|                tags|\n",
      "+------------+--------------+------------------+--------------------+--------------------+\n",
      "| 11149063370|    2022-02-25| 51.01538421455241|     Et Arcu Limited|([art dealers and...|\n",
      "| 11149063370|    2021-11-14|52.407803322764764|     Et Arcu Limited|([art dealers and...|\n",
      "| 11149063370|    2021-08-28| 56.43761254995139|     Et Arcu Limited|([art dealers and...|\n",
      "| 11470993597|    2021-09-28| 63.37734364737917|      Sed Associates|((watch, clock, a...|\n",
      "| 11590404675|    2021-12-21|29.607818240092094|         Arcu Sed PC|((antique shops -...|\n",
      "| 14530561097|    2021-09-15| 80.80054474543395|        Duis At Inc.|[[jewelry, watch,...|\n",
      "| 15043504837|    2021-10-08|25.054391991473924|   Odio Incorporated|([jewelry, watch,...|\n",
      "| 15043504837|    2021-12-14| 26.12523097610844|   Odio Incorporated|([jewelry, watch,...|\n",
      "| 15043504837|    2021-08-29| 59.77648897297805|   Odio Incorporated|([jewelry, watch,...|\n",
      "| 15157368385|    2021-12-13|  64.2774131928303|Tempus Non Lacini...|[(artist supply a...|\n",
      "+------------+--------------+------------------+--------------------+--------------------+\n",
      "only showing top 10 rows\n",
      "\n"
     ]
    }
   ],
   "source": [
    "merchant_table = merchant_fraud.join(tbl_merchants, on=\"merchant_abn\", how=\"inner\")\n",
    "merchant_table.show(10)"
   ]
  },
  {
   "cell_type": "markdown",
   "metadata": {},
   "source": [
    "### Consumer table preprocessing"
   ]
  },
  {
   "cell_type": "code",
   "execution_count": 77,
   "metadata": {},
   "outputs": [
    {
     "name": "stdout",
     "output_type": "stream",
     "text": [
      "+-----------+-------+--------------+-----------------+----+-------+-----+--------+------+\n",
      "|consumer_id|user_id|order_datetime|fraud_probability|name|address|state|postcode|gender|\n",
      "+-----------+-------+--------------+-----------------+----+-------+-----+--------+------+\n",
      "+-----------+-------+--------------+-----------------+----+-------+-----+--------+------+\n",
      "\n"
     ]
    }
   ],
   "source": [
    "# check for invalid fraud probabilities\n",
    "invalid_fraud_prob = consumer_table.filter((col(\"fraud_probability\") < 0) | (col(\"fraud_probability\") > 100))\n",
    "invalid_fraud_prob.show(truncate=False)"
   ]
  },
  {
   "cell_type": "markdown",
   "metadata": {},
   "source": [
    "### Merchant table preprocessing"
   ]
  },
  {
   "cell_type": "code",
   "execution_count": 69,
   "metadata": {},
   "outputs": [],
   "source": [
    "# convert all string to lowercase\n",
    "merchant_table = merchant_table.withColumn(\"name\", lower(col(\"name\"))) \\\n",
    "                               .withColumn(\"tags\", lower(col(\"tags\")))\n",
    "\n"
   ]
  },
  {
   "cell_type": "code",
   "execution_count": 70,
   "metadata": {},
   "outputs": [],
   "source": [
    "# convert all brackets to []\n",
    "\n",
    "# replace '(' with '['\n",
    "merchant_table = merchant_table.withColumn(\"tags_converted\", regexp_replace(col(\"tags\"), r'\\(', '['))\n",
    "\n",
    "# replace ')' with ']'\n",
    "merchant_table = merchant_table.withColumn(\"tags_converted\", regexp_replace(col(\"tags_converted\"), r'\\)', ']'))\n",
    "\n"
   ]
  },
  {
   "cell_type": "code",
   "execution_count": 71,
   "metadata": {},
   "outputs": [
    {
     "data": {
      "text/html": [
       "<table border='1'>\n",
       "<tr><th>merchant_abn</th><th>order_datetime</th><th>fraud_probability</th><th>name</th><th>category</th><th>subcategory</th><th>take_rate</th></tr>\n",
       "<tr><td>11149063370</td><td>2022-02-25</td><td>51.01538421455241</td><td>et arcu limited</td><td>art dealers and g...</td><td>b</td><td>4.84</td></tr>\n",
       "<tr><td>11149063370</td><td>2021-11-14</td><td>52.407803322764764</td><td>et arcu limited</td><td>art dealers and g...</td><td>b</td><td>4.84</td></tr>\n",
       "<tr><td>11149063370</td><td>2021-08-28</td><td>56.43761254995139</td><td>et arcu limited</td><td>art dealers and g...</td><td>b</td><td>4.84</td></tr>\n",
       "<tr><td>11470993597</td><td>2021-09-28</td><td>63.37734364737917</td><td>sed associates</td><td>watch, clock, and...</td><td>d</td><td>1.35</td></tr>\n",
       "<tr><td>11590404675</td><td>2021-12-21</td><td>29.607818240092094</td><td>arcu sed pc</td><td>antique shops - s...</td><td>b</td><td>4.19</td></tr>\n",
       "<tr><td>14530561097</td><td>2021-09-15</td><td>80.80054474543395</td><td>duis at inc.</td><td>jewelry, watch, c...</td><td>c</td><td>1.69</td></tr>\n",
       "<tr><td>15043504837</td><td>2021-10-08</td><td>25.054391991473924</td><td>odio incorporated</td><td>jewelry, watch, c...</td><td>b</td><td>4.62</td></tr>\n",
       "<tr><td>15043504837</td><td>2021-12-14</td><td>26.12523097610844</td><td>odio incorporated</td><td>jewelry, watch, c...</td><td>b</td><td>4.62</td></tr>\n",
       "<tr><td>15043504837</td><td>2021-08-29</td><td>59.77648897297805</td><td>odio incorporated</td><td>jewelry, watch, c...</td><td>b</td><td>4.62</td></tr>\n",
       "<tr><td>15157368385</td><td>2021-12-13</td><td>64.2774131928303</td><td>tempus non lacini...</td><td>artist supply and...</td><td>b</td><td>3.98</td></tr>\n",
       "<tr><td>18158387243</td><td>2021-11-29</td><td>28.956947892226466</td><td>nec tellus ltd</td><td>health and beauty...</td><td>c</td><td>2.03</td></tr>\n",
       "<tr><td>18158387243</td><td>2021-11-26</td><td>29.102418916409913</td><td>nec tellus ltd</td><td>health and beauty...</td><td>c</td><td>2.03</td></tr>\n",
       "<tr><td>18737319630</td><td>2021-09-25</td><td>72.73069736562613</td><td>ut industries</td><td>computers, comput...</td><td>a</td><td>5.70</td></tr>\n",
       "<tr><td>19492220327</td><td>2021-11-03</td><td>24.872618445353506</td><td>commodo ipsum ind...</td><td>jewelry, watch, c...</td><td>b</td><td>4.93</td></tr>\n",
       "<tr><td>19492220327</td><td>2022-01-29</td><td>25.071151926838045</td><td>commodo ipsum ind...</td><td>jewelry, watch, c...</td><td>b</td><td>4.93</td></tr>\n",
       "<tr><td>19492220327</td><td>2021-10-08</td><td>25.50276371658429</td><td>commodo ipsum ind...</td><td>jewelry, watch, c...</td><td>b</td><td>4.93</td></tr>\n",
       "<tr><td>19492220327</td><td>2021-10-18</td><td>30.935658544112286</td><td>commodo ipsum ind...</td><td>jewelry, watch, c...</td><td>b</td><td>4.93</td></tr>\n",
       "<tr><td>19492220327</td><td>2021-11-18</td><td>32.193139919494016</td><td>commodo ipsum ind...</td><td>jewelry, watch, c...</td><td>b</td><td>4.93</td></tr>\n",
       "<tr><td>19492220327</td><td>2021-12-18</td><td>33.819672154331755</td><td>commodo ipsum ind...</td><td>jewelry, watch, c...</td><td>b</td><td>4.93</td></tr>\n",
       "<tr><td>19492220327</td><td>2021-12-22</td><td>38.867790051131095</td><td>commodo ipsum ind...</td><td>jewelry, watch, c...</td><td>b</td><td>4.93</td></tr>\n",
       "</table>\n",
       "only showing top 20 rows\n"
      ],
      "text/plain": [
       "+------------+--------------+------------------+--------------------+--------------------+-----------+---------+\n",
       "|merchant_abn|order_datetime| fraud_probability|                name|            category|subcategory|take_rate|\n",
       "+------------+--------------+------------------+--------------------+--------------------+-----------+---------+\n",
       "| 11149063370|    2022-02-25| 51.01538421455241|     et arcu limited|art dealers and g...|          b|     4.84|\n",
       "| 11149063370|    2021-11-14|52.407803322764764|     et arcu limited|art dealers and g...|          b|     4.84|\n",
       "| 11149063370|    2021-08-28| 56.43761254995139|     et arcu limited|art dealers and g...|          b|     4.84|\n",
       "| 11470993597|    2021-09-28| 63.37734364737917|      sed associates|watch, clock, and...|          d|     1.35|\n",
       "| 11590404675|    2021-12-21|29.607818240092094|         arcu sed pc|antique shops - s...|          b|     4.19|\n",
       "| 14530561097|    2021-09-15| 80.80054474543395|        duis at inc.|jewelry, watch, c...|          c|     1.69|\n",
       "| 15043504837|    2021-10-08|25.054391991473924|   odio incorporated|jewelry, watch, c...|          b|     4.62|\n",
       "| 15043504837|    2021-12-14| 26.12523097610844|   odio incorporated|jewelry, watch, c...|          b|     4.62|\n",
       "| 15043504837|    2021-08-29| 59.77648897297805|   odio incorporated|jewelry, watch, c...|          b|     4.62|\n",
       "| 15157368385|    2021-12-13|  64.2774131928303|tempus non lacini...|artist supply and...|          b|     3.98|\n",
       "| 18158387243|    2021-11-29|28.956947892226466|      nec tellus ltd|health and beauty...|          c|     2.03|\n",
       "| 18158387243|    2021-11-26|29.102418916409913|      nec tellus ltd|health and beauty...|          c|     2.03|\n",
       "| 18737319630|    2021-09-25| 72.73069736562613|       ut industries|computers, comput...|          a|     5.70|\n",
       "| 19492220327|    2021-11-03|24.872618445353506|commodo ipsum ind...|jewelry, watch, c...|          b|     4.93|\n",
       "| 19492220327|    2022-01-29|25.071151926838045|commodo ipsum ind...|jewelry, watch, c...|          b|     4.93|\n",
       "| 19492220327|    2021-10-08| 25.50276371658429|commodo ipsum ind...|jewelry, watch, c...|          b|     4.93|\n",
       "| 19492220327|    2021-10-18|30.935658544112286|commodo ipsum ind...|jewelry, watch, c...|          b|     4.93|\n",
       "| 19492220327|    2021-11-18|32.193139919494016|commodo ipsum ind...|jewelry, watch, c...|          b|     4.93|\n",
       "| 19492220327|    2021-12-18|33.819672154331755|commodo ipsum ind...|jewelry, watch, c...|          b|     4.93|\n",
       "| 19492220327|    2021-12-22|38.867790051131095|commodo ipsum ind...|jewelry, watch, c...|          b|     4.93|\n",
       "+------------+--------------+------------------+--------------------+--------------------+-----------+---------+\n",
       "only showing top 20 rows"
      ]
     },
     "execution_count": 71,
     "metadata": {},
     "output_type": "execute_result"
    }
   ],
   "source": [
    "\n",
    "\n",
    "# split the elements by '], [' to get the three parts\n",
    "split_col = split(col(\"tags_converted\"), r'\\], \\[')\n",
    "\n",
    "# clean up each part and assign them to separate columns\n",
    "merchant_table = merchant_table.withColumn(\"category\", trim(regexp_replace(split_col.getItem(0), r'^\\[|\\]$', ''))) \\\n",
    "                               .withColumn(\"subcategory\", trim(regexp_replace(split_col.getItem(1), r'^\\[|\\]$', ''))) \\\n",
    "                               .withColumn(\"take_rate\", trim(regexp_replace(split_col.getItem(2), r'^\\[take rate: |\\]$', '')))\n",
    "\n",
    "# keep only numeric values\n",
    "merchant_table = merchant_table.withColumn(\"category\", regexp_replace(col(\"category\"), r'^\\[|\\]$', ''))\n",
    "merchant_table = merchant_table.withColumn(\"take_rate\", regexp_replace(col(\"take_rate\"), r'[^\\d.]+', ''))\n",
    "\n",
    "merchant_table.drop('tags', 'tags_converted')"
   ]
  },
  {
   "cell_type": "code",
   "execution_count": 72,
   "metadata": {},
   "outputs": [
    {
     "name": "stdout",
     "output_type": "stream",
     "text": [
      "+------------+--------------+-----------------+----+----+--------------+--------+-----------+---------+\n",
      "|merchant_abn|order_datetime|fraud_probability|name|tags|tags_converted|category|subcategory|take_rate|\n",
      "+------------+--------------+-----------------+----+----+--------------+--------+-----------+---------+\n",
      "+------------+--------------+-----------------+----+----+--------------+--------+-----------+---------+\n",
      "\n"
     ]
    }
   ],
   "source": [
    "# check for invalid fraud probabilities\n",
    "invalid_fraud_prob = merchant_table.filter((col(\"fraud_probability\") < 0) | (col(\"fraud_probability\") > 100))\n",
    "invalid_fraud_prob.show(truncate=False)\n"
   ]
  },
  {
   "cell_type": "markdown",
   "metadata": {},
   "source": [
    "# Table 2 3 4 - transactions"
   ]
  },
  {
   "cell_type": "code",
   "execution_count": 73,
   "metadata": {},
   "outputs": [],
   "source": [
    "# 3 transactions tables\n",
    "tables_2 = spark.read.parquet('../data/tables/tables 2')\n",
    "tables_3 = spark.read.parquet('../data/tables/tables 3')\n",
    "tables_4 = spark.read.parquet('../data/tables/tables 4')"
   ]
  },
  {
   "cell_type": "code",
   "execution_count": 74,
   "metadata": {},
   "outputs": [
    {
     "name": "stdout",
     "output_type": "stream",
     "text": [
      "number of transactions in table 2 3 4:  3643266 4508106 6044133\n"
     ]
    }
   ],
   "source": [
    "print('number of transactions in table 2 3 4: ', tables_2.count(), tables_3.count(), tables_4.count())\n"
   ]
  },
  {
   "cell_type": "code",
   "execution_count": 75,
   "metadata": {},
   "outputs": [],
   "source": [
    "# combine all transactions - 14195505 transactions with no duplicate record\n",
    "transaction_table = tables_2.union(tables_3).union(tables_4)"
   ]
  },
  {
   "cell_type": "code",
   "execution_count": 76,
   "metadata": {},
   "outputs": [
    {
     "name": "stderr",
     "output_type": "stream",
     "text": [
      "                                                                                \r"
     ]
    },
    {
     "name": "stdout",
     "output_type": "stream",
     "text": [
      "+-------+------------+------------+--------+--------------+-----+\n",
      "|user_id|merchant_abn|dollar_value|order_id|order_datetime|count|\n",
      "+-------+------------+------------+--------+--------------+-----+\n",
      "+-------+------------+------------+--------+--------------+-----+\n",
      "\n"
     ]
    },
    {
     "name": "stderr",
     "output_type": "stream",
     "text": [
      "                                                                                \r"
     ]
    }
   ],
   "source": [
    "# Check duplicate transaction records\n",
    "\n",
    "# group by all columns and count occurrences\n",
    "duplicates = transaction_table.groupBy(transaction_table.columns).count()\n",
    "\n",
    "# keep only duplicate records\n",
    "duplicates = duplicates.filter(col(\"count\") > 1)\n",
    "\n",
    "# duplicate row\n",
    "duplicates.show()"
   ]
  }
 ],
 "metadata": {
  "kernelspec": {
   "display_name": "base",
   "language": "python",
   "name": "python3"
  },
  "language_info": {
   "codemirror_mode": {
    "name": "ipython",
    "version": 3
   },
   "file_extension": ".py",
   "mimetype": "text/x-python",
   "name": "python",
   "nbconvert_exporter": "python",
   "pygments_lexer": "ipython3",
   "version": "3.9.13"
  }
 },
 "nbformat": 4,
 "nbformat_minor": 2
}
