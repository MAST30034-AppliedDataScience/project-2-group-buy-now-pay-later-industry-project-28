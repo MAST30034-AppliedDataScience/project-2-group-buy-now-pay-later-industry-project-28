{
 "cells": [
  {
   "cell_type": "markdown",
   "metadata": {},
   "source": [
    "# Ranking System"
   ]
  },
  {
   "cell_type": "markdown",
   "metadata": {},
   "source": [
    "This notebook is used to create a ranking system to select\n",
    "- the overall top 100 reputable and reliable merchants;\n",
    "- top 10 reputable and reliable merchants for each segment (following are all merchant segments).\n",
    "\n",
    "  -  Personal Care and Repair Services (1)\n",
    "  -  Arts (2)\n",
    "  -  Home and Furniture (3)\n",
    "  -  Gifts and Souvenirs (4)\n",
    "  -  Technology and Electronic Equipment (5)\n",
    "\n",
    "Then will evaluate the ranking system on a test data file."
   ]
  },
  {
   "cell_type": "markdown",
   "metadata": {},
   "source": [
    "---"
   ]
  },
  {
   "cell_type": "code",
   "execution_count": null,
   "metadata": {},
   "outputs": [],
   "source": [
    "from pyspark.sql import SparkSession\n",
    "from pyspark.sql.functions import* "
   ]
  },
  {
   "cell_type": "code",
   "execution_count": null,
   "metadata": {},
   "outputs": [],
   "source": [
    "spark = (\n",
    "    SparkSession.builder.appName(\"Ranking\")\n",
    "    .config(\"spark.sql.repl.eagerEval.enabled\", True) \n",
    "    .config(\"spark.sql.parquet.cacheMetadata\", \"true\")\n",
    "    .config(\"spark.sql.session.timeZone\", \"Etc/UTC\")\n",
    "    .config(\"spark.sql.debug.maxToStringFields\", 3000)\n",
    "    .config(\"spark.network.timeout\", \"300s\")\n",
    "    .config(\"spark.driver.maxResultSize\", \"4g\")\n",
    "    .config(\"spark.rpc.askTimeout\", \"300s\")\n",
    "    .config(\"spark.driver.memory\", \"8G\")\n",
    "    .config(\"spark.executor.memory\", \"8G\")\n",
    "    .getOrCreate()\n",
    ")"
   ]
  },
  {
   "cell_type": "markdown",
   "metadata": {},
   "source": [
    "# Read dataset"
   ]
  },
  {
   "cell_type": "code",
   "execution_count": null,
   "metadata": {},
   "outputs": [],
   "source": [
    "full_transaction = spark.read.parquet('../data/curated/full_transaction_with_segments')"
   ]
  }
 ],
 "metadata": {
  "language_info": {
   "name": "python"
  }
 },
 "nbformat": 4,
 "nbformat_minor": 2
}
