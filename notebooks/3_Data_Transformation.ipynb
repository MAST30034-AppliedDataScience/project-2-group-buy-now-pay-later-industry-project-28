{
 "cells": [
  {
   "cell_type": "markdown",
   "metadata": {},
   "source": [
    "# Data Transformation"
   ]
  },
  {
   "cell_type": "markdown",
   "metadata": {},
   "source": [
    "This notebook involves the One-Hot Encoding on categorical data."
   ]
  },
  {
   "cell_type": "markdown",
   "metadata": {},
   "source": [
    "---"
   ]
  },
  {
   "cell_type": "code",
   "execution_count": 1,
   "metadata": {},
   "outputs": [],
   "source": [
    "from pyspark.sql import SparkSession\n",
    "from pyspark.sql.functions import* \n",
    "from pyspark.sql.functions import split\n",
    "from pyspark.sql.functions import year, month, dayofmonth\n",
    "from pyspark.sql.functions import col, when, split, udf\n",
    "from pyspark.sql.types import ArrayType, IntegerType\n",
    "from pyspark.ml.linalg import DenseVector, SparseVector"
   ]
  },
  {
   "cell_type": "code",
   "execution_count": 2,
   "metadata": {},
   "outputs": [
    {
     "name": "stderr",
     "output_type": "stream",
     "text": [
      "24/09/11 23:30:27 WARN Utils: Your hostname, Cocos-MacBook-Air.local resolves to a loopback address: 127.0.0.1; using 172.16.33.67 instead (on interface en0)\n",
      "24/09/11 23:30:27 WARN Utils: Set SPARK_LOCAL_IP if you need to bind to another address\n",
      "Setting default log level to \"WARN\".\n",
      "To adjust logging level use sc.setLogLevel(newLevel). For SparkR, use setLogLevel(newLevel).\n",
      "24/09/11 23:30:28 WARN NativeCodeLoader: Unable to load native-hadoop library for your platform... using builtin-java classes where applicable\n",
      "24/09/11 23:30:28 WARN Utils: Service 'SparkUI' could not bind on port 4040. Attempting port 4041.\n",
      "24/09/11 23:30:28 WARN Utils: Service 'SparkUI' could not bind on port 4041. Attempting port 4042.\n",
      "24/09/11 23:30:28 WARN Utils: Service 'SparkUI' could not bind on port 4042. Attempting port 4043.\n"
     ]
    }
   ],
   "source": [
    "spark = (\n",
    "    SparkSession.builder.appName(\"Transformation\")\n",
    "    .config(\"spark.sql.repl.eagerEval.enabled\", True) \n",
    "    .config(\"spark.driver.memory\", \"4G\")\n",
    "    .config(\"spark.executor.memory\", \"4G\")\n",
    "    .config(\"spark.sql.parquet.cacheMetadata\", \"true\")\n",
    "    .config(\"spark.sql.session.timeZone\", \"Etc/UTC\")\n",
    "    .config(\"spark.sql.debug.maxToStringFields\", 200)\n",
    "    .getOrCreate()\n",
    ")"
   ]
  },
  {
   "cell_type": "markdown",
   "metadata": {},
   "source": [
    "# Read datasets"
   ]
  },
  {
   "cell_type": "code",
   "execution_count": 3,
   "metadata": {},
   "outputs": [
    {
     "name": "stderr",
     "output_type": "stream",
     "text": [
      "                                                                                \r"
     ]
    }
   ],
   "source": [
    "# read datasets\n",
    "consumer_full = spark.read.parquet('../data/curated/consumer_full')\n",
    "merchant_full = spark.read.parquet('../data/curated/merchant_full')"
   ]
  },
  {
   "cell_type": "code",
   "execution_count": 4,
   "metadata": {},
   "outputs": [
    {
     "name": "stderr",
     "output_type": "stream",
     "text": [
      "                                                                                \r"
     ]
    },
    {
     "name": "stdout",
     "output_type": "stream",
     "text": [
      "+--------+-------+--------------+-----------+---------------+-----+------+------------+------------------+--------------------+-----------------+--------------------+------------------+------------------+-----------------------------+---------------------------+------------------+-------------------------+----------------------------+-------------------------+----------------------+-----------------+\n",
      "|postcode|user_id|order_datetime|consumer_id|           name|state|gender|merchant_abn|      dollar_value|            order_id|fraud_probability|            SA2_name|average_population|Median_age_persons|Median_mortgage_repay_monthly|Median_tot_prsnl_inc_weekly|Median_rent_weekly|Median_tot_fam_inc_weekly|Average_num_psns_per_bedroom|Median_tot_hhd_inc_weekly|Average_household_size|unemployment_rate|\n",
      "+--------+-------+--------------+-----------+---------------+-----+------+------------+------------------+--------------------+-----------------+--------------------+------------------+------------------+-----------------------------+---------------------------+------------------+-------------------------+----------------------------+-------------------------+----------------------+-----------------+\n",
      "|    6519|  11138|    2022-08-25|     401483|Veronica Nelson|   WA|Female| 63290521567|41.239626303220014|09f6132a-a6a8-47a...|             NULL|              Morawa|            3993.5|                47|                          800|                        768|               175|                     1684|                         0.7|                     1310|                   2.2|              4.2|\n",
      "|    6170|  22285|    2022-08-25|     416278|    Luke Greene|   WA|  Male| 63465140133| 8.815286645396842|f4fc1a3b-a5b1-4d7...|             NULL|             Calista|            7697.0|                39|                         1300|                        594|               275|                     1521|                         0.7|                     1213|                   2.4|             11.3|\n",
      "|    6170|  22285|    2022-08-25|     416278|    Luke Greene|   WA|  Male| 63465140133| 8.815286645396842|f4fc1a3b-a5b1-4d7...|             NULL|Wellard (West) - ...|           19158.0|                31|                         1800|                        942|               350|                     2207|                         0.8|                     2068|                   3.0|              5.1|\n",
      "|    2281|  11139|    2022-08-25|     505718| Monica Garrett|  NSW|Female| 21359184622| 66.46301590693417|b1a52524-b6e6-42a...|             NULL|Swansea - Caves B...|           12603.0|                49|                         2080|                        686|               360|                     1836|                         0.8|                     1419|                   2.4|              4.8|\n",
      "|    2281|  11139|    2022-08-25|     505718| Monica Garrett|  NSW|Female| 21359184622| 66.46301590693417|b1a52524-b6e6-42a...|             NULL|Belmont South - B...|            5672.5|                49|                         1800|                        653|               330|                     1669|                         0.8|                     1240|                   2.3|              6.2|\n",
      "+--------+-------+--------------+-----------+---------------+-----+------+------------+------------------+--------------------+-----------------+--------------------+------------------+------------------+-----------------------------+---------------------------+------------------+-------------------------+----------------------------+-------------------------+----------------------+-----------------+\n",
      "only showing top 5 rows\n",
      "\n"
     ]
    }
   ],
   "source": [
    "consumer_full.show(5)"
   ]
  },
  {
   "cell_type": "code",
   "execution_count": 5,
   "metadata": {},
   "outputs": [
    {
     "name": "stdout",
     "output_type": "stream",
     "text": [
      "root\n",
      " |-- postcode: integer (nullable = true)\n",
      " |-- user_id: long (nullable = true)\n",
      " |-- order_datetime: date (nullable = true)\n",
      " |-- consumer_id: long (nullable = true)\n",
      " |-- name: string (nullable = true)\n",
      " |-- state: string (nullable = true)\n",
      " |-- gender: string (nullable = true)\n",
      " |-- merchant_abn: long (nullable = true)\n",
      " |-- dollar_value: double (nullable = true)\n",
      " |-- order_id: string (nullable = true)\n",
      " |-- fraud_probability: double (nullable = true)\n",
      " |-- SA2_name: string (nullable = true)\n",
      " |-- average_population: double (nullable = true)\n",
      " |-- Median_age_persons: long (nullable = true)\n",
      " |-- Median_mortgage_repay_monthly: long (nullable = true)\n",
      " |-- Median_tot_prsnl_inc_weekly: long (nullable = true)\n",
      " |-- Median_rent_weekly: long (nullable = true)\n",
      " |-- Median_tot_fam_inc_weekly: long (nullable = true)\n",
      " |-- Average_num_psns_per_bedroom: double (nullable = true)\n",
      " |-- Median_tot_hhd_inc_weekly: long (nullable = true)\n",
      " |-- Average_household_size: double (nullable = true)\n",
      " |-- unemployment_rate: double (nullable = true)\n",
      "\n"
     ]
    }
   ],
   "source": [
    "consumer_full.printSchema()"
   ]
  },
  {
   "cell_type": "code",
   "execution_count": 6,
   "metadata": {},
   "outputs": [
    {
     "name": "stdout",
     "output_type": "stream",
     "text": [
      "+------------+--------------+-------+------------------+--------------------+--------------------+--------------------+-------------+---------+-----------------+-------------------+\n",
      "|merchant_abn|order_datetime|user_id|      dollar_value|            order_id|                name|            category|revenue_level|take_rate|fraud_probability|transaction_revenue|\n",
      "+------------+--------------+-------+------------------+--------------------+--------------------+--------------------+-------------+---------+-----------------+-------------------+\n",
      "| 63290521567|    2022-08-25|  11138|41.239626303220014|09f6132a-a6a8-47a...|vehicula pellente...|artist supply and...|            a|     6.48|             NULL|  38.56729713438449|\n",
      "| 63465140133|    2022-08-25|  22285| 8.815286645396842|f4fc1a3b-a5b1-4d7...|  vitae odio limited|digital goods: bo...|            b|     3.68|             NULL|  8.490884069944117|\n",
      "| 21359184622|    2022-08-25|  11139| 66.46301590693417|b1a52524-b6e6-42a...|         sit amet pc|motor vehicle sup...|            b|      3.6|             NULL|  64.07034834842969|\n",
      "| 75034515922|    2022-08-25|  22285|19.654995598411727|ba240514-5dea-405...|   ac eleifend corp.|digital goods: bo...|            a|     6.22|             NULL| 18.432454632261372|\n",
      "| 96334476428|    2022-08-25|  11140| 6.383881161736656|3f1c61aa-6b5b-4c8...|         sed est ltd|bicycle shops - s...|            b|     3.66|             NULL|  6.150230877432384|\n",
      "+------------+--------------+-------+------------------+--------------------+--------------------+--------------------+-------------+---------+-----------------+-------------------+\n",
      "only showing top 5 rows\n",
      "\n"
     ]
    }
   ],
   "source": [
    "merchant_full.show(5)"
   ]
  },
  {
   "cell_type": "code",
   "execution_count": 7,
   "metadata": {},
   "outputs": [
    {
     "name": "stdout",
     "output_type": "stream",
     "text": [
      "root\n",
      " |-- merchant_abn: long (nullable = true)\n",
      " |-- order_datetime: date (nullable = true)\n",
      " |-- user_id: long (nullable = true)\n",
      " |-- dollar_value: double (nullable = true)\n",
      " |-- order_id: string (nullable = true)\n",
      " |-- name: string (nullable = true)\n",
      " |-- category: string (nullable = true)\n",
      " |-- revenue_level: string (nullable = true)\n",
      " |-- take_rate: float (nullable = true)\n",
      " |-- fraud_probability: double (nullable = true)\n",
      " |-- transaction_revenue: double (nullable = true)\n",
      "\n"
     ]
    }
   ],
   "source": [
    "merchant_full.printSchema()"
   ]
  },
  {
   "cell_type": "markdown",
   "metadata": {},
   "source": [
    "# Consumer data transformation"
   ]
  },
  {
   "cell_type": "code",
   "execution_count": null,
   "metadata": {},
   "outputs": [],
   "source": []
  },
  {
   "cell_type": "markdown",
   "metadata": {},
   "source": [
    "# Merchant data transformation"
   ]
  },
  {
   "cell_type": "markdown",
   "metadata": {},
   "source": [
    "Select helpful columons:"
   ]
  },
  {
   "cell_type": "code",
   "execution_count": 8,
   "metadata": {},
   "outputs": [
    {
     "name": "stdout",
     "output_type": "stream",
     "text": [
      "+------------+--------------+------------------+--------------------+-------------+---------+-----------------+-------------------+\n",
      "|merchant_abn|order_datetime|      dollar_value|            category|revenue_level|take_rate|fraud_probability|transaction_revenue|\n",
      "+------------+--------------+------------------+--------------------+-------------+---------+-----------------+-------------------+\n",
      "| 63290521567|    2022-08-25|41.239626303220014|artist supply and...|            a|     6.48|             NULL|  38.56729713438449|\n",
      "| 63465140133|    2022-08-25| 8.815286645396842|digital goods: bo...|            b|     3.68|             NULL|  8.490884069944117|\n",
      "| 21359184622|    2022-08-25| 66.46301590693417|motor vehicle sup...|            b|      3.6|             NULL|  64.07034834842969|\n",
      "| 75034515922|    2022-08-25|19.654995598411727|digital goods: bo...|            a|     6.22|             NULL| 18.432454632261372|\n",
      "| 96334476428|    2022-08-25| 6.383881161736656|bicycle shops - s...|            b|     3.66|             NULL|  6.150230877432384|\n",
      "+------------+--------------+------------------+--------------------+-------------+---------+-----------------+-------------------+\n",
      "only showing top 5 rows\n",
      "\n"
     ]
    }
   ],
   "source": [
    "merchant_full = merchant_full.drop('user_id', 'order_id', 'name')\n",
    "merchant_full.show(5)"
   ]
  },
  {
   "cell_type": "markdown",
   "metadata": {},
   "source": [
    "### Apply One-Hot Encoding on `revenue_level` column"
   ]
  },
  {
   "cell_type": "code",
   "execution_count": 9,
   "metadata": {},
   "outputs": [
    {
     "name": "stderr",
     "output_type": "stream",
     "text": [
      "                                                                                \r"
     ]
    },
    {
     "name": "stdout",
     "output_type": "stream",
     "text": [
      "+------------+--------------+------------------+--------------------+---------+-----------------+-------------------+---------------+---------------+---------------+---------------+---------------+\n",
      "|merchant_abn|order_datetime|      dollar_value|            category|take_rate|fraud_probability|transaction_revenue|revenue_level_e|revenue_level_d|revenue_level_c|revenue_level_b|revenue_level_a|\n",
      "+------------+--------------+------------------+--------------------+---------+-----------------+-------------------+---------------+---------------+---------------+---------------+---------------+\n",
      "| 63290521567|    2022-08-25|41.239626303220014|artist supply and...|     6.48|             NULL|  38.56729713438449|              0|              0|              0|              0|              1|\n",
      "| 63465140133|    2022-08-25| 8.815286645396842|digital goods: bo...|     3.68|             NULL|  8.490884069944117|              0|              0|              0|              1|              0|\n",
      "| 21359184622|    2022-08-25| 66.46301590693417|motor vehicle sup...|      3.6|             NULL|  64.07034834842969|              0|              0|              0|              1|              0|\n",
      "| 75034515922|    2022-08-25|19.654995598411727|digital goods: bo...|     6.22|             NULL| 18.432454632261372|              0|              0|              0|              0|              1|\n",
      "| 96334476428|    2022-08-25| 6.383881161736656|bicycle shops - s...|     3.66|             NULL|  6.150230877432384|              0|              0|              0|              1|              0|\n",
      "+------------+--------------+------------------+--------------------+---------+-----------------+-------------------+---------------+---------------+---------------+---------------+---------------+\n",
      "only showing top 5 rows\n",
      "\n"
     ]
    }
   ],
   "source": [
    "revenue_levels = merchant_full.select(\"revenue_level\").distinct().rdd.flatMap(lambda x: x).collect()\n",
    "\n",
    "for level in revenue_levels:\n",
    "    merchant_full = merchant_full.withColumn(f\"revenue_level_{level}\", when(col(\"revenue_level\") == level, 1).otherwise(0))\n",
    "\n",
    "merchant_full_expanded = merchant_full.drop(\"revenue_level\")\n",
    "merchant_full_expanded.show(5)"
   ]
  },
  {
   "cell_type": "markdown",
   "metadata": {},
   "source": [
    "### Apply One-Hot Encoding on `category` column"
   ]
  },
  {
   "cell_type": "code",
   "execution_count": 10,
   "metadata": {},
   "outputs": [
    {
     "name": "stderr",
     "output_type": "stream",
     "text": [
      "                                                                                \r"
     ]
    }
   ],
   "source": [
    "# collect distinct words and create a dictionary with indices\n",
    "distinct_words = merchant_full_expanded.selectExpr(\"explode(split(category, ' ')) as word\")\\\n",
    "                                       .distinct()\\\n",
    "                                       .rdd.flatMap(lambda x: x)\\\n",
    "                                       .collect()\n",
    "word_index = {word: idx for idx, word in enumerate(distinct_words)}\n",
    "\n",
    "# create a dictionary mapping indices to words\n",
    "index_word = {idx: word for word, idx in word_index.items()}\n",
    "\n",
    "# convert the `word_index` dictionary to a broadcast variable\n",
    "word_index_broadcast = spark.sparkContext.broadcast(word_index)"
   ]
  },
  {
   "cell_type": "markdown",
   "metadata": {},
   "source": [
    "Define a funciton to convert a list of words into a binary vector based on a predefined word index dictionary:"
   ]
  },
  {
   "cell_type": "code",
   "execution_count": 11,
   "metadata": {},
   "outputs": [],
   "source": [
    "def words_to_binary_vector(words):\n",
    "    # retrieve the broadcasted `word_index` dictionary which maps words \n",
    "    # to their respective indices\n",
    "    word_index = word_index_broadcast.value\n",
    "    \n",
    "    # initialize a binary vector with zeros, with length equal \n",
    "    # to the size of the `word_index` dictionary\n",
    "    vector = [0] * len(word_index)\n",
    "    \n",
    "    # iterate over each word in the input list\n",
    "    for word in words:\n",
    "        # if the word is in the `word_index` dictionary, set the corresponding \n",
    "        # index in the vector to 1\n",
    "        if word in word_index:\n",
    "            vector[word_index[word]] = 1\n",
    "    \n",
    "    return vector\n",
    "\n",
    "words_to_binary_vector_udf = udf(words_to_binary_vector, ArrayType(IntegerType()))"
   ]
  },
  {
   "cell_type": "code",
   "execution_count": 12,
   "metadata": {},
   "outputs": [
    {
     "name": "stdout",
     "output_type": "stream",
     "text": [
      "+------------+--------------+------------------+---------+-----------------+-------------------+---------------+---------------+---------------+---------------+---------------+------------------------------------------------------------------------------------------------------------------------------------------------------------------------------------------------------------------------------------------------------------------------------------------------------------------------+\n",
      "|merchant_abn|order_datetime|dollar_value      |take_rate|fraud_probability|transaction_revenue|revenue_level_e|revenue_level_d|revenue_level_c|revenue_level_b|revenue_level_a|category_binary                                                                                                                                                                                                                                                                                                         |\n",
      "+------------+--------------+------------------+---------+-----------------+-------------------+---------------+---------------+---------------+---------------+---------------+------------------------------------------------------------------------------------------------------------------------------------------------------------------------------------------------------------------------------------------------------------------------------------------------------------------------+\n",
      "|63290521567 |2022-08-25    |41.239626303220014|6.48     |NULL             |38.56729713438449  |0              |0              |0              |0              |1              |[0, 0, 0, 0, 0, 0, 0, 0, 0, 0, 0, 0, 0, 0, 0, 0, 0, 0, 0, 0, 0, 0, 0, 0, 0, 0, 0, 0, 0, 0, 0, 0, 0, 0, 0, 0, 0, 1, 0, 0, 0, 0, 1, 0, 0, 0, 0, 0, 0, 0, 0, 0, 0, 0, 0, 0, 0, 0, 0, 1, 0, 0, 0, 0, 0, 1, 0, 0, 0, 0, 0, 0, 0, 0, 0, 0, 0, 0, 0, 0, 0, 0, 0, 0, 0, 0, 0, 0, 0, 0, 0, 0, 0, 0, 0, 1, 0, 0, 0, 0, 0, 0, 0, 0]|\n",
      "|63465140133 |2022-08-25    |8.815286645396842 |3.68     |NULL             |8.490884069944117  |0              |0              |0              |1              |0              |[0, 0, 0, 0, 0, 0, 0, 0, 0, 0, 1, 0, 0, 0, 0, 0, 0, 0, 0, 0, 0, 0, 0, 0, 0, 1, 0, 0, 0, 0, 0, 0, 0, 0, 0, 0, 0, 0, 0, 0, 0, 0, 0, 0, 0, 0, 1, 0, 0, 0, 0, 0, 0, 0, 1, 0, 0, 0, 0, 0, 0, 0, 0, 0, 0, 0, 0, 0, 0, 0, 0, 0, 0, 0, 0, 0, 0, 0, 0, 0, 0, 0, 1, 0, 0, 0, 0, 0, 0, 0, 0, 0, 0, 0, 0, 0, 0, 0, 0, 0, 0, 0, 0, 0]|\n",
      "|21359184622 |2022-08-25    |66.46301590693417 |3.6      |NULL             |64.07034834842969  |0              |0              |0              |1              |0              |[0, 0, 0, 1, 0, 0, 0, 0, 0, 0, 0, 0, 0, 0, 1, 0, 0, 0, 0, 0, 0, 0, 0, 0, 0, 0, 0, 0, 0, 0, 0, 0, 0, 0, 0, 0, 0, 0, 0, 0, 0, 0, 0, 0, 0, 0, 0, 0, 0, 0, 0, 0, 0, 0, 0, 0, 0, 0, 0, 0, 0, 0, 0, 0, 0, 1, 0, 0, 0, 0, 0, 0, 1, 0, 0, 0, 0, 0, 0, 0, 0, 1, 0, 0, 0, 0, 0, 0, 0, 0, 0, 0, 0, 1, 0, 0, 0, 0, 0, 0, 0, 0, 0, 0]|\n",
      "|75034515922 |2022-08-25    |19.654995598411727|6.22     |NULL             |18.432454632261372 |0              |0              |0              |0              |1              |[0, 0, 0, 0, 0, 0, 0, 0, 0, 0, 1, 0, 0, 0, 0, 0, 0, 0, 0, 0, 0, 0, 0, 0, 0, 1, 0, 0, 0, 0, 0, 0, 0, 0, 0, 0, 0, 0, 0, 0, 0, 0, 0, 0, 0, 0, 1, 0, 0, 0, 0, 0, 0, 0, 1, 0, 0, 0, 0, 0, 0, 0, 0, 0, 0, 0, 0, 0, 0, 0, 0, 0, 0, 0, 0, 0, 0, 0, 0, 0, 0, 0, 1, 0, 0, 0, 0, 0, 0, 0, 0, 0, 0, 0, 0, 0, 0, 0, 0, 0, 0, 0, 0, 0]|\n",
      "|96334476428 |2022-08-25    |6.383881161736656 |3.66     |NULL             |6.150230877432384  |0              |0              |0              |1              |0              |[0, 0, 0, 0, 0, 0, 0, 0, 0, 0, 0, 0, 0, 0, 0, 0, 0, 0, 0, 0, 0, 0, 0, 0, 0, 0, 0, 0, 0, 0, 0, 0, 0, 0, 0, 1, 0, 0, 0, 0, 0, 0, 1, 0, 0, 0, 0, 1, 0, 0, 0, 0, 0, 0, 0, 0, 0, 0, 0, 0, 0, 0, 0, 0, 0, 1, 0, 0, 0, 0, 0, 0, 0, 0, 1, 0, 0, 0, 0, 0, 0, 0, 0, 0, 0, 0, 0, 0, 0, 0, 0, 0, 0, 0, 0, 0, 0, 0, 0, 0, 0, 0, 0, 1]|\n",
      "+------------+--------------+------------------+---------+-----------------+-------------------+---------------+---------------+---------------+---------------+---------------+------------------------------------------------------------------------------------------------------------------------------------------------------------------------------------------------------------------------------------------------------------------------------------------------------------------------+\n",
      "only showing top 5 rows\n",
      "\n"
     ]
    }
   ],
   "source": [
    "# split `category` into words\n",
    "merchant_full_expanded = merchant_full_expanded.withColumn(\"category_words\", \n",
    "                                                           split(col(\"category\"), \" \"))\n",
    "\n",
    "# apply the UDF to get the binary vector\n",
    "merchant_full_expanded = merchant_full_expanded.withColumn(\"category_binary\", \n",
    "                                                           words_to_binary_vector_udf(col(\"category_words\")))\n",
    "\n",
    "# drop the original columns\n",
    "merchant_full_expanded = merchant_full_expanded.drop(\"category\", \"category_words\")\n",
    "\n",
    "# show the result\n",
    "merchant_full_expanded.show(5, truncate=False)"
   ]
  },
  {
   "cell_type": "code",
   "execution_count": 13,
   "metadata": {},
   "outputs": [
    {
     "name": "stdout",
     "output_type": "stream",
     "text": [
      "Number of vectors in category_binary: 104\n"
     ]
    }
   ],
   "source": [
    "sample_vector = merchant_full_expanded.select(\"category_binary\").first()[0]\n",
    "count_sub_category = len(sample_vector)\n",
    "print(f'Number of vectors in category_binary:', count_sub_category)"
   ]
  },
  {
   "cell_type": "code",
   "execution_count": 14,
   "metadata": {},
   "outputs": [
    {
     "name": "stdout",
     "output_type": "stream",
     "text": [
      "+------------+--------------+------------------+---------+-----------------+-------------------+---------------+---------------+---------------+---------------+---------------+----------------+---------------+------------+--------------+-------------------+----------------+---------------+---------------+---------------+-----------------+---------------+----------------+-------------------+-------------------+------------+----------------+-----------------+-------------+-------------+-------------+----------------+---------------+-------------+--------------+-----------------+---------------+--------------------+--------------------+--------------+--------------+-----------------+-------------------+--------------+-------------------+--------------+--------------+---------------------+--------------+------------------+---------------+-------------------+-----------------+--------------+---------------+-------------------+-------------+--------------+----------+-------------------+--------------+-----------------------+--------------------+-------------------+------------------+----------------+---------------+-------------------+---------------+-----------+---------------+---------------+----------------+----------------+--------------------+--------------+------------+------------------+-------------------+--------------------+----------------+---------------+----------------+--------------+-----------------+----------------+---------------+------------------+---------------+------------------+----------------+-----------------+----------------+----------------+-----------------+-----------------+----------------+----------+-------------+----------------+---------+-----------------+-------------+---------------------+-----------------+-------------+---------------+------------+-------------------+---------------+------------+---------------+---------------+------------------+----------------+\n",
      "|merchant_abn|order_datetime|dollar_value      |take_rate|fraud_probability|transaction_revenue|revenue_level_e|revenue_level_d|revenue_level_c|revenue_level_b|revenue_level_a|category_jewelry|category_hobby,|category_art|category_parts|category_television|category_flowers|category_clock,|category_repair|category_office|category_souvenir|category_goods:|category_optical|category_integrated|category_satellite,|category_new|category_antique|category_outlets,|category_spas|category_shoe|category_tent|category_dealers|category_beauty|category_lawn|category_sheet|category_jewelry,|category_books,|category_programming|category_stationery,|category_radio|category_paper|category_software|category_peripheral|category_card,|category_opticians,|category_other|category_sales|category_periodicals,|category_craft|category_supplies,|category_awning|category_appliances|category_florists|category_shops|category_garden|category_computers,|category_data|category_music|category_-|category_silverware|category_gift,|category_manufacturers,|category_processing,|category_furniture,|category_galleries|category_digital|category_cable,|category_equipment,|category_except|category_al|category_artist|category_health|category_writing|category_musical|category_furnishings|category_tool,|category_and|category_nurseries|category_newspapers|category_restoration|category_telecom|category_goods,|category_systems|category_motor|category_computer|category_service|category_watch,|category_equipment|category_sales,|category_including|category_leasing|category_services|category_vehicle|category_movies,|category_novelty,|category_printing|category_pianos,|category_,|category_home|category_nursery|category_|category_repairs,|category_game|category_instruments,|category_supplies|category_rent|category_supply|category_pay|category_eyeglasses|category_design|category_toy|category_stock,|category_shops,|category_appliance|category_bicycle|\n",
      "+------------+--------------+------------------+---------+-----------------+-------------------+---------------+---------------+---------------+---------------+---------------+----------------+---------------+------------+--------------+-------------------+----------------+---------------+---------------+---------------+-----------------+---------------+----------------+-------------------+-------------------+------------+----------------+-----------------+-------------+-------------+-------------+----------------+---------------+-------------+--------------+-----------------+---------------+--------------------+--------------------+--------------+--------------+-----------------+-------------------+--------------+-------------------+--------------+--------------+---------------------+--------------+------------------+---------------+-------------------+-----------------+--------------+---------------+-------------------+-------------+--------------+----------+-------------------+--------------+-----------------------+--------------------+-------------------+------------------+----------------+---------------+-------------------+---------------+-----------+---------------+---------------+----------------+----------------+--------------------+--------------+------------+------------------+-------------------+--------------------+----------------+---------------+----------------+--------------+-----------------+----------------+---------------+------------------+---------------+------------------+----------------+-----------------+----------------+----------------+-----------------+-----------------+----------------+----------+-------------+----------------+---------+-----------------+-------------+---------------------+-----------------+-------------+---------------+------------+-------------------+---------------+------------+---------------+---------------+------------------+----------------+\n",
      "|63290521567 |2022-08-25    |41.239626303220014|6.48     |NULL             |38.56729713438449  |0              |0              |0              |0              |1              |0               |0              |0           |0             |0                  |0               |0              |0              |0              |0                |0              |0               |0                  |0                  |0           |0               |0                |0            |0            |0            |0               |0              |0            |0             |0                |0              |0                   |0                   |0             |0             |0                |0                  |0             |0                  |0             |0             |0                    |0             |0                 |0              |0                  |0                |0             |0              |0                  |0            |0             |0         |0                  |0             |0                      |0                   |0                  |0                 |0               |0              |0                  |0              |0          |0              |0              |0               |0               |0                   |0             |0           |0                 |0                  |0                   |0               |0              |0               |0             |0                |0               |0              |0                 |0              |0                 |0               |0                |0               |0               |0                |0                |0               |0         |0            |0               |0        |0                |0            |0                    |0                |0            |0              |0           |0                  |0              |0           |0              |0              |0                 |0               |\n",
      "|63465140133 |2022-08-25    |8.815286645396842 |3.68     |NULL             |8.490884069944117  |0              |0              |0              |1              |0              |0               |0              |0           |0             |0                  |0               |0              |0              |0              |0                |0              |0               |0                  |0                  |0           |0               |0                |0            |0            |0            |0               |0              |0            |0             |0                |0              |0                   |0                   |0             |0             |0                |0                  |0             |0                  |0             |0             |0                    |0             |0                 |0              |0                  |0                |0             |0              |0                  |0            |0             |0         |0                  |0             |0                      |0                   |0                  |0                 |0               |0              |0                  |0              |0          |0              |0              |0               |0               |0                   |0             |0           |0                 |0                  |0                   |0               |0              |0               |0             |0                |0               |0              |0                 |0              |0                 |0               |0                |0               |0               |0                |0                |0               |0         |0            |0               |0        |0                |0            |0                    |0                |0            |0              |0           |0                  |0              |0           |0              |0              |0                 |0               |\n",
      "|21359184622 |2022-08-25    |66.46301590693417 |3.6      |NULL             |64.07034834842969  |0              |0              |0              |1              |0              |0               |0              |0           |0             |0                  |0               |0              |0              |0              |0                |0              |0               |0                  |0                  |0           |0               |0                |0            |0            |0            |0               |0              |0            |0             |0                |0              |0                   |0                   |0             |0             |0                |0                  |0             |0                  |0             |0             |0                    |0             |0                 |0              |0                  |0                |0             |0              |0                  |0            |0             |0         |0                  |0             |0                      |0                   |0                  |0                 |0               |0              |0                  |0              |0          |0              |0              |0               |0               |0                   |0             |0           |0                 |0                  |0                   |0               |0              |0               |0             |0                |0               |0              |0                 |0              |0                 |0               |0                |0               |0               |0                |0                |0               |0         |0            |0               |0        |0                |0            |0                    |0                |0            |0              |0           |0                  |0              |0           |0              |0              |0                 |0               |\n",
      "|75034515922 |2022-08-25    |19.654995598411727|6.22     |NULL             |18.432454632261372 |0              |0              |0              |0              |1              |0               |0              |0           |0             |0                  |0               |0              |0              |0              |0                |0              |0               |0                  |0                  |0           |0               |0                |0            |0            |0            |0               |0              |0            |0             |0                |0              |0                   |0                   |0             |0             |0                |0                  |0             |0                  |0             |0             |0                    |0             |0                 |0              |0                  |0                |0             |0              |0                  |0            |0             |0         |0                  |0             |0                      |0                   |0                  |0                 |0               |0              |0                  |0              |0          |0              |0              |0               |0               |0                   |0             |0           |0                 |0                  |0                   |0               |0              |0               |0             |0                |0               |0              |0                 |0              |0                 |0               |0                |0               |0               |0                |0                |0               |0         |0            |0               |0        |0                |0            |0                    |0                |0            |0              |0           |0                  |0              |0           |0              |0              |0                 |0               |\n",
      "|96334476428 |2022-08-25    |6.383881161736656 |3.66     |NULL             |6.150230877432384  |0              |0              |0              |1              |0              |0               |0              |0           |0             |0                  |0               |0              |0              |0              |0                |0              |0               |0                  |0                  |0           |0               |0                |0            |0            |0            |0               |0              |0            |0             |0                |0              |0                   |0                   |0             |0             |0                |0                  |0             |0                  |0             |0             |0                    |0             |0                 |0              |0                  |0                |0             |0              |0                  |0            |0             |0         |0                  |0             |0                      |0                   |0                  |0                 |0               |0              |0                  |0              |0          |0              |0              |0               |0               |0                   |0             |0           |0                 |0                  |0                   |0               |0              |0               |0             |0                |0               |0              |0                 |0              |0                 |0               |0                |0               |0               |0                |0                |0               |0         |0            |0               |0        |0                |0            |0                    |0                |0            |0              |0           |0                  |0              |0           |0              |0              |0                 |0               |\n",
      "+------------+--------------+------------------+---------+-----------------+-------------------+---------------+---------------+---------------+---------------+---------------+----------------+---------------+------------+--------------+-------------------+----------------+---------------+---------------+---------------+-----------------+---------------+----------------+-------------------+-------------------+------------+----------------+-----------------+-------------+-------------+-------------+----------------+---------------+-------------+--------------+-----------------+---------------+--------------------+--------------------+--------------+--------------+-----------------+-------------------+--------------+-------------------+--------------+--------------+---------------------+--------------+------------------+---------------+-------------------+-----------------+--------------+---------------+-------------------+-------------+--------------+----------+-------------------+--------------+-----------------------+--------------------+-------------------+------------------+----------------+---------------+-------------------+---------------+-----------+---------------+---------------+----------------+----------------+--------------------+--------------+------------+------------------+-------------------+--------------------+----------------+---------------+----------------+--------------+-----------------+----------------+---------------+------------------+---------------+------------------+----------------+-----------------+----------------+----------------+-----------------+-----------------+----------------+----------+-------------+----------------+---------+-----------------+-------------+---------------------+-----------------+-------------+---------------+------------+-------------------+---------------+------------+---------------+---------------+------------------+----------------+\n",
      "only showing top 5 rows\n",
      "\n"
     ]
    }
   ],
   "source": [
    "# define a UDF to extract values from the vector (both Dense and Sparse vectors)\n",
    "def extract_vector_values(vector):\n",
    "    if vector is None:\n",
    "        return [0] * count_sub_category\n",
    "    if isinstance(vector, DenseVector):\n",
    "        return vector.toArray().tolist()\n",
    "    elif isinstance(vector, SparseVector):\n",
    "        return vector.toArray().tolist()\n",
    "    else:\n",
    "        return [0] * count_sub_category\n",
    "\n",
    "# register the UDF\n",
    "extract_vector_values_udf = udf(extract_vector_values, ArrayType(IntegerType()))\n",
    "\n",
    "# add a new column with the extracted values\n",
    "merchant_full_expanded = merchant_full_expanded.withColumn(\"category_binary_array\", \n",
    "                                                           extract_vector_values_udf(col(\"category_binary\")))\n",
    "\n",
    "# split the array into separate columns with specific category names\n",
    "for idx, word in index_word.items():\n",
    "    merchant_full_expanded = merchant_full_expanded.withColumn(f\"category_{word}\", \n",
    "                                                               col(\"category_binary_array\")[idx])\n",
    "\n",
    "# drop the temporary columns\n",
    "merchant_full_expanded = merchant_full_expanded.drop(\"category_binary\", \n",
    "                                                     \"category_binary_array\")\n",
    "\n",
    "# show the result\n",
    "merchant_full_expanded.show(5, truncate=False)"
   ]
  },
  {
   "cell_type": "markdown",
   "metadata": {},
   "source": [
    "### Apply One-Hot Encoding on `order_datetime` column"
   ]
  },
  {
   "cell_type": "code",
   "execution_count": 15,
   "metadata": {},
   "outputs": [
    {
     "name": "stdout",
     "output_type": "stream",
     "text": [
      "+------------+------------------+---------+-----------------+-------------------+---------------+---------------+---------------+---------------+---------------+----------------+---------------+------------+--------------+-------------------+----------------+---------------+---------------+---------------+-----------------+---------------+----------------+-------------------+-------------------+------------+----------------+-----------------+-------------+-------------+-------------+----------------+---------------+-------------+--------------+-----------------+---------------+--------------------+--------------------+--------------+--------------+-----------------+-------------------+--------------+-------------------+--------------+--------------+---------------------+--------------+------------------+---------------+-------------------+-----------------+--------------+---------------+-------------------+-------------+--------------+----------+-------------------+--------------+-----------------------+--------------------+-------------------+------------------+----------------+---------------+-------------------+---------------+-----------+---------------+---------------+----------------+----------------+--------------------+--------------+------------+------------------+-------------------+--------------------+----------------+---------------+----------------+--------------+-----------------+----------------+---------------+------------------+---------------+------------------+----------------+-----------------+----------------+----------------+-----------------+-----------------+----------------+----------+-------------+----------------+---------+-----------------+-------------+---------------------+-----------------+-------------+---------------+------------+-------------------+---------------+------------+---------------+---------------+------------------+----------------+----+-----+---+\n",
      "|merchant_abn|      dollar_value|take_rate|fraud_probability|transaction_revenue|revenue_level_e|revenue_level_d|revenue_level_c|revenue_level_b|revenue_level_a|category_jewelry|category_hobby,|category_art|category_parts|category_television|category_flowers|category_clock,|category_repair|category_office|category_souvenir|category_goods:|category_optical|category_integrated|category_satellite,|category_new|category_antique|category_outlets,|category_spas|category_shoe|category_tent|category_dealers|category_beauty|category_lawn|category_sheet|category_jewelry,|category_books,|category_programming|category_stationery,|category_radio|category_paper|category_software|category_peripheral|category_card,|category_opticians,|category_other|category_sales|category_periodicals,|category_craft|category_supplies,|category_awning|category_appliances|category_florists|category_shops|category_garden|category_computers,|category_data|category_music|category_-|category_silverware|category_gift,|category_manufacturers,|category_processing,|category_furniture,|category_galleries|category_digital|category_cable,|category_equipment,|category_except|category_al|category_artist|category_health|category_writing|category_musical|category_furnishings|category_tool,|category_and|category_nurseries|category_newspapers|category_restoration|category_telecom|category_goods,|category_systems|category_motor|category_computer|category_service|category_watch,|category_equipment|category_sales,|category_including|category_leasing|category_services|category_vehicle|category_movies,|category_novelty,|category_printing|category_pianos,|category_,|category_home|category_nursery|category_|category_repairs,|category_game|category_instruments,|category_supplies|category_rent|category_supply|category_pay|category_eyeglasses|category_design|category_toy|category_stock,|category_shops,|category_appliance|category_bicycle|year|month|day|\n",
      "+------------+------------------+---------+-----------------+-------------------+---------------+---------------+---------------+---------------+---------------+----------------+---------------+------------+--------------+-------------------+----------------+---------------+---------------+---------------+-----------------+---------------+----------------+-------------------+-------------------+------------+----------------+-----------------+-------------+-------------+-------------+----------------+---------------+-------------+--------------+-----------------+---------------+--------------------+--------------------+--------------+--------------+-----------------+-------------------+--------------+-------------------+--------------+--------------+---------------------+--------------+------------------+---------------+-------------------+-----------------+--------------+---------------+-------------------+-------------+--------------+----------+-------------------+--------------+-----------------------+--------------------+-------------------+------------------+----------------+---------------+-------------------+---------------+-----------+---------------+---------------+----------------+----------------+--------------------+--------------+------------+------------------+-------------------+--------------------+----------------+---------------+----------------+--------------+-----------------+----------------+---------------+------------------+---------------+------------------+----------------+-----------------+----------------+----------------+-----------------+-----------------+----------------+----------+-------------+----------------+---------+-----------------+-------------+---------------------+-----------------+-------------+---------------+------------+-------------------+---------------+------------+---------------+---------------+------------------+----------------+----+-----+---+\n",
      "| 63290521567|41.239626303220014|     6.48|             NULL|  38.56729713438449|              0|              0|              0|              0|              1|               0|              0|           0|             0|                  0|               0|              0|              0|              0|                0|              0|               0|                  0|                  0|           0|               0|                0|            0|            0|            0|               0|              0|            0|             0|                0|              0|                   0|                   0|             0|             0|                0|                  0|             0|                  0|             0|             0|                    0|             0|                 0|              0|                  0|                0|             0|              0|                  0|            0|             0|         0|                  0|             0|                      0|                   0|                  0|                 0|               0|              0|                  0|              0|          0|              0|              0|               0|               0|                   0|             0|           0|                 0|                  0|                   0|               0|              0|               0|             0|                0|               0|              0|                 0|              0|                 0|               0|                0|               0|               0|                0|                0|               0|         0|            0|               0|        0|                0|            0|                    0|                0|            0|              0|           0|                  0|              0|           0|              0|              0|                 0|               0|2022|    8| 25|\n",
      "| 63465140133| 8.815286645396842|     3.68|             NULL|  8.490884069944117|              0|              0|              0|              1|              0|               0|              0|           0|             0|                  0|               0|              0|              0|              0|                0|              0|               0|                  0|                  0|           0|               0|                0|            0|            0|            0|               0|              0|            0|             0|                0|              0|                   0|                   0|             0|             0|                0|                  0|             0|                  0|             0|             0|                    0|             0|                 0|              0|                  0|                0|             0|              0|                  0|            0|             0|         0|                  0|             0|                      0|                   0|                  0|                 0|               0|              0|                  0|              0|          0|              0|              0|               0|               0|                   0|             0|           0|                 0|                  0|                   0|               0|              0|               0|             0|                0|               0|              0|                 0|              0|                 0|               0|                0|               0|               0|                0|                0|               0|         0|            0|               0|        0|                0|            0|                    0|                0|            0|              0|           0|                  0|              0|           0|              0|              0|                 0|               0|2022|    8| 25|\n",
      "| 21359184622| 66.46301590693417|      3.6|             NULL|  64.07034834842969|              0|              0|              0|              1|              0|               0|              0|           0|             0|                  0|               0|              0|              0|              0|                0|              0|               0|                  0|                  0|           0|               0|                0|            0|            0|            0|               0|              0|            0|             0|                0|              0|                   0|                   0|             0|             0|                0|                  0|             0|                  0|             0|             0|                    0|             0|                 0|              0|                  0|                0|             0|              0|                  0|            0|             0|         0|                  0|             0|                      0|                   0|                  0|                 0|               0|              0|                  0|              0|          0|              0|              0|               0|               0|                   0|             0|           0|                 0|                  0|                   0|               0|              0|               0|             0|                0|               0|              0|                 0|              0|                 0|               0|                0|               0|               0|                0|                0|               0|         0|            0|               0|        0|                0|            0|                    0|                0|            0|              0|           0|                  0|              0|           0|              0|              0|                 0|               0|2022|    8| 25|\n",
      "| 75034515922|19.654995598411727|     6.22|             NULL| 18.432454632261372|              0|              0|              0|              0|              1|               0|              0|           0|             0|                  0|               0|              0|              0|              0|                0|              0|               0|                  0|                  0|           0|               0|                0|            0|            0|            0|               0|              0|            0|             0|                0|              0|                   0|                   0|             0|             0|                0|                  0|             0|                  0|             0|             0|                    0|             0|                 0|              0|                  0|                0|             0|              0|                  0|            0|             0|         0|                  0|             0|                      0|                   0|                  0|                 0|               0|              0|                  0|              0|          0|              0|              0|               0|               0|                   0|             0|           0|                 0|                  0|                   0|               0|              0|               0|             0|                0|               0|              0|                 0|              0|                 0|               0|                0|               0|               0|                0|                0|               0|         0|            0|               0|        0|                0|            0|                    0|                0|            0|              0|           0|                  0|              0|           0|              0|              0|                 0|               0|2022|    8| 25|\n",
      "| 96334476428| 6.383881161736656|     3.66|             NULL|  6.150230877432384|              0|              0|              0|              1|              0|               0|              0|           0|             0|                  0|               0|              0|              0|              0|                0|              0|               0|                  0|                  0|           0|               0|                0|            0|            0|            0|               0|              0|            0|             0|                0|              0|                   0|                   0|             0|             0|                0|                  0|             0|                  0|             0|             0|                    0|             0|                 0|              0|                  0|                0|             0|              0|                  0|            0|             0|         0|                  0|             0|                      0|                   0|                  0|                 0|               0|              0|                  0|              0|          0|              0|              0|               0|               0|                   0|             0|           0|                 0|                  0|                   0|               0|              0|               0|             0|                0|               0|              0|                 0|              0|                 0|               0|                0|               0|               0|                0|                0|               0|         0|            0|               0|        0|                0|            0|                    0|                0|            0|              0|           0|                  0|              0|           0|              0|              0|                 0|               0|2022|    8| 25|\n",
      "+------------+------------------+---------+-----------------+-------------------+---------------+---------------+---------------+---------------+---------------+----------------+---------------+------------+--------------+-------------------+----------------+---------------+---------------+---------------+-----------------+---------------+----------------+-------------------+-------------------+------------+----------------+-----------------+-------------+-------------+-------------+----------------+---------------+-------------+--------------+-----------------+---------------+--------------------+--------------------+--------------+--------------+-----------------+-------------------+--------------+-------------------+--------------+--------------+---------------------+--------------+------------------+---------------+-------------------+-----------------+--------------+---------------+-------------------+-------------+--------------+----------+-------------------+--------------+-----------------------+--------------------+-------------------+------------------+----------------+---------------+-------------------+---------------+-----------+---------------+---------------+----------------+----------------+--------------------+--------------+------------+------------------+-------------------+--------------------+----------------+---------------+----------------+--------------+-----------------+----------------+---------------+------------------+---------------+------------------+----------------+-----------------+----------------+----------------+-----------------+-----------------+----------------+----------+-------------+----------------+---------+-----------------+-------------+---------------------+-----------------+-------------+---------------+------------+-------------------+---------------+------------+---------------+---------------+------------------+----------------+----+-----+---+\n",
      "only showing top 5 rows\n",
      "\n"
     ]
    }
   ],
   "source": [
    "# extract year, month, date, and day of the week as new features\n",
    "merchant_full_expanded = merchant_full_expanded.withColumn(\"year\", year(\"order_datetime\"))\n",
    "merchant_full_expanded = merchant_full_expanded.withColumn(\"month\", month(\"order_datetime\"))\n",
    "merchant_full_expanded = merchant_full_expanded.withColumn(\"day\", dayofmonth(\"order_datetime\"))\n",
    "\n",
    "# drop original column\n",
    "merchant_full_expanded = merchant_full_expanded.drop(\"order_datetime\")\n",
    "merchant_full_expanded.show(5)"
   ]
  },
  {
   "cell_type": "code",
   "execution_count": 16,
   "metadata": {},
   "outputs": [
    {
     "name": "stdout",
     "output_type": "stream",
     "text": [
      "+------------+------------------+---------+-----------------+-------------------+---------------+---------------+---------------+---------------+---------------+----------------+---------------+------------+--------------+-------------------+----------------+---------------+---------------+---------------+-----------------+---------------+----------------+-------------------+-------------------+------------+----------------+-----------------+-------------+-------------+-------------+----------------+---------------+-------------+--------------+-----------------+---------------+--------------------+--------------------+--------------+--------------+-----------------+-------------------+--------------+-------------------+--------------+--------------+---------------------+--------------+------------------+---------------+-------------------+-----------------+--------------+---------------+-------------------+-------------+--------------+----------+-------------------+--------------+-----------------------+--------------------+-------------------+------------------+----------------+---------------+-------------------+---------------+-----------+---------------+---------------+----------------+----------------+--------------------+--------------+------------+------------------+-------------------+--------------------+----------------+---------------+----------------+--------------+-----------------+----------------+---------------+------------------+---------------+------------------+----------------+-----------------+----------------+----------------+-----------------+-----------------+----------------+----------+-------------+----------------+---------+-----------------+-------------+---------------------+-----------------+-------------+---------------+------------+-------------------+---------------+------------+---------------+---------------+------------------+----------------+---------+---------+-------+-------+-------+-------+-------+-------+-------+--------+--------+--------+-------+-------+------+------+------+------+------+------+-----+------+------+-----+-----+------+-----+------+------+------+-----+-----+-----+------+-----+------+------+------+------+------+------+------+-----+------+------+\n",
      "|merchant_abn|      dollar_value|take_rate|fraud_probability|transaction_revenue|revenue_level_e|revenue_level_d|revenue_level_c|revenue_level_b|revenue_level_a|category_jewelry|category_hobby,|category_art|category_parts|category_television|category_flowers|category_clock,|category_repair|category_office|category_souvenir|category_goods:|category_optical|category_integrated|category_satellite,|category_new|category_antique|category_outlets,|category_spas|category_shoe|category_tent|category_dealers|category_beauty|category_lawn|category_sheet|category_jewelry,|category_books,|category_programming|category_stationery,|category_radio|category_paper|category_software|category_peripheral|category_card,|category_opticians,|category_other|category_sales|category_periodicals,|category_craft|category_supplies,|category_awning|category_appliances|category_florists|category_shops|category_garden|category_computers,|category_data|category_music|category_-|category_silverware|category_gift,|category_manufacturers,|category_processing,|category_furniture,|category_galleries|category_digital|category_cable,|category_equipment,|category_except|category_al|category_artist|category_health|category_writing|category_musical|category_furnishings|category_tool,|category_and|category_nurseries|category_newspapers|category_restoration|category_telecom|category_goods,|category_systems|category_motor|category_computer|category_service|category_watch,|category_equipment|category_sales,|category_including|category_leasing|category_services|category_vehicle|category_movies,|category_novelty,|category_printing|category_pianos,|category_,|category_home|category_nursery|category_|category_repairs,|category_game|category_instruments,|category_supplies|category_rent|category_supply|category_pay|category_eyeglasses|category_design|category_toy|category_stock,|category_shops,|category_appliance|category_bicycle|year_2022|year_2021|month_6|month_3|month_5|month_9|month_4|month_8|month_7|month_12|month_10|month_11|month_2|month_1|day_31|day_28|day_27|day_26|day_12|day_22|day_1|day_13|day_16|day_6|day_3|day_20|day_5|day_19|day_15|day_17|day_9|day_4|day_8|day_23|day_7|day_10|day_25|day_24|day_29|day_21|day_11|day_14|day_2|day_30|day_18|\n",
      "+------------+------------------+---------+-----------------+-------------------+---------------+---------------+---------------+---------------+---------------+----------------+---------------+------------+--------------+-------------------+----------------+---------------+---------------+---------------+-----------------+---------------+----------------+-------------------+-------------------+------------+----------------+-----------------+-------------+-------------+-------------+----------------+---------------+-------------+--------------+-----------------+---------------+--------------------+--------------------+--------------+--------------+-----------------+-------------------+--------------+-------------------+--------------+--------------+---------------------+--------------+------------------+---------------+-------------------+-----------------+--------------+---------------+-------------------+-------------+--------------+----------+-------------------+--------------+-----------------------+--------------------+-------------------+------------------+----------------+---------------+-------------------+---------------+-----------+---------------+---------------+----------------+----------------+--------------------+--------------+------------+------------------+-------------------+--------------------+----------------+---------------+----------------+--------------+-----------------+----------------+---------------+------------------+---------------+------------------+----------------+-----------------+----------------+----------------+-----------------+-----------------+----------------+----------+-------------+----------------+---------+-----------------+-------------+---------------------+-----------------+-------------+---------------+------------+-------------------+---------------+------------+---------------+---------------+------------------+----------------+---------+---------+-------+-------+-------+-------+-------+-------+-------+--------+--------+--------+-------+-------+------+------+------+------+------+------+-----+------+------+-----+-----+------+-----+------+------+------+-----+-----+-----+------+-----+------+------+------+------+------+------+------+-----+------+------+\n",
      "| 63290521567|41.239626303220014|     6.48|             NULL|  38.56729713438449|              0|              0|              0|              0|              1|               0|              0|           0|             0|                  0|               0|              0|              0|              0|                0|              0|               0|                  0|                  0|           0|               0|                0|            0|            0|            0|               0|              0|            0|             0|                0|              0|                   0|                   0|             0|             0|                0|                  0|             0|                  0|             0|             0|                    0|             0|                 0|              0|                  0|                0|             0|              0|                  0|            0|             0|         0|                  0|             0|                      0|                   0|                  0|                 0|               0|              0|                  0|              0|          0|              0|              0|               0|               0|                   0|             0|           0|                 0|                  0|                   0|               0|              0|               0|             0|                0|               0|              0|                 0|              0|                 0|               0|                0|               0|               0|                0|                0|               0|         0|            0|               0|        0|                0|            0|                    0|                0|            0|              0|           0|                  0|              0|           0|              0|              0|                 0|               0|        1|        0|      0|      0|      0|      0|      0|      1|      0|       0|       0|       0|      0|      0|     0|     0|     0|     0|     0|     0|    0|     0|     0|    0|    0|     0|    0|     0|     0|     0|    0|    0|    0|     0|    0|     0|     1|     0|     0|     0|     0|     0|    0|     0|     0|\n",
      "| 63465140133| 8.815286645396842|     3.68|             NULL|  8.490884069944117|              0|              0|              0|              1|              0|               0|              0|           0|             0|                  0|               0|              0|              0|              0|                0|              0|               0|                  0|                  0|           0|               0|                0|            0|            0|            0|               0|              0|            0|             0|                0|              0|                   0|                   0|             0|             0|                0|                  0|             0|                  0|             0|             0|                    0|             0|                 0|              0|                  0|                0|             0|              0|                  0|            0|             0|         0|                  0|             0|                      0|                   0|                  0|                 0|               0|              0|                  0|              0|          0|              0|              0|               0|               0|                   0|             0|           0|                 0|                  0|                   0|               0|              0|               0|             0|                0|               0|              0|                 0|              0|                 0|               0|                0|               0|               0|                0|                0|               0|         0|            0|               0|        0|                0|            0|                    0|                0|            0|              0|           0|                  0|              0|           0|              0|              0|                 0|               0|        1|        0|      0|      0|      0|      0|      0|      1|      0|       0|       0|       0|      0|      0|     0|     0|     0|     0|     0|     0|    0|     0|     0|    0|    0|     0|    0|     0|     0|     0|    0|    0|    0|     0|    0|     0|     1|     0|     0|     0|     0|     0|    0|     0|     0|\n",
      "| 21359184622| 66.46301590693417|      3.6|             NULL|  64.07034834842969|              0|              0|              0|              1|              0|               0|              0|           0|             0|                  0|               0|              0|              0|              0|                0|              0|               0|                  0|                  0|           0|               0|                0|            0|            0|            0|               0|              0|            0|             0|                0|              0|                   0|                   0|             0|             0|                0|                  0|             0|                  0|             0|             0|                    0|             0|                 0|              0|                  0|                0|             0|              0|                  0|            0|             0|         0|                  0|             0|                      0|                   0|                  0|                 0|               0|              0|                  0|              0|          0|              0|              0|               0|               0|                   0|             0|           0|                 0|                  0|                   0|               0|              0|               0|             0|                0|               0|              0|                 0|              0|                 0|               0|                0|               0|               0|                0|                0|               0|         0|            0|               0|        0|                0|            0|                    0|                0|            0|              0|           0|                  0|              0|           0|              0|              0|                 0|               0|        1|        0|      0|      0|      0|      0|      0|      1|      0|       0|       0|       0|      0|      0|     0|     0|     0|     0|     0|     0|    0|     0|     0|    0|    0|     0|    0|     0|     0|     0|    0|    0|    0|     0|    0|     0|     1|     0|     0|     0|     0|     0|    0|     0|     0|\n",
      "| 75034515922|19.654995598411727|     6.22|             NULL| 18.432454632261372|              0|              0|              0|              0|              1|               0|              0|           0|             0|                  0|               0|              0|              0|              0|                0|              0|               0|                  0|                  0|           0|               0|                0|            0|            0|            0|               0|              0|            0|             0|                0|              0|                   0|                   0|             0|             0|                0|                  0|             0|                  0|             0|             0|                    0|             0|                 0|              0|                  0|                0|             0|              0|                  0|            0|             0|         0|                  0|             0|                      0|                   0|                  0|                 0|               0|              0|                  0|              0|          0|              0|              0|               0|               0|                   0|             0|           0|                 0|                  0|                   0|               0|              0|               0|             0|                0|               0|              0|                 0|              0|                 0|               0|                0|               0|               0|                0|                0|               0|         0|            0|               0|        0|                0|            0|                    0|                0|            0|              0|           0|                  0|              0|           0|              0|              0|                 0|               0|        1|        0|      0|      0|      0|      0|      0|      1|      0|       0|       0|       0|      0|      0|     0|     0|     0|     0|     0|     0|    0|     0|     0|    0|    0|     0|    0|     0|     0|     0|    0|    0|    0|     0|    0|     0|     1|     0|     0|     0|     0|     0|    0|     0|     0|\n",
      "| 96334476428| 6.383881161736656|     3.66|             NULL|  6.150230877432384|              0|              0|              0|              1|              0|               0|              0|           0|             0|                  0|               0|              0|              0|              0|                0|              0|               0|                  0|                  0|           0|               0|                0|            0|            0|            0|               0|              0|            0|             0|                0|              0|                   0|                   0|             0|             0|                0|                  0|             0|                  0|             0|             0|                    0|             0|                 0|              0|                  0|                0|             0|              0|                  0|            0|             0|         0|                  0|             0|                      0|                   0|                  0|                 0|               0|              0|                  0|              0|          0|              0|              0|               0|               0|                   0|             0|           0|                 0|                  0|                   0|               0|              0|               0|             0|                0|               0|              0|                 0|              0|                 0|               0|                0|               0|               0|                0|                0|               0|         0|            0|               0|        0|                0|            0|                    0|                0|            0|              0|           0|                  0|              0|           0|              0|              0|                 0|               0|        1|        0|      0|      0|      0|      0|      0|      1|      0|       0|       0|       0|      0|      0|     0|     0|     0|     0|     0|     0|    0|     0|     0|    0|    0|     0|    0|     0|     0|     0|    0|    0|    0|     0|    0|     0|     1|     0|     0|     0|     0|     0|    0|     0|     0|\n",
      "+------------+------------------+---------+-----------------+-------------------+---------------+---------------+---------------+---------------+---------------+----------------+---------------+------------+--------------+-------------------+----------------+---------------+---------------+---------------+-----------------+---------------+----------------+-------------------+-------------------+------------+----------------+-----------------+-------------+-------------+-------------+----------------+---------------+-------------+--------------+-----------------+---------------+--------------------+--------------------+--------------+--------------+-----------------+-------------------+--------------+-------------------+--------------+--------------+---------------------+--------------+------------------+---------------+-------------------+-----------------+--------------+---------------+-------------------+-------------+--------------+----------+-------------------+--------------+-----------------------+--------------------+-------------------+------------------+----------------+---------------+-------------------+---------------+-----------+---------------+---------------+----------------+----------------+--------------------+--------------+------------+------------------+-------------------+--------------------+----------------+---------------+----------------+--------------+-----------------+----------------+---------------+------------------+---------------+------------------+----------------+-----------------+----------------+----------------+-----------------+-----------------+----------------+----------+-------------+----------------+---------+-----------------+-------------+---------------------+-----------------+-------------+---------------+------------+-------------------+---------------+------------+---------------+---------------+------------------+----------------+---------+---------+-------+-------+-------+-------+-------+-------+-------+--------+--------+--------+-------+-------+------+------+------+------+------+------+-----+------+------+-----+-----+------+-----+------+------+------+-----+-----+-----+------+-----+------+------+------+------+------+------+------+-----+------+------+\n",
      "only showing top 5 rows\n",
      "\n"
     ]
    }
   ],
   "source": [
    "# One-Hot encode the `year` column\n",
    "years = merchant_full_expanded.select(\"year\").distinct().rdd.flatMap(lambda x: x).collect()\n",
    "for year in years:\n",
    "    merchant_full_expanded = merchant_full_expanded.withColumn(f\"year_{year}\", \n",
    "                                                               when(col(\"year\") == year, 1)\\\n",
    "                                                               .otherwise(0))\n",
    "\n",
    "# One-Hot encode the `month` column\n",
    "months = merchant_full_expanded.select(\"month\").distinct().rdd.flatMap(lambda x: x).collect()\n",
    "for month in months:\n",
    "    merchant_full_expanded = merchant_full_expanded.withColumn(f\"month_{month}\", \n",
    "                                                               when(col(\"month\") == month, 1)\\\n",
    "                                                               .otherwise(0))\n",
    "\n",
    "# One-Hot encode the `day` column\n",
    "days = merchant_full_expanded.select(\"day\").distinct().rdd.flatMap(lambda x: x).collect()\n",
    "for day in days:\n",
    "    merchant_full_expanded = merchant_full_expanded.withColumn(f\"day_{day}\", \n",
    "                                                               when(col(\"day\") == day, 1)\\\n",
    "                                                               .otherwise(0))\n",
    "\n",
    "# drop original columns\n",
    "merchant_full_expanded = merchant_full_expanded.drop(\"year\", \"month\", \"day\")\n",
    "merchant_full_expanded.show(5)"
   ]
  },
  {
   "cell_type": "markdown",
   "metadata": {},
   "source": [
    "### Check the shape of transformed dataset"
   ]
  },
  {
   "cell_type": "code",
   "execution_count": 17,
   "metadata": {},
   "outputs": [
    {
     "name": "stdout",
     "output_type": "stream",
     "text": [
      "Number of rows: 13614675\n",
      "Number of columns: 159\n"
     ]
    }
   ],
   "source": [
    "num_rows = merchant_full_expanded.count()\n",
    "print(f\"Number of rows: {num_rows}\")\n",
    "\n",
    "num_columns = len(merchant_full_expanded.columns)\n",
    "print(f\"Number of columns: {num_columns}\")"
   ]
  },
  {
   "cell_type": "code",
   "execution_count": 18,
   "metadata": {},
   "outputs": [
    {
     "name": "stderr",
     "output_type": "stream",
     "text": [
      "                                                                                \r"
     ]
    }
   ],
   "source": [
    "# save as a parquet file\n",
    "merchant_full_expanded.write.parquet('../data/curated/merchant_full_expanded', mode='overwrite')"
   ]
  }
 ],
 "metadata": {
  "kernelspec": {
   "display_name": "base",
   "language": "python",
   "name": "python3"
  },
  "language_info": {
   "codemirror_mode": {
    "name": "ipython",
    "version": 3
   },
   "file_extension": ".py",
   "mimetype": "text/x-python",
   "name": "python",
   "nbconvert_exporter": "python",
   "pygments_lexer": "ipython3",
   "version": "3.11.3"
  }
 },
 "nbformat": 4,
 "nbformat_minor": 2
}
