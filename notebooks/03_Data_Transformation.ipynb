{
 "cells": [
  {
   "cell_type": "markdown",
   "metadata": {},
   "source": [
    "# Data Transformation"
   ]
  },
  {
   "cell_type": "markdown",
   "metadata": {},
   "source": [
    "This notebook involves the One-Hot Encoding and hashing on categorical data, and convert the `order_datetime` to timestamps."
   ]
  },
  {
   "cell_type": "markdown",
   "metadata": {},
   "source": [
    "---"
   ]
  },
  {
   "cell_type": "code",
   "execution_count": 1,
   "metadata": {},
   "outputs": [],
   "source": [
    "from pyspark.sql import SparkSession\n",
    "from pyspark.sql.functions import* \n",
    "from pyspark.sql.functions import split\n",
    "from pyspark.sql.functions import year, month, dayofmonth\n",
    "from pyspark.sql.functions import col, when, split, udf\n",
    "from pyspark.sql.types import ArrayType, IntegerType\n",
    "from pyspark.ml.linalg import DenseVector, SparseVector\n",
    "from pyspark.ml.feature import HashingTF, StringIndexer"
   ]
  },
  {
   "cell_type": "code",
   "execution_count": 2,
   "metadata": {},
   "outputs": [
    {
     "name": "stderr",
     "output_type": "stream",
     "text": [
      "24/09/19 13:45:36 WARN Utils: Your hostname, Cocos-MacBook-Air.local resolves to a loopback address: 127.0.0.1; using 10.12.210.64 instead (on interface en0)\n",
      "24/09/19 13:45:36 WARN Utils: Set SPARK_LOCAL_IP if you need to bind to another address\n",
      "Setting default log level to \"WARN\".\n",
      "To adjust logging level use sc.setLogLevel(newLevel). For SparkR, use setLogLevel(newLevel).\n",
      "24/09/19 13:45:37 WARN NativeCodeLoader: Unable to load native-hadoop library for your platform... using builtin-java classes where applicable\n"
     ]
    }
   ],
   "source": [
    "spark = (\n",
    "    SparkSession.builder.appName(\"Transformation\")\n",
    "    .config(\"spark.sql.repl.eagerEval.enabled\", True) \n",
    "    .config(\"spark.driver.memory\", \"8G\")\n",
    "    .config(\"spark.executor.memory\", \"8G\")\n",
    "    .config(\"spark.sql.parquet.cacheMetadata\", \"true\")\n",
    "    .config(\"spark.sql.session.timeZone\", \"Etc/UTC\")\n",
    "    .config(\"spark.sql.debug.maxToStringFields\", 200)\n",
    "    .getOrCreate()\n",
    ")"
   ]
  },
  {
   "cell_type": "markdown",
   "metadata": {},
   "source": [
    "# Read datasets"
   ]
  },
  {
   "cell_type": "code",
   "execution_count": 3,
   "metadata": {},
   "outputs": [
    {
     "name": "stderr",
     "output_type": "stream",
     "text": [
      "                                                                                \r"
     ]
    }
   ],
   "source": [
    "# read datasets\n",
    "consumer_full = spark.read.parquet('../data/curated/consumer_full')\n",
    "merchant_full = spark.read.parquet('../data/curated/merchant_full')"
   ]
  },
  {
   "cell_type": "code",
   "execution_count": 4,
   "metadata": {},
   "outputs": [
    {
     "name": "stdout",
     "output_type": "stream",
     "text": [
      "+--------+-------+--------------+-----------+------------------+-----+------+------------+------------------+--------------------+-----------------+------------------+---------------+--------------------------+------------------------+---------------+----------------------+------------------------+----------------------+------------------+---------------------+\n",
      "|postcode|user_id|order_datetime|consumer_id|              name|state|gender|merchant_abn|      dollar_value|            order_id|fraud_probability|average_population|avg_age_persons|avg_mortgage_repay_monthly|avg_tot_prsnl_inc_weekly|avg_rent_weekly|avg_tot_fam_inc_weekly|avg_num_psns_per_bedroom|avg_tot_hhd_inc_weekly|avg_household_size|avg_unemployment_rate|\n",
      "+--------+-------+--------------+-----------+------------------+-----+------+------------+------------------+--------------------+-----------------+------------------+---------------+--------------------------+------------------------+---------------+----------------------+------------------------+----------------------+------------------+---------------------+\n",
      "|    6519|  11138|    2022-08-25|     401483|   Veronica Nelson|   WA|Female| 63290521567|41.239626303220014|09f6132a-a6a8-47a...|             NULL|            3993.5|           47.0|                     800.0|                   768.0|          175.0|                1684.0|                     0.7|                1310.0|               2.2|                  4.2|\n",
      "|    6170|  22285|    2022-08-25|     416278|       Luke Greene|   WA|  Male| 63465140133| 8.815286645396842|f4fc1a3b-a5b1-4d7...|             NULL|           26855.0|           35.0|                    1550.0|                   768.0|          312.5|                1864.0|                    0.75|                1640.5|               2.7|                  8.2|\n",
      "|    2281|  11139|    2022-08-25|     505718|    Monica Garrett|  NSW|Female| 21359184622| 66.46301590693417|b1a52524-b6e6-42a...|             NULL|           18275.5|           49.0|                    1940.0|                   669.5|          345.0|                1752.5|                     0.8|                1329.5|2.3499999999999996|                  5.5|\n",
      "|    6170|  22285|    2022-08-25|     416278|       Luke Greene|   WA|  Male| 75034515922|19.654995598411727|ba240514-5dea-405...|             NULL|           26855.0|           35.0|                    1550.0|                   768.0|          312.5|                1864.0|                    0.75|                1640.5|               2.7|                  8.2|\n",
      "|    3677|  11140|    2022-08-25|     813297|Benjamin Schneider|  VIC|  Male| 96334476428| 6.383881161736656|3f1c61aa-6b5b-4c8...|             NULL|           19922.0|           44.0|                    1300.0|                   708.0|          260.0|                1732.0|                     0.7|                1242.0|               2.2|                  3.5|\n",
      "+--------+-------+--------------+-----------+------------------+-----+------+------------+------------------+--------------------+-----------------+------------------+---------------+--------------------------+------------------------+---------------+----------------------+------------------------+----------------------+------------------+---------------------+\n",
      "only showing top 5 rows\n",
      "\n"
     ]
    }
   ],
   "source": [
    "consumer_full.show(5)"
   ]
  },
  {
   "cell_type": "code",
   "execution_count": 5,
   "metadata": {},
   "outputs": [
    {
     "name": "stdout",
     "output_type": "stream",
     "text": [
      "root\n",
      " |-- postcode: integer (nullable = true)\n",
      " |-- user_id: long (nullable = true)\n",
      " |-- order_datetime: date (nullable = true)\n",
      " |-- consumer_id: long (nullable = true)\n",
      " |-- name: string (nullable = true)\n",
      " |-- state: string (nullable = true)\n",
      " |-- gender: string (nullable = true)\n",
      " |-- merchant_abn: long (nullable = true)\n",
      " |-- dollar_value: double (nullable = true)\n",
      " |-- order_id: string (nullable = true)\n",
      " |-- fraud_probability: double (nullable = true)\n",
      " |-- average_population: double (nullable = true)\n",
      " |-- avg_age_persons: double (nullable = true)\n",
      " |-- avg_mortgage_repay_monthly: double (nullable = true)\n",
      " |-- avg_tot_prsnl_inc_weekly: double (nullable = true)\n",
      " |-- avg_rent_weekly: double (nullable = true)\n",
      " |-- avg_tot_fam_inc_weekly: double (nullable = true)\n",
      " |-- avg_num_psns_per_bedroom: double (nullable = true)\n",
      " |-- avg_tot_hhd_inc_weekly: double (nullable = true)\n",
      " |-- avg_household_size: double (nullable = true)\n",
      " |-- avg_unemployment_rate: double (nullable = true)\n",
      "\n"
     ]
    }
   ],
   "source": [
    "consumer_full.printSchema()"
   ]
  },
  {
   "cell_type": "code",
   "execution_count": 6,
   "metadata": {},
   "outputs": [
    {
     "name": "stdout",
     "output_type": "stream",
     "text": [
      "+--------------------+------------+--------------+-------+------------------+-------------------+-------------+---------+--------------------+-----------------+-------------------+------------------+\n",
      "|            order_id|merchant_abn|order_datetime|user_id|      dollar_value|               name|revenue_level|take_rate|  processed_category|fraud_probability|transaction_revenue|      BNPL_revenue|\n",
      "+--------------------+------------+--------------+-------+------------------+-------------------+-------------+---------+--------------------+-----------------+-------------------+------------------+\n",
      "|0000043e-7a3f-410...| 98973094975|    2021-05-20|   3663|231.41970775401066|  ornare fusce inc.|            a|     5.98|game shop hobby t...|             NULL|  217.5808014617149|13.838898567829645|\n",
      "|000063c2-e78b-448...| 15903176024|    2021-12-12|  15072|227.79073108694692| adipiscing elit pc|            c|     2.34|nursery lawn supp...|             NULL| 222.46043632145808| 5.330302911920205|\n",
      "|00006b44-0557-4b7...| 74764807084|    2022-09-15|  14122| 173.2625432035097|amet ornare limited|            a|     5.53|           shop shoe|             NULL|  163.6811266793769| 9.581419002673368|\n",
      "|00006c1e-31e4-47c...| 34179569263|    2021-12-27|   9526|109.57507568594808|     sodales at llc|            b|     4.72|instrument musica...|             NULL| 104.40313077598495| 5.171943342479092|\n",
      "|00008545-6760-47c...| 64203420245|    2021-04-13|  22781|22.250895272267204| pede nonummy corp.|            c|     2.86|and shop awning tent|             NULL| 21.614519531671675| 0.636375581444724|\n",
      "+--------------------+------------+--------------+-------+------------------+-------------------+-------------+---------+--------------------+-----------------+-------------------+------------------+\n",
      "only showing top 5 rows\n",
      "\n"
     ]
    }
   ],
   "source": [
    "merchant_full.show(5)"
   ]
  },
  {
   "cell_type": "code",
   "execution_count": 7,
   "metadata": {},
   "outputs": [
    {
     "name": "stdout",
     "output_type": "stream",
     "text": [
      "root\n",
      " |-- order_id: string (nullable = true)\n",
      " |-- merchant_abn: long (nullable = true)\n",
      " |-- order_datetime: date (nullable = true)\n",
      " |-- user_id: long (nullable = true)\n",
      " |-- dollar_value: double (nullable = true)\n",
      " |-- name: string (nullable = true)\n",
      " |-- revenue_level: string (nullable = true)\n",
      " |-- take_rate: float (nullable = true)\n",
      " |-- processed_category: string (nullable = true)\n",
      " |-- fraud_probability: double (nullable = true)\n",
      " |-- transaction_revenue: double (nullable = true)\n",
      " |-- BNPL_revenue: double (nullable = true)\n",
      "\n"
     ]
    }
   ],
   "source": [
    "merchant_full.printSchema()"
   ]
  },
  {
   "cell_type": "markdown",
   "metadata": {},
   "source": [
    "# Consumer data transformation"
   ]
  },
  {
   "cell_type": "markdown",
   "metadata": {},
   "source": [
    "### Apply One-Hot Encoding on `state` column"
   ]
  },
  {
   "cell_type": "code",
   "execution_count": 8,
   "metadata": {},
   "outputs": [
    {
     "name": "stderr",
     "output_type": "stream",
     "text": [
      "                                                                                \r"
     ]
    },
    {
     "name": "stdout",
     "output_type": "stream",
     "text": [
      "+--------+-------+--------------+-----------+------------------+------+------------+------------------+--------------------+-----------------+------------------+---------------+--------------------------+------------------------+---------------+----------------------+------------------------+----------------------+------------------+---------------------+--------+---------+--------+---------+--------+---------+---------+---------+\n",
      "|postcode|user_id|order_datetime|consumer_id|              name|gender|merchant_abn|      dollar_value|            order_id|fraud_probability|average_population|avg_age_persons|avg_mortgage_repay_monthly|avg_tot_prsnl_inc_weekly|avg_rent_weekly|avg_tot_fam_inc_weekly|avg_num_psns_per_bedroom|avg_tot_hhd_inc_weekly|avg_household_size|avg_unemployment_rate|state_NT|state_ACT|state_SA|state_TAS|state_WA|state_QLD|state_VIC|state_NSW|\n",
      "+--------+-------+--------------+-----------+------------------+------+------------+------------------+--------------------+-----------------+------------------+---------------+--------------------------+------------------------+---------------+----------------------+------------------------+----------------------+------------------+---------------------+--------+---------+--------+---------+--------+---------+---------+---------+\n",
      "|    6519|  11138|    2022-08-25|     401483|   Veronica Nelson|Female| 63290521567|41.239626303220014|09f6132a-a6a8-47a...|             NULL|            3993.5|           47.0|                     800.0|                   768.0|          175.0|                1684.0|                     0.7|                1310.0|               2.2|                  4.2|       0|        0|       0|        0|       1|        0|        0|        0|\n",
      "|    6170|  22285|    2022-08-25|     416278|       Luke Greene|  Male| 63465140133| 8.815286645396842|f4fc1a3b-a5b1-4d7...|             NULL|           26855.0|           35.0|                    1550.0|                   768.0|          312.5|                1864.0|                    0.75|                1640.5|               2.7|                  8.2|       0|        0|       0|        0|       1|        0|        0|        0|\n",
      "|    2281|  11139|    2022-08-25|     505718|    Monica Garrett|Female| 21359184622| 66.46301590693417|b1a52524-b6e6-42a...|             NULL|           18275.5|           49.0|                    1940.0|                   669.5|          345.0|                1752.5|                     0.8|                1329.5|2.3499999999999996|                  5.5|       0|        0|       0|        0|       0|        0|        0|        1|\n",
      "|    6170|  22285|    2022-08-25|     416278|       Luke Greene|  Male| 75034515922|19.654995598411727|ba240514-5dea-405...|             NULL|           26855.0|           35.0|                    1550.0|                   768.0|          312.5|                1864.0|                    0.75|                1640.5|               2.7|                  8.2|       0|        0|       0|        0|       1|        0|        0|        0|\n",
      "|    3677|  11140|    2022-08-25|     813297|Benjamin Schneider|  Male| 96334476428| 6.383881161736656|3f1c61aa-6b5b-4c8...|             NULL|           19922.0|           44.0|                    1300.0|                   708.0|          260.0|                1732.0|                     0.7|                1242.0|               2.2|                  3.5|       0|        0|       0|        0|       0|        0|        1|        0|\n",
      "+--------+-------+--------------+-----------+------------------+------+------------+------------------+--------------------+-----------------+------------------+---------------+--------------------------+------------------------+---------------+----------------------+------------------------+----------------------+------------------+---------------------+--------+---------+--------+---------+--------+---------+---------+---------+\n",
      "only showing top 5 rows\n",
      "\n"
     ]
    }
   ],
   "source": [
    "states = consumer_full.select(\"state\").distinct().rdd.flatMap(lambda x: x).collect()\n",
    "\n",
    "for state in states:\n",
    "    consumer_full = consumer_full.withColumn(f\"state_{state}\", when(col(\"state\") == state, 1).otherwise(0))\n",
    "\n",
    "consumer_full_expanded = consumer_full.drop(\"state\")\n",
    "consumer_full_expanded.show(5)"
   ]
  },
  {
   "cell_type": "markdown",
   "metadata": {},
   "source": [
    "### Apply One-Hot Encoding on `gender` column"
   ]
  },
  {
   "cell_type": "code",
   "execution_count": 9,
   "metadata": {},
   "outputs": [
    {
     "name": "stdout",
     "output_type": "stream",
     "text": [
      "+--------+-------+--------------+-----------+------------------+-----+------------+------------------+--------------------+-----------------+------------------+---------------+--------------------------+------------------------+---------------+----------------------+------------------------+----------------------+------------------+---------------------+--------+---------+--------+---------+--------+---------+---------+---------+------------------+-------------+-----------+\n",
      "|postcode|user_id|order_datetime|consumer_id|              name|state|merchant_abn|      dollar_value|            order_id|fraud_probability|average_population|avg_age_persons|avg_mortgage_repay_monthly|avg_tot_prsnl_inc_weekly|avg_rent_weekly|avg_tot_fam_inc_weekly|avg_num_psns_per_bedroom|avg_tot_hhd_inc_weekly|avg_household_size|avg_unemployment_rate|state_NT|state_ACT|state_SA|state_TAS|state_WA|state_QLD|state_VIC|state_NSW|gender_Undisclosed|gender_Female|gender_Male|\n",
      "+--------+-------+--------------+-----------+------------------+-----+------------+------------------+--------------------+-----------------+------------------+---------------+--------------------------+------------------------+---------------+----------------------+------------------------+----------------------+------------------+---------------------+--------+---------+--------+---------+--------+---------+---------+---------+------------------+-------------+-----------+\n",
      "|    6519|  11138|    2022-08-25|     401483|   Veronica Nelson|   WA| 63290521567|41.239626303220014|09f6132a-a6a8-47a...|             NULL|            3993.5|           47.0|                     800.0|                   768.0|          175.0|                1684.0|                     0.7|                1310.0|               2.2|                  4.2|       0|        0|       0|        0|       1|        0|        0|        0|                 0|            1|          0|\n",
      "|    6170|  22285|    2022-08-25|     416278|       Luke Greene|   WA| 63465140133| 8.815286645396842|f4fc1a3b-a5b1-4d7...|             NULL|           26855.0|           35.0|                    1550.0|                   768.0|          312.5|                1864.0|                    0.75|                1640.5|               2.7|                  8.2|       0|        0|       0|        0|       1|        0|        0|        0|                 0|            0|          1|\n",
      "|    2281|  11139|    2022-08-25|     505718|    Monica Garrett|  NSW| 21359184622| 66.46301590693417|b1a52524-b6e6-42a...|             NULL|           18275.5|           49.0|                    1940.0|                   669.5|          345.0|                1752.5|                     0.8|                1329.5|2.3499999999999996|                  5.5|       0|        0|       0|        0|       0|        0|        0|        1|                 0|            1|          0|\n",
      "|    6170|  22285|    2022-08-25|     416278|       Luke Greene|   WA| 75034515922|19.654995598411727|ba240514-5dea-405...|             NULL|           26855.0|           35.0|                    1550.0|                   768.0|          312.5|                1864.0|                    0.75|                1640.5|               2.7|                  8.2|       0|        0|       0|        0|       1|        0|        0|        0|                 0|            0|          1|\n",
      "|    3677|  11140|    2022-08-25|     813297|Benjamin Schneider|  VIC| 96334476428| 6.383881161736656|3f1c61aa-6b5b-4c8...|             NULL|           19922.0|           44.0|                    1300.0|                   708.0|          260.0|                1732.0|                     0.7|                1242.0|               2.2|                  3.5|       0|        0|       0|        0|       0|        0|        1|        0|                 0|            0|          1|\n",
      "+--------+-------+--------------+-----------+------------------+-----+------------+------------------+--------------------+-----------------+------------------+---------------+--------------------------+------------------------+---------------+----------------------+------------------------+----------------------+------------------+---------------------+--------+---------+--------+---------+--------+---------+---------+---------+------------------+-------------+-----------+\n",
      "only showing top 5 rows\n",
      "\n"
     ]
    }
   ],
   "source": [
    "genders = consumer_full.select(\"gender\").distinct().rdd.flatMap(lambda x: x).collect()\n",
    "\n",
    "for gender in genders:\n",
    "    consumer_full = consumer_full.withColumn(\n",
    "        f\"gender_{gender}\", when(col(\"gender\") == gender, 1).otherwise(0)\n",
    "    )\n",
    "\n",
    "consumer_full_expanded = consumer_full.drop(\"gender\")\n",
    "consumer_full_expanded.show(5)"
   ]
  },
  {
   "cell_type": "markdown",
   "metadata": {},
   "source": [
    "### Convert `order_datetime` column to timestamp data type"
   ]
  },
  {
   "cell_type": "code",
   "execution_count": 10,
   "metadata": {},
   "outputs": [
    {
     "name": "stdout",
     "output_type": "stream",
     "text": [
      "+--------+-------+--------------+-----------+------------------+-----+------------+------------------+------------------------------------+-----------------+------------------+---------------+--------------------------+------------------------+---------------+----------------------+------------------------+----------------------+------------------+---------------------+--------+---------+--------+---------+--------+---------+---------+---------+------------------+-------------+-----------+---------------+\n",
      "|postcode|user_id|order_datetime|consumer_id|name              |state|merchant_abn|dollar_value      |order_id                            |fraud_probability|average_population|avg_age_persons|avg_mortgage_repay_monthly|avg_tot_prsnl_inc_weekly|avg_rent_weekly|avg_tot_fam_inc_weekly|avg_num_psns_per_bedroom|avg_tot_hhd_inc_weekly|avg_household_size|avg_unemployment_rate|state_NT|state_ACT|state_SA|state_TAS|state_WA|state_QLD|state_VIC|state_NSW|gender_Undisclosed|gender_Female|gender_Male|order_timestamp|\n",
      "+--------+-------+--------------+-----------+------------------+-----+------------+------------------+------------------------------------+-----------------+------------------+---------------+--------------------------+------------------------+---------------+----------------------+------------------------+----------------------+------------------+---------------------+--------+---------+--------+---------+--------+---------+---------+---------+------------------+-------------+-----------+---------------+\n",
      "|6519    |11138  |2022-08-25    |401483     |Veronica Nelson   |WA   |63290521567 |41.239626303220014|09f6132a-a6a8-47a2-a03e-383ddbf5feaa|NULL             |3993.5            |47.0           |800.0                     |768.0                   |175.0          |1684.0                |0.7                     |1310.0                |2.2               |4.2                  |0       |0        |0       |0        |1       |0        |0        |0        |0                 |1            |0          |1661385600     |\n",
      "|6170    |22285  |2022-08-25    |416278     |Luke Greene       |WA   |63465140133 |8.815286645396842 |f4fc1a3b-a5b1-4d75-b459-cf9bc12e1347|NULL             |26855.0           |35.0           |1550.0                    |768.0                   |312.5          |1864.0                |0.75                    |1640.5                |2.7               |8.2                  |0       |0        |0       |0        |1       |0        |0        |0        |0                 |0            |1          |1661385600     |\n",
      "|2281    |11139  |2022-08-25    |505718     |Monica Garrett    |NSW  |21359184622 |66.46301590693417 |b1a52524-b6e6-42a5-9726-687033350acc|NULL             |18275.5           |49.0           |1940.0                    |669.5                   |345.0          |1752.5                |0.8                     |1329.5                |2.3499999999999996|5.5                  |0       |0        |0       |0        |0       |0        |0        |1        |0                 |1            |0          |1661385600     |\n",
      "|6170    |22285  |2022-08-25    |416278     |Luke Greene       |WA   |75034515922 |19.654995598411727|ba240514-5dea-4059-ac35-5917d4853188|NULL             |26855.0           |35.0           |1550.0                    |768.0                   |312.5          |1864.0                |0.75                    |1640.5                |2.7               |8.2                  |0       |0        |0       |0        |1       |0        |0        |0        |0                 |0            |1          |1661385600     |\n",
      "|3677    |11140  |2022-08-25    |813297     |Benjamin Schneider|VIC  |96334476428 |6.383881161736656 |3f1c61aa-6b5b-4c8d-b981-f23029087927|NULL             |19922.0           |44.0           |1300.0                    |708.0                   |260.0          |1732.0                |0.7                     |1242.0                |2.2               |3.5                  |0       |0        |0       |0        |0       |0        |1        |0        |0                 |0            |1          |1661385600     |\n",
      "+--------+-------+--------------+-----------+------------------+-----+------------+------------------+------------------------------------+-----------------+------------------+---------------+--------------------------+------------------------+---------------+----------------------+------------------------+----------------------+------------------+---------------------+--------+---------+--------+---------+--------+---------+---------+---------+------------------+-------------+-----------+---------------+\n",
      "only showing top 5 rows\n",
      "\n"
     ]
    }
   ],
   "source": [
    "consumer_full_expanded = consumer_full_expanded.withColumn(\n",
    "    \"order_timestamp\", unix_timestamp(col(\"order_datetime\"))\n",
    ")\n",
    "consumer_full_expanded.show(5, truncate=False)"
   ]
  },
  {
   "cell_type": "markdown",
   "metadata": {},
   "source": [
    "### Apply Feature Hashing on `postcode` column"
   ]
  },
  {
   "cell_type": "code",
   "execution_count": 11,
   "metadata": {},
   "outputs": [
    {
     "name": "stderr",
     "output_type": "stream",
     "text": [
      "                                                                                \r"
     ]
    },
    {
     "name": "stdout",
     "output_type": "stream",
     "text": [
      "+--------+-------+--------------+-----------+------------------+-----+------------+------------------+------------------------------------+-----------------+------------------+---------------+--------------------------+------------------------+---------------+----------------------+------------------------+----------------------+------------------+---------------------+--------+---------+--------+---------+--------+---------+---------+---------+------------------+-------------+-----------+---------------+-------------------+\n",
      "|postcode|user_id|order_datetime|consumer_id|name              |state|merchant_abn|dollar_value      |order_id                            |fraud_probability|average_population|avg_age_persons|avg_mortgage_repay_monthly|avg_tot_prsnl_inc_weekly|avg_rent_weekly|avg_tot_fam_inc_weekly|avg_num_psns_per_bedroom|avg_tot_hhd_inc_weekly|avg_household_size|avg_unemployment_rate|state_NT|state_ACT|state_SA|state_TAS|state_WA|state_QLD|state_VIC|state_NSW|gender_Undisclosed|gender_Female|gender_Male|order_timestamp|hashed_postcode    |\n",
      "+--------+-------+--------------+-----------+------------------+-----+------------+------------------+------------------------------------+-----------------+------------------+---------------+--------------------------+------------------------+---------------+----------------------+------------------------+----------------------+------------------+---------------------+--------+---------+--------+---------+--------+---------+---------+---------+------------------+-------------+-----------+---------------+-------------------+\n",
      "|6519    |11138  |2022-08-25    |401483     |Veronica Nelson   |WA   |63290521567 |41.239626303220014|09f6132a-a6a8-47a2-a03e-383ddbf5feaa|NULL             |3993.5            |47.0           |800.0                     |768.0                   |175.0          |1684.0                |0.7                     |1310.0                |2.2               |4.2                  |0       |0        |0       |0        |1       |0        |0        |0        |0                 |1            |0          |1661385600     |(6000,[5986],[1.0])|\n",
      "|6170    |22285  |2022-08-25    |416278     |Luke Greene       |WA   |63465140133 |8.815286645396842 |f4fc1a3b-a5b1-4d75-b459-cf9bc12e1347|NULL             |26855.0           |35.0           |1550.0                    |768.0                   |312.5          |1864.0                |0.75                    |1640.5                |2.7               |8.2                  |0       |0        |0       |0        |1       |0        |0        |0        |0                 |0            |1          |1661385600     |(6000,[2214],[1.0])|\n",
      "|2281    |11139  |2022-08-25    |505718     |Monica Garrett    |NSW  |21359184622 |66.46301590693417 |b1a52524-b6e6-42a5-9726-687033350acc|NULL             |18275.5           |49.0           |1940.0                    |669.5                   |345.0          |1752.5                |0.8                     |1329.5                |2.3499999999999996|5.5                  |0       |0        |0       |0        |0       |0        |0        |1        |0                 |1            |0          |1661385600     |(6000,[4564],[1.0])|\n",
      "|6170    |22285  |2022-08-25    |416278     |Luke Greene       |WA   |75034515922 |19.654995598411727|ba240514-5dea-4059-ac35-5917d4853188|NULL             |26855.0           |35.0           |1550.0                    |768.0                   |312.5          |1864.0                |0.75                    |1640.5                |2.7               |8.2                  |0       |0        |0       |0        |1       |0        |0        |0        |0                 |0            |1          |1661385600     |(6000,[2214],[1.0])|\n",
      "|3677    |11140  |2022-08-25    |813297     |Benjamin Schneider|VIC  |96334476428 |6.383881161736656 |3f1c61aa-6b5b-4c8d-b981-f23029087927|NULL             |19922.0           |44.0           |1300.0                    |708.0                   |260.0          |1732.0                |0.7                     |1242.0                |2.2               |3.5                  |0       |0        |0       |0        |0       |0        |1        |0        |0                 |0            |1          |1661385600     |(6000,[5386],[1.0])|\n",
      "+--------+-------+--------------+-----------+------------------+-----+------------+------------------+------------------------------------+-----------------+------------------+---------------+--------------------------+------------------------+---------------+----------------------+------------------------+----------------------+------------------+---------------------+--------+---------+--------+---------+--------+---------+---------+---------+------------------+-------------+-----------+---------------+-------------------+\n",
      "only showing top 5 rows\n",
      "\n"
     ]
    }
   ],
   "source": [
    "# index the postcode column to convert it into a numeric type\n",
    "indexer = StringIndexer(inputCol=\"postcode\", outputCol=\"postcode_index\")\n",
    "consumer_full_expanded_indexed = indexer.fit(consumer_full_expanded).transform(consumer_full_expanded)\n",
    "\n",
    "# convert the indexed column to an array of strings\n",
    "def to_array(value):\n",
    "    return [str(value)]\n",
    "\n",
    "to_array_udf = udf(to_array, ArrayType(StringType()))\n",
    "\n",
    "consumer_full_expanded_indexed = consumer_full_expanded_indexed.withColumn(\"postcode_array\", to_array_udf(col(\"postcode_index\")))\n",
    "\n",
    "# apply HashingTF to transform the array of strings\n",
    "hashingTF = HashingTF(inputCol=\"postcode_array\", outputCol=\"hashed_postcode\", numFeatures=6000)\n",
    "consumer_full_expanded_hashed = hashingTF.transform(consumer_full_expanded_indexed)\n",
    "\n",
    "consumer_full_expanded = consumer_full_expanded_hashed.drop('postcode_index', 'postcode_array')\n",
    "consumer_full_expanded.show(5, truncate=False)"
   ]
  },
  {
   "cell_type": "markdown",
   "metadata": {},
   "source": [
    "### Check the shape of transformed dataset"
   ]
  },
  {
   "cell_type": "code",
   "execution_count": 12,
   "metadata": {},
   "outputs": [
    {
     "name": "stdout",
     "output_type": "stream",
     "text": [
      "Number of rows: 11372745\n",
      "Number of columns: 33\n"
     ]
    }
   ],
   "source": [
    "num_rows = consumer_full_expanded.count()\n",
    "print(f\"Number of rows: {num_rows}\")\n",
    "\n",
    "num_columns = len(consumer_full_expanded.columns)\n",
    "print(f\"Number of columns: {num_columns}\")"
   ]
  },
  {
   "cell_type": "markdown",
   "metadata": {},
   "source": [
    "Check nulls:"
   ]
  },
  {
   "cell_type": "code",
   "execution_count": 13,
   "metadata": {},
   "outputs": [
    {
     "name": "stderr",
     "output_type": "stream",
     "text": [
      "[Stage 20:===================================================>      (8 + 1) / 9]\r"
     ]
    },
    {
     "name": "stdout",
     "output_type": "stream",
     "text": [
      "+--------+-------+--------------+-----------+----+-----+------------+------------+--------+-----------------+------------------+---------------+--------------------------+------------------------+---------------+----------------------+------------------------+----------------------+------------------+---------------------+--------+---------+--------+---------+--------+---------+---------+---------+------------------+-------------+-----------+---------------+---------------+\n",
      "|postcode|user_id|order_datetime|consumer_id|name|state|merchant_abn|dollar_value|order_id|fraud_probability|average_population|avg_age_persons|avg_mortgage_repay_monthly|avg_tot_prsnl_inc_weekly|avg_rent_weekly|avg_tot_fam_inc_weekly|avg_num_psns_per_bedroom|avg_tot_hhd_inc_weekly|avg_household_size|avg_unemployment_rate|state_NT|state_ACT|state_SA|state_TAS|state_WA|state_QLD|state_VIC|state_NSW|gender_Undisclosed|gender_Female|gender_Male|order_timestamp|hashed_postcode|\n",
      "+--------+-------+--------------+-----------+----+-----+------------+------------+--------+-----------------+------------------+---------------+--------------------------+------------------------+---------------+----------------------+------------------------+----------------------+------------------+---------------------+--------+---------+--------+---------+--------+---------+---------+---------+------------------+-------------+-----------+---------------+---------------+\n",
      "|       0|      0|             0|          0|   0|    0|           0|           0|       0|         11312983|                 0|              0|                         0|                       0|              0|                     0|                       0|                     0|                 0|                    0|       0|        0|       0|        0|       0|        0|        0|        0|                 0|            0|          0|              0|              0|\n",
      "+--------+-------+--------------+-----------+----+-----+------------+------------+--------+-----------------+------------------+---------------+--------------------------+------------------------+---------------+----------------------+------------------------+----------------------+------------------+---------------------+--------+---------+--------+---------+--------+---------+---------+---------+------------------+-------------+-----------+---------------+---------------+\n",
      "\n"
     ]
    },
    {
     "name": "stderr",
     "output_type": "stream",
     "text": [
      "                                                                                \r"
     ]
    }
   ],
   "source": [
    "# create a dictionary with column names and their respective null counts\n",
    "null_count_dict = {col_name: sum(col(col_name).isNull().cast(\"int\")).alias(col_name) for col_name in consumer_full_expanded.columns}\n",
    "\n",
    "# use agg() to calculate null counts for each column\n",
    "null_counts_df = consumer_full_expanded.agg(*null_count_dict.values())\n",
    "null_counts_df.show()"
   ]
  },
  {
   "cell_type": "code",
   "execution_count": 14,
   "metadata": {},
   "outputs": [
    {
     "name": "stderr",
     "output_type": "stream",
     "text": [
      "                                                                                \r"
     ]
    }
   ],
   "source": [
    "# save as a parquet file\n",
    "consumer_full_expanded.write.parquet('../data/curated/consumer_full_expanded', mode='overwrite')"
   ]
  },
  {
   "cell_type": "markdown",
   "metadata": {},
   "source": [
    "# Merchant data transformation"
   ]
  },
  {
   "cell_type": "markdown",
   "metadata": {},
   "source": [
    "Select helpful columons:"
   ]
  },
  {
   "cell_type": "code",
   "execution_count": 15,
   "metadata": {},
   "outputs": [
    {
     "name": "stdout",
     "output_type": "stream",
     "text": [
      "+--------------------+------------+--------------+------------------+-------------+---------+--------------------+-----------------+-------------------+------------------+\n",
      "|            order_id|merchant_abn|order_datetime|      dollar_value|revenue_level|take_rate|  processed_category|fraud_probability|transaction_revenue|      BNPL_revenue|\n",
      "+--------------------+------------+--------------+------------------+-------------+---------+--------------------+-----------------+-------------------+------------------+\n",
      "|0000043e-7a3f-410...| 98973094975|    2021-05-20|231.41970775401066|            a|     5.98|game shop hobby t...|             NULL|  217.5808014617149|13.838898567829645|\n",
      "|000063c2-e78b-448...| 15903176024|    2021-12-12|227.79073108694692|            c|     2.34|nursery lawn supp...|             NULL| 222.46043632145808| 5.330302911920205|\n",
      "|00006b44-0557-4b7...| 74764807084|    2022-09-15| 173.2625432035097|            a|     5.53|           shop shoe|             NULL|  163.6811266793769| 9.581419002673368|\n",
      "|00006c1e-31e4-47c...| 34179569263|    2021-12-27|109.57507568594808|            b|     4.72|instrument musica...|             NULL| 104.40313077598495| 5.171943342479092|\n",
      "|00008545-6760-47c...| 64203420245|    2021-04-13|22.250895272267204|            c|     2.86|and shop awning tent|             NULL| 21.614519531671675| 0.636375581444724|\n",
      "+--------------------+------------+--------------+------------------+-------------+---------+--------------------+-----------------+-------------------+------------------+\n",
      "only showing top 5 rows\n",
      "\n"
     ]
    }
   ],
   "source": [
    "merchant_full = merchant_full.drop('user_id', 'name')\n",
    "merchant_full.show(5)"
   ]
  },
  {
   "cell_type": "markdown",
   "metadata": {},
   "source": [
    "### Apply One-Hot Encoding on `revenue_level` column"
   ]
  },
  {
   "cell_type": "code",
   "execution_count": 16,
   "metadata": {},
   "outputs": [
    {
     "name": "stderr",
     "output_type": "stream",
     "text": [
      "                                                                                \r"
     ]
    },
    {
     "name": "stdout",
     "output_type": "stream",
     "text": [
      "+--------------------+------------+--------------+------------------+---------+--------------------+-----------------+-------------------+------------------+---------------+---------------+---------------+---------------+---------------+\n",
      "|            order_id|merchant_abn|order_datetime|      dollar_value|take_rate|  processed_category|fraud_probability|transaction_revenue|      BNPL_revenue|revenue_level_e|revenue_level_d|revenue_level_c|revenue_level_b|revenue_level_a|\n",
      "+--------------------+------------+--------------+------------------+---------+--------------------+-----------------+-------------------+------------------+---------------+---------------+---------------+---------------+---------------+\n",
      "|0000043e-7a3f-410...| 98973094975|    2021-05-20|231.41970775401066|     5.98|game shop hobby t...|             NULL|  217.5808014617149|13.838898567829645|              0|              0|              0|              0|              1|\n",
      "|000063c2-e78b-448...| 15903176024|    2021-12-12|227.79073108694692|     2.34|nursery lawn supp...|             NULL| 222.46043632145808| 5.330302911920205|              0|              0|              1|              0|              0|\n",
      "|00006b44-0557-4b7...| 74764807084|    2022-09-15| 173.2625432035097|     5.53|           shop shoe|             NULL|  163.6811266793769| 9.581419002673368|              0|              0|              0|              0|              1|\n",
      "|00006c1e-31e4-47c...| 34179569263|    2021-12-27|109.57507568594808|     4.72|instrument musica...|             NULL| 104.40313077598495| 5.171943342479092|              0|              0|              0|              1|              0|\n",
      "|00008545-6760-47c...| 64203420245|    2021-04-13|22.250895272267204|     2.86|and shop awning tent|             NULL| 21.614519531671675| 0.636375581444724|              0|              0|              1|              0|              0|\n",
      "+--------------------+------------+--------------+------------------+---------+--------------------+-----------------+-------------------+------------------+---------------+---------------+---------------+---------------+---------------+\n",
      "only showing top 5 rows\n",
      "\n"
     ]
    }
   ],
   "source": [
    "revenue_levels = merchant_full.select(\"revenue_level\").distinct().rdd.flatMap(lambda x: x).collect()\n",
    "\n",
    "for level in revenue_levels:\n",
    "    merchant_full = merchant_full.withColumn(f\"revenue_level_{level}\", when(col(\"revenue_level\") == level, 1).otherwise(0))\n",
    "\n",
    "merchant_full_expanded = merchant_full.drop(\"revenue_level\")\n",
    "merchant_full_expanded.show(5)"
   ]
  },
  {
   "cell_type": "markdown",
   "metadata": {},
   "source": [
    "### Apply One-Hot Encoding on `category` column"
   ]
  },
  {
   "cell_type": "code",
   "execution_count": 17,
   "metadata": {},
   "outputs": [
    {
     "name": "stderr",
     "output_type": "stream",
     "text": [
      "                                                                                \r"
     ]
    }
   ],
   "source": [
    "# collect distinct words and create a dictionary with indices\n",
    "distinct_words = merchant_full_expanded.selectExpr(\"explode(split(processed_category, ' ')) as word\")\\\n",
    "                                       .distinct()\\\n",
    "                                       .rdd.flatMap(lambda x: x)\\\n",
    "                                       .collect()\n",
    "word_index = {word: idx for idx, word in enumerate(distinct_words)}\n",
    "\n",
    "# create a dictionary mapping indices to words\n",
    "index_word = {idx: word for word, idx in word_index.items()}\n",
    "\n",
    "# convert the `word_index` dictionary to a broadcast variable\n",
    "word_index_broadcast = spark.sparkContext.broadcast(word_index)"
   ]
  },
  {
   "cell_type": "markdown",
   "metadata": {},
   "source": [
    "Define a funciton to convert a list of words into a binary vector based on a predefined word index dictionary:"
   ]
  },
  {
   "cell_type": "code",
   "execution_count": 18,
   "metadata": {},
   "outputs": [],
   "source": [
    "def words_to_binary_vector(words):\n",
    "    # retrieve the broadcasted `word_index` dictionary which maps words \n",
    "    # to their respective indices\n",
    "    word_index = word_index_broadcast.value\n",
    "    \n",
    "    # initialize a binary vector with zeros, with length equal \n",
    "    # to the size of the `word_index` dictionary\n",
    "    vector = [0] * len(word_index)\n",
    "    \n",
    "    # iterate over each word in the input list\n",
    "    for word in words:\n",
    "        # if the word is in the `word_index` dictionary, set the corresponding \n",
    "        # index in the vector to 1\n",
    "        if word in word_index:\n",
    "            vector[word_index[word]] = 1\n",
    "    \n",
    "    return vector\n",
    "\n",
    "words_to_binary_vector_udf = udf(words_to_binary_vector, ArrayType(IntegerType()))"
   ]
  },
  {
   "cell_type": "code",
   "execution_count": 19,
   "metadata": {},
   "outputs": [
    {
     "name": "stdout",
     "output_type": "stream",
     "text": [
      "+------------------------------------+------------+--------------+------------------+---------+-----------------+-------------------+------------------+---------------+---------------+---------------+---------------+---------------+------------------------------------------------------------------------------------------------------------------------------------------------------------------------------------------------------------------------------------------------------------------------------+\n",
      "|order_id                            |merchant_abn|order_datetime|dollar_value      |take_rate|fraud_probability|transaction_revenue|BNPL_revenue      |revenue_level_e|revenue_level_d|revenue_level_c|revenue_level_b|revenue_level_a|category_binary                                                                                                                                                                                                                                                               |\n",
      "+------------------------------------+------------+--------------+------------------+---------+-----------------+-------------------+------------------+---------------+---------------+---------------+---------------+---------------+------------------------------------------------------------------------------------------------------------------------------------------------------------------------------------------------------------------------------------------------------------------------------+\n",
      "|0000043e-7a3f-410f-8f69-dcb86316cf90|98973094975 |2021-05-20    |231.41970775401066|5.98     |NULL             |217.5808014617149  |13.838898567829645|0              |0              |0              |0              |1              |[0, 0, 0, 0, 0, 0, 0, 0, 0, 0, 0, 0, 0, 0, 0, 0, 0, 1, 0, 0, 0, 0, 0, 0, 0, 0, 0, 0, 0, 0, 0, 0, 0, 0, 0, 0, 0, 0, 0, 0, 1, 0, 0, 0, 0, 0, 0, 0, 0, 0, 0, 0, 0, 0, 1, 0, 0, 0, 0, 0, 0, 0, 0, 0, 0, 0, 0, 0, 0, 0, 0, 0, 0, 0, 1, 0, 0, 0, 0, 0, 0, 0, 0, 0, 1, 0, 0, 0, 0, 0]|\n",
      "|000063c2-e78b-448c-8948-d3a8fd723ab5|15903176024 |2021-12-12    |227.79073108694692|2.34     |NULL             |222.46043632145808 |5.330302911920205 |0              |0              |1              |0              |0              |[0, 0, 0, 0, 0, 0, 0, 0, 0, 0, 0, 0, 0, 0, 0, 0, 0, 0, 0, 0, 0, 0, 1, 0, 0, 0, 0, 0, 0, 0, 0, 0, 0, 0, 0, 1, 0, 0, 0, 0, 0, 0, 0, 0, 0, 0, 0, 0, 0, 0, 1, 0, 0, 0, 1, 0, 0, 0, 0, 0, 0, 0, 0, 0, 0, 1, 0, 0, 0, 0, 0, 0, 1, 0, 0, 0, 0, 0, 0, 0, 1, 0, 0, 0, 0, 0, 0, 0, 0, 0]|\n",
      "|00006b44-0557-4b75-8d6b-fa2d994c340b|74764807084 |2022-09-15    |173.2625432035097 |5.53     |NULL             |163.6811266793769  |9.581419002673368 |0              |0              |0              |0              |1              |[0, 0, 0, 0, 0, 0, 0, 0, 0, 0, 0, 0, 0, 0, 0, 0, 0, 1, 1, 0, 0, 0, 0, 0, 0, 0, 0, 0, 0, 0, 0, 0, 0, 0, 0, 0, 0, 0, 0, 0, 0, 0, 0, 0, 0, 0, 0, 0, 0, 0, 0, 0, 0, 0, 0, 0, 0, 0, 0, 0, 0, 0, 0, 0, 0, 0, 0, 0, 0, 0, 0, 0, 0, 0, 0, 0, 0, 0, 0, 0, 0, 0, 0, 0, 0, 0, 0, 0, 0, 0]|\n",
      "|00006c1e-31e4-47cd-88ca-3239bc6efcfa|34179569263 |2021-12-27    |109.57507568594808|4.72     |NULL             |104.40313077598495 |5.171943342479092 |0              |0              |0              |1              |0              |[0, 0, 0, 0, 0, 0, 0, 0, 0, 0, 0, 0, 0, 0, 0, 0, 0, 1, 0, 0, 0, 0, 0, 1, 0, 0, 0, 0, 0, 0, 0, 0, 0, 0, 0, 0, 0, 1, 0, 0, 0, 0, 0, 0, 0, 0, 0, 0, 0, 1, 0, 0, 0, 0, 1, 0, 0, 0, 0, 0, 0, 0, 0, 0, 0, 0, 0, 0, 0, 0, 0, 1, 0, 0, 0, 0, 0, 0, 0, 0, 0, 0, 0, 0, 0, 0, 0, 0, 1, 0]|\n",
      "|00008545-6760-47c3-8d86-3ca730cccb34|64203420245 |2021-04-13    |22.250895272267204|2.86     |NULL             |21.614519531671675 |0.636375581444724 |0              |0              |1              |0              |0              |[0, 0, 0, 0, 0, 0, 0, 0, 0, 0, 0, 0, 0, 0, 0, 0, 0, 1, 0, 1, 0, 0, 0, 0, 0, 0, 0, 0, 0, 0, 0, 0, 0, 0, 1, 0, 0, 0, 0, 0, 0, 0, 0, 0, 0, 0, 0, 0, 0, 0, 0, 0, 0, 0, 1, 0, 0, 0, 0, 0, 0, 0, 0, 0, 0, 0, 0, 0, 0, 0, 0, 0, 0, 0, 0, 0, 0, 0, 0, 0, 0, 0, 0, 0, 0, 0, 0, 0, 0, 0]|\n",
      "+------------------------------------+------------+--------------+------------------+---------+-----------------+-------------------+------------------+---------------+---------------+---------------+---------------+---------------+------------------------------------------------------------------------------------------------------------------------------------------------------------------------------------------------------------------------------------------------------------------------------+\n",
      "only showing top 5 rows\n",
      "\n"
     ]
    }
   ],
   "source": [
    "# split `processed_category` into words\n",
    "merchant_full_expanded = merchant_full_expanded.withColumn(\"category_words\", \n",
    "                                                           split(col(\"processed_category\"), \" \"))\n",
    "\n",
    "# apply the UDF to get the binary vector\n",
    "merchant_full_expanded = merchant_full_expanded.withColumn(\"category_binary\", \n",
    "                                                           words_to_binary_vector_udf(col(\"category_words\")))\n",
    "\n",
    "# drop the original columns\n",
    "merchant_full_expanded = merchant_full_expanded.drop(\"processed_category\", \"category_words\")\n",
    "\n",
    "# show the result\n",
    "merchant_full_expanded.show(5, truncate=False)"
   ]
  },
  {
   "cell_type": "code",
   "execution_count": 20,
   "metadata": {},
   "outputs": [
    {
     "name": "stdout",
     "output_type": "stream",
     "text": [
      "Number of vectors in category_binary: 90\n"
     ]
    }
   ],
   "source": [
    "sample_vector = merchant_full_expanded.select(\"category_binary\").first()[0]\n",
    "count_sub_category = len(sample_vector)\n",
    "print(f'Number of vectors in category_binary:', count_sub_category)"
   ]
  },
  {
   "cell_type": "code",
   "execution_count": 21,
   "metadata": {},
   "outputs": [
    {
     "name": "stdout",
     "output_type": "stream",
     "text": [
      "+------------------------------------+------------+--------------+------------------+---------+-----------------+-------------------+------------------+---------------+---------------+---------------+---------------+---------------+----------------+------------+-------------------+--------------+--------------+---------------+--------------+---------------+---------------+-----------------+---------------+----------------+----------------+-------------------+------------+----------------+------------------+-------------+-------------+-------------+---------------+---------------+-------------+--------------+--------------------+--------------+-------------------+-----------------+--------------+-----------------+--------------+-------------------+--------------+--------------+---------------+---------------+-------------+--------------+-------------------+--------------+--------------+----------------+-------------+-------------+---------------+-----------+---------------+---------------+----------------+----------------+---------------+------------------+----------------+-------------------+------------+--------------------+----------------+-------------+-------------+------------------+-----------------+--------------+-----------------+------------------+----------------+------------------+----------------+-------------+----------------+-----------------+-------------+-------------------+----------------+-------------+-------------+------------+-------------------+-------------+-------------------+----------------+---------------+------------+---------------+---------------------+------------+-------------+---------------+------------------+--------------+----------------+\n",
      "|order_id                            |merchant_abn|order_datetime|dollar_value      |take_rate|fraud_probability|transaction_revenue|BNPL_revenue      |revenue_level_e|revenue_level_d|revenue_level_c|revenue_level_b|revenue_level_a|category_jewelry|category_art|category_television|category_watch|category_cable|category_repair|category_stock|category_flower|category_office|category_souvenir|category_goods:|category_novelty|category_optical|category_integrated|category_new|category_antique|category_newspaper|category_shop|category_shoe|category_tent|category_beauty|category_system|category_lawn|category_sheet|category_programming|category_radio|category_stationery|category_optician|category_paper|category_software|category_clock|category_peripheral|category_other|category_craft|category_awning|category_garden|category_data|category_music|category_silverware|category_movie|category_hobby|category_digital|category_sale|category_tool|category_except|category_al|category_artist|category_health|category_writing|category_musical|category_outlet|category_furniture|category_florist|category_periodical|category_and|category_restoration|category_telecom|category_part|category_card|category_satellite|category_eyeglass|category_motor|category_computer|category_equipment|category_service|category_including|category_leasing|category_gift|category_vehicle|category_printing|category_home|category_instrument|category_nursery|category_good|category_game|category_spa|category_furnishing|category_rent|category_processing|category_gallery|category_supply|category_pay|category_design|category_manufacturer|category_toy|category_book|category_dealer|category_appliance|category_piano|category_bicycle|\n",
      "+------------------------------------+------------+--------------+------------------+---------+-----------------+-------------------+------------------+---------------+---------------+---------------+---------------+---------------+----------------+------------+-------------------+--------------+--------------+---------------+--------------+---------------+---------------+-----------------+---------------+----------------+----------------+-------------------+------------+----------------+------------------+-------------+-------------+-------------+---------------+---------------+-------------+--------------+--------------------+--------------+-------------------+-----------------+--------------+-----------------+--------------+-------------------+--------------+--------------+---------------+---------------+-------------+--------------+-------------------+--------------+--------------+----------------+-------------+-------------+---------------+-----------+---------------+---------------+----------------+----------------+---------------+------------------+----------------+-------------------+------------+--------------------+----------------+-------------+-------------+------------------+-----------------+--------------+-----------------+------------------+----------------+------------------+----------------+-------------+----------------+-----------------+-------------+-------------------+----------------+-------------+-------------+------------+-------------------+-------------+-------------------+----------------+---------------+------------+---------------+---------------------+------------+-------------+---------------+------------------+--------------+----------------+\n",
      "|0000043e-7a3f-410f-8f69-dcb86316cf90|98973094975 |2021-05-20    |231.41970775401066|5.98     |NULL             |217.5808014617149  |13.838898567829645|0              |0              |0              |0              |1              |0               |0           |0                  |0             |0             |0              |0             |0              |0              |0                |0              |0               |0               |0                  |0           |0               |0                 |1            |0            |0            |0              |0              |0            |0             |0                   |0             |0                  |0                |0             |0                |0             |0                  |0             |0             |0              |0              |0            |0             |0                  |0             |1             |0               |0            |0            |0              |0          |0              |0              |0               |0               |0              |0                 |0               |0                  |1           |0                   |0               |0            |0            |0                 |0                |0             |0                |0                 |0               |0                 |0               |0            |0               |0                |0            |0                  |0               |0            |1            |0           |0                  |0            |0                  |0               |0              |0           |0              |0                    |1           |0            |0              |0                 |0             |0               |\n",
      "|000063c2-e78b-448c-8948-d3a8fd723ab5|15903176024 |2021-12-12    |227.79073108694692|2.34     |NULL             |222.46043632145808 |5.330302911920205 |0              |0              |1              |0              |0              |0               |0           |0                  |0             |0             |0              |0             |0              |0              |0                |0              |0               |0               |0                  |0           |0               |0                 |0            |0            |0            |0              |0              |1            |0             |0                   |0             |0                  |0                |0             |0                |0             |0                  |0             |0             |0              |1              |0            |0             |0                  |0             |0             |0               |0            |0            |0              |0          |0              |0              |0               |0               |1              |0                 |0               |0                  |1           |0                   |0               |0            |0            |0                 |0                |0             |0                |0                 |0               |1                 |0               |0            |0               |0                |0            |0                  |1               |0            |0            |0           |0                  |0            |0                  |0               |1              |0           |0              |0                    |0           |0            |0              |0                 |0             |0               |\n",
      "|00006b44-0557-4b75-8d6b-fa2d994c340b|74764807084 |2022-09-15    |173.2625432035097 |5.53     |NULL             |163.6811266793769  |9.581419002673368 |0              |0              |0              |0              |1              |0               |0           |0                  |0             |0             |0              |0             |0              |0              |0                |0              |0               |0               |0                  |0           |0               |0                 |1            |1            |0            |0              |0              |0            |0             |0                   |0             |0                  |0                |0             |0                |0             |0                  |0             |0             |0              |0              |0            |0             |0                  |0             |0             |0               |0            |0            |0              |0          |0              |0              |0               |0               |0              |0                 |0               |0                  |0           |0                   |0               |0            |0            |0                 |0                |0             |0                |0                 |0               |0                 |0               |0            |0               |0                |0            |0                  |0               |0            |0            |0           |0                  |0            |0                  |0               |0              |0           |0              |0                    |0           |0            |0              |0                 |0             |0               |\n",
      "|00006c1e-31e4-47cd-88ca-3239bc6efcfa|34179569263 |2021-12-27    |109.57507568594808|4.72     |NULL             |104.40313077598495 |5.171943342479092 |0              |0              |0              |1              |0              |0               |0           |0                  |0             |0             |0              |0             |0              |0              |0                |0              |0               |0               |0                  |0           |0               |0                 |1            |0            |0            |0              |0              |0            |1             |0                   |0             |0                  |0                |0             |0                |0             |0                  |0             |0             |0              |0              |0            |1             |0                  |0             |0             |0               |0            |0            |0              |0          |0              |0              |0               |1               |0              |0                 |0               |0                  |1           |0                   |0               |0            |0            |0                 |0                |0             |0                |0                 |0               |0                 |0               |0            |0               |0                |0            |1                  |0               |0            |0            |0           |0                  |0            |0                  |0               |0              |0           |0              |0                    |0           |0            |0              |0                 |1             |0               |\n",
      "|00008545-6760-47c3-8d86-3ca730cccb34|64203420245 |2021-04-13    |22.250895272267204|2.86     |NULL             |21.614519531671675 |0.636375581444724 |0              |0              |1              |0              |0              |0               |0           |0                  |0             |0             |0              |0             |0              |0              |0                |0              |0               |0               |0                  |0           |0               |0                 |1            |0            |1            |0              |0              |0            |0             |0                   |0             |0                  |0                |0             |0                |0             |0                  |0             |0             |1              |0              |0            |0             |0                  |0             |0             |0               |0            |0            |0              |0          |0              |0              |0               |0               |0              |0                 |0               |0                  |1           |0                   |0               |0            |0            |0                 |0                |0             |0                |0                 |0               |0                 |0               |0            |0               |0                |0            |0                  |0               |0            |0            |0           |0                  |0            |0                  |0               |0              |0           |0              |0                    |0           |0            |0              |0                 |0             |0               |\n",
      "+------------------------------------+------------+--------------+------------------+---------+-----------------+-------------------+------------------+---------------+---------------+---------------+---------------+---------------+----------------+------------+-------------------+--------------+--------------+---------------+--------------+---------------+---------------+-----------------+---------------+----------------+----------------+-------------------+------------+----------------+------------------+-------------+-------------+-------------+---------------+---------------+-------------+--------------+--------------------+--------------+-------------------+-----------------+--------------+-----------------+--------------+-------------------+--------------+--------------+---------------+---------------+-------------+--------------+-------------------+--------------+--------------+----------------+-------------+-------------+---------------+-----------+---------------+---------------+----------------+----------------+---------------+------------------+----------------+-------------------+------------+--------------------+----------------+-------------+-------------+------------------+-----------------+--------------+-----------------+------------------+----------------+------------------+----------------+-------------+----------------+-----------------+-------------+-------------------+----------------+-------------+-------------+------------+-------------------+-------------+-------------------+----------------+---------------+------------+---------------+---------------------+------------+-------------+---------------+------------------+--------------+----------------+\n",
      "only showing top 5 rows\n",
      "\n"
     ]
    }
   ],
   "source": [
    "# split `category_binary` column into separate columns\n",
    "for idx, word in index_word.items():\n",
    "    merchant_full_expanded = merchant_full_expanded.withColumn(\n",
    "        f\"category_{word}\", \n",
    "        col(\"category_binary\")[idx]\n",
    "    )\n",
    "merchant_full_expanded = merchant_full_expanded.drop(\"category_binary\")\n",
    "merchant_full_expanded.show(5, truncate=False)"
   ]
  },
  {
   "cell_type": "markdown",
   "metadata": {},
   "source": [
    "### Convert `order_datetime` column to timestamp data type"
   ]
  },
  {
   "cell_type": "code",
   "execution_count": 22,
   "metadata": {},
   "outputs": [
    {
     "name": "stdout",
     "output_type": "stream",
     "text": [
      "+------------------------------------+------------+--------------+------------------+---------+-----------------+-------------------+------------------+---------------+---------------+---------------+---------------+---------------+----------------+------------+-------------------+--------------+--------------+---------------+--------------+---------------+---------------+-----------------+---------------+----------------+----------------+-------------------+------------+----------------+------------------+-------------+-------------+-------------+---------------+---------------+-------------+--------------+--------------------+--------------+-------------------+-----------------+--------------+-----------------+--------------+-------------------+--------------+--------------+---------------+---------------+-------------+--------------+-------------------+--------------+--------------+----------------+-------------+-------------+---------------+-----------+---------------+---------------+----------------+----------------+---------------+------------------+----------------+-------------------+------------+--------------------+----------------+-------------+-------------+------------------+-----------------+--------------+-----------------+------------------+----------------+------------------+----------------+-------------+----------------+-----------------+-------------+-------------------+----------------+-------------+-------------+------------+-------------------+-------------+-------------------+----------------+---------------+------------+---------------+---------------------+------------+-------------+---------------+------------------+--------------+----------------+---------------+\n",
      "|order_id                            |merchant_abn|order_datetime|dollar_value      |take_rate|fraud_probability|transaction_revenue|BNPL_revenue      |revenue_level_e|revenue_level_d|revenue_level_c|revenue_level_b|revenue_level_a|category_jewelry|category_art|category_television|category_watch|category_cable|category_repair|category_stock|category_flower|category_office|category_souvenir|category_goods:|category_novelty|category_optical|category_integrated|category_new|category_antique|category_newspaper|category_shop|category_shoe|category_tent|category_beauty|category_system|category_lawn|category_sheet|category_programming|category_radio|category_stationery|category_optician|category_paper|category_software|category_clock|category_peripheral|category_other|category_craft|category_awning|category_garden|category_data|category_music|category_silverware|category_movie|category_hobby|category_digital|category_sale|category_tool|category_except|category_al|category_artist|category_health|category_writing|category_musical|category_outlet|category_furniture|category_florist|category_periodical|category_and|category_restoration|category_telecom|category_part|category_card|category_satellite|category_eyeglass|category_motor|category_computer|category_equipment|category_service|category_including|category_leasing|category_gift|category_vehicle|category_printing|category_home|category_instrument|category_nursery|category_good|category_game|category_spa|category_furnishing|category_rent|category_processing|category_gallery|category_supply|category_pay|category_design|category_manufacturer|category_toy|category_book|category_dealer|category_appliance|category_piano|category_bicycle|order_timestamp|\n",
      "+------------------------------------+------------+--------------+------------------+---------+-----------------+-------------------+------------------+---------------+---------------+---------------+---------------+---------------+----------------+------------+-------------------+--------------+--------------+---------------+--------------+---------------+---------------+-----------------+---------------+----------------+----------------+-------------------+------------+----------------+------------------+-------------+-------------+-------------+---------------+---------------+-------------+--------------+--------------------+--------------+-------------------+-----------------+--------------+-----------------+--------------+-------------------+--------------+--------------+---------------+---------------+-------------+--------------+-------------------+--------------+--------------+----------------+-------------+-------------+---------------+-----------+---------------+---------------+----------------+----------------+---------------+------------------+----------------+-------------------+------------+--------------------+----------------+-------------+-------------+------------------+-----------------+--------------+-----------------+------------------+----------------+------------------+----------------+-------------+----------------+-----------------+-------------+-------------------+----------------+-------------+-------------+------------+-------------------+-------------+-------------------+----------------+---------------+------------+---------------+---------------------+------------+-------------+---------------+------------------+--------------+----------------+---------------+\n",
      "|0000043e-7a3f-410f-8f69-dcb86316cf90|98973094975 |2021-05-20    |231.41970775401066|5.98     |NULL             |217.5808014617149  |13.838898567829645|0              |0              |0              |0              |1              |0               |0           |0                  |0             |0             |0              |0             |0              |0              |0                |0              |0               |0               |0                  |0           |0               |0                 |1            |0            |0            |0              |0              |0            |0             |0                   |0             |0                  |0                |0             |0                |0             |0                  |0             |0             |0              |0              |0            |0             |0                  |0             |1             |0               |0            |0            |0              |0          |0              |0              |0               |0               |0              |0                 |0               |0                  |1           |0                   |0               |0            |0            |0                 |0                |0             |0                |0                 |0               |0                 |0               |0            |0               |0                |0            |0                  |0               |0            |1            |0           |0                  |0            |0                  |0               |0              |0           |0              |0                    |1           |0            |0              |0                 |0             |0               |1621468800     |\n",
      "|000063c2-e78b-448c-8948-d3a8fd723ab5|15903176024 |2021-12-12    |227.79073108694692|2.34     |NULL             |222.46043632145808 |5.330302911920205 |0              |0              |1              |0              |0              |0               |0           |0                  |0             |0             |0              |0             |0              |0              |0                |0              |0               |0               |0                  |0           |0               |0                 |0            |0            |0            |0              |0              |1            |0             |0                   |0             |0                  |0                |0             |0                |0             |0                  |0             |0             |0              |1              |0            |0             |0                  |0             |0             |0               |0            |0            |0              |0          |0              |0              |0               |0               |1              |0                 |0               |0                  |1           |0                   |0               |0            |0            |0                 |0                |0             |0                |0                 |0               |1                 |0               |0            |0               |0                |0            |0                  |1               |0            |0            |0           |0                  |0            |0                  |0               |1              |0           |0              |0                    |0           |0            |0              |0                 |0             |0               |1639267200     |\n",
      "|00006b44-0557-4b75-8d6b-fa2d994c340b|74764807084 |2022-09-15    |173.2625432035097 |5.53     |NULL             |163.6811266793769  |9.581419002673368 |0              |0              |0              |0              |1              |0               |0           |0                  |0             |0             |0              |0             |0              |0              |0                |0              |0               |0               |0                  |0           |0               |0                 |1            |1            |0            |0              |0              |0            |0             |0                   |0             |0                  |0                |0             |0                |0             |0                  |0             |0             |0              |0              |0            |0             |0                  |0             |0             |0               |0            |0            |0              |0          |0              |0              |0               |0               |0              |0                 |0               |0                  |0           |0                   |0               |0            |0            |0                 |0                |0             |0                |0                 |0               |0                 |0               |0            |0               |0                |0            |0                  |0               |0            |0            |0           |0                  |0            |0                  |0               |0              |0           |0              |0                    |0           |0            |0              |0                 |0             |0               |1663200000     |\n",
      "|00006c1e-31e4-47cd-88ca-3239bc6efcfa|34179569263 |2021-12-27    |109.57507568594808|4.72     |NULL             |104.40313077598495 |5.171943342479092 |0              |0              |0              |1              |0              |0               |0           |0                  |0             |0             |0              |0             |0              |0              |0                |0              |0               |0               |0                  |0           |0               |0                 |1            |0            |0            |0              |0              |0            |1             |0                   |0             |0                  |0                |0             |0                |0             |0                  |0             |0             |0              |0              |0            |1             |0                  |0             |0             |0               |0            |0            |0              |0          |0              |0              |0               |1               |0              |0                 |0               |0                  |1           |0                   |0               |0            |0            |0                 |0                |0             |0                |0                 |0               |0                 |0               |0            |0               |0                |0            |1                  |0               |0            |0            |0           |0                  |0            |0                  |0               |0              |0           |0              |0                    |0           |0            |0              |0                 |1             |0               |1640563200     |\n",
      "|00008545-6760-47c3-8d86-3ca730cccb34|64203420245 |2021-04-13    |22.250895272267204|2.86     |NULL             |21.614519531671675 |0.636375581444724 |0              |0              |1              |0              |0              |0               |0           |0                  |0             |0             |0              |0             |0              |0              |0                |0              |0               |0               |0                  |0           |0               |0                 |1            |0            |1            |0              |0              |0            |0             |0                   |0             |0                  |0                |0             |0                |0             |0                  |0             |0             |1              |0              |0            |0             |0                  |0             |0             |0               |0            |0            |0              |0          |0              |0              |0               |0               |0              |0                 |0               |0                  |1           |0                   |0               |0            |0            |0                 |0                |0             |0                |0                 |0               |0                 |0               |0            |0               |0                |0            |0                  |0               |0            |0            |0           |0                  |0            |0                  |0               |0              |0           |0              |0                    |0           |0            |0              |0                 |0             |0               |1618272000     |\n",
      "+------------------------------------+------------+--------------+------------------+---------+-----------------+-------------------+------------------+---------------+---------------+---------------+---------------+---------------+----------------+------------+-------------------+--------------+--------------+---------------+--------------+---------------+---------------+-----------------+---------------+----------------+----------------+-------------------+------------+----------------+------------------+-------------+-------------+-------------+---------------+---------------+-------------+--------------+--------------------+--------------+-------------------+-----------------+--------------+-----------------+--------------+-------------------+--------------+--------------+---------------+---------------+-------------+--------------+-------------------+--------------+--------------+----------------+-------------+-------------+---------------+-----------+---------------+---------------+----------------+----------------+---------------+------------------+----------------+-------------------+------------+--------------------+----------------+-------------+-------------+------------------+-----------------+--------------+-----------------+------------------+----------------+------------------+----------------+-------------+----------------+-----------------+-------------+-------------------+----------------+-------------+-------------+------------+-------------------+-------------+-------------------+----------------+---------------+------------+---------------+---------------------+------------+-------------+---------------+------------------+--------------+----------------+---------------+\n",
      "only showing top 5 rows\n",
      "\n"
     ]
    }
   ],
   "source": [
    "merchant_full_expanded = merchant_full_expanded.withColumn(\n",
    "    \"order_timestamp\", unix_timestamp(col(\"order_datetime\"))\n",
    ")\n",
    "merchant_full_expanded.show(5, truncate=False)"
   ]
  },
  {
   "cell_type": "markdown",
   "metadata": {},
   "source": [
    "### Check the shape of transformed dataset"
   ]
  },
  {
   "cell_type": "markdown",
   "metadata": {},
   "source": [
    "Drop unused columns:"
   ]
  },
  {
   "cell_type": "code",
   "execution_count": 23,
   "metadata": {},
   "outputs": [],
   "source": [
    "cols_to_remove = [\n",
    "    'category_including', 'category_other', 'category_and', 'category_except',\n",
    "    'category_al', 'category_shop'\n",
    "]\n",
    "merchant_full_expanded = merchant_full_expanded.drop(*cols_to_remove)"
   ]
  },
  {
   "cell_type": "code",
   "execution_count": 24,
   "metadata": {},
   "outputs": [
    {
     "name": "stdout",
     "output_type": "stream",
     "text": [
      "Number of rows: 11372745\n",
      "Number of columns: 98\n"
     ]
    }
   ],
   "source": [
    "num_rows = merchant_full_expanded.count()\n",
    "print(f\"Number of rows: {num_rows}\")\n",
    "\n",
    "num_columns = len(merchant_full_expanded.columns)\n",
    "print(f\"Number of columns: {num_columns}\")"
   ]
  },
  {
   "cell_type": "code",
   "execution_count": 25,
   "metadata": {},
   "outputs": [
    {
     "name": "stderr",
     "output_type": "stream",
     "text": [
      "                                                                                \r"
     ]
    }
   ],
   "source": [
    "# save as a parquet file\n",
    "merchant_full_expanded.write.parquet('../data/curated/merchant_full_expanded', mode='overwrite')"
   ]
  }
 ],
 "metadata": {
  "kernelspec": {
   "display_name": "base",
   "language": "python",
   "name": "python3"
  },
  "language_info": {
   "codemirror_mode": {
    "name": "ipython",
    "version": 3
   },
   "file_extension": ".py",
   "mimetype": "text/x-python",
   "name": "python",
   "nbconvert_exporter": "python",
   "pygments_lexer": "ipython3",
   "version": "3.11.3"
  }
 },
 "nbformat": 4,
 "nbformat_minor": 2
}
