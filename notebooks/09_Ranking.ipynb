{
 "cells": [
  {
   "cell_type": "markdown",
   "metadata": {},
   "source": [
    "# Ranking System"
   ]
  },
  {
   "cell_type": "markdown",
   "metadata": {},
   "source": [
    "This notebook is used to create a ranking system to select:\n",
    "- the overall top 100 reputable and reliable merchants;\n",
    "- top 10 reputable and reliable merchants for each segment (following are all merchant segments).\n",
    "  -  Personal Care and Repair Services (1)\n",
    "  -  Arts (2)\n",
    "  -  Home and Furniture (3)\n",
    "  -  Gifts and Souvenirs (4)\n",
    "  -  Technology and Electronic Equipment (5)\n",
    "\n",
    "We will firstly add new features then build a model for ranking systems."
   ]
  },
  {
   "cell_type": "markdown",
   "metadata": {},
   "source": [
    "---"
   ]
  },
  {
   "cell_type": "code",
   "execution_count": 51,
   "metadata": {},
   "outputs": [],
   "source": [
    "from pyspark.sql import SparkSession\n",
    "from pyspark.sql.functions import* \n",
    "from pyspark.sql import functions as F\n",
    "from functools import reduce\n",
    "from pyspark.sql.functions import col, count, when, isnull, first\n",
    "from pyspark.ml.feature import StandardScaler, VectorAssembler\n",
    "from pyspark.ml.regression import GBTRegressor\n",
    "from pyspark.ml.regression import RandomForestRegressor\n",
    "import matplotlib.pyplot as plt"
   ]
  },
  {
   "cell_type": "code",
   "execution_count": 85,
   "metadata": {},
   "outputs": [],
   "source": [
    "spark = (\n",
    "    SparkSession.builder.appName(\"Ranking\")\n",
    "    .config(\"spark.sql.repl.eagerEval.enabled\", True) \n",
    "    .config(\"spark.sql.parquet.cacheMetadata\", \"true\")\n",
    "    .config(\"spark.sql.session.timeZone\", \"Etc/UTC\")\n",
    "    .config(\"spark.sql.debug.maxToStringFields\", 6000)\n",
    "    .config(\"spark.network.timeout\", \"300s\")\n",
    "    .config(\"spark.driver.maxResultSize\", \"4g\")\n",
    "    .config(\"spark.rpc.askTimeout\", \"300s\")\n",
    "    .config(\"spark.driver.memory\", \"8G\")\n",
    "    .config(\"spark.executor.memory\", \"8G\")\n",
    "    .getOrCreate()\n",
    ")"
   ]
  },
  {
   "cell_type": "markdown",
   "metadata": {},
   "source": [
    "# Read dataset"
   ]
  },
  {
   "cell_type": "code",
   "execution_count": 53,
   "metadata": {},
   "outputs": [],
   "source": [
    "full_transaction = spark.read.parquet('../data/curated/full_transaction_with_segments')"
   ]
  },
  {
   "cell_type": "code",
   "execution_count": 54,
   "metadata": {},
   "outputs": [
    {
     "name": "stdout",
     "output_type": "stream",
     "text": [
      "root\n",
      " |-- merchant_abn: long (nullable = true)\n",
      " |-- order_id: string (nullable = true)\n",
      " |-- take_rate: float (nullable = true)\n",
      " |-- merchant_fraud_probability: double (nullable = true)\n",
      " |-- transaction_revenue: double (nullable = true)\n",
      " |-- BNPL_revenue: double (nullable = true)\n",
      " |-- revenue_level_e: integer (nullable = true)\n",
      " |-- revenue_level_d: integer (nullable = true)\n",
      " |-- revenue_level_c: integer (nullable = true)\n",
      " |-- revenue_level_b: integer (nullable = true)\n",
      " |-- revenue_level_a: integer (nullable = true)\n",
      " |-- category_jewelry: integer (nullable = true)\n",
      " |-- category_art: integer (nullable = true)\n",
      " |-- category_television: integer (nullable = true)\n",
      " |-- category_watch: integer (nullable = true)\n",
      " |-- category_cable: integer (nullable = true)\n",
      " |-- category_repair: integer (nullable = true)\n",
      " |-- category_stock: integer (nullable = true)\n",
      " |-- category_flower: integer (nullable = true)\n",
      " |-- category_office: integer (nullable = true)\n",
      " |-- category_souvenir: integer (nullable = true)\n",
      " |-- category_goods:: integer (nullable = true)\n",
      " |-- category_novelty: integer (nullable = true)\n",
      " |-- category_optical: integer (nullable = true)\n",
      " |-- category_integrated: integer (nullable = true)\n",
      " |-- category_new: integer (nullable = true)\n",
      " |-- category_antique: integer (nullable = true)\n",
      " |-- category_newspaper: integer (nullable = true)\n",
      " |-- category_shoe: integer (nullable = true)\n",
      " |-- category_tent: integer (nullable = true)\n",
      " |-- category_beauty: integer (nullable = true)\n",
      " |-- category_system: integer (nullable = true)\n",
      " |-- category_lawn: integer (nullable = true)\n",
      " |-- category_sheet: integer (nullable = true)\n",
      " |-- category_programming: integer (nullable = true)\n",
      " |-- category_radio: integer (nullable = true)\n",
      " |-- category_stationery: integer (nullable = true)\n",
      " |-- category_optician: integer (nullable = true)\n",
      " |-- category_paper: integer (nullable = true)\n",
      " |-- category_software: integer (nullable = true)\n",
      " |-- category_clock: integer (nullable = true)\n",
      " |-- category_peripheral: integer (nullable = true)\n",
      " |-- category_craft: integer (nullable = true)\n",
      " |-- category_awning: integer (nullable = true)\n",
      " |-- category_garden: integer (nullable = true)\n",
      " |-- category_data: integer (nullable = true)\n",
      " |-- category_music: integer (nullable = true)\n",
      " |-- category_silverware: integer (nullable = true)\n",
      " |-- category_movie: integer (nullable = true)\n",
      " |-- category_hobby: integer (nullable = true)\n",
      " |-- category_digital: integer (nullable = true)\n",
      " |-- category_sale: integer (nullable = true)\n",
      " |-- category_tool: integer (nullable = true)\n",
      " |-- category_artist: integer (nullable = true)\n",
      " |-- category_health: integer (nullable = true)\n",
      " |-- category_writing: integer (nullable = true)\n",
      " |-- category_musical: integer (nullable = true)\n",
      " |-- category_outlet: integer (nullable = true)\n",
      " |-- category_furniture: integer (nullable = true)\n",
      " |-- category_florist: integer (nullable = true)\n",
      " |-- category_periodical: integer (nullable = true)\n",
      " |-- category_restoration: integer (nullable = true)\n",
      " |-- category_telecom: integer (nullable = true)\n",
      " |-- category_part: integer (nullable = true)\n",
      " |-- category_card: integer (nullable = true)\n",
      " |-- category_satellite: integer (nullable = true)\n",
      " |-- category_eyeglass: integer (nullable = true)\n",
      " |-- category_motor: integer (nullable = true)\n",
      " |-- category_computer: integer (nullable = true)\n",
      " |-- category_equipment: integer (nullable = true)\n",
      " |-- category_service: integer (nullable = true)\n",
      " |-- category_leasing: integer (nullable = true)\n",
      " |-- category_gift: integer (nullable = true)\n",
      " |-- category_vehicle: integer (nullable = true)\n",
      " |-- category_printing: integer (nullable = true)\n",
      " |-- category_home: integer (nullable = true)\n",
      " |-- category_instrument: integer (nullable = true)\n",
      " |-- category_nursery: integer (nullable = true)\n",
      " |-- category_good: integer (nullable = true)\n",
      " |-- category_game: integer (nullable = true)\n",
      " |-- category_spa: integer (nullable = true)\n",
      " |-- category_furnishing: integer (nullable = true)\n",
      " |-- category_rent: integer (nullable = true)\n",
      " |-- category_processing: integer (nullable = true)\n",
      " |-- category_gallery: integer (nullable = true)\n",
      " |-- category_supply: integer (nullable = true)\n",
      " |-- category_pay: integer (nullable = true)\n",
      " |-- category_design: integer (nullable = true)\n",
      " |-- category_manufacturer: integer (nullable = true)\n",
      " |-- category_toy: integer (nullable = true)\n",
      " |-- category_book: integer (nullable = true)\n",
      " |-- category_dealer: integer (nullable = true)\n",
      " |-- category_appliance: integer (nullable = true)\n",
      " |-- category_piano: integer (nullable = true)\n",
      " |-- category_bicycle: integer (nullable = true)\n",
      " |-- merchant_is_fraud: integer (nullable = true)\n",
      " |-- user_id: long (nullable = true)\n",
      " |-- postcode: integer (nullable = true)\n",
      " |-- order_datetime: date (nullable = true)\n",
      " |-- consumer_id: long (nullable = true)\n",
      " |-- dollar_value: double (nullable = true)\n",
      " |-- consumer_fraud_probability: double (nullable = true)\n",
      " |-- average_population: double (nullable = true)\n",
      " |-- avg_age_persons: double (nullable = true)\n",
      " |-- avg_mortgage_repay_monthly: double (nullable = true)\n",
      " |-- avg_tot_prsnl_inc_weekly: double (nullable = true)\n",
      " |-- avg_rent_weekly: double (nullable = true)\n",
      " |-- avg_tot_fam_inc_weekly: double (nullable = true)\n",
      " |-- avg_num_psns_per_bedroom: double (nullable = true)\n",
      " |-- avg_tot_hhd_inc_weekly: double (nullable = true)\n",
      " |-- avg_household_size: double (nullable = true)\n",
      " |-- avg_unemployment_rate: double (nullable = true)\n",
      " |-- state_NT: integer (nullable = true)\n",
      " |-- state_ACT: integer (nullable = true)\n",
      " |-- state_SA: integer (nullable = true)\n",
      " |-- state_TAS: integer (nullable = true)\n",
      " |-- state_WA: integer (nullable = true)\n",
      " |-- state_QLD: integer (nullable = true)\n",
      " |-- state_VIC: integer (nullable = true)\n",
      " |-- state_NSW: integer (nullable = true)\n",
      " |-- gender_Undisclosed: integer (nullable = true)\n",
      " |-- gender_Female: integer (nullable = true)\n",
      " |-- gender_Male: integer (nullable = true)\n",
      " |-- order_timestamp: long (nullable = true)\n",
      " |-- hashed_postcode: vector (nullable = true)\n",
      " |-- consumer_is_fraud: integer (nullable = true)\n",
      " |-- transaction_is_fraud: integer (nullable = true)\n",
      " |-- merchant_segment_1: integer (nullable = true)\n",
      " |-- merchant_segment_3: integer (nullable = true)\n",
      " |-- merchant_segment_5: integer (nullable = true)\n",
      " |-- merchant_segment_4: integer (nullable = true)\n",
      " |-- merchant_segment_2: integer (nullable = true)\n",
      "\n"
     ]
    }
   ],
   "source": [
    "full_transaction.printSchema()"
   ]
  },
  {
   "cell_type": "markdown",
   "metadata": {},
   "source": [
    "# Add new features"
   ]
  },
  {
   "cell_type": "markdown",
   "metadata": {},
   "source": [
    "### Customer Purchasing Power"
   ]
  },
  {
   "cell_type": "code",
   "execution_count": 55,
   "metadata": {},
   "outputs": [
    {
     "name": "stdout",
     "output_type": "stream",
     "text": [
      "+------------+------------------+-------+\n",
      "|merchant_abn|      dollar_value|user_id|\n",
      "+------------+------------------+-------+\n",
      "| 10023283211| 471.0728368548525|  12989|\n",
      "| 10023283211| 175.5210411776095|  14228|\n",
      "| 10023283211|161.58285610603005|  23580|\n",
      "| 10023283211|117.13654104775188|  13300|\n",
      "| 10023283211| 146.8380452902161|  22397|\n",
      "+------------+------------------+-------+\n",
      "only showing top 5 rows\n",
      "\n"
     ]
    }
   ],
   "source": [
    "customer_purchasing = full_transaction.select(\"merchant_abn\", \"dollar_value\", \"user_id\")\n",
    "customer_purchasing.show(5)"
   ]
  },
  {
   "cell_type": "code",
   "execution_count": 56,
   "metadata": {},
   "outputs": [
    {
     "name": "stderr",
     "output_type": "stream",
     "text": [
      "[Stage 9803:=================================================>     (9 + 1) / 10]\r"
     ]
    },
    {
     "name": "stdout",
     "output_type": "stream",
     "text": [
      "+------------+-------+-------------------------+\n",
      "|merchant_abn|user_id|customer_purchasing_power|\n",
      "+------------+-------+-------------------------+\n",
      "| 10206519221|   5556|        73.69453931939448|\n",
      "| 10206519221|  17553|         47.0693707286691|\n",
      "| 10264435225|  12856|        49.33107867890681|\n",
      "| 10487253336|  22215|        418.2064429778674|\n",
      "| 10487253336|  17837|        748.6677899020842|\n",
      "+------------+-------+-------------------------+\n",
      "only showing top 5 rows\n",
      "\n"
     ]
    },
    {
     "name": "stderr",
     "output_type": "stream",
     "text": [
      "                                                                                \r"
     ]
    }
   ],
   "source": [
    "# Group by `merchant_abn` and `user_id`,\n",
    "# and calculate total spending and average spending per transaction\n",
    "customer_purchasing_power = (\n",
    "    customer_purchasing\n",
    "    .groupBy(\"merchant_abn\", \"user_id\")\n",
    "    .agg(\n",
    "        # Calculate the average spending per transaction\n",
    "        F.avg(\"dollar_value\").alias(\"customer_purchasing_power\") \n",
    "    )\n",
    ")\n",
    "customer_purchasing_power.show(5)"
   ]
  },
  {
   "cell_type": "code",
   "execution_count": 57,
   "metadata": {},
   "outputs": [
    {
     "name": "stderr",
     "output_type": "stream",
     "text": [
      "[Stage 9808:>                                                       (0 + 8) / 9]\r"
     ]
    },
    {
     "name": "stdout",
     "output_type": "stream",
     "text": [
      "+------------+--------------------+\n",
      "|merchant_abn|avg_purchasing_power|\n",
      "+------------+--------------------+\n",
      "| 35344855546|   89.26560865171946|\n",
      "| 38700038932|  1346.0099129373211|\n",
      "| 83412691377|   34.97769422797056|\n",
      "| 73256306726|  284.83119504700403|\n",
      "| 15613631617|  303.62604920936644|\n",
      "+------------+--------------------+\n",
      "only showing top 5 rows\n",
      "\n"
     ]
    },
    {
     "name": "stderr",
     "output_type": "stream",
     "text": [
      "                                                                                \r"
     ]
    }
   ],
   "source": [
    "# Group by merchant_abn and calculate the average of customer_purchasing_power\n",
    "merchant_avg_purchasing_power = (\n",
    "    customer_purchasing_power\n",
    "    .groupBy(\"merchant_abn\")\n",
    "    .agg(\n",
    "        # Calculate average purchasing power for each merchant\n",
    "        F.avg(\"customer_purchasing_power\").alias(\"avg_purchasing_power\") \n",
    "    )\n",
    ")\n",
    "merchant_avg_purchasing_power.show(5)"
   ]
  },
  {
   "cell_type": "code",
   "execution_count": 58,
   "metadata": {},
   "outputs": [
    {
     "name": "stderr",
     "output_type": "stream",
     "text": [
      "                                                                                \r"
     ]
    },
    {
     "name": "stdout",
     "output_type": "stream",
     "text": [
      "+------------+--------------------+---------+--------------------------+-------------------+------------------+---------------+---------------+---------------+---------------+---------------+----------------+------------+-------------------+--------------+--------------+---------------+--------------+---------------+---------------+-----------------+---------------+----------------+----------------+-------------------+------------+----------------+------------------+-------------+-------------+---------------+---------------+-------------+--------------+--------------------+--------------+-------------------+-----------------+--------------+-----------------+--------------+-------------------+--------------+---------------+---------------+-------------+--------------+-------------------+--------------+--------------+----------------+-------------+-------------+---------------+---------------+----------------+----------------+---------------+------------------+----------------+-------------------+--------------------+----------------+-------------+-------------+------------------+-----------------+--------------+-----------------+------------------+----------------+----------------+-------------+----------------+-----------------+-------------+-------------------+----------------+-------------+-------------+------------+-------------------+-------------+-------------------+----------------+---------------+------------+---------------+---------------------+------------+-------------+---------------+------------------+--------------+----------------+-----------------+-------+--------+--------------+-----------+------------------+--------------------------+------------------+---------------+--------------------------+------------------------+---------------+----------------------+------------------------+----------------------+------------------+---------------------+--------+---------+--------+---------+--------+---------+---------+---------+------------------+-------------+-----------+---------------+-------------------+-----------------+--------------------+------------------+------------------+------------------+------------------+------------------+--------------------+\n",
      "|merchant_abn|            order_id|take_rate|merchant_fraud_probability|transaction_revenue|      BNPL_revenue|revenue_level_e|revenue_level_d|revenue_level_c|revenue_level_b|revenue_level_a|category_jewelry|category_art|category_television|category_watch|category_cable|category_repair|category_stock|category_flower|category_office|category_souvenir|category_goods:|category_novelty|category_optical|category_integrated|category_new|category_antique|category_newspaper|category_shoe|category_tent|category_beauty|category_system|category_lawn|category_sheet|category_programming|category_radio|category_stationery|category_optician|category_paper|category_software|category_clock|category_peripheral|category_craft|category_awning|category_garden|category_data|category_music|category_silverware|category_movie|category_hobby|category_digital|category_sale|category_tool|category_artist|category_health|category_writing|category_musical|category_outlet|category_furniture|category_florist|category_periodical|category_restoration|category_telecom|category_part|category_card|category_satellite|category_eyeglass|category_motor|category_computer|category_equipment|category_service|category_leasing|category_gift|category_vehicle|category_printing|category_home|category_instrument|category_nursery|category_good|category_game|category_spa|category_furnishing|category_rent|category_processing|category_gallery|category_supply|category_pay|category_design|category_manufacturer|category_toy|category_book|category_dealer|category_appliance|category_piano|category_bicycle|merchant_is_fraud|user_id|postcode|order_datetime|consumer_id|      dollar_value|consumer_fraud_probability|average_population|avg_age_persons|avg_mortgage_repay_monthly|avg_tot_prsnl_inc_weekly|avg_rent_weekly|avg_tot_fam_inc_weekly|avg_num_psns_per_bedroom|avg_tot_hhd_inc_weekly|avg_household_size|avg_unemployment_rate|state_NT|state_ACT|state_SA|state_TAS|state_WA|state_QLD|state_VIC|state_NSW|gender_Undisclosed|gender_Female|gender_Male|order_timestamp|    hashed_postcode|consumer_is_fraud|transaction_is_fraud|merchant_segment_1|merchant_segment_3|merchant_segment_5|merchant_segment_4|merchant_segment_2|avg_purchasing_power|\n",
      "+------------+--------------------+---------+--------------------------+-------------------+------------------+---------------+---------------+---------------+---------------+---------------+----------------+------------+-------------------+--------------+--------------+---------------+--------------+---------------+---------------+-----------------+---------------+----------------+----------------+-------------------+------------+----------------+------------------+-------------+-------------+---------------+---------------+-------------+--------------+--------------------+--------------+-------------------+-----------------+--------------+-----------------+--------------+-------------------+--------------+---------------+---------------+-------------+--------------+-------------------+--------------+--------------+----------------+-------------+-------------+---------------+---------------+----------------+----------------+---------------+------------------+----------------+-------------------+--------------------+----------------+-------------+-------------+------------------+-----------------+--------------+-----------------+------------------+----------------+----------------+-------------+----------------+-----------------+-------------+-------------------+----------------+-------------+-------------+------------+-------------------+-------------+-------------------+----------------+---------------+------------+---------------+---------------------+------------+-------------+---------------+------------------+--------------+----------------+-----------------+-------+--------+--------------+-----------+------------------+--------------------------+------------------+---------------+--------------------------+------------------------+---------------+----------------------+------------------------+----------------------+------------------+---------------------+--------+---------+--------+---------+--------+---------+---------+---------+------------------+-------------+-----------+---------------+-------------------+-----------------+--------------------+------------------+------------------+------------------+------------------+------------------+--------------------+\n",
      "| 12516851436|0593c28c-1a5a-4e0...|     6.71|        39.135914196765974| 191.43598257722687|  13.7692725671535|              0|              0|              0|              0|              1|               1|           0|                  0|             1|             0|              1|             0|              0|              0|                0|              0|               0|               0|                  0|           0|               0|                 0|            0|            0|              0|              0|            0|             0|                   0|             0|                  0|                0|             0|                0|             1|                  0|             0|              0|              0|            0|             0|                  0|             0|             0|               0|            0|            0|              0|              0|               0|               0|              0|                 0|               0|                  0|                   0|               0|            0|            0|                 0|                0|             0|                0|                 0|               0|               0|            0|               0|                0|            0|                  0|               0|            0|            0|           0|                  0|            0|                  0|               0|              0|           0|              0|                    0|           0|            0|              0|                 0|             0|               0|                0|  19570|    6320|    2021-04-20|      78236|205.20525318739058|         8.726171716373253|            4194.0|           44.0|                    1000.0|                   829.0|          179.0|                1890.0|                     0.7|                1385.0|               2.4|                  2.7|       0|        0|       0|        0|       1|        0|        0|        0|                 0|            1|          0|     1618876800|(6000,[1628],[1.0])|                0|                   0|                 1|                 0|                 0|                 0|                 0|  155.86384791171372|\n",
      "| 12516851436|2a6d7722-feb8-42f...|     6.71|        43.147210183574686| 22.902123924459175| 1.647263917876006|              0|              0|              0|              0|              1|               1|           0|                  0|             1|             0|              1|             0|              0|              0|                0|              0|               0|               0|                  0|           0|               0|                 0|            0|            0|              0|              0|            0|             0|                   0|             0|                  0|                0|             0|                0|             1|                  0|             0|              0|              0|            0|             0|                  0|             0|             0|               0|            0|            0|              0|              0|               0|               0|              0|                 0|               0|                  0|                   0|               0|            0|            0|                 0|                0|             0|                0|                 0|               0|               0|            0|               0|                0|            0|                  0|               0|            0|            0|           0|                  0|            0|                  0|               0|              0|           0|              0|                    0|           0|            0|              0|                 0|             0|               0|                0|  20636|    7316|    2022-06-23|     572142|24.549387608213976|         24.98195338845226|           10832.0|           46.0|                    1300.0|                   681.0|          242.5|                1732.5|                     0.8|                1394.5|               2.4|                  3.5|       0|        0|       0|        1|       0|        0|        0|        0|                 1|            0|          0|     1655942400|(6000,[2595],[1.0])|                0|                   0|                 1|                 0|                 0|                 0|                 0|  155.86384791171372|\n",
      "| 12516851436|33521ded-0db8-497...|     6.71|          41.7439557340268|  71.77516534227428| 5.162518570674657|              0|              0|              0|              0|              1|               1|           0|                  0|             1|             0|              1|             0|              0|              0|                0|              0|               0|               0|                  0|           0|               0|                 0|            0|            0|              0|              0|            0|             0|                   0|             0|                  0|                0|             0|                0|             1|                  0|             0|              0|              0|            0|             0|                  0|             0|             0|               0|            0|            0|              0|              0|               0|               0|              0|                 0|               0|                  0|                   0|               0|            0|            0|                 0|                0|             0|                0|                 0|               0|               0|            0|               0|                0|            0|                  0|               0|            0|            0|           0|                  0|            0|                  0|               0|              0|           0|              0|                    0|           0|            0|              0|                 0|             0|               0|                0|  18374|    6479|    2021-11-21|     650352|   76.937683179214|         10.51262662777342|            3076.5|           47.0|                     719.0|                   853.0|          133.0|                1671.0|                     0.7|                1286.0|               2.1|                  3.3|       0|        0|       0|        0|       1|        0|        0|        0|                 0|            1|          0|     1637452800|(6000,[2232],[1.0])|                0|                   0|                 1|                 0|                 0|                 0|                 0|  155.86384791171372|\n",
      "| 12516851436|7fa9361d-9827-4d0...|     6.71|         42.02086791713602|  351.1220010192828| 25.25488923906192|              0|              0|              0|              0|              1|               1|           0|                  0|             1|             0|              1|             0|              0|              0|                0|              0|               0|               0|                  0|           0|               0|                 0|            0|            0|              0|              0|            0|             0|                   0|             0|                  0|                0|             0|                0|             1|                  0|             0|              0|              0|            0|             0|                  0|             0|             0|               0|            0|            0|              0|              0|               0|               0|              0|                 0|               0|                  0|                   0|               0|            0|            0|                 0|                0|             0|                0|                 0|               0|               0|            0|               0|                0|            0|                  0|               0|            0|            0|           0|                  0|            0|                  0|               0|              0|           0|              0|                    0|           0|            0|              0|                 0|             0|               0|                0|   5785|    4285|    2021-11-13|     752015|376.37688666893496|         16.33637582211992|           72415.5|           41.4|                    1743.6|                   738.4|          344.0|                1860.8|                     0.8|                1693.2|               2.8|                  4.9|       0|        0|       0|        0|       0|        1|        0|        0|                 0|            1|          0|     1636761600| (6000,[583],[1.0])|                0|                   0|                 1|                 0|                 0|                 0|                 0|  155.86384791171372|\n",
      "| 12516851436|8d2b9e67-0b64-4f1...|     6.71|         40.42909555646893| 52.325359729230705|3.7635669668082716|              0|              0|              0|              0|              1|               1|           0|                  0|             1|             0|              1|             0|              0|              0|                0|              0|               0|               0|                  0|           0|               0|                 0|            0|            0|              0|              0|            0|             0|                   0|             0|                  0|                0|             0|                0|             1|                  0|             0|              0|              0|            0|             0|                  0|             0|             0|               0|            0|            0|              0|              0|               0|               0|              0|                 0|               0|                  0|                   0|               0|            0|            0|                 0|                0|             0|                0|                 0|               0|               0|            0|               0|                0|            0|                  0|               0|            0|            0|           0|                  0|            0|                  0|               0|              0|           0|              0|                    0|           0|            0|              0|                 0|             0|               0|                0|  20400|    3933|    2021-03-08|    1030700|56.088926161133294|        17.883519080992738|           18650.5|           41.0|                    1800.0|                   797.0|          380.0|                2129.0|                     0.8|                1781.0|               2.6|                  2.8|       0|        0|       0|        0|       0|        0|        1|        0|                 0|            0|          1|     1615161600|(6000,[5041],[1.0])|                0|                   0|                 1|                 0|                 0|                 0|                 0|  155.86384791171372|\n",
      "+------------+--------------------+---------+--------------------------+-------------------+------------------+---------------+---------------+---------------+---------------+---------------+----------------+------------+-------------------+--------------+--------------+---------------+--------------+---------------+---------------+-----------------+---------------+----------------+----------------+-------------------+------------+----------------+------------------+-------------+-------------+---------------+---------------+-------------+--------------+--------------------+--------------+-------------------+-----------------+--------------+-----------------+--------------+-------------------+--------------+---------------+---------------+-------------+--------------+-------------------+--------------+--------------+----------------+-------------+-------------+---------------+---------------+----------------+----------------+---------------+------------------+----------------+-------------------+--------------------+----------------+-------------+-------------+------------------+-----------------+--------------+-----------------+------------------+----------------+----------------+-------------+----------------+-----------------+-------------+-------------------+----------------+-------------+-------------+------------+-------------------+-------------+-------------------+----------------+---------------+------------+---------------+---------------------+------------+-------------+---------------+------------------+--------------+----------------+-----------------+-------+--------+--------------+-----------+------------------+--------------------------+------------------+---------------+--------------------------+------------------------+---------------+----------------------+------------------------+----------------------+------------------+---------------------+--------+---------+--------+---------+--------+---------+---------+---------+------------------+-------------+-----------+---------------+-------------------+-----------------+--------------------+------------------+------------------+------------------+------------------+------------------+--------------------+\n",
      "only showing top 5 rows\n",
      "\n"
     ]
    }
   ],
   "source": [
    "# Merge the `avg_purchasing_power` to `full_transactions`\n",
    "full_transaction = full_transaction.join(\n",
    "    merchant_avg_purchasing_power, \n",
    "    on=[\"merchant_abn\"], \n",
    "    how=\"inner\"\n",
    ").select(\n",
    "    full_transaction[\"*\"], \n",
    "    merchant_avg_purchasing_power[\"avg_purchasing_power\"]\n",
    ")\n",
    "full_transaction.show(5)"
   ]
  },
  {
   "cell_type": "markdown",
   "metadata": {},
   "source": [
    "### Customer Repurchase Rate"
   ]
  },
  {
   "cell_type": "code",
   "execution_count": 59,
   "metadata": {},
   "outputs": [
    {
     "name": "stderr",
     "output_type": "stream",
     "text": [
      "[Stage 9826:>                                                       (0 + 1) / 1]\r"
     ]
    },
    {
     "name": "stdout",
     "output_type": "stream",
     "text": [
      "+------------+-------+--------------+\n",
      "|merchant_abn|user_id|purchase_count|\n",
      "+------------+-------+--------------+\n",
      "| 12516851436|  19570|             1|\n",
      "| 12516851436|  20636|             1|\n",
      "| 12516851436|  18374|             1|\n",
      "| 12516851436|   5785|             1|\n",
      "| 12516851436|  20400|             1|\n",
      "+------------+-------+--------------+\n",
      "only showing top 5 rows\n",
      "\n"
     ]
    },
    {
     "name": "stderr",
     "output_type": "stream",
     "text": [
      "                                                                                \r"
     ]
    }
   ],
   "source": [
    "# Group by merchant_abn and user_id, calculate the number of transactions per customer for each merchant\n",
    "customer_purchase_counts = full_transaction.groupBy(\"merchant_abn\", \"user_id\").agg(\n",
    "    F.countDistinct(\"order_datetime\").alias(\"purchase_count\")  # Calculate distinct transaction dates per customer\n",
    ")\n",
    "customer_purchase_counts.show(5)"
   ]
  },
  {
   "cell_type": "code",
   "execution_count": 60,
   "metadata": {},
   "outputs": [
    {
     "name": "stderr",
     "output_type": "stream",
     "text": [
      "[Stage 9832:>                                                       (0 + 8) / 9]\r"
     ]
    },
    {
     "name": "stdout",
     "output_type": "stream",
     "text": [
      "+------------+------------------+\n",
      "|merchant_abn|   repurchase_rate|\n",
      "+------------+------------------+\n",
      "| 86578477987|0.9999003884849088|\n",
      "| 24852446429|0.9999003835234348|\n",
      "| 64203420245|0.9998505827273633|\n",
      "| 49891706470|0.9997011356843993|\n",
      "| 46804135891|0.9993524606495318|\n",
      "+------------+------------------+\n",
      "only showing top 5 rows\n",
      "\n"
     ]
    },
    {
     "name": "stderr",
     "output_type": "stream",
     "text": [
      "                                                                                \r"
     ]
    }
   ],
   "source": [
    "# Calculate the number of repurchase users and total users per merchant\n",
    "repurchase_data = customer_purchase_counts.groupBy(\"merchant_abn\") \\\n",
    "    .agg(\n",
    "        F.sum(F.when(F.col(\"purchase_count\") > 1, 1).otherwise(0)).alias(\"repurchase_count\"),  # Count of repurchase users\n",
    "        F.count(\"user_id\").alias(\"total_users\")  # Total number of users\n",
    "    )\n",
    "\n",
    "# Calculate the repurchase rate\n",
    "repurchase_data = repurchase_data.withColumn(\"repurchase_rate\", \n",
    "    F.col(\"repurchase_count\") / F.col(\"total_users\"))\n",
    "\n",
    "# Sort by repurchase rate in descending order\n",
    "sorted_repurchase_data = repurchase_data.orderBy(F.col(\"repurchase_rate\").desc())\n",
    "\n",
    "# Drop the intermediate columns: repurchase_count and total_users\n",
    "sorted_repurchase_data = sorted_repurchase_data.drop(\"repurchase_count\", \"total_users\")\n",
    "sorted_repurchase_data.show(5)"
   ]
  },
  {
   "cell_type": "code",
   "execution_count": 61,
   "metadata": {},
   "outputs": [
    {
     "name": "stderr",
     "output_type": "stream",
     "text": [
      "[Stage 9846:>                                                       (0 + 1) / 1]\r"
     ]
    },
    {
     "name": "stdout",
     "output_type": "stream",
     "text": [
      "+------------+--------------------+---------+--------------------------+-------------------+-------------------+---------------+---------------+---------------+---------------+---------------+----------------+------------+-------------------+--------------+--------------+---------------+--------------+---------------+---------------+-----------------+---------------+----------------+----------------+-------------------+------------+----------------+------------------+-------------+-------------+---------------+---------------+-------------+--------------+--------------------+--------------+-------------------+-----------------+--------------+-----------------+--------------+-------------------+--------------+---------------+---------------+-------------+--------------+-------------------+--------------+--------------+----------------+-------------+-------------+---------------+---------------+----------------+----------------+---------------+------------------+----------------+-------------------+--------------------+----------------+-------------+-------------+------------------+-----------------+--------------+-----------------+------------------+----------------+----------------+-------------+----------------+-----------------+-------------+-------------------+----------------+-------------+-------------+------------+-------------------+-------------+-------------------+----------------+---------------+------------+---------------+---------------------+------------+-------------+---------------+------------------+--------------+----------------+-----------------+-------+--------+--------------+-----------+------------------+--------------------------+------------------+------------------+--------------------------+------------------------+-----------------+----------------------+------------------------+----------------------+------------------+---------------------+--------+---------+--------+---------+--------+---------+---------+---------+------------------+-------------+-----------+---------------+-------------------+-----------------+--------------------+------------------+------------------+------------------+------------------+------------------+--------------------+-------------------+\n",
      "|merchant_abn|            order_id|take_rate|merchant_fraud_probability|transaction_revenue|       BNPL_revenue|revenue_level_e|revenue_level_d|revenue_level_c|revenue_level_b|revenue_level_a|category_jewelry|category_art|category_television|category_watch|category_cable|category_repair|category_stock|category_flower|category_office|category_souvenir|category_goods:|category_novelty|category_optical|category_integrated|category_new|category_antique|category_newspaper|category_shoe|category_tent|category_beauty|category_system|category_lawn|category_sheet|category_programming|category_radio|category_stationery|category_optician|category_paper|category_software|category_clock|category_peripheral|category_craft|category_awning|category_garden|category_data|category_music|category_silverware|category_movie|category_hobby|category_digital|category_sale|category_tool|category_artist|category_health|category_writing|category_musical|category_outlet|category_furniture|category_florist|category_periodical|category_restoration|category_telecom|category_part|category_card|category_satellite|category_eyeglass|category_motor|category_computer|category_equipment|category_service|category_leasing|category_gift|category_vehicle|category_printing|category_home|category_instrument|category_nursery|category_good|category_game|category_spa|category_furnishing|category_rent|category_processing|category_gallery|category_supply|category_pay|category_design|category_manufacturer|category_toy|category_book|category_dealer|category_appliance|category_piano|category_bicycle|merchant_is_fraud|user_id|postcode|order_datetime|consumer_id|      dollar_value|consumer_fraud_probability|average_population|   avg_age_persons|avg_mortgage_repay_monthly|avg_tot_prsnl_inc_weekly|  avg_rent_weekly|avg_tot_fam_inc_weekly|avg_num_psns_per_bedroom|avg_tot_hhd_inc_weekly|avg_household_size|avg_unemployment_rate|state_NT|state_ACT|state_SA|state_TAS|state_WA|state_QLD|state_VIC|state_NSW|gender_Undisclosed|gender_Female|gender_Male|order_timestamp|    hashed_postcode|consumer_is_fraud|transaction_is_fraud|merchant_segment_1|merchant_segment_3|merchant_segment_5|merchant_segment_4|merchant_segment_2|avg_purchasing_power|    repurchase_rate|\n",
      "+------------+--------------------+---------+--------------------------+-------------------+-------------------+---------------+---------------+---------------+---------------+---------------+----------------+------------+-------------------+--------------+--------------+---------------+--------------+---------------+---------------+-----------------+---------------+----------------+----------------+-------------------+------------+----------------+------------------+-------------+-------------+---------------+---------------+-------------+--------------+--------------------+--------------+-------------------+-----------------+--------------+-----------------+--------------+-------------------+--------------+---------------+---------------+-------------+--------------+-------------------+--------------+--------------+----------------+-------------+-------------+---------------+---------------+----------------+----------------+---------------+------------------+----------------+-------------------+--------------------+----------------+-------------+-------------+------------------+-----------------+--------------+-----------------+------------------+----------------+----------------+-------------+----------------+-----------------+-------------+-------------------+----------------+-------------+-------------+------------+-------------------+-------------+-------------------+----------------+---------------+------------+---------------+---------------------+------------+-------------+---------------+------------------+--------------+----------------+-----------------+-------+--------+--------------+-----------+------------------+--------------------------+------------------+------------------+--------------------------+------------------------+-----------------+----------------------+------------------------+----------------------+------------------+---------------------+--------+---------+--------+---------+--------+---------+---------+---------+------------------+-------------+-----------+---------------+-------------------+-----------------+--------------------+------------------+------------------+------------------+------------------+------------------+--------------------+-------------------+\n",
      "| 10023283211|02ac9935-bc3b-4a0...|     0.18|         69.11676678141136| 470.22490431091353| 0.8479311400324895|              1|              0|              0|              0|              0|               0|           0|                  0|             0|             0|              0|             0|              0|              0|                0|              0|               0|               0|                  0|           0|               0|                 0|            0|            0|              0|              0|            0|             0|                   0|             0|                  0|                0|             0|                0|             0|                  0|             0|              0|              0|            0|             0|                  0|             0|             0|               0|            0|            0|              0|              0|               0|               0|              0|                 1|               0|                  0|                   0|               0|            0|            0|                 0|                0|             0|                0|                 1|               0|               0|            0|               0|                0|            1|                  0|               0|            0|            0|           0|                  1|            0|                  0|               0|              0|           0|              0|                    1|           0|            0|              0|                 1|             0|               0|                1|  12989|    6450|    2021-06-28|     545205| 471.0728368548525|         17.23266639692692|           29128.5|41.666666666666664|        1413.3333333333333|       843.3333333333334|257.6666666666667|    2012.6666666666667|      0.6999999999999998|    1545.6666666666667|               2.4|   2.6666666666666665|       0|        0|       0|        0|       1|        0|        0|        0|                 0|            1|          0|     1624838400|(6000,[5335],[1.0])|                0|                   1|                 0|                 1|                 0|                 0|                 0|  215.18635715079873|0.06893819334389857|\n",
      "| 10023283211|089fb2ac-c128-41e...|     0.18|         69.14071810371141|  175.2051027678421|0.31593788667394024|              1|              0|              0|              0|              0|               0|           0|                  0|             0|             0|              0|             0|              0|              0|                0|              0|               0|               0|                  0|           0|               0|                 0|            0|            0|              0|              0|            0|             0|                   0|             0|                  0|                0|             0|                0|             0|                  0|             0|              0|              0|            0|             0|                  0|             0|             0|               0|            0|            0|              0|              0|               0|               0|              0|                 1|               0|                  0|                   0|               0|            0|            0|                 0|                0|             0|                0|                 1|               0|               0|            0|               0|                0|            1|                  0|               0|            0|            0|           0|                  1|            0|                  0|               0|              0|           0|              0|                    1|           0|            0|              0|                 1|             0|               0|                1|  14228|    6324|    2022-04-09|     611022| 175.5210411776095|          9.17784580695778|            9396.0|              46.5|                    1539.0|                   682.0|            237.5|                1695.0|                     0.8|                1366.5|               2.4|                  3.8|       0|        0|       0|        0|       1|        0|        0|        0|                 0|            0|          1|     1649462400|(6000,[2887],[1.0])|                0|                   1|                 0|                 1|                 0|                 0|                 0|  215.18635715079873|0.06893819334389857|\n",
      "| 10023283211|0930efdf-43da-452...|     0.18|         69.14071810371141| 161.29200647192746|0.29084915254816057|              1|              0|              0|              0|              0|               0|           0|                  0|             0|             0|              0|             0|              0|              0|                0|              0|               0|               0|                  0|           0|               0|                 0|            0|            0|              0|              0|            0|             0|                   0|             0|                  0|                0|             0|                0|             0|                  0|             0|              0|              0|            0|             0|                  0|             0|             0|               0|            0|            0|              0|              0|               0|               0|              0|                 1|               0|                  0|                   0|               0|            0|            0|                 0|                0|             0|                0|                 1|               0|               0|            0|               0|                0|            1|                  0|               0|            0|            0|           0|                  1|            0|                  0|               0|              0|           0|              0|                    1|           0|            0|              0|                 1|             0|               0|                1|  23580|     834|    2022-06-17|    1170714|161.58285610603005|        14.812532322929243|            3397.0|              41.0|                    2383.0|                  1096.0|            370.0|                2623.0|                     0.9|                2153.0|               2.7|                  4.3|       1|        0|       0|        0|       0|        0|        0|        0|                 0|            0|          1|     1655424000|(6000,[2030],[1.0])|                0|                   1|                 0|                 1|                 0|                 0|                 0|  215.18635715079873|0.06893819334389857|\n",
      "| 10023283211|2678b8f8-cbb8-40d...|     0.18|         69.14283877653557| 116.92569491639357| 0.2108457822642117|              1|              0|              0|              0|              0|               0|           0|                  0|             0|             0|              0|             0|              0|              0|                0|              0|               0|               0|                  0|           0|               0|                 0|            0|            0|              0|              0|            0|             0|                   0|             0|                  0|                0|             0|                0|             0|                  0|             0|              0|              0|            0|             0|                  0|             0|             0|               0|            0|            0|              0|              0|               0|               0|              0|                 1|               0|                  0|                   0|               0|            0|            0|                 0|                0|             0|                0|                 1|               0|               0|            0|               0|                0|            1|                  0|               0|            0|            0|           0|                  1|            0|                  0|               0|              0|           0|              0|                    1|           0|            0|              0|                 1|             0|               0|                1|  13300|    3761|    2022-10-15|     185748|117.13654104775188|        11.570533725638844|            5140.5|              48.0|                    2200.0|                   876.0|            300.0|                2483.0|                     0.8|                2254.0|               2.9|                  3.2|       0|        0|       0|        0|       0|        0|        1|        0|                 0|            1|          0|     1665792000|(6000,[4321],[1.0])|                0|                   1|                 0|                 1|                 0|                 0|                 0|  215.18635715079873|0.06893819334389857|\n",
      "| 10023283211|2c21f9c1-281f-460...|     0.18|         69.14060015860203| 146.57373636057955| 0.2643084920250644|              1|              0|              0|              0|              0|               0|           0|                  0|             0|             0|              0|             0|              0|              0|                0|              0|               0|               0|                  0|           0|               0|                 0|            0|            0|              0|              0|            0|             0|                   0|             0|                  0|                0|             0|                0|             0|                  0|             0|              0|              0|            0|             0|                  0|             0|             0|               0|            0|            0|              0|              0|               0|               0|              0|                 1|               0|                  0|                   0|               0|            0|            0|                 0|                0|             0|                0|                 1|               0|               0|            0|               0|                0|            1|                  0|               0|            0|            0|           0|                  1|            0|                  0|               0|              0|           0|              0|                    1|           0|            0|              0|                 1|             0|               0|                1|  22397|    3882|    2021-05-01|    1346190| 146.8380452902161|        12.586758115004296|            8324.0|              48.0|                    1343.0|                   669.0|            250.0|                1619.0|                     0.8|                1323.0|               2.4|                  3.1|       0|        0|       0|        0|       0|        0|        1|        0|                 0|            0|          1|     1619827200|(6000,[2256],[1.0])|                0|                   1|                 0|                 1|                 0|                 0|                 0|  215.18635715079873|0.06893819334389857|\n",
      "+------------+--------------------+---------+--------------------------+-------------------+-------------------+---------------+---------------+---------------+---------------+---------------+----------------+------------+-------------------+--------------+--------------+---------------+--------------+---------------+---------------+-----------------+---------------+----------------+----------------+-------------------+------------+----------------+------------------+-------------+-------------+---------------+---------------+-------------+--------------+--------------------+--------------+-------------------+-----------------+--------------+-----------------+--------------+-------------------+--------------+---------------+---------------+-------------+--------------+-------------------+--------------+--------------+----------------+-------------+-------------+---------------+---------------+----------------+----------------+---------------+------------------+----------------+-------------------+--------------------+----------------+-------------+-------------+------------------+-----------------+--------------+-----------------+------------------+----------------+----------------+-------------+----------------+-----------------+-------------+-------------------+----------------+-------------+-------------+------------+-------------------+-------------+-------------------+----------------+---------------+------------+---------------+---------------------+------------+-------------+---------------+------------------+--------------+----------------+-----------------+-------+--------+--------------+-----------+------------------+--------------------------+------------------+------------------+--------------------------+------------------------+-----------------+----------------------+------------------------+----------------------+------------------+---------------------+--------+---------+--------+---------+--------+---------+---------+---------+------------------+-------------+-----------+---------------+-------------------+-----------------+--------------------+------------------+------------------+------------------+------------------+------------------+--------------------+-------------------+\n",
      "only showing top 5 rows\n",
      "\n"
     ]
    },
    {
     "name": "stderr",
     "output_type": "stream",
     "text": [
      "                                                                                \r"
     ]
    }
   ],
   "source": [
    "# Merge the `repurchase_rate` to `full_transactions`\n",
    "full_transaction = full_transaction.join(\n",
    "    sorted_repurchase_data, \n",
    "    on=[\"merchant_abn\"], \n",
    "    how=\"inner\"\n",
    ").select(\n",
    "    full_transaction[\"*\"], \n",
    "    sorted_repurchase_data[\"repurchase_rate\"]\n",
    ")\n",
    "full_transaction.show(5)"
   ]
  },
  {
   "cell_type": "markdown",
   "metadata": {},
   "source": [
    "# Aggregation of Numerical Features by merchant_abn"
   ]
  },
  {
   "cell_type": "code",
   "execution_count": 62,
   "metadata": {},
   "outputs": [],
   "source": [
    "numerical_transaction = full_transaction.select(\"merchant_abn\", \n",
    "                                                \"merchant_fraud_probability\", \n",
    "                                                \"transaction_revenue\", \n",
    "                                                \"BNPL_revenue\", \"consumer_fraud_probability\", \n",
    "                                                \"average_population\", \"avg_age_persons\", \n",
    "                                                \"avg_mortgage_repay_monthly\", \n",
    "                                                \"avg_tot_prsnl_inc_weekly\", \n",
    "                                                \"avg_rent_weekly\", \"avg_tot_fam_inc_weekly\", \n",
    "                                                \"avg_num_psns_per_bedroom\", \n",
    "                                                \"avg_tot_hhd_inc_weekly\", \n",
    "                                                \"avg_household_size\", \"avg_unemployment_rate\",\n",
    "                                                \"repurchase_rate\", \"avg_purchasing_power\")"
   ]
  },
  {
   "cell_type": "code",
   "execution_count": 63,
   "metadata": {},
   "outputs": [
    {
     "name": "stderr",
     "output_type": "stream",
     "text": [
      "[Stage 9860:>                                                       (0 + 1) / 1]\r"
     ]
    },
    {
     "name": "stdout",
     "output_type": "stream",
     "text": [
      "+------------+------------------------------+------------------------------+----------------------+-----------------+--------------------------+------------------------+------------------+----------------------+------------------------+----------------------+------------------+--------------------+--------------------+-------------------------+------------------+\n",
      "|merchant_abn|avg_merchant_fraud_probability|avg_consumer_fraud_probability|avg_average_population|  avg_age_persons|avg_mortgage_repay_monthly|avg_tot_prsnl_inc_weekly|   avg_rent_weekly|avg_tot_fam_inc_weekly|avg_num_psns_per_bedroom|avg_tot_hhd_inc_weekly|avg_household_size| avg_repurchase_rate|avg_purchasing_power|total_transaction_revenue|total_BNPL_revenue|\n",
      "+------------+------------------------------+------------------------------+----------------------+-----------------+--------------------------+------------------------+------------------+----------------------+------------------------+----------------------+------------------+--------------------+--------------------+-------------------------+------------------+\n",
      "| 10023283211|             69.16620017800165|            15.512188850142135|     18563.21829944547|43.17589920322656|         1585.625274336442|       788.0627683879986|  302.636343559206|     1969.290229076106|      0.7912192062779388|    1601.0216888332295| 2.458626356063519| 0.06893819334390154|  215.18635715078887|        582561.0618891594|1050.5008578184509|\n",
      "| 10346855916|             29.48465925849934|            11.321189712265296|            19419.4375|          43.5625|                1629.59375|               770.03125|         306.90625|             1982.9375|                0.778125|            1651.46875|          2.521875|                 0.0|  1982.5698920010875|       15294.337223255776|  566.221950567445|\n",
      "| 10385163239|              65.0035679192527|            15.036497799707647|          19691.234375|42.41223958333334|        1636.2111979166668|       794.8901041666667| 315.7005208333333|    1997.1635416666666|      0.8028124999999999|           1658.621875|2.4975781250000004|0.015873015873015844|   348.0517476684615|       20942.065539515825|1482.2471026550893|\n",
      "| 10648956813|             72.36552014314039|              15.6036860699711|    18602.849989048296|43.31803698908022|        1612.5606956817248|       790.9392091849775| 306.9388074342458|    1975.6497567042315|      0.7925234494415453|    1606.4853482954306|2.4608844569618786|  0.3874822428343295|   64.59050369021972|       1100711.5615630585| 78538.02356620459|\n",
      "| 10714068705|              67.1232144040485|            15.700412389853403|     18744.36916695472|43.22828773456449|        1619.8072183080444|       791.6268489948302|307.80112641051267|    1984.1973474005504|      0.7910777097139589|     1620.360190737387|2.4758952109059704| 0.06381409074142369|  125.65712934792643|       354934.44951621623| 9138.224273485872|\n",
      "+------------+------------------------------+------------------------------+----------------------+-----------------+--------------------------+------------------------+------------------+----------------------+------------------------+----------------------+------------------+--------------------+--------------------+-------------------------+------------------+\n",
      "only showing top 5 rows\n",
      "\n"
     ]
    },
    {
     "name": "stderr",
     "output_type": "stream",
     "text": [
      "                                                                                \r"
     ]
    }
   ],
   "source": [
    "# Group by 'merchant_abn' and aggregate\n",
    "numerical_transaction  = numerical_transaction.groupBy(\"merchant_abn\").agg(\n",
    "    # Average for the specified columns\n",
    "    F.avg(\"merchant_fraud_probability\").alias(\"avg_merchant_fraud_probability\"),\n",
    "    F.avg(\"consumer_fraud_probability\").alias(\"avg_consumer_fraud_probability\"),\n",
    "    F.avg(\"average_population\").alias(\"avg_average_population\"),\n",
    "    F.avg(\"avg_age_persons\").alias(\"avg_age_persons\"),\n",
    "    F.avg(\"avg_mortgage_repay_monthly\").alias(\"avg_mortgage_repay_monthly\"),\n",
    "    F.avg(\"avg_tot_prsnl_inc_weekly\").alias(\"avg_tot_prsnl_inc_weekly\"),\n",
    "    F.avg(\"avg_rent_weekly\").alias(\"avg_rent_weekly\"),\n",
    "    F.avg(\"avg_tot_fam_inc_weekly\").alias(\"avg_tot_fam_inc_weekly\"),\n",
    "    F.avg(\"avg_num_psns_per_bedroom\").alias(\"avg_num_psns_per_bedroom\"),\n",
    "    F.avg(\"avg_tot_hhd_inc_weekly\").alias(\"avg_tot_hhd_inc_weekly\"),\n",
    "    F.avg(\"avg_household_size\").alias(\"avg_household_size\"),\n",
    "    F.avg(\"repurchase_rate\").alias(\"avg_repurchase_rate\"),\n",
    "    F.avg(\"avg_purchasing_power\").alias(\"avg_purchasing_power\"),\n",
    "\n",
    "    # Sum for the transaction revenue and BNPL revenue\n",
    "    F.sum(\"transaction_revenue\").alias(\"total_transaction_revenue\"),\n",
    "    F.sum(\"BNPL_revenue\").alias(\"total_BNPL_revenue\")\n",
    ")\n",
    "\n",
    "# Display the result\n",
    "numerical_transaction.show(5)"
   ]
  },
  {
   "cell_type": "markdown",
   "metadata": {},
   "source": [
    "# Aggregation of Categorical Features by merchant_abn"
   ]
  },
  {
   "cell_type": "code",
   "execution_count": 64,
   "metadata": {},
   "outputs": [
    {
     "name": "stderr",
     "output_type": "stream",
     "text": [
      "[Stage 9868:>                                                       (0 + 1) / 1]\r"
     ]
    },
    {
     "name": "stdout",
     "output_type": "stream",
     "text": [
      "+------------+---------------+---------------+---------------+---------------+---------------+--------+---------+--------+---------+--------+---------+---------+---------+------------------+-------------+-----------+-----------------+--------------------+------------------+------------------+------------------+------------------+------------------+\n",
      "|merchant_abn|revenue_level_e|revenue_level_d|revenue_level_c|revenue_level_b|revenue_level_a|state_NT|state_ACT|state_SA|state_TAS|state_WA|state_QLD|state_VIC|state_NSW|gender_Undisclosed|gender_Female|gender_Male|consumer_is_fraud|transaction_is_fraud|merchant_segment_1|merchant_segment_3|merchant_segment_5|merchant_segment_4|merchant_segment_2|\n",
      "+------------+---------------+---------------+---------------+---------------+---------------+--------+---------+--------+---------+--------+---------+---------+---------+------------------+-------------+-----------+-----------------+--------------------+------------------+------------------+------------------+------------------+------------------+\n",
      "| 10023283211|              1|              0|              0|              0|              0|       0|        0|       0|        0|       1|        0|        0|        0|                 0|            1|          0|                0|                   1|                 0|                 1|                 0|                 0|                 0|\n",
      "| 10023283211|              1|              0|              0|              0|              0|       0|        0|       0|        0|       1|        0|        0|        0|                 0|            0|          1|                0|                   1|                 0|                 1|                 0|                 0|                 0|\n",
      "| 10023283211|              1|              0|              0|              0|              0|       1|        0|       0|        0|       0|        0|        0|        0|                 0|            0|          1|                0|                   1|                 0|                 1|                 0|                 0|                 0|\n",
      "| 10023283211|              1|              0|              0|              0|              0|       0|        0|       0|        0|       0|        0|        1|        0|                 0|            1|          0|                0|                   1|                 0|                 1|                 0|                 0|                 0|\n",
      "| 10023283211|              1|              0|              0|              0|              0|       0|        0|       0|        0|       0|        0|        1|        0|                 0|            0|          1|                0|                   1|                 0|                 1|                 0|                 0|                 0|\n",
      "+------------+---------------+---------------+---------------+---------------+---------------+--------+---------+--------+---------+--------+---------+---------+---------+------------------+-------------+-----------+-----------------+--------------------+------------------+------------------+------------------+------------------+------------------+\n",
      "only showing top 5 rows\n",
      "\n"
     ]
    },
    {
     "name": "stderr",
     "output_type": "stream",
     "text": [
      "                                                                                \r"
     ]
    }
   ],
   "source": [
    "categorical_transaction = full_transaction.select(\"merchant_abn\", \"revenue_level_e\", \n",
    "                                                  \"revenue_level_d\", \"revenue_level_c\", \n",
    "                                                  \"revenue_level_b\", \"revenue_level_a\", \n",
    "                                                  \"state_NT\", \"state_ACT\", \"state_SA\", \n",
    "                                                  \"state_TAS\", \"state_WA\", \"state_QLD\", \n",
    "                                                  \"state_VIC\", \"state_NSW\", \"gender_Undisclosed\", \n",
    "                                                  \"gender_Female\", \"gender_Male\", \n",
    "                                                  \"consumer_is_fraud\",\n",
    "                                                  \"transaction_is_fraud\", \"merchant_segment_1\", \n",
    "                                                  \"merchant_segment_3\", \"merchant_segment_5\", \n",
    "                                                  \"merchant_segment_4\", \"merchant_segment_2\")\n",
    "categorical_transaction.show(5)"
   ]
  },
  {
   "cell_type": "code",
   "execution_count": 65,
   "metadata": {},
   "outputs": [
    {
     "name": "stderr",
     "output_type": "stream",
     "text": [
      "[Stage 9876:>                                                       (0 + 1) / 1]\r"
     ]
    },
    {
     "name": "stdout",
     "output_type": "stream",
     "text": [
      "+------------+---------------+---------------+---------------+---------------+---------------+--------+---------+--------+---------+--------+---------+---------+---------+------------------+-------------+-----------+-----------------+--------------------+------------------+------------------+------------------+------------------+------------------+\n",
      "|merchant_abn|revenue_level_e|revenue_level_d|revenue_level_c|revenue_level_b|revenue_level_a|state_NT|state_ACT|state_SA|state_TAS|state_WA|state_QLD|state_VIC|state_NSW|gender_Undisclosed|gender_Female|gender_Male|consumer_is_fraud|transaction_is_fraud|merchant_segment_1|merchant_segment_3|merchant_segment_5|merchant_segment_4|merchant_segment_2|\n",
      "+------------+---------------+---------------+---------------+---------------+---------------+--------+---------+--------+---------+--------+---------+---------+---------+------------------+-------------+-----------+-----------------+--------------------+------------------+------------------+------------------+------------------+------------------+\n",
      "| 10023283211|              1|              0|              0|              0|              0|       0|        0|       0|        0|       1|        0|        0|        0|                 0|            1|          0|                0|                   1|                 0|                 1|                 0|                 0|                 0|\n",
      "| 10342410215|              0|              0|              0|              0|              1|       0|        0|       1|        0|       0|        0|        0|        0|                 0|            1|          0|                0|                   1|                 0|                 0|                 1|                 0|                 0|\n",
      "| 10346855916|              0|              0|              0|              1|              0|       0|        0|       0|        0|       0|        0|        1|        0|                 0|            1|          0|                0|                   0|                 0|                 1|                 0|                 0|                 0|\n",
      "| 10385163239|              0|              0|              0|              0|              1|       0|        0|       1|        0|       0|        0|        0|        0|                 0|            0|          1|                0|                   1|                 0|                 0|                 0|                 1|                 0|\n",
      "| 10648956813|              0|              0|              0|              0|              1|       0|        0|       0|        0|       0|        0|        1|        0|                 0|            1|          0|                0|                   1|                 0|                 0|                 1|                 0|                 0|\n",
      "+------------+---------------+---------------+---------------+---------------+---------------+--------+---------+--------+---------+--------+---------+---------+---------+------------------+-------------+-----------+-----------------+--------------------+------------------+------------------+------------------+------------------+------------------+\n",
      "only showing top 5 rows\n",
      "\n"
     ]
    },
    {
     "name": "stderr",
     "output_type": "stream",
     "text": [
      "                                                                                \r"
     ]
    }
   ],
   "source": [
    "# Group by merchant_abn and take the first record for each ABN\n",
    "categorical_transaction = categorical_transaction.groupBy(\"merchant_abn\").agg(\n",
    "    first(\"revenue_level_e\").alias(\"revenue_level_e\"),       # Get the first revenue_level_e for each merchant_abn\n",
    "    first(\"revenue_level_d\").alias(\"revenue_level_d\"),       # Get the first revenue_level_d for each merchant_abn\n",
    "    first(\"revenue_level_c\").alias(\"revenue_level_c\"),       # Get the first revenue_level_c for each merchant_abn\n",
    "    first(\"revenue_level_b\").alias(\"revenue_level_b\"),       # Get the first revenue_level_b for each merchant_abn\n",
    "    first(\"revenue_level_a\").alias(\"revenue_level_a\"),       # Get the first revenue_level_a for each merchant_abn\n",
    "    first(\"state_NT\").alias(\"state_NT\"),                     # Get the first state_NT for each merchant_abn\n",
    "    first(\"state_ACT\").alias(\"state_ACT\"),                   # Get the first state_ACT for each merchant_abn\n",
    "    first(\"state_SA\").alias(\"state_SA\"),                     # Get the first state_SA for each merchant_abn\n",
    "    first(\"state_TAS\").alias(\"state_TAS\"),                   # Get the first state_TAS for each merchant_abn\n",
    "    first(\"state_WA\").alias(\"state_WA\"),                     # Get the first state_WA for each merchant_abn\n",
    "    first(\"state_QLD\").alias(\"state_QLD\"),                   # Get the first state_QLD for each merchant_abn\n",
    "    first(\"state_VIC\").alias(\"state_VIC\"),                   # Get the first state_VIC for each merchant_abn\n",
    "    first(\"state_NSW\").alias(\"state_NSW\"),                   # Get the first state_NSW for each merchant_abn\n",
    "    first(\"gender_Undisclosed\").alias(\"gender_Undisclosed\"), # Get the first gender_Undisclosed for each merchant_abn\n",
    "    first(\"gender_Female\").alias(\"gender_Female\"),           # Get the first gender_Female for each merchant_abn\n",
    "    first(\"gender_Male\").alias(\"gender_Male\"),               # Get the first gender_Male for each merchant_abn\n",
    "    first(\"consumer_is_fraud\").alias(\"consumer_is_fraud\"),   # Get the first consumer_is_fraud for each merchant_abn\n",
    "    first(\"transaction_is_fraud\").alias(\"transaction_is_fraud\"),  # Get the first transaction_is_fraud for each merchant_abn\n",
    "    first(\"merchant_segment_1\").alias(\"merchant_segment_1\"), # Get the first merchant_segment_1 for each merchant_abn\n",
    "    first(\"merchant_segment_3\").alias(\"merchant_segment_3\"), # Get the first merchant_segment_3 for each merchant_abn\n",
    "    first(\"merchant_segment_5\").alias(\"merchant_segment_5\"), # Get the first merchant_segment_5 for each merchant_abn\n",
    "    first(\"merchant_segment_4\").alias(\"merchant_segment_4\"), # Get the first merchant_segment_4 for each merchant_abn\n",
    "    first(\"merchant_segment_2\").alias(\"merchant_segment_2\")  # Get the first merchant_segment_2 for each merchant_abn\n",
    ")\n",
    "\n",
    "categorical_transaction.show(5)"
   ]
  },
  {
   "cell_type": "markdown",
   "metadata": {},
   "source": [
    "# Merge Two Aggregated Tables"
   ]
  },
  {
   "cell_type": "code",
   "execution_count": 66,
   "metadata": {},
   "outputs": [
    {
     "name": "stderr",
     "output_type": "stream",
     "text": [
      "[Stage 9894:>                                                       (0 + 1) / 1]\r"
     ]
    },
    {
     "name": "stdout",
     "output_type": "stream",
     "text": [
      "+------------+------------------------------+------------------------------+----------------------+-----------------+--------------------------+------------------------+------------------+----------------------+------------------------+----------------------+------------------+--------------------+--------------------+-------------------------+------------------+---------------+---------------+---------------+---------------+---------------+--------+---------+--------+---------+--------+---------+---------+---------+------------------+-------------+-----------+-----------------+--------------------+------------------+------------------+------------------+------------------+------------------+\n",
      "|merchant_abn|avg_merchant_fraud_probability|avg_consumer_fraud_probability|avg_average_population|  avg_age_persons|avg_mortgage_repay_monthly|avg_tot_prsnl_inc_weekly|   avg_rent_weekly|avg_tot_fam_inc_weekly|avg_num_psns_per_bedroom|avg_tot_hhd_inc_weekly|avg_household_size| avg_repurchase_rate|avg_purchasing_power|total_transaction_revenue|total_BNPL_revenue|revenue_level_e|revenue_level_d|revenue_level_c|revenue_level_b|revenue_level_a|state_NT|state_ACT|state_SA|state_TAS|state_WA|state_QLD|state_VIC|state_NSW|gender_Undisclosed|gender_Female|gender_Male|consumer_is_fraud|transaction_is_fraud|merchant_segment_1|merchant_segment_3|merchant_segment_5|merchant_segment_4|merchant_segment_2|\n",
      "+------------+------------------------------+------------------------------+----------------------+-----------------+--------------------------+------------------------+------------------+----------------------+------------------------+----------------------+------------------+--------------------+--------------------+-------------------------+------------------+---------------+---------------+---------------+---------------+---------------+--------+---------+--------+---------+--------+---------+---------+---------+------------------+-------------+-----------+-----------------+--------------------+------------------+------------------+------------------+------------------+------------------+\n",
      "| 10023283211|             69.16620017800165|            15.512188850142135|     18563.21829944547|43.17589920322656|         1585.625274336442|       788.0627683879986|  302.636343559206|     1969.290229076106|      0.7912192062779388|    1601.0216888332295| 2.458626356063519| 0.06893819334390154|  215.18635715078887|        582561.0618891594|1050.5008578184509|              1|              0|              0|              0|              0|       0|        0|       0|        0|       1|        0|        0|        0|                 0|            1|          0|                0|                   1|                 0|                 1|                 0|                 0|                 0|\n",
      "| 10346855916|             29.48465925849934|            11.321189712265296|            19419.4375|          43.5625|                1629.59375|               770.03125|         306.90625|             1982.9375|                0.778125|            1651.46875|          2.521875|                 0.0|  1982.5698920010875|       15294.337223255776|  566.221950567445|              0|              0|              0|              1|              0|       0|        0|       0|        0|       0|        0|        1|        0|                 0|            1|          0|                0|                   0|                 0|                 1|                 0|                 0|                 0|\n",
      "| 10648956813|             72.36552014314039|              15.6036860699711|    18602.849989048296|43.31803698908022|        1612.5606956817248|       790.9392091849775| 306.9388074342458|    1975.6497567042315|      0.7925234494415453|    1606.4853482954306|2.4608844569618786|  0.3874822428343295|   64.59050369021972|       1100711.5615630585| 78538.02356620459|              0|              0|              0|              0|              1|       0|        0|       0|        0|       0|        0|        1|        0|                 0|            1|          0|                0|                   1|                 0|                 0|                 1|                 0|                 0|\n",
      "| 10714068705|              67.1232144040485|            15.700412389853403|     18744.36916695472|43.22828773456449|        1619.8072183080444|       791.6268489948302|307.80112641051267|    1984.1973474005504|      0.7910777097139589|     1620.360190737387|2.4758952109059704| 0.06381409074142369|  125.65712934792643|       354934.44951621623| 9138.224273485872|              0|              0|              1|              0|              0|       0|        0|       1|        0|       0|        0|        0|        0|                 0|            0|          1|                0|                   1|                 0|                 1|                 0|                 0|                 0|\n",
      "| 11024352823|            49.230509731228224|             16.59987360201342|     18843.05064935065|43.32523940705758|        1604.5713163171602|       769.4081507093196|307.87388054946496|    1937.1906173047737|      0.8006896422480851|    1587.2660750360749| 2.470837896591144|0.013157894736842144|   213.9367190310874|        80077.65113938846| 2154.481851904899|              0|              0|              1|              0|              0|       0|        0|       0|        0|       0|        0|        1|        0|                 0|            1|          0|                0|                   0|                 0|                 1|                 0|                 0|                 0|\n",
      "+------------+------------------------------+------------------------------+----------------------+-----------------+--------------------------+------------------------+------------------+----------------------+------------------------+----------------------+------------------+--------------------+--------------------+-------------------------+------------------+---------------+---------------+---------------+---------------+---------------+--------+---------+--------+---------+--------+---------+---------+---------+------------------+-------------+-----------+-----------------+--------------------+------------------+------------------+------------------+------------------+------------------+\n",
      "only showing top 5 rows\n",
      "\n"
     ]
    },
    {
     "name": "stderr",
     "output_type": "stream",
     "text": [
      "                                                                                \r"
     ]
    }
   ],
   "source": [
    "# Merge the `numerical_transaction` and `categorical_transaction`\n",
    "aggregated_transaction_by_merchant = numerical_transaction.join(\n",
    "    categorical_transaction, \n",
    "    on=[\"merchant_abn\"], \n",
    "    how=\"inner\"\n",
    ")\n",
    "aggregated_transaction_by_merchant.show(5)"
   ]
  },
  {
   "cell_type": "markdown",
   "metadata": {},
   "source": [
    "### Check the shape of aggregated dataset"
   ]
  },
  {
   "cell_type": "code",
   "execution_count": 67,
   "metadata": {},
   "outputs": [
    {
     "name": "stderr",
     "output_type": "stream",
     "text": [
      "[Stage 9902:===============================>                        (5 + 4) / 9]\r"
     ]
    },
    {
     "name": "stdout",
     "output_type": "stream",
     "text": [
      "Number of rows: 4026\n",
      "Number of columns: 39\n"
     ]
    },
    {
     "name": "stderr",
     "output_type": "stream",
     "text": [
      "                                                                                \r"
     ]
    }
   ],
   "source": [
    "num_rows = aggregated_transaction_by_merchant.count()\n",
    "print(f\"Number of rows: {num_rows}\")\n",
    "\n",
    "num_columns = len(aggregated_transaction_by_merchant.columns)\n",
    "print(f\"Number of columns: {num_columns}\")"
   ]
  },
  {
   "cell_type": "code",
   "execution_count": 68,
   "metadata": {},
   "outputs": [
    {
     "name": "stdout",
     "output_type": "stream",
     "text": [
      "root\n",
      " |-- merchant_abn: long (nullable = true)\n",
      " |-- avg_merchant_fraud_probability: double (nullable = true)\n",
      " |-- avg_consumer_fraud_probability: double (nullable = true)\n",
      " |-- avg_average_population: double (nullable = true)\n",
      " |-- avg_age_persons: double (nullable = true)\n",
      " |-- avg_mortgage_repay_monthly: double (nullable = true)\n",
      " |-- avg_tot_prsnl_inc_weekly: double (nullable = true)\n",
      " |-- avg_rent_weekly: double (nullable = true)\n",
      " |-- avg_tot_fam_inc_weekly: double (nullable = true)\n",
      " |-- avg_num_psns_per_bedroom: double (nullable = true)\n",
      " |-- avg_tot_hhd_inc_weekly: double (nullable = true)\n",
      " |-- avg_household_size: double (nullable = true)\n",
      " |-- avg_repurchase_rate: double (nullable = true)\n",
      " |-- avg_purchasing_power: double (nullable = true)\n",
      " |-- total_transaction_revenue: double (nullable = true)\n",
      " |-- total_BNPL_revenue: double (nullable = true)\n",
      " |-- revenue_level_e: integer (nullable = true)\n",
      " |-- revenue_level_d: integer (nullable = true)\n",
      " |-- revenue_level_c: integer (nullable = true)\n",
      " |-- revenue_level_b: integer (nullable = true)\n",
      " |-- revenue_level_a: integer (nullable = true)\n",
      " |-- state_NT: integer (nullable = true)\n",
      " |-- state_ACT: integer (nullable = true)\n",
      " |-- state_SA: integer (nullable = true)\n",
      " |-- state_TAS: integer (nullable = true)\n",
      " |-- state_WA: integer (nullable = true)\n",
      " |-- state_QLD: integer (nullable = true)\n",
      " |-- state_VIC: integer (nullable = true)\n",
      " |-- state_NSW: integer (nullable = true)\n",
      " |-- gender_Undisclosed: integer (nullable = true)\n",
      " |-- gender_Female: integer (nullable = true)\n",
      " |-- gender_Male: integer (nullable = true)\n",
      " |-- consumer_is_fraud: integer (nullable = true)\n",
      " |-- transaction_is_fraud: integer (nullable = true)\n",
      " |-- merchant_segment_1: integer (nullable = true)\n",
      " |-- merchant_segment_3: integer (nullable = true)\n",
      " |-- merchant_segment_5: integer (nullable = true)\n",
      " |-- merchant_segment_4: integer (nullable = true)\n",
      " |-- merchant_segment_2: integer (nullable = true)\n",
      "\n"
     ]
    }
   ],
   "source": [
    "aggregated_transaction_by_merchant.printSchema()"
   ]
  },
  {
   "cell_type": "markdown",
   "metadata": {},
   "source": [
    "# Create the Ranking System"
   ]
  },
  {
   "cell_type": "markdown",
   "metadata": {},
   "source": [
    "### Feature importances by Gradient Boosting"
   ]
  },
  {
   "cell_type": "code",
   "execution_count": 69,
   "metadata": {},
   "outputs": [
    {
     "name": "stderr",
     "output_type": "stream",
     "text": [
      "24/10/01 21:15:04 WARN DAGScheduler: Broadcasting large task binary with size 1000.9 KiB\n",
      "24/10/01 21:15:04 WARN DAGScheduler: Broadcasting large task binary with size 1002.7 KiB\n",
      "24/10/01 21:15:04 WARN DAGScheduler: Broadcasting large task binary with size 1003.2 KiB\n",
      "24/10/01 21:15:04 WARN DAGScheduler: Broadcasting large task binary with size 1003.9 KiB\n",
      "24/10/01 21:15:04 WARN DAGScheduler: Broadcasting large task binary with size 1004.9 KiB\n",
      "24/10/01 21:15:04 WARN DAGScheduler: Broadcasting large task binary with size 1007.1 KiB\n",
      "24/10/01 21:15:05 WARN DAGScheduler: Broadcasting large task binary with size 1009.1 KiB\n",
      "24/10/01 21:15:05 WARN DAGScheduler: Broadcasting large task binary with size 1009.5 KiB\n",
      "24/10/01 21:15:05 WARN DAGScheduler: Broadcasting large task binary with size 1010.3 KiB\n",
      "24/10/01 21:15:05 WARN DAGScheduler: Broadcasting large task binary with size 1011.2 KiB\n",
      "24/10/01 21:15:05 WARN DAGScheduler: Broadcasting large task binary with size 1013.2 KiB\n",
      "24/10/01 21:15:05 WARN DAGScheduler: Broadcasting large task binary with size 1015.5 KiB\n",
      "24/10/01 21:15:05 WARN DAGScheduler: Broadcasting large task binary with size 1016.0 KiB\n",
      "24/10/01 21:15:05 WARN DAGScheduler: Broadcasting large task binary with size 1016.7 KiB\n",
      "24/10/01 21:15:06 WARN DAGScheduler: Broadcasting large task binary with size 1017.7 KiB\n",
      "24/10/01 21:15:06 WARN DAGScheduler: Broadcasting large task binary with size 1019.7 KiB\n",
      "24/10/01 21:15:06 WARN DAGScheduler: Broadcasting large task binary with size 1022.0 KiB\n",
      "24/10/01 21:15:06 WARN DAGScheduler: Broadcasting large task binary with size 1022.5 KiB\n",
      "24/10/01 21:15:06 WARN DAGScheduler: Broadcasting large task binary with size 1023.2 KiB\n",
      "24/10/01 21:15:06 WARN DAGScheduler: Broadcasting large task binary with size 1024.2 KiB\n",
      "24/10/01 21:15:06 WARN DAGScheduler: Broadcasting large task binary with size 1026.4 KiB\n",
      "24/10/01 21:15:06 WARN DAGScheduler: Broadcasting large task binary with size 1028.7 KiB\n",
      "24/10/01 21:15:07 WARN DAGScheduler: Broadcasting large task binary with size 1029.1 KiB\n",
      "24/10/01 21:15:07 WARN DAGScheduler: Broadcasting large task binary with size 1029.9 KiB\n",
      "24/10/01 21:15:07 WARN DAGScheduler: Broadcasting large task binary with size 1030.9 KiB\n",
      "24/10/01 21:15:07 WARN DAGScheduler: Broadcasting large task binary with size 1033.0 KiB\n",
      "24/10/01 21:15:07 WARN DAGScheduler: Broadcasting large task binary with size 1035.2 KiB\n",
      "24/10/01 21:15:07 WARN DAGScheduler: Broadcasting large task binary with size 1035.6 KiB\n",
      "24/10/01 21:15:07 WARN DAGScheduler: Broadcasting large task binary with size 1036.3 KiB\n",
      "24/10/01 21:15:08 WARN DAGScheduler: Broadcasting large task binary with size 1037.3 KiB\n",
      "24/10/01 21:15:08 WARN DAGScheduler: Broadcasting large task binary with size 1039.5 KiB\n",
      "24/10/01 21:15:08 WARN DAGScheduler: Broadcasting large task binary with size 1041.5 KiB\n",
      "24/10/01 21:15:08 WARN DAGScheduler: Broadcasting large task binary with size 1042.0 KiB\n",
      "24/10/01 21:15:08 WARN DAGScheduler: Broadcasting large task binary with size 1042.7 KiB\n",
      "24/10/01 21:15:08 WARN DAGScheduler: Broadcasting large task binary with size 1043.7 KiB\n",
      "24/10/01 21:15:08 WARN DAGScheduler: Broadcasting large task binary with size 1045.9 KiB\n",
      "24/10/01 21:15:08 WARN DAGScheduler: Broadcasting large task binary with size 1048.3 KiB\n",
      "24/10/01 21:15:09 WARN DAGScheduler: Broadcasting large task binary with size 1048.8 KiB\n",
      "24/10/01 21:15:09 WARN DAGScheduler: Broadcasting large task binary with size 1049.5 KiB\n",
      "24/10/01 21:15:09 WARN DAGScheduler: Broadcasting large task binary with size 1050.5 KiB\n",
      "24/10/01 21:15:09 WARN DAGScheduler: Broadcasting large task binary with size 1052.7 KiB\n",
      "24/10/01 21:15:09 WARN DAGScheduler: Broadcasting large task binary with size 1055.1 KiB\n",
      "24/10/01 21:15:09 WARN DAGScheduler: Broadcasting large task binary with size 1055.6 KiB\n",
      "24/10/01 21:15:09 WARN DAGScheduler: Broadcasting large task binary with size 1056.3 KiB\n",
      "24/10/01 21:15:09 WARN DAGScheduler: Broadcasting large task binary with size 1057.3 KiB\n",
      "24/10/01 21:15:10 WARN DAGScheduler: Broadcasting large task binary with size 1059.5 KiB\n",
      "24/10/01 21:15:10 WARN DAGScheduler: Broadcasting large task binary with size 1062.2 KiB\n",
      "24/10/01 21:15:10 WARN DAGScheduler: Broadcasting large task binary with size 1062.7 KiB\n",
      "24/10/01 21:15:10 WARN DAGScheduler: Broadcasting large task binary with size 1063.4 KiB\n",
      "24/10/01 21:15:10 WARN DAGScheduler: Broadcasting large task binary with size 1064.4 KiB\n",
      "24/10/01 21:15:10 WARN DAGScheduler: Broadcasting large task binary with size 1066.6 KiB\n",
      "24/10/01 21:15:10 WARN DAGScheduler: Broadcasting large task binary with size 1068.7 KiB\n",
      "24/10/01 21:15:11 WARN DAGScheduler: Broadcasting large task binary with size 1069.2 KiB\n",
      "24/10/01 21:15:11 WARN DAGScheduler: Broadcasting large task binary with size 1069.9 KiB\n",
      "24/10/01 21:15:11 WARN DAGScheduler: Broadcasting large task binary with size 1070.8 KiB\n",
      "24/10/01 21:15:11 WARN DAGScheduler: Broadcasting large task binary with size 1072.5 KiB\n",
      "24/10/01 21:15:11 WARN DAGScheduler: Broadcasting large task binary with size 1074.7 KiB\n",
      "24/10/01 21:15:11 WARN DAGScheduler: Broadcasting large task binary with size 1075.2 KiB\n",
      "24/10/01 21:15:11 WARN DAGScheduler: Broadcasting large task binary with size 1075.9 KiB\n",
      "24/10/01 21:15:11 WARN DAGScheduler: Broadcasting large task binary with size 1076.9 KiB\n",
      "24/10/01 21:15:12 WARN DAGScheduler: Broadcasting large task binary with size 1078.8 KiB\n",
      "24/10/01 21:15:12 WARN DAGScheduler: Broadcasting large task binary with size 1081.0 KiB\n",
      "24/10/01 21:15:12 WARN DAGScheduler: Broadcasting large task binary with size 1081.5 KiB\n",
      "24/10/01 21:15:12 WARN DAGScheduler: Broadcasting large task binary with size 1082.2 KiB\n",
      "24/10/01 21:15:12 WARN DAGScheduler: Broadcasting large task binary with size 1083.2 KiB\n",
      "24/10/01 21:15:12 WARN DAGScheduler: Broadcasting large task binary with size 1085.4 KiB\n",
      "24/10/01 21:15:12 WARN DAGScheduler: Broadcasting large task binary with size 1088.0 KiB\n",
      "24/10/01 21:15:12 WARN DAGScheduler: Broadcasting large task binary with size 1088.5 KiB\n",
      "24/10/01 21:15:13 WARN DAGScheduler: Broadcasting large task binary with size 1089.2 KiB\n",
      "24/10/01 21:15:13 WARN DAGScheduler: Broadcasting large task binary with size 1090.2 KiB\n",
      "24/10/01 21:15:13 WARN DAGScheduler: Broadcasting large task binary with size 1092.4 KiB\n",
      "24/10/01 21:15:13 WARN DAGScheduler: Broadcasting large task binary with size 1095.0 KiB\n",
      "24/10/01 21:15:13 WARN DAGScheduler: Broadcasting large task binary with size 1095.4 KiB\n",
      "24/10/01 21:15:13 WARN DAGScheduler: Broadcasting large task binary with size 1096.1 KiB\n",
      "24/10/01 21:15:13 WARN DAGScheduler: Broadcasting large task binary with size 1097.1 KiB\n",
      "24/10/01 21:15:14 WARN DAGScheduler: Broadcasting large task binary with size 1099.4 KiB\n",
      "24/10/01 21:15:14 WARN DAGScheduler: Broadcasting large task binary with size 1102.1 KiB\n",
      "24/10/01 21:15:14 WARN DAGScheduler: Broadcasting large task binary with size 1102.6 KiB\n",
      "24/10/01 21:15:14 WARN DAGScheduler: Broadcasting large task binary with size 1103.3 KiB\n",
      "24/10/01 21:15:14 WARN DAGScheduler: Broadcasting large task binary with size 1104.3 KiB\n",
      "24/10/01 21:15:14 WARN DAGScheduler: Broadcasting large task binary with size 1106.5 KiB\n",
      "24/10/01 21:15:14 WARN DAGScheduler: Broadcasting large task binary with size 1109.1 KiB\n",
      "24/10/01 21:15:14 WARN DAGScheduler: Broadcasting large task binary with size 1109.5 KiB\n",
      "24/10/01 21:15:15 WARN DAGScheduler: Broadcasting large task binary with size 1110.2 KiB\n",
      "24/10/01 21:15:15 WARN DAGScheduler: Broadcasting large task binary with size 1111.2 KiB\n",
      "24/10/01 21:15:15 WARN DAGScheduler: Broadcasting large task binary with size 1113.4 KiB\n",
      "24/10/01 21:15:15 WARN DAGScheduler: Broadcasting large task binary with size 1115.7 KiB\n",
      "24/10/01 21:15:15 WARN DAGScheduler: Broadcasting large task binary with size 1116.2 KiB\n",
      "24/10/01 21:15:15 WARN DAGScheduler: Broadcasting large task binary with size 1116.9 KiB\n",
      "24/10/01 21:15:15 WARN DAGScheduler: Broadcasting large task binary with size 1117.9 KiB\n",
      "24/10/01 21:15:16 WARN DAGScheduler: Broadcasting large task binary with size 1120.1 KiB\n",
      "24/10/01 21:15:16 WARN DAGScheduler: Broadcasting large task binary with size 1122.8 KiB\n",
      "24/10/01 21:15:16 WARN DAGScheduler: Broadcasting large task binary with size 1123.3 KiB\n",
      "24/10/01 21:15:16 WARN DAGScheduler: Broadcasting large task binary with size 1124.0 KiB\n",
      "24/10/01 21:15:16 WARN DAGScheduler: Broadcasting large task binary with size 1125.0 KiB\n",
      "24/10/01 21:15:16 WARN DAGScheduler: Broadcasting large task binary with size 1127.0 KiB\n",
      "24/10/01 21:15:16 WARN DAGScheduler: Broadcasting large task binary with size 1129.3 KiB\n",
      "24/10/01 21:15:17 WARN DAGScheduler: Broadcasting large task binary with size 1129.8 KiB\n",
      "24/10/01 21:15:17 WARN DAGScheduler: Broadcasting large task binary with size 1130.5 KiB\n",
      "24/10/01 21:15:17 WARN DAGScheduler: Broadcasting large task binary with size 1131.5 KiB\n",
      "24/10/01 21:15:17 WARN DAGScheduler: Broadcasting large task binary with size 1133.7 KiB\n",
      "24/10/01 21:15:17 WARN DAGScheduler: Broadcasting large task binary with size 1136.1 KiB\n",
      "24/10/01 21:15:17 WARN DAGScheduler: Broadcasting large task binary with size 1136.6 KiB\n",
      "24/10/01 21:15:17 WARN DAGScheduler: Broadcasting large task binary with size 1137.3 KiB\n",
      "24/10/01 21:15:18 WARN DAGScheduler: Broadcasting large task binary with size 1138.3 KiB\n",
      "24/10/01 21:15:18 WARN DAGScheduler: Broadcasting large task binary with size 1140.5 KiB\n",
      "24/10/01 21:15:18 WARN DAGScheduler: Broadcasting large task binary with size 1143.1 KiB\n",
      "24/10/01 21:15:18 WARN DAGScheduler: Broadcasting large task binary with size 1143.6 KiB\n",
      "24/10/01 21:15:18 WARN DAGScheduler: Broadcasting large task binary with size 1144.3 KiB\n",
      "24/10/01 21:15:18 WARN DAGScheduler: Broadcasting large task binary with size 1145.3 KiB\n",
      "24/10/01 21:15:18 WARN DAGScheduler: Broadcasting large task binary with size 1147.5 KiB\n",
      "24/10/01 21:15:18 WARN DAGScheduler: Broadcasting large task binary with size 1150.1 KiB\n",
      "24/10/01 21:15:19 WARN DAGScheduler: Broadcasting large task binary with size 1150.5 KiB\n",
      "24/10/01 21:15:19 WARN DAGScheduler: Broadcasting large task binary with size 1151.2 KiB\n",
      "24/10/01 21:15:19 WARN DAGScheduler: Broadcasting large task binary with size 1152.2 KiB\n",
      "24/10/01 21:15:19 WARN DAGScheduler: Broadcasting large task binary with size 1154.5 KiB\n",
      "24/10/01 21:15:19 WARN DAGScheduler: Broadcasting large task binary with size 1156.9 KiB\n",
      "24/10/01 21:15:19 WARN DAGScheduler: Broadcasting large task binary with size 1157.3 KiB\n",
      "24/10/01 21:15:20 WARN DAGScheduler: Broadcasting large task binary with size 1158.1 KiB\n",
      "24/10/01 21:15:20 WARN DAGScheduler: Broadcasting large task binary with size 1159.0 KiB\n",
      "24/10/01 21:15:20 WARN DAGScheduler: Broadcasting large task binary with size 1161.3 KiB\n",
      "24/10/01 21:15:20 WARN DAGScheduler: Broadcasting large task binary with size 1163.8 KiB\n",
      "24/10/01 21:15:20 WARN DAGScheduler: Broadcasting large task binary with size 1164.3 KiB\n",
      "24/10/01 21:15:20 WARN DAGScheduler: Broadcasting large task binary with size 1164.9 KiB\n",
      "24/10/01 21:15:20 WARN DAGScheduler: Broadcasting large task binary with size 1165.7 KiB\n",
      "24/10/01 21:15:20 WARN DAGScheduler: Broadcasting large task binary with size 1167.4 KiB\n",
      "24/10/01 21:15:21 WARN DAGScheduler: Broadcasting large task binary with size 1169.7 KiB\n",
      "24/10/01 21:15:21 WARN DAGScheduler: Broadcasting large task binary with size 1170.1 KiB\n",
      "24/10/01 21:15:21 WARN DAGScheduler: Broadcasting large task binary with size 1170.9 KiB\n",
      "24/10/01 21:15:21 WARN DAGScheduler: Broadcasting large task binary with size 1171.8 KiB\n",
      "24/10/01 21:15:21 WARN DAGScheduler: Broadcasting large task binary with size 1174.1 KiB\n",
      "24/10/01 21:15:21 WARN DAGScheduler: Broadcasting large task binary with size 1176.8 KiB\n",
      "24/10/01 21:15:21 WARN DAGScheduler: Broadcasting large task binary with size 1177.3 KiB\n",
      "24/10/01 21:15:22 WARN DAGScheduler: Broadcasting large task binary with size 1178.0 KiB\n",
      "24/10/01 21:15:22 WARN DAGScheduler: Broadcasting large task binary with size 1179.0 KiB\n",
      "24/10/01 21:15:22 WARN DAGScheduler: Broadcasting large task binary with size 1181.2 KiB\n",
      "24/10/01 21:15:22 WARN DAGScheduler: Broadcasting large task binary with size 1183.8 KiB\n",
      "24/10/01 21:15:22 WARN DAGScheduler: Broadcasting large task binary with size 1184.2 KiB\n",
      "24/10/01 21:15:22 WARN DAGScheduler: Broadcasting large task binary with size 1185.0 KiB\n",
      "24/10/01 21:15:22 WARN DAGScheduler: Broadcasting large task binary with size 1185.9 KiB\n",
      "24/10/01 21:15:23 WARN DAGScheduler: Broadcasting large task binary with size 1188.2 KiB\n",
      "24/10/01 21:15:23 WARN DAGScheduler: Broadcasting large task binary with size 1190.9 KiB\n",
      "24/10/01 21:15:23 WARN DAGScheduler: Broadcasting large task binary with size 1191.4 KiB\n",
      "24/10/01 21:15:23 WARN DAGScheduler: Broadcasting large task binary with size 1192.1 KiB\n",
      "24/10/01 21:15:23 WARN DAGScheduler: Broadcasting large task binary with size 1193.1 KiB\n",
      "24/10/01 21:15:23 WARN DAGScheduler: Broadcasting large task binary with size 1195.3 KiB\n",
      "24/10/01 21:15:23 WARN DAGScheduler: Broadcasting large task binary with size 1197.9 KiB\n",
      "24/10/01 21:15:24 WARN DAGScheduler: Broadcasting large task binary with size 1198.3 KiB\n",
      "24/10/01 21:15:24 WARN DAGScheduler: Broadcasting large task binary with size 1199.1 KiB\n",
      "24/10/01 21:15:24 WARN DAGScheduler: Broadcasting large task binary with size 1200.0 KiB\n",
      "24/10/01 21:15:24 WARN DAGScheduler: Broadcasting large task binary with size 1202.0 KiB\n",
      "24/10/01 21:15:24 WARN DAGScheduler: Broadcasting large task binary with size 1204.0 KiB\n",
      "24/10/01 21:15:24 WARN DAGScheduler: Broadcasting large task binary with size 1204.5 KiB\n",
      "24/10/01 21:15:25 WARN DAGScheduler: Broadcasting large task binary with size 1205.2 KiB\n",
      "24/10/01 21:15:25 WARN DAGScheduler: Broadcasting large task binary with size 1206.2 KiB\n",
      "24/10/01 21:15:25 WARN DAGScheduler: Broadcasting large task binary with size 1208.5 KiB\n",
      "24/10/01 21:15:25 WARN DAGScheduler: Broadcasting large task binary with size 1211.0 KiB\n",
      "24/10/01 21:15:25 WARN DAGScheduler: Broadcasting large task binary with size 1211.5 KiB\n",
      "24/10/01 21:15:25 WARN DAGScheduler: Broadcasting large task binary with size 1212.2 KiB\n",
      "24/10/01 21:15:25 WARN DAGScheduler: Broadcasting large task binary with size 1213.2 KiB\n",
      "24/10/01 21:15:25 WARN DAGScheduler: Broadcasting large task binary with size 1215.1 KiB\n",
      "24/10/01 21:15:26 WARN DAGScheduler: Broadcasting large task binary with size 1217.5 KiB\n",
      "24/10/01 21:15:26 WARN DAGScheduler: Broadcasting large task binary with size 1218.0 KiB\n",
      "24/10/01 21:15:26 WARN DAGScheduler: Broadcasting large task binary with size 1218.7 KiB\n",
      "24/10/01 21:15:26 WARN DAGScheduler: Broadcasting large task binary with size 1219.7 KiB\n",
      "24/10/01 21:15:26 WARN DAGScheduler: Broadcasting large task binary with size 1221.9 KiB\n",
      "24/10/01 21:15:26 WARN DAGScheduler: Broadcasting large task binary with size 1224.4 KiB\n",
      "24/10/01 21:15:27 WARN DAGScheduler: Broadcasting large task binary with size 1224.9 KiB\n",
      "24/10/01 21:15:27 WARN DAGScheduler: Broadcasting large task binary with size 1225.6 KiB\n",
      "24/10/01 21:15:27 WARN DAGScheduler: Broadcasting large task binary with size 1226.6 KiB\n",
      "24/10/01 21:15:27 WARN DAGScheduler: Broadcasting large task binary with size 1228.9 KiB\n",
      "24/10/01 21:15:27 WARN DAGScheduler: Broadcasting large task binary with size 1231.4 KiB\n",
      "24/10/01 21:15:27 WARN DAGScheduler: Broadcasting large task binary with size 1231.9 KiB\n",
      "24/10/01 21:15:27 WARN DAGScheduler: Broadcasting large task binary with size 1232.6 KiB\n",
      "24/10/01 21:15:28 WARN DAGScheduler: Broadcasting large task binary with size 1233.6 KiB\n",
      "24/10/01 21:15:28 WARN DAGScheduler: Broadcasting large task binary with size 1235.8 KiB\n",
      "24/10/01 21:15:28 WARN DAGScheduler: Broadcasting large task binary with size 1238.4 KiB\n",
      "24/10/01 21:15:28 WARN DAGScheduler: Broadcasting large task binary with size 1238.9 KiB\n",
      "24/10/01 21:15:28 WARN DAGScheduler: Broadcasting large task binary with size 1239.6 KiB\n",
      "24/10/01 21:15:28 WARN DAGScheduler: Broadcasting large task binary with size 1240.5 KiB\n",
      "24/10/01 21:15:28 WARN DAGScheduler: Broadcasting large task binary with size 1242.2 KiB\n",
      "24/10/01 21:15:29 WARN DAGScheduler: Broadcasting large task binary with size 1244.4 KiB\n",
      "24/10/01 21:15:29 WARN DAGScheduler: Broadcasting large task binary with size 1244.9 KiB\n",
      "24/10/01 21:15:29 WARN DAGScheduler: Broadcasting large task binary with size 1245.6 KiB\n",
      "24/10/01 21:15:29 WARN DAGScheduler: Broadcasting large task binary with size 1246.6 KiB\n"
     ]
    },
    {
     "name": "stdout",
     "output_type": "stream",
     "text": [
      "Feature importance:\n",
      "avg_merchant_fraud_probability: 0.7551092104972196\n",
      "consumer_is_fraud: 0.04130393170245614\n",
      "total_transaction_revenue: 0.01885380304389787\n",
      "avg_purchasing_power: 0.01713911840019116\n",
      "avg_mortgage_repay_monthly: 0.016289607333590517\n",
      "avg_consumer_fraud_probability: 0.014600765305549624\n",
      "total_BNPL_revenue: 0.014500546368114516\n",
      "avg_num_psns_per_bedroom: 0.013045921673920472\n",
      "avg_average_population: 0.012758794292810701\n",
      "avg_repurchase_rate: 0.011911521752976422\n",
      "merchant_segment_1: 0.011898111663611596\n",
      "avg_tot_prsnl_inc_weekly: 0.011628697269639254\n",
      "avg_household_size: 0.009504289069735924\n",
      "revenue_level_a: 0.007866446489606637\n",
      "avg_tot_hhd_inc_weekly: 0.007623764864538863\n",
      "avg_age_persons: 0.0070661300247966425\n",
      "avg_tot_fam_inc_weekly: 0.006335494668592945\n",
      "revenue_level_c: 0.00601716200263575\n",
      "avg_rent_weekly: 0.0038020120037136353\n",
      "state_WA: 0.003599661521896741\n",
      "gender_Undisclosed: 0.002069651748054352\n",
      "state_TAS: 0.001432214963273191\n",
      "revenue_level_b: 0.0013682759222298096\n",
      "state_NSW: 0.0010321324822978302\n",
      "gender_Female: 0.0009885937250856372\n",
      "state_QLD: 0.0007184660294462015\n",
      "state_SA: 0.0003682599124161619\n",
      "merchant_segment_4: 0.0002626541404798643\n",
      "revenue_level_d: 0.0002587195331881893\n",
      "state_VIC: 0.00023962942565720227\n",
      "gender_Male: 0.00014168208088364314\n",
      "merchant_segment_3: 0.00011860833782648201\n",
      "state_ACT: 8.36650320279429e-05\n",
      "state_NT: 6.0648145606653585e-05\n",
      "merchant_segment_2: 1.6283913563891605e-06\n",
      "merchant_segment_5: 1.801806752459193e-07\n",
      "revenue_level_e: 0.0\n"
     ]
    },
    {
     "name": "stderr",
     "output_type": "stream",
     "text": [
      "24/10/01 21:15:29 WARN DAGScheduler: Broadcasting large task binary with size 1248.8 KiB\n"
     ]
    }
   ],
   "source": [
    "# select features for training\n",
    "feature_columns = [col for col in aggregated_transaction_by_merchant.columns if col not in ['transaction_is_fraud', 'merchant_abn']]\n",
    "\n",
    "# create feature vectors\n",
    "assembler = VectorAssembler(inputCols=feature_columns, outputCol='features')\n",
    "labeled_data = assembler.transform(aggregated_transaction_by_merchant)\n",
    "unlabeled_data = assembler.transform(aggregated_transaction_by_merchant)\n",
    "\n",
    "# standardise features\n",
    "scaler = StandardScaler(inputCol=\"features\", outputCol=\"scaled_features\", \n",
    "                        withMean=True, withStd=True)\n",
    "\n",
    "# standardise labeled and unlabeled datasets\n",
    "scaler_model = scaler.fit(labeled_data)\n",
    "labeled_data = scaler_model.transform(labeled_data)\n",
    "unlabeled_data = scaler_model.transform(unlabeled_data)\n",
    "\n",
    "# train the model\n",
    "gbt = GBTRegressor(featuresCol='scaled_features', labelCol='transaction_is_fraud', maxIter=100)\n",
    "model = gbt.fit(labeled_data)\n",
    "\n",
    "# get the feature importances\n",
    "feature_importances = model.featureImportances\n",
    "feature_importance_dict = dict(zip(feature_columns, feature_importances))\n",
    "\n",
    "# sort the feature importances\n",
    "sorted_feature_importances = sorted(feature_importance_dict.items(), \n",
    "                                    key=lambda x: x[1], reverse=True)\n",
    "print(\"Feature importance:\")\n",
    "for feature, importance in sorted_feature_importances:\n",
    "    print(f\"{feature}: {importance}\")"
   ]
  },
  {
   "cell_type": "markdown",
   "metadata": {},
   "source": [
    "### Feature importances by Random Forest"
   ]
  },
  {
   "cell_type": "code",
   "execution_count": 70,
   "metadata": {},
   "outputs": [
    {
     "name": "stderr",
     "output_type": "stream",
     "text": [
      "                                                                                \r"
     ]
    },
    {
     "name": "stdout",
     "output_type": "stream",
     "text": [
      "Feature importance:\n",
      "avg_merchant_fraud_probability: 0.8696436306450885\n",
      "consumer_is_fraud: 0.03764393753990681\n",
      "avg_purchasing_power: 0.03249644699379255\n",
      "merchant_segment_5: 0.015939674265483296\n",
      "merchant_segment_4: 0.007091514527985627\n",
      "revenue_level_e: 0.006178221021911205\n",
      "revenue_level_a: 0.005863930982942556\n",
      "revenue_level_b: 0.004296771411477934\n",
      "merchant_segment_3: 0.003977442648357645\n",
      "merchant_segment_2: 0.002302026930819342\n",
      "avg_consumer_fraud_probability: 0.001644628242988233\n",
      "avg_repurchase_rate: 0.0013497700342820973\n",
      "merchant_segment_1: 0.0012211294711098949\n",
      "total_BNPL_revenue: 0.0010754659512135266\n",
      "avg_num_psns_per_bedroom: 0.0010061126099435503\n",
      "avg_average_population: 0.0009818470192706685\n",
      "avg_age_persons: 0.0008694543425501971\n",
      "avg_tot_prsnl_inc_weekly: 0.0008561674455767446\n",
      "total_transaction_revenue: 0.0007612476470847922\n",
      "merchant_abn: 0.0006959415902980378\n",
      "avg_mortgage_repay_monthly: 0.0006118029060827053\n",
      "revenue_level_c: 0.0005890086708380967\n",
      "avg_tot_fam_inc_weekly: 0.0005511391737114122\n",
      "avg_rent_weekly: 0.0005207168007975863\n",
      "avg_tot_hhd_inc_weekly: 0.0005202590837340938\n",
      "avg_household_size: 0.0004917123127143523\n",
      "revenue_level_d: 0.0001660754532236297\n",
      "gender_Male: 0.00016160630346348057\n",
      "state_VIC: 0.0001527678639643921\n",
      "state_WA: 0.00010283397076326144\n",
      "state_TAS: 7.879589252079639e-05\n",
      "gender_Female: 5.063980871646098e-05\n",
      "state_QLD: 4.313834993579936e-05\n",
      "gender_Undisclosed: 2.883643597013539e-05\n",
      "state_NSW: 2.13410436623773e-05\n",
      "state_SA: 1.3964607818273164e-05\n",
      "state_NT: 0.0\n",
      "state_ACT: 0.0\n"
     ]
    }
   ],
   "source": [
    "# Select features for training\n",
    "feature_columns = [col for col in aggregated_transaction_by_merchant.columns if col != 'transaction_is_fraud']\n",
    "\n",
    "# Create feature vectors\n",
    "assembler = VectorAssembler(inputCols=feature_columns, outputCol='features')\n",
    "labeled_data = assembler.transform(aggregated_transaction_by_merchant)\n",
    "unlabeled_data = assembler.transform(aggregated_transaction_by_merchant)\n",
    "\n",
    "# Standardize features\n",
    "scaler = StandardScaler(inputCol=\"features\", outputCol=\"scaled_features\", \n",
    "                        withMean=True, withStd=True)\n",
    "\n",
    "# Standardize labeled and unlabeled datasets\n",
    "scaler_model = scaler.fit(labeled_data)\n",
    "labeled_data = scaler_model.transform(labeled_data)\n",
    "unlabeled_data = scaler_model.transform(unlabeled_data)\n",
    "\n",
    "# Train the RandomForest model\n",
    "rf = RandomForestRegressor(featuresCol='scaled_features', labelCol='transaction_is_fraud', numTrees=100)\n",
    "rf_model = rf.fit(labeled_data)\n",
    "\n",
    "# Get the feature importances\n",
    "feature_importances = rf_model.featureImportances\n",
    "feature_importance_dict = dict(zip(feature_columns, feature_importances))\n",
    "\n",
    "# Sort the feature importances\n",
    "sorted_feature_importances = sorted(feature_importance_dict.items(), \n",
    "                                    key=lambda x: x[1], reverse=True)\n",
    "print(\"Feature importance:\")\n",
    "for feature, importance in sorted_feature_importances:\n",
    "    print(f\"{feature}: {importance}\")"
   ]
  },
  {
   "cell_type": "markdown",
   "metadata": {},
   "source": [
    "Based on the above results, we decided to choose the feature importances which are greater than 0.01 as the input features in ranking systems.\n",
    "\n",
    "Selected features by Gradient Boosting:\n",
    "- avg_merchant_fraud_probability: 0.7551092104972196\n",
    "- consumer_is_fraud: 0.04130393170245614\n",
    "- total_transaction_revenue: 0.01885380304389787\n",
    "- avg_purchasing_power: 0.01713911840019116\n",
    "- avg_mortgage_repay_monthly: 0.016289607333590517\n",
    "- avg_consumer_fraud_probability: 0.014600765305549624\n",
    "- total_BNPL_revenue: 0.014500546368114516\n",
    "- avg_num_psns_per_bedroom: 0.013045921673920472\n",
    "- avg_average_population: 0.012758794292810701\n",
    "- avg_repurchase_rate: 0.011911521752976422\n",
    "- merchant_segment_1: 0.011898111663611596\n",
    "- avg_tot_prsnl_inc_weekly: 0.011628697269639254\n",
    "\n",
    "Selected features by Random Forest:\n",
    "- avg_merchant_fraud_probability: 0.8572820817907232\n",
    "- consumer_is_fraud: 0.042522438530249555\n",
    "- avg_purchasing_power: 0.0336771722923514\n",
    "- merchant_segment_5: 0.01572259094547022\n",
    "\n",
    "Selected features in ranking system:\n",
    "- avg_merchant_fraud_probability\n",
    "- consumer_is_fraud\n",
    "- total_transaction_revenue\n",
    "- avg_purchasing_power\n",
    "- avg_mortgage_repay_monthly\n",
    "- merchant_segment_5\n",
    "- avg_consumer_fraud_probability\n",
    "- total_BNPL_revenue\n",
    "- avg_num_psns_per_bedroom\n",
    "- avg_average_population\n",
    "- avg_repurchase_rate\n",
    "- merchant_segment_1\n",
    "- avg_tot_prsnl_inc_weekly"
   ]
  },
  {
   "cell_type": "markdown",
   "metadata": {},
   "source": [
    "### Feature importances of input features in ranking system"
   ]
  },
  {
   "cell_type": "markdown",
   "metadata": {},
   "source": [
    "- If we include `merchant_segment_5`, its feature importance is 10^(-7), so we remove it.\n",
    "- Although the merchant segment is an important feature, including it in the ranking score calculation causes the number of merchants in segment 1 to dominate compared to other segments. Therefore, we have removed it from the computation of the ranking score."
   ]
  },
  {
   "cell_type": "code",
   "execution_count": 109,
   "metadata": {},
   "outputs": [
    {
     "name": "stderr",
     "output_type": "stream",
     "text": [
      "24/10/01 21:54:05 WARN DAGScheduler: Broadcasting large task binary with size 1000.6 KiB\n",
      "24/10/01 21:54:06 WARN DAGScheduler: Broadcasting large task binary with size 1001.6 KiB\n",
      "24/10/01 21:54:06 WARN DAGScheduler: Broadcasting large task binary with size 1003.8 KiB\n",
      "24/10/01 21:54:06 WARN DAGScheduler: Broadcasting large task binary with size 1006.2 KiB\n",
      "24/10/01 21:54:06 WARN DAGScheduler: Broadcasting large task binary with size 1006.7 KiB\n",
      "24/10/01 21:54:06 WARN DAGScheduler: Broadcasting large task binary with size 1007.4 KiB\n",
      "24/10/01 21:54:06 WARN DAGScheduler: Broadcasting large task binary with size 1008.4 KiB\n",
      "24/10/01 21:54:06 WARN DAGScheduler: Broadcasting large task binary with size 1010.6 KiB\n",
      "24/10/01 21:54:06 WARN DAGScheduler: Broadcasting large task binary with size 1013.3 KiB\n",
      "24/10/01 21:54:06 WARN DAGScheduler: Broadcasting large task binary with size 1013.8 KiB\n",
      "24/10/01 21:54:07 WARN DAGScheduler: Broadcasting large task binary with size 1014.5 KiB\n",
      "24/10/01 21:54:07 WARN DAGScheduler: Broadcasting large task binary with size 1015.5 KiB\n",
      "24/10/01 21:54:07 WARN DAGScheduler: Broadcasting large task binary with size 1017.4 KiB\n",
      "24/10/01 21:54:07 WARN DAGScheduler: Broadcasting large task binary with size 1019.5 KiB\n",
      "24/10/01 21:54:07 WARN DAGScheduler: Broadcasting large task binary with size 1020.0 KiB\n",
      "24/10/01 21:54:07 WARN DAGScheduler: Broadcasting large task binary with size 1020.5 KiB\n",
      "24/10/01 21:54:07 WARN DAGScheduler: Broadcasting large task binary with size 1021.4 KiB\n",
      "24/10/01 21:54:07 WARN DAGScheduler: Broadcasting large task binary with size 1023.0 KiB\n",
      "24/10/01 21:54:07 WARN DAGScheduler: Broadcasting large task binary with size 1025.3 KiB\n",
      "24/10/01 21:54:07 WARN DAGScheduler: Broadcasting large task binary with size 1025.8 KiB\n",
      "24/10/01 21:54:08 WARN DAGScheduler: Broadcasting large task binary with size 1026.5 KiB\n",
      "24/10/01 21:54:08 WARN DAGScheduler: Broadcasting large task binary with size 1027.5 KiB\n",
      "24/10/01 21:54:08 WARN DAGScheduler: Broadcasting large task binary with size 1029.4 KiB\n",
      "24/10/01 21:54:08 WARN DAGScheduler: Broadcasting large task binary with size 1031.8 KiB\n",
      "24/10/01 21:54:08 WARN DAGScheduler: Broadcasting large task binary with size 1032.3 KiB\n",
      "24/10/01 21:54:08 WARN DAGScheduler: Broadcasting large task binary with size 1033.0 KiB\n",
      "24/10/01 21:54:08 WARN DAGScheduler: Broadcasting large task binary with size 1034.0 KiB\n",
      "24/10/01 21:54:08 WARN DAGScheduler: Broadcasting large task binary with size 1036.2 KiB\n",
      "24/10/01 21:54:08 WARN DAGScheduler: Broadcasting large task binary with size 1038.6 KiB\n",
      "24/10/01 21:54:08 WARN DAGScheduler: Broadcasting large task binary with size 1039.1 KiB\n",
      "24/10/01 21:54:09 WARN DAGScheduler: Broadcasting large task binary with size 1039.8 KiB\n",
      "24/10/01 21:54:09 WARN DAGScheduler: Broadcasting large task binary with size 1040.8 KiB\n",
      "24/10/01 21:54:09 WARN DAGScheduler: Broadcasting large task binary with size 1043.0 KiB\n",
      "24/10/01 21:54:09 WARN DAGScheduler: Broadcasting large task binary with size 1045.4 KiB\n",
      "24/10/01 21:54:09 WARN DAGScheduler: Broadcasting large task binary with size 1045.9 KiB\n",
      "24/10/01 21:54:09 WARN DAGScheduler: Broadcasting large task binary with size 1046.6 KiB\n",
      "24/10/01 21:54:09 WARN DAGScheduler: Broadcasting large task binary with size 1047.5 KiB\n",
      "24/10/01 21:54:09 WARN DAGScheduler: Broadcasting large task binary with size 1049.2 KiB\n",
      "24/10/01 21:54:10 WARN DAGScheduler: Broadcasting large task binary with size 1051.6 KiB\n",
      "24/10/01 21:54:10 WARN DAGScheduler: Broadcasting large task binary with size 1052.0 KiB\n",
      "24/10/01 21:54:10 WARN DAGScheduler: Broadcasting large task binary with size 1052.8 KiB\n",
      "24/10/01 21:54:10 WARN DAGScheduler: Broadcasting large task binary with size 1053.7 KiB\n"
     ]
    },
    {
     "name": "stdout",
     "output_type": "stream",
     "text": [
      "Feature importance:\n",
      "avg_merchant_fraud_probability: 0.7714293046696148\n",
      "consumer_is_fraud: 0.0414013194284359\n",
      "avg_purchasing_power: 0.03193488533589048\n",
      "total_transaction_revenue: 0.026454258185182766\n",
      "avg_mortgage_repay_monthly: 0.023015545004276054\n",
      "total_BNPL_revenue: 0.021568459611301334\n",
      "avg_consumer_fraud_probability: 0.01831920603755466\n",
      "avg_average_population: 0.01781746945542804\n",
      "avg_tot_prsnl_inc_weekly: 0.01772917778721327\n",
      "avg_num_psns_per_bedroom: 0.015535945789709543\n",
      "avg_repurchase_rate: 0.01479442869539312\n"
     ]
    },
    {
     "name": "stderr",
     "output_type": "stream",
     "text": [
      "24/10/01 21:54:10 WARN DAGScheduler: Broadcasting large task binary with size 1055.9 KiB\n"
     ]
    }
   ],
   "source": [
    "# select features for training\n",
    "feature_columns = [\"avg_merchant_fraud_probability\", \"consumer_is_fraud\", \"total_transaction_revenue\",\n",
    "                   \"avg_purchasing_power\", \"avg_mortgage_repay_monthly\",\n",
    "                   \"avg_consumer_fraud_probability\", \"total_BNPL_revenue\", \"avg_num_psns_per_bedroom\",\n",
    "                   \"avg_average_population\", \"avg_repurchase_rate\", \n",
    "                   \"avg_tot_prsnl_inc_weekly\"]\n",
    "\n",
    "# create feature vectors\n",
    "assembler = VectorAssembler(inputCols=feature_columns, outputCol='features')\n",
    "labeled_data = assembler.transform(aggregated_transaction_by_merchant)\n",
    "unlabeled_data = assembler.transform(aggregated_transaction_by_merchant)\n",
    "\n",
    "# standardise features\n",
    "scaler = StandardScaler(inputCol=\"features\", outputCol=\"scaled_features\", \n",
    "                        withMean=True, withStd=True)\n",
    "\n",
    "# standardise labeled and unlabeled datasets\n",
    "scaler_model = scaler.fit(labeled_data)\n",
    "labeled_data = scaler_model.transform(labeled_data)\n",
    "unlabeled_data = scaler_model.transform(unlabeled_data)\n",
    "\n",
    "# train the model\n",
    "gbt = GBTRegressor(featuresCol='scaled_features', labelCol='transaction_is_fraud', maxIter=100)\n",
    "model = gbt.fit(labeled_data)\n",
    "\n",
    "# get the feature importances\n",
    "feature_importances = model.featureImportances\n",
    "feature_importance_dict = dict(zip(feature_columns, feature_importances))\n",
    "\n",
    "# sort the feature importances\n",
    "sorted_feature_importances = sorted(feature_importance_dict.items(), \n",
    "                                    key=lambda x: x[1], reverse=True)\n",
    "print(\"Feature importance:\")\n",
    "for feature, importance in sorted_feature_importances:\n",
    "    print(f\"{feature}: {importance}\")"
   ]
  },
  {
   "cell_type": "code",
   "execution_count": 110,
   "metadata": {},
   "outputs": [
    {
     "data": {
      "text/plain": [
       "[('avg_merchant_fraud_probability', 0.7714293046696148),\n",
       " ('consumer_is_fraud', 0.0414013194284359),\n",
       " ('avg_purchasing_power', 0.03193488533589048),\n",
       " ('total_transaction_revenue', 0.026454258185182766),\n",
       " ('avg_mortgage_repay_monthly', 0.023015545004276054),\n",
       " ('total_BNPL_revenue', 0.021568459611301334),\n",
       " ('avg_consumer_fraud_probability', 0.01831920603755466),\n",
       " ('avg_average_population', 0.01781746945542804),\n",
       " ('avg_tot_prsnl_inc_weekly', 0.01772917778721327),\n",
       " ('avg_num_psns_per_bedroom', 0.015535945789709543),\n",
       " ('avg_repurchase_rate', 0.01479442869539312)]"
      ]
     },
     "execution_count": 110,
     "metadata": {},
     "output_type": "execute_result"
    }
   ],
   "source": [
    "sorted_feature_importances"
   ]
  },
  {
   "cell_type": "markdown",
   "metadata": {},
   "source": [
    "### Plot the selected feature importances"
   ]
  },
  {
   "cell_type": "code",
   "execution_count": 111,
   "metadata": {},
   "outputs": [
    {
     "data": {
      "image/png": "[encoded data removed]",
      "text/plain": [
       "<Figure size 1000x600 with 1 Axes>"
      ]
     },
     "metadata": {},
     "output_type": "display_data"
    }
   ],
   "source": [
    "# Using the sorted_feature_importances to create a dictionary\n",
    "importance_dict = dict(sorted_feature_importances)\n",
    "\n",
    "# Sort the features and their importances from largest to smallest for the plot\n",
    "sorted_features = sorted(importance_dict.items(), key=lambda x: x[1], reverse=False)\n",
    "\n",
    "# Unpack the sorted features and importances\n",
    "features_sorted = [x[0] for x in sorted_features]\n",
    "importances_sorted = [x[1] for x in sorted_features]\n",
    "\n",
    "# Create the plot\n",
    "plt.figure(figsize=(10, 6))\n",
    "plt.barh(features_sorted, importances_sorted)\n",
    "plt.xlabel('Importance', fontsize=14)\n",
    "plt.title('Feature Importances', fontsize=14, fontweight=\"bold\")\n",
    "plt.tight_layout()\n",
    "\n",
    "# save and display the plot\n",
    "plt.savefig('../plots/ranking_feature_importances.png', dpi=300, bbox_inches='tight')\n",
    "plt.show()"
   ]
  },
  {
   "cell_type": "markdown",
   "metadata": {},
   "source": [
    "### Use Min-Max Scaling to rescale the feature values of above features in 0-100"
   ]
  },
  {
   "cell_type": "code",
   "execution_count": 112,
   "metadata": {},
   "outputs": [],
   "source": [
    "all_features = [feature for feature, _ in sorted_feature_importances] + [\"merchant_abn\",\n",
    "                                                                         \"merchant_segment_1\", \n",
    "                                                                         \"merchant_segment_2\", \n",
    "                                                                         \"merchant_segment_3\", \n",
    "                                                                         \"merchant_segment_4\",\n",
    "                                                                         \"merchant_segment_5\"]\n",
    "selected_transaction_by_merchant = aggregated_transaction_by_merchant.select(all_features)"
   ]
  },
  {
   "cell_type": "code",
   "execution_count": 113,
   "metadata": {},
   "outputs": [
    {
     "name": "stderr",
     "output_type": "stream",
     "text": [
      "[Stage 19836:>                                                      (0 + 1) / 1]\r"
     ]
    },
    {
     "name": "stdout",
     "output_type": "stream",
     "text": [
      "+------------+------------------+------------------+------------------+------------------+------------------+-------------------------------------+------------------------+---------------------------+--------------------------------+---------------------------------+-------------------------+-------------------------------------+-----------------------------+-------------------------------+-------------------------------+--------------------------+\n",
      "|merchant_abn|merchant_segment_1|merchant_segment_2|merchant_segment_3|merchant_segment_4|merchant_segment_5|scaled_avg_merchant_fraud_probability|scaled_consumer_is_fraud|scaled_avg_purchasing_power|scaled_total_transaction_revenue|scaled_avg_mortgage_repay_monthly|scaled_total_BNPL_revenue|scaled_avg_consumer_fraud_probability|scaled_avg_average_population|scaled_avg_tot_prsnl_inc_weekly|scaled_avg_num_psns_per_bedroom|scaled_avg_repurchase_rate|\n",
      "+------------+------------------+------------------+------------------+------------------+------------------+-------------------------------------+------------------------+---------------------------+--------------------------------+---------------------------------+-------------------------+-------------------------------------+-----------------------------+-------------------------------+-------------------------------+--------------------------+\n",
      "| 10023283211|                 0|                 0|                 1|                 0|                 0|                    62.52066071514645|                     0.0|        0.39927932078250755|               7.108239101834163|               28.825722997851667|      0.18861160942107666|                     6.45181691439716|           23.675417181122256|             45.789645461127236|             30.406402092646317|         6.894506106615646|\n",
      "| 10346855916|                 0|                 0|                 1|                 0|                 0|                   13.847877561636782|                     0.0|          3.806707290300162|             0.11870420376882942|               30.589400320898513|       0.1009726113067949|                    1.501012067339053|           24.974677733856343|              43.18556539739085|              26.04166666666669|                       0.0|\n",
      "| 10385163239|                 0|                 0|                 0|                 1|                 0|                    57.41483839617708|                     0.0|         0.6554372168495605|              0.1882922695672252|               30.854841472790483|      0.26674387529214566|                    5.889885622904148|           25.387112958171787|             46.775637245462875|              34.27083333333334|        1.5874597165751785|\n",
      "| 10648956813|                 0|                 0|                 0|                 0|                 1|                    66.44489861754505|                     0.0|        0.10893796982135932|              13.492592074509755|                29.90616508951965|       14.211375671290119|                    6.559902090394372|            23.73555585928528|              46.20505596471057|             30.841149813848467|         38.75208443742512|\n",
      "| 10714068705|                 0|                 0|                 1|                 0|                 0|                   60.014764994941295|                     0.0|        0.22667140128492624|               4.303554670809037|                30.19683988399697|       1.6522309547235394|                    6.674164374293097|           23.950302603098184|             46.304363692509064|             30.359236571319652|         6.382044799318652|\n",
      "+------------+------------------+------------------+------------------+------------------+------------------+-------------------------------------+------------------------+---------------------------+--------------------------------+---------------------------------+-------------------------+-------------------------------------+-----------------------------+-------------------------------+-------------------------------+--------------------------+\n",
      "only showing top 5 rows\n",
      "\n"
     ]
    },
    {
     "name": "stderr",
     "output_type": "stream",
     "text": [
      "                                                                                \r"
     ]
    }
   ],
   "source": [
    "# Extract feature names from sorted_feature_importances\n",
    "feature_names = [feature for feature, _ in sorted_feature_importances]\n",
    "\n",
    "# Calculate min and max values for the selected features\n",
    "min_max_values = aggregated_transaction_by_merchant.select(\n",
    "    *[F.min(col).alias(f'min_{col}') for col in feature_names],\n",
    "    *[F.max(col).alias(f'max_{col}') for col in feature_names]\n",
    ").collect()\n",
    "\n",
    "# Extract the min and max for scaling\n",
    "min_values = [min_max_values[0][f'min_{col}'] for col in feature_names]\n",
    "max_values = [min_max_values[0][f'max_{col}'] for col in feature_names]\n",
    "\n",
    "# Start with the original DataFrame\n",
    "scaled_transaction_by_merchant = selected_transaction_by_merchant\n",
    "\n",
    "# Perform scaling for each feature and create new columns with 'scaled_' prefix\n",
    "for col, min_val, max_val in zip(feature_names, min_values, max_values):\n",
    "    scaled_transaction_by_merchant = scaled_transaction_by_merchant.withColumn(\n",
    "        f'scaled_{col}', ((F.col(col) - min_val) / (max_val - min_val) * 100)\n",
    "    )\n",
    "\n",
    "# Drop original columns\n",
    "scaled_transaction_by_merchant = scaled_transaction_by_merchant.drop(*feature_names)\n",
    "\n",
    "scaled_transaction_by_merchant.show(5)"
   ]
  },
  {
   "cell_type": "markdown",
   "metadata": {},
   "source": [
    "Since higher `scaled_avg_merchant_fraud_probability` means more frequent fraudent behaviours (negative) and 0 for `scaled_consumer_is_fraud` means not fraudent (positive), we will change `scaled_avg_merchant_fraud_probability` to (100-`scaled_avg_merchant_fraud_probability`) and `scaled_consumer_is_fraud` to (100-`scaled_consumer_is_fraud`)."
   ]
  },
  {
   "cell_type": "code",
   "execution_count": 114,
   "metadata": {},
   "outputs": [
    {
     "name": "stderr",
     "output_type": "stream",
     "text": [
      "[Stage 19854:================================================>    (11 + 1) / 12]\r"
     ]
    },
    {
     "name": "stdout",
     "output_type": "stream",
     "text": [
      "+-------+--------------------+-------------------+-------------------+------------------+-------------------+-------------------+-------------------------------------+------------------------+---------------------------+--------------------------------+---------------------------------+-------------------------+-------------------------------------+-----------------------------+-------------------------------+-------------------------------+--------------------------+\n",
      "|summary|        merchant_abn| merchant_segment_1| merchant_segment_2|merchant_segment_3| merchant_segment_4| merchant_segment_5|scaled_avg_merchant_fraud_probability|scaled_consumer_is_fraud|scaled_avg_purchasing_power|scaled_total_transaction_revenue|scaled_avg_mortgage_repay_monthly|scaled_total_BNPL_revenue|scaled_avg_consumer_fraud_probability|scaled_avg_average_population|scaled_avg_tot_prsnl_inc_weekly|scaled_avg_num_psns_per_bedroom|scaled_avg_repurchase_rate|\n",
      "+-------+--------------------+-------------------+-------------------+------------------+-------------------+-------------------+-------------------------------------+------------------------+---------------------------+--------------------------------+---------------------------------+-------------------------+-------------------------------------+-----------------------------+-------------------------------+-------------------------------+--------------------------+\n",
      "|  count|                4026|               4026|               4026|              4026|               4026|               4026|                                 4026|                    4026|                       4026|                            4026|                             4026|                     4026|                                 4026|                         4026|                           4026|                           4026|                      4026|\n",
      "|   mean|5.446186755874988E10|0.24615002483854942|0.15797317436661698|0.1927471435668157|0.18777943368107303|0.21535022354694486|                    70.11924827774706|       98.31097863884749|          2.226054558864337|               5.186807400679074|               29.638765890129765|        3.609685023719745|                    7.062873278133204|            23.64116358852663|              46.10358372167459|             30.938099645010176|         5.112892829024855|\n",
      "| stddev|2.598938766039739E10|0.43082048700255354| 0.3647611525514215|0.3945051831421233| 0.3905844476131815| 0.4111161466163129|                   19.318610417436005|      12.887614110143348|          5.730191794984501|              11.973629196234278|                3.712146479465707|        8.832051513136301|                   3.2269371247938077|           3.7685209946299625|              4.346228171466352|              4.730089441610393|        11.819597176215497|\n",
      "|    min|         10023283211|                  0|                  0|                 0|                  0|                  0|                                  0.0|                     0.0|                        0.0|                             0.0|                              0.0|                      0.0|                                  0.0|                          0.0|                            0.0|                            0.0|                       0.0|\n",
      "|    max|         99990536339|                  1|                  1|                 1|                  1|                  1|                                100.0|                   100.0|                      100.0|                           100.0|                            100.0|                    100.0|                                100.0|                        100.0|                          100.0|                          100.0|                     100.0|\n",
      "+-------+--------------------+-------------------+-------------------+------------------+-------------------+-------------------+-------------------------------------+------------------------+---------------------------+--------------------------------+---------------------------------+-------------------------+-------------------------------------+-----------------------------+-------------------------------+-------------------------------+--------------------------+\n",
      "\n"
     ]
    },
    {
     "name": "stderr",
     "output_type": "stream",
     "text": [
      "                                                                                \r"
     ]
    }
   ],
   "source": [
    "scaled_transaction_by_merchant = scaled_transaction_by_merchant \\\n",
    "    .withColumn('scaled_avg_merchant_fraud_probability', 100 - F.col('scaled_avg_merchant_fraud_probability')) \\\n",
    "    .withColumn('scaled_consumer_is_fraud', 100 - F.col('scaled_consumer_is_fraud'))\n",
    "\n",
    "scaled_transaction_by_merchant.describe().show()"
   ]
  },
  {
   "cell_type": "markdown",
   "metadata": {},
   "source": [
    "### Check the shape of scaled dataset"
   ]
  },
  {
   "cell_type": "code",
   "execution_count": 115,
   "metadata": {},
   "outputs": [
    {
     "name": "stderr",
     "output_type": "stream",
     "text": [
      "[Stage 19868:==========================================>            (7 + 2) / 9]\r"
     ]
    },
    {
     "name": "stdout",
     "output_type": "stream",
     "text": [
      "Number of rows: 4026\n",
      "Number of columns: 17\n"
     ]
    },
    {
     "name": "stderr",
     "output_type": "stream",
     "text": [
      "                                                                                \r"
     ]
    }
   ],
   "source": [
    "num_rows = scaled_transaction_by_merchant.count()\n",
    "print(f\"Number of rows: {num_rows}\")\n",
    "\n",
    "num_columns = len(scaled_transaction_by_merchant.columns)\n",
    "print(f\"Number of columns: {num_columns}\")"
   ]
  },
  {
   "cell_type": "markdown",
   "metadata": {},
   "source": [
    "# Compute the Ranking Score for Each Merchant"
   ]
  },
  {
   "cell_type": "code",
   "execution_count": 116,
   "metadata": {},
   "outputs": [
    {
     "name": "stderr",
     "output_type": "stream",
     "text": [
      "[Stage 19890:>                                                      (0 + 1) / 1]\r"
     ]
    },
    {
     "name": "stdout",
     "output_type": "stream",
     "text": [
      "+------------+------------------+------------------+------------------+------------------+------------------+-------------------------------------+------------------------+---------------------------+--------------------------------+---------------------------------+-------------------------+-------------------------------------+-----------------------------+-------------------------------+-------------------------------+--------------------------+------------------+\n",
      "|merchant_abn|merchant_segment_1|merchant_segment_2|merchant_segment_3|merchant_segment_4|merchant_segment_5|scaled_avg_merchant_fraud_probability|scaled_consumer_is_fraud|scaled_avg_purchasing_power|scaled_total_transaction_revenue|scaled_avg_mortgage_repay_monthly|scaled_total_BNPL_revenue|scaled_avg_consumer_fraud_probability|scaled_avg_average_population|scaled_avg_tot_prsnl_inc_weekly|scaled_avg_num_psns_per_bedroom|scaled_avg_repurchase_rate|     ranking_score|\n",
      "+------------+------------------+------------------+------------------+------------------+------------------+-------------------------------------+------------------------+---------------------------+--------------------------------+---------------------------------+-------------------------+-------------------------------------+-----------------------------+-------------------------------+-------------------------------+--------------------------+------------------+\n",
      "| 10023283211|                 0|                 0|                 1|                 0|                 0|                    37.47933928485355|                   100.0|        0.39927932078250755|               7.108239101834163|               28.825722997851667|      0.18861160942107666|                     6.45181691439716|           23.675417181122256|             45.789645461127236|             30.406402092646317|         6.894506106615646|35.847327950010836|\n",
      "| 10346855916|                 0|                 0|                 1|                 0|                 0|                    86.15212243836322|                   100.0|          3.806707290300162|             0.11870420376882942|               30.589400320898513|       0.1009726113067949|                    1.501012067339053|           24.974677733856343|              43.18556539739085|              26.04166666666669|                       0.0| 73.07402978257441|\n",
      "| 10385163239|                 0|                 0|                 0|                 1|                 0|                    42.58516160382292|                   100.0|         0.6554372168495605|              0.1882922695672252|               30.854841472790483|      0.26674387529214566|                    5.889885622904148|           25.387112958171787|             46.775637245462875|              34.27083333333334|        1.5874597165751785| 39.67882133503073|\n",
      "| 10648956813|                 0|                 0|                 0|                 0|                 1|                    33.55510138245495|                   100.0|        0.10893796982135932|              13.492592074509755|                29.90616508951965|       14.211375671290119|                    6.559902090394372|            23.73555585928528|              46.20505596471057|             30.841149813848467|         38.75208443742512|33.795478850025674|\n",
      "| 10714068705|                 0|                 0|                 1|                 0|                 0|                   39.985235005058705|                   100.0|        0.22667140128492624|               4.303554670809037|                30.19683988399697|       1.6522309547235394|                    6.674164374293097|           23.950302603098184|             46.304363692509064|             30.359236571319652|         6.382044799318652| 37.77364848929603|\n",
      "+------------+------------------+------------------+------------------+------------------+------------------+-------------------------------------+------------------------+---------------------------+--------------------------------+---------------------------------+-------------------------+-------------------------------------+-----------------------------+-------------------------------+-------------------------------+--------------------------+------------------+\n",
      "only showing top 5 rows\n",
      "\n"
     ]
    },
    {
     "name": "stderr",
     "output_type": "stream",
     "text": [
      "                                                                                \r"
     ]
    }
   ],
   "source": [
    "# Create a dictionary of feature importance for quick look-up\n",
    "importance_dict = dict(sorted_feature_importances)\n",
    "\n",
    "# Initialize the ranking score by multiplying each scaled feature by its respective importance\n",
    "ranking_score_expr = reduce(\n",
    "    lambda a, b: a + b, \n",
    "    [F.col(f'scaled_{col}') * F.lit(importance_dict[col]) for col, _ in sorted_feature_importances]\n",
    ")\n",
    "\n",
    "# Add a new column for the ranking score\n",
    "ranked_transaction_by_merchant = scaled_transaction_by_merchant.withColumn('ranking_score', ranking_score_expr)\n",
    "\n",
    "# Show the updated DataFrame with ranking scores\n",
    "ranked_transaction_by_merchant.show(5)"
   ]
  },
  {
   "cell_type": "markdown",
   "metadata": {},
   "source": [
    "# Select Overall Top 100 Merchants"
   ]
  },
  {
   "cell_type": "code",
   "execution_count": 117,
   "metadata": {},
   "outputs": [],
   "source": [
    "# Rename columns\n",
    "ranked_transaction_by_merchant = ranked_transaction_by_merchant \\\n",
    "    .withColumnRenamed('scaled_avg_merchant_fraud_probability', 'scaled_avg_merchant_not_fraud_probability') \\\n",
    "    .withColumnRenamed('scaled_consumer_is_fraud', 'scaled_consumer_not_fraud')"
   ]
  },
  {
   "cell_type": "code",
   "execution_count": 118,
   "metadata": {},
   "outputs": [
    {
     "name": "stderr",
     "output_type": "stream",
     "text": [
      "[Stage 19908:============================================>        (10 + 2) / 12]\r"
     ]
    },
    {
     "name": "stdout",
     "output_type": "stream",
     "text": [
      "+------------+------------------+------------------+------------------+------------------+------------------+-----------------------------------------+-------------------------+---------------------------+--------------------------------+---------------------------------+-------------------------+-------------------------------------+-----------------------------+-------------------------------+-------------------------------+--------------------------+-----------------+\n",
      "|merchant_abn|merchant_segment_1|merchant_segment_2|merchant_segment_3|merchant_segment_4|merchant_segment_5|scaled_avg_merchant_not_fraud_probability|scaled_consumer_not_fraud|scaled_avg_purchasing_power|scaled_total_transaction_revenue|scaled_avg_mortgage_repay_monthly|scaled_total_BNPL_revenue|scaled_avg_consumer_fraud_probability|scaled_avg_average_population|scaled_avg_tot_prsnl_inc_weekly|scaled_avg_num_psns_per_bedroom|scaled_avg_repurchase_rate|    ranking_score|\n",
      "+------------+------------------+------------------+------------------+------------------+------------------+-----------------------------------------+-------------------------+---------------------------+--------------------------------+---------------------------------+-------------------------+-------------------------------------+-----------------------------+-------------------------------+-------------------------------+--------------------------+-----------------+\n",
      "| 98166254020|                 0|                 1|                 0|                 0|                 0|                        99.80128155613478|                    100.0|         3.5416948019387684|               71.76568883297921|               29.745042314045637|        66.86571894063245|                    6.397486585760678|            23.04154922671019|              46.04458132366499|             30.763669402494475|         7.720179653030604|87.20439566622035|\n",
      "| 67264251405|                 0|                 1|                 0|                 0|                 0|                        99.98035703247989|                      0.0|                      100.0|              0.5285418706847971|                 43.4416365824308|       0.5993373654367199|                                100.0|           10.680495595632811|              42.74779762191307|              33.33333333333338|                       0.0|84.64597591997311|\n",
      "| 68233865253|                 0|                 1|                 0|                 0|                 0|                        99.27993207215907|                    100.0|         17.853779539075425|              2.4077120458128043|                31.61053849328845|       2.1897515872748263|                   15.368610947883207|            27.35513981387619|              45.89590584768272|              39.27536231884071|                       0.0|84.32901358025806|\n",
      "| 80067991455|                 0|                 1|                 0|                 0|                 0|                        99.68112952278949|                    100.0|          5.312174883998639|              0.7006998383974666|                32.61363298717892|       0.6850324901811723|                   11.390676440038645|           25.055734276168874|              54.22570430633783|             41.589506172839535|                       0.0|84.25325959726425|\n",
      "| 88745863985|                 0|                 1|                 0|                 0|                 0|                         99.2802489806437|                    100.0|           7.53032832208929|             0.11146847659039459|                35.64981949458484|      0.17019677322316426|                   13.463707440336039|            36.88875653447242|             49.806238867761046|              41.66666666666668|                       0.0|84.22968873777647|\n",
      "| 41305045812|                 0|                 1|                 0|                 0|                 0|                        99.80557220073092|                    100.0|         3.4949056754514296|               8.756026652922621|               28.548556486666264|        7.994358097220644|                    7.685970942966034|           24.017739262266346|              44.44432847976865|             30.905245201188148|        0.4796640870227148|84.14974147837309|\n",
      "| 37106509177|                 0|                 1|                 0|                 0|                 0|                        99.76619798353822|                    100.0|         3.7342176282545667|               8.085194695022174|                30.57571663087233|        8.379846246094774|                    6.781242124455554|            22.28880519257679|              45.03328660812544|             30.300749404575413|         2.535463829008833|84.14831924096465|\n",
      "| 42392117775|                 0|                 1|                 0|                 0|                 0|                          99.285454297847|                    100.0|          4.477716041475663|             0.17299071803228555|                45.64632823758375|       0.2292950745694277|                    5.773358212585329|           31.994277568286872|              52.68858614547732|              38.27160493827162|                       0.0|84.13946456117782|\n",
      "| 31471844679|                 0|                 1|                 0|                 0|                 0|                        99.58056686300905|                    100.0|          4.728443344333813|               6.652621059289186|               30.433841949475553|        6.715690607534638|                    5.808435505555063|           23.278571354169145|              44.58677871507697|             31.986588035317233|        0.4255743069967513| 83.9466865224854|\n",
      "| 25737175575|                 0|                 1|                 0|                 0|                 0|                        99.95648685501007|                    100.0|         3.5500329055619595|              0.3171775752349575|                30.16557472032803|      0.34008803089857204|                    8.183872522372104|            21.05809347256681|             49.543477912033254|             26.851851851851965|                       0.0| 83.8935260303618|\n",
      "| 31337247877|                 0|                 1|                 0|                 0|                 0|                        99.78877788827974|                    100.0|         3.2532596485337106|               2.030807858533267|               29.093164564484265|        2.285017564341413|                    6.726106294940447|            22.45463629652672|             47.563165148492295|             29.202674897119348|                       0.0|83.81686352823608|\n",
      "| 66069111675|                 0|                 1|                 0|                 0|                 0|                        99.70933168668151|                    100.0|          3.189111749735059|              1.4303306227918267|                28.56915113232802|       1.4297625447089601|                   6.4650450149572265|            22.90990749651913|              48.70286106807074|              28.70014245014254|                       0.0|83.72286357652942|\n",
      "| 41686800806|                 0|                 1|                 0|                 0|                 0|                         99.2854172734426|                    100.0|         3.5109568277448995|             0.14049027733747124|               32.893702366626556|        0.220950645664428|                    8.908560707139362|           24.756944181000147|             49.981707023540174|              31.00000000000001|                       0.0|83.58153572122056|\n",
      "| 35787272183|                 0|                 1|                 0|                 0|                 0|                        99.53954178206696|                    100.0|         3.3833703390373615|              0.4380211120018987|                 34.8360743414895|       0.5169527138002776|                    5.988721369074381|           21.027913293525845|              40.18726231165456|             30.634920634920775|                       0.0|83.53321003287773|\n",
      "| 56945094143|                 0|                 1|                 0|                 0|                 0|                        99.31152020994084|                    100.0|           5.37977083349247|              4.0286971018662605|               26.347657956714503|        4.121265472661959|                    5.545071987875487|            22.05093613152302|              44.07923140691032|             31.166104236970398|                       0.0|83.48577917088369|\n",
      "| 59079680636|                 0|                 1|                 0|                 0|                 0|                        99.94192224263449|                    100.0|          4.355446100929594|             0.11469451904687884|               20.673122839187826|      0.16163560301997276|                    5.369998145011836|            13.97821607683445|             40.488683799712554|              23.01587301587307|                       0.0|83.28250874548567|\n",
      "| 99785979138|                 0|                 1|                 0|                 0|                 0|                                    100.0|                    100.0|         1.6575033966510093|                             0.0|                20.53941512425267|      0.07347814953421966|                    8.120779326189178|           15.164636730482211|             41.530558210864385|             15.079365079365129|                       0.0|83.19984176432413|\n",
      "| 10739268011|                 0|                 1|                 0|                 0|                 0|                        99.29179411213029|                    100.0|           7.41092478902232|             0.15273636886850447|               20.569594865623746|      0.21634623532426814|                    3.722699133743905|            30.95833870759706|             39.223992682809424|             21.666666666666675|                       0.0| 83.1073433315928|\n",
      "| 52266154043|                 0|                 1|                 0|                 0|                 0|                        99.93312633527161|                    100.0|          2.949606266244429|            0.053782467654333005|               12.953412411896162|       0.1325480556355487|                    2.438846573117067|            8.582310778045256|              20.50738939970154|              45.23809523809524|                       0.0|82.89206946289553|\n",
      "| 21439773999|                 0|                 0|                 0|                 0|                 1|                        87.35439678871387|                    100.0|          0.134865031541329|               90.90751307778295|                29.76580093807957|        86.80214685789754|                    6.667983434471404|            23.55961895303541|              46.34344572542322|             31.008897460240515|         96.72510981217314|79.77063740052056|\n",
      "| 48534649627|                 1|                 0|                 0|                 0|                 0|                        87.27660858680665|                    100.0|         0.2592592873214086|                90.5958374441071|               29.774527997747356|        94.70735312362366|                    6.764063554859412|            23.82427388582318|              46.10500303321947|             30.851250630735848|         81.43160284767762|79.65060095965379|\n",
      "| 90976587185|                 0|                 1|                 0|                 0|                 0|                        99.34910089633259|                      0.0|          5.834612871546648|              1.2264718294937653|               33.621166292646436|        1.278531553587257|                    8.124734996838336|           21.693946053397045|             49.208562049750135|              33.33333333333335|                       0.0| 79.5866284620275|\n",
      "| 35909341340|                 0|                 0|                 0|                 0|                 1|                         86.5833972684334|                    100.0|         0.4696569004125334|               93.94160935505879|                29.70189979463422|        69.61713984635061|                    6.736905521359236|           23.585667698732564|             46.147579658430494|             30.714681123826082|         59.04074375317493|78.33086181429317|\n",
      "| 96680767841|                 1|                 0|                 0|                 0|                 0|                         86.0655434058447|                    100.0|         0.5921691242551277|                95.1168325372322|                29.74530755353046|        87.81186686133805|                   6.5822474495976016|           23.722936462377806|               46.3863776143835|             30.826657569910527|         50.97312841036564|78.24603768885564|\n",
      "| 76767266140|                 0|                 0|                 1|                 0|                 0|                        86.08456955860787|                    100.0|         0.3965191307611287|               91.22995557302809|               29.628429509535327|        65.39319685861314|                    6.733235410119449|            23.61892152194493|             46.191462779835284|             30.634954098507826|         64.49407793769797| 77.8599297691401|\n",
      "| 50315283629|                 0|                 0|                 1|                 0|                 0|                        87.24416453925507|                    100.0|         0.6073354993666485|               97.08842245723199|               29.982090229953545|         25.5634289198284|                    6.709421326937743|           24.088854844187384|             46.451224263159894|             30.914670437151663|        49.349832787894265|77.85809939185162|\n",
      "| 32361057556|                 0|                 0|                 0|                 1|                 0|                        84.80829195952879|                    100.0|        0.19641786110589815|               90.44494465030787|               29.631412837652782|        94.09231115443356|                   6.6802873199942105|            23.84520312252116|              46.29062430542516|              30.84621134007883|          89.8648416190974|77.85072697221533|\n",
      "| 27093785141|                 0|                 0|                 0|                 1|                 0|                        86.89281012323721|                    100.0|         0.7063890812920859|               96.99414973934893|                29.92340268275198|        40.00977479452092|                    6.726195726053528|           24.026580961630927|              46.24701311218522|               31.1870884159699|        44.724339829344245|77.82933633068414|\n",
      "| 64403598239|                 0|                 1|                 0|                 0|                 0|                        85.07763837281006|                    100.0|         0.1351344819551465|               85.41859907734741|               29.743601371632533|        84.56218678479844|                    6.680974814105197|            23.65752760068998|              46.24077334906428|              30.92061381810831|         95.76105801265103| 77.8047872858952|\n",
      "| 79827781481|                 0|                 0|                 1|                 0|                 0|                        85.84486283519371|                    100.0|         3.8801245580817842|               92.95616783667727|               29.525212435778343|                    100.0|                    6.319769973883478|           23.629952660669613|              46.09394472491249|             30.252863070712905|        10.511222673090053|77.76227864662678|\n",
      "| 45629217853|                 0|                 0|                 0|                 1|                 0|                        84.79374364398038|                    100.0|       0.056387142056318604|               80.23714169984811|               29.692776540979697|        88.50451596028076|                    6.686175701062311|           23.819515711640054|              46.24053980258181|             30.961994714671814|         99.89041641826923|77.59476812415032|\n",
      "| 39649557865|                 0|                 1|                 0|                 0|                 0|                        87.12658899643277|                    100.0|          0.853069795866503|                           100.0|               29.692762748858797|        21.92617700989389|                    6.796539712345123|           23.623694131131646|              46.29012682609433|             31.121802682852717|        37.936813917973616|77.59198107187548|\n",
      "| 32709545238|                 0|                 0|                 0|                 1|                 0|                        86.89274333619669|                    100.0|         1.4357279300316055|               95.97574627830274|                29.37764565285669|       44.226660690023365|                    6.959384606236233|            23.50563386496401|              45.92775209695132|              30.67306573094007|        23.757615482373613|77.57517899521675|\n",
      "| 94493496784|                 0|                 0|                 0|                 1|                 0|                        84.80978104637254|                    100.0|        0.16182519443894142|               88.47670727943232|               29.850552068034737|        77.87718761666812|                    6.611352719671573|           23.879590982266542|               46.2221495421491|             31.159061050999213|         93.49737909270426|77.51074870575194|\n",
      "| 89726005175|                 0|                 0|                 1|                 0|                 0|                        84.65921816218264|                    100.0|        0.06383073775595792|               85.82363940660667|               29.694570434563804|        80.66504651981617|                    6.681422015176909|            23.75516151654985|               46.1609898750754|             30.906327999017325|         99.88542914337715|77.46638890934156|\n",
      "| 38090089066|                 0|                 0|                 1|                 0|                 0|                        86.08324908955143|                    100.0|         0.3158477438263459|               88.56830097684222|               30.056226580409916|        43.59084549399887|                    6.739573067782409|              23.832204478716|              46.42858162202361|             30.965182143886018|         71.50574196936702|77.44250979323127|\n",
      "| 18158387243|                 1|                 0|                 0|                 0|                 0|                        86.71014958744551|                    100.0|         1.0944779795454522|               93.98927804277889|                29.68678346702453|       28.623423002241623|                    6.702517124071469|            24.10752078347286|              46.34114275685461|             31.380824291499152|        30.132503770294484|77.16010577716862|\n",
      "| 72472909171|                 0|                 0|                 0|                 0|                 1|                        85.06480915615604|                    100.0|        0.11953994320277841|               68.78686086352718|                29.55736091314173|        68.34081842079553|                    6.692749953228741|           23.673355406743603|             46.084230378987684|             30.693484460583086|         93.78395571575733|76.96519936773775|\n",
      "| 77590625261|                 0|                 0|                 0|                 0|                 1|                         86.5815550862378|                    100.0|         0.5663534921761403|               75.21581665432976|               29.699149882480203|       37.024071031065354|                    6.685689981510057|           23.855065375618594|             46.266519972951066|             31.033381033555596|          43.0832247958382|76.90894556061393|\n",
      "| 89932674734|                 0|                 1|                 0|                 0|                 0|                        87.12303856151043|                    100.0|         0.8437499026929292|                78.6466292608775|               29.325233614736685|        19.63375159382199|                    6.737961118149652|            23.55548793470011|              45.89238826776476|             30.875707672377928|        31.802492544859597|76.86223692996779|\n",
      "| 80518954462|                 0|                 0|                 0|                 0|                 1|                        85.49021721562102|                    100.0|         0.5623033363355459|               88.79232657635279|               29.638068521766947|        47.19507180454585|                     6.68571916790448|            23.62395200637539|              46.28045163375945|                31.217284638486|        49.227810405777525|76.73394212824724|\n",
      "| 38700038932|                 0|                 0|                 1|                 0|                 0|                        84.68707235090538|                    100.0|         2.5794511604518893|               92.04815761405716|               30.068114147187412|        91.12003856181887|                    6.457836768155882|           24.193179178419573|              46.82186240343584|             31.363859703450814|         13.67657601972669|76.71409553995093|\n",
      "| 49505931725|                 0|                 0|                 0|                 0|                 1|                        85.35645213048534|                    100.0|        0.18708387322149445|               70.24695856931575|               29.681968852387186|        50.93209632021258|                    6.700115854962038|           23.662335341117352|              45.99731210362868|             30.975193674611084|         82.67278710485421| 76.6967435396771|\n",
      "| 90173050473|                 0|                 0|                 1|                 0|                 0|                        87.24234628151628|                    100.0|        0.44305359416701673|               60.05166273794414|               29.391239204531143|       22.547136451570378|                    6.650859083171921|            23.68270612906158|             45.958817127469786|              30.81843447862056|         43.75291565378365|76.69167722826519|\n",
      "| 49891706470|                 0|                 0|                 1|                 0|                 0|                        84.63828357993489|                    100.0|        0.04023542063901725|               69.37749818621529|               29.718529669788857|         62.8004364950423|                   6.6729633914420186|            23.65522584401086|              46.15775908556936|             31.011328924635855|         99.98007273515637|76.63069334569225|\n",
      "| 34096466752|                 0|                 0|                 0|                 0|                 1|                        85.48297440391963|                    100.0|         0.9458605235479121|               91.60382195060676|               29.957643954993856|        44.79615834583605|                    6.790873259787785|           23.680897277888793|              46.79891340883046|             31.264374563821974|         34.03279356046946|76.55865687946431|\n",
      "| 42355028515|                 0|                 0|                 1|                 0|                 0|                        86.33533491340567|                    100.0|         0.2925915592174939|               53.04838246498696|                29.47827063543723|        49.53114894936865|                    6.680688634281277|           23.552441977924985|              46.11296384923217|             30.788775871635586|        55.378178932888524|76.55840389137488|\n",
      "| 98973094975|                 0|                 0|                 0|                 1|                 0|                        85.11283574577584|                    100.0|        0.22476521750266773|               65.88103726970905|               29.672998323600417|        61.60716687162733|                    6.669986786311875|           23.716553964860594|             46.169545176643986|             30.879127291539838|         74.04439418383352|76.49887825085742|\n",
      "| 37379915451|                 0|                 0|                 1|                 0|                 0|                        87.24176429529349|                    100.0|        0.40213038591593375|              57.742426041811925|               30.045996488824052|       13.542048833122974|                    6.725687355411883|            23.65400724205915|             46.467892043466016|             31.183180323540782|         44.81038689748119|76.48087225972631|\n",
      "| 70009327857|                 0|                 0|                 1|                 0|                 0|                        87.21721702615909|                    100.0|         2.5380035023876415|               65.78787842325694|                30.02436871536912|       24.291760947144027|                    6.451142052444779|            23.98695652854715|              46.66985323017023|              30.55485163152507|        10.851283341966605|76.46665432206629|\n",
      "| 34179569263|                 0|                 1|                 0|                 0|                 0|                        85.36869387070628|                    100.0|         0.6434657164054072|                76.8693968582469|               29.787979588470986|        55.97793165618376|                   6.8240839953122965|           23.523864030354982|             46.094720259835626|             31.241843671858543|         40.90360529052657|76.39494639544203|\n",
      "| 17488304283|                 0|                 0|                 0|                 0|                 1|                        87.35519572462773|                    100.0|        0.17309041417899834|              31.880216009235458|               29.580639275517207|       30.908876719106154|                    6.660940845477866|            23.68451346625459|              46.05324705651376|              30.94946732543349|         54.06529880991934| 76.3660582239303|\n",
      "| 13514558491|                 1|                 0|                 0|                 0|                 0|                        86.06845612856632|                    100.0|         0.5890535264938911|               54.23019346144686|               29.874851453483863|        58.00288771787415|                    6.530061928240329|           23.549970144391903|              46.47057507008994|             31.176502773388737|          32.5871986518343|76.25748798813743|\n",
      "| 95574756848|                 1|                 0|                 0|                 0|                 0|                         87.2726705058137|                    100.0|          0.672394665185145|               39.04240868775584|                29.85954591954793|        37.64230409376302|                    6.591781255381769|            23.94826604354589|              46.21586269459762|              30.81267689070283|        22.158448989202377|76.19160712777177|\n",
      "| 57757792876|                 0|                 0|                 0|                 1|                 0|                        86.03546208705475|                    100.0|         1.1792471983829609|              61.600983768663006|               29.814504454499286|        53.01990332512684|                    6.590576953729728|           23.499867460422823|              46.17337355450124|               31.2868005895862|         19.01063168105299|76.13281053258613|\n",
      "| 90568944804|                 0|                 0|                 1|                 0|                 0|                         84.6362640344418|                    100.0|         1.7166711865137296|               94.95566005470278|                29.70960160238179|        59.66710320601487|                    6.466607598171276|            23.86436846521264|              46.23667537087756|               30.7224931869014|        20.065342170775715|76.10610195362777|\n",
      "| 89109402284|                 0|                 0|                 1|                 0|                 0|                        86.65572894710463|                    100.0|         46.195467049641415|              0.7819650321132314|               26.748228372777106|       0.5021026325963376|                   40.796238871222215|           12.093990182168572|              60.36682231743129|              50.00000000000002|                       0.0| 75.9211789734214|\n",
      "| 80551528183|                 0|                 0|                 1|                 0|                 0|                        84.63951273511407|                    100.0|          2.153906640412753|               86.11253044602839|               29.784483517295833|        63.95910990745654|                     6.48574530361614|           23.716763445726567|             45.943439946463336|             31.424737588372775|        15.040840157956778|75.91202535891868|\n",
      "| 20269486864|                 1|                 0|                 0|                 0|                 0|                        87.00148569158867|                    100.0|         5.7231166282573165|               52.11548519471992|                 30.1085144541191|       20.054619858536018|                    7.009305258823799|           24.154273688517236|              46.84858874883813|             30.679471357268696|        4.2892049525763705|75.87203309765549|\n",
      "| 82368304209|                 0|                 0|                 0|                 0|                 1|                        83.71382349609361|                    100.0|          3.647754349761332|               95.28983645764355|               29.160954136488403|        82.29782749904567|                   6.2814737320624054|           23.738431451257096|             45.907126740274784|             30.782811738464254|        11.135290360726687| 75.7978401216104|\n",
      "| 64203420245|                 0|                 0|                 1|                 0|                 0|                        84.02271719798831|                    100.0|       0.040277652399772546|               75.20472027853297|               29.803339614443935|        32.54891541658025|                    6.726984616376609|           23.764777367120526|              46.23334828505295|             31.019920498798783|         99.99501892878116|75.66409311247448|\n",
      "| 12771097467|                 1|                 0|                 0|                 0|                 0|                          86.062977190974|                    100.0|          7.066061513532533|               45.84365399511128|               29.626174842524893|        50.36580988729226|                    7.421358256709268|           23.392987585351698|               46.2294400761114|              31.13151615672207|         3.510786147378264|75.64618863251422|\n",
      "| 27326652377|                 0|                 1|                 0|                 0|                 0|                         85.1400327661821|                    100.0|         1.9453632035366004|              62.766038538762736|               29.561657999278662|        62.36496569170065|                   6.7056541697881045|            23.41072646533463|              45.66637264250425|              30.97230830757497|        13.320430390182892|75.59553773658257|\n",
      "| 75454398468|                 0|                 0|                 1|                 0|                 0|                        84.63741299561043|                    100.0|         2.5874171306659353|                78.6798059698204|               30.168225449677657|       59.592779435924214|                   6.5226457749363185|           23.212394907223786|              46.08022083708722|              32.08318421648735|        11.129776825531836|75.58876153366934|\n",
      "| 98269572896|                 0|                 0|                 1|                 0|                 0|                        86.07332993349122|                    100.0|        0.15181297215911943|                38.9033677518988|               29.921559467899012|       21.313159247465286|                    6.704372036643166|           23.745575995686117|              46.28680589554084|             30.926115694147256|         66.36065483426837|75.55074817328143|\n",
      "| 92065881715|                 1|                 0|                 0|                 0|                 0|                        87.31641342410367|                    100.0|         0.6662817367167445|              29.013410276296632|                29.40817327107414|        18.72541500884555|                    6.576440034856446|            23.16341509301842|              46.31749392634501|             30.689312787797018|        16.819623707079376|75.44808531551297|\n",
      "| 29521780474|                 0|                 0|                 0|                 0|                 1|                        87.35624682808708|                    100.0|        0.06094306834791636|               12.60003095804954|               29.816162235239062|       11.728917878220296|                   6.7072650859738125|           23.736821311092786|              46.44060023819211|              30.93190641043888|         53.20005939752194| 75.4405577137258|\n",
      "| 49549583265|                 0|                 0|                 1|                 0|                 0|                        84.68353149512376|                    100.0|         1.2983464633842818|               66.49181686130609|               29.678560118278106|        58.98042584554759|                    6.660841326365752|           23.811304462643367|              46.02749322820387|              31.19066331400868|        20.004910723630402|75.36597497054181|\n",
      "| 94472466107|                 0|                 0|                 0|                 0|                 1|                         87.3558986169816|                    100.0|         0.0987200644695824|              13.289953595618464|               29.953905097828766|        13.03502383585847|                    6.733759480203144|           23.335267825768643|               46.4007577519982|              31.15004909477631|         40.82644575189722|75.30404063266447|\n",
      "| 77338620996|                 0|                 0|                 0|                 0|                 1|                          85.482974104739|                    100.0|         0.9409643855609671|               60.46950577188625|                  29.685878142701|        33.10782399090726|                    6.678433232775791|           23.825419064120855|             46.037890116612694|             30.632891169958913|         23.43827065767374|75.29698312453124|\n",
      "| 93558142492|                 1|                 0|                 0|                 0|                 0|                        83.87209341228464|                    100.0|         0.7633299264696706|               87.74547735415707|               29.632853657884066|       45.532202417949094|                    6.667282052286129|           23.697236073813595|              46.04594540313128|              30.95472453489621|         38.33938054124854|75.26005775701941|\n",
      "| 24015576448|                 1|                 0|                 0|                 0|                 0|                        86.06339663078228|                    100.0|          5.889603277392694|              40.369491047307335|               30.939110996930445|        38.04414027765331|                    7.194037975355122|           23.352021656421638|              47.66073544962062|              32.17740470601325|         3.085606817517213|75.25902576607186|\n",
      "| 89022158521|                 0|                 0|                 0|                 1|                 0|                        85.36568840557642|                    100.0|         1.3429243025689275|               59.78210095888332|                 29.3536970973944|         40.5535182241774|                      6.5373330611397|           23.790648830628534|              45.59016628566871|              30.79316082959314|         17.28957581827968|75.25448546347239|\n",
      "| 98518649381|                 0|                 0|                 1|                 0|                 0|                        86.36212438581543|                    100.0|          1.935093246985843|               37.29634446888746|               29.999548941909428|       35.899486419978324|                    6.867045668479105|            23.41493001568415|             45.682021446367635|               31.5829399661939|         7.938375556903067| 75.2366150852363|\n",
      "| 68004106739|                 0|                 0|                 0|                 0|                 1|                        87.35555087474965|                    100.0|        0.13630548053920388|              14.540129447912783|                29.75918086505793|       12.751852801686903|                    6.732141058350281|            23.52626557706356|             45.838845574518416|              30.64335027660812|        34.376723791649475| 75.2175750979701|\n",
      "| 69703285964|                 0|                 0|                 0|                 0|                 1|                        87.35624726226008|                    100.0|        0.05979212980613062|              10.320160462512685|                29.72196909326955|        9.342638034143711|                    6.667935823632834|            23.73418959404664|              46.32303522232786|             30.887677448056593|         45.74472914093517|75.21273653080554|\n",
      "| 81219314324|                 0|                 0|                 0|                 1|                 0|                        84.80683013964487|                    100.0|        0.15513493104944076|               42.87869995466204|                 29.8131901328839|        42.76998115216544|                    6.647000636250872|            23.52840005431669|              46.21439651213704|             31.021504623732234|         70.57159158451799| 75.1968761638149|\n",
      "| 76819856970|                 0|                 0|                 1|                 0|                 0|                        84.64532071923534|                    100.0|         0.8662572014633206|               74.97333463643386|               29.608185940221205|       36.316511296577076|                    6.697498819096164|            23.46987221158809|              46.34621652758234|             30.972543433080922|        29.666349219508938| 75.1964117163867|\n",
      "| 41974958954|                 0|                 0|                 0|                 0|                 1|                        87.35590096312984|                    100.0|        0.09755001598485019|              11.878733078560954|                29.92867617753881|       10.231887065366092|                    6.774563579815313|            23.49549461062196|              46.33766812920678|             31.252534863912757|        37.572376821360415|75.16156621570846|\n",
      "| 71674475255|                 1|                 0|                 0|                 0|                 0|                        87.35238605010602|                    100.0|        0.10031728224166966|               12.94930006612943|               29.770988385682173|        7.572325017534958|                     6.52824450847696|            23.49123638002383|             46.332415370155495|             31.116119917368014|         38.74783713580717| 75.1368617703207|\n",
      "| 22059270846|                 1|                 0|                 0|                 0|                 0|                        87.28478527991992|                    100.0|        0.04294503259051615|               8.192571132581081|               29.469684539522117|        8.559704962177761|                    6.665448091927785|            23.92519180798839|              46.23971511442989|               31.0251281400805|         47.53617604182837|75.10861299482684|\n",
      "| 46804135891|                 1|                 0|                 0|                 0|                 0|                        83.52569948342979|                    100.0|       0.043239336606519053|               70.03470097868174|               29.747325733772616|        31.07764777656094|                    6.707158999797465|           23.623996983135342|              46.20858838117686|              31.03457453744213|         99.94520175812916|  75.107162606813|\n",
      "| 81410315303|                 1|                 0|                 0|                 0|                 0|                         87.2836573914928|                    100.0|        0.07123929988188313|                10.0318466496884|               29.409848715721047|       10.058471869032651|                    6.812347298852918|            23.73000375920144|              46.18392998448801|             30.912194339142076|         40.83974508775273|75.08565198320986|\n",
      "| 15299889494|                 0|                 0|                 0|                 0|                 1|                        87.38113210454979|                    100.0|        0.17299000489636515|              13.921253028717336|               29.513426838078217|       10.836511084715465|                    6.624594908570061|            23.59625392384753|             45.839107452897885|             30.760404060545277|         26.56497635914844|75.06067137336417|\n",
      "| 90692244747|                 0|                 0|                 0|                 0|                 1|                        87.35521553504537|                    100.0|          0.173211897368298|              12.311915673959017|               29.715930732733938|       13.183020629689446|                    6.768261940500536|           23.881827764230597|             46.025427539466016|              30.68358822703001|         24.88110485080331| 75.0383012137315|\n",
      "| 88547577701|                 1|                 0|                 0|                 0|                 0|                         87.3401300827872|                    100.0|        0.15726594261183238|              13.518096882310799|               29.556949250141557|         9.75293912697189|                    6.676939933282065|           23.793352348978782|              46.07436061234375|              30.83425335504333|         28.45581521548014|75.03326734216225|\n",
      "| 17739089622|                 0|                 0|                 0|                 0|                 1|                        87.39261656336728|                    100.0|         0.0993860894349828|               10.29716788373877|               29.802465223827358|        8.029144398565812|                   6.8756412355418846|            23.45997689687932|             46.064068696723055|             30.888067004305668|         33.27276624806857|75.02479012502344|\n",
      "| 80109801322|                 0|                 0|                 0|                 0|                 1|                        87.39251417053092|                    100.0|        0.09812512365337055|              10.698410316331556|               29.590709752169573|        6.092117542874482|                    6.634224923579439|           23.714878236839184|              46.23368388334431|             30.853323691808026|         33.92363258498241| 75.0008487900775|\n",
      "| 44454840859|                 0|                 0|                 0|                 0|                 1|                         87.3551886018115|                    100.0|        0.17258511131604826|              12.772853615392933|               29.310093984103613|       11.230323589227583|                    6.696221055232261|           23.648886751521665|              45.76529092933288|             30.447927264736425|        25.504966090833747|74.99448326569946|\n",
      "| 59658193201|                 0|                 0|                 0|                 0|                 1|                        87.35519835324193|                    100.0|        0.17307343584515256|              11.729691917955426|               29.458780221938852|       11.374642261749432|                    6.528928977712265|            23.65935355052674|              45.74860108425626|             30.741011615989102|         23.41024931431275|74.94383428142146|\n",
      "| 71759376949|                 0|                 1|                 0|                 0|                 0|                         85.1468603347118|                    100.0|         1.2745236412257837|              48.437223156127985|               29.393358308882693|        47.98080953942453|                    6.573015117197259|           23.420608981430714|               46.1814031433214|              30.90883961585028|        14.295042541824523| 74.9065158472329|\n",
      "| 98416475066|                 0|                 0|                 0|                 0|                 1|                        87.35478673410766|                    100.0|        0.21042058057515203|               11.12047391580228|               29.875872287532047|       12.141473498534388|                    6.567295832812611|            23.63727914005465|              46.59568555967536|             30.971555054714145|         18.55058747043959|74.90174542377738|\n",
      "| 20884516643|                 1|                 0|                 0|                 0|                 0|                        86.92877866948967|                    100.0|          6.548512233364337|             0.05328950825158956|                43.33801310335607|       0.0399093277242822|                   13.003758678113869|            43.23765879368644|              54.14480335050307|              33.33333333333342|                       0.0|74.89479562690869|\n",
      "| 74019238521|                 1|                 0|                 0|                 0|                 0|                         87.3685218063954|                    100.0|        0.04303633796485391|               6.272537956449479|                29.90568185623047|       3.5674623773349414|                    6.785350454095007|            24.03656840336487|              46.39476443393483|             31.389711765129114|         37.86079206536679|74.89423163619453|\n",
      "| 79645157255|                 0|                 0|                 0|                 0|                 1|                        87.35556903761248|                    100.0|         0.1350584569024887|               9.600281635734602|               29.763268251603186|         9.80702835092381|                   6.6473419615226765|             23.6360900280603|              46.34077771753776|             31.097186751796237|         23.91777727040259|74.88506684877295|\n",
      "| 46987545043|                 0|                 0|                 0|                 0|                 1|                        87.39243523175067|                    100.0|        0.09871164526107984|               9.118466849117588|               29.458750263677945|        5.767989685281201|                    6.805886884706052|           23.596648672511865|              46.13935473006174|              31.05781532398664|        28.702549507034337|74.87428214479527|\n",
      "| 24015173965|                 0|                 0|                 0|                 0|                 1|                        87.35412513922553|                    100.0|         0.2870989044266795|              11.684754685160973|               29.584000181613213|       12.574786210210377|                    6.785692832976391|             23.6992113223392|              45.89271743461127|              30.90187251063461|         15.32251173294283| 74.8650408518637|\n",
      "| 47663262928|                 0|                 0|                 0|                 0|                 1|                         87.3552116205221|                    100.0|        0.17027858450836422|               9.643411036024514|               29.685821029842973|       10.177563619855112|                    6.666372104838532|             23.6992793726654|              46.16246687593063|             31.040506450525125|        19.928756011000566|74.83168353279432|\n",
      "| 60111071436|                 0|                 0|                 0|                 0|                 1|                         87.3552330902355|                    100.0|        0.17300872618479923|               9.483911477076095|                29.54913847093863|       10.300872679394459|                    6.765577462039478|           23.430175033493974|             46.201895471917595|             31.308129149563623|        19.935732047760215|74.82906422213956|\n",
      "| 56945597985|                 0|                 0|                 0|                 0|                 1|                         87.3562598828301|                    100.0|        0.05961756045670842|               6.468108185754268|                29.43427681928546|        6.706873107865024|                    6.687482786079562|           23.777510875811846|             46.079679769910555|             30.590571637519126|        31.141172498978868|74.82351509368299|\n",
      "+------------+------------------+------------------+------------------+------------------+------------------+-----------------------------------------+-------------------------+---------------------------+--------------------------------+---------------------------------+-------------------------+-------------------------------------+-----------------------------+-------------------------------+-------------------------------+--------------------------+-----------------+\n",
      "\n"
     ]
    },
    {
     "name": "stderr",
     "output_type": "stream",
     "text": [
      "                                                                                \r"
     ]
    }
   ],
   "source": [
    "# Sort the DataFrame by 'ranking_score' in descending order\n",
    "sorted_ranked_transaction_by_merchant = ranked_transaction_by_merchant.orderBy(F.col('ranking_score').desc())\n",
    "\n",
    "# Select the top 100 rows\n",
    "top_100_ranked_transactions = sorted_ranked_transaction_by_merchant.limit(100)\n",
    "top_100_ranked_transactions.show(100)"
   ]
  },
  {
   "cell_type": "code",
   "execution_count": 120,
   "metadata": {},
   "outputs": [
    {
     "name": "stderr",
     "output_type": "stream",
     "text": [
      "[Stage 19945:============================================>        (10 + 2) / 12]\r"
     ]
    },
    {
     "name": "stdout",
     "output_type": "stream",
     "text": [
      "Number of merchants in Segment - Personal Care and Repair Services: 17\n",
      "Number of merchants in Segment - Arts: 26\n",
      "Number of merchants in Segment - Home and Furniture: 20\n",
      "Number of merchants in Segment - Gifts and Souvenirs: 9\n",
      "Number of merchants in Segment - Technology and Electronic Equipment: 28\n"
     ]
    },
    {
     "name": "stderr",
     "output_type": "stream",
     "text": [
      "                                                                                \r"
     ]
    }
   ],
   "source": [
    "non_zero_segment_counts = top_100_ranked_transactions.select(\n",
    "    [\n",
    "        F.sum(F.when(F.col(col_name) != 0, 1).otherwise(0)).alias(f'non_zero_{col_name}')\n",
    "        for col_name in ['merchant_segment_1', 'merchant_segment_2', 'merchant_segment_3', 'merchant_segment_4', 'merchant_segment_5']\n",
    "    ]\n",
    ").collect()\n",
    "\n",
    "# Extract the results into a dictionary for display\n",
    "non_zero_segment_counts_dict = {f'non_zero_{col_name}': non_zero_segment_counts[0][f'non_zero_{col_name}'] for col_name in ['merchant_segment_1', 'merchant_segment_2', 'merchant_segment_3', 'merchant_segment_4', 'merchant_segment_5']}\n",
    "\n",
    "# Map column names without the 'non_zero_' prefix to their human-readable names\n",
    "segment_names = {\n",
    "    'non_zero_merchant_segment_1': 'Personal Care and Repair Services',\n",
    "    'non_zero_merchant_segment_2': 'Arts',\n",
    "    'non_zero_merchant_segment_3': 'Home and Furniture',\n",
    "    'non_zero_merchant_segment_4': 'Gifts and Souvenirs',\n",
    "    'non_zero_merchant_segment_5': 'Technology and Electronic Equipment'\n",
    "}\n",
    "\n",
    "# Loop through and print the results with the correct segment names\n",
    "for col_name, count in non_zero_segment_counts_dict.items():\n",
    "    print(f\"Number of merchants in Segment - {segment_names[col_name]}: {count}\")"
   ]
  },
  {
   "cell_type": "markdown",
   "metadata": {},
   "source": [
    "# Select Top 10 Merchants for Each Merchant Segment"
   ]
  },
  {
   "cell_type": "code",
   "execution_count": 123,
   "metadata": {},
   "outputs": [
    {
     "name": "stderr",
     "output_type": "stream",
     "text": [
      "                                                                                \r"
     ]
    },
    {
     "name": "stdout",
     "output_type": "stream",
     "text": [
      "Number of merchants in Segment - Personal Care and Repair Services: 10\n"
     ]
    },
    {
     "name": "stderr",
     "output_type": "stream",
     "text": [
      "                                                                                \r"
     ]
    },
    {
     "name": "stdout",
     "output_type": "stream",
     "text": [
      "+------------+------------------+------------------+------------------+------------------+------------------+-----------------------------------------+-------------------------+---------------------------+--------------------------------+---------------------------------+-------------------------+-------------------------------------+-----------------------------+-------------------------------+-------------------------------+--------------------------+-----------------+\n",
      "|merchant_abn|merchant_segment_1|merchant_segment_2|merchant_segment_3|merchant_segment_4|merchant_segment_5|scaled_avg_merchant_not_fraud_probability|scaled_consumer_not_fraud|scaled_avg_purchasing_power|scaled_total_transaction_revenue|scaled_avg_mortgage_repay_monthly|scaled_total_BNPL_revenue|scaled_avg_consumer_fraud_probability|scaled_avg_average_population|scaled_avg_tot_prsnl_inc_weekly|scaled_avg_num_psns_per_bedroom|scaled_avg_repurchase_rate|ranking_score    |\n",
      "+------------+------------------+------------------+------------------+------------------+------------------+-----------------------------------------+-------------------------+---------------------------+--------------------------------+---------------------------------+-------------------------+-------------------------------------+-----------------------------+-------------------------------+-------------------------------+--------------------------+-----------------+\n",
      "|48534649627 |1                 |0                 |0                 |0                 |0                 |87.27660858680665                        |100.0                    |0.2592592873214086         |90.5958374441071                |29.774527997747356               |94.70735312362366        |6.764063554859412                    |23.82427388582318            |46.10500303321947              |30.851250630735848             |81.43160284767762         |79.65060095965379|\n",
      "|96680767841 |1                 |0                 |0                 |0                 |0                 |86.0655434058447                         |100.0                    |0.5921691242551277         |95.1168325372322                |29.74530755353046                |87.81186686133805        |6.5822474495976016                   |23.722936462377806           |46.3863776143835               |30.826657569910527             |50.97312841036564         |78.24603768885564|\n",
      "|18158387243 |1                 |0                 |0                 |0                 |0                 |86.71014958744551                        |100.0                    |1.0944779795454522         |93.98927804277889               |29.68678346702453                |28.623423002241623       |6.702517124071469                    |24.10752078347286            |46.34114275685461              |31.380824291499152             |30.132503770294484        |77.16010577716862|\n",
      "|13514558491 |1                 |0                 |0                 |0                 |0                 |86.06845612856632                        |100.0                    |0.5890535264938911         |54.23019346144686               |29.874851453483863               |58.00288771787415        |6.530061928240329                    |23.549970144391903           |46.47057507008994              |31.176502773388737             |32.5871986518343          |76.25748798813743|\n",
      "|95574756848 |1                 |0                 |0                 |0                 |0                 |87.2726705058137                         |100.0                    |0.672394665185145          |39.04240868775584               |29.85954591954793                |37.64230409376302        |6.591781255381769                    |23.94826604354589            |46.21586269459762              |30.81267689070283              |22.158448989202377        |76.19160712777177|\n",
      "|20269486864 |1                 |0                 |0                 |0                 |0                 |87.00148569158867                        |100.0                    |5.7231166282573165         |52.11548519471992               |30.1085144541191                 |20.054619858536018       |7.009305258823799                    |24.154273688517236           |46.84858874883813              |30.679471357268696             |4.2892049525763705        |75.87203309765549|\n",
      "|12771097467 |1                 |0                 |0                 |0                 |0                 |86.062977190974                          |100.0                    |7.066061513532533          |45.84365399511128               |29.626174842524893               |50.36580988729226        |7.421358256709268                    |23.392987585351698           |46.2294400761114               |31.13151615672207              |3.510786147378264         |75.64618863251422|\n",
      "|92065881715 |1                 |0                 |0                 |0                 |0                 |87.31641342410367                        |100.0                    |0.6662817367167445         |29.013410276296632              |29.40817327107414                |18.72541500884555        |6.576440034856446                    |23.16341509301842            |46.31749392634501              |30.689312787797018             |16.819623707079376        |75.44808531551297|\n",
      "|93558142492 |1                 |0                 |0                 |0                 |0                 |83.87209341228464                        |100.0                    |0.7633299264696706         |87.74547735415707               |29.632853657884066               |45.532202417949094       |6.667282052286129                    |23.697236073813595           |46.04594540313128              |30.95472453489621              |38.33938054124854         |75.26005775701941|\n",
      "|24015576448 |1                 |0                 |0                 |0                 |0                 |86.06339663078228                        |100.0                    |5.889603277392694          |40.369491047307335              |30.939110996930445               |38.04414027765331        |7.194037975355122                    |23.352021656421638           |47.66073544962062              |32.17740470601325              |3.085606817517213         |75.25902576607186|\n",
      "+------------+------------------+------------------+------------------+------------------+------------------+-----------------------------------------+-------------------------+---------------------------+--------------------------------+---------------------------------+-------------------------+-------------------------------------+-----------------------------+-------------------------------+-------------------------------+--------------------------+-----------------+\n",
      "\n"
     ]
    },
    {
     "name": "stderr",
     "output_type": "stream",
     "text": [
      "                                                                                \r"
     ]
    },
    {
     "name": "stdout",
     "output_type": "stream",
     "text": [
      "Number of merchants in Segment - Arts: 10\n"
     ]
    },
    {
     "name": "stderr",
     "output_type": "stream",
     "text": [
      "                                                                                \r"
     ]
    },
    {
     "name": "stdout",
     "output_type": "stream",
     "text": [
      "+------------+------------------+------------------+------------------+------------------+------------------+-----------------------------------------+-------------------------+---------------------------+--------------------------------+---------------------------------+-------------------------+-------------------------------------+-----------------------------+-------------------------------+-------------------------------+--------------------------+-----------------+\n",
      "|merchant_abn|merchant_segment_1|merchant_segment_2|merchant_segment_3|merchant_segment_4|merchant_segment_5|scaled_avg_merchant_not_fraud_probability|scaled_consumer_not_fraud|scaled_avg_purchasing_power|scaled_total_transaction_revenue|scaled_avg_mortgage_repay_monthly|scaled_total_BNPL_revenue|scaled_avg_consumer_fraud_probability|scaled_avg_average_population|scaled_avg_tot_prsnl_inc_weekly|scaled_avg_num_psns_per_bedroom|scaled_avg_repurchase_rate|ranking_score    |\n",
      "+------------+------------------+------------------+------------------+------------------+------------------+-----------------------------------------+-------------------------+---------------------------+--------------------------------+---------------------------------+-------------------------+-------------------------------------+-----------------------------+-------------------------------+-------------------------------+--------------------------+-----------------+\n",
      "|98166254020 |0                 |1                 |0                 |0                 |0                 |99.80128155613478                        |100.0                    |3.5416948019387684         |71.76568883297921               |29.745042314045637               |66.86571894063245        |6.397486585760678                    |23.04154922671019            |46.04458132366499              |30.763669402494475             |7.720179653030604         |87.20439566622035|\n",
      "|67264251405 |0                 |1                 |0                 |0                 |0                 |99.98035703247989                        |0.0                      |100.0                      |0.5285418706847971              |43.4416365824308                 |0.5993373654367199       |100.0                                |10.680495595632811           |42.74779762191307              |33.33333333333338              |0.0                       |84.64597591997311|\n",
      "|68233865253 |0                 |1                 |0                 |0                 |0                 |99.27993207215907                        |100.0                    |17.853779539075425         |2.4077120458128043              |31.61053849328845                |2.1897515872748263       |15.368610947883207                   |27.35513981387619            |45.89590584768272              |39.27536231884071              |0.0                       |84.32901358025806|\n",
      "|80067991455 |0                 |1                 |0                 |0                 |0                 |99.68112952278949                        |100.0                    |5.312174883998639          |0.7006998383974666              |32.61363298717892                |0.6850324901811723       |11.390676440038645                   |25.055734276168874           |54.22570430633783              |41.589506172839535             |0.0                       |84.25325959726425|\n",
      "|88745863985 |0                 |1                 |0                 |0                 |0                 |99.2802489806437                         |100.0                    |7.53032832208929           |0.11146847659039459             |35.64981949458484                |0.17019677322316426      |13.463707440336039                   |36.88875653447242            |49.806238867761046             |41.66666666666668              |0.0                       |84.22968873777647|\n",
      "|41305045812 |0                 |1                 |0                 |0                 |0                 |99.80557220073092                        |100.0                    |3.4949056754514296         |8.756026652922621               |28.548556486666264               |7.994358097220644        |7.685970942966034                    |24.017739262266346           |44.44432847976865              |30.905245201188148             |0.4796640870227148        |84.14974147837309|\n",
      "|37106509177 |0                 |1                 |0                 |0                 |0                 |99.76619798353822                        |100.0                    |3.7342176282545667         |8.085194695022174               |30.57571663087233                |8.379846246094774        |6.781242124455554                    |22.28880519257679            |45.03328660812544              |30.300749404575413             |2.535463829008833         |84.14831924096465|\n",
      "|42392117775 |0                 |1                 |0                 |0                 |0                 |99.285454297847                          |100.0                    |4.477716041475663          |0.17299071803228555             |45.64632823758375                |0.2292950745694277       |5.773358212585329                    |31.994277568286872           |52.68858614547732              |38.27160493827162              |0.0                       |84.13946456117782|\n",
      "|31471844679 |0                 |1                 |0                 |0                 |0                 |99.58056686300905                        |100.0                    |4.728443344333813          |6.652621059289186               |30.433841949475553               |6.715690607534638        |5.808435505555063                    |23.278571354169145           |44.58677871507697              |31.986588035317233             |0.4255743069967513        |83.9466865224854 |\n",
      "|25737175575 |0                 |1                 |0                 |0                 |0                 |99.95648685501007                        |100.0                    |3.5500329055619595         |0.3171775752349575              |30.16557472032803                |0.34008803089857204      |8.183872522372104                    |21.05809347256681            |49.543477912033254             |26.851851851851965             |0.0                       |83.8935260303618 |\n",
      "+------------+------------------+------------------+------------------+------------------+------------------+-----------------------------------------+-------------------------+---------------------------+--------------------------------+---------------------------------+-------------------------+-------------------------------------+-----------------------------+-------------------------------+-------------------------------+--------------------------+-----------------+\n",
      "\n"
     ]
    },
    {
     "name": "stderr",
     "output_type": "stream",
     "text": [
      "                                                                                \r"
     ]
    },
    {
     "name": "stdout",
     "output_type": "stream",
     "text": [
      "Number of merchants in Segment - Home and Furniture: 10\n"
     ]
    },
    {
     "name": "stderr",
     "output_type": "stream",
     "text": [
      "                                                                                \r"
     ]
    },
    {
     "name": "stdout",
     "output_type": "stream",
     "text": [
      "+------------+------------------+------------------+------------------+------------------+------------------+-----------------------------------------+-------------------------+---------------------------+--------------------------------+---------------------------------+-------------------------+-------------------------------------+-----------------------------+-------------------------------+-------------------------------+--------------------------+-----------------+\n",
      "|merchant_abn|merchant_segment_1|merchant_segment_2|merchant_segment_3|merchant_segment_4|merchant_segment_5|scaled_avg_merchant_not_fraud_probability|scaled_consumer_not_fraud|scaled_avg_purchasing_power|scaled_total_transaction_revenue|scaled_avg_mortgage_repay_monthly|scaled_total_BNPL_revenue|scaled_avg_consumer_fraud_probability|scaled_avg_average_population|scaled_avg_tot_prsnl_inc_weekly|scaled_avg_num_psns_per_bedroom|scaled_avg_repurchase_rate|ranking_score    |\n",
      "+------------+------------------+------------------+------------------+------------------+------------------+-----------------------------------------+-------------------------+---------------------------+--------------------------------+---------------------------------+-------------------------+-------------------------------------+-----------------------------+-------------------------------+-------------------------------+--------------------------+-----------------+\n",
      "|76767266140 |0                 |0                 |1                 |0                 |0                 |86.08456955860787                        |100.0                    |0.3965191307611287         |91.22995557302809               |29.628429509535327               |65.39319685861314        |6.733235410119449                    |23.61892152194493            |46.191462779835284             |30.634954098507826             |64.49407793769797         |77.8599297691401 |\n",
      "|50315283629 |0                 |0                 |1                 |0                 |0                 |87.24416453925507                        |100.0                    |0.6073354993666485         |97.08842245723199               |29.982090229953545               |25.5634289198284         |6.709421326937743                    |24.088854844187384           |46.451224263159894             |30.914670437151663             |49.349832787894265        |77.85809939185162|\n",
      "|79827781481 |0                 |0                 |1                 |0                 |0                 |85.84486283519371                        |100.0                    |3.8801245580817842         |92.95616783667727               |29.525212435778343               |100.0                    |6.319769973883478                    |23.629952660669613           |46.09394472491249              |30.252863070712905             |10.511222673090053        |77.76227864662678|\n",
      "|89726005175 |0                 |0                 |1                 |0                 |0                 |84.65921816218264                        |100.0                    |0.06383073775595792        |85.82363940660667               |29.694570434563804               |80.66504651981617        |6.681422015176909                    |23.75516151654985            |46.1609898750754               |30.906327999017325             |99.88542914337715         |77.46638890934156|\n",
      "|38090089066 |0                 |0                 |1                 |0                 |0                 |86.08324908955143                        |100.0                    |0.3158477438263459         |88.56830097684222               |30.056226580409916               |43.59084549399887        |6.739573067782409                    |23.832204478716              |46.42858162202361              |30.965182143886018             |71.50574196936702         |77.44250979323127|\n",
      "|38700038932 |0                 |0                 |1                 |0                 |0                 |84.68707235090538                        |100.0                    |2.5794511604518893         |92.04815761405716               |30.068114147187412               |91.12003856181887        |6.457836768155882                    |24.193179178419573           |46.82186240343584              |31.363859703450814             |13.67657601972669         |76.71409553995093|\n",
      "|90173050473 |0                 |0                 |1                 |0                 |0                 |87.24234628151628                        |100.0                    |0.44305359416701673        |60.05166273794414               |29.391239204531143               |22.547136451570378       |6.650859083171921                    |23.68270612906158            |45.958817127469786             |30.81843447862056              |43.75291565378365         |76.69167722826519|\n",
      "|49891706470 |0                 |0                 |1                 |0                 |0                 |84.63828357993489                        |100.0                    |0.04023542063901725        |69.37749818621529               |29.718529669788857               |62.8004364950423         |6.6729633914420186                   |23.65522584401086            |46.15775908556936              |31.011328924635855             |99.98007273515637         |76.63069334569225|\n",
      "|42355028515 |0                 |0                 |1                 |0                 |0                 |86.33533491340567                        |100.0                    |0.2925915592174939         |53.04838246498696               |29.47827063543723                |49.53114894936865        |6.680688634281277                    |23.552441977924985           |46.11296384923217              |30.788775871635586             |55.378178932888524        |76.55840389137488|\n",
      "|37379915451 |0                 |0                 |1                 |0                 |0                 |87.24176429529349                        |100.0                    |0.40213038591593375        |57.742426041811925              |30.045996488824052               |13.542048833122974       |6.725687355411883                    |23.65400724205915            |46.467892043466016             |31.183180323540782             |44.81038689748119         |76.48087225972631|\n",
      "+------------+------------------+------------------+------------------+------------------+------------------+-----------------------------------------+-------------------------+---------------------------+--------------------------------+---------------------------------+-------------------------+-------------------------------------+-----------------------------+-------------------------------+-------------------------------+--------------------------+-----------------+\n",
      "\n"
     ]
    },
    {
     "name": "stderr",
     "output_type": "stream",
     "text": [
      "                                                                                \r"
     ]
    },
    {
     "name": "stdout",
     "output_type": "stream",
     "text": [
      "Number of merchants in Segment - Gifts and Souvenirs: 10\n"
     ]
    },
    {
     "name": "stderr",
     "output_type": "stream",
     "text": [
      "                                                                                \r"
     ]
    },
    {
     "name": "stdout",
     "output_type": "stream",
     "text": [
      "+------------+------------------+------------------+------------------+------------------+------------------+-----------------------------------------+-------------------------+---------------------------+--------------------------------+---------------------------------+-------------------------+-------------------------------------+-----------------------------+-------------------------------+-------------------------------+--------------------------+-----------------+\n",
      "|merchant_abn|merchant_segment_1|merchant_segment_2|merchant_segment_3|merchant_segment_4|merchant_segment_5|scaled_avg_merchant_not_fraud_probability|scaled_consumer_not_fraud|scaled_avg_purchasing_power|scaled_total_transaction_revenue|scaled_avg_mortgage_repay_monthly|scaled_total_BNPL_revenue|scaled_avg_consumer_fraud_probability|scaled_avg_average_population|scaled_avg_tot_prsnl_inc_weekly|scaled_avg_num_psns_per_bedroom|scaled_avg_repurchase_rate|ranking_score    |\n",
      "+------------+------------------+------------------+------------------+------------------+------------------+-----------------------------------------+-------------------------+---------------------------+--------------------------------+---------------------------------+-------------------------+-------------------------------------+-----------------------------+-------------------------------+-------------------------------+--------------------------+-----------------+\n",
      "|32361057556 |0                 |0                 |0                 |1                 |0                 |84.80829195952879                        |100.0                    |0.19641786110589815        |90.44494465030787               |29.631412837652782               |94.09231115443356        |6.6802873199942105                   |23.84520312252116            |46.29062430542516              |30.84621134007883              |89.8648416190974          |77.85072697221533|\n",
      "|27093785141 |0                 |0                 |0                 |1                 |0                 |86.89281012323721                        |100.0                    |0.7063890812920859         |96.99414973934893               |29.92340268275198                |40.00977479452092        |6.726195726053528                    |24.026580961630927           |46.24701311218522              |31.1870884159699               |44.724339829344245        |77.82933633068414|\n",
      "|45629217853 |0                 |0                 |0                 |1                 |0                 |84.79374364398038                        |100.0                    |0.056387142056318604       |80.23714169984811               |29.692776540979697               |88.50451596028076        |6.686175701062311                    |23.819515711640054           |46.24053980258181              |30.961994714671814             |99.89041641826923         |77.59476812415032|\n",
      "|32709545238 |0                 |0                 |0                 |1                 |0                 |86.89274333619669                        |100.0                    |1.4357279300316055         |95.97574627830274               |29.37764565285669                |44.226660690023365       |6.959384606236233                    |23.50563386496401            |45.92775209695132              |30.67306573094007              |23.757615482373613        |77.57517899521675|\n",
      "|94493496784 |0                 |0                 |0                 |1                 |0                 |84.80978104637254                        |100.0                    |0.16182519443894142        |88.47670727943232               |29.850552068034737               |77.87718761666812        |6.611352719671573                    |23.879590982266542           |46.2221495421491               |31.159061050999213             |93.49737909270426         |77.51074870575194|\n",
      "|98973094975 |0                 |0                 |0                 |1                 |0                 |85.11283574577584                        |100.0                    |0.22476521750266773        |65.88103726970905               |29.672998323600417               |61.60716687162733        |6.669986786311875                    |23.716553964860594           |46.169545176643986             |30.879127291539838             |74.04439418383352         |76.49887825085742|\n",
      "|57757792876 |0                 |0                 |0                 |1                 |0                 |86.03546208705475                        |100.0                    |1.1792471983829609         |61.600983768663006              |29.814504454499286               |53.01990332512684        |6.590576953729728                    |23.499867460422823           |46.17337355450124              |31.2868005895862               |19.01063168105299         |76.13281053258613|\n",
      "|89022158521 |0                 |0                 |0                 |1                 |0                 |85.36568840557642                        |100.0                    |1.3429243025689275         |59.78210095888332               |29.3536970973944                 |40.5535182241774         |6.5373330611397                      |23.790648830628534           |45.59016628566871              |30.79316082959314              |17.28957581827968         |75.25448546347239|\n",
      "|81219314324 |0                 |0                 |0                 |1                 |0                 |84.80683013964487                        |100.0                    |0.15513493104944076        |42.87869995466204               |29.8131901328839                 |42.76998115216544        |6.647000636250872                    |23.52840005431669            |46.21439651213704              |31.021504623732234             |70.57159158451799         |75.1968761638149 |\n",
      "|19492220327 |0                 |0                 |0                 |1                 |0                 |82.98532264584821                        |100.0                    |19.020185498621785         |77.32818838986289               |29.500213685765118               |58.947125748371136       |12.502846548547033                   |22.53851832483322            |45.68165214338623              |29.94343341770702              |1.5153024567308806        |74.68900849831333|\n",
      "+------------+------------------+------------------+------------------+------------------+------------------+-----------------------------------------+-------------------------+---------------------------+--------------------------------+---------------------------------+-------------------------+-------------------------------------+-----------------------------+-------------------------------+-------------------------------+--------------------------+-----------------+\n",
      "\n"
     ]
    },
    {
     "name": "stderr",
     "output_type": "stream",
     "text": [
      "                                                                                \r"
     ]
    },
    {
     "name": "stdout",
     "output_type": "stream",
     "text": [
      "Number of merchants in Segment - Technology and Electronic Equipment: 10\n"
     ]
    },
    {
     "name": "stderr",
     "output_type": "stream",
     "text": [
      "[Stage 20335:============================================>        (10 + 2) / 12]\r"
     ]
    },
    {
     "name": "stdout",
     "output_type": "stream",
     "text": [
      "+------------+------------------+------------------+------------------+------------------+------------------+-----------------------------------------+-------------------------+---------------------------+--------------------------------+---------------------------------+-------------------------+-------------------------------------+-----------------------------+-------------------------------+-------------------------------+--------------------------+-----------------+\n",
      "|merchant_abn|merchant_segment_1|merchant_segment_2|merchant_segment_3|merchant_segment_4|merchant_segment_5|scaled_avg_merchant_not_fraud_probability|scaled_consumer_not_fraud|scaled_avg_purchasing_power|scaled_total_transaction_revenue|scaled_avg_mortgage_repay_monthly|scaled_total_BNPL_revenue|scaled_avg_consumer_fraud_probability|scaled_avg_average_population|scaled_avg_tot_prsnl_inc_weekly|scaled_avg_num_psns_per_bedroom|scaled_avg_repurchase_rate|ranking_score    |\n",
      "+------------+------------------+------------------+------------------+------------------+------------------+-----------------------------------------+-------------------------+---------------------------+--------------------------------+---------------------------------+-------------------------+-------------------------------------+-----------------------------+-------------------------------+-------------------------------+--------------------------+-----------------+\n",
      "|21439773999 |0                 |0                 |0                 |0                 |1                 |87.35439678871387                        |100.0                    |0.134865031541329          |90.90751307778295               |29.76580093807957                |86.80214685789754        |6.667983434471404                    |23.55961895303541            |46.34344572542322              |31.008897460240515             |96.72510981217314         |79.77063740052056|\n",
      "|35909341340 |0                 |0                 |0                 |0                 |1                 |86.5833972684334                         |100.0                    |0.4696569004125334         |93.94160935505879               |29.70189979463422                |69.61713984635061        |6.736905521359236                    |23.585667698732564           |46.147579658430494             |30.714681123826082             |59.04074375317493         |78.33086181429317|\n",
      "|72472909171 |0                 |0                 |0                 |0                 |1                 |85.06480915615604                        |100.0                    |0.11953994320277841        |68.78686086352718               |29.55736091314173                |68.34081842079553        |6.692749953228741                    |23.673355406743603           |46.084230378987684             |30.693484460583086             |93.78395571575733         |76.96519936773775|\n",
      "|77590625261 |0                 |0                 |0                 |0                 |1                 |86.5815550862378                         |100.0                    |0.5663534921761403         |75.21581665432976               |29.699149882480203               |37.024071031065354       |6.685689981510057                    |23.855065375618594           |46.266519972951066             |31.033381033555596             |43.0832247958382          |76.90894556061393|\n",
      "|80518954462 |0                 |0                 |0                 |0                 |1                 |85.49021721562102                        |100.0                    |0.5623033363355459         |88.79232657635279               |29.638068521766947               |47.19507180454585        |6.68571916790448                     |23.62395200637539            |46.28045163375945              |31.217284638486                |49.227810405777525        |76.73394212824724|\n",
      "|49505931725 |0                 |0                 |0                 |0                 |1                 |85.35645213048534                        |100.0                    |0.18708387322149445        |70.24695856931575               |29.681968852387186               |50.93209632021258        |6.700115854962038                    |23.662335341117352           |45.99731210362868              |30.975193674611084             |82.67278710485421         |76.6967435396771 |\n",
      "|34096466752 |0                 |0                 |0                 |0                 |1                 |85.48297440391963                        |100.0                    |0.9458605235479121         |91.60382195060676               |29.957643954993856               |44.79615834583605        |6.790873259787785                    |23.680897277888793           |46.79891340883046              |31.264374563821974             |34.03279356046946         |76.55865687946431|\n",
      "|17488304283 |0                 |0                 |0                 |0                 |1                 |87.35519572462773                        |100.0                    |0.17309041417899834        |31.880216009235458              |29.580639275517207               |30.908876719106154       |6.660940845477866                    |23.68451346625459            |46.05324705651376              |30.94946732543349              |54.06529880991934         |76.3660582239303 |\n",
      "|82368304209 |0                 |0                 |0                 |0                 |1                 |83.71382349609361                        |100.0                    |3.647754349761332          |95.28983645764355               |29.160954136488403               |82.29782749904567        |6.2814737320624054                   |23.738431451257096           |45.907126740274784             |30.782811738464254             |11.135290360726687        |75.7978401216104 |\n",
      "|29521780474 |0                 |0                 |0                 |0                 |1                 |87.35624682808708                        |100.0                    |0.06094306834791636        |12.60003095804954               |29.816162235239062               |11.728917878220296       |6.7072650859738125                   |23.736821311092786           |46.44060023819211              |30.93190641043888              |53.20005939752194         |75.4405577137258 |\n",
      "+------------+------------------+------------------+------------------+------------------+------------------+-----------------------------------------+-------------------------+---------------------------+--------------------------------+---------------------------------+-------------------------+-------------------------------------+-----------------------------+-------------------------------+-------------------------------+--------------------------+-----------------+\n",
      "\n"
     ]
    },
    {
     "name": "stderr",
     "output_type": "stream",
     "text": [
      "                                                                                \r"
     ]
    }
   ],
   "source": [
    "# Define the merchant segments and their corresponding names\n",
    "segment_names = {\n",
    "    'merchant_segment_1': 'Personal Care and Repair Services',\n",
    "    'merchant_segment_2': 'Arts',\n",
    "    'merchant_segment_3': 'Home and Furniture',\n",
    "    'merchant_segment_4': 'Gifts and Souvenirs',\n",
    "    'merchant_segment_5': 'Technology and Electronic Equipment'\n",
    "}\n",
    "\n",
    "# Find top 10 merchants for each merchant segment\n",
    "for segment, segment_name in segment_names.items():\n",
    "    # Filter the merchants that belong to the current segment and sort by ranking_score (descending order), then limit to top 10\n",
    "    top_10_segment = ranked_transaction_by_merchant.filter(F.col(segment) != 0).orderBy(F.col(\"ranking_score\").desc()).limit(10)\n",
    "    \n",
    "    # Print the number of merchants in the current segment\n",
    "    merchant_count = top_10_segment.count()\n",
    "    print(f\"Number of merchants in Segment - {segment_name}: {merchant_count}\")\n",
    "    \n",
    "    # Show detailed information of the top 10 merchants in the segment\n",
    "    top_10_segment.show(truncate=False)"
   ]
  }
 ],
 "metadata": {
  "kernelspec": {
   "display_name": "base",
   "language": "python",
   "name": "python3"
  },
  "language_info": {
   "codemirror_mode": {
    "name": "ipython",
    "version": 3
   },
   "file_extension": ".py",
   "mimetype": "text/x-python",
   "name": "python",
   "nbconvert_exporter": "python",
   "pygments_lexer": "ipython3",
   "version": "3.11.3"
  }
 },
 "nbformat": 4,
 "nbformat_minor": 2
}
