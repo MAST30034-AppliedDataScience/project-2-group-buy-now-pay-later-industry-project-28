{
 "cells": [
  {
   "cell_type": "markdown",
   "metadata": {},
   "source": [
    "# Classification of Merchants"
   ]
  },
  {
   "cell_type": "markdown",
   "metadata": {},
   "source": [
    "This notebook involves machine learning classification (K-Means) and manually classification on merchant segments. Then will evaluate the K-Means classification results by Silhouette Score and WCSS."
   ]
  },
  {
   "cell_type": "markdown",
   "metadata": {},
   "source": [
    "---"
   ]
  },
  {
   "cell_type": "code",
   "execution_count": 1,
   "metadata": {},
   "outputs": [],
   "source": [
    "from pyspark.sql import SparkSession\n",
    "from pyspark.sql.functions import col, udf, sum, when\n",
    "from pyspark.sql.types import DoubleType\n",
    "from pyspark.ml.feature import StringIndexer, VectorAssembler\n",
    "from pyspark.ml.clustering import KMeans\n",
    "from pyspark.ml.linalg import Vectors\n",
    "from pyspark.ml.evaluation import ClusteringEvaluator\n",
    "import pyspark.sql.functions as F"
   ]
  },
  {
   "cell_type": "code",
   "execution_count": 2,
   "metadata": {},
   "outputs": [
    {
     "name": "stderr",
     "output_type": "stream",
     "text": [
      "24/09/20 01:55:30 WARN Utils: Your hostname, Cocos-MacBook-Air.local resolves to a loopback address: 127.0.0.1; using 172.16.33.67 instead (on interface en0)\n",
      "24/09/20 01:55:30 WARN Utils: Set SPARK_LOCAL_IP if you need to bind to another address\n",
      "Setting default log level to \"WARN\".\n",
      "To adjust logging level use sc.setLogLevel(newLevel). For SparkR, use setLogLevel(newLevel).\n",
      "24/09/20 01:55:30 WARN NativeCodeLoader: Unable to load native-hadoop library for your platform... using builtin-java classes where applicable\n"
     ]
    }
   ],
   "source": [
    "spark = (\n",
    "    SparkSession.builder.appName(\"Classification\")\n",
    "    .config(\"spark.sql.repl.eagerEval.enabled\", True) \n",
    "    .config(\"spark.sql.parquet.cacheMetadata\", \"true\")\n",
    "    .config(\"spark.sql.session.timeZone\", \"Etc/UTC\")\n",
    "    .config(\"spark.sql.debug.maxToStringFields\", 3000)\n",
    "    .config(\"spark.network.timeout\", \"300s\")\n",
    "    .config(\"spark.driver.maxResultSize\", \"4g\")\n",
    "    .config(\"spark.rpc.askTimeout\", \"300s\")\n",
    "    .config(\"spark.driver.memory\", \"8G\")\n",
    "    .config(\"spark.executor.memory\", \"8G\")\n",
    "    .getOrCreate()\n",
    ")"
   ]
  },
  {
   "cell_type": "markdown",
   "metadata": {},
   "source": [
    "# Read dataset"
   ]
  },
  {
   "cell_type": "code",
   "execution_count": 3,
   "metadata": {},
   "outputs": [
    {
     "name": "stderr",
     "output_type": "stream",
     "text": [
      "                                                                                \r"
     ]
    }
   ],
   "source": [
    "merchant_detail = spark.read.parquet('../data/curated/merchant_detail')\n",
    "full_transaction = spark.read.parquet('../data/curated/full_transaction')"
   ]
  },
  {
   "cell_type": "code",
   "execution_count": 4,
   "metadata": {},
   "outputs": [
    {
     "name": "stderr",
     "output_type": "stream",
     "text": [
      "                                                                                \r"
     ]
    },
    {
     "name": "stdout",
     "output_type": "stream",
     "text": [
      "+--------------------+------------+-------------+---------+--------------------+\n",
      "|                name|merchant_abn|revenue_level|take_rate|  processed_category|\n",
      "+--------------------+------------+-------------+---------+--------------------+\n",
      "|fusce aliquet lim...| 17189523131|            c|     1.59|writing paper sup...|\n",
      "|    cum sociis corp.| 22528859307|            a|      6.4|shop jewelry repa...|\n",
      "|morbi vehicula li...| 32413511882|            b|     3.35|vehicle new part ...|\n",
      "|vel nisl incorpor...| 32897338221|            a|      6.2|souvenir card sho...|\n",
      "|    egestas sed inc.| 34082818630|            a|     6.86|digital book musi...|\n",
      "+--------------------+------------+-------------+---------+--------------------+\n",
      "only showing top 5 rows\n",
      "\n"
     ]
    }
   ],
   "source": [
    "merchant_detail.show(5)"
   ]
  },
  {
   "cell_type": "code",
   "execution_count": 5,
   "metadata": {},
   "outputs": [
    {
     "name": "stdout",
     "output_type": "stream",
     "text": [
      "+------------+------------------------------------+---------+--------------------------+-------------------+-------------------+---------------+---------------+---------------+---------------+---------------+----------------+------------+-------------------+--------------+--------------+---------------+--------------+---------------+---------------+-----------------+---------------+----------------+----------------+-------------------+------------+----------------+------------------+-------------+-------------+---------------+---------------+-------------+--------------+--------------------+--------------+-------------------+-----------------+--------------+-----------------+--------------+-------------------+--------------+---------------+---------------+-------------+--------------+-------------------+--------------+--------------+----------------+-------------+-------------+---------------+---------------+----------------+----------------+---------------+------------------+----------------+-------------------+--------------------+----------------+-------------+-------------+------------------+-----------------+--------------+-----------------+------------------+----------------+----------------+-------------+----------------+-----------------+-------------+-------------------+----------------+-------------+-------------+------------+-------------------+-------------+-------------------+----------------+---------------+------------+---------------+---------------------+------------+-------------+---------------+------------------+--------------+----------------+-----------------+-------+--------+--------------+-----------+------------------+--------------------------+------------------+------------------+--------------------------+------------------------+-----------------+----------------------+------------------------+----------------------+------------------+---------------------+--------+---------+--------+---------+--------+---------+---------+---------+------------------+-------------+-----------+---------------+-------------------+-----------------+--------------------+\n",
      "|merchant_abn|order_id                            |take_rate|merchant_fraud_probability|transaction_revenue|BNPL_revenue       |revenue_level_e|revenue_level_d|revenue_level_c|revenue_level_b|revenue_level_a|category_jewelry|category_art|category_television|category_watch|category_cable|category_repair|category_stock|category_flower|category_office|category_souvenir|category_goods:|category_novelty|category_optical|category_integrated|category_new|category_antique|category_newspaper|category_shoe|category_tent|category_beauty|category_system|category_lawn|category_sheet|category_programming|category_radio|category_stationery|category_optician|category_paper|category_software|category_clock|category_peripheral|category_craft|category_awning|category_garden|category_data|category_music|category_silverware|category_movie|category_hobby|category_digital|category_sale|category_tool|category_artist|category_health|category_writing|category_musical|category_outlet|category_furniture|category_florist|category_periodical|category_restoration|category_telecom|category_part|category_card|category_satellite|category_eyeglass|category_motor|category_computer|category_equipment|category_service|category_leasing|category_gift|category_vehicle|category_printing|category_home|category_instrument|category_nursery|category_good|category_game|category_spa|category_furnishing|category_rent|category_processing|category_gallery|category_supply|category_pay|category_design|category_manufacturer|category_toy|category_book|category_dealer|category_appliance|category_piano|category_bicycle|merchant_is_fraud|user_id|postcode|order_datetime|consumer_id|dollar_value      |consumer_fraud_probability|average_population|avg_age_persons   |avg_mortgage_repay_monthly|avg_tot_prsnl_inc_weekly|avg_rent_weekly  |avg_tot_fam_inc_weekly|avg_num_psns_per_bedroom|avg_tot_hhd_inc_weekly|avg_household_size|avg_unemployment_rate|state_NT|state_ACT|state_SA|state_TAS|state_WA|state_QLD|state_VIC|state_NSW|gender_Undisclosed|gender_Female|gender_Male|order_timestamp|hashed_postcode    |consumer_is_fraud|transaction_is_fraud|\n",
      "+------------+------------------------------------+---------+--------------------------+-------------------+-------------------+---------------+---------------+---------------+---------------+---------------+----------------+------------+-------------------+--------------+--------------+---------------+--------------+---------------+---------------+-----------------+---------------+----------------+----------------+-------------------+------------+----------------+------------------+-------------+-------------+---------------+---------------+-------------+--------------+--------------------+--------------+-------------------+-----------------+--------------+-----------------+--------------+-------------------+--------------+---------------+---------------+-------------+--------------+-------------------+--------------+--------------+----------------+-------------+-------------+---------------+---------------+----------------+----------------+---------------+------------------+----------------+-------------------+--------------------+----------------+-------------+-------------+------------------+-----------------+--------------+-----------------+------------------+----------------+----------------+-------------+----------------+-----------------+-------------+-------------------+----------------+-------------+-------------+------------+-------------------+-------------+-------------------+----------------+---------------+------------+---------------+---------------------+------------+-------------+---------------+------------------+--------------+----------------+-----------------+-------+--------+--------------+-----------+------------------+--------------------------+------------------+------------------+--------------------------+------------------------+-----------------+----------------------+------------------------+----------------------+------------------+---------------------+--------+---------+--------+---------+--------+---------+---------+---------+------------------+-------------+-----------+---------------+-------------------+-----------------+--------------------+\n",
      "|10023283211 |02ac9935-bc3b-4a0f-b615-93f09f5acd89|0.18     |69.11676678141136         |470.22490431091353 |0.8479311400324895 |1              |0              |0              |0              |0              |0               |0           |0                  |0             |0             |0              |0             |0              |0              |0                |0              |0               |0               |0                  |0           |0               |0                 |0            |0            |0              |0              |0            |0             |0                   |0             |0                  |0                |0             |0                |0             |0                  |0             |0              |0              |0            |0             |0                  |0             |0             |0               |0            |0            |0              |0              |0               |0               |0              |1                 |0               |0                  |0                   |0               |0            |0            |0                 |0                |0             |0                |1                 |0               |0               |0            |0               |0                |1            |0                  |0               |0            |0            |0           |1                  |0            |0                  |0               |0              |0           |0              |1                    |0           |0            |0              |1                 |0             |0               |1                |12989  |6450    |2021-06-28    |545205     |471.0728368548525 |17.23266639692692         |29128.5           |41.666666666666664|1413.3333333333333        |843.3333333333334       |257.6666666666667|2012.6666666666667    |0.6999999999999998      |1545.6666666666667    |2.4               |2.6666666666666665   |0       |0        |0       |0        |1       |0        |0        |0        |0                 |1            |0          |1624838400     |(6000,[5335],[1.0])|0                |1                   |\n",
      "|10023283211 |089fb2ac-c128-41e5-b00a-eacee497d521|0.18     |69.14071810371141         |175.2051027678421  |0.31593788667394024|1              |0              |0              |0              |0              |0               |0           |0                  |0             |0             |0              |0             |0              |0              |0                |0              |0               |0               |0                  |0           |0               |0                 |0            |0            |0              |0              |0            |0             |0                   |0             |0                  |0                |0             |0                |0             |0                  |0             |0              |0              |0            |0             |0                  |0             |0             |0               |0            |0            |0              |0              |0               |0               |0              |1                 |0               |0                  |0                   |0               |0            |0            |0                 |0                |0             |0                |1                 |0               |0               |0            |0               |0                |1            |0                  |0               |0            |0            |0           |1                  |0            |0                  |0               |0              |0           |0              |1                    |0           |0            |0              |1                 |0             |0               |1                |14228  |6324    |2022-04-09    |611022     |175.5210411776095 |9.17784580695778          |9396.0            |46.5              |1539.0                    |682.0                   |237.5            |1695.0                |0.8                     |1366.5                |2.4               |3.8                  |0       |0        |0       |0        |1       |0        |0        |0        |0                 |0            |1          |1649462400     |(6000,[2887],[1.0])|0                |1                   |\n",
      "|10023283211 |0930efdf-43da-452f-81dd-ae01fa29a989|0.18     |69.14071810371141         |161.29200647192746 |0.29084915254816057|1              |0              |0              |0              |0              |0               |0           |0                  |0             |0             |0              |0             |0              |0              |0                |0              |0               |0               |0                  |0           |0               |0                 |0            |0            |0              |0              |0            |0             |0                   |0             |0                  |0                |0             |0                |0             |0                  |0             |0              |0              |0            |0             |0                  |0             |0             |0               |0            |0            |0              |0              |0               |0               |0              |1                 |0               |0                  |0                   |0               |0            |0            |0                 |0                |0             |0                |1                 |0               |0               |0            |0               |0                |1            |0                  |0               |0            |0            |0           |1                  |0            |0                  |0               |0              |0           |0              |1                    |0           |0            |0              |1                 |0             |0               |1                |23580  |834     |2022-06-17    |1170714    |161.58285610603005|14.812532322929243        |3397.0            |41.0              |2383.0                    |1096.0                  |370.0            |2623.0                |0.9                     |2153.0                |2.7               |4.3                  |1       |0        |0       |0        |0       |0        |0        |0        |0                 |0            |1          |1655424000     |(6000,[2030],[1.0])|0                |1                   |\n",
      "|10023283211 |2678b8f8-cbb8-40df-87f7-efe57de1dddb|0.18     |69.14283877653557         |116.92569491639357 |0.2108457822642117 |1              |0              |0              |0              |0              |0               |0           |0                  |0             |0             |0              |0             |0              |0              |0                |0              |0               |0               |0                  |0           |0               |0                 |0            |0            |0              |0              |0            |0             |0                   |0             |0                  |0                |0             |0                |0             |0                  |0             |0              |0              |0            |0             |0                  |0             |0             |0               |0            |0            |0              |0              |0               |0               |0              |1                 |0               |0                  |0                   |0               |0            |0            |0                 |0                |0             |0                |1                 |0               |0               |0            |0               |0                |1            |0                  |0               |0            |0            |0           |1                  |0            |0                  |0               |0              |0           |0              |1                    |0           |0            |0              |1                 |0             |0               |1                |13300  |3761    |2022-10-15    |185748     |117.13654104775188|11.570533725638844        |5140.5            |48.0              |2200.0                    |876.0                   |300.0            |2483.0                |0.8                     |2254.0                |2.9               |3.2                  |0       |0        |0       |0        |0       |0        |1        |0        |0                 |1            |0          |1665792000     |(6000,[4321],[1.0])|0                |1                   |\n",
      "|10023283211 |2c21f9c1-281f-4607-8562-8d9805d806a0|0.18     |69.14060015860203         |146.57373636057955 |0.2643084920250644 |1              |0              |0              |0              |0              |0               |0           |0                  |0             |0             |0              |0             |0              |0              |0                |0              |0               |0               |0                  |0           |0               |0                 |0            |0            |0              |0              |0            |0             |0                   |0             |0                  |0                |0             |0                |0             |0                  |0             |0              |0              |0            |0             |0                  |0             |0             |0               |0            |0            |0              |0              |0               |0               |0              |1                 |0               |0                  |0                   |0               |0            |0            |0                 |0                |0             |0                |1                 |0               |0               |0            |0               |0                |1            |0                  |0               |0            |0            |0           |1                  |0            |0                  |0               |0              |0           |0              |1                    |0           |0            |0              |1                 |0             |0               |1                |22397  |3882    |2021-05-01    |1346190    |146.8380452902161 |12.586758115004296        |8324.0            |48.0              |1343.0                    |669.0                   |250.0            |1619.0                |0.8                     |1323.0                |2.4               |3.1                  |0       |0        |0       |0        |0       |0        |1        |0        |0                 |0            |1          |1619827200     |(6000,[2256],[1.0])|0                |1                   |\n",
      "+------------+------------------------------------+---------+--------------------------+-------------------+-------------------+---------------+---------------+---------------+---------------+---------------+----------------+------------+-------------------+--------------+--------------+---------------+--------------+---------------+---------------+-----------------+---------------+----------------+----------------+-------------------+------------+----------------+------------------+-------------+-------------+---------------+---------------+-------------+--------------+--------------------+--------------+-------------------+-----------------+--------------+-----------------+--------------+-------------------+--------------+---------------+---------------+-------------+--------------+-------------------+--------------+--------------+----------------+-------------+-------------+---------------+---------------+----------------+----------------+---------------+------------------+----------------+-------------------+--------------------+----------------+-------------+-------------+------------------+-----------------+--------------+-----------------+------------------+----------------+----------------+-------------+----------------+-----------------+-------------+-------------------+----------------+-------------+-------------+------------+-------------------+-------------+-------------------+----------------+---------------+------------+---------------+---------------------+------------+-------------+---------------+------------------+--------------+----------------+-----------------+-------+--------+--------------+-----------+------------------+--------------------------+------------------+------------------+--------------------------+------------------------+-----------------+----------------------+------------------------+----------------------+------------------+---------------------+--------+---------+--------+---------+--------+---------+---------+---------+------------------+-------------+-----------+---------------+-------------------+-----------------+--------------------+\n",
      "only showing top 5 rows\n",
      "\n"
     ]
    }
   ],
   "source": [
    "full_transaction.show(5, truncate=False)"
   ]
  },
  {
   "cell_type": "code",
   "execution_count": 6,
   "metadata": {},
   "outputs": [
    {
     "data": {
      "text/plain": [
       "11304463"
      ]
     },
     "execution_count": 6,
     "metadata": {},
     "output_type": "execute_result"
    }
   ],
   "source": [
    "full_transaction.count()"
   ]
  },
  {
   "cell_type": "markdown",
   "metadata": {},
   "source": [
    "# K-Means classification"
   ]
  },
  {
   "cell_type": "markdown",
   "metadata": {},
   "source": [
    "## Create feature vectors"
   ]
  },
  {
   "cell_type": "code",
   "execution_count": 7,
   "metadata": {},
   "outputs": [
    {
     "name": "stdout",
     "output_type": "stream",
     "text": [
      "+--------------------+------------+-------------+---------+--------------------+--------------+\n",
      "|                name|merchant_abn|revenue_level|take_rate|  processed_category|category_index|\n",
      "+--------------------+------------+-------------+---------+--------------------+--------------+\n",
      "|fusce aliquet lim...| 17189523131|            c|     1.59|writing paper sup...|          15.0|\n",
      "|    cum sociis corp.| 22528859307|            a|      6.4|shop jewelry repa...|          11.0|\n",
      "|morbi vehicula li...| 32413511882|            b|     3.35|vehicle new part ...|          18.0|\n",
      "|vel nisl incorpor...| 32897338221|            a|      6.2|souvenir card sho...|           5.0|\n",
      "|    egestas sed inc.| 34082818630|            a|     6.86|digital book musi...|           0.0|\n",
      "+--------------------+------------+-------------+---------+--------------------+--------------+\n",
      "only showing top 5 rows\n",
      "\n"
     ]
    }
   ],
   "source": [
    "# convert string features to numerical features\n",
    "indexer = StringIndexer(inputCol=\"processed_category\", outputCol=\"category_index\")\n",
    "indexed_df = indexer.fit(merchant_detail).transform(merchant_detail)\n",
    "indexed_df.show(5)"
   ]
  },
  {
   "cell_type": "code",
   "execution_count": 8,
   "metadata": {},
   "outputs": [],
   "source": [
    "# convert string features to numerical features\n",
    "indexer = StringIndexer(inputCol=\"processed_category\", outputCol=\"category_index\")\n",
    "indexed_df = indexer.fit(merchant_detail).transform(merchant_detail)\n",
    "\n",
    "# create feature vectors\n",
    "feature_columns = ['category_index']\n",
    "assembler = VectorAssembler(inputCols=feature_columns, outputCol=\"features\")\n",
    "feature_data = assembler.transform(indexed_df)"
   ]
  },
  {
   "cell_type": "markdown",
   "metadata": {},
   "source": [
    "## Perform K-Means clustering with 5 clusters"
   ]
  },
  {
   "cell_type": "code",
   "execution_count": 9,
   "metadata": {},
   "outputs": [
    {
     "name": "stderr",
     "output_type": "stream",
     "text": [
      "24/09/20 01:55:39 WARN InstanceBuilder: Failed to load implementation from:dev.ludovic.netlib.blas.JNIBLAS\n"
     ]
    },
    {
     "name": "stdout",
     "output_type": "stream",
     "text": [
      "+--------------------+------------+-------------+---------+--------------------+--------------+--------+----------+\n",
      "|                name|merchant_abn|revenue_level|take_rate|  processed_category|category_index|features|prediction|\n",
      "+--------------------+------------+-------------+---------+--------------------+--------------+--------+----------+\n",
      "|fusce aliquet lim...| 17189523131|            c|     1.59|writing paper sup...|          15.0|  [15.0]|         4|\n",
      "|    cum sociis corp.| 22528859307|            a|      6.4|shop jewelry repa...|          11.0|  [11.0]|         0|\n",
      "|morbi vehicula li...| 32413511882|            b|     3.35|vehicle new part ...|          18.0|  [18.0]|         4|\n",
      "|vel nisl incorpor...| 32897338221|            a|      6.2|souvenir card sho...|           5.0|   [5.0]|         2|\n",
      "|    egestas sed inc.| 34082818630|            a|     6.86|digital book musi...|           0.0|   [0.0]|         1|\n",
      "+--------------------+------------+-------------+---------+--------------------+--------------+--------+----------+\n",
      "only showing top 5 rows\n",
      "\n"
     ]
    }
   ],
   "source": [
    "kmeans = KMeans(k=5, seed=42)\n",
    "model = kmeans.fit(feature_data)\n",
    "predictions = model.transform(feature_data)\n",
    "predictions.show(5)"
   ]
  },
  {
   "cell_type": "markdown",
   "metadata": {},
   "source": [
    "## Inspect the results of K-Means"
   ]
  },
  {
   "cell_type": "markdown",
   "metadata": {},
   "source": [
    "#### Check the number of instances in each class"
   ]
  },
  {
   "cell_type": "code",
   "execution_count": 10,
   "metadata": {},
   "outputs": [
    {
     "name": "stdout",
     "output_type": "stream",
     "text": [
      "Number of clusters (k): 5\n",
      "Cluster centers:\n",
      "[11.48435171]\n",
      "[1.9640592]\n",
      "[6.98102679]\n",
      "[21.27830832]\n",
      "[15.95384615]\n",
      "+----------+-----+\n",
      "|prediction|count|\n",
      "+----------+-----+\n",
      "|         1|  946|\n",
      "|         3|  733|\n",
      "|         4|  780|\n",
      "|         2|  896|\n",
      "|         0|  671|\n",
      "+----------+-----+\n",
      "\n",
      "+--------------------+--------------------+--------------+----------+\n",
      "|                name|  processed_category|category_index|prediction|\n",
      "+--------------------+--------------------+--------------+----------+\n",
      "|fusce aliquet lim...|writing paper sup...|          15.0|         4|\n",
      "|    cum sociis corp.|shop jewelry repa...|          11.0|         0|\n",
      "|morbi vehicula li...|vehicle new part ...|          18.0|         4|\n",
      "|vel nisl incorpor...|souvenir card sho...|           5.0|         2|\n",
      "|    egestas sed inc.|digital book musi...|           0.0|         1|\n",
      "+--------------------+--------------------+--------------+----------+\n",
      "only showing top 5 rows\n",
      "\n"
     ]
    }
   ],
   "source": [
    "# view the number of clusters (k) used in the KMeans model\n",
    "print(f\"Number of clusters (k): {model.getK()}\")\n",
    "\n",
    "# view the centers of each cluster\n",
    "centers = model.clusterCenters()\n",
    "print(\"Cluster centers:\")\n",
    "for center in centers:\n",
    "    print(center)\n",
    "\n",
    "# calculate the size of each cluster\n",
    "cluster_sizes = predictions.groupBy(\"prediction\").count()\n",
    "cluster_sizes.show()\n",
    "\n",
    "# view the prediction results, including the cluster assigned to each data point\n",
    "predictions.select(\"name\", \"processed_category\", \"category_index\", \"prediction\").show(5)"
   ]
  },
  {
   "cell_type": "markdown",
   "metadata": {},
   "source": [
    "#### Obtain the category for each cluster"
   ]
  },
  {
   "cell_type": "code",
   "execution_count": 11,
   "metadata": {},
   "outputs": [
    {
     "name": "stdout",
     "output_type": "stream",
     "text": [
      "Cluster 0 categories:\n",
      "+---------------------------------------------+-----+\n",
      "|processed_category                           |count|\n",
      "+---------------------------------------------+-----+\n",
      "|service shop sale and bicycle                |170  |\n",
      "|shop jewelry repair clock and watch          |170  |\n",
      "|instrument musical music shop piano sheet and|167  |\n",
      "|and beauty health spa                        |164  |\n",
      "+---------------------------------------------+-----+\n",
      "\n",
      "Cluster 1 categories:\n",
      "+--------------------------------------------------------------------------+-----+\n",
      "|processed_category                                                        |count|\n",
      "+--------------------------------------------------------------------------+-----+\n",
      "|digital book music movie goods:                                           |195  |\n",
      "|artist shop supply craft and                                              |193  |\n",
      "|computer integrated processing design service system data and programming |191  |\n",
      "|shop shoe                                                                 |185  |\n",
      "|equipment furnishing manufacturer shop furniture appliance home and except|182  |\n",
      "+--------------------------------------------------------------------------+-----+\n",
      "\n",
      "Cluster 2 categories:\n",
      "+------------------------------------------------------+-----+\n",
      "|processed_category                                    |count|\n",
      "+------------------------------------------------------+-----+\n",
      "|souvenir card shop and novelty gift                   |182  |\n",
      "|equipment peripheral computer computer and software   |181  |\n",
      "|nursery florist flower supply stock and               |180  |\n",
      "|and shop awning tent                                  |178  |\n",
      "|radio other service satellite cable television and pay|175  |\n",
      "+------------------------------------------------------+-----+\n",
      "\n",
      "Cluster 3 categories:\n",
      "+------------------------------------------------------+-----+\n",
      "|processed_category                                    |count|\n",
      "+------------------------------------------------------+-----+\n",
      "|game shop hobby toy and                               |142  |\n",
      "|equipment rent furniture al leasing and tool appliance|134  |\n",
      "|shop restoration service repair sale and antique      |129  |\n",
      "|telecom                                               |125  |\n",
      "|and gallery art dealer                                |112  |\n",
      "|silverware shop jewelry clock and watch               |91   |\n",
      "+------------------------------------------------------+-----+\n",
      "\n",
      "Cluster 4 categories:\n",
      "+---------------------------------------------------+-----+\n",
      "|processed_category                                 |count|\n",
      "+---------------------------------------------------+-----+\n",
      "|and newspaper book periodical                      |164  |\n",
      "|writing paper supply stationery office printing and|161  |\n",
      "|nursery lawn supply outlet and including garden    |153  |\n",
      "|optician good optical and eyeglass                 |151  |\n",
      "|vehicle new part supply and motor                  |151  |\n",
      "+---------------------------------------------------+-----+\n",
      "\n"
     ]
    }
   ],
   "source": [
    "for cluster_id in range(model.getK()):\n",
    "    print(f\"Cluster {cluster_id} categories:\")\n",
    "    cluster = predictions.filter(col(\"prediction\") == cluster_id)\n",
    "    category_counts = cluster.groupBy(\"processed_category\")\\\n",
    "                                     .count().orderBy(\"count\", ascending=False)\n",
    "    category_counts.show(truncate=False)"
   ]
  },
  {
   "cell_type": "markdown",
   "metadata": {},
   "source": [
    "#### Compute Silhouette Score"
   ]
  },
  {
   "cell_type": "markdown",
   "metadata": {},
   "source": [
    "The closer the Silhouette Score value is to 1, the better the classification effect is:"
   ]
  },
  {
   "cell_type": "code",
   "execution_count": 12,
   "metadata": {},
   "outputs": [
    {
     "name": "stdout",
     "output_type": "stream",
     "text": [
      "Silhouette Score: 0.7273731394415569\n"
     ]
    }
   ],
   "source": [
    "# evaluate using contour coefficient\n",
    "evaluator = ClusteringEvaluator(featuresCol='features', \n",
    "                                metricName='silhouette', \n",
    "                                distanceMeasure='squaredEuclidean')\n",
    "\n",
    "silhouette_score = evaluator.evaluate(predictions)\n",
    "print(f\"Silhouette Score: {silhouette_score}\")"
   ]
  },
  {
   "cell_type": "markdown",
   "metadata": {},
   "source": [
    "#### Compute WCSS"
   ]
  },
  {
   "cell_type": "code",
   "execution_count": 13,
   "metadata": {},
   "outputs": [
    {
     "name": "stdout",
     "output_type": "stream",
     "text": [
      "Within-Cluster Sum of Squares (WCSS): 8114.604724895357\n"
     ]
    },
    {
     "name": "stderr",
     "output_type": "stream",
     "text": [
      "                                                                                \r"
     ]
    }
   ],
   "source": [
    "# get cluster centers and broadcast them\n",
    "centers = model.clusterCenters()\n",
    "broadcast_centers = spark.sparkContext.broadcast(centers)\n",
    "\n",
    "# define UDF to compute squared Euclidean distance\n",
    "def squared_distance(features, center):\n",
    "    return float(Vectors.squared_distance(features, center))\n",
    "\n",
    "# define UDF to use the broadcasted centers\n",
    "squared_distance_udf = udf(lambda features, cluster: squared_distance(features, Vectors.dense(broadcast_centers.value[int(cluster)])), DoubleType())\n",
    "\n",
    "# add distance column to the DataFrame\n",
    "distance = predictions.withColumn('distance', \n",
    "                                  squared_distance_udf(col('features'), col('prediction')))\n",
    "\n",
    "# compute WCSS\n",
    "wcss = distance.groupBy('prediction')\\\n",
    "               .agg({'distance': 'sum'})\\\n",
    "               .agg({'sum(distance)': 'sum'}).collect()[0][0]\n",
    "print(f\"Within-Cluster Sum of Squares (WCSS): {wcss}\")"
   ]
  },
  {
   "cell_type": "markdown",
   "metadata": {},
   "source": [
    "## Show the predictions with cluster assignments"
   ]
  },
  {
   "cell_type": "code",
   "execution_count": 14,
   "metadata": {},
   "outputs": [
    {
     "name": "stdout",
     "output_type": "stream",
     "text": [
      "+---------------------------------+------------+-------------+---------+--------------------------------------------------------------------------+--------------+--------+----------+\n",
      "|name                             |merchant_abn|revenue_level|take_rate|processed_category                                                        |category_index|features|prediction|\n",
      "+---------------------------------+------------+-------------+---------+--------------------------------------------------------------------------+--------------+--------+----------+\n",
      "|fusce aliquet limited            |17189523131 |c            |1.59     |writing paper supply stationery office printing and                       |15.0          |[15.0]  |4         |\n",
      "|cum sociis corp.                 |22528859307 |a            |6.4      |shop jewelry repair clock and watch                                       |11.0          |[11.0]  |0         |\n",
      "|morbi vehicula limited           |32413511882 |b            |3.35     |vehicle new part supply and motor                                         |18.0          |[18.0]  |4         |\n",
      "|vel nisl incorporated            |32897338221 |a            |6.2      |souvenir card shop and novelty gift                                       |5.0           |[5.0]   |2         |\n",
      "|egestas sed inc.                 |34082818630 |a            |6.86     |digital book music movie goods:                                           |0.0           |[0.0]   |1         |\n",
      "|nam ligula elit foundation       |43127814599 |b            |3.58     |nursery lawn supply outlet and including garden                           |16.0          |[16.0]  |4         |\n",
      "|odio limited                     |43356103768 |a            |6.09     |equipment furnishing manufacturer shop furniture appliance home and except|4.0           |[4.0]   |1         |\n",
      "|donec at pc                      |44837192214 |a            |6.07     |radio other service satellite cable television and pay                    |9.0           |[9.0]   |2         |\n",
      "|lorem donec elementum corporation|46017523620 |c            |2.79     |and beauty health spa                                                     |13.0          |[13.0]  |0         |\n",
      "|nisl arcu limited                |53123395285 |c            |1.86     |optician good optical and eyeglass                                        |17.0          |[17.0]  |4         |\n",
      "|porttitor tellus corporation     |57900494384 |a            |6.39     |and shop awning tent                                                      |8.0           |[8.0]   |2         |\n",
      "|pellentesque tincidunt associates|59962058395 |d            |1.31     |nursery florist flower supply stock and                                   |7.0           |[7.0]   |2         |\n",
      "|cras sed leo foundation          |62029309613 |a            |5.65     |computer integrated processing design service system data and programming |2.0           |[2.0]   |1         |\n",
      "|orci luctus inc.                 |65600957125 |c            |2.46     |digital book music movie goods:                                           |0.0           |[0.0]   |1         |\n",
      "|in magna incorporated            |66626020312 |c            |2.46     |and shop awning tent                                                      |8.0           |[8.0]   |2         |\n",
      "|aliquam gravida incorporated     |66741987958 |b            |3.23     |equipment rent furniture al leasing and tool appliance                    |20.0          |[20.0]  |3         |\n",
      "|euismod ac fermentum ltd         |71357650211 |c            |2.39     |artist shop supply craft and                                              |1.0           |[1.0]   |1         |\n",
      "|convallis erat llc               |71910092040 |a            |6.33     |souvenir card shop and novelty gift                                       |5.0           |[5.0]   |2         |\n",
      "|lobortis tellus limited          |72611840049 |a            |5.88     |nursery lawn supply outlet and including garden                           |16.0          |[16.0]  |4         |\n",
      "|montes nascetur ltd              |82882476966 |d            |1.18     |computer integrated processing design service system data and programming |2.0           |[2.0]   |1         |\n",
      "+---------------------------------+------------+-------------+---------+--------------------------------------------------------------------------+--------------+--------+----------+\n",
      "only showing top 20 rows\n",
      "\n"
     ]
    }
   ],
   "source": [
    "predictions.show(truncate=False)"
   ]
  },
  {
   "cell_type": "code",
   "execution_count": 15,
   "metadata": {},
   "outputs": [
    {
     "name": "stdout",
     "output_type": "stream",
     "text": [
      "Cluster Centers:\n",
      "[11.48435171]\n",
      "[1.9640592]\n",
      "[6.98102679]\n",
      "[21.27830832]\n",
      "[15.95384615]\n"
     ]
    }
   ],
   "source": [
    "print(\"Cluster Centers:\")\n",
    "for center in centers:\n",
    "    print(center)"
   ]
  },
  {
   "cell_type": "markdown",
   "metadata": {},
   "source": [
    "**Since we found the K-Means classification is not reasonable, we decide to classify the merchants manually.**"
   ]
  },
  {
   "cell_type": "markdown",
   "metadata": {},
   "source": [
    "# Manually classification"
   ]
  },
  {
   "cell_type": "markdown",
   "metadata": {},
   "source": [
    "Find how many caterories in total:"
   ]
  },
  {
   "cell_type": "code",
   "execution_count": 16,
   "metadata": {},
   "outputs": [
    {
     "name": "stdout",
     "output_type": "stream",
     "text": [
      "+--------------------------------------------------------------------------+\n",
      "|processed_category                                                        |\n",
      "+--------------------------------------------------------------------------+\n",
      "|service shop sale and bicycle                                             |\n",
      "|and beauty health spa                                                     |\n",
      "|nursery lawn supply outlet and including garden                           |\n",
      "|instrument musical music shop piano sheet and                             |\n",
      "|and gallery art dealer                                                    |\n",
      "|equipment furnishing manufacturer shop furniture appliance home and except|\n",
      "|digital book music movie goods:                                           |\n",
      "|shop restoration service repair sale and antique                          |\n",
      "|computer integrated processing design service system data and programming |\n",
      "|equipment peripheral computer computer and software                       |\n",
      "|artist shop supply craft and                                              |\n",
      "|radio other service satellite cable television and pay                    |\n",
      "|shop shoe                                                                 |\n",
      "|and shop awning tent                                                      |\n",
      "|souvenir card shop and novelty gift                                       |\n",
      "|game shop hobby toy and                                                   |\n",
      "|optician good optical and eyeglass                                        |\n",
      "|and newspaper book periodical                                             |\n",
      "|silverware shop jewelry clock and watch                                   |\n",
      "|shop jewelry repair clock and watch                                       |\n",
      "+--------------------------------------------------------------------------+\n",
      "only showing top 20 rows\n",
      "\n",
      "Total number of categories: 25\n"
     ]
    }
   ],
   "source": [
    "df = spark.createDataFrame(merchant_detail.select(\"processed_category\").rdd,\n",
    "                           ['processed_category'])\n",
    "\n",
    "# Get distinct values\n",
    "unique_descriptions_df = df.distinct()\n",
    "\n",
    "# Count the number of unique values\n",
    "unique_count = unique_descriptions_df.count()\n",
    "\n",
    "# Display all unique values\n",
    "unique_descriptions_df.show(truncate=False)\n",
    "\n",
    "print(f\"Total number of categories: {unique_count}\")"
   ]
  },
  {
   "cell_type": "code",
   "execution_count": 17,
   "metadata": {},
   "outputs": [
    {
     "name": "stdout",
     "output_type": "stream",
     "text": [
      "+----------------------+------------+-------------+---------+---------------------------------------------------+----------------+\n",
      "|name                  |merchant_abn|revenue_level|take_rate|processed_category                                 |merchant_segment|\n",
      "+----------------------+------------+-------------+---------+---------------------------------------------------+----------------+\n",
      "|fusce aliquet limited |17189523131 |c            |1.59     |writing paper supply stationery office printing and|4               |\n",
      "|cum sociis corp.      |22528859307 |a            |6.4      |shop jewelry repair clock and watch                |1               |\n",
      "|morbi vehicula limited|32413511882 |b            |3.35     |vehicle new part supply and motor                  |1               |\n",
      "|vel nisl incorporated |32897338221 |a            |6.2      |souvenir card shop and novelty gift                |4               |\n",
      "|egestas sed inc.      |34082818630 |a            |6.86     |digital book music movie goods:                    |5               |\n",
      "+----------------------+------------+-------------+---------+---------------------------------------------------+----------------+\n",
      "only showing top 5 rows\n",
      "\n"
     ]
    }
   ],
   "source": [
    "# define the mapping for merchant_segment\n",
    "category_to_segment = {\n",
    "    # Personal Care and Repair Services\n",
    "    \"service shop sale and bicycle\": 1,\n",
    "    \"shop jewelry repair clock and watch\": 1,\n",
    "    \"and beauty health spa\": 1,\n",
    "    \"optician good optical and eyeglass\": 1,\n",
    "    \"shop shoe\": 1,\n",
    "    \"vehicle new part supply and motor\": 1,\n",
    "    \n",
    "    # Arts\n",
    "    \"artist shop supply craft and\": 2,\n",
    "    \"instrument musical music shop piano sheet and\": 2,\n",
    "    \"and gallery art dealer\": 2,\n",
    "    \"and newspaper book periodical\": 2,\n",
    "    \n",
    "    # Home and Furniture\n",
    "    \"equipment furnishing manufacturer shop furniture appliance home and except\": 3,\n",
    "    \"equipment rent furniture al leasing and tool appliance\": 3,\n",
    "    \"shop restoration service repair sale and antique\": 3,\n",
    "    \"nursery lawn supply outlet and including garden\": 3,\n",
    "    \"and shop awning tent\": 3,\n",
    "    \n",
    "    # Gifts and Souvenirs\n",
    "    \"souvenir card shop and novelty gift\": 4,\n",
    "    \"nursery florist flower supply stock and\": 4,\n",
    "    \"silverware shop jewelry clock and watch\": 4,\n",
    "    \"writing paper supply stationery office printing and\": 4,\n",
    "    \"game shop hobby toy and\":4,\n",
    "    \n",
    "    # Technology and Electronic Equipment\n",
    "    \"radio other service satellite cable television and pay\": 5,\n",
    "    \"digital book music movie goods:\": 5,\n",
    "    \"computer integrated processing design service system data and programming\": 5,\n",
    "    \"equipment peripheral computer computer and software\": 5,\n",
    "    \"telecom\": 5\n",
    "}\n",
    "\n",
    "# add a new column merchant_segment based on processed_category\n",
    "merchant_detail = merchant_detail.withColumn(\n",
    "    \"merchant_segment\",\n",
    "    F.when(\n",
    "        F.col(\"processed_category\").isin(list(category_to_segment.keys())),\n",
    "        F.coalesce(*[F.when(F.col(\"processed_category\") == key, \n",
    "                            F.lit(value)) for key, value in category_to_segment.items()])\n",
    "    )\n",
    ")\n",
    "\n",
    "merchant_detail.show(5, truncate=False)"
   ]
  },
  {
   "cell_type": "markdown",
   "metadata": {},
   "source": [
    "Count the number of sub-category in each segment:"
   ]
  },
  {
   "cell_type": "code",
   "execution_count": 18,
   "metadata": {},
   "outputs": [
    {
     "name": "stdout",
     "output_type": "stream",
     "text": [
      "Segment 1 - Personal Care and Repair Services:\n",
      "+-----------------------------------+-----+\n",
      "|processed_category                 |count|\n",
      "+-----------------------------------+-----+\n",
      "|shop shoe                          |185  |\n",
      "|service shop sale and bicycle      |170  |\n",
      "|shop jewelry repair clock and watch|170  |\n",
      "|and beauty health spa              |164  |\n",
      "|optician good optical and eyeglass |151  |\n",
      "|vehicle new part supply and motor  |151  |\n",
      "+-----------------------------------+-----+\n",
      "\n",
      "Segment 2 - Arts:\n",
      "+---------------------------------------------+-----+\n",
      "|processed_category                           |count|\n",
      "+---------------------------------------------+-----+\n",
      "|artist shop supply craft and                 |193  |\n",
      "|instrument musical music shop piano sheet and|167  |\n",
      "|and newspaper book periodical                |164  |\n",
      "|and gallery art dealer                       |112  |\n",
      "+---------------------------------------------+-----+\n",
      "\n",
      "Segment 3 - Home and Furniture:\n",
      "+--------------------------------------------------------------------------+-----+\n",
      "|processed_category                                                        |count|\n",
      "+--------------------------------------------------------------------------+-----+\n",
      "|equipment furnishing manufacturer shop furniture appliance home and except|182  |\n",
      "|and shop awning tent                                                      |178  |\n",
      "|nursery lawn supply outlet and including garden                           |153  |\n",
      "|equipment rent furniture al leasing and tool appliance                    |134  |\n",
      "|shop restoration service repair sale and antique                          |129  |\n",
      "+--------------------------------------------------------------------------+-----+\n",
      "\n",
      "Segment 4 - Gifts and Souvenirs:\n",
      "+---------------------------------------------------+-----+\n",
      "|processed_category                                 |count|\n",
      "+---------------------------------------------------+-----+\n",
      "|souvenir card shop and novelty gift                |182  |\n",
      "|nursery florist flower supply stock and            |180  |\n",
      "|writing paper supply stationery office printing and|161  |\n",
      "|game shop hobby toy and                            |142  |\n",
      "|silverware shop jewelry clock and watch            |91   |\n",
      "+---------------------------------------------------+-----+\n",
      "\n",
      "Segment 5 - Technology and Electronic Equipment:\n",
      "+-------------------------------------------------------------------------+-----+\n",
      "|processed_category                                                       |count|\n",
      "+-------------------------------------------------------------------------+-----+\n",
      "|digital book music movie goods:                                          |195  |\n",
      "|computer integrated processing design service system data and programming|191  |\n",
      "|equipment peripheral computer computer and software                      |181  |\n",
      "|radio other service satellite cable television and pay                   |175  |\n",
      "|telecom                                                                  |125  |\n",
      "+-------------------------------------------------------------------------+-----+\n",
      "\n"
     ]
    }
   ],
   "source": [
    "for cluster_id in range(1, 6, 1):\n",
    "    if cluster_id == 1:\n",
    "        segment = \"Personal Care and Repair Services\"\n",
    "    elif cluster_id == 2:\n",
    "        segment = \"Arts\"\n",
    "    elif cluster_id == 3:\n",
    "        segment = \"Home and Furniture\"\n",
    "    elif cluster_id == 4:\n",
    "        segment = \"Gifts and Souvenirs\"\n",
    "    elif cluster_id == 5:\n",
    "        segment = \"Technology and Electronic Equipment\"\n",
    "        \n",
    "    print(f\"Segment {cluster_id} - {segment}:\")\n",
    "    cluster = merchant_detail.filter(col(\"merchant_segment\") == cluster_id)\n",
    "    category_counts = cluster.groupBy(\"processed_category\")\\\n",
    "                             .count().orderBy(\"count\", ascending=False)\n",
    "    category_counts.show(truncate=False)"
   ]
  },
  {
   "cell_type": "markdown",
   "metadata": {},
   "source": [
    "# Merge the classification results to `full_transaction` dataset"
   ]
  },
  {
   "cell_type": "markdown",
   "metadata": {},
   "source": [
    "Merge the `full_transaction` and `predictions` tables based on the `merchant_abn` column:"
   ]
  },
  {
   "cell_type": "code",
   "execution_count": 19,
   "metadata": {},
   "outputs": [
    {
     "name": "stdout",
     "output_type": "stream",
     "text": [
      "+------------+------------------------------------+---------+--------------------------+-------------------+-------------------+---------------+---------------+---------------+---------------+---------------+----------------+------------+-------------------+--------------+--------------+---------------+--------------+---------------+---------------+-----------------+---------------+----------------+----------------+-------------------+------------+----------------+------------------+-------------+-------------+---------------+---------------+-------------+--------------+--------------------+--------------+-------------------+-----------------+--------------+-----------------+--------------+-------------------+--------------+---------------+---------------+-------------+--------------+-------------------+--------------+--------------+----------------+-------------+-------------+---------------+---------------+----------------+----------------+---------------+------------------+----------------+-------------------+--------------------+----------------+-------------+-------------+------------------+-----------------+--------------+-----------------+------------------+----------------+----------------+-------------+----------------+-----------------+-------------+-------------------+----------------+-------------+-------------+------------+-------------------+-------------+-------------------+----------------+---------------+------------+---------------+---------------------+------------+-------------+---------------+------------------+--------------+----------------+-----------------+-------+--------+--------------+-----------+------------------+--------------------------+------------------+------------------+--------------------------+------------------------+-----------------+----------------------+------------------------+----------------------+------------------+---------------------+--------+---------+--------+---------+--------+---------+---------+---------+------------------+-------------+-----------+---------------+-------------------+-----------------+--------------------+----------------+\n",
      "|merchant_abn|order_id                            |take_rate|merchant_fraud_probability|transaction_revenue|BNPL_revenue       |revenue_level_e|revenue_level_d|revenue_level_c|revenue_level_b|revenue_level_a|category_jewelry|category_art|category_television|category_watch|category_cable|category_repair|category_stock|category_flower|category_office|category_souvenir|category_goods:|category_novelty|category_optical|category_integrated|category_new|category_antique|category_newspaper|category_shoe|category_tent|category_beauty|category_system|category_lawn|category_sheet|category_programming|category_radio|category_stationery|category_optician|category_paper|category_software|category_clock|category_peripheral|category_craft|category_awning|category_garden|category_data|category_music|category_silverware|category_movie|category_hobby|category_digital|category_sale|category_tool|category_artist|category_health|category_writing|category_musical|category_outlet|category_furniture|category_florist|category_periodical|category_restoration|category_telecom|category_part|category_card|category_satellite|category_eyeglass|category_motor|category_computer|category_equipment|category_service|category_leasing|category_gift|category_vehicle|category_printing|category_home|category_instrument|category_nursery|category_good|category_game|category_spa|category_furnishing|category_rent|category_processing|category_gallery|category_supply|category_pay|category_design|category_manufacturer|category_toy|category_book|category_dealer|category_appliance|category_piano|category_bicycle|merchant_is_fraud|user_id|postcode|order_datetime|consumer_id|dollar_value      |consumer_fraud_probability|average_population|avg_age_persons   |avg_mortgage_repay_monthly|avg_tot_prsnl_inc_weekly|avg_rent_weekly  |avg_tot_fam_inc_weekly|avg_num_psns_per_bedroom|avg_tot_hhd_inc_weekly|avg_household_size|avg_unemployment_rate|state_NT|state_ACT|state_SA|state_TAS|state_WA|state_QLD|state_VIC|state_NSW|gender_Undisclosed|gender_Female|gender_Male|order_timestamp|hashed_postcode    |consumer_is_fraud|transaction_is_fraud|merchant_segment|\n",
      "+------------+------------------------------------+---------+--------------------------+-------------------+-------------------+---------------+---------------+---------------+---------------+---------------+----------------+------------+-------------------+--------------+--------------+---------------+--------------+---------------+---------------+-----------------+---------------+----------------+----------------+-------------------+------------+----------------+------------------+-------------+-------------+---------------+---------------+-------------+--------------+--------------------+--------------+-------------------+-----------------+--------------+-----------------+--------------+-------------------+--------------+---------------+---------------+-------------+--------------+-------------------+--------------+--------------+----------------+-------------+-------------+---------------+---------------+----------------+----------------+---------------+------------------+----------------+-------------------+--------------------+----------------+-------------+-------------+------------------+-----------------+--------------+-----------------+------------------+----------------+----------------+-------------+----------------+-----------------+-------------+-------------------+----------------+-------------+-------------+------------+-------------------+-------------+-------------------+----------------+---------------+------------+---------------+---------------------+------------+-------------+---------------+------------------+--------------+----------------+-----------------+-------+--------+--------------+-----------+------------------+--------------------------+------------------+------------------+--------------------------+------------------------+-----------------+----------------------+------------------------+----------------------+------------------+---------------------+--------+---------+--------+---------+--------+---------+---------+---------+------------------+-------------+-----------+---------------+-------------------+-----------------+--------------------+----------------+\n",
      "|10023283211 |02ac9935-bc3b-4a0f-b615-93f09f5acd89|0.18     |69.11676678141136         |470.22490431091353 |0.8479311400324895 |1              |0              |0              |0              |0              |0               |0           |0                  |0             |0             |0              |0             |0              |0              |0                |0              |0               |0               |0                  |0           |0               |0                 |0            |0            |0              |0              |0            |0             |0                   |0             |0                  |0                |0             |0                |0             |0                  |0             |0              |0              |0            |0             |0                  |0             |0             |0               |0            |0            |0              |0              |0               |0               |0              |1                 |0               |0                  |0                   |0               |0            |0            |0                 |0                |0             |0                |1                 |0               |0               |0            |0               |0                |1            |0                  |0               |0            |0            |0           |1                  |0            |0                  |0               |0              |0           |0              |1                    |0           |0            |0              |1                 |0             |0               |1                |12989  |6450    |2021-06-28    |545205     |471.0728368548525 |17.23266639692692         |29128.5           |41.666666666666664|1413.3333333333333        |843.3333333333334       |257.6666666666667|2012.6666666666667    |0.6999999999999998      |1545.6666666666667    |2.4               |2.6666666666666665   |0       |0        |0       |0        |1       |0        |0        |0        |0                 |1            |0          |1624838400     |(6000,[5335],[1.0])|0                |1                   |3               |\n",
      "|10023283211 |089fb2ac-c128-41e5-b00a-eacee497d521|0.18     |69.14071810371141         |175.2051027678421  |0.31593788667394024|1              |0              |0              |0              |0              |0               |0           |0                  |0             |0             |0              |0             |0              |0              |0                |0              |0               |0               |0                  |0           |0               |0                 |0            |0            |0              |0              |0            |0             |0                   |0             |0                  |0                |0             |0                |0             |0                  |0             |0              |0              |0            |0             |0                  |0             |0             |0               |0            |0            |0              |0              |0               |0               |0              |1                 |0               |0                  |0                   |0               |0            |0            |0                 |0                |0             |0                |1                 |0               |0               |0            |0               |0                |1            |0                  |0               |0            |0            |0           |1                  |0            |0                  |0               |0              |0           |0              |1                    |0           |0            |0              |1                 |0             |0               |1                |14228  |6324    |2022-04-09    |611022     |175.5210411776095 |9.17784580695778          |9396.0            |46.5              |1539.0                    |682.0                   |237.5            |1695.0                |0.8                     |1366.5                |2.4               |3.8                  |0       |0        |0       |0        |1       |0        |0        |0        |0                 |0            |1          |1649462400     |(6000,[2887],[1.0])|0                |1                   |3               |\n",
      "|10023283211 |0930efdf-43da-452f-81dd-ae01fa29a989|0.18     |69.14071810371141         |161.29200647192746 |0.29084915254816057|1              |0              |0              |0              |0              |0               |0           |0                  |0             |0             |0              |0             |0              |0              |0                |0              |0               |0               |0                  |0           |0               |0                 |0            |0            |0              |0              |0            |0             |0                   |0             |0                  |0                |0             |0                |0             |0                  |0             |0              |0              |0            |0             |0                  |0             |0             |0               |0            |0            |0              |0              |0               |0               |0              |1                 |0               |0                  |0                   |0               |0            |0            |0                 |0                |0             |0                |1                 |0               |0               |0            |0               |0                |1            |0                  |0               |0            |0            |0           |1                  |0            |0                  |0               |0              |0           |0              |1                    |0           |0            |0              |1                 |0             |0               |1                |23580  |834     |2022-06-17    |1170714    |161.58285610603005|14.812532322929243        |3397.0            |41.0              |2383.0                    |1096.0                  |370.0            |2623.0                |0.9                     |2153.0                |2.7               |4.3                  |1       |0        |0       |0        |0       |0        |0        |0        |0                 |0            |1          |1655424000     |(6000,[2030],[1.0])|0                |1                   |3               |\n",
      "|10023283211 |2678b8f8-cbb8-40df-87f7-efe57de1dddb|0.18     |69.14283877653557         |116.92569491639357 |0.2108457822642117 |1              |0              |0              |0              |0              |0               |0           |0                  |0             |0             |0              |0             |0              |0              |0                |0              |0               |0               |0                  |0           |0               |0                 |0            |0            |0              |0              |0            |0             |0                   |0             |0                  |0                |0             |0                |0             |0                  |0             |0              |0              |0            |0             |0                  |0             |0             |0               |0            |0            |0              |0              |0               |0               |0              |1                 |0               |0                  |0                   |0               |0            |0            |0                 |0                |0             |0                |1                 |0               |0               |0            |0               |0                |1            |0                  |0               |0            |0            |0           |1                  |0            |0                  |0               |0              |0           |0              |1                    |0           |0            |0              |1                 |0             |0               |1                |13300  |3761    |2022-10-15    |185748     |117.13654104775188|11.570533725638844        |5140.5            |48.0              |2200.0                    |876.0                   |300.0            |2483.0                |0.8                     |2254.0                |2.9               |3.2                  |0       |0        |0       |0        |0       |0        |1        |0        |0                 |1            |0          |1665792000     |(6000,[4321],[1.0])|0                |1                   |3               |\n",
      "|10023283211 |2c21f9c1-281f-4607-8562-8d9805d806a0|0.18     |69.14060015860203         |146.57373636057955 |0.2643084920250644 |1              |0              |0              |0              |0              |0               |0           |0                  |0             |0             |0              |0             |0              |0              |0                |0              |0               |0               |0                  |0           |0               |0                 |0            |0            |0              |0              |0            |0             |0                   |0             |0                  |0                |0             |0                |0             |0                  |0             |0              |0              |0            |0             |0                  |0             |0             |0               |0            |0            |0              |0              |0               |0               |0              |1                 |0               |0                  |0                   |0               |0            |0            |0                 |0                |0             |0                |1                 |0               |0               |0            |0               |0                |1            |0                  |0               |0            |0            |0           |1                  |0            |0                  |0               |0              |0           |0              |1                    |0           |0            |0              |1                 |0             |0               |1                |22397  |3882    |2021-05-01    |1346190    |146.8380452902161 |12.586758115004296        |8324.0            |48.0              |1343.0                    |669.0                   |250.0            |1619.0                |0.8                     |1323.0                |2.4               |3.1                  |0       |0        |0       |0        |0       |0        |1        |0        |0                 |0            |1          |1619827200     |(6000,[2256],[1.0])|0                |1                   |3               |\n",
      "+------------+------------------------------------+---------+--------------------------+-------------------+-------------------+---------------+---------------+---------------+---------------+---------------+----------------+------------+-------------------+--------------+--------------+---------------+--------------+---------------+---------------+-----------------+---------------+----------------+----------------+-------------------+------------+----------------+------------------+-------------+-------------+---------------+---------------+-------------+--------------+--------------------+--------------+-------------------+-----------------+--------------+-----------------+--------------+-------------------+--------------+---------------+---------------+-------------+--------------+-------------------+--------------+--------------+----------------+-------------+-------------+---------------+---------------+----------------+----------------+---------------+------------------+----------------+-------------------+--------------------+----------------+-------------+-------------+------------------+-----------------+--------------+-----------------+------------------+----------------+----------------+-------------+----------------+-----------------+-------------+-------------------+----------------+-------------+-------------+------------+-------------------+-------------+-------------------+----------------+---------------+------------+---------------+---------------------+------------+-------------+---------------+------------------+--------------+----------------+-----------------+-------+--------+--------------+-----------+------------------+--------------------------+------------------+------------------+--------------------------+------------------------+-----------------+----------------------+------------------------+----------------------+------------------+---------------------+--------+---------+--------+---------+--------+---------+---------+---------+------------------+-------------+-----------+---------------+-------------------+-----------------+--------------------+----------------+\n",
      "only showing top 5 rows\n",
      "\n"
     ]
    }
   ],
   "source": [
    "full_transaction = full_transaction.join(merchant_detail.select(\"merchant_abn\",\n",
    "                                                                 \"merchant_segment\"), \n",
    "                                         on=\"merchant_abn\", how=\"left\")\n",
    "full_transaction.show(5, truncate=False)"
   ]
  },
  {
   "cell_type": "markdown",
   "metadata": {},
   "source": [
    "# Apply One-Hot Encoding on `merchant_segment` column"
   ]
  },
  {
   "cell_type": "code",
   "execution_count": 20,
   "metadata": {},
   "outputs": [
    {
     "name": "stdout",
     "output_type": "stream",
     "text": [
      "+------------+--------------------+---------+--------------------------+-------------------+-------------------+---------------+---------------+---------------+---------------+---------------+----------------+------------+-------------------+--------------+--------------+---------------+--------------+---------------+---------------+-----------------+---------------+----------------+----------------+-------------------+------------+----------------+------------------+-------------+-------------+---------------+---------------+-------------+--------------+--------------------+--------------+-------------------+-----------------+--------------+-----------------+--------------+-------------------+--------------+---------------+---------------+-------------+--------------+-------------------+--------------+--------------+----------------+-------------+-------------+---------------+---------------+----------------+----------------+---------------+------------------+----------------+-------------------+--------------------+----------------+-------------+-------------+------------------+-----------------+--------------+-----------------+------------------+----------------+----------------+-------------+----------------+-----------------+-------------+-------------------+----------------+-------------+-------------+------------+-------------------+-------------+-------------------+----------------+---------------+------------+---------------+---------------------+------------+-------------+---------------+------------------+--------------+----------------+-----------------+-------+--------+--------------+-----------+------------------+--------------------------+------------------+------------------+--------------------------+------------------------+-----------------+----------------------+------------------------+----------------------+------------------+---------------------+--------+---------+--------+---------+--------+---------+---------+---------+------------------+-------------+-----------+---------------+-------------------+-----------------+--------------------+------------------+------------------+------------------+------------------+------------------+\n",
      "|merchant_abn|            order_id|take_rate|merchant_fraud_probability|transaction_revenue|       BNPL_revenue|revenue_level_e|revenue_level_d|revenue_level_c|revenue_level_b|revenue_level_a|category_jewelry|category_art|category_television|category_watch|category_cable|category_repair|category_stock|category_flower|category_office|category_souvenir|category_goods:|category_novelty|category_optical|category_integrated|category_new|category_antique|category_newspaper|category_shoe|category_tent|category_beauty|category_system|category_lawn|category_sheet|category_programming|category_radio|category_stationery|category_optician|category_paper|category_software|category_clock|category_peripheral|category_craft|category_awning|category_garden|category_data|category_music|category_silverware|category_movie|category_hobby|category_digital|category_sale|category_tool|category_artist|category_health|category_writing|category_musical|category_outlet|category_furniture|category_florist|category_periodical|category_restoration|category_telecom|category_part|category_card|category_satellite|category_eyeglass|category_motor|category_computer|category_equipment|category_service|category_leasing|category_gift|category_vehicle|category_printing|category_home|category_instrument|category_nursery|category_good|category_game|category_spa|category_furnishing|category_rent|category_processing|category_gallery|category_supply|category_pay|category_design|category_manufacturer|category_toy|category_book|category_dealer|category_appliance|category_piano|category_bicycle|merchant_is_fraud|user_id|postcode|order_datetime|consumer_id|      dollar_value|consumer_fraud_probability|average_population|   avg_age_persons|avg_mortgage_repay_monthly|avg_tot_prsnl_inc_weekly|  avg_rent_weekly|avg_tot_fam_inc_weekly|avg_num_psns_per_bedroom|avg_tot_hhd_inc_weekly|avg_household_size|avg_unemployment_rate|state_NT|state_ACT|state_SA|state_TAS|state_WA|state_QLD|state_VIC|state_NSW|gender_Undisclosed|gender_Female|gender_Male|order_timestamp|    hashed_postcode|consumer_is_fraud|transaction_is_fraud|merchant_segment_1|merchant_segment_3|merchant_segment_5|merchant_segment_4|merchant_segment_2|\n",
      "+------------+--------------------+---------+--------------------------+-------------------+-------------------+---------------+---------------+---------------+---------------+---------------+----------------+------------+-------------------+--------------+--------------+---------------+--------------+---------------+---------------+-----------------+---------------+----------------+----------------+-------------------+------------+----------------+------------------+-------------+-------------+---------------+---------------+-------------+--------------+--------------------+--------------+-------------------+-----------------+--------------+-----------------+--------------+-------------------+--------------+---------------+---------------+-------------+--------------+-------------------+--------------+--------------+----------------+-------------+-------------+---------------+---------------+----------------+----------------+---------------+------------------+----------------+-------------------+--------------------+----------------+-------------+-------------+------------------+-----------------+--------------+-----------------+------------------+----------------+----------------+-------------+----------------+-----------------+-------------+-------------------+----------------+-------------+-------------+------------+-------------------+-------------+-------------------+----------------+---------------+------------+---------------+---------------------+------------+-------------+---------------+------------------+--------------+----------------+-----------------+-------+--------+--------------+-----------+------------------+--------------------------+------------------+------------------+--------------------------+------------------------+-----------------+----------------------+------------------------+----------------------+------------------+---------------------+--------+---------+--------+---------+--------+---------+---------+---------+------------------+-------------+-----------+---------------+-------------------+-----------------+--------------------+------------------+------------------+------------------+------------------+------------------+\n",
      "| 10023283211|02ac9935-bc3b-4a0...|     0.18|         69.11676678141136| 470.22490431091353| 0.8479311400324895|              1|              0|              0|              0|              0|               0|           0|                  0|             0|             0|              0|             0|              0|              0|                0|              0|               0|               0|                  0|           0|               0|                 0|            0|            0|              0|              0|            0|             0|                   0|             0|                  0|                0|             0|                0|             0|                  0|             0|              0|              0|            0|             0|                  0|             0|             0|               0|            0|            0|              0|              0|               0|               0|              0|                 1|               0|                  0|                   0|               0|            0|            0|                 0|                0|             0|                0|                 1|               0|               0|            0|               0|                0|            1|                  0|               0|            0|            0|           0|                  1|            0|                  0|               0|              0|           0|              0|                    1|           0|            0|              0|                 1|             0|               0|                1|  12989|    6450|    2021-06-28|     545205| 471.0728368548525|         17.23266639692692|           29128.5|41.666666666666664|        1413.3333333333333|       843.3333333333334|257.6666666666667|    2012.6666666666667|      0.6999999999999998|    1545.6666666666667|               2.4|   2.6666666666666665|       0|        0|       0|        0|       1|        0|        0|        0|                 0|            1|          0|     1624838400|(6000,[5335],[1.0])|                0|                   1|                 0|                 1|                 0|                 0|                 0|\n",
      "| 10023283211|089fb2ac-c128-41e...|     0.18|         69.14071810371141|  175.2051027678421|0.31593788667394024|              1|              0|              0|              0|              0|               0|           0|                  0|             0|             0|              0|             0|              0|              0|                0|              0|               0|               0|                  0|           0|               0|                 0|            0|            0|              0|              0|            0|             0|                   0|             0|                  0|                0|             0|                0|             0|                  0|             0|              0|              0|            0|             0|                  0|             0|             0|               0|            0|            0|              0|              0|               0|               0|              0|                 1|               0|                  0|                   0|               0|            0|            0|                 0|                0|             0|                0|                 1|               0|               0|            0|               0|                0|            1|                  0|               0|            0|            0|           0|                  1|            0|                  0|               0|              0|           0|              0|                    1|           0|            0|              0|                 1|             0|               0|                1|  14228|    6324|    2022-04-09|     611022| 175.5210411776095|          9.17784580695778|            9396.0|              46.5|                    1539.0|                   682.0|            237.5|                1695.0|                     0.8|                1366.5|               2.4|                  3.8|       0|        0|       0|        0|       1|        0|        0|        0|                 0|            0|          1|     1649462400|(6000,[2887],[1.0])|                0|                   1|                 0|                 1|                 0|                 0|                 0|\n",
      "| 10023283211|0930efdf-43da-452...|     0.18|         69.14071810371141| 161.29200647192746|0.29084915254816057|              1|              0|              0|              0|              0|               0|           0|                  0|             0|             0|              0|             0|              0|              0|                0|              0|               0|               0|                  0|           0|               0|                 0|            0|            0|              0|              0|            0|             0|                   0|             0|                  0|                0|             0|                0|             0|                  0|             0|              0|              0|            0|             0|                  0|             0|             0|               0|            0|            0|              0|              0|               0|               0|              0|                 1|               0|                  0|                   0|               0|            0|            0|                 0|                0|             0|                0|                 1|               0|               0|            0|               0|                0|            1|                  0|               0|            0|            0|           0|                  1|            0|                  0|               0|              0|           0|              0|                    1|           0|            0|              0|                 1|             0|               0|                1|  23580|     834|    2022-06-17|    1170714|161.58285610603005|        14.812532322929243|            3397.0|              41.0|                    2383.0|                  1096.0|            370.0|                2623.0|                     0.9|                2153.0|               2.7|                  4.3|       1|        0|       0|        0|       0|        0|        0|        0|                 0|            0|          1|     1655424000|(6000,[2030],[1.0])|                0|                   1|                 0|                 1|                 0|                 0|                 0|\n",
      "| 10023283211|2678b8f8-cbb8-40d...|     0.18|         69.14283877653557| 116.92569491639357| 0.2108457822642117|              1|              0|              0|              0|              0|               0|           0|                  0|             0|             0|              0|             0|              0|              0|                0|              0|               0|               0|                  0|           0|               0|                 0|            0|            0|              0|              0|            0|             0|                   0|             0|                  0|                0|             0|                0|             0|                  0|             0|              0|              0|            0|             0|                  0|             0|             0|               0|            0|            0|              0|              0|               0|               0|              0|                 1|               0|                  0|                   0|               0|            0|            0|                 0|                0|             0|                0|                 1|               0|               0|            0|               0|                0|            1|                  0|               0|            0|            0|           0|                  1|            0|                  0|               0|              0|           0|              0|                    1|           0|            0|              0|                 1|             0|               0|                1|  13300|    3761|    2022-10-15|     185748|117.13654104775188|        11.570533725638844|            5140.5|              48.0|                    2200.0|                   876.0|            300.0|                2483.0|                     0.8|                2254.0|               2.9|                  3.2|       0|        0|       0|        0|       0|        0|        1|        0|                 0|            1|          0|     1665792000|(6000,[4321],[1.0])|                0|                   1|                 0|                 1|                 0|                 0|                 0|\n",
      "| 10023283211|2c21f9c1-281f-460...|     0.18|         69.14060015860203| 146.57373636057955| 0.2643084920250644|              1|              0|              0|              0|              0|               0|           0|                  0|             0|             0|              0|             0|              0|              0|                0|              0|               0|               0|                  0|           0|               0|                 0|            0|            0|              0|              0|            0|             0|                   0|             0|                  0|                0|             0|                0|             0|                  0|             0|              0|              0|            0|             0|                  0|             0|             0|               0|            0|            0|              0|              0|               0|               0|              0|                 1|               0|                  0|                   0|               0|            0|            0|                 0|                0|             0|                0|                 1|               0|               0|            0|               0|                0|            1|                  0|               0|            0|            0|           0|                  1|            0|                  0|               0|              0|           0|              0|                    1|           0|            0|              0|                 1|             0|               0|                1|  22397|    3882|    2021-05-01|    1346190| 146.8380452902161|        12.586758115004296|            8324.0|              48.0|                    1343.0|                   669.0|            250.0|                1619.0|                     0.8|                1323.0|               2.4|                  3.1|       0|        0|       0|        0|       0|        0|        1|        0|                 0|            0|          1|     1619827200|(6000,[2256],[1.0])|                0|                   1|                 0|                 1|                 0|                 0|                 0|\n",
      "+------------+--------------------+---------+--------------------------+-------------------+-------------------+---------------+---------------+---------------+---------------+---------------+----------------+------------+-------------------+--------------+--------------+---------------+--------------+---------------+---------------+-----------------+---------------+----------------+----------------+-------------------+------------+----------------+------------------+-------------+-------------+---------------+---------------+-------------+--------------+--------------------+--------------+-------------------+-----------------+--------------+-----------------+--------------+-------------------+--------------+---------------+---------------+-------------+--------------+-------------------+--------------+--------------+----------------+-------------+-------------+---------------+---------------+----------------+----------------+---------------+------------------+----------------+-------------------+--------------------+----------------+-------------+-------------+------------------+-----------------+--------------+-----------------+------------------+----------------+----------------+-------------+----------------+-----------------+-------------+-------------------+----------------+-------------+-------------+------------+-------------------+-------------+-------------------+----------------+---------------+------------+---------------+---------------------+------------+-------------+---------------+------------------+--------------+----------------+-----------------+-------+--------+--------------+-----------+------------------+--------------------------+------------------+------------------+--------------------------+------------------------+-----------------+----------------------+------------------------+----------------------+------------------+---------------------+--------+---------+--------+---------+--------+---------+---------+---------+------------------+-------------+-----------+---------------+-------------------+-----------------+--------------------+------------------+------------------+------------------+------------------+------------------+\n",
      "only showing top 5 rows\n",
      "\n"
     ]
    }
   ],
   "source": [
    "segments = full_transaction.select(\"merchant_segment\").distinct().rdd.flatMap(lambda x: x).collect()\n",
    "\n",
    "for segment in segments:\n",
    "    full_transaction = full_transaction.withColumn(f\"merchant_segment_{segment}\", when(col(\"merchant_segment\") == segment, 1).otherwise(0))\n",
    "\n",
    "full_transaction = full_transaction.drop(\"merchant_segment\")\n",
    "full_transaction.show(5)"
   ]
  },
  {
   "cell_type": "markdown",
   "metadata": {},
   "source": [
    "Check the shape of the dataset:"
   ]
  },
  {
   "cell_type": "code",
   "execution_count": 21,
   "metadata": {},
   "outputs": [
    {
     "name": "stdout",
     "output_type": "stream",
     "text": [
      "Number of rows: 11304463\n",
      "Number of columns: 132\n"
     ]
    }
   ],
   "source": [
    "num_rows = full_transaction.count()\n",
    "print(f\"Number of rows: {num_rows}\")\n",
    "\n",
    "num_columns = len(full_transaction.columns)\n",
    "print(f\"Number of columns: {num_columns}\")"
   ]
  },
  {
   "cell_type": "code",
   "execution_count": 22,
   "metadata": {},
   "outputs": [
    {
     "name": "stdout",
     "output_type": "stream",
     "text": [
      "root\n",
      " |-- merchant_abn: long (nullable = true)\n",
      " |-- order_id: string (nullable = true)\n",
      " |-- take_rate: float (nullable = true)\n",
      " |-- merchant_fraud_probability: double (nullable = true)\n",
      " |-- transaction_revenue: double (nullable = true)\n",
      " |-- BNPL_revenue: double (nullable = true)\n",
      " |-- revenue_level_e: integer (nullable = true)\n",
      " |-- revenue_level_d: integer (nullable = true)\n",
      " |-- revenue_level_c: integer (nullable = true)\n",
      " |-- revenue_level_b: integer (nullable = true)\n",
      " |-- revenue_level_a: integer (nullable = true)\n",
      " |-- category_jewelry: integer (nullable = true)\n",
      " |-- category_art: integer (nullable = true)\n",
      " |-- category_television: integer (nullable = true)\n",
      " |-- category_watch: integer (nullable = true)\n",
      " |-- category_cable: integer (nullable = true)\n",
      " |-- category_repair: integer (nullable = true)\n",
      " |-- category_stock: integer (nullable = true)\n",
      " |-- category_flower: integer (nullable = true)\n",
      " |-- category_office: integer (nullable = true)\n",
      " |-- category_souvenir: integer (nullable = true)\n",
      " |-- category_goods:: integer (nullable = true)\n",
      " |-- category_novelty: integer (nullable = true)\n",
      " |-- category_optical: integer (nullable = true)\n",
      " |-- category_integrated: integer (nullable = true)\n",
      " |-- category_new: integer (nullable = true)\n",
      " |-- category_antique: integer (nullable = true)\n",
      " |-- category_newspaper: integer (nullable = true)\n",
      " |-- category_shoe: integer (nullable = true)\n",
      " |-- category_tent: integer (nullable = true)\n",
      " |-- category_beauty: integer (nullable = true)\n",
      " |-- category_system: integer (nullable = true)\n",
      " |-- category_lawn: integer (nullable = true)\n",
      " |-- category_sheet: integer (nullable = true)\n",
      " |-- category_programming: integer (nullable = true)\n",
      " |-- category_radio: integer (nullable = true)\n",
      " |-- category_stationery: integer (nullable = true)\n",
      " |-- category_optician: integer (nullable = true)\n",
      " |-- category_paper: integer (nullable = true)\n",
      " |-- category_software: integer (nullable = true)\n",
      " |-- category_clock: integer (nullable = true)\n",
      " |-- category_peripheral: integer (nullable = true)\n",
      " |-- category_craft: integer (nullable = true)\n",
      " |-- category_awning: integer (nullable = true)\n",
      " |-- category_garden: integer (nullable = true)\n",
      " |-- category_data: integer (nullable = true)\n",
      " |-- category_music: integer (nullable = true)\n",
      " |-- category_silverware: integer (nullable = true)\n",
      " |-- category_movie: integer (nullable = true)\n",
      " |-- category_hobby: integer (nullable = true)\n",
      " |-- category_digital: integer (nullable = true)\n",
      " |-- category_sale: integer (nullable = true)\n",
      " |-- category_tool: integer (nullable = true)\n",
      " |-- category_artist: integer (nullable = true)\n",
      " |-- category_health: integer (nullable = true)\n",
      " |-- category_writing: integer (nullable = true)\n",
      " |-- category_musical: integer (nullable = true)\n",
      " |-- category_outlet: integer (nullable = true)\n",
      " |-- category_furniture: integer (nullable = true)\n",
      " |-- category_florist: integer (nullable = true)\n",
      " |-- category_periodical: integer (nullable = true)\n",
      " |-- category_restoration: integer (nullable = true)\n",
      " |-- category_telecom: integer (nullable = true)\n",
      " |-- category_part: integer (nullable = true)\n",
      " |-- category_card: integer (nullable = true)\n",
      " |-- category_satellite: integer (nullable = true)\n",
      " |-- category_eyeglass: integer (nullable = true)\n",
      " |-- category_motor: integer (nullable = true)\n",
      " |-- category_computer: integer (nullable = true)\n",
      " |-- category_equipment: integer (nullable = true)\n",
      " |-- category_service: integer (nullable = true)\n",
      " |-- category_leasing: integer (nullable = true)\n",
      " |-- category_gift: integer (nullable = true)\n",
      " |-- category_vehicle: integer (nullable = true)\n",
      " |-- category_printing: integer (nullable = true)\n",
      " |-- category_home: integer (nullable = true)\n",
      " |-- category_instrument: integer (nullable = true)\n",
      " |-- category_nursery: integer (nullable = true)\n",
      " |-- category_good: integer (nullable = true)\n",
      " |-- category_game: integer (nullable = true)\n",
      " |-- category_spa: integer (nullable = true)\n",
      " |-- category_furnishing: integer (nullable = true)\n",
      " |-- category_rent: integer (nullable = true)\n",
      " |-- category_processing: integer (nullable = true)\n",
      " |-- category_gallery: integer (nullable = true)\n",
      " |-- category_supply: integer (nullable = true)\n",
      " |-- category_pay: integer (nullable = true)\n",
      " |-- category_design: integer (nullable = true)\n",
      " |-- category_manufacturer: integer (nullable = true)\n",
      " |-- category_toy: integer (nullable = true)\n",
      " |-- category_book: integer (nullable = true)\n",
      " |-- category_dealer: integer (nullable = true)\n",
      " |-- category_appliance: integer (nullable = true)\n",
      " |-- category_piano: integer (nullable = true)\n",
      " |-- category_bicycle: integer (nullable = true)\n",
      " |-- merchant_is_fraud: integer (nullable = true)\n",
      " |-- user_id: long (nullable = true)\n",
      " |-- postcode: integer (nullable = true)\n",
      " |-- order_datetime: date (nullable = true)\n",
      " |-- consumer_id: long (nullable = true)\n",
      " |-- dollar_value: double (nullable = true)\n",
      " |-- consumer_fraud_probability: double (nullable = true)\n",
      " |-- average_population: double (nullable = true)\n",
      " |-- avg_age_persons: double (nullable = true)\n",
      " |-- avg_mortgage_repay_monthly: double (nullable = true)\n",
      " |-- avg_tot_prsnl_inc_weekly: double (nullable = true)\n",
      " |-- avg_rent_weekly: double (nullable = true)\n",
      " |-- avg_tot_fam_inc_weekly: double (nullable = true)\n",
      " |-- avg_num_psns_per_bedroom: double (nullable = true)\n",
      " |-- avg_tot_hhd_inc_weekly: double (nullable = true)\n",
      " |-- avg_household_size: double (nullable = true)\n",
      " |-- avg_unemployment_rate: double (nullable = true)\n",
      " |-- state_NT: integer (nullable = true)\n",
      " |-- state_ACT: integer (nullable = true)\n",
      " |-- state_SA: integer (nullable = true)\n",
      " |-- state_TAS: integer (nullable = true)\n",
      " |-- state_WA: integer (nullable = true)\n",
      " |-- state_QLD: integer (nullable = true)\n",
      " |-- state_VIC: integer (nullable = true)\n",
      " |-- state_NSW: integer (nullable = true)\n",
      " |-- gender_Undisclosed: integer (nullable = true)\n",
      " |-- gender_Female: integer (nullable = true)\n",
      " |-- gender_Male: integer (nullable = true)\n",
      " |-- order_timestamp: long (nullable = true)\n",
      " |-- hashed_postcode: vector (nullable = true)\n",
      " |-- consumer_is_fraud: integer (nullable = true)\n",
      " |-- transaction_is_fraud: integer (nullable = true)\n",
      " |-- merchant_segment_1: integer (nullable = false)\n",
      " |-- merchant_segment_3: integer (nullable = false)\n",
      " |-- merchant_segment_5: integer (nullable = false)\n",
      " |-- merchant_segment_4: integer (nullable = false)\n",
      " |-- merchant_segment_2: integer (nullable = false)\n",
      "\n"
     ]
    }
   ],
   "source": [
    "full_transaction.printSchema()"
   ]
  },
  {
   "cell_type": "markdown",
   "metadata": {},
   "source": [
    "Confirm there is no nulls:"
   ]
  },
  {
   "cell_type": "code",
   "execution_count": 23,
   "metadata": {},
   "outputs": [
    {
     "name": "stderr",
     "output_type": "stream",
     "text": [
      "[Stage 105:============================================>           (8 + 2) / 10]\r"
     ]
    },
    {
     "name": "stdout",
     "output_type": "stream",
     "text": [
      "+------------+--------+---------+--------------------------+-------------------+------------+---------------+---------------+---------------+---------------+---------------+----------------+------------+-------------------+--------------+--------------+---------------+--------------+---------------+---------------+-----------------+---------------+----------------+----------------+-------------------+------------+----------------+------------------+-------------+-------------+---------------+---------------+-------------+--------------+--------------------+--------------+-------------------+-----------------+--------------+-----------------+--------------+-------------------+--------------+---------------+---------------+-------------+--------------+-------------------+--------------+--------------+----------------+-------------+-------------+---------------+---------------+----------------+----------------+---------------+------------------+----------------+-------------------+--------------------+----------------+-------------+-------------+------------------+-----------------+--------------+-----------------+------------------+----------------+----------------+-------------+----------------+-----------------+-------------+-------------------+----------------+-------------+-------------+------------+-------------------+-------------+-------------------+----------------+---------------+------------+---------------+---------------------+------------+-------------+---------------+------------------+--------------+----------------+-----------------+-------+--------+--------------+-----------+------------+--------------------------+------------------+---------------+--------------------------+------------------------+---------------+----------------------+------------------------+----------------------+------------------+---------------------+--------+---------+--------+---------+--------+---------+---------+---------+------------------+-------------+-----------+---------------+---------------+-----------------+--------------------+------------------+------------------+------------------+------------------+------------------+\n",
      "|merchant_abn|order_id|take_rate|merchant_fraud_probability|transaction_revenue|BNPL_revenue|revenue_level_e|revenue_level_d|revenue_level_c|revenue_level_b|revenue_level_a|category_jewelry|category_art|category_television|category_watch|category_cable|category_repair|category_stock|category_flower|category_office|category_souvenir|category_goods:|category_novelty|category_optical|category_integrated|category_new|category_antique|category_newspaper|category_shoe|category_tent|category_beauty|category_system|category_lawn|category_sheet|category_programming|category_radio|category_stationery|category_optician|category_paper|category_software|category_clock|category_peripheral|category_craft|category_awning|category_garden|category_data|category_music|category_silverware|category_movie|category_hobby|category_digital|category_sale|category_tool|category_artist|category_health|category_writing|category_musical|category_outlet|category_furniture|category_florist|category_periodical|category_restoration|category_telecom|category_part|category_card|category_satellite|category_eyeglass|category_motor|category_computer|category_equipment|category_service|category_leasing|category_gift|category_vehicle|category_printing|category_home|category_instrument|category_nursery|category_good|category_game|category_spa|category_furnishing|category_rent|category_processing|category_gallery|category_supply|category_pay|category_design|category_manufacturer|category_toy|category_book|category_dealer|category_appliance|category_piano|category_bicycle|merchant_is_fraud|user_id|postcode|order_datetime|consumer_id|dollar_value|consumer_fraud_probability|average_population|avg_age_persons|avg_mortgage_repay_monthly|avg_tot_prsnl_inc_weekly|avg_rent_weekly|avg_tot_fam_inc_weekly|avg_num_psns_per_bedroom|avg_tot_hhd_inc_weekly|avg_household_size|avg_unemployment_rate|state_NT|state_ACT|state_SA|state_TAS|state_WA|state_QLD|state_VIC|state_NSW|gender_Undisclosed|gender_Female|gender_Male|order_timestamp|hashed_postcode|consumer_is_fraud|transaction_is_fraud|merchant_segment_1|merchant_segment_3|merchant_segment_5|merchant_segment_4|merchant_segment_2|\n",
      "+------------+--------+---------+--------------------------+-------------------+------------+---------------+---------------+---------------+---------------+---------------+----------------+------------+-------------------+--------------+--------------+---------------+--------------+---------------+---------------+-----------------+---------------+----------------+----------------+-------------------+------------+----------------+------------------+-------------+-------------+---------------+---------------+-------------+--------------+--------------------+--------------+-------------------+-----------------+--------------+-----------------+--------------+-------------------+--------------+---------------+---------------+-------------+--------------+-------------------+--------------+--------------+----------------+-------------+-------------+---------------+---------------+----------------+----------------+---------------+------------------+----------------+-------------------+--------------------+----------------+-------------+-------------+------------------+-----------------+--------------+-----------------+------------------+----------------+----------------+-------------+----------------+-----------------+-------------+-------------------+----------------+-------------+-------------+------------+-------------------+-------------+-------------------+----------------+---------------+------------+---------------+---------------------+------------+-------------+---------------+------------------+--------------+----------------+-----------------+-------+--------+--------------+-----------+------------+--------------------------+------------------+---------------+--------------------------+------------------------+---------------+----------------------+------------------------+----------------------+------------------+---------------------+--------+---------+--------+---------+--------+---------+---------+---------+------------------+-------------+-----------+---------------+---------------+-----------------+--------------------+------------------+------------------+------------------+------------------+------------------+\n",
      "|           0|       0|        0|                         0|                  0|           0|              0|              0|              0|              0|              0|               0|           0|                  0|             0|             0|              0|             0|              0|              0|                0|              0|               0|               0|                  0|           0|               0|                 0|            0|            0|              0|              0|            0|             0|                   0|             0|                  0|                0|             0|                0|             0|                  0|             0|              0|              0|            0|             0|                  0|             0|             0|               0|            0|            0|              0|              0|               0|               0|              0|                 0|               0|                  0|                   0|               0|            0|            0|                 0|                0|             0|                0|                 0|               0|               0|            0|               0|                0|            0|                  0|               0|            0|            0|           0|                  0|            0|                  0|               0|              0|           0|              0|                    0|           0|            0|              0|                 0|             0|               0|                0|      0|       0|             0|          0|           0|                         0|                 0|              0|                         0|                       0|              0|                     0|                       0|                     0|                 0|                    0|       0|        0|       0|        0|       0|        0|        0|        0|                 0|            0|          0|              0|              0|                0|                   0|                 0|                 0|                 0|                 0|                 0|\n",
      "+------------+--------+---------+--------------------------+-------------------+------------+---------------+---------------+---------------+---------------+---------------+----------------+------------+-------------------+--------------+--------------+---------------+--------------+---------------+---------------+-----------------+---------------+----------------+----------------+-------------------+------------+----------------+------------------+-------------+-------------+---------------+---------------+-------------+--------------+--------------------+--------------+-------------------+-----------------+--------------+-----------------+--------------+-------------------+--------------+---------------+---------------+-------------+--------------+-------------------+--------------+--------------+----------------+-------------+-------------+---------------+---------------+----------------+----------------+---------------+------------------+----------------+-------------------+--------------------+----------------+-------------+-------------+------------------+-----------------+--------------+-----------------+------------------+----------------+----------------+-------------+----------------+-----------------+-------------+-------------------+----------------+-------------+-------------+------------+-------------------+-------------+-------------------+----------------+---------------+------------+---------------+---------------------+------------+-------------+---------------+------------------+--------------+----------------+-----------------+-------+--------+--------------+-----------+------------+--------------------------+------------------+---------------+--------------------------+------------------------+---------------+----------------------+------------------------+----------------------+------------------+---------------------+--------+---------+--------+---------+--------+---------+---------+---------+------------------+-------------+-----------+---------------+---------------+-----------------+--------------------+------------------+------------------+------------------+------------------+------------------+\n",
      "\n"
     ]
    },
    {
     "name": "stderr",
     "output_type": "stream",
     "text": [
      "                                                                                \r"
     ]
    }
   ],
   "source": [
    "# create a dictionary with column names and their respective null counts\n",
    "null_count_dict = {col_name: sum(col(col_name).isNull().cast(\"int\")).alias(col_name) for col_name in full_transaction.columns}\n",
    "\n",
    "# use agg() to calculate null counts for each column\n",
    "null_counts_df = full_transaction.agg(*null_count_dict.values())\n",
    "null_counts_df.show()"
   ]
  },
  {
   "cell_type": "code",
   "execution_count": 24,
   "metadata": {},
   "outputs": [
    {
     "name": "stderr",
     "output_type": "stream",
     "text": [
      "                                                                                \r"
     ]
    }
   ],
   "source": [
    "# save as a parquet file\n",
    "full_transaction.write.parquet('../data/curated/full_transaction_with_segments', mode='overwrite')"
   ]
  }
 ],
 "metadata": {
  "kernelspec": {
   "display_name": "Python 3",
   "language": "python",
   "name": "python3"
  },
  "language_info": {
   "codemirror_mode": {
    "name": "ipython",
    "version": 3
   },
   "file_extension": ".py",
   "mimetype": "text/x-python",
   "name": "python",
   "nbconvert_exporter": "python",
   "pygments_lexer": "ipython3",
   "version": "3.11.3"
  }
 },
 "nbformat": 4,
 "nbformat_minor": 2
}
