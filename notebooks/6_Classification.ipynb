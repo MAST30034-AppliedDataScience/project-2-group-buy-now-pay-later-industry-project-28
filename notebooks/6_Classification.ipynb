{
 "cells": [
  {
   "cell_type": "markdown",
   "metadata": {},
   "source": [
    "# Classification of Merchants"
   ]
  },
  {
   "cell_type": "markdown",
   "metadata": {},
   "source": [
    "Using K-Means to classify, and evaluate the classification results by Silhouette Score and WCSS."
   ]
  },
  {
   "cell_type": "markdown",
   "metadata": {},
   "source": [
    "---"
   ]
  },
  {
   "cell_type": "code",
   "execution_count": 56,
   "metadata": {},
   "outputs": [],
   "source": [
    "from pyspark.sql import SparkSession\n",
    "from pyspark.sql.functions import col, udf, sum\n",
    "from pyspark.sql.types import DoubleType\n",
    "from pyspark.ml.feature import StringIndexer, VectorAssembler\n",
    "from pyspark.ml.clustering import KMeans\n",
    "from pyspark.ml.linalg import Vectors\n",
    "from pyspark.ml.evaluation import ClusteringEvaluator"
   ]
  },
  {
   "cell_type": "code",
   "execution_count": 37,
   "metadata": {},
   "outputs": [],
   "source": [
    "spark = (\n",
    "    SparkSession.builder.appName(\"Classification\")\n",
    "    .config(\"spark.sql.repl.eagerEval.enabled\", True) \n",
    "    .config(\"spark.sql.parquet.cacheMetadata\", \"true\")\n",
    "    .config(\"spark.sql.session.timeZone\", \"Etc/UTC\")\n",
    "    .config(\"spark.sql.debug.maxToStringFields\", 3000)\n",
    "    .config(\"spark.network.timeout\", \"300s\")\n",
    "    .config(\"spark.driver.maxResultSize\", \"4g\")\n",
    "    .config(\"spark.rpc.askTimeout\", \"300s\")\n",
    "    .config(\"spark.driver.memory\", \"8G\")\n",
    "    .config(\"spark.executor.memory\", \"8G\")\n",
    "    .getOrCreate()\n",
    ")"
   ]
  },
  {
   "cell_type": "markdown",
   "metadata": {},
   "source": [
    "# Read dataset"
   ]
  },
  {
   "cell_type": "code",
   "execution_count": 38,
   "metadata": {},
   "outputs": [],
   "source": [
    "merchant_detail = spark.read.parquet('../data/curated/merchant_detail')\n",
    "full_transaction = spark.read.parquet('../data/curated/full_transaction')"
   ]
  },
  {
   "cell_type": "code",
   "execution_count": 39,
   "metadata": {},
   "outputs": [
    {
     "name": "stdout",
     "output_type": "stream",
     "text": [
      "+--------------------+------------+-------------+---------+--------------------+\n",
      "|                name|merchant_abn|revenue_level|take_rate|  processed_category|\n",
      "+--------------------+------------+-------------+---------+--------------------+\n",
      "|fusce aliquet lim...| 17189523131|            c|     1.59|writing paper sup...|\n",
      "|    cum sociis corp.| 22528859307|            a|      6.4|shop jewelry repa...|\n",
      "|morbi vehicula li...| 32413511882|            b|     3.35|vehicle new part ...|\n",
      "|vel nisl incorpor...| 32897338221|            a|      6.2|souvenir card sho...|\n",
      "|    egestas sed inc.| 34082818630|            a|     6.86|digital book musi...|\n",
      "+--------------------+------------+-------------+---------+--------------------+\n",
      "only showing top 5 rows\n",
      "\n"
     ]
    }
   ],
   "source": [
    "merchant_detail.show(5)"
   ]
  },
  {
   "cell_type": "code",
   "execution_count": 40,
   "metadata": {},
   "outputs": [
    {
     "name": "stdout",
     "output_type": "stream",
     "text": [
      "+------------+------------------------------------+---------+--------------------------+-------------------+--------------------+---------------+---------------+---------------+---------------+---------------+----------------+------------+-------------------+--------------+--------------+---------------+--------------+---------------+---------------+-----------------+---------------+----------------+----------------+-------------------+------------+----------------+------------------+-------------+-------------+-------------+---------------+---------------+-------------+--------------+--------------------+--------------+-------------------+-----------------+--------------+-----------------+--------------+-------------------+--------------+--------------+---------------+---------------+-------------+--------------+-------------------+--------------+--------------+----------------+-------------+-------------+---------------+-----------+---------------+---------------+----------------+----------------+---------------+------------------+----------------+-------------------+------------+--------------------+----------------+-------------+-------------+------------------+-----------------+--------------+-----------------+------------------+----------------+------------------+----------------+-------------+----------------+-----------------+-------------+-------------------+----------------+-------------+-------------+------------+-------------------+-------------+-------------------+----------------+---------------+------------+---------------+---------------------+------------+-------------+---------------+------------------+--------------+----------------+-----------------+-------+--------+-----------+---------------+-----+--------------------------+------------------+------------------+-----------------------------+---------------------------+------------------+-------------------------+----------------------------+-------------------------+----------------------+-----------------+--------+---------+--------+---------+--------+---------+---------+---------+------------------+-------------+-----------+-------------------+-----------------+--------------------+\n",
      "|merchant_abn|order_id                            |take_rate|merchant_fraud_probability|transaction_revenue|BNLP_revenue        |revenue_level_e|revenue_level_d|revenue_level_c|revenue_level_b|revenue_level_a|category_jewelry|category_art|category_television|category_watch|category_cable|category_repair|category_stock|category_flower|category_office|category_souvenir|category_goods:|category_novelty|category_optical|category_integrated|category_new|category_antique|category_newspaper|category_shop|category_shoe|category_tent|category_beauty|category_system|category_lawn|category_sheet|category_programming|category_radio|category_stationery|category_optician|category_paper|category_software|category_clock|category_peripheral|category_other|category_craft|category_awning|category_garden|category_data|category_music|category_silverware|category_movie|category_hobby|category_digital|category_sale|category_tool|category_except|category_al|category_artist|category_health|category_writing|category_musical|category_outlet|category_furniture|category_florist|category_periodical|category_and|category_restoration|category_telecom|category_part|category_card|category_satellite|category_eyeglass|category_motor|category_computer|category_equipment|category_service|category_including|category_leasing|category_gift|category_vehicle|category_printing|category_home|category_instrument|category_nursery|category_good|category_game|category_spa|category_furnishing|category_rent|category_processing|category_gallery|category_supply|category_pay|category_design|category_manufacturer|category_toy|category_book|category_dealer|category_appliance|category_piano|category_bicycle|merchant_is_fraud|user_id|postcode|consumer_id|name           |state|consumer_fraud_probability|average_population|Median_age_persons|Median_mortgage_repay_monthly|Median_tot_prsnl_inc_weekly|Median_rent_weekly|Median_tot_fam_inc_weekly|Average_num_psns_per_bedroom|Median_tot_hhd_inc_weekly|Average_household_size|unemployment_rate|state_NT|state_ACT|state_SA|state_TAS|state_WA|state_QLD|state_VIC|state_NSW|gender_Undisclosed|gender_Female|gender_Male|hashed_postcode    |consumer_is_fraud|transaction_is_fraud|\n",
      "+------------+------------------------------------+---------+--------------------------+-------------------+--------------------+---------------+---------------+---------------+---------------+---------------+----------------+------------+-------------------+--------------+--------------+---------------+--------------+---------------+---------------+-----------------+---------------+----------------+----------------+-------------------+------------+----------------+------------------+-------------+-------------+-------------+---------------+---------------+-------------+--------------+--------------------+--------------+-------------------+-----------------+--------------+-----------------+--------------+-------------------+--------------+--------------+---------------+---------------+-------------+--------------+-------------------+--------------+--------------+----------------+-------------+-------------+---------------+-----------+---------------+---------------+----------------+----------------+---------------+------------------+----------------+-------------------+------------+--------------------+----------------+-------------+-------------+------------------+-----------------+--------------+-----------------+------------------+----------------+------------------+----------------+-------------+----------------+-----------------+-------------+-------------------+----------------+-------------+-------------+------------+-------------------+-------------+-------------------+----------------+---------------+------------+---------------+---------------------+------------+-------------+---------------+------------------+--------------+----------------+-----------------+-------+--------+-----------+---------------+-----+--------------------------+------------------+------------------+-----------------------------+---------------------------+------------------+-------------------------+----------------------------+-------------------------+----------------------+-----------------+--------+---------+--------+---------+--------+---------+---------+---------+------------------+-------------+-----------+-------------------+-----------------+--------------------+\n",
      "|10023283211 |0f40e65b-8e60-4779-9a05-01488779b3b3|0.18     |69.57774986999281         |102.75361545099766 |0.18529003779479805 |1              |0              |0              |0              |0              |0               |0           |0                  |0             |0             |0              |0             |0              |0              |0                |0              |0               |0               |0                  |0           |0               |0                 |1            |0            |0            |0              |0              |0            |0             |0                   |0             |0                  |0                |0             |0                |0             |0                  |0             |0             |0              |0              |0            |0             |0                  |0             |0             |0               |0            |0            |1              |0          |0              |0              |0               |0               |0              |1                 |0               |0                  |1           |0                   |0               |0            |0            |0                 |0                |0             |0                |1                 |0               |0                 |0               |0            |0               |0                |1            |0                  |0               |0            |0            |0           |1                  |0            |0                  |0               |0              |0           |0              |1                    |0           |0            |0              |1                 |0             |0               |1                |23915  |3739    |433238     |Heather Dorsey |VIC  |9.785541883342017         |4706.0            |50                |1400                         |683                        |250               |1673                     |0.7                         |1226                     |2.3                   |2.4              |0       |0        |0       |0        |0       |0        |1        |0        |0                 |1            |0          |(6000,[4979],[1.0])|0                |1                   |\n",
      "|10023283211 |1485f0cb-cdec-46f5-b635-1092ab5b178d|0.18     |69.5332110977256          |378.025169579195   |0.6816723445815639  |1              |0              |0              |0              |0              |0               |0           |0                  |0             |0             |0              |0             |0              |0              |0                |0              |0               |0               |0                  |0           |0               |0                 |1            |0            |0            |0              |0              |0            |0             |0                   |0             |0                  |0                |0             |0                |0             |0                  |0             |0             |0              |0              |0            |0             |0                  |0             |0             |0               |0            |0            |1              |0          |0              |0              |0               |0               |0              |1                 |0               |0                  |1           |0                   |0               |0            |0            |0                 |0                |0             |0                |1                 |0               |0                 |0               |0            |0               |0                |1            |0                  |0               |0            |0            |0           |1                  |0            |0                  |0               |0              |0           |0              |1                    |0           |0            |0              |1                 |0             |0               |1                |72     |7026    |1393909    |Mark Craig     |TAS  |29.39761285309642         |6870.5            |44                |1300                         |661                        |250               |1601                     |0.8                         |1330                     |2.5                   |4.8              |0       |0        |0       |1        |0       |0        |0        |0        |0                 |0            |1          |(6000,[2510],[1.0])|0                |1                   |\n",
      "|10023283211 |1d24245b-ffe3-4181-850c-2e36d3bd88e1|0.18     |69.53168402834002         |165.3690082492492  |0.29820098936766076 |1              |0              |0              |0              |0              |0               |0           |0                  |0             |0             |0              |0             |0              |0              |0                |0              |0               |0               |0                  |0           |0               |0                 |1            |0            |0            |0              |0              |0            |0             |0                   |0             |0                  |0                |0             |0                |0             |0                  |0             |0             |0              |0              |0            |0             |0                  |0             |0             |0               |0            |0            |1              |0          |0              |0              |0               |0               |0              |1                 |0               |0                  |1           |0                   |0               |0            |0            |0                 |0                |0             |0                |1                 |0               |0                 |0               |0            |0               |0                |1            |0                  |0               |0            |0            |0           |1                  |0            |0                  |0               |0              |0           |0              |1                    |0           |0            |0              |1                 |0             |0               |1                |9114   |2415    |414177     |Timothy Vincent|NSW  |15.580764782937514        |5256.0            |51                |1538                         |577                        |300               |1449                     |0.8                         |1189                     |2.4                   |5.6              |0       |0        |0       |0        |0       |0        |0        |1        |0                 |0            |1          |(6000,[2849],[1.0])|0                |1                   |\n",
      "|10023283211 |1dafd948-8286-4fdc-a5ba-f967cb206451|0.18     |69.59840622750802         |15.937696792886276 |0.028739586710934146|1              |0              |0              |0              |0              |0               |0           |0                  |0             |0             |0              |0             |0              |0              |0                |0              |0               |0               |0                  |0           |0               |0                 |1            |0            |0            |0              |0              |0            |0             |0                   |0             |0                  |0                |0             |0                |0             |0                  |0             |0             |0              |0              |0            |0             |0                  |0             |0             |0               |0            |0            |1              |0          |0              |0              |0               |0               |0              |1                 |0               |0                  |1           |0                   |0               |0            |0            |0                 |0                |0             |0                |1                 |0               |0                 |0               |0            |0               |0                |1            |0                  |0               |0            |0            |0           |1                  |0            |0                  |0               |0              |0           |0              |1                    |0           |0            |0              |1                 |0             |0               |1                |16628  |4005    |829172     |Michelle Gray  |QLD  |14.762066512396007        |31625.5           |39                |4276                         |2625                       |855               |6078                     |1.9                         |4229                     |3.5999999999999996    |7.6              |0       |0        |0       |0        |0       |1        |0        |0        |0                 |1            |0          |(6000,[1485],[1.0])|0                |1                   |\n",
      "|10023283211 |2295379b-6186-4a58-b186-9f4f095e0548|0.18     |69.57816028805148         |105.04968883242657 |0.18943042275115496 |1              |0              |0              |0              |0              |0               |0           |0                  |0             |0             |0              |0             |0              |0              |0                |0              |0               |0               |0                  |0           |0               |0                 |1            |0            |0            |0              |0              |0            |0             |0                   |0             |0                  |0                |0             |0                |0             |0                  |0             |0             |0              |0              |0            |0             |0                  |0             |0             |0               |0            |0            |1              |0          |0              |0              |0               |0               |0              |1                 |0               |0                  |1           |0                   |0               |0            |0            |0                 |0                |0             |0                |1                 |0               |0                 |0               |0            |0               |0                |1            |0                  |0               |0            |0            |0           |1                  |0            |0                  |0               |0              |0           |0              |1                    |0           |0            |0              |1                 |0             |0               |1                |22846  |6646    |822834     |Melissa Griffin|WA   |10.637819879650458        |3380.5            |38                |650                          |1024                       |120               |1351                     |0.8                         |1202                     |2.2                   |4.8              |0       |0        |0       |0        |1       |0        |0        |0        |0                 |1            |0          |(6000,[3787],[1.0])|0                |1                   |\n",
      "+------------+------------------------------------+---------+--------------------------+-------------------+--------------------+---------------+---------------+---------------+---------------+---------------+----------------+------------+-------------------+--------------+--------------+---------------+--------------+---------------+---------------+-----------------+---------------+----------------+----------------+-------------------+------------+----------------+------------------+-------------+-------------+-------------+---------------+---------------+-------------+--------------+--------------------+--------------+-------------------+-----------------+--------------+-----------------+--------------+-------------------+--------------+--------------+---------------+---------------+-------------+--------------+-------------------+--------------+--------------+----------------+-------------+-------------+---------------+-----------+---------------+---------------+----------------+----------------+---------------+------------------+----------------+-------------------+------------+--------------------+----------------+-------------+-------------+------------------+-----------------+--------------+-----------------+------------------+----------------+------------------+----------------+-------------+----------------+-----------------+-------------+-------------------+----------------+-------------+-------------+------------+-------------------+-------------+-------------------+----------------+---------------+------------+---------------+---------------------+------------+-------------+---------------+------------------+--------------+----------------+-----------------+-------+--------+-----------+---------------+-----+--------------------------+------------------+------------------+-----------------------------+---------------------------+------------------+-------------------------+----------------------------+-------------------------+----------------------+-----------------+--------+---------+--------+---------+--------+---------+---------+---------+------------------+-------------+-----------+-------------------+-----------------+--------------------+\n",
      "only showing top 5 rows\n",
      "\n"
     ]
    }
   ],
   "source": [
    "full_transaction.show(5, truncate=False)"
   ]
  },
  {
   "cell_type": "markdown",
   "metadata": {},
   "source": [
    "# Create feature vectors"
   ]
  },
  {
   "cell_type": "code",
   "execution_count": 41,
   "metadata": {},
   "outputs": [
    {
     "name": "stdout",
     "output_type": "stream",
     "text": [
      "+--------------------+------------+-------------+---------+--------------------+--------------+\n",
      "|                name|merchant_abn|revenue_level|take_rate|  processed_category|category_index|\n",
      "+--------------------+------------+-------------+---------+--------------------+--------------+\n",
      "|fusce aliquet lim...| 17189523131|            c|     1.59|writing paper sup...|          15.0|\n",
      "|    cum sociis corp.| 22528859307|            a|      6.4|shop jewelry repa...|          11.0|\n",
      "|morbi vehicula li...| 32413511882|            b|     3.35|vehicle new part ...|          18.0|\n",
      "|vel nisl incorpor...| 32897338221|            a|      6.2|souvenir card sho...|           5.0|\n",
      "|    egestas sed inc.| 34082818630|            a|     6.86|digital book musi...|           0.0|\n",
      "+--------------------+------------+-------------+---------+--------------------+--------------+\n",
      "only showing top 5 rows\n",
      "\n"
     ]
    }
   ],
   "source": [
    "# convert string features to numerical features\n",
    "indexer = StringIndexer(inputCol=\"processed_category\", outputCol=\"category_index\")\n",
    "indexed_df = indexer.fit(merchant_detail).transform(merchant_detail)\n",
    "indexed_df.show(5)"
   ]
  },
  {
   "cell_type": "code",
   "execution_count": 42,
   "metadata": {},
   "outputs": [],
   "source": [
    "# convert string features to numerical features\n",
    "indexer = StringIndexer(inputCol=\"processed_category\", outputCol=\"category_index\")\n",
    "indexed_df = indexer.fit(merchant_detail).transform(merchant_detail)\n",
    "\n",
    "# create feature vectors\n",
    "feature_columns = ['category_index']\n",
    "assembler = VectorAssembler(inputCols=feature_columns, outputCol=\"features\")\n",
    "feature_data = assembler.transform(indexed_df)"
   ]
  },
  {
   "cell_type": "markdown",
   "metadata": {},
   "source": [
    "# Perform K-Means clustering with 5 clusters"
   ]
  },
  {
   "cell_type": "code",
   "execution_count": 43,
   "metadata": {},
   "outputs": [
    {
     "name": "stdout",
     "output_type": "stream",
     "text": [
      "+--------------------+------------+-------------+---------+--------------------+--------------+--------+----------+\n",
      "|                name|merchant_abn|revenue_level|take_rate|  processed_category|category_index|features|prediction|\n",
      "+--------------------+------------+-------------+---------+--------------------+--------------+--------+----------+\n",
      "|fusce aliquet lim...| 17189523131|            c|     1.59|writing paper sup...|          15.0|  [15.0]|         4|\n",
      "|    cum sociis corp.| 22528859307|            a|      6.4|shop jewelry repa...|          11.0|  [11.0]|         0|\n",
      "|morbi vehicula li...| 32413511882|            b|     3.35|vehicle new part ...|          18.0|  [18.0]|         4|\n",
      "|vel nisl incorpor...| 32897338221|            a|      6.2|souvenir card sho...|           5.0|   [5.0]|         2|\n",
      "|    egestas sed inc.| 34082818630|            a|     6.86|digital book musi...|           0.0|   [0.0]|         1|\n",
      "+--------------------+------------+-------------+---------+--------------------+--------------+--------+----------+\n",
      "only showing top 5 rows\n",
      "\n"
     ]
    }
   ],
   "source": [
    "kmeans = KMeans(k=5, seed=42)\n",
    "model = kmeans.fit(feature_data)\n",
    "predictions = model.transform(feature_data)\n",
    "predictions.show(5)"
   ]
  },
  {
   "cell_type": "markdown",
   "metadata": {},
   "source": [
    "# Inspect the results of K-Means"
   ]
  },
  {
   "cell_type": "markdown",
   "metadata": {},
   "source": [
    "### Check the number of instances in each class"
   ]
  },
  {
   "cell_type": "code",
   "execution_count": 44,
   "metadata": {},
   "outputs": [
    {
     "name": "stdout",
     "output_type": "stream",
     "text": [
      "Number of clusters (k): 5\n",
      "Cluster centers:\n",
      "[11.48435171]\n",
      "[1.9640592]\n",
      "[6.98102679]\n",
      "[21.27830832]\n",
      "[15.95384615]\n",
      "+----------+-----+\n",
      "|prediction|count|\n",
      "+----------+-----+\n",
      "|         1|  946|\n",
      "|         3|  733|\n",
      "|         4|  780|\n",
      "|         2|  896|\n",
      "|         0|  671|\n",
      "+----------+-----+\n",
      "\n",
      "+--------------------+--------------------+--------------+----------+\n",
      "|                name|  processed_category|category_index|prediction|\n",
      "+--------------------+--------------------+--------------+----------+\n",
      "|fusce aliquet lim...|writing paper sup...|          15.0|         4|\n",
      "|    cum sociis corp.|shop jewelry repa...|          11.0|         0|\n",
      "|morbi vehicula li...|vehicle new part ...|          18.0|         4|\n",
      "|vel nisl incorpor...|souvenir card sho...|           5.0|         2|\n",
      "|    egestas sed inc.|digital book musi...|           0.0|         1|\n",
      "+--------------------+--------------------+--------------+----------+\n",
      "only showing top 5 rows\n",
      "\n"
     ]
    }
   ],
   "source": [
    "# view the number of clusters (k) used in the KMeans model\n",
    "print(f\"Number of clusters (k): {model.getK()}\")\n",
    "\n",
    "# view the centers of each cluster\n",
    "centers = model.clusterCenters()\n",
    "print(\"Cluster centers:\")\n",
    "for center in centers:\n",
    "    print(center)\n",
    "\n",
    "# calculate the size of each cluster\n",
    "cluster_sizes = predictions.groupBy(\"prediction\").count()\n",
    "cluster_sizes.show()\n",
    "\n",
    "# view the prediction results, including the cluster assigned to each data point\n",
    "predictions.select(\"name\", \"processed_category\", \"category_index\", \"prediction\").show(5)"
   ]
  },
  {
   "cell_type": "markdown",
   "metadata": {},
   "source": [
    "### Obtain the category for each cluster"
   ]
  },
  {
   "cell_type": "code",
   "execution_count": 45,
   "metadata": {},
   "outputs": [
    {
     "name": "stdout",
     "output_type": "stream",
     "text": [
      "Cluster 0 categories:\n",
      "+---------------------------------------------+-----+\n",
      "|processed_category                           |count|\n",
      "+---------------------------------------------+-----+\n",
      "|service shop sale and bicycle                |170  |\n",
      "|shop jewelry repair clock and watch          |170  |\n",
      "|instrument musical music shop piano sheet and|167  |\n",
      "|and beauty health spa                        |164  |\n",
      "+---------------------------------------------+-----+\n",
      "\n",
      "Cluster 1 categories:\n",
      "+--------------------------------------------------------------------------+-----+\n",
      "|processed_category                                                        |count|\n",
      "+--------------------------------------------------------------------------+-----+\n",
      "|digital book music movie goods:                                           |195  |\n",
      "|artist shop supply craft and                                              |193  |\n",
      "|computer integrated processing design service system data and programming |191  |\n",
      "|shop shoe                                                                 |185  |\n",
      "|equipment furnishing manufacturer shop furniture appliance home and except|182  |\n",
      "+--------------------------------------------------------------------------+-----+\n",
      "\n",
      "Cluster 2 categories:\n",
      "+------------------------------------------------------+-----+\n",
      "|processed_category                                    |count|\n",
      "+------------------------------------------------------+-----+\n",
      "|souvenir card shop and novelty gift                   |182  |\n",
      "|equipment peripheral computer computer and software   |181  |\n",
      "|nursery florist flower supply stock and               |180  |\n",
      "|and shop awning tent                                  |178  |\n",
      "|radio other service satellite cable television and pay|175  |\n",
      "+------------------------------------------------------+-----+\n",
      "\n",
      "Cluster 3 categories:\n",
      "+------------------------------------------------------+-----+\n",
      "|processed_category                                    |count|\n",
      "+------------------------------------------------------+-----+\n",
      "|game shop hobby toy and                               |142  |\n",
      "|equipment rent furniture al leasing and tool appliance|134  |\n",
      "|shop restoration service repair sale and antique      |129  |\n",
      "|telecom                                               |125  |\n",
      "|and gallery art dealer                                |112  |\n",
      "|silverware shop jewelry clock and watch               |91   |\n",
      "+------------------------------------------------------+-----+\n",
      "\n",
      "Cluster 4 categories:\n",
      "+---------------------------------------------------+-----+\n",
      "|processed_category                                 |count|\n",
      "+---------------------------------------------------+-----+\n",
      "|and newspaper book periodical                      |164  |\n",
      "|writing paper supply stationery office printing and|161  |\n",
      "|nursery lawn supply outlet and including garden    |153  |\n",
      "|optician good optical and eyeglass                 |151  |\n",
      "|vehicle new part supply and motor                  |151  |\n",
      "+---------------------------------------------------+-----+\n",
      "\n"
     ]
    }
   ],
   "source": [
    "for cluster_id in range(model.getK()):\n",
    "    print(f\"Cluster {cluster_id} categories:\")\n",
    "    cluster = predictions.filter(col(\"prediction\") == cluster_id)\n",
    "    category_counts = cluster.groupBy(\"processed_category\")\\\n",
    "                                     .count().orderBy(\"count\", ascending=False)\n",
    "    category_counts.show(truncate=False)"
   ]
  },
  {
   "cell_type": "markdown",
   "metadata": {},
   "source": [
    "### Compute Silhouette Score"
   ]
  },
  {
   "cell_type": "markdown",
   "metadata": {},
   "source": [
    "The closer the Silhouette Score value is to 1, the better the classification effect is:"
   ]
  },
  {
   "cell_type": "code",
   "execution_count": 46,
   "metadata": {},
   "outputs": [
    {
     "name": "stdout",
     "output_type": "stream",
     "text": [
      "Silhouette Score: 0.7273731394415569\n"
     ]
    }
   ],
   "source": [
    "# evaluate using contour coefficient\n",
    "evaluator = ClusteringEvaluator(featuresCol='features', \n",
    "                                metricName='silhouette', \n",
    "                                distanceMeasure='squaredEuclidean')\n",
    "\n",
    "silhouette_score = evaluator.evaluate(predictions)\n",
    "print(f\"Silhouette Score: {silhouette_score}\")"
   ]
  },
  {
   "cell_type": "markdown",
   "metadata": {},
   "source": [
    "### Compute WCSS"
   ]
  },
  {
   "cell_type": "code",
   "execution_count": 47,
   "metadata": {},
   "outputs": [
    {
     "name": "stdout",
     "output_type": "stream",
     "text": [
      "Within-Cluster Sum of Squares (WCSS): 8114.604724895357\n"
     ]
    }
   ],
   "source": [
    "# get cluster centers and broadcast them\n",
    "centers = model.clusterCenters()\n",
    "broadcast_centers = spark.sparkContext.broadcast(centers)\n",
    "\n",
    "# define UDF to compute squared Euclidean distance\n",
    "def squared_distance(features, center):\n",
    "    return float(Vectors.squared_distance(features, center))\n",
    "\n",
    "# define UDF to use the broadcasted centers\n",
    "squared_distance_udf = udf(lambda features, cluster: squared_distance(features, Vectors.dense(broadcast_centers.value[int(cluster)])), DoubleType())\n",
    "\n",
    "# add distance column to the DataFrame\n",
    "distance = predictions.withColumn('distance', squared_distance_udf(col('features'), col('prediction')))\n",
    "\n",
    "# compute WCSS\n",
    "wcss = distance.groupBy('prediction').agg({'distance': 'sum'}).agg({'sum(distance)': 'sum'}).collect()[0][0]\n",
    "print(f\"Within-Cluster Sum of Squares (WCSS): {wcss}\")"
   ]
  },
  {
   "cell_type": "markdown",
   "metadata": {},
   "source": [
    "# Show the predictions with cluster assignments"
   ]
  },
  {
   "cell_type": "code",
   "execution_count": 48,
   "metadata": {},
   "outputs": [
    {
     "name": "stdout",
     "output_type": "stream",
     "text": [
      "+---------------------------------+------------+-------------+---------+--------------------------------------------------------------------------+--------------+--------+----------+\n",
      "|name                             |merchant_abn|revenue_level|take_rate|processed_category                                                        |category_index|features|prediction|\n",
      "+---------------------------------+------------+-------------+---------+--------------------------------------------------------------------------+--------------+--------+----------+\n",
      "|fusce aliquet limited            |17189523131 |c            |1.59     |writing paper supply stationery office printing and                       |15.0          |[15.0]  |4         |\n",
      "|cum sociis corp.                 |22528859307 |a            |6.4      |shop jewelry repair clock and watch                                       |11.0          |[11.0]  |0         |\n",
      "|morbi vehicula limited           |32413511882 |b            |3.35     |vehicle new part supply and motor                                         |18.0          |[18.0]  |4         |\n",
      "|vel nisl incorporated            |32897338221 |a            |6.2      |souvenir card shop and novelty gift                                       |5.0           |[5.0]   |2         |\n",
      "|egestas sed inc.                 |34082818630 |a            |6.86     |digital book music movie goods:                                           |0.0           |[0.0]   |1         |\n",
      "|nam ligula elit foundation       |43127814599 |b            |3.58     |nursery lawn supply outlet and including garden                           |16.0          |[16.0]  |4         |\n",
      "|odio limited                     |43356103768 |a            |6.09     |equipment furnishing manufacturer shop furniture appliance home and except|4.0           |[4.0]   |1         |\n",
      "|donec at pc                      |44837192214 |a            |6.07     |radio other service satellite cable television and pay                    |9.0           |[9.0]   |2         |\n",
      "|lorem donec elementum corporation|46017523620 |c            |2.79     |and beauty health spa                                                     |13.0          |[13.0]  |0         |\n",
      "|nisl arcu limited                |53123395285 |c            |1.86     |optician good optical and eyeglass                                        |17.0          |[17.0]  |4         |\n",
      "|porttitor tellus corporation     |57900494384 |a            |6.39     |and shop awning tent                                                      |8.0           |[8.0]   |2         |\n",
      "|pellentesque tincidunt associates|59962058395 |d            |1.31     |nursery florist flower supply stock and                                   |7.0           |[7.0]   |2         |\n",
      "|cras sed leo foundation          |62029309613 |a            |5.65     |computer integrated processing design service system data and programming |2.0           |[2.0]   |1         |\n",
      "|orci luctus inc.                 |65600957125 |c            |2.46     |digital book music movie goods:                                           |0.0           |[0.0]   |1         |\n",
      "|in magna incorporated            |66626020312 |c            |2.46     |and shop awning tent                                                      |8.0           |[8.0]   |2         |\n",
      "|aliquam gravida incorporated     |66741987958 |b            |3.23     |equipment rent furniture al leasing and tool appliance                    |20.0          |[20.0]  |3         |\n",
      "|euismod ac fermentum ltd         |71357650211 |c            |2.39     |artist shop supply craft and                                              |1.0           |[1.0]   |1         |\n",
      "|convallis erat llc               |71910092040 |a            |6.33     |souvenir card shop and novelty gift                                       |5.0           |[5.0]   |2         |\n",
      "|lobortis tellus limited          |72611840049 |a            |5.88     |nursery lawn supply outlet and including garden                           |16.0          |[16.0]  |4         |\n",
      "|montes nascetur ltd              |82882476966 |d            |1.18     |computer integrated processing design service system data and programming |2.0           |[2.0]   |1         |\n",
      "+---------------------------------+------------+-------------+---------+--------------------------------------------------------------------------+--------------+--------+----------+\n",
      "only showing top 20 rows\n",
      "\n"
     ]
    }
   ],
   "source": [
    "predictions.show(truncate=False)"
   ]
  },
  {
   "cell_type": "code",
   "execution_count": 49,
   "metadata": {},
   "outputs": [
    {
     "name": "stdout",
     "output_type": "stream",
     "text": [
      "Cluster Centers:\n",
      "[11.48435171]\n",
      "[1.9640592]\n",
      "[6.98102679]\n",
      "[21.27830832]\n",
      "[15.95384615]\n"
     ]
    }
   ],
   "source": [
    "print(\"Cluster Centers:\")\n",
    "for center in centers:\n",
    "    print(center)"
   ]
  },
  {
   "cell_type": "markdown",
   "metadata": {},
   "source": [
    "# Merge the classification results to `full_transaction` dataset"
   ]
  },
  {
   "cell_type": "markdown",
   "metadata": {},
   "source": [
    "Drop unused columns:"
   ]
  },
  {
   "cell_type": "code",
   "execution_count": 50,
   "metadata": {},
   "outputs": [],
   "source": [
    "cols_to_remove = [\n",
    "    'name', 'category_including', 'category_other', 'category_and', 'category_except',\n",
    "    'category_al', 'category_shop', 'state'\n",
    "]\n",
    "full_transaction = full_transaction.drop(*cols_to_remove)"
   ]
  },
  {
   "cell_type": "markdown",
   "metadata": {},
   "source": [
    "Merge the `full_transaction` and `predictions` tables based on the `merchant_abn` column:"
   ]
  },
  {
   "cell_type": "code",
   "execution_count": 51,
   "metadata": {},
   "outputs": [
    {
     "name": "stdout",
     "output_type": "stream",
     "text": [
      "+------------+------------------------------------+---------+--------------------------+-------------------+--------------------+---------------+---------------+---------------+---------------+---------------+----------------+------------+-------------------+--------------+--------------+---------------+--------------+---------------+---------------+-----------------+---------------+----------------+----------------+-------------------+------------+----------------+------------------+-------------+-------------+---------------+---------------+-------------+--------------+--------------------+--------------+-------------------+-----------------+--------------+-----------------+--------------+-------------------+--------------+---------------+---------------+-------------+--------------+-------------------+--------------+--------------+----------------+-------------+-------------+---------------+---------------+----------------+----------------+---------------+------------------+----------------+-------------------+--------------------+----------------+-------------+-------------+------------------+-----------------+--------------+-----------------+------------------+----------------+----------------+-------------+----------------+-----------------+-------------+-------------------+----------------+-------------+-------------+------------+-------------------+-------------+-------------------+----------------+---------------+------------+---------------+---------------------+------------+-------------+---------------+------------------+--------------+----------------+-----------------+-------+--------+-----------+--------------------------+------------------+------------------+-----------------------------+---------------------------+------------------+-------------------------+----------------------------+-------------------------+----------------------+-----------------+--------+---------+--------+---------+--------+---------+---------+---------+------------------+-------------+-----------+-------------------+-----------------+--------------------+----------------+\n",
      "|merchant_abn|order_id                            |take_rate|merchant_fraud_probability|transaction_revenue|BNLP_revenue        |revenue_level_e|revenue_level_d|revenue_level_c|revenue_level_b|revenue_level_a|category_jewelry|category_art|category_television|category_watch|category_cable|category_repair|category_stock|category_flower|category_office|category_souvenir|category_goods:|category_novelty|category_optical|category_integrated|category_new|category_antique|category_newspaper|category_shoe|category_tent|category_beauty|category_system|category_lawn|category_sheet|category_programming|category_radio|category_stationery|category_optician|category_paper|category_software|category_clock|category_peripheral|category_craft|category_awning|category_garden|category_data|category_music|category_silverware|category_movie|category_hobby|category_digital|category_sale|category_tool|category_artist|category_health|category_writing|category_musical|category_outlet|category_furniture|category_florist|category_periodical|category_restoration|category_telecom|category_part|category_card|category_satellite|category_eyeglass|category_motor|category_computer|category_equipment|category_service|category_leasing|category_gift|category_vehicle|category_printing|category_home|category_instrument|category_nursery|category_good|category_game|category_spa|category_furnishing|category_rent|category_processing|category_gallery|category_supply|category_pay|category_design|category_manufacturer|category_toy|category_book|category_dealer|category_appliance|category_piano|category_bicycle|merchant_is_fraud|user_id|postcode|consumer_id|consumer_fraud_probability|average_population|Median_age_persons|Median_mortgage_repay_monthly|Median_tot_prsnl_inc_weekly|Median_rent_weekly|Median_tot_fam_inc_weekly|Average_num_psns_per_bedroom|Median_tot_hhd_inc_weekly|Average_household_size|unemployment_rate|state_NT|state_ACT|state_SA|state_TAS|state_WA|state_QLD|state_VIC|state_NSW|gender_Undisclosed|gender_Female|gender_Male|hashed_postcode    |consumer_is_fraud|transaction_is_fraud|merchant_segment|\n",
      "+------------+------------------------------------+---------+--------------------------+-------------------+--------------------+---------------+---------------+---------------+---------------+---------------+----------------+------------+-------------------+--------------+--------------+---------------+--------------+---------------+---------------+-----------------+---------------+----------------+----------------+-------------------+------------+----------------+------------------+-------------+-------------+---------------+---------------+-------------+--------------+--------------------+--------------+-------------------+-----------------+--------------+-----------------+--------------+-------------------+--------------+---------------+---------------+-------------+--------------+-------------------+--------------+--------------+----------------+-------------+-------------+---------------+---------------+----------------+----------------+---------------+------------------+----------------+-------------------+--------------------+----------------+-------------+-------------+------------------+-----------------+--------------+-----------------+------------------+----------------+----------------+-------------+----------------+-----------------+-------------+-------------------+----------------+-------------+-------------+------------+-------------------+-------------+-------------------+----------------+---------------+------------+---------------+---------------------+------------+-------------+---------------+------------------+--------------+----------------+-----------------+-------+--------+-----------+--------------------------+------------------+------------------+-----------------------------+---------------------------+------------------+-------------------------+----------------------------+-------------------------+----------------------+-----------------+--------+---------+--------+---------+--------+---------+---------+---------+------------------+-------------+-----------+-------------------+-----------------+--------------------+----------------+\n",
      "|10023283211 |0f40e65b-8e60-4779-9a05-01488779b3b3|0.18     |69.57774986999281         |102.75361545099766 |0.18529003779479805 |1              |0              |0              |0              |0              |0               |0           |0                  |0             |0             |0              |0             |0              |0              |0                |0              |0               |0               |0                  |0           |0               |0                 |0            |0            |0              |0              |0            |0             |0                   |0             |0                  |0                |0             |0                |0             |0                  |0             |0              |0              |0            |0             |0                  |0             |0             |0               |0            |0            |0              |0              |0               |0               |0              |1                 |0               |0                  |0                   |0               |0            |0            |0                 |0                |0             |0                |1                 |0               |0               |0            |0               |0                |1            |0                  |0               |0            |0            |0           |1                  |0            |0                  |0               |0              |0           |0              |1                    |0           |0            |0              |1                 |0             |0               |1                |23915  |3739    |433238     |9.785541883342017         |4706.0            |50                |1400                         |683                        |250               |1673                     |0.7                         |1226                     |2.3                   |2.4              |0       |0        |0       |0        |0       |0        |1        |0        |0                 |1            |0          |(6000,[4979],[1.0])|0                |1                   |1               |\n",
      "|10023283211 |1485f0cb-cdec-46f5-b635-1092ab5b178d|0.18     |69.5332110977256          |378.025169579195   |0.6816723445815639  |1              |0              |0              |0              |0              |0               |0           |0                  |0             |0             |0              |0             |0              |0              |0                |0              |0               |0               |0                  |0           |0               |0                 |0            |0            |0              |0              |0            |0             |0                   |0             |0                  |0                |0             |0                |0             |0                  |0             |0              |0              |0            |0             |0                  |0             |0             |0               |0            |0            |0              |0              |0               |0               |0              |1                 |0               |0                  |0                   |0               |0            |0            |0                 |0                |0             |0                |1                 |0               |0               |0            |0               |0                |1            |0                  |0               |0            |0            |0           |1                  |0            |0                  |0               |0              |0           |0              |1                    |0           |0            |0              |1                 |0             |0               |1                |72     |7026    |1393909    |29.39761285309642         |6870.5            |44                |1300                         |661                        |250               |1601                     |0.8                         |1330                     |2.5                   |4.8              |0       |0        |0       |1        |0       |0        |0        |0        |0                 |0            |1          |(6000,[2510],[1.0])|0                |1                   |1               |\n",
      "|10023283211 |1d24245b-ffe3-4181-850c-2e36d3bd88e1|0.18     |69.53168402834002         |165.3690082492492  |0.29820098936766076 |1              |0              |0              |0              |0              |0               |0           |0                  |0             |0             |0              |0             |0              |0              |0                |0              |0               |0               |0                  |0           |0               |0                 |0            |0            |0              |0              |0            |0             |0                   |0             |0                  |0                |0             |0                |0             |0                  |0             |0              |0              |0            |0             |0                  |0             |0             |0               |0            |0            |0              |0              |0               |0               |0              |1                 |0               |0                  |0                   |0               |0            |0            |0                 |0                |0             |0                |1                 |0               |0               |0            |0               |0                |1            |0                  |0               |0            |0            |0           |1                  |0            |0                  |0               |0              |0           |0              |1                    |0           |0            |0              |1                 |0             |0               |1                |9114   |2415    |414177     |15.580764782937514        |5256.0            |51                |1538                         |577                        |300               |1449                     |0.8                         |1189                     |2.4                   |5.6              |0       |0        |0       |0        |0       |0        |0        |1        |0                 |0            |1          |(6000,[2849],[1.0])|0                |1                   |1               |\n",
      "|10023283211 |1dafd948-8286-4fdc-a5ba-f967cb206451|0.18     |69.59840622750802         |15.937696792886276 |0.028739586710934146|1              |0              |0              |0              |0              |0               |0           |0                  |0             |0             |0              |0             |0              |0              |0                |0              |0               |0               |0                  |0           |0               |0                 |0            |0            |0              |0              |0            |0             |0                   |0             |0                  |0                |0             |0                |0             |0                  |0             |0              |0              |0            |0             |0                  |0             |0             |0               |0            |0            |0              |0              |0               |0               |0              |1                 |0               |0                  |0                   |0               |0            |0            |0                 |0                |0             |0                |1                 |0               |0               |0            |0               |0                |1            |0                  |0               |0            |0            |0           |1                  |0            |0                  |0               |0              |0           |0              |1                    |0           |0            |0              |1                 |0             |0               |1                |16628  |4005    |829172     |14.762066512396007        |31625.5           |39                |4276                         |2625                       |855               |6078                     |1.9                         |4229                     |3.5999999999999996    |7.6              |0       |0        |0       |0        |0       |1        |0        |0        |0                 |1            |0          |(6000,[1485],[1.0])|0                |1                   |1               |\n",
      "|10023283211 |2295379b-6186-4a58-b186-9f4f095e0548|0.18     |69.57816028805148         |105.04968883242657 |0.18943042275115496 |1              |0              |0              |0              |0              |0               |0           |0                  |0             |0             |0              |0             |0              |0              |0                |0              |0               |0               |0                  |0           |0               |0                 |0            |0            |0              |0              |0            |0             |0                   |0             |0                  |0                |0             |0                |0             |0                  |0             |0              |0              |0            |0             |0                  |0             |0             |0               |0            |0            |0              |0              |0               |0               |0              |1                 |0               |0                  |0                   |0               |0            |0            |0                 |0                |0             |0                |1                 |0               |0               |0            |0               |0                |1            |0                  |0               |0            |0            |0           |1                  |0            |0                  |0               |0              |0           |0              |1                    |0           |0            |0              |1                 |0             |0               |1                |22846  |6646    |822834     |10.637819879650458        |3380.5            |38                |650                          |1024                       |120               |1351                     |0.8                         |1202                     |2.2                   |4.8              |0       |0        |0       |0        |1       |0        |0        |0        |0                 |1            |0          |(6000,[3787],[1.0])|0                |1                   |1               |\n",
      "+------------+------------------------------------+---------+--------------------------+-------------------+--------------------+---------------+---------------+---------------+---------------+---------------+----------------+------------+-------------------+--------------+--------------+---------------+--------------+---------------+---------------+-----------------+---------------+----------------+----------------+-------------------+------------+----------------+------------------+-------------+-------------+---------------+---------------+-------------+--------------+--------------------+--------------+-------------------+-----------------+--------------+-----------------+--------------+-------------------+--------------+---------------+---------------+-------------+--------------+-------------------+--------------+--------------+----------------+-------------+-------------+---------------+---------------+----------------+----------------+---------------+------------------+----------------+-------------------+--------------------+----------------+-------------+-------------+------------------+-----------------+--------------+-----------------+------------------+----------------+----------------+-------------+----------------+-----------------+-------------+-------------------+----------------+-------------+-------------+------------+-------------------+-------------+-------------------+----------------+---------------+------------+---------------+---------------------+------------+-------------+---------------+------------------+--------------+----------------+-----------------+-------+--------+-----------+--------------------------+------------------+------------------+-----------------------------+---------------------------+------------------+-------------------------+----------------------------+-------------------------+----------------------+-----------------+--------+---------+--------+---------+--------+---------+---------+---------+------------------+-------------+-----------+-------------------+-----------------+--------------------+----------------+\n",
      "only showing top 5 rows\n",
      "\n"
     ]
    }
   ],
   "source": [
    "full_transaction = full_transaction.join(predictions.select(\"merchant_abn\", \"prediction\"), \n",
    "                                         on=\"merchant_abn\", how=\"left\")\n",
    "full_transaction = full_transaction.withColumnRenamed(\"prediction\", \"merchant_segment\")\n",
    "full_transaction.show(5, truncate=False)"
   ]
  },
  {
   "cell_type": "markdown",
   "metadata": {},
   "source": [
    "Check the shape of the dataset:"
   ]
  },
  {
   "cell_type": "code",
   "execution_count": 52,
   "metadata": {},
   "outputs": [
    {
     "name": "stdout",
     "output_type": "stream",
     "text": [
      "Number of rows: 11372745\n",
      "Number of columns: 125\n"
     ]
    }
   ],
   "source": [
    "num_rows = full_transaction.count()\n",
    "print(f\"Number of rows: {num_rows}\")\n",
    "\n",
    "num_columns = len(full_transaction.columns)\n",
    "print(f\"Number of columns: {num_columns}\")"
   ]
  },
  {
   "cell_type": "code",
   "execution_count": 54,
   "metadata": {},
   "outputs": [
    {
     "name": "stdout",
     "output_type": "stream",
     "text": [
      "root\n",
      " |-- merchant_abn: long (nullable = true)\n",
      " |-- order_id: string (nullable = true)\n",
      " |-- take_rate: float (nullable = true)\n",
      " |-- merchant_fraud_probability: double (nullable = true)\n",
      " |-- transaction_revenue: double (nullable = true)\n",
      " |-- BNLP_revenue: double (nullable = true)\n",
      " |-- revenue_level_e: integer (nullable = true)\n",
      " |-- revenue_level_d: integer (nullable = true)\n",
      " |-- revenue_level_c: integer (nullable = true)\n",
      " |-- revenue_level_b: integer (nullable = true)\n",
      " |-- revenue_level_a: integer (nullable = true)\n",
      " |-- category_jewelry: integer (nullable = true)\n",
      " |-- category_art: integer (nullable = true)\n",
      " |-- category_television: integer (nullable = true)\n",
      " |-- category_watch: integer (nullable = true)\n",
      " |-- category_cable: integer (nullable = true)\n",
      " |-- category_repair: integer (nullable = true)\n",
      " |-- category_stock: integer (nullable = true)\n",
      " |-- category_flower: integer (nullable = true)\n",
      " |-- category_office: integer (nullable = true)\n",
      " |-- category_souvenir: integer (nullable = true)\n",
      " |-- category_goods:: integer (nullable = true)\n",
      " |-- category_novelty: integer (nullable = true)\n",
      " |-- category_optical: integer (nullable = true)\n",
      " |-- category_integrated: integer (nullable = true)\n",
      " |-- category_new: integer (nullable = true)\n",
      " |-- category_antique: integer (nullable = true)\n",
      " |-- category_newspaper: integer (nullable = true)\n",
      " |-- category_shoe: integer (nullable = true)\n",
      " |-- category_tent: integer (nullable = true)\n",
      " |-- category_beauty: integer (nullable = true)\n",
      " |-- category_system: integer (nullable = true)\n",
      " |-- category_lawn: integer (nullable = true)\n",
      " |-- category_sheet: integer (nullable = true)\n",
      " |-- category_programming: integer (nullable = true)\n",
      " |-- category_radio: integer (nullable = true)\n",
      " |-- category_stationery: integer (nullable = true)\n",
      " |-- category_optician: integer (nullable = true)\n",
      " |-- category_paper: integer (nullable = true)\n",
      " |-- category_software: integer (nullable = true)\n",
      " |-- category_clock: integer (nullable = true)\n",
      " |-- category_peripheral: integer (nullable = true)\n",
      " |-- category_craft: integer (nullable = true)\n",
      " |-- category_awning: integer (nullable = true)\n",
      " |-- category_garden: integer (nullable = true)\n",
      " |-- category_data: integer (nullable = true)\n",
      " |-- category_music: integer (nullable = true)\n",
      " |-- category_silverware: integer (nullable = true)\n",
      " |-- category_movie: integer (nullable = true)\n",
      " |-- category_hobby: integer (nullable = true)\n",
      " |-- category_digital: integer (nullable = true)\n",
      " |-- category_sale: integer (nullable = true)\n",
      " |-- category_tool: integer (nullable = true)\n",
      " |-- category_artist: integer (nullable = true)\n",
      " |-- category_health: integer (nullable = true)\n",
      " |-- category_writing: integer (nullable = true)\n",
      " |-- category_musical: integer (nullable = true)\n",
      " |-- category_outlet: integer (nullable = true)\n",
      " |-- category_furniture: integer (nullable = true)\n",
      " |-- category_florist: integer (nullable = true)\n",
      " |-- category_periodical: integer (nullable = true)\n",
      " |-- category_restoration: integer (nullable = true)\n",
      " |-- category_telecom: integer (nullable = true)\n",
      " |-- category_part: integer (nullable = true)\n",
      " |-- category_card: integer (nullable = true)\n",
      " |-- category_satellite: integer (nullable = true)\n",
      " |-- category_eyeglass: integer (nullable = true)\n",
      " |-- category_motor: integer (nullable = true)\n",
      " |-- category_computer: integer (nullable = true)\n",
      " |-- category_equipment: integer (nullable = true)\n",
      " |-- category_service: integer (nullable = true)\n",
      " |-- category_leasing: integer (nullable = true)\n",
      " |-- category_gift: integer (nullable = true)\n",
      " |-- category_vehicle: integer (nullable = true)\n",
      " |-- category_printing: integer (nullable = true)\n",
      " |-- category_home: integer (nullable = true)\n",
      " |-- category_instrument: integer (nullable = true)\n",
      " |-- category_nursery: integer (nullable = true)\n",
      " |-- category_good: integer (nullable = true)\n",
      " |-- category_game: integer (nullable = true)\n",
      " |-- category_spa: integer (nullable = true)\n",
      " |-- category_furnishing: integer (nullable = true)\n",
      " |-- category_rent: integer (nullable = true)\n",
      " |-- category_processing: integer (nullable = true)\n",
      " |-- category_gallery: integer (nullable = true)\n",
      " |-- category_supply: integer (nullable = true)\n",
      " |-- category_pay: integer (nullable = true)\n",
      " |-- category_design: integer (nullable = true)\n",
      " |-- category_manufacturer: integer (nullable = true)\n",
      " |-- category_toy: integer (nullable = true)\n",
      " |-- category_book: integer (nullable = true)\n",
      " |-- category_dealer: integer (nullable = true)\n",
      " |-- category_appliance: integer (nullable = true)\n",
      " |-- category_piano: integer (nullable = true)\n",
      " |-- category_bicycle: integer (nullable = true)\n",
      " |-- merchant_is_fraud: integer (nullable = true)\n",
      " |-- user_id: long (nullable = true)\n",
      " |-- postcode: integer (nullable = true)\n",
      " |-- consumer_id: long (nullable = true)\n",
      " |-- consumer_fraud_probability: double (nullable = true)\n",
      " |-- average_population: double (nullable = true)\n",
      " |-- Median_age_persons: long (nullable = true)\n",
      " |-- Median_mortgage_repay_monthly: long (nullable = true)\n",
      " |-- Median_tot_prsnl_inc_weekly: long (nullable = true)\n",
      " |-- Median_rent_weekly: long (nullable = true)\n",
      " |-- Median_tot_fam_inc_weekly: long (nullable = true)\n",
      " |-- Average_num_psns_per_bedroom: double (nullable = true)\n",
      " |-- Median_tot_hhd_inc_weekly: long (nullable = true)\n",
      " |-- Average_household_size: double (nullable = true)\n",
      " |-- unemployment_rate: double (nullable = true)\n",
      " |-- state_NT: integer (nullable = true)\n",
      " |-- state_ACT: integer (nullable = true)\n",
      " |-- state_SA: integer (nullable = true)\n",
      " |-- state_TAS: integer (nullable = true)\n",
      " |-- state_WA: integer (nullable = true)\n",
      " |-- state_QLD: integer (nullable = true)\n",
      " |-- state_VIC: integer (nullable = true)\n",
      " |-- state_NSW: integer (nullable = true)\n",
      " |-- gender_Undisclosed: integer (nullable = true)\n",
      " |-- gender_Female: integer (nullable = true)\n",
      " |-- gender_Male: integer (nullable = true)\n",
      " |-- hashed_postcode: vector (nullable = true)\n",
      " |-- consumer_is_fraud: integer (nullable = true)\n",
      " |-- transaction_is_fraud: integer (nullable = true)\n",
      " |-- merchant_segment: integer (nullable = true)\n",
      "\n"
     ]
    }
   ],
   "source": [
    "full_transaction.printSchema()"
   ]
  },
  {
   "cell_type": "markdown",
   "metadata": {},
   "source": [
    "Confirm there is no nulls:"
   ]
  },
  {
   "cell_type": "code",
   "execution_count": 57,
   "metadata": {},
   "outputs": [
    {
     "name": "stderr",
     "output_type": "stream",
     "text": [
      "[Stage 290:==================================================>     (9 + 1) / 10]\r"
     ]
    },
    {
     "name": "stdout",
     "output_type": "stream",
     "text": [
      "+------------+--------+---------+--------------------------+-------------------+------------+---------------+---------------+---------------+---------------+---------------+----------------+------------+-------------------+--------------+--------------+---------------+--------------+---------------+---------------+-----------------+---------------+----------------+----------------+-------------------+------------+----------------+------------------+-------------+-------------+---------------+---------------+-------------+--------------+--------------------+--------------+-------------------+-----------------+--------------+-----------------+--------------+-------------------+--------------+---------------+---------------+-------------+--------------+-------------------+--------------+--------------+----------------+-------------+-------------+---------------+---------------+----------------+----------------+---------------+------------------+----------------+-------------------+--------------------+----------------+-------------+-------------+------------------+-----------------+--------------+-----------------+------------------+----------------+----------------+-------------+----------------+-----------------+-------------+-------------------+----------------+-------------+-------------+------------+-------------------+-------------+-------------------+----------------+---------------+------------+---------------+---------------------+------------+-------------+---------------+------------------+--------------+----------------+-----------------+-------+--------+-----------+--------------------------+------------------+------------------+-----------------------------+---------------------------+------------------+-------------------------+----------------------------+-------------------------+----------------------+-----------------+--------+---------+--------+---------+--------+---------+---------+---------+------------------+-------------+-----------+---------------+-----------------+--------------------+----------------+\n",
      "|merchant_abn|order_id|take_rate|merchant_fraud_probability|transaction_revenue|BNLP_revenue|revenue_level_e|revenue_level_d|revenue_level_c|revenue_level_b|revenue_level_a|category_jewelry|category_art|category_television|category_watch|category_cable|category_repair|category_stock|category_flower|category_office|category_souvenir|category_goods:|category_novelty|category_optical|category_integrated|category_new|category_antique|category_newspaper|category_shoe|category_tent|category_beauty|category_system|category_lawn|category_sheet|category_programming|category_radio|category_stationery|category_optician|category_paper|category_software|category_clock|category_peripheral|category_craft|category_awning|category_garden|category_data|category_music|category_silverware|category_movie|category_hobby|category_digital|category_sale|category_tool|category_artist|category_health|category_writing|category_musical|category_outlet|category_furniture|category_florist|category_periodical|category_restoration|category_telecom|category_part|category_card|category_satellite|category_eyeglass|category_motor|category_computer|category_equipment|category_service|category_leasing|category_gift|category_vehicle|category_printing|category_home|category_instrument|category_nursery|category_good|category_game|category_spa|category_furnishing|category_rent|category_processing|category_gallery|category_supply|category_pay|category_design|category_manufacturer|category_toy|category_book|category_dealer|category_appliance|category_piano|category_bicycle|merchant_is_fraud|user_id|postcode|consumer_id|consumer_fraud_probability|average_population|Median_age_persons|Median_mortgage_repay_monthly|Median_tot_prsnl_inc_weekly|Median_rent_weekly|Median_tot_fam_inc_weekly|Average_num_psns_per_bedroom|Median_tot_hhd_inc_weekly|Average_household_size|unemployment_rate|state_NT|state_ACT|state_SA|state_TAS|state_WA|state_QLD|state_VIC|state_NSW|gender_Undisclosed|gender_Female|gender_Male|hashed_postcode|consumer_is_fraud|transaction_is_fraud|merchant_segment|\n",
      "+------------+--------+---------+--------------------------+-------------------+------------+---------------+---------------+---------------+---------------+---------------+----------------+------------+-------------------+--------------+--------------+---------------+--------------+---------------+---------------+-----------------+---------------+----------------+----------------+-------------------+------------+----------------+------------------+-------------+-------------+---------------+---------------+-------------+--------------+--------------------+--------------+-------------------+-----------------+--------------+-----------------+--------------+-------------------+--------------+---------------+---------------+-------------+--------------+-------------------+--------------+--------------+----------------+-------------+-------------+---------------+---------------+----------------+----------------+---------------+------------------+----------------+-------------------+--------------------+----------------+-------------+-------------+------------------+-----------------+--------------+-----------------+------------------+----------------+----------------+-------------+----------------+-----------------+-------------+-------------------+----------------+-------------+-------------+------------+-------------------+-------------+-------------------+----------------+---------------+------------+---------------+---------------------+------------+-------------+---------------+------------------+--------------+----------------+-----------------+-------+--------+-----------+--------------------------+------------------+------------------+-----------------------------+---------------------------+------------------+-------------------------+----------------------------+-------------------------+----------------------+-----------------+--------+---------+--------+---------+--------+---------+---------+---------+------------------+-------------+-----------+---------------+-----------------+--------------------+----------------+\n",
      "|0           |0       |0        |0                         |0                  |0           |0              |0              |0              |0              |0              |0               |0           |0                  |0             |0             |0              |0             |0              |0              |0                |0              |0               |0               |0                  |0           |0               |0                 |0            |0            |0              |0              |0            |0             |0                   |0             |0                  |0                |0             |0                |0             |0                  |0             |0              |0              |0            |0             |0                  |0             |0             |0               |0            |0            |0              |0              |0               |0               |0              |0                 |0               |0                  |0                   |0               |0            |0            |0                 |0                |0             |0                |0                 |0               |0               |0            |0               |0                |0            |0                  |0               |0            |0            |0           |0                  |0            |0                  |0               |0              |0           |0              |0                    |0           |0            |0              |0                 |0             |0               |0                |0      |0       |0          |0                         |0                 |0                 |0                            |0                          |0                 |0                        |0                           |0                        |0                     |0                |0       |0        |0       |0        |0       |0        |0        |0        |0                 |0            |0          |0              |0                |0                   |0               |\n",
      "+------------+--------+---------+--------------------------+-------------------+------------+---------------+---------------+---------------+---------------+---------------+----------------+------------+-------------------+--------------+--------------+---------------+--------------+---------------+---------------+-----------------+---------------+----------------+----------------+-------------------+------------+----------------+------------------+-------------+-------------+---------------+---------------+-------------+--------------+--------------------+--------------+-------------------+-----------------+--------------+-----------------+--------------+-------------------+--------------+---------------+---------------+-------------+--------------+-------------------+--------------+--------------+----------------+-------------+-------------+---------------+---------------+----------------+----------------+---------------+------------------+----------------+-------------------+--------------------+----------------+-------------+-------------+------------------+-----------------+--------------+-----------------+------------------+----------------+----------------+-------------+----------------+-----------------+-------------+-------------------+----------------+-------------+-------------+------------+-------------------+-------------+-------------------+----------------+---------------+------------+---------------+---------------------+------------+-------------+---------------+------------------+--------------+----------------+-----------------+-------+--------+-----------+--------------------------+------------------+------------------+-----------------------------+---------------------------+------------------+-------------------------+----------------------------+-------------------------+----------------------+-----------------+--------+---------+--------+---------+--------+---------+---------+---------+------------------+-------------+-----------+---------------+-----------------+--------------------+----------------+\n",
      "\n"
     ]
    },
    {
     "name": "stderr",
     "output_type": "stream",
     "text": [
      "                                                                                \r"
     ]
    }
   ],
   "source": [
    "# create a dictionary with column names and their respective null counts\n",
    "null_count_dict = {col_name: sum(col(col_name).isNull().cast(\"int\")).alias(col_name) for col_name in full_transaction.columns}\n",
    "\n",
    "# use agg() to calculate null counts for each column\n",
    "null_counts_df = full_transaction.agg(*null_count_dict.values())\n",
    "null_counts_df.show()"
   ]
  },
  {
   "cell_type": "code",
   "execution_count": 58,
   "metadata": {},
   "outputs": [
    {
     "name": "stderr",
     "output_type": "stream",
     "text": [
      "                                                                                \r"
     ]
    }
   ],
   "source": [
    "# save as a parquet file\n",
    "full_transaction.write.parquet('../data/curated/full_transaction_with_segments', mode='overwrite')"
   ]
  }
 ],
 "metadata": {
  "kernelspec": {
   "display_name": "Python 3",
   "language": "python",
   "name": "python3"
  },
  "language_info": {
   "codemirror_mode": {
    "name": "ipython",
    "version": 3
   },
   "file_extension": ".py",
   "mimetype": "text/x-python",
   "name": "python",
   "nbconvert_exporter": "python",
   "pygments_lexer": "ipython3",
   "version": "3.11.3"
  }
 },
 "nbformat": 4,
 "nbformat_minor": 2
}
