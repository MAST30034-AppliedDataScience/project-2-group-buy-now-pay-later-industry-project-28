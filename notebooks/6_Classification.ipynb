{
 "cells": [
  {
   "cell_type": "code",
   "execution_count": 1,
   "metadata": {},
   "outputs": [],
   "source": [
    "from pyspark.sql import SparkSession\n",
    "from pyspark.sql.functions import (\n",
    "    col, regexp_replace, trim, split, min, max, udf\n",
    ")\n",
    "from pyspark.sql.types import StringType, DoubleType\n",
    "from pyspark.ml.feature import (\n",
    "    StringIndexer, VectorAssembler\n",
    ")\n",
    "from pyspark.ml.clustering import KMeans\n",
    "from pyspark.ml.linalg import Vectors\n",
    "from pyspark.ml.evaluation import ClusteringEvaluator\n",
    "import pandas as pd\n",
    "import geopandas as gpd\n",
    "import nltk\n",
    "from nltk.stem import WordNetLemmatizer\n",
    "from nltk.corpus import wordnet\n"
   ]
  },
  {
   "cell_type": "code",
   "execution_count": 2,
   "metadata": {},
   "outputs": [
    {
     "name": "stderr",
     "output_type": "stream",
     "text": [
      "your 131072x1 screen size is bogus. expect trouble\n",
      "24/09/17 13:47:03 WARN Utils: Your hostname, LAPTOP-AVQHG9I2 resolves to a loopback address: 127.0.1.1; using 172.21.158.129 instead (on interface eth0)\n",
      "24/09/17 13:47:03 WARN Utils: Set SPARK_LOCAL_IP if you need to bind to another address\n",
      "Setting default log level to \"WARN\".\n",
      "To adjust logging level use sc.setLogLevel(newLevel). For SparkR, use setLogLevel(newLevel).\n",
      "24/09/17 13:47:04 WARN NativeCodeLoader: Unable to load native-hadoop library for your platform... using builtin-java classes where applicable\n"
     ]
    }
   ],
   "source": [
    "spark = (\n",
    "    SparkSession.builder.appName(\"Preliminary_Analysis\")\n",
    "    .config(\"spark.sql.repl.eagerEval.enabled\", True) \n",
    "    .config(\"spark.driver.memory\",\"4G\")\n",
    "    .config(\"spark.executor.memory\",\"4G\")\n",
    "    .config(\"spark.sql.parquet.cacheMetadata\", \"true\")\n",
    "    .config(\"spark.sql.session.timeZone\", \"Etc/UTC\")\n",
    "    .getOrCreate()\n",
    ")"
   ]
  },
  {
   "cell_type": "code",
   "execution_count": 3,
   "metadata": {},
   "outputs": [
    {
     "name": "stderr",
     "output_type": "stream",
     "text": [
      "                                                                                \r"
     ]
    }
   ],
   "source": [
    "merchant_detail = spark.read.parquet('../data/curated/merchant_detail')"
   ]
  },
  {
   "cell_type": "code",
   "execution_count": 4,
   "metadata": {},
   "outputs": [
    {
     "name": "stderr",
     "output_type": "stream",
     "text": [
      "                                                                                \r"
     ]
    },
    {
     "name": "stdout",
     "output_type": "stream",
     "text": [
      "+--------------------+------------+-------------+---------+--------------------+\n",
      "|                name|merchant_abn|revenue_level|take_rate|  processed_category|\n",
      "+--------------------+------------+-------------+---------+--------------------+\n",
      "|fusce aliquet lim...| 17189523131|            c|     1.59|writing paper sup...|\n",
      "|    cum sociis corp.| 22528859307|            a|      6.4|shop jewelry repa...|\n",
      "|morbi vehicula li...| 32413511882|            b|     3.35|vehicle new part ...|\n",
      "|vel nisl incorpor...| 32897338221|            a|      6.2|souvenir card sho...|\n",
      "|    egestas sed inc.| 34082818630|            a|     6.86|digital book musi...|\n",
      "+--------------------+------------+-------------+---------+--------------------+\n",
      "only showing top 5 rows\n",
      "\n"
     ]
    }
   ],
   "source": [
    "merchant_detail.show(5)"
   ]
  },
  {
   "cell_type": "code",
   "execution_count": 5,
   "metadata": {},
   "outputs": [
    {
     "name": "stderr",
     "output_type": "stream",
     "text": [
      "                                                                                \r"
     ]
    },
    {
     "name": "stdout",
     "output_type": "stream",
     "text": [
      "+--------------------+------------+-------------+---------+--------------------+--------------+\n",
      "|                name|merchant_abn|revenue_level|take_rate|  processed_category|category_index|\n",
      "+--------------------+------------+-------------+---------+--------------------+--------------+\n",
      "|fusce aliquet lim...| 17189523131|            c|     1.59|writing paper sup...|          15.0|\n",
      "|    cum sociis corp.| 22528859307|            a|      6.4|shop jewelry repa...|          11.0|\n",
      "|morbi vehicula li...| 32413511882|            b|     3.35|vehicle new part ...|          18.0|\n",
      "|vel nisl incorpor...| 32897338221|            a|      6.2|souvenir card sho...|           5.0|\n",
      "|    egestas sed inc.| 34082818630|            a|     6.86|digital book musi...|           0.0|\n",
      "+--------------------+------------+-------------+---------+--------------------+--------------+\n",
      "only showing top 5 rows\n",
      "\n"
     ]
    }
   ],
   "source": [
    "# convert string features to numerical features\n",
    "indexer = StringIndexer(inputCol=\"processed_category\", outputCol=\"category_index\")\n",
    "indexed_df = indexer.fit(merchant_detail).transform(merchant_detail)\n",
    "\n",
    "indexed_df.show(5)\n"
   ]
  },
  {
   "cell_type": "code",
   "execution_count": 6,
   "metadata": {},
   "outputs": [
    {
     "name": "stderr",
     "output_type": "stream",
     "text": [
      "24/09/17 13:47:30 WARN InstanceBuilder: Failed to load implementation from:dev.ludovic.netlib.blas.JNIBLAS\n"
     ]
    },
    {
     "name": "stdout",
     "output_type": "stream",
     "text": [
      "+--------------------+------------+-------------+---------+--------------------+--------------+--------+----------+\n",
      "|                name|merchant_abn|revenue_level|take_rate|  processed_category|category_index|features|prediction|\n",
      "+--------------------+------------+-------------+---------+--------------------+--------------+--------+----------+\n",
      "|fusce aliquet lim...| 17189523131|            c|     1.59|writing paper sup...|          15.0|  [15.0]|         4|\n",
      "|    cum sociis corp.| 22528859307|            a|      6.4|shop jewelry repa...|          11.0|  [11.0]|         0|\n",
      "|morbi vehicula li...| 32413511882|            b|     3.35|vehicle new part ...|          18.0|  [18.0]|         4|\n",
      "|vel nisl incorpor...| 32897338221|            a|      6.2|souvenir card sho...|           5.0|   [5.0]|         2|\n",
      "|    egestas sed inc.| 34082818630|            a|     6.86|digital book musi...|           0.0|   [0.0]|         1|\n",
      "+--------------------+------------+-------------+---------+--------------------+--------------+--------+----------+\n",
      "only showing top 5 rows\n",
      "\n"
     ]
    }
   ],
   "source": [
    "# convert string features to numerical features\n",
    "indexer = StringIndexer(inputCol=\"processed_category\", outputCol=\"category_index\")\n",
    "indexed_df = indexer.fit(merchant_detail).transform(merchant_detail)\n",
    "\n",
    "# create feature vectors\n",
    "feature_columns = ['category_index']\n",
    "assembler = VectorAssembler(inputCols=feature_columns, outputCol=\"features\")\n",
    "feature_data = assembler.transform(indexed_df)\n",
    "\n",
    "# perform KMeans clustering with 5 clusters\n",
    "kmeans = KMeans(k=5, seed=42)\n",
    "model = kmeans.fit(feature_data)\n",
    "predictions = model.transform(feature_data)\n",
    "\n",
    "predictions.show(5)\n"
   ]
  },
  {
   "cell_type": "code",
   "execution_count": 7,
   "metadata": {},
   "outputs": [
    {
     "name": "stdout",
     "output_type": "stream",
     "text": [
      "Number of clusters (k): 5\n",
      "Cluster centers:\n",
      "[11.48435171]\n",
      "[1.9640592]\n",
      "[6.98102679]\n",
      "[21.27830832]\n",
      "[15.95384615]\n",
      "+----------+-----+\n",
      "|prediction|count|\n",
      "+----------+-----+\n",
      "|         1|  946|\n",
      "|         3|  733|\n",
      "|         4|  780|\n",
      "|         2|  896|\n",
      "|         0|  671|\n",
      "+----------+-----+\n",
      "\n",
      "+--------------------+--------------------+--------------+----------+\n",
      "|                name|  processed_category|category_index|prediction|\n",
      "+--------------------+--------------------+--------------+----------+\n",
      "|fusce aliquet lim...|writing paper sup...|          15.0|         4|\n",
      "|    cum sociis corp.|shop jewelry repa...|          11.0|         0|\n",
      "|morbi vehicula li...|vehicle new part ...|          18.0|         4|\n",
      "|vel nisl incorpor...|souvenir card sho...|           5.0|         2|\n",
      "|    egestas sed inc.|digital book musi...|           0.0|         1|\n",
      "+--------------------+--------------------+--------------+----------+\n",
      "only showing top 5 rows\n",
      "\n"
     ]
    }
   ],
   "source": [
    "# view the number of clusters (k) used in the KMeans model\n",
    "print(f\"Number of clusters (k): {model.getK()}\")\n",
    "\n",
    "# view the centers of each cluster\n",
    "centers = model.clusterCenters()\n",
    "print(\"Cluster centers:\")\n",
    "for center in centers:\n",
    "    print(center)\n",
    "\n",
    "# calculate the size of each cluster\n",
    "cluster_sizes = predictions.groupBy(\"prediction\").count()\n",
    "cluster_sizes.show()\n",
    "\n",
    "# view the prediction results, including the cluster assigned to each data point\n",
    "predictions.select(\"name\", \"processed_category\", \"category_index\", \"prediction\").show(5)\n"
   ]
  },
  {
   "cell_type": "code",
   "execution_count": 8,
   "metadata": {},
   "outputs": [
    {
     "name": "stdout",
     "output_type": "stream",
     "text": [
      "Cluster 0 categories:\n",
      "+--------------------+-----+\n",
      "|  processed_category|count|\n",
      "+--------------------+-----+\n",
      "|service shop sale...|  170|\n",
      "|shop jewelry repa...|  170|\n",
      "|instrument musica...|  167|\n",
      "|and beauty health...|  164|\n",
      "+--------------------+-----+\n",
      "\n",
      "Cluster 1 categories:\n",
      "+--------------------+-----+\n",
      "|  processed_category|count|\n",
      "+--------------------+-----+\n",
      "|digital book musi...|  195|\n",
      "|artist shop suppl...|  193|\n",
      "|computer integrat...|  191|\n",
      "|           shop shoe|  185|\n",
      "|equipment furnish...|  182|\n",
      "+--------------------+-----+\n",
      "\n",
      "Cluster 2 categories:\n",
      "+--------------------+-----+\n",
      "|  processed_category|count|\n",
      "+--------------------+-----+\n",
      "|souvenir card sho...|  182|\n",
      "|equipment periphe...|  181|\n",
      "|nursery florist f...|  180|\n",
      "|and shop awning tent|  178|\n",
      "|radio other servi...|  175|\n",
      "+--------------------+-----+\n",
      "\n",
      "Cluster 3 categories:\n",
      "+--------------------+-----+\n",
      "|  processed_category|count|\n",
      "+--------------------+-----+\n",
      "|game shop hobby t...|  142|\n",
      "|equipment rent fu...|  134|\n",
      "|shop restoration ...|  129|\n",
      "|             telecom|  125|\n",
      "|and gallery art d...|  112|\n",
      "|silverware shop j...|   91|\n",
      "+--------------------+-----+\n",
      "\n",
      "Cluster 4 categories:\n",
      "+--------------------+-----+\n",
      "|  processed_category|count|\n",
      "+--------------------+-----+\n",
      "|and newspaper boo...|  164|\n",
      "|writing paper sup...|  161|\n",
      "|nursery lawn supp...|  153|\n",
      "|optician good opt...|  151|\n",
      "|vehicle new part ...|  151|\n",
      "+--------------------+-----+\n",
      "\n"
     ]
    }
   ],
   "source": [
    "# obtain the sample category for each cluster\n",
    "for cluster_id in range(model.getK()):\n",
    "    print(f\"Cluster {cluster_id} categories:\")\n",
    "    cluster_samples = predictions.filter(col(\"prediction\") == cluster_id)\n",
    "    category_counts = cluster_samples.groupBy(\"processed_category\").count().orderBy(\"count\", ascending=False)\n",
    "    category_counts.show()\n"
   ]
  },
  {
   "cell_type": "code",
   "execution_count": 9,
   "metadata": {},
   "outputs": [
    {
     "name": "stdout",
     "output_type": "stream",
     "text": [
      "Silhouette Score: 0.7273731394415569\n"
     ]
    }
   ],
   "source": [
    "# evaluate using contour coefficient\n",
    "evaluator = ClusteringEvaluator(featuresCol='features', metricName='silhouette', distanceMeasure='squaredEuclidean')\n",
    "\n",
    "silhouette_score = evaluator.evaluate(predictions)\n",
    "print(f\"Silhouette Score: {silhouette_score}\")"
   ]
  },
  {
   "cell_type": "code",
   "execution_count": 10,
   "metadata": {},
   "outputs": [],
   "source": [
    "# get cluster centers and broadcast them\n",
    "centers = model.clusterCenters()\n",
    "broadcast_centers = spark.sparkContext.broadcast(centers)\n",
    "\n",
    "# define UDF to compute squared Euclidean distance\n",
    "def squared_distance(features, center):\n",
    "    return float(Vectors.squared_distance(features, center))\n",
    "\n",
    "# define UDF to use the broadcasted centers\n",
    "squared_distance_udf = udf(lambda features, cluster: squared_distance(features, Vectors.dense(broadcast_centers.value[int(cluster)])), DoubleType())"
   ]
  },
  {
   "cell_type": "code",
   "execution_count": 11,
   "metadata": {},
   "outputs": [
    {
     "name": "stderr",
     "output_type": "stream",
     "text": [
      "[Stage 54:>                                                         (0 + 1) / 1]\r"
     ]
    },
    {
     "name": "stdout",
     "output_type": "stream",
     "text": [
      "Within-Cluster Sum of Squares (WCSS): 8114.604724895357\n",
      "+---------------------------------+------------+-------------+---------+--------------------------------------------------------------------------+--------------+--------+----------+\n",
      "|name                             |merchant_abn|revenue_level|take_rate|processed_category                                                        |category_index|features|prediction|\n",
      "+---------------------------------+------------+-------------+---------+--------------------------------------------------------------------------+--------------+--------+----------+\n",
      "|fusce aliquet limited            |17189523131 |c            |1.59     |writing paper supply stationery office printing and                       |15.0          |[15.0]  |4         |\n",
      "|cum sociis corp.                 |22528859307 |a            |6.4      |shop jewelry repair clock and watch                                       |11.0          |[11.0]  |0         |\n",
      "|morbi vehicula limited           |32413511882 |b            |3.35     |vehicle new part supply and motor                                         |18.0          |[18.0]  |4         |\n",
      "|vel nisl incorporated            |32897338221 |a            |6.2      |souvenir card shop and novelty gift                                       |5.0           |[5.0]   |2         |\n",
      "|egestas sed inc.                 |34082818630 |a            |6.86     |digital book music movie goods:                                           |0.0           |[0.0]   |1         |\n",
      "|nam ligula elit foundation       |43127814599 |b            |3.58     |nursery lawn supply outlet and including garden                           |16.0          |[16.0]  |4         |\n",
      "|odio limited                     |43356103768 |a            |6.09     |equipment furnishing manufacturer shop furniture appliance home and except|4.0           |[4.0]   |1         |\n",
      "|donec at pc                      |44837192214 |a            |6.07     |radio other service satellite cable television and pay                    |9.0           |[9.0]   |2         |\n",
      "|lorem donec elementum corporation|46017523620 |c            |2.79     |and beauty health spa                                                     |13.0          |[13.0]  |0         |\n",
      "|nisl arcu limited                |53123395285 |c            |1.86     |optician good optical and eyeglass                                        |17.0          |[17.0]  |4         |\n",
      "|porttitor tellus corporation     |57900494384 |a            |6.39     |and shop awning tent                                                      |8.0           |[8.0]   |2         |\n",
      "|pellentesque tincidunt associates|59962058395 |d            |1.31     |nursery florist flower supply stock and                                   |7.0           |[7.0]   |2         |\n",
      "|cras sed leo foundation          |62029309613 |a            |5.65     |computer integrated processing design service system data and programming |2.0           |[2.0]   |1         |\n",
      "|orci luctus inc.                 |65600957125 |c            |2.46     |digital book music movie goods:                                           |0.0           |[0.0]   |1         |\n",
      "|in magna incorporated            |66626020312 |c            |2.46     |and shop awning tent                                                      |8.0           |[8.0]   |2         |\n",
      "|aliquam gravida incorporated     |66741987958 |b            |3.23     |equipment rent furniture al leasing and tool appliance                    |20.0          |[20.0]  |3         |\n",
      "|euismod ac fermentum ltd         |71357650211 |c            |2.39     |artist shop supply craft and                                              |1.0           |[1.0]   |1         |\n",
      "|convallis erat llc               |71910092040 |a            |6.33     |souvenir card shop and novelty gift                                       |5.0           |[5.0]   |2         |\n",
      "|lobortis tellus limited          |72611840049 |a            |5.88     |nursery lawn supply outlet and including garden                           |16.0          |[16.0]  |4         |\n",
      "|montes nascetur ltd              |82882476966 |d            |1.18     |computer integrated processing design service system data and programming |2.0           |[2.0]   |1         |\n",
      "+---------------------------------+------------+-------------+---------+--------------------------------------------------------------------------+--------------+--------+----------+\n",
      "only showing top 20 rows\n",
      "\n",
      "Cluster Centers:\n",
      "[11.48435171]\n",
      "[1.9640592]\n",
      "[6.98102679]\n",
      "[21.27830832]\n",
      "[15.95384615]\n"
     ]
    },
    {
     "name": "stderr",
     "output_type": "stream",
     "text": [
      "                                                                                \r"
     ]
    }
   ],
   "source": [
    "# add distance column to the DataFrame\n",
    "distance = predictions.withColumn('distance', squared_distance_udf(col('features'), col('prediction')))\n",
    "\n",
    "# compute WCSS\n",
    "wcss = distance.groupBy('prediction').agg({'distance': 'sum'}).agg({'sum(distance)': 'sum'}).collect()[0][0]\n",
    "print(f\"Within-Cluster Sum of Squares (WCSS): {wcss}\")\n",
    "\n",
    "# show the predictions with cluster assignments\n",
    "predictions.show(truncate=False)\n",
    "\n",
    "print(\"Cluster Centers:\")\n",
    "for center in centers:\n",
    "    print(center)"
   ]
  }
 ],
 "metadata": {
  "kernelspec": {
   "display_name": "Python 3",
   "language": "python",
   "name": "python3"
  },
  "language_info": {
   "codemirror_mode": {
    "name": "ipython",
    "version": 3
   },
   "file_extension": ".py",
   "mimetype": "text/x-python",
   "name": "python",
   "nbconvert_exporter": "python",
   "pygments_lexer": "ipython3",
   "version": "3.10.12"
  }
 },
 "nbformat": 4,
 "nbformat_minor": 2
}
