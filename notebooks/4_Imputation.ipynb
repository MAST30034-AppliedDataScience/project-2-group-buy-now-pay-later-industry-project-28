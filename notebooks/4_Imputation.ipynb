{
 "cells": [
  {
   "cell_type": "markdown",
   "metadata": {},
   "source": [
    "# Imputation"
   ]
  },
  {
   "cell_type": "markdown",
   "metadata": {},
   "source": [
    "This notebook involves the imputation of missing values in consumer and merchant fraud probabilities respectively, using Self-training Gradient Boosting."
   ]
  },
  {
   "cell_type": "markdown",
   "metadata": {},
   "source": [
    "---"
   ]
  },
  {
   "cell_type": "code",
   "execution_count": 1,
   "metadata": {},
   "outputs": [],
   "source": [
    "from pyspark.sql import SparkSession\n",
    "from pyspark.sql.functions import*\n",
    "from pyspark.ml.feature import StandardScaler, VectorAssembler\n",
    "from pyspark.ml.regression import GBTRegressor\n",
    "import pandas as pd\n",
    "from pyspark.sql.functions import col"
   ]
  },
  {
   "cell_type": "code",
   "execution_count": 2,
   "metadata": {},
   "outputs": [
    {
     "name": "stderr",
     "output_type": "stream",
     "text": [
      "24/09/20 02:23:08 WARN Utils: Your hostname, Cocos-MacBook-Air.local resolves to a loopback address: 127.0.0.1; using 172.16.33.67 instead (on interface en0)\n",
      "24/09/20 02:23:08 WARN Utils: Set SPARK_LOCAL_IP if you need to bind to another address\n",
      "Setting default log level to \"WARN\".\n",
      "To adjust logging level use sc.setLogLevel(newLevel). For SparkR, use setLogLevel(newLevel).\n",
      "24/09/20 02:23:09 WARN NativeCodeLoader: Unable to load native-hadoop library for your platform... using builtin-java classes where applicable\n",
      "24/09/20 02:23:10 WARN Utils: Service 'SparkUI' could not bind on port 4040. Attempting port 4041.\n"
     ]
    }
   ],
   "source": [
    "spark = (\n",
    "    SparkSession.builder.appName(\"Imputation\")\n",
    "    .config(\"spark.sql.repl.eagerEval.enabled\", True) \n",
    "    .config(\"spark.sql.parquet.cacheMetadata\", \"true\")\n",
    "    .config(\"spark.sql.session.timeZone\", \"Etc/UTC\")\n",
    "    .config(\"spark.sql.debug.maxToStringFields\", 3000)\n",
    "    .config(\"spark.network.timeout\", \"300s\")\n",
    "    .config(\"spark.driver.maxResultSize\", \"8g\")\n",
    "    .config(\"spark.rpc.askTimeout\", \"300s\")\n",
    "    .config(\"spark.driver.memory\", \"8G\")\n",
    "    .config(\"spark.executor.memory\", \"8G\")\n",
    "    .config(\"spark.executorEnv.LD_LIBRARY_PATH\", \"/opt/homebrew/opt/openblas/lib\")\n",
    "    .config(\"spark.driverEnv.LD_LIBRARY_PATH\", \"/opt/homebrew/opt/openblas/lib\")\n",
    "    .getOrCreate()\n",
    ")"
   ]
  },
  {
   "cell_type": "markdown",
   "metadata": {},
   "source": [
    "# Read datasets"
   ]
  },
  {
   "cell_type": "code",
   "execution_count": 3,
   "metadata": {},
   "outputs": [],
   "source": [
    "# read datasets\n",
    "merchant_full_expanded = spark.read.parquet('../data/curated/merchant_full_expanded')\n",
    "merchant_fraud = spark.read.csv('../data/tables/tables 1/merchant_fraud_probability.csv', header=True, inferSchema=True)\n",
    "consumer_full_expanded = spark.read.parquet('../data/curated/consumer_full_expanded')\n",
    "consumer_fraud = spark.read.csv('../data/tables/tables 1/consumer_fraud_probability.csv', header=True, inferSchema=True)"
   ]
  },
  {
   "cell_type": "code",
   "execution_count": 4,
   "metadata": {},
   "outputs": [
    {
     "name": "stdout",
     "output_type": "stream",
     "text": [
      "+--------+-------+--------------+-----------+------------------+-----+------------+------------------+--------------------+-----------------+------------------+---------------+--------------------------+------------------------+---------------+----------------------+------------------------+----------------------+------------------+---------------------+--------+---------+--------+---------+--------+---------+---------+---------+------------------+-------------+-----------+---------------+-------------------+\n",
      "|postcode|user_id|order_datetime|consumer_id|              name|state|merchant_abn|      dollar_value|            order_id|fraud_probability|average_population|avg_age_persons|avg_mortgage_repay_monthly|avg_tot_prsnl_inc_weekly|avg_rent_weekly|avg_tot_fam_inc_weekly|avg_num_psns_per_bedroom|avg_tot_hhd_inc_weekly|avg_household_size|avg_unemployment_rate|state_NT|state_ACT|state_SA|state_TAS|state_WA|state_QLD|state_VIC|state_NSW|gender_Undisclosed|gender_Female|gender_Male|order_timestamp|    hashed_postcode|\n",
      "+--------+-------+--------------+-----------+------------------+-----+------------+------------------+--------------------+-----------------+------------------+---------------+--------------------------+------------------------+---------------+----------------------+------------------------+----------------------+------------------+---------------------+--------+---------+--------+---------+--------+---------+---------+---------+------------------+-------------+-----------+---------------+-------------------+\n",
      "|    6519|  11138|    2022-08-25|     401483|   Veronica Nelson|   WA| 63290521567|41.239626303220014|09f6132a-a6a8-47a...|             NULL|            3993.5|           47.0|                     800.0|                   768.0|          175.0|                1684.0|                     0.7|                1310.0|               2.2|                  4.2|       0|        0|       0|        0|       1|        0|        0|        0|                 0|            1|          0|     1661385600|(6000,[5986],[1.0])|\n",
      "|    6170|  22285|    2022-08-25|     416278|       Luke Greene|   WA| 63465140133| 8.815286645396842|f4fc1a3b-a5b1-4d7...|             NULL|           26855.0|           35.0|                    1550.0|                   768.0|          312.5|                1864.0|                    0.75|                1640.5|               2.7|                  8.2|       0|        0|       0|        0|       1|        0|        0|        0|                 0|            0|          1|     1661385600|(6000,[2214],[1.0])|\n",
      "|    2281|  11139|    2022-08-25|     505718|    Monica Garrett|  NSW| 21359184622| 66.46301590693417|b1a52524-b6e6-42a...|             NULL|           18275.5|           49.0|                    1940.0|                   669.5|          345.0|                1752.5|                     0.8|                1329.5|2.3499999999999996|                  5.5|       0|        0|       0|        0|       0|        0|        0|        1|                 0|            1|          0|     1661385600|(6000,[4564],[1.0])|\n",
      "|    6170|  22285|    2022-08-25|     416278|       Luke Greene|   WA| 75034515922|19.654995598411727|ba240514-5dea-405...|             NULL|           26855.0|           35.0|                    1550.0|                   768.0|          312.5|                1864.0|                    0.75|                1640.5|               2.7|                  8.2|       0|        0|       0|        0|       1|        0|        0|        0|                 0|            0|          1|     1661385600|(6000,[2214],[1.0])|\n",
      "|    3677|  11140|    2022-08-25|     813297|Benjamin Schneider|  VIC| 96334476428| 6.383881161736656|3f1c61aa-6b5b-4c8...|             NULL|           19922.0|           44.0|                    1300.0|                   708.0|          260.0|                1732.0|                     0.7|                1242.0|               2.2|                  3.5|       0|        0|       0|        0|       0|        0|        1|        0|                 0|            0|          1|     1661385600|(6000,[5386],[1.0])|\n",
      "+--------+-------+--------------+-----------+------------------+-----+------------+------------------+--------------------+-----------------+------------------+---------------+--------------------------+------------------------+---------------+----------------------+------------------------+----------------------+------------------+---------------------+--------+---------+--------+---------+--------+---------+---------+---------+------------------+-------------+-----------+---------------+-------------------+\n",
      "only showing top 5 rows\n",
      "\n"
     ]
    },
    {
     "name": "stderr",
     "output_type": "stream",
     "text": [
      "                                                                                \r"
     ]
    }
   ],
   "source": [
    "consumer_full_expanded.show(5)"
   ]
  },
  {
   "cell_type": "code",
   "execution_count": 5,
   "metadata": {},
   "outputs": [
    {
     "name": "stdout",
     "output_type": "stream",
     "text": [
      "+--------------------+------------+--------------+------------------+---------+-----------------+-------------------+------------------+---------------+---------------+---------------+---------------+---------------+----------------+------------+-------------------+--------------+--------------+---------------+--------------+---------------+---------------+-----------------+---------------+----------------+----------------+-------------------+------------+----------------+------------------+-------------+-------------+---------------+---------------+-------------+--------------+--------------------+--------------+-------------------+-----------------+--------------+-----------------+--------------+-------------------+--------------+---------------+---------------+-------------+--------------+-------------------+--------------+--------------+----------------+-------------+-------------+---------------+---------------+----------------+----------------+---------------+------------------+----------------+-------------------+--------------------+----------------+-------------+-------------+------------------+-----------------+--------------+-----------------+------------------+----------------+----------------+-------------+----------------+-----------------+-------------+-------------------+----------------+-------------+-------------+------------+-------------------+-------------+-------------------+----------------+---------------+------------+---------------+---------------------+------------+-------------+---------------+------------------+--------------+----------------+---------------+\n",
      "|            order_id|merchant_abn|order_datetime|      dollar_value|take_rate|fraud_probability|transaction_revenue|      BNPL_revenue|revenue_level_e|revenue_level_d|revenue_level_c|revenue_level_b|revenue_level_a|category_jewelry|category_art|category_television|category_watch|category_cable|category_repair|category_stock|category_flower|category_office|category_souvenir|category_goods:|category_novelty|category_optical|category_integrated|category_new|category_antique|category_newspaper|category_shoe|category_tent|category_beauty|category_system|category_lawn|category_sheet|category_programming|category_radio|category_stationery|category_optician|category_paper|category_software|category_clock|category_peripheral|category_craft|category_awning|category_garden|category_data|category_music|category_silverware|category_movie|category_hobby|category_digital|category_sale|category_tool|category_artist|category_health|category_writing|category_musical|category_outlet|category_furniture|category_florist|category_periodical|category_restoration|category_telecom|category_part|category_card|category_satellite|category_eyeglass|category_motor|category_computer|category_equipment|category_service|category_leasing|category_gift|category_vehicle|category_printing|category_home|category_instrument|category_nursery|category_good|category_game|category_spa|category_furnishing|category_rent|category_processing|category_gallery|category_supply|category_pay|category_design|category_manufacturer|category_toy|category_book|category_dealer|category_appliance|category_piano|category_bicycle|order_timestamp|\n",
      "+--------------------+------------+--------------+------------------+---------+-----------------+-------------------+------------------+---------------+---------------+---------------+---------------+---------------+----------------+------------+-------------------+--------------+--------------+---------------+--------------+---------------+---------------+-----------------+---------------+----------------+----------------+-------------------+------------+----------------+------------------+-------------+-------------+---------------+---------------+-------------+--------------+--------------------+--------------+-------------------+-----------------+--------------+-----------------+--------------+-------------------+--------------+---------------+---------------+-------------+--------------+-------------------+--------------+--------------+----------------+-------------+-------------+---------------+---------------+----------------+----------------+---------------+------------------+----------------+-------------------+--------------------+----------------+-------------+-------------+------------------+-----------------+--------------+-----------------+------------------+----------------+----------------+-------------+----------------+-----------------+-------------+-------------------+----------------+-------------+-------------+------------+-------------------+-------------+-------------------+----------------+---------------+------------+---------------+---------------------+------------+-------------+---------------+------------------+--------------+----------------+---------------+\n",
      "|00000caa-1ce7-480...| 98861937890|    2022-08-26| 710.0244836793878|     6.04|             NULL|  667.1389983646845| 42.88547854338218|              0|              0|              0|              0|              1|               0|           0|                  0|             0|             0|              0|             0|              0|              0|                0|              0|               0|               0|                  0|           0|               0|                 0|            0|            0|              0|              0|            1|             0|                   0|             0|                  0|                0|             0|                0|             0|                  0|             0|              0|              1|            0|             0|                  0|             0|             0|               0|            0|            0|              0|              0|               0|               0|              1|                 0|               0|                  0|                   0|               0|            0|            0|                 0|                0|             0|                0|                 0|               0|               0|            0|               0|                0|            0|                  0|               1|            0|            0|           0|                  0|            0|                  0|               0|              1|           0|              0|                    0|           0|            0|              0|                 0|             0|               0|     1661472000|\n",
      "|000014a2-6e3e-4e9...| 23338656015|    2021-12-04|27.419018691099822|     3.25|             NULL|  26.52790058363908|0.8911181074607443|              0|              0|              0|              1|              0|               1|           0|                  0|             1|             0|              1|             0|              0|              0|                0|              0|               0|               0|                  0|           0|               0|                 0|            0|            0|              0|              0|            0|             0|                   0|             0|                  0|                0|             0|                0|             1|                  0|             0|              0|              0|            0|             0|                  0|             0|             0|               0|            0|            0|              0|              0|               0|               0|              0|                 0|               0|                  0|                   0|               0|            0|            0|                 0|                0|             0|                0|                 0|               0|               0|            0|               0|                0|            0|                  0|               0|            0|            0|           0|                  0|            0|                  0|               0|              0|           0|              0|                    0|           0|            0|              0|                 0|             0|               0|     1638576000|\n",
      "|00001833-06d4-47c...| 80324045558|    2022-08-09| 8.930737870729164|     1.47|             NULL|  8.799455915011649|0.1312818492548233|              0|              0|              1|              0|              0|               0|           0|                  0|             0|             0|              0|             0|              0|              0|                1|              0|               1|               0|                  0|           0|               0|                 0|            0|            0|              0|              0|            0|             0|                   0|             0|                  0|                0|             0|                0|             0|                  0|             0|              0|              0|            0|             0|                  0|             0|             0|               0|            0|            0|              0|              0|               0|               0|              0|                 0|               0|                  0|                   0|               0|            0|            1|                 0|                0|             0|                0|                 0|               0|               0|            1|               0|                0|            0|                  0|               0|            0|            0|           0|                  0|            0|                  0|               0|              0|           0|              0|                    0|           0|            0|              0|                 0|             0|               0|     1660003200|\n",
      "|0000839e-d7dd-465...| 76626119831|    2022-03-22| 82.19451066921269|     1.99|             NULL|  80.55884166275955| 1.635670770156012|              0|              0|              1|              0|              0|               0|           0|                  0|             0|             0|              1|             0|              0|              0|                0|              0|               0|               0|                  0|           0|               1|                 0|            0|            0|              0|              0|            0|             0|                   0|             0|                  0|                0|             0|                0|             0|                  0|             0|              0|              0|            0|             0|                  0|             0|             0|               0|            1|            0|              0|              0|               0|               0|              0|                 0|               0|                  0|                   1|               0|            0|            0|                 0|                0|             0|                0|                 0|               1|               0|            0|               0|                0|            0|                  0|               0|            0|            0|           0|                  0|            0|                  0|               0|              0|           0|              0|                    0|           0|            0|              0|                 0|             0|               0|     1647907200|\n",
      "|00008713-c65b-496...| 46607130088|    2022-02-08| 177.0048444195599|     6.22|             NULL|  165.9951409359596|11.009700951525684|              0|              0|              0|              0|              1|               0|           0|                  0|             0|             0|              0|             0|              0|              0|                0|              0|               0|               0|                  0|           0|               0|                 0|            0|            0|              0|              0|            0|             0|                   0|             0|                  0|                0|             0|                0|             0|                  0|             0|              0|              0|            0|             0|                  0|             0|             1|               0|            0|            0|              0|              0|               0|               0|              0|                 0|               0|                  0|                   0|               0|            0|            0|                 0|                0|             0|                0|                 0|               0|               0|            0|               0|                0|            0|                  0|               0|            0|            1|           0|                  0|            0|                  0|               0|              0|           0|              0|                    0|           1|            0|              0|                 0|             0|               0|     1644278400|\n",
      "+--------------------+------------+--------------+------------------+---------+-----------------+-------------------+------------------+---------------+---------------+---------------+---------------+---------------+----------------+------------+-------------------+--------------+--------------+---------------+--------------+---------------+---------------+-----------------+---------------+----------------+----------------+-------------------+------------+----------------+------------------+-------------+-------------+---------------+---------------+-------------+--------------+--------------------+--------------+-------------------+-----------------+--------------+-----------------+--------------+-------------------+--------------+---------------+---------------+-------------+--------------+-------------------+--------------+--------------+----------------+-------------+-------------+---------------+---------------+----------------+----------------+---------------+------------------+----------------+-------------------+--------------------+----------------+-------------+-------------+------------------+-----------------+--------------+-----------------+------------------+----------------+----------------+-------------+----------------+-----------------+-------------+-------------------+----------------+-------------+-------------+------------+-------------------+-------------+-------------------+----------------+---------------+------------+---------------+---------------------+------------+-------------+---------------+------------------+--------------+----------------+---------------+\n",
      "only showing top 5 rows\n",
      "\n"
     ]
    }
   ],
   "source": [
    "merchant_full_expanded.show(5)"
   ]
  },
  {
   "cell_type": "code",
   "execution_count": 6,
   "metadata": {},
   "outputs": [
    {
     "name": "stdout",
     "output_type": "stream",
     "text": [
      "+------------+--------------+------------------+\n",
      "|merchant_abn|order_datetime| fraud_probability|\n",
      "+------------+--------------+------------------+\n",
      "| 19492220327|    2021-11-28|44.403658647495355|\n",
      "| 31334588839|    2021-10-02| 42.75530083865367|\n",
      "| 19492220327|    2021-12-22|38.867790051131095|\n",
      "| 82999039227|    2021-12-19|  94.1347004808891|\n",
      "| 90918180829|    2021-09-02| 43.32551731714902|\n",
      "+------------+--------------+------------------+\n",
      "only showing top 5 rows\n",
      "\n"
     ]
    }
   ],
   "source": [
    "merchant_fraud.show(5)"
   ]
  },
  {
   "cell_type": "markdown",
   "metadata": {},
   "source": [
    "# Consumer fraud probability imputation"
   ]
  },
  {
   "cell_type": "markdown",
   "metadata": {},
   "source": [
    "### Impute NULLs for the consumers already have fraud probability\n",
    "\n",
    "We averaged the existed fraud probabilities for each consumer, then imputed the missing values for the consumer who already have history fraud probabilities by their average fraud probabilities."
   ]
  },
  {
   "cell_type": "code",
   "execution_count": 4,
   "metadata": {},
   "outputs": [
    {
     "name": "stdout",
     "output_type": "stream",
     "text": [
      "+-------+---------------------+\n",
      "|user_id|avg_fraud_probability|\n",
      "+-------+---------------------+\n",
      "|  15790|    43.91710485358618|\n",
      "|   5803|   30.845402987676184|\n",
      "|  16386|    61.39390975781492|\n",
      "|  12027|   28.783838366838232|\n",
      "|   9427|    44.94234071844568|\n",
      "+-------+---------------------+\n",
      "only showing top 5 rows\n",
      "\n"
     ]
    }
   ],
   "source": [
    "consumer_fraud_avg_df =  consumer_fraud.groupBy('user_id')\\\n",
    "                                       .agg(avg('fraud_probability')\\\n",
    "                                            .alias('avg_fraud_probability'))\n",
    "consumer_fraud_avg_df.show(5)\n"
   ]
  },
  {
   "cell_type": "code",
   "execution_count": 5,
   "metadata": {},
   "outputs": [
    {
     "data": {
      "text/plain": [
       "20128"
      ]
     },
     "execution_count": 5,
     "metadata": {},
     "output_type": "execute_result"
    }
   ],
   "source": [
    "consumer_fraud_avg_df.count()"
   ]
  },
  {
   "cell_type": "code",
   "execution_count": 6,
   "metadata": {},
   "outputs": [
    {
     "data": {
      "text/plain": [
       "11372745"
      ]
     },
     "execution_count": 6,
     "metadata": {},
     "output_type": "execute_result"
    }
   ],
   "source": [
    "consumer_full_expanded.count()"
   ]
  },
  {
   "cell_type": "markdown",
   "metadata": {},
   "source": [
    "Perform a left join of the `consumer_full_expanded` DataFrame with the `consumer_fraud_avg_df` DataFrame:"
   ]
  },
  {
   "cell_type": "code",
   "execution_count": 7,
   "metadata": {},
   "outputs": [],
   "source": [
    "# the join is based on the `user_id column\n",
    "imputed_consumer = consumer_full_expanded.join(\n",
    "    consumer_fraud_avg_df,\n",
    "    on='user_id',\n",
    "    how='left'\n",
    ")\n",
    "\n",
    "# fill null values in the `fraud_probability` column with the values from the `avg_fraud_probability` column\n",
    "# the 'coalesce' function returns the first non-null value\n",
    "imputed_consumer = imputed_consumer.withColumn(\n",
    "    'fraud_probability',\n",
    "    coalesce(col('fraud_probability'), col('avg_fraud_probability'))\n",
    ")\n",
    "\n",
    "# drop the temporary `avg_fraud_probability` column, which is no longer needed\n",
    "imputed_consumer = imputed_consumer.drop('avg_fraud_probability')"
   ]
  },
  {
   "cell_type": "code",
   "execution_count": 8,
   "metadata": {},
   "outputs": [
    {
     "data": {
      "text/plain": [
       "11372745"
      ]
     },
     "execution_count": 8,
     "metadata": {},
     "output_type": "execute_result"
    }
   ],
   "source": [
    "imputed_consumer.count()"
   ]
  },
  {
   "cell_type": "markdown",
   "metadata": {},
   "source": [
    "Check nulls:"
   ]
  },
  {
   "cell_type": "code",
   "execution_count": 9,
   "metadata": {},
   "outputs": [
    {
     "name": "stderr",
     "output_type": "stream",
     "text": [
      "[Stage 27:===================================================>      (8 + 1) / 9]\r"
     ]
    },
    {
     "name": "stdout",
     "output_type": "stream",
     "text": [
      "+-------+--------+--------------+-----------+----+-----+------------+------------+--------+-----------------+------------------+---------------+--------------------------+------------------------+---------------+----------------------+------------------------+----------------------+------------------+---------------------+--------+---------+--------+---------+--------+---------+---------+---------+------------------+-------------+-----------+---------------+---------------+\n",
      "|user_id|postcode|order_datetime|consumer_id|name|state|merchant_abn|dollar_value|order_id|fraud_probability|average_population|avg_age_persons|avg_mortgage_repay_monthly|avg_tot_prsnl_inc_weekly|avg_rent_weekly|avg_tot_fam_inc_weekly|avg_num_psns_per_bedroom|avg_tot_hhd_inc_weekly|avg_household_size|avg_unemployment_rate|state_NT|state_ACT|state_SA|state_TAS|state_WA|state_QLD|state_VIC|state_NSW|gender_Undisclosed|gender_Female|gender_Male|order_timestamp|hashed_postcode|\n",
      "+-------+--------+--------------+-----------+----+-----+------------+------------+--------+-----------------+------------------+---------------+--------------------------+------------------------+---------------+----------------------+------------------------+----------------------+------------------+---------------------+--------+---------+--------+---------+--------+---------+---------+---------+------------------+-------------+-----------+---------------+---------------+\n",
      "|      0|       0|             0|          0|   0|    0|           0|           0|       0|          1880923|                 0|              0|                         0|                       0|              0|                     0|                       0|                     0|                 0|                    0|       0|        0|       0|        0|       0|        0|        0|        0|                 0|            0|          0|              0|              0|\n",
      "+-------+--------+--------------+-----------+----+-----+------------+------------+--------+-----------------+------------------+---------------+--------------------------+------------------------+---------------+----------------------+------------------------+----------------------+------------------+---------------------+--------+---------+--------+---------+--------+---------+---------+---------+------------------+-------------+-----------+---------------+---------------+\n",
      "\n"
     ]
    },
    {
     "name": "stderr",
     "output_type": "stream",
     "text": [
      "                                                                                \r"
     ]
    }
   ],
   "source": [
    "# create a dictionary with column names and their respective null counts\n",
    "null_count_dict = {col_name: sum(col(col_name).isNull().cast(\"int\")).alias(col_name) for col_name in imputed_consumer.columns}\n",
    "\n",
    "# use agg() to calculate null counts for each column\n",
    "null_counts_df = imputed_consumer.agg(*null_count_dict.values())\n",
    "null_counts_df.show()"
   ]
  },
  {
   "cell_type": "markdown",
   "metadata": {},
   "source": [
    "This means there are 1,880,923 consumer fraud probability need to be imputed by machine learning models."
   ]
  },
  {
   "cell_type": "markdown",
   "metadata": {},
   "source": [
    "### Impute NULLs for the consumers without fraud probability\n",
    "\n",
    "Impute NULLs for the consumers without fraud probability using Self-training Gradient Boosting."
   ]
  },
  {
   "cell_type": "markdown",
   "metadata": {},
   "source": [
    "Select the labeled and unlabed data:"
   ]
  },
  {
   "cell_type": "code",
   "execution_count": 10,
   "metadata": {},
   "outputs": [],
   "source": [
    "# remove NULL fraud_probability used for training\n",
    "consumer_labeled_data = imputed_consumer.filter(col(\"fraud_probability\").isNotNull())\n",
    "\n",
    "# use NULL fraud_probability for testing\n",
    "consumer_unlabeled_data = imputed_consumer.filter(col(\"fraud_probability\").isNull())"
   ]
  },
  {
   "cell_type": "markdown",
   "metadata": {},
   "source": [
    "Compute the correlation of selected features with `fraud_probability`:"
   ]
  },
  {
   "cell_type": "code",
   "execution_count": 11,
   "metadata": {},
   "outputs": [
    {
     "name": "stdout",
     "output_type": "stream",
     "text": [
      "                            Correlation\n",
      "Feature                                \n",
      "postcode                      -0.003491\n",
      "order_timestamp                0.000373\n",
      "dollar_value                   0.016485\n",
      "average_population            -0.005810\n",
      "avg_age_persons               -0.000764\n",
      "avg_mortgage_repay_monthly    -0.003567\n",
      "avg_tot_prsnl_inc_weekly      -0.011556\n",
      "avg_rent_weekly               -0.003091\n",
      "avg_tot_fam_inc_weekly        -0.007922\n",
      "avg_num_psns_per_bedroom       0.005687\n",
      "avg_tot_hhd_inc_weekly        -0.004246\n",
      "avg_household_size             0.004015\n",
      "avg_unemployment_rate          0.009363\n",
      "gender_Undisclosed             0.002739\n",
      "gender_Female                 -0.011553\n",
      "gender_Male                    0.009862\n",
      "state_NT                       0.001789\n",
      "state_ACT                     -0.009079\n",
      "state_SA                      -0.001510\n",
      "state_TAS                      0.004775\n",
      "state_WA                      -0.010130\n",
      "state_QLD                      0.002624\n",
      "state_VIC                      0.004411\n",
      "state_NSW                      0.002161\n"
     ]
    }
   ],
   "source": [
    "# select features\n",
    "feature_columns = [\n",
    "    'postcode', 'order_timestamp', 'dollar_value', 'average_population',\n",
    "    'avg_age_persons', 'avg_mortgage_repay_monthly', 'avg_tot_prsnl_inc_weekly', \n",
    "    'avg_rent_weekly', 'avg_tot_fam_inc_weekly', 'avg_num_psns_per_bedroom', \n",
    "    'avg_tot_hhd_inc_weekly', 'avg_household_size', 'avg_unemployment_rate'\n",
    "] + [col for col in imputed_consumer.columns if col.startswith('gender_')] + [\n",
    "    col for col in imputed_consumer.columns if col.startswith('state_')]\n",
    "\n",
    "# calculate the correlation between each feature and fraud_probability\n",
    "correlations = []\n",
    "for feature in feature_columns:\n",
    "    corr_value = imputed_consumer.select(corr(col(feature), \n",
    "                                              col(\"fraud_probability\"))).collect()[0][0]\n",
    "    correlations.append((feature, corr_value))\n",
    "\n",
    "# print correlation table\n",
    "correlation_df = pd.DataFrame(correlations, columns=['Feature', \n",
    "                                                     'Correlation']).set_index('Feature')\n",
    "print(correlation_df)"
   ]
  },
  {
   "cell_type": "markdown",
   "metadata": {},
   "source": [
    "Train the initial model to do feature selection based on feature importances:"
   ]
  },
  {
   "cell_type": "code",
   "execution_count": 12,
   "metadata": {},
   "outputs": [
    {
     "name": "stderr",
     "output_type": "stream",
     "text": [
      "                                                                                \r"
     ]
    },
    {
     "name": "stdout",
     "output_type": "stream",
     "text": [
      "Feature importance:\n",
      "average_population: 0.13608788803926591\n",
      "avg_age_persons: 0.09967358332007537\n",
      "avg_unemployment_rate: 0.08050185291571943\n",
      "avg_mortgage_repay_monthly: 0.0803406703336747\n",
      "avg_rent_weekly: 0.07844855656281224\n",
      "avg_tot_hhd_inc_weekly: 0.07219214830497706\n",
      "avg_tot_prsnl_inc_weekly: 0.06830037934007921\n",
      "avg_tot_fam_inc_weekly: 0.05991186033483644\n",
      "avg_household_size: 0.05976023978916807\n",
      "gender_Female: 0.05690937060915915\n",
      "gender_Undisclosed: 0.05509439583313023\n",
      "gender_Male: 0.05487266996259641\n",
      "avg_num_psns_per_bedroom: 0.04536731130800019\n",
      "state_TAS: 0.010374273000643532\n",
      "state_VIC: 0.009201425972263106\n",
      "state_QLD: 0.008071944420716895\n",
      "state_SA: 0.007892753840143254\n",
      "state_WA: 0.005690241801330983\n",
      "state_NSW: 0.0042889056075008595\n",
      "order_timestamp: 0.002668222894765487\n",
      "state_NT: 0.0018247151912945765\n",
      "dollar_value: 0.0018124929694942422\n",
      "state_ACT: 0.0007140976483525273\n"
     ]
    }
   ],
   "source": [
    "# select features for training\n",
    "feature_columns = [\n",
    "    'order_timestamp', 'dollar_value', 'average_population',\n",
    "    'avg_age_persons', 'avg_mortgage_repay_monthly', 'avg_tot_prsnl_inc_weekly', \n",
    "    'avg_rent_weekly', 'avg_tot_fam_inc_weekly', 'avg_num_psns_per_bedroom', \n",
    "    'avg_tot_hhd_inc_weekly', 'avg_household_size', 'avg_unemployment_rate'\n",
    "] + [col for col in imputed_consumer.columns if col.startswith('gender_')] + [\n",
    "    col for col in imputed_consumer.columns if col.startswith('state_')]\n",
    "\n",
    "# create feature vectors\n",
    "assembler = VectorAssembler(inputCols=feature_columns, outputCol='features')\n",
    "labeled_data = assembler.transform(consumer_labeled_data.sample(fraction=0.1, seed=28))\n",
    "unlabeled_data = assembler.transform(consumer_unlabeled_data.sample(fraction=0.1, seed=28))\n",
    "\n",
    "# standardise features\n",
    "scaler = StandardScaler(inputCol=\"features\", outputCol=\"scaled_features\", \n",
    "                        withMean=True, withStd=True)\n",
    "\n",
    "# standardise labeled and unlabeled datasets\n",
    "scaler_model = scaler.fit(labeled_data)\n",
    "labeled_data = scaler_model.transform(labeled_data)\n",
    "unlabeled_data = scaler_model.transform(unlabeled_data)\n",
    "\n",
    "# train the initial model\n",
    "gbt = GBTRegressor(featuresCol='scaled_features', labelCol='fraud_probability', maxIter=100)\n",
    "model = gbt.fit(labeled_data)\n",
    "\n",
    "# get the feature importances\n",
    "feature_importances = model.featureImportances\n",
    "feature_importance_dict = dict(zip(feature_columns, feature_importances))\n",
    "\n",
    "# sort the feature importances\n",
    "sorted_feature_importances = sorted(feature_importance_dict.items(), \n",
    "                                    key=lambda x: x[1], reverse=True)\n",
    "print(\"Feature importance:\")\n",
    "for feature, importance in sorted_feature_importances:\n",
    "    print(f\"{feature}: {importance}\")"
   ]
  },
  {
   "cell_type": "markdown",
   "metadata": {},
   "source": [
    "Select the features whose feature importance is greater than 0.005, then re-train the model:"
   ]
  },
  {
   "cell_type": "code",
   "execution_count": 13,
   "metadata": {},
   "outputs": [
    {
     "name": "stderr",
     "output_type": "stream",
     "text": [
      "24/09/19 16:16:36 WARN InstanceBuilder: Failed to load implementation from:dev.ludovic.netlib.blas.JNIBLAS\n",
      "                                                                                \r"
     ]
    }
   ],
   "source": [
    "# select features with importance greater than 0.005\n",
    "selected_features = [feature for feature, importance in feature_importance_dict.items() if importance > 0.005]\n",
    "\n",
    "# create feature vectors with a unique name\n",
    "assembler = VectorAssembler(inputCols=selected_features, outputCol='selected_features')\n",
    "\n",
    "# update datasets with the selected features\n",
    "labeled_data = assembler.transform(consumer_labeled_data)\n",
    "unlabeled_data = assembler.transform(consumer_unlabeled_data)\n",
    "\n",
    "# standardize features\n",
    "scaler = StandardScaler(inputCol=\"selected_features\", \n",
    "                        outputCol=\"selected_scaled_features\", withMean=True, withStd=True)\n",
    "\n",
    "# fit and transform both labeled and unlabeled datasets\n",
    "scaler_model = scaler.fit(labeled_data)\n",
    "labeled_data = scaler_model.transform(labeled_data)\n",
    "unlabeled_data = scaler_model.transform(unlabeled_data)\n",
    "\n",
    "# initialize the GBT model\n",
    "gbt = GBTRegressor(featuresCol='selected_scaled_features', \n",
    "                   labelCol='fraud_probability', maxIter=100)\n",
    "\n",
    "# train the initial model\n",
    "model = gbt.fit(labeled_data)\n",
    "\n",
    "# self-training process\n",
    "max_iterations = 5  \n",
    "confidence_threshold = 0.9 \n",
    "\n",
    "for i in range(max_iterations):\n",
    "    # make predictions on unlabeled data\n",
    "    predictions = model.transform(unlabeled_data)\n",
    "    \n",
    "    # filter out high-confidence prediction samples to be added to labeled data\n",
    "    confident_predictions = predictions.filter(col(\"prediction\") > confidence_threshold)\n",
    "    \n",
    "    # stop iteration if no more high-confidence samples are available\n",
    "    if confident_predictions.count() == 0:\n",
    "        break\n",
    "    \n",
    "    # add high-confidence samples to labeled data\n",
    "    confident_predictions = confident_predictions.withColumn(\"fraud_probability\", \n",
    "                                                             col(\"prediction\"))\n",
    "    labeled_data = labeled_data.union(confident_predictions.select(labeled_data.columns))\n",
    "    \n",
    "    # remove predicted samples from unlabeled dataset\n",
    "    remaining_unlabeled_data = unlabeled_data.join(confident_predictions, \n",
    "                                                   on=\"merchant_abn\", how=\"leftanti\")\n",
    "    \n",
    "    # retrain the model\n",
    "    model = gbt.fit(labeled_data)\n",
    "    \n",
    "    # update unlabeled data\n",
    "    unlabeled_data = remaining_unlabeled_data\n",
    "\n",
    "# final model predicts the remaining unlabeled data\n",
    "final_predictions = model.transform(unlabeled_data)"
   ]
  },
  {
   "cell_type": "code",
   "execution_count": 14,
   "metadata": {},
   "outputs": [
    {
     "name": "stderr",
     "output_type": "stream",
     "text": [
      "[Stage 3238:=================================================>      (8 + 1) / 9]\r"
     ]
    },
    {
     "name": "stdout",
     "output_type": "stream",
     "text": [
      "+-------+--------+--------------+-----------+------------------+-----+------------+------------------+--------------------+------------------+------------------+---------------+--------------------------+------------------------+---------------+----------------------+------------------------+----------------------+------------------+---------------------+--------+---------+--------+---------+--------+---------+---------+---------+------------------+-------------+-----------+---------------+-------------------+--------------------+------------------------+\n",
      "|user_id|postcode|order_datetime|consumer_id|              name|state|merchant_abn|      dollar_value|            order_id| fraud_probability|average_population|avg_age_persons|avg_mortgage_repay_monthly|avg_tot_prsnl_inc_weekly|avg_rent_weekly|avg_tot_fam_inc_weekly|avg_num_psns_per_bedroom|avg_tot_hhd_inc_weekly|avg_household_size|avg_unemployment_rate|state_NT|state_ACT|state_SA|state_TAS|state_WA|state_QLD|state_VIC|state_NSW|gender_Undisclosed|gender_Female|gender_Male|order_timestamp|    hashed_postcode|   selected_features|selected_scaled_features|\n",
      "+-------+--------+--------------+-----------+------------------+-----+------------+------------------+--------------------+------------------+------------------+---------------+--------------------------+------------------------+---------------+----------------------+------------------------+----------------------+------------------+---------------------+--------+---------+--------+---------+--------+---------+---------+---------+------------------+-------------+-----------+---------------+-------------------+--------------------+------------------------+\n",
      "|  11138|    6519|    2022-08-25|     401483|   Veronica Nelson|   WA| 63290521567|41.239626303220014|09f6132a-a6a8-47a...|11.998913422103769|            3993.5|           47.0|                     800.0|                   768.0|          175.0|                1684.0|                     0.7|                1310.0|               2.2|                  4.2|       0|        0|       0|        0|       1|        0|        0|        0|                 0|            1|          0|     1661385600|(6000,[5986],[1.0])|[3993.5,47.0,800....|    [-0.8386138483034...|\n",
      "|  22285|    6170|    2022-08-25|     416278|       Luke Greene|   WA| 63465140133| 8.815286645396842|f4fc1a3b-a5b1-4d7...|11.897039565334778|           26855.0|           35.0|                    1550.0|                   768.0|          312.5|                1864.0|                    0.75|                1640.5|               2.7|                  8.2|       0|        0|       0|        0|       1|        0|        0|        0|                 0|            0|          1|     1661385600|(6000,[2214],[1.0])|[26855.0,35.0,155...|    [0.47757684079117...|\n",
      "|  11139|    2281|    2022-08-25|     505718|    Monica Garrett|  NSW| 21359184622| 66.46301590693417|b1a52524-b6e6-42a...|15.238617000084226|           18275.5|           49.0|                    1940.0|                   669.5|          345.0|                1752.5|                     0.8|                1329.5|2.3499999999999996|                  5.5|       0|        0|       0|        0|       0|        0|        0|        1|                 0|            1|          0|     1661385600|(6000,[4564],[1.0])|[18275.5,49.0,194...|    [-0.0163652897377...|\n",
      "|  22285|    6170|    2022-08-25|     416278|       Luke Greene|   WA| 75034515922|19.654995598411727|ba240514-5dea-405...|11.897039565334778|           26855.0|           35.0|                    1550.0|                   768.0|          312.5|                1864.0|                    0.75|                1640.5|               2.7|                  8.2|       0|        0|       0|        0|       1|        0|        0|        0|                 0|            0|          1|     1661385600|(6000,[2214],[1.0])|[26855.0,35.0,155...|    [0.47757684079117...|\n",
      "|  11140|    3677|    2022-08-25|     813297|Benjamin Schneider|  VIC| 96334476428| 6.383881161736656|3f1c61aa-6b5b-4c8...|16.511154537793757|           19922.0|           44.0|                    1300.0|                   708.0|          260.0|                1732.0|                     0.7|                1242.0|               2.2|                  3.5|       0|        0|       0|        0|       0|        0|        1|        0|                 0|            0|          1|     1661385600|(6000,[5386],[1.0])|[19922.0,44.0,130...|    [0.07842761403472...|\n",
      "+-------+--------+--------------+-----------+------------------+-----+------------+------------------+--------------------+------------------+------------------+---------------+--------------------------+------------------------+---------------+----------------------+------------------------+----------------------+------------------+---------------------+--------+---------+--------+---------+--------+---------+---------+---------+------------------+-------------+-----------+---------------+-------------------+--------------------+------------------------+\n",
      "only showing top 5 rows\n",
      "\n"
     ]
    },
    {
     "name": "stderr",
     "output_type": "stream",
     "text": [
      "                                                                                \r"
     ]
    }
   ],
   "source": [
    "# apply final predicted fraud_probability to unlabeled data\n",
    "final_imputed_consumer = final_predictions.withColumn('fraud_probability', col('prediction'))\n",
    "\n",
    "# combined filled results\n",
    "final_imputed_consumer = labeled_data.union(final_imputed_consumer.select(labeled_data.columns))\n",
    "final_imputed_consumer.show(5)"
   ]
  },
  {
   "cell_type": "code",
   "execution_count": 15,
   "metadata": {},
   "outputs": [
    {
     "name": "stderr",
     "output_type": "stream",
     "text": [
      "                                                                                \r"
     ]
    }
   ],
   "source": [
    "# save as a parquet file\n",
    "final_imputed_consumer = final_imputed_consumer.drop('selected_features', 'selected_scaled_features')\n",
    "final_imputed_consumer.write.parquet('../data/curated/final_imputed_consumer', mode='overwrite')"
   ]
  },
  {
   "cell_type": "markdown",
   "metadata": {},
   "source": [
    "Confirm there is no nulls:"
   ]
  },
  {
   "cell_type": "code",
   "execution_count": 16,
   "metadata": {},
   "outputs": [
    {
     "name": "stderr",
     "output_type": "stream",
     "text": [
      "[Stage 3257:====================================================> (26 + 1) / 27]\r"
     ]
    },
    {
     "name": "stdout",
     "output_type": "stream",
     "text": [
      "+-------+--------+--------------+-----------+----+-----+------------+------------+--------+-----------------+------------------+---------------+--------------------------+------------------------+---------------+----------------------+------------------------+----------------------+------------------+---------------------+--------+---------+--------+---------+--------+---------+---------+---------+------------------+-------------+-----------+---------------+---------------+\n",
      "|user_id|postcode|order_datetime|consumer_id|name|state|merchant_abn|dollar_value|order_id|fraud_probability|average_population|avg_age_persons|avg_mortgage_repay_monthly|avg_tot_prsnl_inc_weekly|avg_rent_weekly|avg_tot_fam_inc_weekly|avg_num_psns_per_bedroom|avg_tot_hhd_inc_weekly|avg_household_size|avg_unemployment_rate|state_NT|state_ACT|state_SA|state_TAS|state_WA|state_QLD|state_VIC|state_NSW|gender_Undisclosed|gender_Female|gender_Male|order_timestamp|hashed_postcode|\n",
      "+-------+--------+--------------+-----------+----+-----+------------+------------+--------+-----------------+------------------+---------------+--------------------------+------------------------+---------------+----------------------+------------------------+----------------------+------------------+---------------------+--------+---------+--------+---------+--------+---------+---------+---------+------------------+-------------+-----------+---------------+---------------+\n",
      "|      0|       0|             0|          0|   0|    0|           0|           0|       0|                0|                 0|              0|                         0|                       0|              0|                     0|                       0|                     0|                 0|                    0|       0|        0|       0|        0|       0|        0|        0|        0|                 0|            0|          0|              0|              0|\n",
      "+-------+--------+--------------+-----------+----+-----+------------+------------+--------+-----------------+------------------+---------------+--------------------------+------------------------+---------------+----------------------+------------------------+----------------------+------------------+---------------------+--------+---------+--------+---------+--------+---------+---------+---------+------------------+-------------+-----------+---------------+---------------+\n",
      "\n"
     ]
    },
    {
     "name": "stderr",
     "output_type": "stream",
     "text": [
      "                                                                                \r"
     ]
    }
   ],
   "source": [
    "# create a dictionary with column names and their respective null counts\n",
    "null_count_dict = {col_name: sum(col(col_name).isNull().cast(\"int\")).alias(col_name) for col_name in final_imputed_consumer.columns}\n",
    "\n",
    "# use agg() to calculate null counts for each column\n",
    "null_counts_df = final_imputed_consumer.agg(*null_count_dict.values())\n",
    "null_counts_df.show()"
   ]
  },
  {
   "cell_type": "code",
   "execution_count": 17,
   "metadata": {},
   "outputs": [
    {
     "name": "stderr",
     "output_type": "stream",
     "text": [
      "                                                                                \r"
     ]
    },
    {
     "data": {
      "text/plain": [
       "11372745"
      ]
     },
     "execution_count": 17,
     "metadata": {},
     "output_type": "execute_result"
    }
   ],
   "source": [
    "final_imputed_consumer.count()"
   ]
  },
  {
   "cell_type": "markdown",
   "metadata": {},
   "source": [
    "# Merchant fraud probability imputation"
   ]
  },
  {
   "cell_type": "markdown",
   "metadata": {},
   "source": [
    "### Impute NULLs for the merchants already have fraud probability\n",
    "\n",
    "We averaged the existed fraud probabilities for each merchant, then imputed the missing values for the merchant who already have history fraud probabilities by their average fraud probabilities."
   ]
  },
  {
   "cell_type": "code",
   "execution_count": 4,
   "metadata": {},
   "outputs": [
    {
     "name": "stdout",
     "output_type": "stream",
     "text": [
      "+------------+---------------------+\n",
      "|merchant_abn|avg_fraud_probability|\n",
      "+------------+---------------------+\n",
      "| 99989036621|    18.21089142894488|\n",
      "| 90568944804|    30.72298492113958|\n",
      "| 29674997261|    44.43787807900268|\n",
      "| 27093785141|    28.88064813052203|\n",
      "| 19492220327|   31.958306675667547|\n",
      "+------------+---------------------+\n",
      "only showing top 5 rows\n",
      "\n"
     ]
    }
   ],
   "source": [
    "# calculate the mean of 'fraud_prob' for each unique 'merchant_abn'\n",
    "merchant_fraud_avg_df = merchant_fraud.groupBy('merchant_abn')\\\n",
    "                                      .agg(avg('fraud_probability')\\\n",
    "                                           .alias('avg_fraud_probability'))\n",
    "merchant_fraud_avg_df.show(5)\n"
   ]
  },
  {
   "cell_type": "code",
   "execution_count": 5,
   "metadata": {},
   "outputs": [
    {
     "name": "stdout",
     "output_type": "stream",
     "text": [
      "+------------+--------------------+--------------+------------------+---------+-----------------+-------------------+------------------+---------------+---------------+---------------+---------------+---------------+----------------+------------+-------------------+--------------+--------------+---------------+--------------+---------------+---------------+-----------------+---------------+----------------+----------------+-------------------+------------+----------------+------------------+-------------+-------------+---------------+---------------+-------------+--------------+--------------------+--------------+-------------------+-----------------+--------------+-----------------+--------------+-------------------+--------------+---------------+---------------+-------------+--------------+-------------------+--------------+--------------+----------------+-------------+-------------+---------------+---------------+----------------+----------------+---------------+------------------+----------------+-------------------+--------------------+----------------+-------------+-------------+------------------+-----------------+--------------+-----------------+------------------+----------------+----------------+-------------+----------------+-----------------+-------------+-------------------+----------------+-------------+-------------+------------+-------------------+-------------+-------------------+----------------+---------------+------------+---------------+---------------------+------------+-------------+---------------+------------------+--------------+----------------+---------------+\n",
      "|merchant_abn|            order_id|order_datetime|      dollar_value|take_rate|fraud_probability|transaction_revenue|      BNPL_revenue|revenue_level_e|revenue_level_d|revenue_level_c|revenue_level_b|revenue_level_a|category_jewelry|category_art|category_television|category_watch|category_cable|category_repair|category_stock|category_flower|category_office|category_souvenir|category_goods:|category_novelty|category_optical|category_integrated|category_new|category_antique|category_newspaper|category_shoe|category_tent|category_beauty|category_system|category_lawn|category_sheet|category_programming|category_radio|category_stationery|category_optician|category_paper|category_software|category_clock|category_peripheral|category_craft|category_awning|category_garden|category_data|category_music|category_silverware|category_movie|category_hobby|category_digital|category_sale|category_tool|category_artist|category_health|category_writing|category_musical|category_outlet|category_furniture|category_florist|category_periodical|category_restoration|category_telecom|category_part|category_card|category_satellite|category_eyeglass|category_motor|category_computer|category_equipment|category_service|category_leasing|category_gift|category_vehicle|category_printing|category_home|category_instrument|category_nursery|category_good|category_game|category_spa|category_furnishing|category_rent|category_processing|category_gallery|category_supply|category_pay|category_design|category_manufacturer|category_toy|category_book|category_dealer|category_appliance|category_piano|category_bicycle|order_timestamp|\n",
      "+------------+--------------------+--------------+------------------+---------+-----------------+-------------------+------------------+---------------+---------------+---------------+---------------+---------------+----------------+------------+-------------------+--------------+--------------+---------------+--------------+---------------+---------------+-----------------+---------------+----------------+----------------+-------------------+------------+----------------+------------------+-------------+-------------+---------------+---------------+-------------+--------------+--------------------+--------------+-------------------+-----------------+--------------+-----------------+--------------+-------------------+--------------+---------------+---------------+-------------+--------------+-------------------+--------------+--------------+----------------+-------------+-------------+---------------+---------------+----------------+----------------+---------------+------------------+----------------+-------------------+--------------------+----------------+-------------+-------------+------------------+-----------------+--------------+-----------------+------------------+----------------+----------------+-------------+----------------+-----------------+-------------+-------------------+----------------+-------------+-------------+------------+-------------------+-------------+-------------------+----------------+---------------+------------+---------------+---------------------+------------+-------------+---------------+------------------+--------------+----------------+---------------+\n",
      "| 98861937890|00000caa-1ce7-480...|    2022-08-26| 710.0244836793878|     6.04|             NULL|  667.1389983646845| 42.88547854338218|              0|              0|              0|              0|              1|               0|           0|                  0|             0|             0|              0|             0|              0|              0|                0|              0|               0|               0|                  0|           0|               0|                 0|            0|            0|              0|              0|            1|             0|                   0|             0|                  0|                0|             0|                0|             0|                  0|             0|              0|              1|            0|             0|                  0|             0|             0|               0|            0|            0|              0|              0|               0|               0|              1|                 0|               0|                  0|                   0|               0|            0|            0|                 0|                0|             0|                0|                 0|               0|               0|            0|               0|                0|            0|                  0|               1|            0|            0|           0|                  0|            0|                  0|               0|              1|           0|              0|                    0|           0|            0|              0|                 0|             0|               0|     1661472000|\n",
      "| 23338656015|000014a2-6e3e-4e9...|    2021-12-04|27.419018691099822|     3.25|             NULL|  26.52790058363908|0.8911181074607443|              0|              0|              0|              1|              0|               1|           0|                  0|             1|             0|              1|             0|              0|              0|                0|              0|               0|               0|                  0|           0|               0|                 0|            0|            0|              0|              0|            0|             0|                   0|             0|                  0|                0|             0|                0|             1|                  0|             0|              0|              0|            0|             0|                  0|             0|             0|               0|            0|            0|              0|              0|               0|               0|              0|                 0|               0|                  0|                   0|               0|            0|            0|                 0|                0|             0|                0|                 0|               0|               0|            0|               0|                0|            0|                  0|               0|            0|            0|           0|                  0|            0|                  0|               0|              0|           0|              0|                    0|           0|            0|              0|                 0|             0|               0|     1638576000|\n",
      "| 80324045558|00001833-06d4-47c...|    2022-08-09| 8.930737870729164|     1.47|             NULL|  8.799455915011649|0.1312818492548233|              0|              0|              1|              0|              0|               0|           0|                  0|             0|             0|              0|             0|              0|              0|                1|              0|               1|               0|                  0|           0|               0|                 0|            0|            0|              0|              0|            0|             0|                   0|             0|                  0|                0|             0|                0|             0|                  0|             0|              0|              0|            0|             0|                  0|             0|             0|               0|            0|            0|              0|              0|               0|               0|              0|                 0|               0|                  0|                   0|               0|            0|            1|                 0|                0|             0|                0|                 0|               0|               0|            1|               0|                0|            0|                  0|               0|            0|            0|           0|                  0|            0|                  0|               0|              0|           0|              0|                    0|           0|            0|              0|                 0|             0|               0|     1660003200|\n",
      "| 76626119831|0000839e-d7dd-465...|    2022-03-22| 82.19451066921269|     1.99|             NULL|  80.55884166275955| 1.635670770156012|              0|              0|              1|              0|              0|               0|           0|                  0|             0|             0|              1|             0|              0|              0|                0|              0|               0|               0|                  0|           0|               1|                 0|            0|            0|              0|              0|            0|             0|                   0|             0|                  0|                0|             0|                0|             0|                  0|             0|              0|              0|            0|             0|                  0|             0|             0|               0|            1|            0|              0|              0|               0|               0|              0|                 0|               0|                  0|                   1|               0|            0|            0|                 0|                0|             0|                0|                 0|               1|               0|            0|               0|                0|            0|                  0|               0|            0|            0|           0|                  0|            0|                  0|               0|              0|           0|              0|                    0|           0|            0|              0|                 0|             0|               0|     1647907200|\n",
      "| 46607130088|00008713-c65b-496...|    2022-02-08| 177.0048444195599|     6.22|             NULL|  165.9951409359596|11.009700951525684|              0|              0|              0|              0|              1|               0|           0|                  0|             0|             0|              0|             0|              0|              0|                0|              0|               0|               0|                  0|           0|               0|                 0|            0|            0|              0|              0|            0|             0|                   0|             0|                  0|                0|             0|                0|             0|                  0|             0|              0|              0|            0|             0|                  0|             0|             1|               0|            0|            0|              0|              0|               0|               0|              0|                 0|               0|                  0|                   0|               0|            0|            0|                 0|                0|             0|                0|                 0|               0|               0|            0|               0|                0|            0|                  0|               0|            0|            1|           0|                  0|            0|                  0|               0|              0|           0|              0|                    0|           1|            0|              0|                 0|             0|               0|     1644278400|\n",
      "+------------+--------------------+--------------+------------------+---------+-----------------+-------------------+------------------+---------------+---------------+---------------+---------------+---------------+----------------+------------+-------------------+--------------+--------------+---------------+--------------+---------------+---------------+-----------------+---------------+----------------+----------------+-------------------+------------+----------------+------------------+-------------+-------------+---------------+---------------+-------------+--------------+--------------------+--------------+-------------------+-----------------+--------------+-----------------+--------------+-------------------+--------------+---------------+---------------+-------------+--------------+-------------------+--------------+--------------+----------------+-------------+-------------+---------------+---------------+----------------+----------------+---------------+------------------+----------------+-------------------+--------------------+----------------+-------------+-------------+------------------+-----------------+--------------+-----------------+------------------+----------------+----------------+-------------+----------------+-----------------+-------------+-------------------+----------------+-------------+-------------+------------+-------------------+-------------+-------------------+----------------+---------------+------------+---------------+---------------------+------------+-------------+---------------+------------------+--------------+----------------+---------------+\n",
      "only showing top 5 rows\n",
      "\n"
     ]
    },
    {
     "name": "stderr",
     "output_type": "stream",
     "text": [
      "                                                                                \r"
     ]
    }
   ],
   "source": [
    "# select only the relevant columns from merchant_fraud_avg_df\n",
    "merchant_fraud_avg_df = merchant_fraud_avg_df.select('merchant_abn', 'avg_fraud_probability')\n",
    "\n",
    "# perform a left join between merchant_df2 and merchant_fraud_avg_df on merchant_abn\n",
    "imputed_merchant = merchant_full_expanded.join(\n",
    "    merchant_fraud_avg_df,\n",
    "    on='merchant_abn',\n",
    "    how='left'\n",
    ")\n",
    "\n",
    "# fill null values in fraud_probability with avg_fraud_prob\n",
    "imputed_merchant= imputed_merchant.withColumn(\n",
    "    'fraud_probability',\n",
    "    coalesce(col('fraud_probability'), col('avg_fraud_probability'))\n",
    ")\n",
    "\n",
    "# drop the temporary avg_fraud_prob column\n",
    "imputed_merchant = imputed_merchant.drop('avg_fraud_probability')\n",
    "imputed_merchant.show(5)"
   ]
  },
  {
   "cell_type": "code",
   "execution_count": 6,
   "metadata": {},
   "outputs": [
    {
     "data": {
      "text/plain": [
       "11372745"
      ]
     },
     "execution_count": 6,
     "metadata": {},
     "output_type": "execute_result"
    }
   ],
   "source": [
    "imputed_merchant.count()"
   ]
  },
  {
   "cell_type": "code",
   "execution_count": 7,
   "metadata": {},
   "outputs": [
    {
     "name": "stderr",
     "output_type": "stream",
     "text": [
      "[Stage 19:====================================>                    (9 + 5) / 14]\r"
     ]
    },
    {
     "name": "stdout",
     "output_type": "stream",
     "text": [
      "+------------+--------+--------------+------------+---------+-----------------+-------------------+------------+---------------+---------------+---------------+---------------+---------------+----------------+------------+-------------------+--------------+--------------+---------------+--------------+---------------+---------------+-----------------+---------------+----------------+----------------+-------------------+------------+----------------+------------------+-------------+-------------+---------------+---------------+-------------+--------------+--------------------+--------------+-------------------+-----------------+--------------+-----------------+--------------+-------------------+--------------+---------------+---------------+-------------+--------------+-------------------+--------------+--------------+----------------+-------------+-------------+---------------+---------------+----------------+----------------+---------------+------------------+----------------+-------------------+--------------------+----------------+-------------+-------------+------------------+-----------------+--------------+-----------------+------------------+----------------+----------------+-------------+----------------+-----------------+-------------+-------------------+----------------+-------------+-------------+------------+-------------------+-------------+-------------------+----------------+---------------+------------+---------------+---------------------+------------+-------------+---------------+------------------+--------------+----------------+---------------+\n",
      "|merchant_abn|order_id|order_datetime|dollar_value|take_rate|fraud_probability|transaction_revenue|BNPL_revenue|revenue_level_e|revenue_level_d|revenue_level_c|revenue_level_b|revenue_level_a|category_jewelry|category_art|category_television|category_watch|category_cable|category_repair|category_stock|category_flower|category_office|category_souvenir|category_goods:|category_novelty|category_optical|category_integrated|category_new|category_antique|category_newspaper|category_shoe|category_tent|category_beauty|category_system|category_lawn|category_sheet|category_programming|category_radio|category_stationery|category_optician|category_paper|category_software|category_clock|category_peripheral|category_craft|category_awning|category_garden|category_data|category_music|category_silverware|category_movie|category_hobby|category_digital|category_sale|category_tool|category_artist|category_health|category_writing|category_musical|category_outlet|category_furniture|category_florist|category_periodical|category_restoration|category_telecom|category_part|category_card|category_satellite|category_eyeglass|category_motor|category_computer|category_equipment|category_service|category_leasing|category_gift|category_vehicle|category_printing|category_home|category_instrument|category_nursery|category_good|category_game|category_spa|category_furnishing|category_rent|category_processing|category_gallery|category_supply|category_pay|category_design|category_manufacturer|category_toy|category_book|category_dealer|category_appliance|category_piano|category_bicycle|order_timestamp|\n",
      "+------------+--------+--------------+------------+---------+-----------------+-------------------+------------+---------------+---------------+---------------+---------------+---------------+----------------+------------+-------------------+--------------+--------------+---------------+--------------+---------------+---------------+-----------------+---------------+----------------+----------------+-------------------+------------+----------------+------------------+-------------+-------------+---------------+---------------+-------------+--------------+--------------------+--------------+-------------------+-----------------+--------------+-----------------+--------------+-------------------+--------------+---------------+---------------+-------------+--------------+-------------------+--------------+--------------+----------------+-------------+-------------+---------------+---------------+----------------+----------------+---------------+------------------+----------------+-------------------+--------------------+----------------+-------------+-------------+------------------+-----------------+--------------+-----------------+------------------+----------------+----------------+-------------+----------------+-----------------+-------------+-------------------+----------------+-------------+-------------+------------+-------------------+-------------+-------------------+----------------+---------------+------------+---------------+---------------------+------------+-------------+---------------+------------------+--------------+----------------+---------------+\n",
      "|           0|       0|             0|           0|        0|         10884814|                  0|           0|              0|              0|              0|              0|              0|               0|           0|                  0|             0|             0|              0|             0|              0|              0|                0|              0|               0|               0|                  0|           0|               0|                 0|            0|            0|              0|              0|            0|             0|                   0|             0|                  0|                0|             0|                0|             0|                  0|             0|              0|              0|            0|             0|                  0|             0|             0|               0|            0|            0|              0|              0|               0|               0|              0|                 0|               0|                  0|                   0|               0|            0|            0|                 0|                0|             0|                0|                 0|               0|               0|            0|               0|                0|            0|                  0|               0|            0|            0|           0|                  0|            0|                  0|               0|              0|           0|              0|                    0|           0|            0|              0|                 0|             0|               0|              0|\n",
      "+------------+--------+--------------+------------+---------+-----------------+-------------------+------------+---------------+---------------+---------------+---------------+---------------+----------------+------------+-------------------+--------------+--------------+---------------+--------------+---------------+---------------+-----------------+---------------+----------------+----------------+-------------------+------------+----------------+------------------+-------------+-------------+---------------+---------------+-------------+--------------+--------------------+--------------+-------------------+-----------------+--------------+-----------------+--------------+-------------------+--------------+---------------+---------------+-------------+--------------+-------------------+--------------+--------------+----------------+-------------+-------------+---------------+---------------+----------------+----------------+---------------+------------------+----------------+-------------------+--------------------+----------------+-------------+-------------+------------------+-----------------+--------------+-----------------+------------------+----------------+----------------+-------------+----------------+-----------------+-------------+-------------------+----------------+-------------+-------------+------------+-------------------+-------------+-------------------+----------------+---------------+------------+---------------+---------------------+------------+-------------+---------------+------------------+--------------+----------------+---------------+\n",
      "\n"
     ]
    },
    {
     "name": "stderr",
     "output_type": "stream",
     "text": [
      "                                                                                \r"
     ]
    }
   ],
   "source": [
    "# create a dictionary with column names and their respective null counts\n",
    "null_count_dict = {col_name: sum(col(col_name).isNull().cast(\"int\")).alias(col_name) for col_name in imputed_merchant.columns}\n",
    "\n",
    "# use agg() to calculate null counts for each column\n",
    "null_counts_df = imputed_merchant.agg(*null_count_dict.values())\n",
    "null_counts_df.show()"
   ]
  },
  {
   "cell_type": "markdown",
   "metadata": {},
   "source": [
    "This means there are 10,884,814 merchant fraud probability need to be imputed by machine learning models."
   ]
  },
  {
   "cell_type": "markdown",
   "metadata": {},
   "source": [
    "### Impute NULLs for the merchants without fraud probability\n",
    "\n",
    "Impute NULLs for the merchants without fraud probability using Self-training Gradient Boosting."
   ]
  },
  {
   "cell_type": "markdown",
   "metadata": {},
   "source": [
    "Select the labeled and unlabed data:"
   ]
  },
  {
   "cell_type": "code",
   "execution_count": 8,
   "metadata": {},
   "outputs": [],
   "source": [
    "# remove NULL fraud_probability used for training\n",
    "merchant_labeled_data = imputed_merchant.filter(col(\"fraud_probability\").isNotNull())\n",
    "\n",
    "# use NULL fraud_probability for testing\n",
    "merchant_unlabeled_data = imputed_merchant.filter(col(\"fraud_probability\").isNull())"
   ]
  },
  {
   "cell_type": "markdown",
   "metadata": {},
   "source": [
    "Train the initial model to do feature selection based on feature importances:"
   ]
  },
  {
   "cell_type": "code",
   "execution_count": 9,
   "metadata": {},
   "outputs": [
    {
     "name": "stderr",
     "output_type": "stream",
     "text": [
      "                                                                                \r"
     ]
    },
    {
     "name": "stdout",
     "output_type": "stream",
     "text": [
      "Feature importance:\n",
      "revenue_level_c: 0.3196450588025708\n",
      "revenue_level_b: 0.13121213251244154\n",
      "category_beauty: 0.10602245269747404\n",
      "revenue_level_a: 0.06354516794501573\n",
      "category_furniture: 0.056126046388914295\n",
      "category_supply: 0.04819241719980726\n",
      "category_software: 0.03977970141294704\n",
      "category_souvenir: 0.03933244773156999\n",
      "category_service: 0.025136680391322965\n",
      "revenue_level_e: 0.024533076405067522\n",
      "category_optical: 0.02285272993284839\n",
      "revenue_level_d: 0.021836405462819005\n",
      "category_stock: 0.02010631938555155\n",
      "category_equipment: 0.016039690297983106\n",
      "category_jewelry: 0.012911985700468866\n",
      "category_sale: 0.009681213265161732\n",
      "category_newspaper: 0.008320891215423301\n",
      "category_shoe: 0.008111756751337358\n",
      "category_art: 0.00529404153014528\n",
      "category_television: 0.00492584646273396\n",
      "transaction_revenue: 0.004460131611061774\n",
      "category_telecom: 0.002684266885595962\n",
      "category_craft: 0.002620912195595103\n",
      "order_timestamp: 0.0025872842274343804\n",
      "category_silverware: 0.0025806677023705563\n",
      "category_repair: 0.0006649645854511379\n",
      "category_tent: 0.00046347070400623293\n",
      "category_lawn: 0.00011697954682055098\n",
      "category_office: 9.881823033432377e-05\n",
      "category_integrated: 8.545331754215588e-05\n",
      "category_antique: 1.698963643634718e-05\n",
      "category_new: 1.0975886969312205e-05\n",
      "category_computer: 2.676804055695677e-06\n",
      "category_bicycle: 3.4717472291891776e-07\n",
      "category_watch: 0.0\n",
      "category_cable: 0.0\n",
      "category_flower: 0.0\n",
      "category_goods:: 0.0\n",
      "category_novelty: 0.0\n",
      "category_system: 0.0\n",
      "category_sheet: 0.0\n",
      "category_programming: 0.0\n",
      "category_radio: 0.0\n",
      "category_stationery: 0.0\n",
      "category_optician: 0.0\n",
      "category_paper: 0.0\n",
      "category_clock: 0.0\n",
      "category_peripheral: 0.0\n",
      "category_awning: 0.0\n",
      "category_garden: 0.0\n",
      "category_data: 0.0\n",
      "category_music: 0.0\n",
      "category_movie: 0.0\n",
      "category_hobby: 0.0\n",
      "category_digital: 0.0\n",
      "category_tool: 0.0\n",
      "category_artist: 0.0\n",
      "category_health: 0.0\n",
      "category_writing: 0.0\n",
      "category_musical: 0.0\n",
      "category_outlet: 0.0\n",
      "category_florist: 0.0\n",
      "category_periodical: 0.0\n",
      "category_restoration: 0.0\n",
      "category_part: 0.0\n",
      "category_card: 0.0\n",
      "category_satellite: 0.0\n",
      "category_eyeglass: 0.0\n",
      "category_motor: 0.0\n",
      "category_leasing: 0.0\n",
      "category_gift: 0.0\n",
      "category_vehicle: 0.0\n",
      "category_printing: 0.0\n",
      "category_home: 0.0\n",
      "category_instrument: 0.0\n",
      "category_nursery: 0.0\n",
      "category_good: 0.0\n",
      "category_game: 0.0\n",
      "category_spa: 0.0\n",
      "category_furnishing: 0.0\n",
      "category_rent: 0.0\n",
      "category_processing: 0.0\n",
      "category_gallery: 0.0\n",
      "category_pay: 0.0\n",
      "category_design: 0.0\n",
      "category_manufacturer: 0.0\n",
      "category_toy: 0.0\n",
      "category_book: 0.0\n",
      "category_dealer: 0.0\n",
      "category_appliance: 0.0\n",
      "category_piano: 0.0\n"
     ]
    }
   ],
   "source": [
    "# select features for training\n",
    "feature_columns = [\n",
    "    'transaction_revenue', 'order_timestamp',\n",
    "    'revenue_level_e', 'revenue_level_d', 'revenue_level_c', 'revenue_level_b', 'revenue_level_a'\n",
    "] + [col for col in imputed_merchant.columns if col.startswith('category_')]\n",
    "\n",
    "# create feature vectors\n",
    "assembler = VectorAssembler(inputCols=feature_columns, outputCol='features')\n",
    "labeled_data = assembler.transform(merchant_labeled_data)\n",
    "unlabeled_data = assembler.transform(merchant_unlabeled_data)\n",
    "\n",
    "# standardise features\n",
    "scaler = StandardScaler(inputCol=\"features\", outputCol=\"scaled_features\", \n",
    "                        withMean=True, withStd=True)\n",
    "\n",
    "# standardise labeled and unlabeled datasets\n",
    "scaler_model = scaler.fit(labeled_data)\n",
    "labeled_data = scaler_model.transform(labeled_data)\n",
    "unlabeled_data = scaler_model.transform(unlabeled_data)\n",
    "\n",
    "# train the initial model\n",
    "gbt = GBTRegressor(featuresCol='scaled_features', labelCol='fraud_probability', maxIter=100)\n",
    "model = gbt.fit(labeled_data)\n",
    "\n",
    "# get the feature importances\n",
    "feature_importances = model.featureImportances\n",
    "feature_importance_dict = dict(zip(feature_columns, feature_importances))\n",
    "\n",
    "# sort the feature importances\n",
    "sorted_feature_importances = sorted(feature_importance_dict.items(), \n",
    "                                    key=lambda x: x[1], reverse=True)\n",
    "print(\"Feature importance:\")\n",
    "for feature, importance in sorted_feature_importances:\n",
    "    print(f\"{feature}: {importance}\")"
   ]
  },
  {
   "cell_type": "markdown",
   "metadata": {},
   "source": [
    "Select the features whose feature importance is greater than 0, then re-train the model:"
   ]
  },
  {
   "cell_type": "code",
   "execution_count": 10,
   "metadata": {},
   "outputs": [
    {
     "name": "stderr",
     "output_type": "stream",
     "text": [
      "24/09/19 16:52:09 WARN InstanceBuilder: Failed to load implementation from:dev.ludovic.netlib.blas.JNIBLAS\n",
      "                                                                                \r"
     ]
    }
   ],
   "source": [
    "# select features with importance greater than 0\n",
    "feature_columns = [feature for feature, importance in feature_importance_dict.items() if importance > 0]\n",
    "\n",
    "# create feature vectors with a unique name\n",
    "assembler = VectorAssembler(inputCols=feature_columns, outputCol='selected_features')\n",
    "\n",
    "# update datasets with the selected features\n",
    "labeled_data = assembler.transform(merchant_labeled_data)\n",
    "unlabeled_data = assembler.transform(merchant_unlabeled_data)\n",
    "\n",
    "# standardize features\n",
    "scaler = StandardScaler(inputCol=\"selected_features\", outputCol=\"selected_scaled_features\", \n",
    "                        withMean=True, withStd=True)\n",
    "\n",
    "# fit and transform both labeled and unlabeled datasets\n",
    "scaler_model = scaler.fit(labeled_data)\n",
    "labeled_data = scaler_model.transform(labeled_data)\n",
    "unlabeled_data = scaler_model.transform(unlabeled_data)\n",
    "\n",
    "# initialize the GBT model\n",
    "gbt = GBTRegressor(featuresCol='selected_scaled_features', labelCol='fraud_probability', \n",
    "                   maxIter=100)\n",
    "\n",
    "# train the initial model\n",
    "model = gbt.fit(labeled_data)\n",
    "\n",
    "# self-training process\n",
    "max_iterations = 5  \n",
    "confidence_threshold = 0.9 \n",
    "\n",
    "for i in range(max_iterations):\n",
    "    # make predictions on unlabeled data\n",
    "    predictions = model.transform(unlabeled_data)\n",
    "    \n",
    "    # filter out high-confidence prediction samples to be added to labeled data\n",
    "    confident_predictions = predictions.filter(col(\"prediction\") > confidence_threshold)\n",
    "    \n",
    "    # stop iteration if no more high-confidence samples are available\n",
    "    if confident_predictions.count() == 0:\n",
    "        break\n",
    "    \n",
    "    # add high-confidence samples to labeled data\n",
    "    confident_predictions = confident_predictions.withColumn(\"fraud_probability\", \n",
    "                                                             col(\"prediction\"))\n",
    "    labeled_data = labeled_data.union(confident_predictions.select(labeled_data.columns))\n",
    "    \n",
    "    # remove predicted samples from unlabeled dataset\n",
    "    remaining_unlabeled_data = unlabeled_data.join(confident_predictions, \n",
    "                                                   on=\"merchant_abn\", how=\"leftanti\")\n",
    "    \n",
    "    # retrain the model\n",
    "    model = gbt.fit(labeled_data)\n",
    "    \n",
    "    # update unlabeled data\n",
    "    unlabeled_data = remaining_unlabeled_data\n",
    "\n",
    "# final model predicts the remaining unlabeled data\n",
    "final_predictions = model.transform(unlabeled_data)"
   ]
  },
  {
   "cell_type": "code",
   "execution_count": 11,
   "metadata": {},
   "outputs": [
    {
     "name": "stderr",
     "output_type": "stream",
     "text": [
      "[Stage 3086:==============================================>       (12 + 2) / 14]\r"
     ]
    },
    {
     "name": "stdout",
     "output_type": "stream",
     "text": [
      "+------------+--------------------+--------------+------------------+---------+------------------+-------------------+------------------+---------------+---------------+---------------+---------------+---------------+----------------+------------+-------------------+--------------+--------------+---------------+--------------+---------------+---------------+-----------------+---------------+----------------+----------------+-------------------+------------+----------------+------------------+-------------+-------------+---------------+---------------+-------------+--------------+--------------------+--------------+-------------------+-----------------+--------------+-----------------+--------------+-------------------+--------------+---------------+---------------+-------------+--------------+-------------------+--------------+--------------+----------------+-------------+-------------+---------------+---------------+----------------+----------------+---------------+------------------+----------------+-------------------+--------------------+----------------+-------------+-------------+------------------+-----------------+--------------+-----------------+------------------+----------------+----------------+-------------+----------------+-----------------+-------------+-------------------+----------------+-------------+-------------+------------+-------------------+-------------+-------------------+----------------+---------------+------------+---------------+---------------------+------------+-------------+---------------+------------------+--------------+----------------+---------------+--------------------+------------------------+\n",
      "|merchant_abn|            order_id|order_datetime|      dollar_value|take_rate| fraud_probability|transaction_revenue|      BNPL_revenue|revenue_level_e|revenue_level_d|revenue_level_c|revenue_level_b|revenue_level_a|category_jewelry|category_art|category_television|category_watch|category_cable|category_repair|category_stock|category_flower|category_office|category_souvenir|category_goods:|category_novelty|category_optical|category_integrated|category_new|category_antique|category_newspaper|category_shoe|category_tent|category_beauty|category_system|category_lawn|category_sheet|category_programming|category_radio|category_stationery|category_optician|category_paper|category_software|category_clock|category_peripheral|category_craft|category_awning|category_garden|category_data|category_music|category_silverware|category_movie|category_hobby|category_digital|category_sale|category_tool|category_artist|category_health|category_writing|category_musical|category_outlet|category_furniture|category_florist|category_periodical|category_restoration|category_telecom|category_part|category_card|category_satellite|category_eyeglass|category_motor|category_computer|category_equipment|category_service|category_leasing|category_gift|category_vehicle|category_printing|category_home|category_instrument|category_nursery|category_good|category_game|category_spa|category_furnishing|category_rent|category_processing|category_gallery|category_supply|category_pay|category_design|category_manufacturer|category_toy|category_book|category_dealer|category_appliance|category_piano|category_bicycle|order_timestamp|   selected_features|selected_scaled_features|\n",
      "+------------+--------------------+--------------+------------------+---------+------------------+-------------------+------------------+---------------+---------------+---------------+---------------+---------------+----------------+------------+-------------------+--------------+--------------+---------------+--------------+---------------+---------------+-----------------+---------------+----------------+----------------+-------------------+------------+----------------+------------------+-------------+-------------+---------------+---------------+-------------+--------------+--------------------+--------------+-------------------+-----------------+--------------+-----------------+--------------+-------------------+--------------+---------------+---------------+-------------+--------------+-------------------+--------------+--------------+----------------+-------------+-------------+---------------+---------------+----------------+----------------+---------------+------------------+----------------+-------------------+--------------------+----------------+-------------+-------------+------------------+-----------------+--------------+-----------------+------------------+----------------+----------------+-------------+----------------+-----------------+-------------+-------------------+----------------+-------------+-------------+------------+-------------------+-------------+-------------------+----------------+---------------+------------+---------------+---------------------+------------+-------------+---------------+------------------+--------------+----------------+---------------+--------------------+------------------------+\n",
      "| 94493496784|0000abf6-afe6-49f...|    2022-08-21| 73.75386325923785|     5.65| 30.57903215900633|  69.58676885969626| 4.167093344484104|              0|              0|              0|              0|              1|               0|           0|                  0|             0|             0|              0|             0|              0|              0|                1|              0|               1|               0|                  0|           0|               0|                 0|            0|            0|              0|              0|            0|             0|                   0|             0|                  0|                0|             0|                0|             0|                  0|             0|              0|              0|            0|             0|                  0|             0|             0|               0|            0|            0|              0|              0|               0|               0|              0|                 0|               0|                  0|                   0|               0|            0|            1|                 0|                0|             0|                0|                 0|               0|               0|            1|               0|                0|            0|                  0|               0|            0|            0|           0|                  0|            0|                  0|               0|              0|           0|              0|                    0|           0|            0|              0|                 0|             0|               0|     1661040000|(34,[0,1,6,13],[6...|    [-0.2258267518925...|\n",
      "| 94493496784|00048142-fd7e-486...|    2021-04-12|192.09771169739523|     5.65| 30.57903215900633| 181.24418805531394|10.853520894101484|              0|              0|              0|              0|              1|               0|           0|                  0|             0|             0|              0|             0|              0|              0|                1|              0|               1|               0|                  0|           0|               0|                 0|            0|            0|              0|              0|            0|             0|                   0|             0|                  0|                0|             0|                0|             0|                  0|             0|              0|              0|            0|             0|                  0|             0|             0|               0|            0|            0|              0|              0|               0|               0|              0|                 0|               0|                  0|                   0|               0|            0|            1|                 0|                0|             0|                0|                 0|               0|               0|            1|               0|                0|            0|                  0|               0|            0|            0|           0|                  0|            0|                  0|               0|              0|           0|              0|                    0|           0|            0|              0|                 0|             0|               0|     1618185600|(34,[0,1,6,13],[1...|    [-0.1291130853212...|\n",
      "| 35909341340|00098ccc-5e49-4bc...|    2022-08-09|   64.241870535374|      4.8| 29.13305311007307|  61.15825878916975| 3.083609908229596|              0|              0|              0|              1|              0|               0|           0|                  0|             0|             0|              0|             0|              0|              0|                0|              0|               0|               0|                  1|           0|               0|                 0|            0|            0|              0|              1|            0|             0|                   1|             0|                  0|                0|             0|                0|             0|                  0|             0|              0|              0|            1|             0|                  0|             0|             0|               0|            0|            0|              0|              0|               0|               0|              0|                 0|               0|                  0|                   0|               0|            0|            0|                 0|                0|             0|                1|                 0|               1|               0|            0|               0|                0|            0|                  0|               0|            0|            0|           0|                  0|            0|                  1|               0|              0|           0|              1|                    0|           0|            0|              0|                 0|             0|               0|     1660003200|(34,[0,1,5,15,29,...|    [-0.2331272261335...|\n",
      "| 21439773999|000b87c2-4e41-431...|    2022-05-26|  19.1787654484572|      6.1|28.504479048104585| 18.008861048746045| 1.169904674065593|              0|              0|              0|              0|              1|               0|           0|                  1|             0|             1|              0|             0|              0|              0|                0|              0|               0|               0|                  0|           0|               0|                 0|            0|            0|              0|              0|            0|             0|                   0|             1|                  0|                0|             0|                0|             0|                  0|             0|              0|              0|            0|             0|                  0|             0|             0|               0|            0|            0|              0|              0|               0|               0|              0|                 0|               0|                  0|                   0|               0|            0|            0|                 1|                0|             0|                0|                 0|               1|               0|            0|               0|                0|            0|                  0|               0|            0|            0|           0|                  0|            0|                  0|               0|              0|           1|              0|                    0|           0|            0|              0|                 0|             0|               0|     1653523200|(34,[0,1,6,9,31],...|    [-0.2705016925674...|\n",
      "| 50315283629|000becc6-287d-444...|    2022-02-17|159.45728275081447|     1.76|28.594507173851856| 156.65083116802506| 2.806448161207303|              0|              0|              1|              0|              0|               0|           0|                  0|             0|             0|              0|             0|              0|              0|                0|              0|               0|               0|                  0|           0|               0|                 0|            0|            0|              0|              0|            1|             0|                   0|             0|                  0|                0|             0|                0|             0|                  0|             0|              0|              1|            0|             0|                  0|             0|             0|               0|            0|            0|              0|              0|               0|               0|              1|                 0|               0|                  0|                   0|               0|            0|            0|                 0|                0|             0|                0|                 0|               0|               0|            0|               0|                0|            0|                  0|               1|            0|            0|           0|                  0|            0|                  0|               0|              1|           0|              0|                    0|           0|            0|              0|                 0|             0|               0|     1645056000|(34,[0,1,4,22,32]...|    [-0.1504149722447...|\n",
      "+------------+--------------------+--------------+------------------+---------+------------------+-------------------+------------------+---------------+---------------+---------------+---------------+---------------+----------------+------------+-------------------+--------------+--------------+---------------+--------------+---------------+---------------+-----------------+---------------+----------------+----------------+-------------------+------------+----------------+------------------+-------------+-------------+---------------+---------------+-------------+--------------+--------------------+--------------+-------------------+-----------------+--------------+-----------------+--------------+-------------------+--------------+---------------+---------------+-------------+--------------+-------------------+--------------+--------------+----------------+-------------+-------------+---------------+---------------+----------------+----------------+---------------+------------------+----------------+-------------------+--------------------+----------------+-------------+-------------+------------------+-----------------+--------------+-----------------+------------------+----------------+----------------+-------------+----------------+-----------------+-------------+-------------------+----------------+-------------+-------------+------------+-------------------+-------------+-------------------+----------------+---------------+------------+---------------+---------------------+------------+-------------+---------------+------------------+--------------+----------------+---------------+--------------------+------------------------+\n",
      "only showing top 5 rows\n",
      "\n"
     ]
    },
    {
     "name": "stderr",
     "output_type": "stream",
     "text": [
      "                                                                                \r"
     ]
    }
   ],
   "source": [
    "# apply final predicted fraud_probability to unlabeled data\n",
    "final_imputed_merchant = final_predictions.withColumn('fraud_probability', col('prediction'))\n",
    "\n",
    "# combined filled results\n",
    "final_imputed_merchant = labeled_data.union(final_imputed_merchant.select(labeled_data.columns))\n",
    "final_imputed_merchant.show(5)"
   ]
  },
  {
   "cell_type": "code",
   "execution_count": 12,
   "metadata": {},
   "outputs": [
    {
     "name": "stderr",
     "output_type": "stream",
     "text": [
      "                                                                                \r"
     ]
    }
   ],
   "source": [
    "# save as a parquet file\n",
    "final_imputed_merchant = final_imputed_merchant.drop('selected_features', 'selected_scaled_features')\n",
    "final_imputed_merchant.write.parquet('../data/curated/final_imputed_merchant', mode='overwrite')"
   ]
  },
  {
   "cell_type": "markdown",
   "metadata": {},
   "source": [
    "Confirm there is no nulls:"
   ]
  },
  {
   "cell_type": "code",
   "execution_count": 13,
   "metadata": {},
   "outputs": [
    {
     "name": "stderr",
     "output_type": "stream",
     "text": [
      "[Stage 3105:=====================================================>(55 + 1) / 56]\r"
     ]
    },
    {
     "name": "stdout",
     "output_type": "stream",
     "text": [
      "+------------+--------+--------------+------------+---------+-----------------+-------------------+------------+---------------+---------------+---------------+---------------+---------------+----------------+------------+-------------------+--------------+--------------+---------------+--------------+---------------+---------------+-----------------+---------------+----------------+----------------+-------------------+------------+----------------+------------------+-------------+-------------+---------------+---------------+-------------+--------------+--------------------+--------------+-------------------+-----------------+--------------+-----------------+--------------+-------------------+--------------+---------------+---------------+-------------+--------------+-------------------+--------------+--------------+----------------+-------------+-------------+---------------+---------------+----------------+----------------+---------------+------------------+----------------+-------------------+--------------------+----------------+-------------+-------------+------------------+-----------------+--------------+-----------------+------------------+----------------+----------------+-------------+----------------+-----------------+-------------+-------------------+----------------+-------------+-------------+------------+-------------------+-------------+-------------------+----------------+---------------+------------+---------------+---------------------+------------+-------------+---------------+------------------+--------------+----------------+---------------+\n",
      "|merchant_abn|order_id|order_datetime|dollar_value|take_rate|fraud_probability|transaction_revenue|BNPL_revenue|revenue_level_e|revenue_level_d|revenue_level_c|revenue_level_b|revenue_level_a|category_jewelry|category_art|category_television|category_watch|category_cable|category_repair|category_stock|category_flower|category_office|category_souvenir|category_goods:|category_novelty|category_optical|category_integrated|category_new|category_antique|category_newspaper|category_shoe|category_tent|category_beauty|category_system|category_lawn|category_sheet|category_programming|category_radio|category_stationery|category_optician|category_paper|category_software|category_clock|category_peripheral|category_craft|category_awning|category_garden|category_data|category_music|category_silverware|category_movie|category_hobby|category_digital|category_sale|category_tool|category_artist|category_health|category_writing|category_musical|category_outlet|category_furniture|category_florist|category_periodical|category_restoration|category_telecom|category_part|category_card|category_satellite|category_eyeglass|category_motor|category_computer|category_equipment|category_service|category_leasing|category_gift|category_vehicle|category_printing|category_home|category_instrument|category_nursery|category_good|category_game|category_spa|category_furnishing|category_rent|category_processing|category_gallery|category_supply|category_pay|category_design|category_manufacturer|category_toy|category_book|category_dealer|category_appliance|category_piano|category_bicycle|order_timestamp|\n",
      "+------------+--------+--------------+------------+---------+-----------------+-------------------+------------+---------------+---------------+---------------+---------------+---------------+----------------+------------+-------------------+--------------+--------------+---------------+--------------+---------------+---------------+-----------------+---------------+----------------+----------------+-------------------+------------+----------------+------------------+-------------+-------------+---------------+---------------+-------------+--------------+--------------------+--------------+-------------------+-----------------+--------------+-----------------+--------------+-------------------+--------------+---------------+---------------+-------------+--------------+-------------------+--------------+--------------+----------------+-------------+-------------+---------------+---------------+----------------+----------------+---------------+------------------+----------------+-------------------+--------------------+----------------+-------------+-------------+------------------+-----------------+--------------+-----------------+------------------+----------------+----------------+-------------+----------------+-----------------+-------------+-------------------+----------------+-------------+-------------+------------+-------------------+-------------+-------------------+----------------+---------------+------------+---------------+---------------------+------------+-------------+---------------+------------------+--------------+----------------+---------------+\n",
      "|           0|       0|             0|           0|        0|                0|                  0|           0|              0|              0|              0|              0|              0|               0|           0|                  0|             0|             0|              0|             0|              0|              0|                0|              0|               0|               0|                  0|           0|               0|                 0|            0|            0|              0|              0|            0|             0|                   0|             0|                  0|                0|             0|                0|             0|                  0|             0|              0|              0|            0|             0|                  0|             0|             0|               0|            0|            0|              0|              0|               0|               0|              0|                 0|               0|                  0|                   0|               0|            0|            0|                 0|                0|             0|                0|                 0|               0|               0|            0|               0|                0|            0|                  0|               0|            0|            0|           0|                  0|            0|                  0|               0|              0|           0|              0|                    0|           0|            0|              0|                 0|             0|               0|              0|\n",
      "+------------+--------+--------------+------------+---------+-----------------+-------------------+------------+---------------+---------------+---------------+---------------+---------------+----------------+------------+-------------------+--------------+--------------+---------------+--------------+---------------+---------------+-----------------+---------------+----------------+----------------+-------------------+------------+----------------+------------------+-------------+-------------+---------------+---------------+-------------+--------------+--------------------+--------------+-------------------+-----------------+--------------+-----------------+--------------+-------------------+--------------+---------------+---------------+-------------+--------------+-------------------+--------------+--------------+----------------+-------------+-------------+---------------+---------------+----------------+----------------+---------------+------------------+----------------+-------------------+--------------------+----------------+-------------+-------------+------------------+-----------------+--------------+-----------------+------------------+----------------+----------------+-------------+----------------+-----------------+-------------+-------------------+----------------+-------------+-------------+------------+-------------------+-------------+-------------------+----------------+---------------+------------+---------------+---------------------+------------+-------------+---------------+------------------+--------------+----------------+---------------+\n",
      "\n"
     ]
    },
    {
     "name": "stderr",
     "output_type": "stream",
     "text": [
      "                                                                                \r"
     ]
    }
   ],
   "source": [
    "# create a dictionary with column names and their respective null counts\n",
    "null_count_dict = {col_name: sum(col(col_name).isNull().cast(\"int\")).alias(col_name) for col_name in final_imputed_merchant.columns}\n",
    "\n",
    "# use agg() to calculate null counts for each column\n",
    "null_counts_df = final_imputed_merchant.agg(*null_count_dict.values())\n",
    "null_counts_df.show()"
   ]
  },
  {
   "cell_type": "code",
   "execution_count": 4,
   "metadata": {},
   "outputs": [
    {
     "data": {
      "text/plain": [
       "11372745"
      ]
     },
     "execution_count": 4,
     "metadata": {},
     "output_type": "execute_result"
    }
   ],
   "source": [
    "final_imputed_merchant.count()"
   ]
  }
 ],
 "metadata": {
  "kernelspec": {
   "display_name": "base",
   "language": "python",
   "name": "python3"
  },
  "language_info": {
   "codemirror_mode": {
    "name": "ipython",
    "version": 3
   },
   "file_extension": ".py",
   "mimetype": "text/x-python",
   "name": "python",
   "nbconvert_exporter": "python",
   "pygments_lexer": "ipython3",
   "version": "3.11.3"
  }
 },
 "nbformat": 4,
 "nbformat_minor": 2
}
