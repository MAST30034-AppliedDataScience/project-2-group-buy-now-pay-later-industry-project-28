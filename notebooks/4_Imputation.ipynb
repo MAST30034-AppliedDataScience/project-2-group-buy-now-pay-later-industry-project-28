{
 "cells": [
  {
   "cell_type": "code",
   "execution_count": 2,
   "metadata": {},
   "outputs": [],
   "source": [
    "from pyspark.sql import SparkSession\n",
    "from pyspark.sql.functions import* "
   ]
  },
  {
   "cell_type": "code",
   "execution_count": 3,
   "metadata": {},
   "outputs": [
    {
     "name": "stderr",
     "output_type": "stream",
     "text": [
      "24/09/10 16:21:08 WARN Utils: Your hostname, Cocos-MacBook-Air.local resolves to a loopback address: 127.0.0.1; using 10.12.222.243 instead (on interface en0)\n",
      "24/09/10 16:21:08 WARN Utils: Set SPARK_LOCAL_IP if you need to bind to another address\n",
      "Setting default log level to \"WARN\".\n",
      "To adjust logging level use sc.setLogLevel(newLevel). For SparkR, use setLogLevel(newLevel).\n",
      "24/09/10 16:21:08 WARN NativeCodeLoader: Unable to load native-hadoop library for your platform... using builtin-java classes where applicable\n",
      "24/09/10 16:21:09 WARN Utils: Service 'SparkUI' could not bind on port 4040. Attempting port 4041.\n",
      "24/09/10 16:21:09 WARN Utils: Service 'SparkUI' could not bind on port 4041. Attempting port 4042.\n",
      "24/09/10 16:21:09 WARN Utils: Service 'SparkUI' could not bind on port 4042. Attempting port 4043.\n",
      "24/09/10 16:21:09 WARN Utils: Service 'SparkUI' could not bind on port 4043. Attempting port 4044.\n"
     ]
    }
   ],
   "source": [
    "spark = (\n",
    "    SparkSession.builder.appName(\"Imputation\")\n",
    "    .config(\"spark.sql.repl.eagerEval.enabled\", True) \n",
    "    .config(\"spark.driver.memory\",\"4G\")\n",
    "    .config(\"spark.executor.memory\",\"4G\")\n",
    "    .config(\"spark.sql.parquet.cacheMetadata\", \"true\")\n",
    "    .config(\"spark.sql.session.timeZone\", \"Etc/UTC\")\n",
    "    .getOrCreate()\n",
    ")"
   ]
  },
  {
   "cell_type": "code",
   "execution_count": 7,
   "metadata": {},
   "outputs": [],
   "source": [
    "# read datasets\n",
    "consumer_full = spark.read.parquet('../data/curated/consumer_full')\n",
    "merchant_full = spark.read.parquet('../data/curated/merchant_full')"
   ]
  },
  {
   "cell_type": "code",
   "execution_count": 6,
   "metadata": {},
   "outputs": [
    {
     "name": "stdout",
     "output_type": "stream",
     "text": [
      "+--------+-------+--------------+------------+------------------+--------------------+-----------+-----------------------+------------------+-----------------+--------------------+------------------+------------------+-----------------------------+---------------------------+------------------+-------------------------+----------------------------+-------------------------+----------------------+-----+-----------------+\n",
      "|postcode|user_id|order_datetime|merchant_abn|      dollar_value|            order_id|consumer_id|total_transaction_count|total_dollar_value|fraud_probability|            SA2_name|average_population|Median_age_persons|Median_mortgage_repay_monthly|Median_tot_prsnl_inc_weekly|Median_rent_weekly|Median_tot_fam_inc_weekly|Average_num_psns_per_bedroom|Median_tot_hhd_inc_weekly|Average_household_size|state|unemployment_rate|\n",
      "+--------+-------+--------------+------------+------------------+--------------------+-----------+-----------------------+------------------+-----------------+--------------------+------------------+------------------+-----------------------------+---------------------------+------------------+-------------------------+----------------------------+-------------------------+----------------------+-----+-----------------+\n",
      "|    6519|  11138|    2022-08-25| 63290521567|41.239626303220014|09f6132a-a6a8-47a...|     401483|                    566| 83342.69515464625|             NULL|              Morawa|            3993.5|                47|                          800|                        768|               175|                     1684|                         0.7|                     1310|                   2.2|   WA|              4.2|\n",
      "|    6170|  22285|    2022-08-25| 63465140133| 8.815286645396842|f4fc1a3b-a5b1-4d7...|     416278|                    558|  90470.6260213024|             NULL|             Calista|            7697.0|                39|                         1300|                        594|               275|                     1521|                         0.7|                     1213|                   2.4|   WA|             11.3|\n",
      "|    6170|  22285|    2022-08-25| 63465140133| 8.815286645396842|f4fc1a3b-a5b1-4d7...|     416278|                    558|  90470.6260213024|             NULL|Wellard (West) - ...|           19158.0|                31|                         1800|                        942|               350|                     2207|                         0.8|                     2068|                   3.0|   WA|              5.1|\n",
      "|    2281|  11139|    2022-08-25| 21359184622| 66.46301590693417|b1a52524-b6e6-42a...|     505718|                    575| 91856.84218773177|             NULL|Swansea - Caves B...|           12603.0|                49|                         2080|                        686|               360|                     1836|                         0.8|                     1419|                   2.4|  NSW|              4.8|\n",
      "|    2281|  11139|    2022-08-25| 21359184622| 66.46301590693417|b1a52524-b6e6-42a...|     505718|                    575| 91856.84218773177|             NULL|Belmont South - B...|            5672.5|                49|                         1800|                        653|               330|                     1669|                         0.8|                     1240|                   2.3|  NSW|              6.2|\n",
      "+--------+-------+--------------+------------+------------------+--------------------+-----------+-----------------------+------------------+-----------------+--------------------+------------------+------------------+-----------------------------+---------------------------+------------------+-------------------------+----------------------------+-------------------------+----------------------+-----+-----------------+\n",
      "only showing top 5 rows\n",
      "\n"
     ]
    }
   ],
   "source": [
    "consumer_full.show(5)"
   ]
  },
  {
   "cell_type": "code",
   "execution_count": 8,
   "metadata": {},
   "outputs": [
    {
     "name": "stdout",
     "output_type": "stream",
     "text": [
      "+------------+--------------+-------+------------------+--------------------+--------------------+--------------------+-------------+---------+-----------------+\n",
      "|merchant_abn|order_datetime|user_id|      dollar_value|            order_id|                name|            category|revenue_level|take_rate|fraud_probability|\n",
      "+------------+--------------+-------+------------------+--------------------+--------------------+--------------------+-------------+---------+-----------------+\n",
      "| 63290521567|    2022-08-25|  11138|41.239626303220014|09f6132a-a6a8-47a...|vehicula pellente...|artist supply and...|            a|     6.48|             NULL|\n",
      "| 63465140133|    2022-08-25|  22285| 8.815286645396842|f4fc1a3b-a5b1-4d7...|  vitae odio limited|digital goods: bo...|            b|     3.68|             NULL|\n",
      "| 21359184622|    2022-08-25|  11139| 66.46301590693417|b1a52524-b6e6-42a...|         sit amet pc|motor vehicle sup...|            b|      3.6|             NULL|\n",
      "| 75034515922|    2022-08-25|  22285|19.654995598411727|ba240514-5dea-405...|   ac eleifend corp.|digital goods: bo...|            a|     6.22|             NULL|\n",
      "| 96334476428|    2022-08-25|  11140| 6.383881161736656|3f1c61aa-6b5b-4c8...|         sed est ltd|bicycle shops - s...|            b|     3.66|             NULL|\n",
      "+------------+--------------+-------+------------------+--------------------+--------------------+--------------------+-------------+---------+-----------------+\n",
      "only showing top 5 rows\n",
      "\n"
     ]
    }
   ],
   "source": [
    "merchant_full.show(5)"
   ]
  },
  {
   "cell_type": "markdown",
   "metadata": {},
   "source": [
    "# Consumer fraud probability imputation"
   ]
  },
  {
   "cell_type": "code",
   "execution_count": null,
   "metadata": {},
   "outputs": [],
   "source": []
  },
  {
   "cell_type": "markdown",
   "metadata": {},
   "source": [
    "# Merchant fraud probability imputation"
   ]
  },
  {
   "cell_type": "code",
   "execution_count": null,
   "metadata": {},
   "outputs": [],
   "source": []
  }
 ],
 "metadata": {
  "kernelspec": {
   "display_name": "base",
   "language": "python",
   "name": "python3"
  },
  "language_info": {
   "codemirror_mode": {
    "name": "ipython",
    "version": 3
   },
   "file_extension": ".py",
   "mimetype": "text/x-python",
   "name": "python",
   "nbconvert_exporter": "python",
   "pygments_lexer": "ipython3",
   "version": "3.11.3"
  }
 },
 "nbformat": 4,
 "nbformat_minor": 2
}
