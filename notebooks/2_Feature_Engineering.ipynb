{
 "cells": [
  {
   "cell_type": "markdown",
   "metadata": {},
   "source": [
    "# Feature Engineering"
   ]
  },
  {
   "cell_type": "markdown",
   "metadata": {},
   "source": [
    "---"
   ]
  },
  {
   "cell_type": "code",
   "execution_count": 2,
   "metadata": {},
   "outputs": [],
   "source": [
    "from pyspark.sql import SparkSession\n",
    "from pyspark.sql.functions import* \n",
    "import pandas as pd\n",
    "import geopandas as gpd"
   ]
  },
  {
   "cell_type": "code",
   "execution_count": 3,
   "metadata": {},
   "outputs": [
    {
     "name": "stderr",
     "output_type": "stream",
     "text": [
      "Setting default log level to \"WARN\".\n",
      "To adjust logging level use sc.setLogLevel(newLevel). For SparkR, use setLogLevel(newLevel).\n",
      "24/09/09 11:19:50 WARN NativeCodeLoader: Unable to load native-hadoop library for your platform... using builtin-java classes where applicable\n",
      "24/09/09 11:19:51 WARN Utils: Service 'SparkUI' could not bind on port 4040. Attempting port 4041.\n",
      "24/09/09 11:19:51 WARN Utils: Service 'SparkUI' could not bind on port 4041. Attempting port 4042.\n",
      "24/09/09 11:19:51 WARN Utils: Service 'SparkUI' could not bind on port 4042. Attempting port 4043.\n"
     ]
    }
   ],
   "source": [
    "spark = (\n",
    "    SparkSession.builder.appName(\"Feature_Engineering\")\n",
    "    .config(\"spark.sql.repl.eagerEval.enabled\", True) \n",
    "    .config(\"spark.driver.memory\",\"4G\")\n",
    "    .config(\"spark.executor.memory\",\"4G\")\n",
    "    .config(\"spark.sql.parquet.cacheMetadata\", \"true\")\n",
    "    .config(\"spark.sql.session.timeZone\", \"Etc/UTC\")\n",
    "    .getOrCreate()\n",
    ")"
   ]
  },
  {
   "cell_type": "markdown",
   "metadata": {},
   "source": [
    "# Read datasets"
   ]
  },
  {
   "cell_type": "code",
   "execution_count": 4,
   "metadata": {},
   "outputs": [
    {
     "name": "stderr",
     "output_type": "stream",
     "text": [
      "                                                                                \r"
     ]
    }
   ],
   "source": [
    "consumer_detail  = spark.read.parquet('../data/curated/consumer_detail')\n",
    "transaction = spark.read.parquet('../data/curated/transaction')\n",
    "merchant = spark.read.parquet('../data/curated/merchant')\n",
    "postcode_sa2_geo = gpd.read_file('../data/curated/postcode_sa2_geo.shp')"
   ]
  },
  {
   "cell_type": "markdown",
   "metadata": {},
   "source": [
    "### Convert data types"
   ]
  },
  {
   "cell_type": "code",
   "execution_count": 7,
   "metadata": {},
   "outputs": [
    {
     "name": "stdout",
     "output_type": "stream",
     "text": [
      "consumer_detail:\n",
      "root\n",
      " |-- consumer_id: long (nullable = true)\n",
      " |-- user_id: long (nullable = true)\n",
      " |-- name: string (nullable = true)\n",
      " |-- state: string (nullable = true)\n",
      " |-- postcode: integer (nullable = true)\n",
      " |-- gender: string (nullable = true)\n",
      "\n",
      "\n",
      "transaction:\n",
      "root\n",
      " |-- user_id: long (nullable = true)\n",
      " |-- merchant_abn: long (nullable = true)\n",
      " |-- dollar_value: double (nullable = true)\n",
      " |-- order_id: string (nullable = true)\n",
      " |-- order_datetime: date (nullable = true)\n",
      "\n",
      "\n",
      "merchant:\n",
      "root\n",
      " |-- merchant_abn: long (nullable = true)\n",
      " |-- order_datetime: date (nullable = true)\n",
      " |-- fraud_probability: double (nullable = true)\n",
      " |-- name: string (nullable = true)\n",
      " |-- category: string (nullable = true)\n",
      " |-- revenue_level: string (nullable = true)\n",
      " |-- take_rate: float (nullable = true)\n",
      "\n",
      "\n",
      "postcode_sa2_geo:\n",
      "SA2_name        object\n",
      "SA2_MAINCO       int64\n",
      "postcode         int64\n",
      "state           object\n",
      "geometry      geometry\n",
      "dtype: object\n"
     ]
    }
   ],
   "source": [
    "print('consumer_detail:')\n",
    "consumer_detail.printSchema()\n",
    "\n",
    "print('\\ntransaction:')\n",
    "transaction.printSchema()\n",
    "\n",
    "print('\\nmerchant:')\n",
    "merchant.printSchema()\n",
    "\n",
    "print('\\npostcode_sa2_geo:')\n",
    "print(postcode_sa2_geo.dtypes)"
   ]
  },
  {
   "cell_type": "code",
   "execution_count": 6,
   "metadata": {},
   "outputs": [
    {
     "name": "stdout",
     "output_type": "stream",
     "text": [
      "root\n",
      " |-- consumer_id: long (nullable = true)\n",
      " |-- user_id: long (nullable = true)\n",
      " |-- name: string (nullable = true)\n",
      " |-- state: string (nullable = true)\n",
      " |-- postcode: integer (nullable = true)\n",
      " |-- gender: string (nullable = true)\n",
      "\n"
     ]
    }
   ],
   "source": [
    "# convert the data type of postcode column in consumer_transaction dataset \n",
    "consumer_detail = consumer_detail.withColumn('postcode', col('postcode').cast('int'))\n",
    "consumer_detail.printSchema()"
   ]
  },
  {
   "cell_type": "markdown",
   "metadata": {},
   "source": [
    "### Display dataset"
   ]
  },
  {
   "cell_type": "code",
   "execution_count": 22,
   "metadata": {},
   "outputs": [
    {
     "name": "stdout",
     "output_type": "stream",
     "text": [
      "+-----------+-------+-----------------+-----+--------+------+\n",
      "|consumer_id|user_id|             name|state|postcode|gender|\n",
      "+-----------+-------+-----------------+-----+--------+------+\n",
      "|     870353| 213579|    Charles Davis|   SA|    5261|  Male|\n",
      "|     923963| 213580|Jacqueline Nelson|  QLD|    4744|Female|\n",
      "|      93016| 213581|    Carolyn Smith|  QLD|    4454|Female|\n",
      "|      61324| 213582|      Denise Rush|   WA|    6705|Female|\n",
      "|     823311| 213583|  Nathan Williams|  NSW|    2145|  Male|\n",
      "+-----------+-------+-----------------+-----+--------+------+\n",
      "only showing top 5 rows\n",
      "\n"
     ]
    }
   ],
   "source": [
    "consumer_detail.show(5)"
   ]
  },
  {
   "cell_type": "code",
   "execution_count": 23,
   "metadata": {},
   "outputs": [
    {
     "data": {
      "text/plain": [
       "499999"
      ]
     },
     "execution_count": 23,
     "metadata": {},
     "output_type": "execute_result"
    }
   ],
   "source": [
    "consumer_detail.count()"
   ]
  },
  {
   "cell_type": "code",
   "execution_count": 24,
   "metadata": {},
   "outputs": [
    {
     "name": "stdout",
     "output_type": "stream",
     "text": [
      "+-----------+-------+-----------------+-----+--------+------+\n",
      "|consumer_id|user_id|             name|state|postcode|gender|\n",
      "+-----------+-------+-----------------+-----+--------+------+\n",
      "|     870353| 213579|    Charles Davis|   SA|    5261|  Male|\n",
      "|     923963| 213580|Jacqueline Nelson|  QLD|    4744|Female|\n",
      "|      93016| 213581|    Carolyn Smith|  QLD|    4454|Female|\n",
      "|      61324| 213582|      Denise Rush|   WA|    6705|Female|\n",
      "|     823311| 213583|  Nathan Williams|  NSW|    2145|  Male|\n",
      "+-----------+-------+-----------------+-----+--------+------+\n",
      "only showing top 5 rows\n",
      "\n"
     ]
    }
   ],
   "source": [
    "consumer_detail.show(5)"
   ]
  },
  {
   "cell_type": "code",
   "execution_count": 25,
   "metadata": {},
   "outputs": [
    {
     "name": "stdout",
     "output_type": "stream",
     "text": [
      "+-------+------------+------------------+--------------------+--------------+\n",
      "|user_id|merchant_abn|      dollar_value|            order_id|order_datetime|\n",
      "+-------+------------+------------------+--------------------+--------------+\n",
      "|  14935| 79417999332|136.06570809815838|23acbb7b-cf98-458...|    2021-11-26|\n",
      "|      1| 46451548968| 72.61581642788431|76bab304-fa2d-400...|    2021-11-26|\n",
      "|  14936| 89518629617|3.0783487174439297|a2ae446a-2959-41c...|    2021-11-26|\n",
      "|      1| 49167531725| 51.58228625503599|7080c274-17f7-4cc...|    2021-11-26|\n",
      "|  14936| 31101120643|25.228114942417797|8e301c0f-06ab-45c...|    2021-11-26|\n",
      "+-------+------------+------------------+--------------------+--------------+\n",
      "only showing top 5 rows\n",
      "\n"
     ]
    }
   ],
   "source": [
    "transaction.show(5)"
   ]
  },
  {
   "cell_type": "code",
   "execution_count": 26,
   "metadata": {},
   "outputs": [
    {
     "data": {
      "text/plain": [
       "13614675"
      ]
     },
     "execution_count": 26,
     "metadata": {},
     "output_type": "execute_result"
    }
   ],
   "source": [
    "transaction.count()"
   ]
  },
  {
   "cell_type": "markdown",
   "metadata": {},
   "source": [
    "# Compute total transaction count and value for each merchant"
   ]
  },
  {
   "cell_type": "code",
   "execution_count": 9,
   "metadata": {},
   "outputs": [
    {
     "name": "stderr",
     "output_type": "stream",
     "text": [
      "                                                                                \r"
     ]
    },
    {
     "name": "stdout",
     "output_type": "stream",
     "text": [
      "+------------+-----------------+------------------+\n",
      "|merchant_abn|transaction_count|total_dollar_value|\n",
      "+------------+-----------------+------------------+\n",
      "| 83412691377|            14288| 498536.5816973135|\n",
      "| 38700038932|             7132| 9546185.360697312|\n",
      "| 35344855546|             1522|134737.25046268434|\n",
      "| 15613631617|             1785| 543030.5313328261|\n",
      "| 19839532017|              726|          113982.0|\n",
      "+------------+-----------------+------------------+\n",
      "only showing top 5 rows\n",
      "\n"
     ]
    }
   ],
   "source": [
    "# group by merchant_abn and aggregate the count of orders and total dollar_value\n",
    "transaction_detail = transaction.groupBy(\"merchant_abn\").agg(\n",
    "    count(\"order_id\").alias(\"transaction_count\"),  # assuming tip count is equivalent to the number of orders\n",
    "    sum(\"dollar_value\").alias(\"total_dollar_value\")\n",
    ")\n",
    "\n",
    "transaction_detail.show(5)"
   ]
  },
  {
   "cell_type": "code",
   "execution_count": 28,
   "metadata": {},
   "outputs": [
    {
     "name": "stderr",
     "output_type": "stream",
     "text": [
      "                                                                                \r"
     ]
    }
   ],
   "source": [
    "# save the parquet file\n",
    "transaction_detail.write.parquet('../data/curated/transactions_count_dollar', mode='overwrite')"
   ]
  },
  {
   "cell_type": "markdown",
   "metadata": {},
   "source": [
    "# Merge consumer and transaction by `user_id`"
   ]
  },
  {
   "cell_type": "code",
   "execution_count": 10,
   "metadata": {},
   "outputs": [
    {
     "name": "stdout",
     "output_type": "stream",
     "text": [
      "+-------+-----------+----------------+-----+--------+------+------------+------------------+--------------------+--------------+\n",
      "|user_id|consumer_id|            name|state|postcode|gender|merchant_abn|      dollar_value|            order_id|order_datetime|\n",
      "+-------+-----------+----------------+-----+--------+------+------------+------------------+--------------------+--------------+\n",
      "|  14935|    1059280|   Cameron Adams|  QLD|    4563|  Male| 79417999332|136.06570809815838|23acbb7b-cf98-458...|    2021-11-26|\n",
      "|      1|    1195503|Yolanda Williams|   WA|    6935|Female| 46451548968| 72.61581642788431|76bab304-fa2d-400...|    2021-11-26|\n",
      "|  14936|     986886|     Maria Riley|   SA|    5157|Female| 89518629617|3.0783487174439297|a2ae446a-2959-41c...|    2021-11-26|\n",
      "|      1|    1195503|Yolanda Williams|   WA|    6935|Female| 49167531725| 51.58228625503599|7080c274-17f7-4cc...|    2021-11-26|\n",
      "|  14936|     986886|     Maria Riley|   SA|    5157|Female| 31101120643|25.228114942417797|8e301c0f-06ab-45c...|    2021-11-26|\n",
      "+-------+-----------+----------------+-----+--------+------+------------+------------------+--------------------+--------------+\n",
      "only showing top 5 rows\n",
      "\n"
     ]
    }
   ],
   "source": [
    "consumer_transaction = consumer_detail.join(\n",
    "    transaction,\n",
    "    on=['user_id'],\n",
    "    how='inner'\n",
    ")\n",
    "\n",
    "consumer_transaction = consumer_detail.join(\n",
    "    transaction,\n",
    "    on=['user_id'],\n",
    "    how='inner'\n",
    ")\n",
    "\n",
    "consumer_transaction.show(5)"
   ]
  },
  {
   "cell_type": "code",
   "execution_count": 11,
   "metadata": {},
   "outputs": [
    {
     "data": {
      "text/plain": [
       "13614675"
      ]
     },
     "execution_count": 11,
     "metadata": {},
     "output_type": "execute_result"
    }
   ],
   "source": [
    "consumer_transaction.count()"
   ]
  },
  {
   "cell_type": "code",
   "execution_count": 31,
   "metadata": {},
   "outputs": [
    {
     "name": "stderr",
     "output_type": "stream",
     "text": [
      "                                                                                \r"
     ]
    }
   ],
   "source": [
    "# save the parquet file\n",
    "consumer_transaction.write.parquet('../data/curated/consumer_transaction', mode='overwrite')"
   ]
  },
  {
   "cell_type": "markdown",
   "metadata": {},
   "source": [
    "# Compute total transaction count and value for each consumer"
   ]
  },
  {
   "cell_type": "code",
   "execution_count": 32,
   "metadata": {},
   "outputs": [
    {
     "name": "stdout",
     "output_type": "stream",
     "text": [
      "root\n",
      " |-- user_id: long (nullable = true)\n",
      " |-- consumer_id: long (nullable = true)\n",
      " |-- name: string (nullable = true)\n",
      " |-- state: string (nullable = true)\n",
      " |-- postcode: integer (nullable = true)\n",
      " |-- gender: string (nullable = true)\n",
      " |-- merchant_abn: long (nullable = true)\n",
      " |-- dollar_value: double (nullable = true)\n",
      " |-- order_id: string (nullable = true)\n",
      " |-- order_datetime: date (nullable = true)\n",
      "\n"
     ]
    }
   ],
   "source": [
    "consumer_transaction.printSchema()"
   ]
  },
  {
   "cell_type": "code",
   "execution_count": 12,
   "metadata": {},
   "outputs": [
    {
     "name": "stderr",
     "output_type": "stream",
     "text": [
      "                                                                                \r"
     ]
    },
    {
     "name": "stdout",
     "output_type": "stream",
     "text": [
      "+-----------+-----------------------+------------------+-------+--------+\n",
      "|consumer_id|total_transaction_count|total_dollar_value|user_id|postcode|\n",
      "+-----------+-----------------------+------------------+-------+--------+\n",
      "|    1144223|                    543| 77840.35704704828|  14971|    4184|\n",
      "|     283969|                    581|100112.93516413833|  15024|    2228|\n",
      "|    1050479|                    564|100977.04005104418|  15031|    5502|\n",
      "|    1174371|                    562| 87222.61085702278|     95|    2352|\n",
      "|     921339|                    591|134278.40943370626|    152|    2161|\n",
      "+-----------+-----------------------+------------------+-------+--------+\n",
      "only showing top 5 rows\n",
      "\n"
     ]
    }
   ],
   "source": [
    "# calculate the total number of transactions and total transaction amount for each consumer\n",
    "consumer_total_count_dollar = (consumer_transaction\n",
    "                               .groupBy(\"consumer_id\")\n",
    "                               .agg(\n",
    "                                   count(\"order_id\").alias(\"total_transaction_count\"),\n",
    "                                   sum(\"dollar_value\").alias(\"total_dollar_value\")\n",
    "                                   ))\n",
    "\n",
    "extra_columns_df = (consumer_transaction\n",
    "                    .select(\"consumer_id\", \"user_id\", \"postcode\")\n",
    "                    .distinct())\n",
    "\n",
    "consumer_total_count_dollar = (consumer_total_count_dollar\n",
    "                               .join(extra_columns_df, on=\"consumer_id\", how=\"left\"))\n",
    "\n",
    "consumer_total_count_dollar.show(5)\n"
   ]
  },
  {
   "cell_type": "code",
   "execution_count": 13,
   "metadata": {},
   "outputs": [
    {
     "name": "stderr",
     "output_type": "stream",
     "text": [
      "                                                                                \r"
     ]
    }
   ],
   "source": [
    "# save as a parquet file\n",
    "consumer_total_count_dollar.write.parquet('../data/curated/consumer_total_count_dollar', mode='overwrite')"
   ]
  },
  {
   "cell_type": "markdown",
   "metadata": {},
   "source": [
    "# Add geometry information to previous table"
   ]
  },
  {
   "cell_type": "code",
   "execution_count": 69,
   "metadata": {},
   "outputs": [
    {
     "name": "stderr",
     "output_type": "stream",
     "text": [
      "                                                                                \r"
     ]
    },
    {
     "data": {
      "text/html": [
       "<div>\n",
       "<style scoped>\n",
       "    .dataframe tbody tr th:only-of-type {\n",
       "        vertical-align: middle;\n",
       "    }\n",
       "\n",
       "    .dataframe tbody tr th {\n",
       "        vertical-align: top;\n",
       "    }\n",
       "\n",
       "    .dataframe thead th {\n",
       "        text-align: right;\n",
       "    }\n",
       "</style>\n",
       "<table border=\"1\" class=\"dataframe\">\n",
       "  <thead>\n",
       "    <tr style=\"text-align: right;\">\n",
       "      <th></th>\n",
       "      <th>consumer_id</th>\n",
       "      <th>total_transaction_count</th>\n",
       "      <th>total_dollar_value</th>\n",
       "      <th>user_id</th>\n",
       "      <th>postcode</th>\n",
       "      <th>SA2_name</th>\n",
       "      <th>state</th>\n",
       "      <th>geometry</th>\n",
       "    </tr>\n",
       "  </thead>\n",
       "  <tbody>\n",
       "    <tr>\n",
       "      <th>0</th>\n",
       "      <td>1144223</td>\n",
       "      <td>543</td>\n",
       "      <td>77840.357047</td>\n",
       "      <td>14971</td>\n",
       "      <td>4184</td>\n",
       "      <td>North Stradbroke Island</td>\n",
       "      <td>QLD</td>\n",
       "      <td>MULTIPOLYGON (((153.3841 -27.51581, 153.38428 ...</td>\n",
       "    </tr>\n",
       "    <tr>\n",
       "      <th>1</th>\n",
       "      <td>1144223</td>\n",
       "      <td>543</td>\n",
       "      <td>77840.357047</td>\n",
       "      <td>14971</td>\n",
       "      <td>4184</td>\n",
       "      <td>Southern Moreton Bay Islands</td>\n",
       "      <td>QLD</td>\n",
       "      <td>MULTIPOLYGON (((153.31943 -27.68148, 153.31947...</td>\n",
       "    </tr>\n",
       "    <tr>\n",
       "      <th>2</th>\n",
       "      <td>242288</td>\n",
       "      <td>558</td>\n",
       "      <td>87245.973644</td>\n",
       "      <td>20696</td>\n",
       "      <td>4184</td>\n",
       "      <td>North Stradbroke Island</td>\n",
       "      <td>QLD</td>\n",
       "      <td>MULTIPOLYGON (((153.3841 -27.51581, 153.38428 ...</td>\n",
       "    </tr>\n",
       "    <tr>\n",
       "      <th>3</th>\n",
       "      <td>242288</td>\n",
       "      <td>558</td>\n",
       "      <td>87245.973644</td>\n",
       "      <td>20696</td>\n",
       "      <td>4184</td>\n",
       "      <td>Southern Moreton Bay Islands</td>\n",
       "      <td>QLD</td>\n",
       "      <td>MULTIPOLYGON (((153.31943 -27.68148, 153.31947...</td>\n",
       "    </tr>\n",
       "    <tr>\n",
       "      <th>4</th>\n",
       "      <td>453040</td>\n",
       "      <td>586</td>\n",
       "      <td>83765.845889</td>\n",
       "      <td>3783</td>\n",
       "      <td>4184</td>\n",
       "      <td>North Stradbroke Island</td>\n",
       "      <td>QLD</td>\n",
       "      <td>MULTIPOLYGON (((153.3841 -27.51581, 153.38428 ...</td>\n",
       "    </tr>\n",
       "  </tbody>\n",
       "</table>\n",
       "</div>"
      ],
      "text/plain": [
       "   consumer_id  total_transaction_count  total_dollar_value  user_id  \\\n",
       "0      1144223                      543        77840.357047    14971   \n",
       "1      1144223                      543        77840.357047    14971   \n",
       "2       242288                      558        87245.973644    20696   \n",
       "3       242288                      558        87245.973644    20696   \n",
       "4       453040                      586        83765.845889     3783   \n",
       "\n",
       "   postcode                      SA2_name state  \\\n",
       "0      4184       North Stradbroke Island   QLD   \n",
       "1      4184  Southern Moreton Bay Islands   QLD   \n",
       "2      4184       North Stradbroke Island   QLD   \n",
       "3      4184  Southern Moreton Bay Islands   QLD   \n",
       "4      4184       North Stradbroke Island   QLD   \n",
       "\n",
       "                                            geometry  \n",
       "0  MULTIPOLYGON (((153.3841 -27.51581, 153.38428 ...  \n",
       "1  MULTIPOLYGON (((153.31943 -27.68148, 153.31947...  \n",
       "2  MULTIPOLYGON (((153.3841 -27.51581, 153.38428 ...  \n",
       "3  MULTIPOLYGON (((153.31943 -27.68148, 153.31947...  \n",
       "4  MULTIPOLYGON (((153.3841 -27.51581, 153.38428 ...  "
      ]
     },
     "execution_count": 69,
     "metadata": {},
     "output_type": "execute_result"
    }
   ],
   "source": [
    "consumer_total_count_dollar_df = consumer_total_count_dollar.toPandas()\n",
    "consumer_total_count_dollar_geo = consumer_total_count_dollar_df.merge(\n",
    "    postcode_sa2_geo,\n",
    "    on='postcode', how='inner')\n",
    "consumer_total_count_dollar_geo = consumer_total_count_dollar_geo.drop('SA2_MAINCO', axis=1)\n",
    "consumer_total_count_dollar_geo.head()"
   ]
  },
  {
   "cell_type": "code",
   "execution_count": 70,
   "metadata": {},
   "outputs": [
    {
     "data": {
      "text/plain": [
       "(37159, 8)"
      ]
     },
     "execution_count": 70,
     "metadata": {},
     "output_type": "execute_result"
    }
   ],
   "source": [
    "consumer_total_count_dollar_geo.shape"
   ]
  },
  {
   "cell_type": "code",
   "execution_count": 71,
   "metadata": {},
   "outputs": [
    {
     "data": {
      "text/html": [
       "<div>\n",
       "<style scoped>\n",
       "    .dataframe tbody tr th:only-of-type {\n",
       "        vertical-align: middle;\n",
       "    }\n",
       "\n",
       "    .dataframe tbody tr th {\n",
       "        vertical-align: top;\n",
       "    }\n",
       "\n",
       "    .dataframe thead th {\n",
       "        text-align: right;\n",
       "    }\n",
       "</style>\n",
       "<table border=\"1\" class=\"dataframe\">\n",
       "  <thead>\n",
       "    <tr style=\"text-align: right;\">\n",
       "      <th></th>\n",
       "      <th>SA2_name</th>\n",
       "      <th>total_transaction_count</th>\n",
       "      <th>total_dollar_value</th>\n",
       "      <th>postcode</th>\n",
       "      <th>state</th>\n",
       "      <th>geometry</th>\n",
       "    </tr>\n",
       "  </thead>\n",
       "  <tbody>\n",
       "    <tr>\n",
       "      <th>0</th>\n",
       "      <td>ACT - South West</td>\n",
       "      <td>13006</td>\n",
       "      <td>2.002136e+06</td>\n",
       "      <td>2902</td>\n",
       "      <td>ACT</td>\n",
       "      <td>POLYGON ((148.88381 -35.26411, 148.94988 -35.2...</td>\n",
       "    </tr>\n",
       "    <tr>\n",
       "      <th>1</th>\n",
       "      <td>APY Lands</td>\n",
       "      <td>9080</td>\n",
       "      <td>1.400538e+06</td>\n",
       "      <td>872</td>\n",
       "      <td>NT</td>\n",
       "      <td>POLYGON ((129.00186 -26.72252, 129.00186 -26.7...</td>\n",
       "    </tr>\n",
       "    <tr>\n",
       "      <th>2</th>\n",
       "      <td>Abbotsford</td>\n",
       "      <td>3369</td>\n",
       "      <td>5.278622e+05</td>\n",
       "      <td>3067</td>\n",
       "      <td>VIC</td>\n",
       "      <td>POLYGON ((144.99255 -37.80249, 144.99266 -37.8...</td>\n",
       "    </tr>\n",
       "    <tr>\n",
       "      <th>3</th>\n",
       "      <td>Aberfoyle Park</td>\n",
       "      <td>3959</td>\n",
       "      <td>6.247266e+05</td>\n",
       "      <td>5159</td>\n",
       "      <td>SA</td>\n",
       "      <td>POLYGON ((138.58963 -35.06584, 138.58993 -35.0...</td>\n",
       "    </tr>\n",
       "    <tr>\n",
       "      <th>4</th>\n",
       "      <td>Acacia Gardens</td>\n",
       "      <td>4526</td>\n",
       "      <td>7.369201e+05</td>\n",
       "      <td>2763</td>\n",
       "      <td>NSW</td>\n",
       "      <td>POLYGON ((150.91593 -33.72971, 150.91661 -33.7...</td>\n",
       "    </tr>\n",
       "  </tbody>\n",
       "</table>\n",
       "</div>"
      ],
      "text/plain": [
       "           SA2_name  total_transaction_count  total_dollar_value  postcode  \\\n",
       "0  ACT - South West                    13006        2.002136e+06      2902   \n",
       "1         APY Lands                     9080        1.400538e+06       872   \n",
       "2        Abbotsford                     3369        5.278622e+05      3067   \n",
       "3    Aberfoyle Park                     3959        6.247266e+05      5159   \n",
       "4    Acacia Gardens                     4526        7.369201e+05      2763   \n",
       "\n",
       "  state                                           geometry  \n",
       "0   ACT  POLYGON ((148.88381 -35.26411, 148.94988 -35.2...  \n",
       "1    NT  POLYGON ((129.00186 -26.72252, 129.00186 -26.7...  \n",
       "2   VIC  POLYGON ((144.99255 -37.80249, 144.99266 -37.8...  \n",
       "3    SA  POLYGON ((138.58963 -35.06584, 138.58993 -35.0...  \n",
       "4   NSW  POLYGON ((150.91593 -33.72971, 150.91661 -33.7...  "
      ]
     },
     "execution_count": 71,
     "metadata": {},
     "output_type": "execute_result"
    }
   ],
   "source": [
    "consumer_total_count_dollar_bySA2_geo = consumer_total_count_dollar_geo.groupby('SA2_name', as_index=False).agg({\n",
    "    'total_transaction_count': 'sum',\n",
    "    'total_dollar_value': 'sum',\n",
    "    'postcode': 'first',                # keep the first postcode of each SA2_name\n",
    "    'state': 'first',\n",
    "    'geometry': 'first'     \n",
    "})\n",
    "consumer_total_count_dollar_bySA2_geo.head()"
   ]
  },
  {
   "cell_type": "code",
   "execution_count": 72,
   "metadata": {},
   "outputs": [
    {
     "data": {
      "text/plain": [
       "(2311, 6)"
      ]
     },
     "execution_count": 72,
     "metadata": {},
     "output_type": "execute_result"
    }
   ],
   "source": [
    "consumer_total_count_dollar_bySA2_geo.shape"
   ]
  },
  {
   "cell_type": "code",
   "execution_count": 75,
   "metadata": {},
   "outputs": [],
   "source": [
    "# save the DataFrame as a CSV file\n",
    "consumer_total_count_dollar_bySA2_geo.to_csv('../data/curated/consumer_total_count_dollar_bySA2_geo.csv', index=False)"
   ]
  },
  {
   "cell_type": "code",
   "execution_count": 74,
   "metadata": {},
   "outputs": [],
   "source": [
    "# drop the geometry column\n",
    "consumer_total_count_dollar_bySA2_df = consumer_total_count_dollar_bySA2_geo.drop(columns=['geometry'])\n",
    "\n",
    "# convert the DataFrame as a Parquet file\n",
    "consumer_total_count_dollar_bySA2 = spark.createDataFrame(consumer_total_count_dollar_bySA2_df)\n",
    "\n",
    "# save the DataFrame as a Parquet file\n",
    "consumer_total_count_dollar_bySA2.write.parquet('../data/curated/consumer_total_count_dollar_bySA2', mode='overwrite')"
   ]
  }
 ],
 "metadata": {
  "kernelspec": {
   "display_name": "Python 3",
   "language": "python",
   "name": "python3"
  },
  "language_info": {
   "codemirror_mode": {
    "name": "ipython",
    "version": 3
   },
   "file_extension": ".py",
   "mimetype": "text/x-python",
   "name": "python",
   "nbconvert_exporter": "python",
   "pygments_lexer": "ipython3",
   "version": "3.11.3"
  }
 },
 "nbformat": 4,
 "nbformat_minor": 2
}
