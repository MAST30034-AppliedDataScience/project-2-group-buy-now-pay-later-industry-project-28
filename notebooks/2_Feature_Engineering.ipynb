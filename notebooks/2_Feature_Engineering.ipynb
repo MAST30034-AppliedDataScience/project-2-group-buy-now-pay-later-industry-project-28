{
 "cells": [
  {
   "cell_type": "markdown",
   "metadata": {},
   "source": [
    "# Feature Engineering"
   ]
  },
  {
   "cell_type": "markdown",
   "metadata": {},
   "source": [
    "---"
   ]
  },
  {
   "cell_type": "code",
   "execution_count": 1,
   "metadata": {},
   "outputs": [],
   "source": [
    "from pyspark.sql import SparkSession\n",
    "from pyspark.sql.functions import* \n",
    "from pyspark.sql.functions import col, count, when, isnull\n",
    "import pandas as pd\n",
    "import geopandas as gpd"
   ]
  },
  {
   "cell_type": "code",
   "execution_count": 2,
   "metadata": {},
   "outputs": [
    {
     "name": "stderr",
     "output_type": "stream",
     "text": [
      "24/09/10 22:33:49 WARN Utils: Your hostname, Cocos-MacBook-Air.local resolves to a loopback address: 127.0.0.1; using 172.16.33.67 instead (on interface en0)\n",
      "24/09/10 22:33:49 WARN Utils: Set SPARK_LOCAL_IP if you need to bind to another address\n",
      "Setting default log level to \"WARN\".\n",
      "To adjust logging level use sc.setLogLevel(newLevel). For SparkR, use setLogLevel(newLevel).\n",
      "24/09/10 22:33:50 WARN NativeCodeLoader: Unable to load native-hadoop library for your platform... using builtin-java classes where applicable\n",
      "24/09/10 22:33:50 WARN Utils: Service 'SparkUI' could not bind on port 4040. Attempting port 4041.\n",
      "24/09/10 22:33:50 WARN Utils: Service 'SparkUI' could not bind on port 4041. Attempting port 4042.\n",
      "24/09/10 22:33:50 WARN Utils: Service 'SparkUI' could not bind on port 4042. Attempting port 4043.\n"
     ]
    }
   ],
   "source": [
    "spark = (\n",
    "    SparkSession.builder.appName(\"Feature_Engineering\")\n",
    "    .config(\"spark.sql.repl.eagerEval.enabled\", True) \n",
    "    .config(\"spark.driver.memory\",\"4G\")\n",
    "    .config(\"spark.executor.memory\",\"4G\")\n",
    "    .config(\"spark.sql.parquet.cacheMetadata\", \"true\")\n",
    "    .config(\"spark.sql.session.timeZone\", \"Etc/UTC\")\n",
    "    .getOrCreate()\n",
    ")"
   ]
  },
  {
   "cell_type": "markdown",
   "metadata": {},
   "source": [
    "# Read datasets"
   ]
  },
  {
   "cell_type": "code",
   "execution_count": 3,
   "metadata": {},
   "outputs": [
    {
     "name": "stderr",
     "output_type": "stream",
     "text": [
      "                                                                                \r"
     ]
    }
   ],
   "source": [
    "consumer_detail  = spark.read.parquet('../data/curated/consumer_detail')\n",
    "transaction = spark.read.parquet('../data/curated/transaction')\n",
    "merchant = spark.read.parquet('../data/curated/merchant')\n",
    "merchant_detail= spark.read.parquet('../data/curated/merchant_detail')\n",
    "postcode_sa2_geo = gpd.read_file('../data/curated/postcode_sa2_geo.shp')\n",
    "merged_external = spark.read.parquet('../data/curated/merged_external')\n",
    "active_consumer_with_transaction  = spark.read.parquet('../data/curated/active_consumer_with_transaction')\n",
    "transaction = spark.read.parquet('../data/curated/transaction/')\n",
    "consumer_total_count_dollar = spark.read.parquet('../data/curated/consumer_total_count_dollar/')"
   ]
  },
  {
   "cell_type": "markdown",
   "metadata": {},
   "source": [
    "### Convert data types"
   ]
  },
  {
   "cell_type": "code",
   "execution_count": 4,
   "metadata": {},
   "outputs": [
    {
     "name": "stdout",
     "output_type": "stream",
     "text": [
      "consumer_detail:\n",
      "root\n",
      " |-- consumer_id: long (nullable = true)\n",
      " |-- user_id: long (nullable = true)\n",
      " |-- name: string (nullable = true)\n",
      " |-- state: string (nullable = true)\n",
      " |-- postcode: string (nullable = true)\n",
      " |-- gender: string (nullable = true)\n",
      "\n",
      "\n",
      "transaction:\n",
      "root\n",
      " |-- user_id: long (nullable = true)\n",
      " |-- merchant_abn: long (nullable = true)\n",
      " |-- dollar_value: double (nullable = true)\n",
      " |-- order_id: string (nullable = true)\n",
      " |-- order_datetime: date (nullable = true)\n",
      "\n",
      "\n",
      "merchant:\n",
      "root\n",
      " |-- merchant_abn: long (nullable = true)\n",
      " |-- order_datetime: date (nullable = true)\n",
      " |-- fraud_probability: double (nullable = true)\n",
      " |-- name: string (nullable = true)\n",
      " |-- category: string (nullable = true)\n",
      " |-- revenue_level: string (nullable = true)\n",
      " |-- take_rate: float (nullable = true)\n",
      "\n",
      "\n",
      "postcode_sa2_geo:\n",
      "SA2_name        object\n",
      "SA2_MAINCO       int64\n",
      "postcode         int64\n",
      "state           object\n",
      "geometry      geometry\n",
      "dtype: object\n"
     ]
    }
   ],
   "source": [
    "print('consumer_detail:')\n",
    "consumer_detail.printSchema()\n",
    "\n",
    "print('\\ntransaction:')\n",
    "transaction.printSchema()\n",
    "\n",
    "print('\\nmerchant:')\n",
    "merchant.printSchema()\n",
    "\n",
    "print('\\npostcode_sa2_geo:')\n",
    "print(postcode_sa2_geo.dtypes)"
   ]
  },
  {
   "cell_type": "code",
   "execution_count": 5,
   "metadata": {},
   "outputs": [
    {
     "name": "stdout",
     "output_type": "stream",
     "text": [
      "root\n",
      " |-- consumer_id: long (nullable = true)\n",
      " |-- user_id: long (nullable = true)\n",
      " |-- name: string (nullable = true)\n",
      " |-- state: string (nullable = true)\n",
      " |-- postcode: integer (nullable = true)\n",
      " |-- gender: string (nullable = true)\n",
      "\n"
     ]
    }
   ],
   "source": [
    "# convert the data type of postcode column in consumer_transaction dataset \n",
    "consumer_detail = consumer_detail.withColumn('postcode', col('postcode').cast('int'))\n",
    "consumer_detail.printSchema()"
   ]
  },
  {
   "cell_type": "markdown",
   "metadata": {},
   "source": [
    "### Display dataset"
   ]
  },
  {
   "cell_type": "code",
   "execution_count": 6,
   "metadata": {},
   "outputs": [
    {
     "name": "stderr",
     "output_type": "stream",
     "text": [
      "                                                                                \r"
     ]
    },
    {
     "name": "stdout",
     "output_type": "stream",
     "text": [
      "+-----------+-------+-----------------+-----+--------+------+\n",
      "|consumer_id|user_id|             name|state|postcode|gender|\n",
      "+-----------+-------+-----------------+-----+--------+------+\n",
      "|     870353| 213579|    Charles Davis|   SA|    5261|  Male|\n",
      "|     923963| 213580|Jacqueline Nelson|  QLD|    4744|Female|\n",
      "|      93016| 213581|    Carolyn Smith|  QLD|    4454|Female|\n",
      "|      61324| 213582|      Denise Rush|   WA|    6705|Female|\n",
      "|     823311| 213583|  Nathan Williams|  NSW|    2145|  Male|\n",
      "+-----------+-------+-----------------+-----+--------+------+\n",
      "only showing top 5 rows\n",
      "\n"
     ]
    }
   ],
   "source": [
    "consumer_detail.show(5)"
   ]
  },
  {
   "cell_type": "code",
   "execution_count": 7,
   "metadata": {},
   "outputs": [
    {
     "data": {
      "text/plain": [
       "499999"
      ]
     },
     "execution_count": 7,
     "metadata": {},
     "output_type": "execute_result"
    }
   ],
   "source": [
    "consumer_detail.count()"
   ]
  },
  {
   "cell_type": "code",
   "execution_count": 8,
   "metadata": {},
   "outputs": [
    {
     "name": "stdout",
     "output_type": "stream",
     "text": [
      "+--------------------+------------+--------------------+-------------+---------+\n",
      "|                name|merchant_abn|            category|revenue_level|take_rate|\n",
      "+--------------------+------------+--------------------+-------------+---------+\n",
      "|       felis limited| 10023283211|furniture, home f...|            e|     0.18|\n",
      "|arcu ac orci corp...| 10142254217|cable, satellite,...|            b|     4.22|\n",
      "|    nunc sed company| 10165489824|jewelry, watch, c...|            b|      4.4|\n",
      "|ultricies digniss...| 10187291046|watch, clock, and...|            b|     3.29|\n",
      "| enim condimentum pc| 10192359162|music shops - mus...|            a|     6.33|\n",
      "+--------------------+------------+--------------------+-------------+---------+\n",
      "only showing top 5 rows\n",
      "\n"
     ]
    }
   ],
   "source": [
    "merchant_detail.show(5)"
   ]
  },
  {
   "cell_type": "code",
   "execution_count": 9,
   "metadata": {},
   "outputs": [
    {
     "data": {
      "text/plain": [
       "4026"
      ]
     },
     "execution_count": 9,
     "metadata": {},
     "output_type": "execute_result"
    }
   ],
   "source": [
    "merchant_detail.count()"
   ]
  },
  {
   "cell_type": "code",
   "execution_count": 10,
   "metadata": {},
   "outputs": [
    {
     "name": "stdout",
     "output_type": "stream",
     "text": [
      "+------------+--------------+-----------------+--------------------+--------------------+-------------+---------+\n",
      "|merchant_abn|order_datetime|fraud_probability|                name|            category|revenue_level|take_rate|\n",
      "+------------+--------------+-----------------+--------------------+--------------------+-------------+---------+\n",
      "| 10023283211|          NULL|             NULL|       felis limited|furniture, home f...|            e|     0.18|\n",
      "| 10142254217|          NULL|             NULL|arcu ac orci corp...|cable, satellite,...|            b|     4.22|\n",
      "| 10165489824|          NULL|             NULL|    nunc sed company|jewelry, watch, c...|            b|      4.4|\n",
      "| 10187291046|          NULL|             NULL|ultricies digniss...|watch, clock, and...|            b|     3.29|\n",
      "| 10192359162|          NULL|             NULL| enim condimentum pc|music shops - mus...|            a|     6.33|\n",
      "+------------+--------------+-----------------+--------------------+--------------------+-------------+---------+\n",
      "only showing top 5 rows\n",
      "\n"
     ]
    }
   ],
   "source": [
    "merchant.show(5)"
   ]
  },
  {
   "cell_type": "code",
   "execution_count": 11,
   "metadata": {},
   "outputs": [
    {
     "data": {
      "text/plain": [
       "4073"
      ]
     },
     "execution_count": 11,
     "metadata": {},
     "output_type": "execute_result"
    }
   ],
   "source": [
    "merchant.count()"
   ]
  },
  {
   "cell_type": "code",
   "execution_count": 12,
   "metadata": {},
   "outputs": [
    {
     "name": "stdout",
     "output_type": "stream",
     "text": [
      "+-------+------------+------------------+--------------------+--------------+\n",
      "|user_id|merchant_abn|      dollar_value|            order_id|order_datetime|\n",
      "+-------+------------+------------------+--------------------+--------------+\n",
      "|  14935| 79417999332|136.06570809815838|23acbb7b-cf98-458...|    2021-11-26|\n",
      "|      1| 46451548968| 72.61581642788431|76bab304-fa2d-400...|    2021-11-26|\n",
      "|  14936| 89518629617|3.0783487174439297|a2ae446a-2959-41c...|    2021-11-26|\n",
      "|      1| 49167531725| 51.58228625503599|7080c274-17f7-4cc...|    2021-11-26|\n",
      "|  14936| 31101120643|25.228114942417797|8e301c0f-06ab-45c...|    2021-11-26|\n",
      "+-------+------------+------------------+--------------------+--------------+\n",
      "only showing top 5 rows\n",
      "\n"
     ]
    }
   ],
   "source": [
    "transaction.show(5)"
   ]
  },
  {
   "cell_type": "code",
   "execution_count": 13,
   "metadata": {},
   "outputs": [
    {
     "data": {
      "text/plain": [
       "13614675"
      ]
     },
     "execution_count": 13,
     "metadata": {},
     "output_type": "execute_result"
    }
   ],
   "source": [
    "transaction.count()"
   ]
  },
  {
   "cell_type": "markdown",
   "metadata": {},
   "source": [
    "# Compute total transaction count and value for each merchant"
   ]
  },
  {
   "cell_type": "code",
   "execution_count": 14,
   "metadata": {},
   "outputs": [
    {
     "name": "stderr",
     "output_type": "stream",
     "text": [
      "[Stage 24:===================================================>     (9 + 1) / 10]\r"
     ]
    },
    {
     "name": "stdout",
     "output_type": "stream",
     "text": [
      "+------------+-----------------+------------------+\n",
      "|merchant_abn|transaction_count|total_dollar_value|\n",
      "+------------+-----------------+------------------+\n",
      "| 83412691377|            14288| 498536.5816973135|\n",
      "| 38700038932|             7132| 9546185.360697312|\n",
      "| 35344855546|             1522|134737.25046268434|\n",
      "| 15613631617|             1785| 543030.5313328261|\n",
      "| 19839532017|              726|          113982.0|\n",
      "+------------+-----------------+------------------+\n",
      "only showing top 5 rows\n",
      "\n"
     ]
    },
    {
     "name": "stderr",
     "output_type": "stream",
     "text": [
      "                                                                                \r"
     ]
    }
   ],
   "source": [
    "# group by merchant_abn and aggregate the count of orders and total dollar_value\n",
    "transaction_detail = transaction.groupBy(\"merchant_abn\").agg(\n",
    "    count(\"order_id\").alias(\"transaction_count\"),  # assuming tip count is equivalent to the number of orders\n",
    "    sum(\"dollar_value\").alias(\"total_dollar_value\")\n",
    ")\n",
    "\n",
    "transaction_detail.show(5)"
   ]
  },
  {
   "cell_type": "code",
   "execution_count": 15,
   "metadata": {},
   "outputs": [
    {
     "name": "stderr",
     "output_type": "stream",
     "text": [
      "                                                                                \r"
     ]
    }
   ],
   "source": [
    "# save the parquet file\n",
    "transaction_detail.write.parquet('../data/curated/transactions_count_dollar', mode='overwrite')"
   ]
  },
  {
   "cell_type": "markdown",
   "metadata": {},
   "source": [
    "# Merge consumer and transaction by `user_id`"
   ]
  },
  {
   "cell_type": "code",
   "execution_count": 16,
   "metadata": {},
   "outputs": [
    {
     "name": "stdout",
     "output_type": "stream",
     "text": [
      "+-------+-----------+----------------+-----+--------+------+------------+------------------+--------------------+--------------+\n",
      "|user_id|consumer_id|            name|state|postcode|gender|merchant_abn|      dollar_value|            order_id|order_datetime|\n",
      "+-------+-----------+----------------+-----+--------+------+------------+------------------+--------------------+--------------+\n",
      "|  14935|    1059280|   Cameron Adams|  QLD|    4563|  Male| 79417999332|136.06570809815838|23acbb7b-cf98-458...|    2021-11-26|\n",
      "|      1|    1195503|Yolanda Williams|   WA|    6935|Female| 46451548968| 72.61581642788431|76bab304-fa2d-400...|    2021-11-26|\n",
      "|  14936|     986886|     Maria Riley|   SA|    5157|Female| 89518629617|3.0783487174439297|a2ae446a-2959-41c...|    2021-11-26|\n",
      "|      1|    1195503|Yolanda Williams|   WA|    6935|Female| 49167531725| 51.58228625503599|7080c274-17f7-4cc...|    2021-11-26|\n",
      "|  14936|     986886|     Maria Riley|   SA|    5157|Female| 31101120643|25.228114942417797|8e301c0f-06ab-45c...|    2021-11-26|\n",
      "+-------+-----------+----------------+-----+--------+------+------------+------------------+--------------------+--------------+\n",
      "only showing top 5 rows\n",
      "\n"
     ]
    }
   ],
   "source": [
    "consumer_transaction = consumer_detail.join(\n",
    "    transaction,\n",
    "    on=['user_id'],\n",
    "    how='inner'\n",
    ")\n",
    "\n",
    "consumer_transaction = consumer_detail.join(\n",
    "    transaction,\n",
    "    on=['user_id'],\n",
    "    how='inner'\n",
    ")\n",
    "\n",
    "consumer_transaction.show(5)"
   ]
  },
  {
   "cell_type": "code",
   "execution_count": 17,
   "metadata": {},
   "outputs": [
    {
     "data": {
      "text/plain": [
       "13614675"
      ]
     },
     "execution_count": 17,
     "metadata": {},
     "output_type": "execute_result"
    }
   ],
   "source": [
    "consumer_transaction.count()"
   ]
  },
  {
   "cell_type": "code",
   "execution_count": 18,
   "metadata": {},
   "outputs": [
    {
     "name": "stderr",
     "output_type": "stream",
     "text": [
      "                                                                                \r"
     ]
    }
   ],
   "source": [
    "# save the parquet file\n",
    "consumer_transaction.write.parquet('../data/curated/consumer_transaction', mode='overwrite')"
   ]
  },
  {
   "cell_type": "markdown",
   "metadata": {},
   "source": [
    "# Compute total transaction count and value for each consumer"
   ]
  },
  {
   "cell_type": "code",
   "execution_count": 19,
   "metadata": {},
   "outputs": [
    {
     "name": "stdout",
     "output_type": "stream",
     "text": [
      "root\n",
      " |-- user_id: long (nullable = true)\n",
      " |-- consumer_id: long (nullable = true)\n",
      " |-- name: string (nullable = true)\n",
      " |-- state: string (nullable = true)\n",
      " |-- postcode: integer (nullable = true)\n",
      " |-- gender: string (nullable = true)\n",
      " |-- merchant_abn: long (nullable = true)\n",
      " |-- dollar_value: double (nullable = true)\n",
      " |-- order_id: string (nullable = true)\n",
      " |-- order_datetime: date (nullable = true)\n",
      "\n"
     ]
    }
   ],
   "source": [
    "consumer_transaction.printSchema()"
   ]
  },
  {
   "cell_type": "code",
   "execution_count": 20,
   "metadata": {},
   "outputs": [
    {
     "name": "stderr",
     "output_type": "stream",
     "text": [
      "                                                                                \r"
     ]
    },
    {
     "name": "stdout",
     "output_type": "stream",
     "text": [
      "+-----------+-----------------------+------------------+-------+--------+\n",
      "|consumer_id|total_transaction_count|total_dollar_value|user_id|postcode|\n",
      "+-----------+-----------------------+------------------+-------+--------+\n",
      "|    1144223|                    543| 77840.35704704828|  14971|    4184|\n",
      "|     283969|                    581|100112.93516413833|  15024|    2228|\n",
      "|    1050479|                    564|100977.04005104418|  15031|    5502|\n",
      "|    1174371|                    562| 87222.61085702278|     95|    2352|\n",
      "|     921339|                    591|134278.40943370626|    152|    2161|\n",
      "+-----------+-----------------------+------------------+-------+--------+\n",
      "only showing top 5 rows\n",
      "\n"
     ]
    }
   ],
   "source": [
    "# calculate the total number of transactions and total transaction amount for each consumer\n",
    "consumer_total_count_dollar = (consumer_transaction\n",
    "                               .groupBy(\"consumer_id\")\n",
    "                               .agg(\n",
    "                                   count(\"order_id\").alias(\"total_transaction_count\"),\n",
    "                                   sum(\"dollar_value\").alias(\"total_dollar_value\")\n",
    "                                   ))\n",
    "\n",
    "extra_columns_df = (consumer_transaction\n",
    "                    .select(\"consumer_id\", \"user_id\", \"postcode\")\n",
    "                    .distinct())\n",
    "\n",
    "consumer_total_count_dollar = (consumer_total_count_dollar\n",
    "                               .join(extra_columns_df, on=\"consumer_id\", how=\"left\"))\n",
    "\n",
    "consumer_total_count_dollar.show(5)\n"
   ]
  },
  {
   "cell_type": "code",
   "execution_count": 21,
   "metadata": {},
   "outputs": [
    {
     "name": "stderr",
     "output_type": "stream",
     "text": [
      "                                                                                \r"
     ]
    }
   ],
   "source": [
    "# save as a parquet file\n",
    "consumer_total_count_dollar.write.parquet('../data/curated/consumer_total_count_dollar', mode='overwrite')"
   ]
  },
  {
   "cell_type": "markdown",
   "metadata": {},
   "source": [
    "# Add geometry information to previous table"
   ]
  },
  {
   "cell_type": "code",
   "execution_count": 22,
   "metadata": {},
   "outputs": [
    {
     "name": "stderr",
     "output_type": "stream",
     "text": [
      "                                                                                \r"
     ]
    },
    {
     "data": {
      "text/html": [
       "<div>\n",
       "<style scoped>\n",
       "    .dataframe tbody tr th:only-of-type {\n",
       "        vertical-align: middle;\n",
       "    }\n",
       "\n",
       "    .dataframe tbody tr th {\n",
       "        vertical-align: top;\n",
       "    }\n",
       "\n",
       "    .dataframe thead th {\n",
       "        text-align: right;\n",
       "    }\n",
       "</style>\n",
       "<table border=\"1\" class=\"dataframe\">\n",
       "  <thead>\n",
       "    <tr style=\"text-align: right;\">\n",
       "      <th></th>\n",
       "      <th>consumer_id</th>\n",
       "      <th>total_transaction_count</th>\n",
       "      <th>total_dollar_value</th>\n",
       "      <th>user_id</th>\n",
       "      <th>postcode</th>\n",
       "      <th>SA2_name</th>\n",
       "      <th>state</th>\n",
       "      <th>geometry</th>\n",
       "    </tr>\n",
       "  </thead>\n",
       "  <tbody>\n",
       "    <tr>\n",
       "      <th>0</th>\n",
       "      <td>1144223</td>\n",
       "      <td>543</td>\n",
       "      <td>77840.357047</td>\n",
       "      <td>14971</td>\n",
       "      <td>4184</td>\n",
       "      <td>North Stradbroke Island</td>\n",
       "      <td>QLD</td>\n",
       "      <td>MULTIPOLYGON (((153.3841 -27.51581, 153.38428 ...</td>\n",
       "    </tr>\n",
       "    <tr>\n",
       "      <th>1</th>\n",
       "      <td>1144223</td>\n",
       "      <td>543</td>\n",
       "      <td>77840.357047</td>\n",
       "      <td>14971</td>\n",
       "      <td>4184</td>\n",
       "      <td>Southern Moreton Bay Islands</td>\n",
       "      <td>QLD</td>\n",
       "      <td>MULTIPOLYGON (((153.31943 -27.68148, 153.31947...</td>\n",
       "    </tr>\n",
       "    <tr>\n",
       "      <th>2</th>\n",
       "      <td>242288</td>\n",
       "      <td>558</td>\n",
       "      <td>87245.973644</td>\n",
       "      <td>20696</td>\n",
       "      <td>4184</td>\n",
       "      <td>North Stradbroke Island</td>\n",
       "      <td>QLD</td>\n",
       "      <td>MULTIPOLYGON (((153.3841 -27.51581, 153.38428 ...</td>\n",
       "    </tr>\n",
       "    <tr>\n",
       "      <th>3</th>\n",
       "      <td>242288</td>\n",
       "      <td>558</td>\n",
       "      <td>87245.973644</td>\n",
       "      <td>20696</td>\n",
       "      <td>4184</td>\n",
       "      <td>Southern Moreton Bay Islands</td>\n",
       "      <td>QLD</td>\n",
       "      <td>MULTIPOLYGON (((153.31943 -27.68148, 153.31947...</td>\n",
       "    </tr>\n",
       "    <tr>\n",
       "      <th>4</th>\n",
       "      <td>453040</td>\n",
       "      <td>586</td>\n",
       "      <td>83765.845889</td>\n",
       "      <td>3783</td>\n",
       "      <td>4184</td>\n",
       "      <td>North Stradbroke Island</td>\n",
       "      <td>QLD</td>\n",
       "      <td>MULTIPOLYGON (((153.3841 -27.51581, 153.38428 ...</td>\n",
       "    </tr>\n",
       "  </tbody>\n",
       "</table>\n",
       "</div>"
      ],
      "text/plain": [
       "   consumer_id  total_transaction_count  total_dollar_value  user_id  \\\n",
       "0      1144223                      543        77840.357047    14971   \n",
       "1      1144223                      543        77840.357047    14971   \n",
       "2       242288                      558        87245.973644    20696   \n",
       "3       242288                      558        87245.973644    20696   \n",
       "4       453040                      586        83765.845889     3783   \n",
       "\n",
       "   postcode                      SA2_name state  \\\n",
       "0      4184       North Stradbroke Island   QLD   \n",
       "1      4184  Southern Moreton Bay Islands   QLD   \n",
       "2      4184       North Stradbroke Island   QLD   \n",
       "3      4184  Southern Moreton Bay Islands   QLD   \n",
       "4      4184       North Stradbroke Island   QLD   \n",
       "\n",
       "                                            geometry  \n",
       "0  MULTIPOLYGON (((153.3841 -27.51581, 153.38428 ...  \n",
       "1  MULTIPOLYGON (((153.31943 -27.68148, 153.31947...  \n",
       "2  MULTIPOLYGON (((153.3841 -27.51581, 153.38428 ...  \n",
       "3  MULTIPOLYGON (((153.31943 -27.68148, 153.31947...  \n",
       "4  MULTIPOLYGON (((153.3841 -27.51581, 153.38428 ...  "
      ]
     },
     "execution_count": 22,
     "metadata": {},
     "output_type": "execute_result"
    }
   ],
   "source": [
    "consumer_total_count_dollar_df = consumer_total_count_dollar.toPandas()\n",
    "consumer_total_count_dollar_geo = consumer_total_count_dollar_df.merge(\n",
    "    postcode_sa2_geo,\n",
    "    on='postcode', how='inner')\n",
    "consumer_total_count_dollar_geo = consumer_total_count_dollar_geo.drop('SA2_MAINCO', axis=1)\n",
    "consumer_total_count_dollar_geo.head()"
   ]
  },
  {
   "cell_type": "code",
   "execution_count": 23,
   "metadata": {},
   "outputs": [
    {
     "data": {
      "text/plain": [
       "(37159, 8)"
      ]
     },
     "execution_count": 23,
     "metadata": {},
     "output_type": "execute_result"
    }
   ],
   "source": [
    "consumer_total_count_dollar_geo.shape"
   ]
  },
  {
   "cell_type": "code",
   "execution_count": 24,
   "metadata": {},
   "outputs": [
    {
     "data": {
      "text/html": [
       "<div>\n",
       "<style scoped>\n",
       "    .dataframe tbody tr th:only-of-type {\n",
       "        vertical-align: middle;\n",
       "    }\n",
       "\n",
       "    .dataframe tbody tr th {\n",
       "        vertical-align: top;\n",
       "    }\n",
       "\n",
       "    .dataframe thead th {\n",
       "        text-align: right;\n",
       "    }\n",
       "</style>\n",
       "<table border=\"1\" class=\"dataframe\">\n",
       "  <thead>\n",
       "    <tr style=\"text-align: right;\">\n",
       "      <th></th>\n",
       "      <th>SA2_name</th>\n",
       "      <th>total_transaction_count</th>\n",
       "      <th>total_dollar_value</th>\n",
       "      <th>postcode</th>\n",
       "      <th>state</th>\n",
       "      <th>geometry</th>\n",
       "    </tr>\n",
       "  </thead>\n",
       "  <tbody>\n",
       "    <tr>\n",
       "      <th>0</th>\n",
       "      <td>ACT - South West</td>\n",
       "      <td>13006</td>\n",
       "      <td>2.002136e+06</td>\n",
       "      <td>2902</td>\n",
       "      <td>ACT</td>\n",
       "      <td>POLYGON ((148.88381 -35.26411, 148.94988 -35.2...</td>\n",
       "    </tr>\n",
       "    <tr>\n",
       "      <th>1</th>\n",
       "      <td>APY Lands</td>\n",
       "      <td>9080</td>\n",
       "      <td>1.400538e+06</td>\n",
       "      <td>872</td>\n",
       "      <td>NT</td>\n",
       "      <td>POLYGON ((129.00186 -26.72252, 129.00186 -26.7...</td>\n",
       "    </tr>\n",
       "    <tr>\n",
       "      <th>2</th>\n",
       "      <td>Abbotsford</td>\n",
       "      <td>3369</td>\n",
       "      <td>5.278622e+05</td>\n",
       "      <td>3067</td>\n",
       "      <td>VIC</td>\n",
       "      <td>POLYGON ((144.99255 -37.80249, 144.99266 -37.8...</td>\n",
       "    </tr>\n",
       "    <tr>\n",
       "      <th>3</th>\n",
       "      <td>Aberfoyle Park</td>\n",
       "      <td>3959</td>\n",
       "      <td>6.247266e+05</td>\n",
       "      <td>5159</td>\n",
       "      <td>SA</td>\n",
       "      <td>POLYGON ((138.58963 -35.06584, 138.58993 -35.0...</td>\n",
       "    </tr>\n",
       "    <tr>\n",
       "      <th>4</th>\n",
       "      <td>Acacia Gardens</td>\n",
       "      <td>4526</td>\n",
       "      <td>7.369201e+05</td>\n",
       "      <td>2763</td>\n",
       "      <td>NSW</td>\n",
       "      <td>POLYGON ((150.91593 -33.72971, 150.91661 -33.7...</td>\n",
       "    </tr>\n",
       "  </tbody>\n",
       "</table>\n",
       "</div>"
      ],
      "text/plain": [
       "           SA2_name  total_transaction_count  total_dollar_value  postcode  \\\n",
       "0  ACT - South West                    13006        2.002136e+06      2902   \n",
       "1         APY Lands                     9080        1.400538e+06       872   \n",
       "2        Abbotsford                     3369        5.278622e+05      3067   \n",
       "3    Aberfoyle Park                     3959        6.247266e+05      5159   \n",
       "4    Acacia Gardens                     4526        7.369201e+05      2763   \n",
       "\n",
       "  state                                           geometry  \n",
       "0   ACT  POLYGON ((148.88381 -35.26411, 148.94988 -35.2...  \n",
       "1    NT  POLYGON ((129.00186 -26.72252, 129.00186 -26.7...  \n",
       "2   VIC  POLYGON ((144.99255 -37.80249, 144.99266 -37.8...  \n",
       "3    SA  POLYGON ((138.58963 -35.06584, 138.58993 -35.0...  \n",
       "4   NSW  POLYGON ((150.91593 -33.72971, 150.91661 -33.7...  "
      ]
     },
     "execution_count": 24,
     "metadata": {},
     "output_type": "execute_result"
    }
   ],
   "source": [
    "consumer_total_count_dollar_bySA2_geo = consumer_total_count_dollar_geo.groupby('SA2_name', as_index=False).agg({\n",
    "    'total_transaction_count': 'sum',\n",
    "    'total_dollar_value': 'sum',\n",
    "    'postcode': 'first',                # keep the first postcode of each SA2_name\n",
    "    'state': 'first',\n",
    "    'geometry': 'first'     \n",
    "})\n",
    "consumer_total_count_dollar_bySA2_geo.head()"
   ]
  },
  {
   "cell_type": "code",
   "execution_count": 25,
   "metadata": {},
   "outputs": [
    {
     "data": {
      "text/plain": [
       "(2311, 6)"
      ]
     },
     "execution_count": 25,
     "metadata": {},
     "output_type": "execute_result"
    }
   ],
   "source": [
    "consumer_total_count_dollar_bySA2_geo.shape"
   ]
  },
  {
   "cell_type": "code",
   "execution_count": 26,
   "metadata": {},
   "outputs": [],
   "source": [
    "# save the DataFrame as a CSV file\n",
    "consumer_total_count_dollar_bySA2_geo.to_csv('../data/curated/consumer_total_count_dollar_bySA2_geo.csv', index=False)"
   ]
  },
  {
   "cell_type": "code",
   "execution_count": 27,
   "metadata": {},
   "outputs": [
    {
     "name": "stderr",
     "output_type": "stream",
     "text": [
      "                                                                                \r"
     ]
    }
   ],
   "source": [
    "# drop the geometry column\n",
    "consumer_total_count_dollar_bySA2_df = consumer_total_count_dollar_bySA2_geo.drop(columns=['geometry'])\n",
    "\n",
    "# convert the DataFrame as a Parquet file\n",
    "consumer_total_count_dollar_bySA2 = spark.createDataFrame(consumer_total_count_dollar_bySA2_df)\n",
    "\n",
    "# save the DataFrame as a Parquet file\n",
    "consumer_total_count_dollar_bySA2.write.parquet('../data/curated/consumer_total_count_dollar_bySA2', mode='overwrite')"
   ]
  },
  {
   "cell_type": "markdown",
   "metadata": {},
   "source": [
    "# Combine consumer details with all external datasets"
   ]
  },
  {
   "cell_type": "code",
   "execution_count": 28,
   "metadata": {},
   "outputs": [
    {
     "name": "stderr",
     "output_type": "stream",
     "text": [
      "                                                                                \r"
     ]
    },
    {
     "name": "stdout",
     "output_type": "stream",
     "text": [
      "+-------+------------+------------------+--------------------+--------------+-----------+-----------------------+------------------+--------+\n",
      "|user_id|merchant_abn|      dollar_value|            order_id|order_datetime|consumer_id|total_transaction_count|total_dollar_value|postcode|\n",
      "+-------+------------+------------------+--------------------+--------------+-----------+-----------------------+------------------+--------+\n",
      "|     26| 43186523025| 48.78591885045311|38a3e0bd-d40d-494...|    2021-11-26|    1421465|                    563| 83854.12041701685|    3469|\n",
      "|     26| 45629217853|171.26544320591705|cb90fda0-bd8d-4e1...|    2021-11-26|    1421465|                    563| 83854.12041701685|    3469|\n",
      "|     29| 96880556465|10.398714717204657|2ff31f41-242a-43d...|    2021-11-26|    1134079|                    579|103585.52165326523|    4157|\n",
      "|  15057| 82065156333| 35.74275633819245|cdd177be-8ace-4b4...|    2021-11-26|      66483|                    567| 97979.05980279764|    4613|\n",
      "|  15173| 63300242141|3.8545247304838792|20e95cda-7cd1-442...|    2021-11-26|     566274|                    581| 90158.74926563623|    5606|\n",
      "+-------+------------+------------------+--------------------+--------------+-----------+-----------------------+------------------+--------+\n",
      "only showing top 5 rows\n",
      "\n"
     ]
    }
   ],
   "source": [
    "# merge consumer detail with their transaction records\n",
    "consumer_df = transaction.join(\n",
    "    consumer_total_count_dollar,\n",
    "    on=['user_id'],\n",
    "    how='inner'\n",
    ")\n",
    "consumer_df.show(5)"
   ]
  },
  {
   "cell_type": "code",
   "execution_count": 29,
   "metadata": {},
   "outputs": [
    {
     "name": "stderr",
     "output_type": "stream",
     "text": [
      "                                                                                \r"
     ]
    },
    {
     "data": {
      "text/plain": [
       "13614675"
      ]
     },
     "execution_count": 29,
     "metadata": {},
     "output_type": "execute_result"
    }
   ],
   "source": [
    "consumer_df.count()"
   ]
  },
  {
   "cell_type": "code",
   "execution_count": 30,
   "metadata": {},
   "outputs": [
    {
     "name": "stdout",
     "output_type": "stream",
     "text": [
      "+-------+--------------+------------------+\n",
      "|user_id|order_datetime| fraud_probability|\n",
      "+-------+--------------+------------------+\n",
      "|      1|    2022-02-20| 9.805431136520959|\n",
      "|      2|    2021-08-30| 9.599513915425788|\n",
      "|      2|    2021-09-25|10.069850934775245|\n",
      "|      3|    2021-11-03| 8.300636455314633|\n",
      "|      4|    2021-10-09| 9.633302411090419|\n",
      "+-------+--------------+------------------+\n",
      "only showing top 5 rows\n",
      "\n"
     ]
    }
   ],
   "source": [
    "# extract the fraud probability for the consumers who have transaction records\n",
    "consumer_fraud = active_consumer_with_transaction.select(['user_id', 'order_datetime', \n",
    "                                                          'fraud_probability'])\n",
    "consumer_fraud.show(5)"
   ]
  },
  {
   "cell_type": "code",
   "execution_count": 31,
   "metadata": {},
   "outputs": [
    {
     "name": "stderr",
     "output_type": "stream",
     "text": [
      "                                                                                \r"
     ]
    },
    {
     "name": "stdout",
     "output_type": "stream",
     "text": [
      "+-------+--------------+------------+------------------+--------------------+-----------+-----------------------+------------------+--------+-----------------+\n",
      "|user_id|order_datetime|merchant_abn|      dollar_value|            order_id|consumer_id|total_transaction_count|total_dollar_value|postcode|fraud_probability|\n",
      "+-------+--------------+------------+------------------+--------------------+-----------+-----------------------+------------------+--------+-----------------+\n",
      "|     26|    2021-11-26| 43186523025| 48.78591885045311|38a3e0bd-d40d-494...|    1421465|                    563| 83854.12041701685|    3469|             NULL|\n",
      "|     26|    2021-11-26| 45629217853|171.26544320591705|cb90fda0-bd8d-4e1...|    1421465|                    563| 83854.12041701685|    3469|             NULL|\n",
      "|     29|    2021-11-26| 96880556465|10.398714717204657|2ff31f41-242a-43d...|    1134079|                    579|103585.52165326523|    4157|             NULL|\n",
      "|  15057|    2021-11-26| 82065156333| 35.74275633819245|cdd177be-8ace-4b4...|      66483|                    567| 97979.05980279764|    4613|             NULL|\n",
      "|  15173|    2021-11-26| 63300242141|3.8545247304838792|20e95cda-7cd1-442...|     566274|                    581| 90158.74926563623|    5606|             NULL|\n",
      "+-------+--------------+------------+------------------+--------------------+-----------+-----------------------+------------------+--------+-----------------+\n",
      "only showing top 5 rows\n",
      "\n"
     ]
    }
   ],
   "source": [
    "# merge consumer fraud probabillity with full consumer transaction records\n",
    "consumer_df2 = consumer_df.join(\n",
    "    consumer_fraud,\n",
    "    on=['user_id', 'order_datetime'],\n",
    "    how='left'\n",
    ")\n",
    "consumer_df2.show(5)"
   ]
  },
  {
   "cell_type": "code",
   "execution_count": 32,
   "metadata": {},
   "outputs": [
    {
     "name": "stderr",
     "output_type": "stream",
     "text": [
      "                                                                                \r"
     ]
    },
    {
     "data": {
      "text/plain": [
       "13614854"
      ]
     },
     "execution_count": 32,
     "metadata": {},
     "output_type": "execute_result"
    }
   ],
   "source": [
    "consumer_df2.count()"
   ]
  },
  {
   "cell_type": "code",
   "execution_count": 33,
   "metadata": {},
   "outputs": [
    {
     "name": "stderr",
     "output_type": "stream",
     "text": [
      "                                                                                \r"
     ]
    },
    {
     "name": "stdout",
     "output_type": "stream",
     "text": [
      "Number of missing fraud_probability values: 13543038\n",
      "Percentage of missing fraud_probability values: 0.9947251729618254\n"
     ]
    }
   ],
   "source": [
    "# count the number of missing values ​​in the fraud_probability column\n",
    "missing_fraud_prob_count = consumer_df2.filter(col('fraud_probability').isNull()).count()\n",
    "print(f\"Number of missing fraud_probability values: {missing_fraud_prob_count}\")\n",
    "print(f\"Percentage of missing fraud_probability values: {missing_fraud_prob_count/13614854}\")"
   ]
  },
  {
   "cell_type": "code",
   "execution_count": 34,
   "metadata": {},
   "outputs": [
    {
     "name": "stderr",
     "output_type": "stream",
     "text": [
      "                                                                                \r"
     ]
    },
    {
     "name": "stdout",
     "output_type": "stream",
     "text": [
      "+--------+-------+--------------+------------+------------------+--------------------+-----------+-----------------------+------------------+-----------------+--------------------+------------------+------------------+-----------------------------+---------------------------+------------------+-------------------------+----------------------------+-------------------------+----------------------+-----+-----------------+\n",
      "|postcode|user_id|order_datetime|merchant_abn|      dollar_value|            order_id|consumer_id|total_transaction_count|total_dollar_value|fraud_probability|            SA2_name|average_population|Median_age_persons|Median_mortgage_repay_monthly|Median_tot_prsnl_inc_weekly|Median_rent_weekly|Median_tot_fam_inc_weekly|Average_num_psns_per_bedroom|Median_tot_hhd_inc_weekly|Average_household_size|state|unemployment_rate|\n",
      "+--------+-------+--------------+------------+------------------+--------------------+-----------+-----------------------+------------------+-----------------+--------------------+------------------+------------------+-----------------------------+---------------------------+------------------+-------------------------+----------------------------+-------------------------+----------------------+-----+-----------------+\n",
      "|    3469|     26|    2021-11-26| 43186523025| 48.78591885045311|38a3e0bd-d40d-494...|    1421465|                    563| 83854.12041701685|             NULL|            Beaufort|            4616.0|                49|                         1216|                        628|               218|                     1552|                         0.7|                     1193|                   2.2|  VIC|              3.4|\n",
      "|    3469|     26|    2021-11-26| 43186523025| 48.78591885045311|38a3e0bd-d40d-494...|    1421465|                    563| 83854.12041701685|             NULL|               Avoca|            3521.0|                53|                         1006|                        516|               200|                     1286|                         0.7|                      985|                   2.2|  VIC|              4.0|\n",
      "|    3469|     26|    2021-11-26| 45629217853|171.26544320591705|cb90fda0-bd8d-4e1...|    1421465|                    563| 83854.12041701685|             NULL|            Beaufort|            4616.0|                49|                         1216|                        628|               218|                     1552|                         0.7|                     1193|                   2.2|  VIC|              3.4|\n",
      "|    3469|     26|    2021-11-26| 45629217853|171.26544320591705|cb90fda0-bd8d-4e1...|    1421465|                    563| 83854.12041701685|             NULL|               Avoca|            3521.0|                53|                         1006|                        516|               200|                     1286|                         0.7|                      985|                   2.2|  VIC|              4.0|\n",
      "|    4157|     29|    2021-11-26| 96880556465|10.398714717204657|2ff31f41-242a-43d...|    1134079|                    579|103585.52165326523|             NULL|Sheldon - Mount C...|            8497.5|                37|                         2167|                       1050|               475|                     2687|                         0.8|                     2637|                   3.1|  QLD|              3.0|\n",
      "+--------+-------+--------------+------------+------------------+--------------------+-----------+-----------------------+------------------+-----------------+--------------------+------------------+------------------+-----------------------------+---------------------------+------------------+-------------------------+----------------------------+-------------------------+----------------------+-----+-----------------+\n",
      "only showing top 5 rows\n",
      "\n"
     ]
    }
   ],
   "source": [
    "# merge full consumer transactions records with all external datasets\n",
    "consumer_full = consumer_df2.join(\n",
    "    merged_external,\n",
    "    on=\"postcode\",\n",
    "    how=\"left\"\n",
    ")\n",
    "consumer_full.show(5)"
   ]
  },
  {
   "cell_type": "code",
   "execution_count": 35,
   "metadata": {},
   "outputs": [
    {
     "name": "stderr",
     "output_type": "stream",
     "text": [
      "                                                                                \r"
     ]
    },
    {
     "data": {
      "text/plain": [
       "23819790"
      ]
     },
     "execution_count": 35,
     "metadata": {},
     "output_type": "execute_result"
    }
   ],
   "source": [
    "consumer_full.count()"
   ]
  },
  {
   "cell_type": "code",
   "execution_count": 36,
   "metadata": {},
   "outputs": [
    {
     "name": "stderr",
     "output_type": "stream",
     "text": [
      "[Stage 196:==================================================>     (9 + 1) / 10]\r"
     ]
    },
    {
     "name": "stdout",
     "output_type": "stream",
     "text": [
      "+--------+-------+--------------+------------+------------+--------+-----------+-----------------------+------------------+-----------------+--------+------------------+------------------+-----------------------------+---------------------------+------------------+-------------------------+----------------------------+-------------------------+----------------------+-------+-----------------+\n",
      "|postcode|user_id|order_datetime|merchant_abn|dollar_value|order_id|consumer_id|total_transaction_count|total_dollar_value|fraud_probability|SA2_name|average_population|Median_age_persons|Median_mortgage_repay_monthly|Median_tot_prsnl_inc_weekly|Median_rent_weekly|Median_tot_fam_inc_weekly|Average_num_psns_per_bedroom|Median_tot_hhd_inc_weekly|Average_household_size|  state|unemployment_rate|\n",
      "+--------+-------+--------------+------------+------------+--------+-----------+-----------------------+------------------+-----------------+--------+------------------+------------------+-----------------------------+---------------------------+------------------+-------------------------+----------------------------+-------------------------+----------------------+-------+-----------------+\n",
      "|       0|      0|             0|           0|           0|       0|          0|                      0|                 0|         23693593| 2241949|           2241949|           2241949|                      2241949|                    2241949|           2241949|                  2241949|                     2241949|                  2241949|               2241949|2241949|          2241949|\n",
      "+--------+-------+--------------+------------+------------+--------+-----------+-----------------------+------------------+-----------------+--------+------------------+------------------+-----------------------------+---------------------------+------------------+-------------------------+----------------------------+-------------------------+----------------------+-------+-----------------+\n",
      "\n"
     ]
    },
    {
     "name": "stderr",
     "output_type": "stream",
     "text": [
      "                                                                                \r"
     ]
    }
   ],
   "source": [
    "# count the number of missing values ​​in each column\n",
    "missing_values_df = consumer_full.select([\n",
    "    count(when(col(c).isNull(), c)).alias(c) for c in consumer_full.columns\n",
    "])\n",
    "missing_values_df.show()"
   ]
  },
  {
   "cell_type": "markdown",
   "metadata": {},
   "source": [
    "The final consumer table (with consumer transaction records and details, and external datasets):"
   ]
  },
  {
   "cell_type": "code",
   "execution_count": 37,
   "metadata": {},
   "outputs": [
    {
     "name": "stderr",
     "output_type": "stream",
     "text": [
      "                                                                                \r"
     ]
    },
    {
     "name": "stdout",
     "output_type": "stream",
     "text": [
      "+--------+-------+--------------+------------+------------------+--------------------+-----------+-----------------------+------------------+-----------------+--------------------+------------------+------------------+-----------------------------+---------------------------+------------------+-------------------------+----------------------------+-------------------------+----------------------+-----+-----------------+\n",
      "|postcode|user_id|order_datetime|merchant_abn|      dollar_value|            order_id|consumer_id|total_transaction_count|total_dollar_value|fraud_probability|            SA2_name|average_population|Median_age_persons|Median_mortgage_repay_monthly|Median_tot_prsnl_inc_weekly|Median_rent_weekly|Median_tot_fam_inc_weekly|Average_num_psns_per_bedroom|Median_tot_hhd_inc_weekly|Average_household_size|state|unemployment_rate|\n",
      "+--------+-------+--------------+------------+------------------+--------------------+-----------+-----------------------+------------------+-----------------+--------------------+------------------+------------------+-----------------------------+---------------------------+------------------+-------------------------+----------------------------+-------------------------+----------------------+-----+-----------------+\n",
      "|    3469|     26|    2021-11-26| 43186523025| 48.78591885045311|38a3e0bd-d40d-494...|    1421465|                    563| 83854.12041701685|             NULL|            Beaufort|            4616.0|                49|                         1216|                        628|               218|                     1552|                         0.7|                     1193|                   2.2|  VIC|              3.4|\n",
      "|    3469|     26|    2021-11-26| 43186523025| 48.78591885045311|38a3e0bd-d40d-494...|    1421465|                    563| 83854.12041701685|             NULL|               Avoca|            3521.0|                53|                         1006|                        516|               200|                     1286|                         0.7|                      985|                   2.2|  VIC|              4.0|\n",
      "|    3469|     26|    2021-11-26| 45629217853|171.26544320591705|cb90fda0-bd8d-4e1...|    1421465|                    563| 83854.12041701685|             NULL|            Beaufort|            4616.0|                49|                         1216|                        628|               218|                     1552|                         0.7|                     1193|                   2.2|  VIC|              3.4|\n",
      "|    3469|     26|    2021-11-26| 45629217853|171.26544320591705|cb90fda0-bd8d-4e1...|    1421465|                    563| 83854.12041701685|             NULL|               Avoca|            3521.0|                53|                         1006|                        516|               200|                     1286|                         0.7|                      985|                   2.2|  VIC|              4.0|\n",
      "|    4157|     29|    2021-11-26| 96880556465|10.398714717204657|2ff31f41-242a-43d...|    1134079|                    579|103585.52165326523|             NULL|Sheldon - Mount C...|            8497.5|                37|                         2167|                       1050|               475|                     2687|                         0.8|                     2637|                   3.1|  QLD|              3.0|\n",
      "+--------+-------+--------------+------------+------------------+--------------------+-----------+-----------------------+------------------+-----------------+--------------------+------------------+------------------+-----------------------------+---------------------------+------------------+-------------------------+----------------------------+-------------------------+----------------------+-----+-----------------+\n",
      "only showing top 5 rows\n",
      "\n"
     ]
    }
   ],
   "source": [
    "# drop the rows with NULLs\n",
    "columns_to_check = [\n",
    "    'SA2_name',\n",
    "    'average_population',\n",
    "    'Median_age_persons',\n",
    "    'Median_mortgage_repay_monthly',\n",
    "    'Median_tot_prsnl_inc_weekly',\n",
    "    'Median_rent_weekly',\n",
    "    'Median_tot_fam_inc_weekly',\n",
    "    'Average_num_psns_per_bedroom',\n",
    "    'Median_tot_hhd_inc_weekly',\n",
    "    'Average_household_size',\n",
    "    'state',\n",
    "    'unemployment_rate'\n",
    "]\n",
    "\n",
    "consumer_full_cleaned = consumer_full.dropna(subset=columns_to_check)\n",
    "consumer_full_cleaned.show(5)"
   ]
  },
  {
   "cell_type": "code",
   "execution_count": 38,
   "metadata": {},
   "outputs": [
    {
     "name": "stderr",
     "output_type": "stream",
     "text": [
      "                                                                                \r"
     ]
    },
    {
     "data": {
      "text/plain": [
       "21577841"
      ]
     },
     "execution_count": 38,
     "metadata": {},
     "output_type": "execute_result"
    }
   ],
   "source": [
    "consumer_full_cleaned.count()"
   ]
  },
  {
   "cell_type": "code",
   "execution_count": 39,
   "metadata": {},
   "outputs": [
    {
     "name": "stdout",
     "output_type": "stream",
     "text": [
      "Number of rows deleted: 2241949\n",
      "Percentage of rows deleted: 0.0941212747887366\n"
     ]
    }
   ],
   "source": [
    "print(f'Number of rows deleted:', 23819790-21577841)\n",
    "print(f'Percentage of rows deleted:', (23819790-21577841)/23819790)"
   ]
  },
  {
   "cell_type": "code",
   "execution_count": 48,
   "metadata": {},
   "outputs": [
    {
     "name": "stderr",
     "output_type": "stream",
     "text": [
      "[Stage 307:============>                                            (2 + 7) / 9]\r"
     ]
    },
    {
     "name": "stdout",
     "output_type": "stream",
     "text": [
      "+----------+----------+\n",
      "|  min_date|  max_date|\n",
      "+----------+----------+\n",
      "|2021-02-28|2022-10-26|\n",
      "+----------+----------+\n",
      "\n"
     ]
    },
    {
     "name": "stderr",
     "output_type": "stream",
     "text": [
      "                                                                                \r"
     ]
    }
   ],
   "source": [
    "# find the maximum and minimum values ​​of the order_datetime column\n",
    "consumer_full_cleaned.select(min(\"order_datetime\").alias(\"min_date\"), max(\"order_datetime\").alias(\"max_date\")).show()"
   ]
  },
  {
   "cell_type": "markdown",
   "metadata": {},
   "source": [
    "Compute the number of missing values again, this is the number of missing values for consumer fraud probability:"
   ]
  },
  {
   "cell_type": "code",
   "execution_count": 40,
   "metadata": {},
   "outputs": [
    {
     "name": "stderr",
     "output_type": "stream",
     "text": [
      "[Stage 250:==================================================>     (9 + 1) / 10]\r"
     ]
    },
    {
     "name": "stdout",
     "output_type": "stream",
     "text": [
      "+--------+-------+--------------+------------+------------+--------+-----------+-----------------------+------------------+-----------------+--------+------------------+------------------+-----------------------------+---------------------------+------------------+-------------------------+----------------------------+-------------------------+----------------------+-----+-----------------+\n",
      "|postcode|user_id|order_datetime|merchant_abn|dollar_value|order_id|consumer_id|total_transaction_count|total_dollar_value|fraud_probability|SA2_name|average_population|Median_age_persons|Median_mortgage_repay_monthly|Median_tot_prsnl_inc_weekly|Median_rent_weekly|Median_tot_fam_inc_weekly|Average_num_psns_per_bedroom|Median_tot_hhd_inc_weekly|Average_household_size|state|unemployment_rate|\n",
      "+--------+-------+--------------+------------+------------+--------+-----------+-----------------------+------------------+-----------------+--------+------------------+------------------+-----------------------------+---------------------------+------------------+-------------------------+----------------------------+-------------------------+----------------------+-----+-----------------+\n",
      "|       0|      0|             0|           0|           0|       0|          0|                      0|                 0|         21463538|       0|                 0|                 0|                            0|                          0|                 0|                        0|                           0|                        0|                     0|    0|                0|\n",
      "+--------+-------+--------------+------------+------------+--------+-----------+-----------------------+------------------+-----------------+--------+------------------+------------------+-----------------------------+---------------------------+------------------+-------------------------+----------------------------+-------------------------+----------------------+-----+-----------------+\n",
      "\n"
     ]
    },
    {
     "name": "stderr",
     "output_type": "stream",
     "text": [
      "                                                                                \r"
     ]
    }
   ],
   "source": [
    "# create a dictionary with column names and their respective null counts\n",
    "null_count_dict = {col_name: sum(col(col_name).isNull().cast(\"int\")).alias(col_name) for col_name in consumer_full_cleaned.columns}\n",
    "\n",
    "# use agg() to calculate null counts for each column\n",
    "null_counts_df = consumer_full_cleaned.agg(*null_count_dict.values())\n",
    "null_counts_df.show()"
   ]
  },
  {
   "cell_type": "code",
   "execution_count": 41,
   "metadata": {},
   "outputs": [
    {
     "name": "stderr",
     "output_type": "stream",
     "text": [
      "                                                                                \r"
     ]
    }
   ],
   "source": [
    "# save as a parquet file\n",
    "consumer_full_cleaned.write.parquet('../data/curated/consumer_full', mode='overwrite')"
   ]
  },
  {
   "cell_type": "markdown",
   "metadata": {},
   "source": [
    "# Combine merchant details with their fraud probability"
   ]
  },
  {
   "cell_type": "code",
   "execution_count": 42,
   "metadata": {},
   "outputs": [
    {
     "name": "stdout",
     "output_type": "stream",
     "text": [
      "+------------+-------+------------------+--------------------+--------------+--------------------+--------------------+-------------+---------+\n",
      "|merchant_abn|user_id|      dollar_value|            order_id|order_datetime|                name|            category|revenue_level|take_rate|\n",
      "+------------+-------+------------------+--------------------+--------------+--------------------+--------------------+-------------+---------+\n",
      "| 79417999332|  14935|136.06570809815838|23acbb7b-cf98-458...|    2021-11-26|phasellus at company|gift, card, novel...|            b|     4.95|\n",
      "| 46451548968|      1| 72.61581642788431|76bab304-fa2d-400...|    2021-11-26|tempus eu ligula ...|health and beauty...|            a|     6.04|\n",
      "| 89518629617|  14936|3.0783487174439297|a2ae446a-2959-41c...|    2021-11-26|vulputate velit e...|tent  and awning ...|            c|     3.09|\n",
      "| 49167531725|      1| 51.58228625503599|7080c274-17f7-4cc...|    2021-11-26|     felis institute|digital goods: bo...|            a|     6.42|\n",
      "| 31101120643|  14936|25.228114942417797|8e301c0f-06ab-45c...|    2021-11-26|commodo hendrerit...|cable, satellite,...|            a|     6.37|\n",
      "+------------+-------+------------------+--------------------+--------------+--------------------+--------------------+-------------+---------+\n",
      "only showing top 5 rows\n",
      "\n"
     ]
    }
   ],
   "source": [
    "merchant_df= transaction.join(\n",
    "    merchant_detail,\n",
    "    on=['merchant_abn'],\n",
    "    how='inner'\n",
    ")\n",
    "merchant_df.show(5)"
   ]
  },
  {
   "cell_type": "code",
   "execution_count": 43,
   "metadata": {},
   "outputs": [
    {
     "data": {
      "text/plain": [
       "13614675"
      ]
     },
     "execution_count": 43,
     "metadata": {},
     "output_type": "execute_result"
    }
   ],
   "source": [
    "merchant_df.count()"
   ]
  },
  {
   "cell_type": "code",
   "execution_count": 44,
   "metadata": {},
   "outputs": [
    {
     "name": "stdout",
     "output_type": "stream",
     "text": [
      "+------------+--------------+-------+------------------+--------------------+--------------------+--------------------+-------------+---------+-----------------+\n",
      "|merchant_abn|order_datetime|user_id|      dollar_value|            order_id|                name|            category|revenue_level|take_rate|fraud_probability|\n",
      "+------------+--------------+-------+------------------+--------------------+--------------------+--------------------+-------------+---------+-----------------+\n",
      "| 79417999332|    2021-11-26|  14935|136.06570809815838|23acbb7b-cf98-458...|phasellus at company|gift, card, novel...|            b|     4.95|             NULL|\n",
      "| 46451548968|    2021-11-26|      1| 72.61581642788431|76bab304-fa2d-400...|tempus eu ligula ...|health and beauty...|            a|     6.04|             NULL|\n",
      "| 89518629617|    2021-11-26|  14936|3.0783487174439297|a2ae446a-2959-41c...|vulputate velit e...|tent  and awning ...|            c|     3.09|             NULL|\n",
      "| 49167531725|    2021-11-26|      1| 51.58228625503599|7080c274-17f7-4cc...|     felis institute|digital goods: bo...|            a|     6.42|             NULL|\n",
      "| 31101120643|    2021-11-26|  14936|25.228114942417797|8e301c0f-06ab-45c...|commodo hendrerit...|cable, satellite,...|            a|     6.37|             NULL|\n",
      "+------------+--------------+-------+------------------+--------------------+--------------------+--------------------+-------------+---------+-----------------+\n",
      "only showing top 5 rows\n",
      "\n"
     ]
    }
   ],
   "source": [
    "merchant_select = merchant.select(['merchant_abn', 'order_datetime', 'fraud_probability'])\n",
    "merchant_full= merchant_df.join(\n",
    "    merchant_select,\n",
    "    on=['merchant_abn', 'order_datetime'],\n",
    "    how='left'\n",
    ")\n",
    "merchant_full.show(5)"
   ]
  },
  {
   "cell_type": "code",
   "execution_count": 45,
   "metadata": {},
   "outputs": [
    {
     "name": "stderr",
     "output_type": "stream",
     "text": [
      "                                                                                \r"
     ]
    },
    {
     "data": {
      "text/plain": [
       "13614675"
      ]
     },
     "execution_count": 45,
     "metadata": {},
     "output_type": "execute_result"
    }
   ],
   "source": [
    "merchant_full.count()"
   ]
  },
  {
   "cell_type": "code",
   "execution_count": 49,
   "metadata": {},
   "outputs": [
    {
     "name": "stdout",
     "output_type": "stream",
     "text": [
      "+----------+----------+\n",
      "|  min_date|  max_date|\n",
      "+----------+----------+\n",
      "|2021-02-28|2022-10-26|\n",
      "+----------+----------+\n",
      "\n"
     ]
    }
   ],
   "source": [
    "# find the maximum and minimum values ​​of the order_datetime column\n",
    "merchant_full.select(min(\"order_datetime\").alias(\"min_date\"), max(\"order_datetime\").alias(\"max_date\")).show()"
   ]
  },
  {
   "cell_type": "markdown",
   "metadata": {},
   "source": [
    "Compute the number of missing values again, this is the number of missing values for merchant fraud probability:"
   ]
  },
  {
   "cell_type": "code",
   "execution_count": 46,
   "metadata": {},
   "outputs": [
    {
     "name": "stderr",
     "output_type": "stream",
     "text": [
      "[Stage 286:==================================================>     (9 + 1) / 10]\r"
     ]
    },
    {
     "name": "stdout",
     "output_type": "stream",
     "text": [
      "+------------+--------------+-------+------------+--------+----+--------+-------------+---------+-----------------+\n",
      "|merchant_abn|order_datetime|user_id|dollar_value|order_id|name|category|revenue_level|take_rate|fraud_probability|\n",
      "+------------+--------------+-------+------------+--------+----+--------+-------------+---------+-----------------+\n",
      "|           0|             0|      0|           0|       0|   0|       0|            0|        0|         13610672|\n",
      "+------------+--------------+-------+------------+--------+----+--------+-------------+---------+-----------------+\n",
      "\n"
     ]
    },
    {
     "name": "stderr",
     "output_type": "stream",
     "text": [
      "                                                                                \r"
     ]
    }
   ],
   "source": [
    "# create a dictionary with column names and their respective null counts\n",
    "null_count_dict = {col_name: sum(col(col_name).isNull().cast(\"int\")).alias(col_name) for col_name in merchant_full.columns}\n",
    "\n",
    "# use agg() to calculate null counts for each column\n",
    "null_counts_df = merchant_full.agg(*null_count_dict.values())\n",
    "null_counts_df.show()"
   ]
  },
  {
   "cell_type": "code",
   "execution_count": 47,
   "metadata": {},
   "outputs": [
    {
     "name": "stderr",
     "output_type": "stream",
     "text": [
      "                                                                                \r"
     ]
    }
   ],
   "source": [
    "# save as a parquet file\n",
    "merchant_full.write.parquet('../data/curated/merchant_full', mode='overwrite')"
   ]
  }
 ],
 "metadata": {
  "kernelspec": {
   "display_name": "Python 3",
   "language": "python",
   "name": "python3"
  },
  "language_info": {
   "codemirror_mode": {
    "name": "ipython",
    "version": 3
   },
   "file_extension": ".py",
   "mimetype": "text/x-python",
   "name": "python",
   "nbconvert_exporter": "python",
   "pygments_lexer": "ipython3",
   "version": "3.11.3"
  }
 },
 "nbformat": 4,
 "nbformat_minor": 2
}
