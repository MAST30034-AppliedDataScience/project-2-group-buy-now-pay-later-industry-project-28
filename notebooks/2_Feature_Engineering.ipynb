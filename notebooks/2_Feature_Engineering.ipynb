{
 "cells": [
  {
   "cell_type": "markdown",
   "metadata": {},
   "source": [
    "# Feature Engineering"
   ]
  },
  {
   "cell_type": "markdown",
   "metadata": {},
   "source": [
    "This notebook is used to merge and aggregate datasets."
   ]
  },
  {
   "cell_type": "markdown",
   "metadata": {},
   "source": [
    "---"
   ]
  },
  {
   "cell_type": "code",
   "execution_count": 75,
   "metadata": {},
   "outputs": [],
   "source": [
    "from pyspark.sql import SparkSession\n",
    "from pyspark.sql.functions import* \n",
    "from pyspark.sql.functions import col, count, when, isnull\n",
    "import pandas as pd\n",
    "import geopandas as gpd"
   ]
  },
  {
   "cell_type": "code",
   "execution_count": 76,
   "metadata": {},
   "outputs": [],
   "source": [
    "spark = (\n",
    "    SparkSession.builder.appName(\"Feature_Engineering\")\n",
    "    .config(\"spark.sql.repl.eagerEval.enabled\", True) \n",
    "    .config(\"spark.driver.memory\",\"4G\")\n",
    "    .config(\"spark.executor.memory\",\"4G\")\n",
    "    .config(\"spark.sql.parquet.cacheMetadata\", \"true\")\n",
    "    .config(\"spark.sql.session.timeZone\", \"Etc/UTC\")\n",
    "    .config(\"spark.sql.debug.maxToStringFields\", 200)\n",
    "    .getOrCreate()\n",
    ")"
   ]
  },
  {
   "cell_type": "markdown",
   "metadata": {},
   "source": [
    "# Read datasets"
   ]
  },
  {
   "cell_type": "code",
   "execution_count": 77,
   "metadata": {},
   "outputs": [],
   "source": [
    "consumer_detail  = spark.read.parquet('../data/curated/consumer_detail')\n",
    "transaction = spark.read.parquet('../data/curated/transaction')\n",
    "merchant = spark.read.parquet('../data/curated/merchant')\n",
    "merchant_detail= spark.read.parquet('../data/curated/merchant_detail')\n",
    "postcode_sa2_geo = gpd.read_file('../data/curated/postcode_sa2_geo.shp')\n",
    "merged_external = spark.read.parquet('../data/curated/merged_external')\n",
    "active_consumer_with_transaction  = spark.read.parquet('../data/curated/active_consumer_with_transaction')\n",
    "transaction = spark.read.parquet('../data/curated/transaction/')"
   ]
  },
  {
   "cell_type": "markdown",
   "metadata": {},
   "source": [
    "### Convert data types"
   ]
  },
  {
   "cell_type": "code",
   "execution_count": 78,
   "metadata": {},
   "outputs": [
    {
     "name": "stdout",
     "output_type": "stream",
     "text": [
      "consumer_detail:\n",
      "root\n",
      " |-- consumer_id: long (nullable = true)\n",
      " |-- user_id: long (nullable = true)\n",
      " |-- name: string (nullable = true)\n",
      " |-- state: string (nullable = true)\n",
      " |-- postcode: string (nullable = true)\n",
      " |-- gender: string (nullable = true)\n",
      "\n",
      "\n",
      "transaction:\n",
      "root\n",
      " |-- user_id: long (nullable = true)\n",
      " |-- merchant_abn: long (nullable = true)\n",
      " |-- dollar_value: double (nullable = true)\n",
      " |-- order_id: string (nullable = true)\n",
      " |-- order_datetime: date (nullable = true)\n",
      "\n",
      "\n",
      "merchant:\n",
      "root\n",
      " |-- merchant_abn: long (nullable = true)\n",
      " |-- order_datetime: date (nullable = true)\n",
      " |-- fraud_probability: double (nullable = true)\n",
      " |-- name: string (nullable = true)\n",
      " |-- revenue_level: string (nullable = true)\n",
      " |-- take_rate: float (nullable = true)\n",
      " |-- processed_category: string (nullable = true)\n",
      "\n",
      "\n",
      "postcode_sa2_geo:\n",
      "SA2_name        object\n",
      "SA2_MAINCO       int64\n",
      "postcode         int64\n",
      "state           object\n",
      "geometry      geometry\n",
      "dtype: object\n"
     ]
    }
   ],
   "source": [
    "print('consumer_detail:')\n",
    "consumer_detail.printSchema()\n",
    "\n",
    "print('\\ntransaction:')\n",
    "transaction.printSchema()\n",
    "\n",
    "print('\\nmerchant:')\n",
    "merchant.printSchema()\n",
    "\n",
    "print('\\npostcode_sa2_geo:')\n",
    "print(postcode_sa2_geo.dtypes)"
   ]
  },
  {
   "cell_type": "code",
   "execution_count": 79,
   "metadata": {},
   "outputs": [
    {
     "name": "stdout",
     "output_type": "stream",
     "text": [
      "root\n",
      " |-- consumer_id: long (nullable = true)\n",
      " |-- user_id: long (nullable = true)\n",
      " |-- name: string (nullable = true)\n",
      " |-- state: string (nullable = true)\n",
      " |-- postcode: integer (nullable = true)\n",
      " |-- gender: string (nullable = true)\n",
      "\n"
     ]
    }
   ],
   "source": [
    "# convert the data type of postcode column in consumer_transaction dataset \n",
    "consumer_detail = consumer_detail.withColumn('postcode', col('postcode').cast('int'))\n",
    "consumer_detail.printSchema()"
   ]
  },
  {
   "cell_type": "markdown",
   "metadata": {},
   "source": [
    "### Display dataset"
   ]
  },
  {
   "cell_type": "code",
   "execution_count": 80,
   "metadata": {},
   "outputs": [
    {
     "name": "stdout",
     "output_type": "stream",
     "text": [
      "+-----------+-------+-----------------+-----+--------+------+\n",
      "|consumer_id|user_id|             name|state|postcode|gender|\n",
      "+-----------+-------+-----------------+-----+--------+------+\n",
      "|     870353| 213579|    Charles Davis|   SA|    5261|  Male|\n",
      "|     923963| 213580|Jacqueline Nelson|  QLD|    4744|Female|\n",
      "|      93016| 213581|    Carolyn Smith|  QLD|    4454|Female|\n",
      "|      61324| 213582|      Denise Rush|   WA|    6705|Female|\n",
      "|     823311| 213583|  Nathan Williams|  NSW|    2145|  Male|\n",
      "+-----------+-------+-----------------+-----+--------+------+\n",
      "only showing top 5 rows\n",
      "\n"
     ]
    }
   ],
   "source": [
    "consumer_detail.show(5)"
   ]
  },
  {
   "cell_type": "code",
   "execution_count": 81,
   "metadata": {},
   "outputs": [
    {
     "data": {
      "text/plain": [
       "499999"
      ]
     },
     "execution_count": 81,
     "metadata": {},
     "output_type": "execute_result"
    }
   ],
   "source": [
    "consumer_detail.count()"
   ]
  },
  {
   "cell_type": "code",
   "execution_count": 82,
   "metadata": {},
   "outputs": [
    {
     "name": "stdout",
     "output_type": "stream",
     "text": [
      "+--------------------+------------+-------------+---------+--------------------+\n",
      "|                name|merchant_abn|revenue_level|take_rate|  processed_category|\n",
      "+--------------------+------------+-------------+---------+--------------------+\n",
      "|fusce aliquet lim...| 17189523131|            c|     1.59|writing paper sup...|\n",
      "|    cum sociis corp.| 22528859307|            a|      6.4|shop jewelry repa...|\n",
      "|morbi vehicula li...| 32413511882|            b|     3.35|vehicle new part ...|\n",
      "|vel nisl incorpor...| 32897338221|            a|      6.2|souvenir card sho...|\n",
      "|    egestas sed inc.| 34082818630|            a|     6.86|digital book musi...|\n",
      "+--------------------+------------+-------------+---------+--------------------+\n",
      "only showing top 5 rows\n",
      "\n"
     ]
    }
   ],
   "source": [
    "merchant_detail.show(5)"
   ]
  },
  {
   "cell_type": "code",
   "execution_count": 83,
   "metadata": {},
   "outputs": [
    {
     "data": {
      "text/plain": [
       "4026"
      ]
     },
     "execution_count": 83,
     "metadata": {},
     "output_type": "execute_result"
    }
   ],
   "source": [
    "merchant_detail.count()"
   ]
  },
  {
   "cell_type": "code",
   "execution_count": 84,
   "metadata": {},
   "outputs": [
    {
     "name": "stdout",
     "output_type": "stream",
     "text": [
      "+------------+--------------+-----------------+--------------------+-------------+---------+--------------------+\n",
      "|merchant_abn|order_datetime|fraud_probability|                name|revenue_level|take_rate|  processed_category|\n",
      "+------------+--------------+-----------------+--------------------+-------------+---------+--------------------+\n",
      "| 17189523131|          NULL|             NULL|fusce aliquet lim...|            c|     1.59|writing paper sup...|\n",
      "| 22528859307|          NULL|             NULL|    cum sociis corp.|            a|      6.4|shop jewelry repa...|\n",
      "| 32413511882|          NULL|             NULL|morbi vehicula li...|            b|     3.35|vehicle new part ...|\n",
      "| 32897338221|          NULL|             NULL|vel nisl incorpor...|            a|      6.2|souvenir card sho...|\n",
      "| 34082818630|          NULL|             NULL|    egestas sed inc.|            a|     6.86|digital book musi...|\n",
      "+------------+--------------+-----------------+--------------------+-------------+---------+--------------------+\n",
      "only showing top 5 rows\n",
      "\n"
     ]
    }
   ],
   "source": [
    "merchant.show(5)"
   ]
  },
  {
   "cell_type": "code",
   "execution_count": 85,
   "metadata": {},
   "outputs": [
    {
     "data": {
      "text/plain": [
       "4073"
      ]
     },
     "execution_count": 85,
     "metadata": {},
     "output_type": "execute_result"
    }
   ],
   "source": [
    "merchant.count()"
   ]
  },
  {
   "cell_type": "code",
   "execution_count": 86,
   "metadata": {},
   "outputs": [
    {
     "name": "stdout",
     "output_type": "stream",
     "text": [
      "+-------+------------+------------------+--------------------+--------------+\n",
      "|user_id|merchant_abn|      dollar_value|            order_id|order_datetime|\n",
      "+-------+------------+------------------+--------------------+--------------+\n",
      "|  14935| 79417999332|136.06570809815838|23acbb7b-cf98-458...|    2021-11-26|\n",
      "|      1| 46451548968| 72.61581642788431|76bab304-fa2d-400...|    2021-11-26|\n",
      "|  14936| 89518629617|3.0783487174439297|a2ae446a-2959-41c...|    2021-11-26|\n",
      "|      1| 49167531725| 51.58228625503599|7080c274-17f7-4cc...|    2021-11-26|\n",
      "|  14936| 31101120643|25.228114942417797|8e301c0f-06ab-45c...|    2021-11-26|\n",
      "+-------+------------+------------------+--------------------+--------------+\n",
      "only showing top 5 rows\n",
      "\n"
     ]
    }
   ],
   "source": [
    "transaction.show(5)"
   ]
  },
  {
   "cell_type": "code",
   "execution_count": 87,
   "metadata": {},
   "outputs": [
    {
     "data": {
      "text/plain": [
       "13614675"
      ]
     },
     "execution_count": 87,
     "metadata": {},
     "output_type": "execute_result"
    }
   ],
   "source": [
    "transaction.count()"
   ]
  },
  {
   "cell_type": "markdown",
   "metadata": {},
   "source": [
    "# Compute total transaction count and value for each merchant"
   ]
  },
  {
   "cell_type": "code",
   "execution_count": 88,
   "metadata": {},
   "outputs": [
    {
     "name": "stderr",
     "output_type": "stream",
     "text": [
      "[Stage 321:===========>                                            (2 + 8) / 10]\r"
     ]
    },
    {
     "name": "stdout",
     "output_type": "stream",
     "text": [
      "+------------+-----------------+------------------+\n",
      "|merchant_abn|transaction_count|total_dollar_value|\n",
      "+------------+-----------------+------------------+\n",
      "| 83412691377|            14288| 498536.5816973135|\n",
      "| 38700038932|             7132| 9546185.360697312|\n",
      "| 35344855546|             1522|134737.25046268434|\n",
      "| 15613631617|             1785| 543030.5313328261|\n",
      "| 19839532017|              726|          113982.0|\n",
      "+------------+-----------------+------------------+\n",
      "only showing top 5 rows\n",
      "\n"
     ]
    },
    {
     "name": "stderr",
     "output_type": "stream",
     "text": [
      "                                                                                \r"
     ]
    }
   ],
   "source": [
    "# group by merchant_abn and aggregate the count of orders and total dollar_value\n",
    "merchant_total_count_dollar = transaction.groupBy(\"merchant_abn\").agg(\n",
    "    count(\"order_id\").alias(\"transaction_count\"),  # assuming tip count is equivalent to the number of orders\n",
    "    sum(\"dollar_value\").alias(\"total_dollar_value\")\n",
    ")\n",
    "\n",
    "merchant_total_count_dollar.show(5)"
   ]
  },
  {
   "cell_type": "code",
   "execution_count": 89,
   "metadata": {},
   "outputs": [
    {
     "name": "stderr",
     "output_type": "stream",
     "text": [
      "                                                                                \r"
     ]
    }
   ],
   "source": [
    "# save the parquet file\n",
    "merchant_total_count_dollar.write.parquet('../data/curated/merchant_total_count_dollar', mode='overwrite')"
   ]
  },
  {
   "cell_type": "markdown",
   "metadata": {},
   "source": [
    "# Merge consumer and transaction by `user_id`"
   ]
  },
  {
   "cell_type": "code",
   "execution_count": 90,
   "metadata": {},
   "outputs": [
    {
     "name": "stdout",
     "output_type": "stream",
     "text": [
      "+-------+-----------+----------------+-----+--------+------+------------+------------------+--------------------+--------------+\n",
      "|user_id|consumer_id|            name|state|postcode|gender|merchant_abn|      dollar_value|            order_id|order_datetime|\n",
      "+-------+-----------+----------------+-----+--------+------+------------+------------------+--------------------+--------------+\n",
      "|  14935|    1059280|   Cameron Adams|  QLD|    4563|  Male| 79417999332|136.06570809815838|23acbb7b-cf98-458...|    2021-11-26|\n",
      "|      1|    1195503|Yolanda Williams|   WA|    6935|Female| 46451548968| 72.61581642788431|76bab304-fa2d-400...|    2021-11-26|\n",
      "|  14936|     986886|     Maria Riley|   SA|    5157|Female| 89518629617|3.0783487174439297|a2ae446a-2959-41c...|    2021-11-26|\n",
      "|      1|    1195503|Yolanda Williams|   WA|    6935|Female| 49167531725| 51.58228625503599|7080c274-17f7-4cc...|    2021-11-26|\n",
      "|  14936|     986886|     Maria Riley|   SA|    5157|Female| 31101120643|25.228114942417797|8e301c0f-06ab-45c...|    2021-11-26|\n",
      "+-------+-----------+----------------+-----+--------+------+------------+------------------+--------------------+--------------+\n",
      "only showing top 5 rows\n",
      "\n"
     ]
    }
   ],
   "source": [
    "consumer_transaction = consumer_detail.join(\n",
    "    transaction,\n",
    "    on=['user_id'],\n",
    "    how='inner'\n",
    ")\n",
    "\n",
    "consumer_transaction = consumer_detail.join(\n",
    "    transaction,\n",
    "    on=['user_id'],\n",
    "    how='inner'\n",
    ")\n",
    "\n",
    "consumer_transaction.show(5)"
   ]
  },
  {
   "cell_type": "code",
   "execution_count": 91,
   "metadata": {},
   "outputs": [
    {
     "data": {
      "text/plain": [
       "13614675"
      ]
     },
     "execution_count": 91,
     "metadata": {},
     "output_type": "execute_result"
    }
   ],
   "source": [
    "consumer_transaction.count()"
   ]
  },
  {
   "cell_type": "code",
   "execution_count": 92,
   "metadata": {},
   "outputs": [
    {
     "name": "stderr",
     "output_type": "stream",
     "text": [
      "                                                                                \r"
     ]
    }
   ],
   "source": [
    "# save the parquet file\n",
    "consumer_transaction.write.parquet('../data/curated/consumer_transaction', mode='overwrite')"
   ]
  },
  {
   "cell_type": "markdown",
   "metadata": {},
   "source": [
    "# Compute total transaction count and value for each consumer"
   ]
  },
  {
   "cell_type": "code",
   "execution_count": 93,
   "metadata": {},
   "outputs": [
    {
     "name": "stdout",
     "output_type": "stream",
     "text": [
      "root\n",
      " |-- user_id: long (nullable = true)\n",
      " |-- consumer_id: long (nullable = true)\n",
      " |-- name: string (nullable = true)\n",
      " |-- state: string (nullable = true)\n",
      " |-- postcode: integer (nullable = true)\n",
      " |-- gender: string (nullable = true)\n",
      " |-- merchant_abn: long (nullable = true)\n",
      " |-- dollar_value: double (nullable = true)\n",
      " |-- order_id: string (nullable = true)\n",
      " |-- order_datetime: date (nullable = true)\n",
      "\n"
     ]
    }
   ],
   "source": [
    "consumer_transaction.printSchema()"
   ]
  },
  {
   "cell_type": "code",
   "execution_count": 94,
   "metadata": {},
   "outputs": [
    {
     "name": "stderr",
     "output_type": "stream",
     "text": [
      "[Stage 337:==============> (9 + 1) / 10][Stage 338:===>            (2 + 7) / 10]\r"
     ]
    },
    {
     "name": "stdout",
     "output_type": "stream",
     "text": [
      "+-----------+-----------------------+------------------+-------+--------+\n",
      "|consumer_id|total_transaction_count|total_dollar_value|user_id|postcode|\n",
      "+-----------+-----------------------+------------------+-------+--------+\n",
      "|    1144223|                    543| 77840.35704704828|  14971|    4184|\n",
      "|     283969|                    581|100112.93516413833|  15024|    2228|\n",
      "|    1050479|                    564|100977.04005104418|  15031|    5502|\n",
      "|    1174371|                    562| 87222.61085702278|     95|    2352|\n",
      "|     921339|                    591|134278.40943370626|    152|    2161|\n",
      "+-----------+-----------------------+------------------+-------+--------+\n",
      "only showing top 5 rows\n",
      "\n"
     ]
    },
    {
     "name": "stderr",
     "output_type": "stream",
     "text": [
      "                                                                                \r"
     ]
    }
   ],
   "source": [
    "# calculate the total number of transactions and total transaction amount for each consumer\n",
    "consumer_total_count_dollar = (consumer_transaction\n",
    "                               .groupBy(\"consumer_id\")\n",
    "                               .agg(\n",
    "                                   count(\"order_id\").alias(\"total_transaction_count\"),\n",
    "                                   sum(\"dollar_value\").alias(\"total_dollar_value\")\n",
    "                                   ))\n",
    "\n",
    "extra_columns_df = (consumer_transaction\n",
    "                    .select(\"consumer_id\", \"user_id\", \"postcode\")\n",
    "                    .distinct())\n",
    "\n",
    "consumer_total_count_dollar = (consumer_total_count_dollar\n",
    "                               .join(extra_columns_df, on=\"consumer_id\", how=\"left\"))\n",
    "\n",
    "consumer_total_count_dollar.show(5)\n"
   ]
  },
  {
   "cell_type": "code",
   "execution_count": 95,
   "metadata": {},
   "outputs": [
    {
     "name": "stderr",
     "output_type": "stream",
     "text": [
      "                                                                                \r"
     ]
    }
   ],
   "source": [
    "# save as a parquet file\n",
    "consumer_total_count_dollar.write.parquet('../data/curated/consumer_total_count_dollar', mode='overwrite')"
   ]
  },
  {
   "cell_type": "markdown",
   "metadata": {},
   "source": [
    "# Add geometry information to previous table"
   ]
  },
  {
   "cell_type": "code",
   "execution_count": 96,
   "metadata": {},
   "outputs": [
    {
     "name": "stderr",
     "output_type": "stream",
     "text": [
      "                                                                                \r"
     ]
    },
    {
     "data": {
      "text/html": [
       "<div>\n",
       "<style scoped>\n",
       "    .dataframe tbody tr th:only-of-type {\n",
       "        vertical-align: middle;\n",
       "    }\n",
       "\n",
       "    .dataframe tbody tr th {\n",
       "        vertical-align: top;\n",
       "    }\n",
       "\n",
       "    .dataframe thead th {\n",
       "        text-align: right;\n",
       "    }\n",
       "</style>\n",
       "<table border=\"1\" class=\"dataframe\">\n",
       "  <thead>\n",
       "    <tr style=\"text-align: right;\">\n",
       "      <th></th>\n",
       "      <th>consumer_id</th>\n",
       "      <th>total_transaction_count</th>\n",
       "      <th>total_dollar_value</th>\n",
       "      <th>user_id</th>\n",
       "      <th>postcode</th>\n",
       "      <th>SA2_name</th>\n",
       "      <th>state</th>\n",
       "      <th>geometry</th>\n",
       "    </tr>\n",
       "  </thead>\n",
       "  <tbody>\n",
       "    <tr>\n",
       "      <th>0</th>\n",
       "      <td>1144223</td>\n",
       "      <td>543</td>\n",
       "      <td>77840.357047</td>\n",
       "      <td>14971</td>\n",
       "      <td>4184</td>\n",
       "      <td>North Stradbroke Island</td>\n",
       "      <td>QLD</td>\n",
       "      <td>MULTIPOLYGON (((153.3841 -27.51581, 153.38428 ...</td>\n",
       "    </tr>\n",
       "    <tr>\n",
       "      <th>1</th>\n",
       "      <td>1144223</td>\n",
       "      <td>543</td>\n",
       "      <td>77840.357047</td>\n",
       "      <td>14971</td>\n",
       "      <td>4184</td>\n",
       "      <td>Southern Moreton Bay Islands</td>\n",
       "      <td>QLD</td>\n",
       "      <td>MULTIPOLYGON (((153.31943 -27.68148, 153.31947...</td>\n",
       "    </tr>\n",
       "    <tr>\n",
       "      <th>2</th>\n",
       "      <td>242288</td>\n",
       "      <td>558</td>\n",
       "      <td>87245.973644</td>\n",
       "      <td>20696</td>\n",
       "      <td>4184</td>\n",
       "      <td>North Stradbroke Island</td>\n",
       "      <td>QLD</td>\n",
       "      <td>MULTIPOLYGON (((153.3841 -27.51581, 153.38428 ...</td>\n",
       "    </tr>\n",
       "    <tr>\n",
       "      <th>3</th>\n",
       "      <td>242288</td>\n",
       "      <td>558</td>\n",
       "      <td>87245.973644</td>\n",
       "      <td>20696</td>\n",
       "      <td>4184</td>\n",
       "      <td>Southern Moreton Bay Islands</td>\n",
       "      <td>QLD</td>\n",
       "      <td>MULTIPOLYGON (((153.31943 -27.68148, 153.31947...</td>\n",
       "    </tr>\n",
       "    <tr>\n",
       "      <th>4</th>\n",
       "      <td>453040</td>\n",
       "      <td>586</td>\n",
       "      <td>83765.845889</td>\n",
       "      <td>3783</td>\n",
       "      <td>4184</td>\n",
       "      <td>North Stradbroke Island</td>\n",
       "      <td>QLD</td>\n",
       "      <td>MULTIPOLYGON (((153.3841 -27.51581, 153.38428 ...</td>\n",
       "    </tr>\n",
       "  </tbody>\n",
       "</table>\n",
       "</div>"
      ],
      "text/plain": [
       "   consumer_id  total_transaction_count  total_dollar_value  user_id  \\\n",
       "0      1144223                      543        77840.357047    14971   \n",
       "1      1144223                      543        77840.357047    14971   \n",
       "2       242288                      558        87245.973644    20696   \n",
       "3       242288                      558        87245.973644    20696   \n",
       "4       453040                      586        83765.845889     3783   \n",
       "\n",
       "   postcode                      SA2_name state  \\\n",
       "0      4184       North Stradbroke Island   QLD   \n",
       "1      4184  Southern Moreton Bay Islands   QLD   \n",
       "2      4184       North Stradbroke Island   QLD   \n",
       "3      4184  Southern Moreton Bay Islands   QLD   \n",
       "4      4184       North Stradbroke Island   QLD   \n",
       "\n",
       "                                            geometry  \n",
       "0  MULTIPOLYGON (((153.3841 -27.51581, 153.38428 ...  \n",
       "1  MULTIPOLYGON (((153.31943 -27.68148, 153.31947...  \n",
       "2  MULTIPOLYGON (((153.3841 -27.51581, 153.38428 ...  \n",
       "3  MULTIPOLYGON (((153.31943 -27.68148, 153.31947...  \n",
       "4  MULTIPOLYGON (((153.3841 -27.51581, 153.38428 ...  "
      ]
     },
     "execution_count": 96,
     "metadata": {},
     "output_type": "execute_result"
    }
   ],
   "source": [
    "consumer_total_count_dollar_df = consumer_total_count_dollar.toPandas()\n",
    "consumer_total_count_dollar_geo = consumer_total_count_dollar_df.merge(\n",
    "    postcode_sa2_geo,\n",
    "    on='postcode', how='inner')\n",
    "consumer_total_count_dollar_geo = consumer_total_count_dollar_geo.drop('SA2_MAINCO', axis=1)\n",
    "consumer_total_count_dollar_geo.head()"
   ]
  },
  {
   "cell_type": "code",
   "execution_count": 97,
   "metadata": {},
   "outputs": [
    {
     "data": {
      "text/plain": [
       "(37159, 8)"
      ]
     },
     "execution_count": 97,
     "metadata": {},
     "output_type": "execute_result"
    }
   ],
   "source": [
    "consumer_total_count_dollar_geo.shape"
   ]
  },
  {
   "cell_type": "code",
   "execution_count": 98,
   "metadata": {},
   "outputs": [
    {
     "data": {
      "text/html": [
       "<div>\n",
       "<style scoped>\n",
       "    .dataframe tbody tr th:only-of-type {\n",
       "        vertical-align: middle;\n",
       "    }\n",
       "\n",
       "    .dataframe tbody tr th {\n",
       "        vertical-align: top;\n",
       "    }\n",
       "\n",
       "    .dataframe thead th {\n",
       "        text-align: right;\n",
       "    }\n",
       "</style>\n",
       "<table border=\"1\" class=\"dataframe\">\n",
       "  <thead>\n",
       "    <tr style=\"text-align: right;\">\n",
       "      <th></th>\n",
       "      <th>SA2_name</th>\n",
       "      <th>total_transaction_count</th>\n",
       "      <th>total_dollar_value</th>\n",
       "      <th>postcode</th>\n",
       "      <th>state</th>\n",
       "      <th>geometry</th>\n",
       "    </tr>\n",
       "  </thead>\n",
       "  <tbody>\n",
       "    <tr>\n",
       "      <th>0</th>\n",
       "      <td>ACT - South West</td>\n",
       "      <td>13006</td>\n",
       "      <td>2.002136e+06</td>\n",
       "      <td>2902</td>\n",
       "      <td>ACT</td>\n",
       "      <td>POLYGON ((148.88381 -35.26411, 148.94988 -35.2...</td>\n",
       "    </tr>\n",
       "    <tr>\n",
       "      <th>1</th>\n",
       "      <td>APY Lands</td>\n",
       "      <td>9080</td>\n",
       "      <td>1.400538e+06</td>\n",
       "      <td>872</td>\n",
       "      <td>NT</td>\n",
       "      <td>POLYGON ((129.00186 -26.72252, 129.00186 -26.7...</td>\n",
       "    </tr>\n",
       "    <tr>\n",
       "      <th>2</th>\n",
       "      <td>Abbotsford</td>\n",
       "      <td>3369</td>\n",
       "      <td>5.278622e+05</td>\n",
       "      <td>3067</td>\n",
       "      <td>VIC</td>\n",
       "      <td>POLYGON ((144.99255 -37.80249, 144.99266 -37.8...</td>\n",
       "    </tr>\n",
       "    <tr>\n",
       "      <th>3</th>\n",
       "      <td>Aberfoyle Park</td>\n",
       "      <td>3959</td>\n",
       "      <td>6.247266e+05</td>\n",
       "      <td>5159</td>\n",
       "      <td>SA</td>\n",
       "      <td>POLYGON ((138.58963 -35.06584, 138.58993 -35.0...</td>\n",
       "    </tr>\n",
       "    <tr>\n",
       "      <th>4</th>\n",
       "      <td>Acacia Gardens</td>\n",
       "      <td>4526</td>\n",
       "      <td>7.369201e+05</td>\n",
       "      <td>2763</td>\n",
       "      <td>NSW</td>\n",
       "      <td>POLYGON ((150.91593 -33.72971, 150.91661 -33.7...</td>\n",
       "    </tr>\n",
       "  </tbody>\n",
       "</table>\n",
       "</div>"
      ],
      "text/plain": [
       "           SA2_name  total_transaction_count  total_dollar_value  postcode  \\\n",
       "0  ACT - South West                    13006        2.002136e+06      2902   \n",
       "1         APY Lands                     9080        1.400538e+06       872   \n",
       "2        Abbotsford                     3369        5.278622e+05      3067   \n",
       "3    Aberfoyle Park                     3959        6.247266e+05      5159   \n",
       "4    Acacia Gardens                     4526        7.369201e+05      2763   \n",
       "\n",
       "  state                                           geometry  \n",
       "0   ACT  POLYGON ((148.88381 -35.26411, 148.94988 -35.2...  \n",
       "1    NT  POLYGON ((129.00186 -26.72252, 129.00186 -26.7...  \n",
       "2   VIC  POLYGON ((144.99255 -37.80249, 144.99266 -37.8...  \n",
       "3    SA  POLYGON ((138.58963 -35.06584, 138.58993 -35.0...  \n",
       "4   NSW  POLYGON ((150.91593 -33.72971, 150.91661 -33.7...  "
      ]
     },
     "execution_count": 98,
     "metadata": {},
     "output_type": "execute_result"
    }
   ],
   "source": [
    "consumer_total_count_dollar_bySA2_geo = consumer_total_count_dollar_geo.groupby('SA2_name', as_index=False).agg({\n",
    "    'total_transaction_count': 'sum',\n",
    "    'total_dollar_value': 'sum',\n",
    "    'postcode': 'first',                # keep the first postcode of each SA2_name\n",
    "    'state': 'first',\n",
    "    'geometry': 'first'     \n",
    "})\n",
    "consumer_total_count_dollar_bySA2_geo.head()"
   ]
  },
  {
   "cell_type": "code",
   "execution_count": 99,
   "metadata": {},
   "outputs": [
    {
     "data": {
      "text/plain": [
       "(2311, 6)"
      ]
     },
     "execution_count": 99,
     "metadata": {},
     "output_type": "execute_result"
    }
   ],
   "source": [
    "consumer_total_count_dollar_bySA2_geo.shape"
   ]
  },
  {
   "cell_type": "code",
   "execution_count": 100,
   "metadata": {},
   "outputs": [],
   "source": [
    "# save the DataFrame as a CSV file\n",
    "consumer_total_count_dollar_bySA2_geo.to_csv('../data/curated/consumer_total_count_dollar_bySA2_geo.csv', index=False)"
   ]
  },
  {
   "cell_type": "code",
   "execution_count": 101,
   "metadata": {},
   "outputs": [],
   "source": [
    "# drop the geometry column\n",
    "consumer_total_count_dollar_bySA2_df = consumer_total_count_dollar_bySA2_geo.drop(columns=['geometry'])\n",
    "\n",
    "# convert the DataFrame as a Parquet file\n",
    "consumer_total_count_dollar_bySA2 = spark.createDataFrame(consumer_total_count_dollar_bySA2_df)\n",
    "\n",
    "# save the DataFrame as a Parquet file\n",
    "consumer_total_count_dollar_bySA2.write.parquet('../data/curated/consumer_total_count_dollar_bySA2', mode='overwrite')"
   ]
  },
  {
   "cell_type": "markdown",
   "metadata": {},
   "source": [
    "# Aggregated the external dataset by postcode"
   ]
  },
  {
   "cell_type": "code",
   "execution_count": 102,
   "metadata": {},
   "outputs": [
    {
     "name": "stdout",
     "output_type": "stream",
     "text": [
      "+--------------------+------------------+------------------+-----------------------------+---------------------------+------------------+-------------------------+----------------------------+-------------------------+----------------------+--------+-----+-----------------+\n",
      "|            SA2_name|average_population|Median_age_persons|Median_mortgage_repay_monthly|Median_tot_prsnl_inc_weekly|Median_rent_weekly|Median_tot_fam_inc_weekly|Average_num_psns_per_bedroom|Median_tot_hhd_inc_weekly|Average_household_size|postcode|state|unemployment_rate|\n",
      "+--------------------+------------------+------------------+-----------------------------+---------------------------+------------------+-------------------------+----------------------------+-------------------------+----------------------+--------+-----+-----------------+\n",
      "|Lambton - New Lam...|           17374.0|                40|                         2119|                        907|               390|                     2484|                         0.8|                     1863|                   2.4|    2299|  NSW|              3.5|\n",
      "|Lambton - New Lam...|           17374.0|                40|                         2119|                        907|               390|                     2484|                         0.8|                     1863|                   2.4|    2305|  NSW|              3.5|\n",
      "|Maryland - Fletch...|           16735.5|                34|                         2000|                        876|               470|                     2332|                         0.8|                     2170|                   3.0|    2287|  NSW|              4.4|\n",
      "|Mayfield - Warabrook|           15636.0|                37|                         1883|                        811|               380|                     2112|                         0.8|                     1604|                   2.2|    2304|  NSW|              5.2|\n",
      "|Merewether - The ...|           14564.5|                40|                         2500|                       1091|               420|                     3006|                         0.8|                     2277|                   2.5|    2291|  NSW|              3.3|\n",
      "+--------------------+------------------+------------------+-----------------------------+---------------------------+------------------+-------------------------+----------------------------+-------------------------+----------------------+--------+-----+-----------------+\n",
      "only showing top 5 rows\n",
      "\n"
     ]
    }
   ],
   "source": [
    "merged_external.show(5)"
   ]
  },
  {
   "cell_type": "code",
   "execution_count": 103,
   "metadata": {},
   "outputs": [
    {
     "name": "stdout",
     "output_type": "stream",
     "text": [
      "+--------+--------------+------------------+------------------+--------------------------+------------------------+------------------+----------------------+------------------------+----------------------+------------------+-----+---------------------+\n",
      "|postcode|      SA2_name|average_population|   avg_age_persons|avg_mortgage_repay_monthly|avg_tot_prsnl_inc_weekly|   avg_rent_weekly|avg_tot_fam_inc_weekly|avg_num_psns_per_bedroom|avg_tot_hhd_inc_weekly|avg_household_size|state|avg_unemployment_rate|\n",
      "+--------+--------------+------------------+------------------+--------------------------+------------------------+------------------+----------------------+------------------------+----------------------+------------------+-----+---------------------+\n",
      "|     800|   Darwin City|           15079.0|              33.0|                    1781.0|                  1236.0|             450.0|                2403.0|                     1.0|                2151.0|               2.0|   NT|   3.3499999999999996|\n",
      "|     810|         Alawa|           35996.5|35.416666666666664|                    1957.5|                  1025.0|             349.0|    2386.8333333333335|      0.9166666666666669|    2166.0833333333335| 2.741666666666666|   NT|    4.391666666666667|\n",
      "|     812|         Anula|           19789.5|              36.6|                    1990.0|                   992.6|             373.6|                2321.6|      0.9199999999999999|                2076.0|               2.8|   NT|                  5.2|\n",
      "|     820|    East Point|           22782.5|35.666666666666664|        1669.6666666666667|      1045.3333333333333|302.22222222222223|    2085.6666666666665|      0.8111111111111112|    1843.5555555555557| 2.011111111111111|   NT|                  3.0|\n",
      "|     822|Charles Darwin|           58849.0|              34.6|                     990.0|       540.5333333333333|             172.2|    1174.3333333333333|      1.2933333333333334|    1378.9333333333334| 3.286666666666667|   NT|   12.333333333333336|\n",
      "+--------+--------------+------------------+------------------+--------------------------+------------------------+------------------+----------------------+------------------------+----------------------+------------------+-----+---------------------+\n",
      "only showing top 5 rows\n",
      "\n"
     ]
    }
   ],
   "source": [
    "# Aggregate by the `postcode` column, taking sum for numerical columns and first for categorical columns\n",
    "merged_external_by_postcode = merged_external.groupBy(\"postcode\").agg(\n",
    "    first(\"SA2_name\").alias(\"SA2_name\"),\n",
    "    sum(\"average_population\").alias(\"average_population\"),\n",
    "    avg(\"Median_age_persons\").alias(\"avg_age_persons\"),\n",
    "    avg(\"Median_mortgage_repay_monthly\").alias(\"avg_mortgage_repay_monthly\"),\n",
    "    avg(\"Median_tot_prsnl_inc_weekly\").alias(\"avg_tot_prsnl_inc_weekly\"),\n",
    "    avg(\"Median_rent_weekly\").alias(\"avg_rent_weekly\"),\n",
    "    avg(\"Median_tot_fam_inc_weekly\").alias(\"avg_tot_fam_inc_weekly\"),\n",
    "    avg(\"Average_num_psns_per_bedroom\").alias(\"avg_num_psns_per_bedroom\"),\n",
    "    avg(\"Median_tot_hhd_inc_weekly\").alias(\"avg_tot_hhd_inc_weekly\"),\n",
    "    avg(\"Average_household_size\").alias(\"avg_household_size\"),\n",
    "    first(\"state\").alias(\"state\"),\n",
    "    avg(\"unemployment_rate\").alias(\"avg_unemployment_rate\")\n",
    ")\n",
    "\n",
    "merged_external_by_postcode.show(5)"
   ]
  },
  {
   "cell_type": "code",
   "execution_count": 104,
   "metadata": {},
   "outputs": [
    {
     "data": {
      "text/plain": [
       "2643"
      ]
     },
     "execution_count": 104,
     "metadata": {},
     "output_type": "execute_result"
    }
   ],
   "source": [
    "merged_external_by_postcode.count()"
   ]
  },
  {
   "cell_type": "code",
   "execution_count": 105,
   "metadata": {},
   "outputs": [],
   "source": [
    "# save as a parquet file\n",
    "merged_external_by_postcode.write.parquet('../data/curated/merged_external_by_postcode', mode='overwrite')"
   ]
  },
  {
   "cell_type": "markdown",
   "metadata": {},
   "source": [
    "# Combine consumer details with all external datasets"
   ]
  },
  {
   "cell_type": "code",
   "execution_count": 106,
   "metadata": {},
   "outputs": [
    {
     "data": {
      "text/plain": [
       "13614675"
      ]
     },
     "execution_count": 106,
     "metadata": {},
     "output_type": "execute_result"
    }
   ],
   "source": [
    "consumer_transaction.count()"
   ]
  },
  {
   "cell_type": "code",
   "execution_count": 107,
   "metadata": {},
   "outputs": [
    {
     "name": "stdout",
     "output_type": "stream",
     "text": [
      "+-------+--------------+------------------+\n",
      "|user_id|order_datetime| fraud_probability|\n",
      "+-------+--------------+------------------+\n",
      "|      2|    2021-08-30| 9.599513915425788|\n",
      "|      4|    2021-10-09| 9.633302411090419|\n",
      "|      5|    2021-10-04|10.868364868449886|\n",
      "|      5|    2022-02-08|  9.02022421158597|\n",
      "|      8|          NULL|              NULL|\n",
      "+-------+--------------+------------------+\n",
      "only showing top 5 rows\n",
      "\n"
     ]
    }
   ],
   "source": [
    "# extract the fraud probability for the consumers who have transaction records\n",
    "consumer_fraud = active_consumer_with_transaction.select(['user_id', 'order_datetime', \n",
    "                                                          'fraud_probability'])\n",
    "consumer_fraud.show(5)"
   ]
  },
  {
   "cell_type": "code",
   "execution_count": 108,
   "metadata": {},
   "outputs": [
    {
     "data": {
      "text/plain": [
       "24081"
      ]
     },
     "execution_count": 108,
     "metadata": {},
     "output_type": "execute_result"
    }
   ],
   "source": [
    "consumer_fraud.select('user_id').distinct().count()"
   ]
  },
  {
   "cell_type": "code",
   "execution_count": 109,
   "metadata": {},
   "outputs": [
    {
     "name": "stdout",
     "output_type": "stream",
     "text": [
      "+-------+--------------+-----------+----------------+-----+--------+------+------------+------------------+--------------------+-----------------+\n",
      "|user_id|order_datetime|consumer_id|            name|state|postcode|gender|merchant_abn|      dollar_value|            order_id|fraud_probability|\n",
      "+-------+--------------+-----------+----------------+-----+--------+------+------------+------------------+--------------------+-----------------+\n",
      "|  14935|    2021-11-26|    1059280|   Cameron Adams|  QLD|    4563|  Male| 79417999332|136.06570809815838|23acbb7b-cf98-458...|             NULL|\n",
      "|      1|    2021-11-26|    1195503|Yolanda Williams|   WA|    6935|Female| 46451548968| 72.61581642788431|76bab304-fa2d-400...|             NULL|\n",
      "|  14936|    2021-11-26|     986886|     Maria Riley|   SA|    5157|Female| 89518629617|3.0783487174439297|a2ae446a-2959-41c...|             NULL|\n",
      "|      1|    2021-11-26|    1195503|Yolanda Williams|   WA|    6935|Female| 49167531725| 51.58228625503599|7080c274-17f7-4cc...|             NULL|\n",
      "|  14936|    2021-11-26|     986886|     Maria Riley|   SA|    5157|Female| 31101120643|25.228114942417797|8e301c0f-06ab-45c...|             NULL|\n",
      "+-------+--------------+-----------+----------------+-----+--------+------+------------+------------------+--------------------+-----------------+\n",
      "only showing top 5 rows\n",
      "\n"
     ]
    }
   ],
   "source": [
    "# merge consumer fraud probabillity with full consumer transaction records\n",
    "consumer_df = consumer_transaction.join(\n",
    "    consumer_fraud,\n",
    "    on=['user_id', 'order_datetime'],\n",
    "    how='left'\n",
    ")\n",
    "consumer_df.show(5)"
   ]
  },
  {
   "cell_type": "code",
   "execution_count": 110,
   "metadata": {},
   "outputs": [
    {
     "name": "stderr",
     "output_type": "stream",
     "text": [
      "                                                                                \r"
     ]
    },
    {
     "data": {
      "text/plain": [
       "13614675"
      ]
     },
     "execution_count": 110,
     "metadata": {},
     "output_type": "execute_result"
    }
   ],
   "source": [
    "consumer_df.count()"
   ]
  },
  {
   "cell_type": "code",
   "execution_count": 111,
   "metadata": {},
   "outputs": [
    {
     "name": "stderr",
     "output_type": "stream",
     "text": [
      "                                                                                \r"
     ]
    },
    {
     "data": {
      "text/plain": [
       "24081"
      ]
     },
     "execution_count": 111,
     "metadata": {},
     "output_type": "execute_result"
    }
   ],
   "source": [
    "consumer_df.select('user_id').distinct().count()"
   ]
  },
  {
   "cell_type": "code",
   "execution_count": 112,
   "metadata": {},
   "outputs": [
    {
     "name": "stdout",
     "output_type": "stream",
     "text": [
      "Number of missing fraud_probability values: 13543038\n",
      "Percentage of missing fraud_probability values: 0.9947382511885153\n"
     ]
    },
    {
     "name": "stderr",
     "output_type": "stream",
     "text": [
      "                                                                                \r"
     ]
    }
   ],
   "source": [
    "# count the number of missing values ​​in the fraud_probability column\n",
    "missing_fraud_prob_count = consumer_df.filter(col('fraud_probability').isNull()).count()\n",
    "print(f\"Number of missing fraud_probability values: {missing_fraud_prob_count}\")\n",
    "print(f\"Percentage of missing fraud_probability values: {missing_fraud_prob_count/13614675}\")"
   ]
  },
  {
   "cell_type": "code",
   "execution_count": 113,
   "metadata": {},
   "outputs": [
    {
     "name": "stdout",
     "output_type": "stream",
     "text": [
      "+--------+-------+--------------+-----------+----------------+-----+------+------------+------------------+--------------------+-----------------+------------------+------------------+--------------------------+------------------------+-----------------+----------------------+------------------------+----------------------+------------------+---------------------+\n",
      "|postcode|user_id|order_datetime|consumer_id|            name|state|gender|merchant_abn|      dollar_value|            order_id|fraud_probability|average_population|   avg_age_persons|avg_mortgage_repay_monthly|avg_tot_prsnl_inc_weekly|  avg_rent_weekly|avg_tot_fam_inc_weekly|avg_num_psns_per_bedroom|avg_tot_hhd_inc_weekly|avg_household_size|avg_unemployment_rate|\n",
      "+--------+-------+--------------+-----------+----------------+-----+------+------------+------------------+--------------------+-----------------+------------------+------------------+--------------------------+------------------------+-----------------+----------------------+------------------------+----------------------+------------------+---------------------+\n",
      "|    4563|  14935|    2021-11-26|    1059280|   Cameron Adams|  QLD|  Male| 79417999332|136.06570809815838|23acbb7b-cf98-458...|             NULL|           70492.0|48.666666666666664|        1690.6666666666667|                   642.0|376.6666666666667|                1647.0|      0.8000000000000002|                1428.0|               2.6|    4.833333333333333|\n",
      "|    6935|      1|    2021-11-26|    1195503|Yolanda Williams|   WA|Female| 46451548968| 72.61581642788431|76bab304-fa2d-400...|             NULL|              NULL|              NULL|                      NULL|                    NULL|             NULL|                  NULL|                    NULL|                  NULL|              NULL|                 NULL|\n",
      "|    5157|  14936|    2021-11-26|     986886|     Maria Riley|   SA|Female| 89518629617|3.0783487174439297|a2ae446a-2959-41c...|             NULL|           17881.5|              46.0|        1679.6666666666667|                   783.0|287.6666666666667|                2063.0|      0.8000000000000002|                1761.0|               2.6|    3.266666666666667|\n",
      "|    6935|      1|    2021-11-26|    1195503|Yolanda Williams|   WA|Female| 49167531725| 51.58228625503599|7080c274-17f7-4cc...|             NULL|              NULL|              NULL|                      NULL|                    NULL|             NULL|                  NULL|                    NULL|                  NULL|              NULL|                 NULL|\n",
      "|    5157|  14936|    2021-11-26|     986886|     Maria Riley|   SA|Female| 31101120643|25.228114942417797|8e301c0f-06ab-45c...|             NULL|           17881.5|              46.0|        1679.6666666666667|                   783.0|287.6666666666667|                2063.0|      0.8000000000000002|                1761.0|               2.6|    3.266666666666667|\n",
      "+--------+-------+--------------+-----------+----------------+-----+------+------------+------------------+--------------------+-----------------+------------------+------------------+--------------------------+------------------------+-----------------+----------------------+------------------------+----------------------+------------------+---------------------+\n",
      "only showing top 5 rows\n",
      "\n"
     ]
    }
   ],
   "source": [
    "# merge full consumer transactions records with all external datasets\n",
    "consumer_full = consumer_df.join(\n",
    "    merged_external_by_postcode.drop('state'),\n",
    "    on=\"postcode\",\n",
    "    how=\"left\"\n",
    ")\n",
    "consumer_full = consumer_full.drop('SA2_name')\n",
    "consumer_full.show(5)"
   ]
  },
  {
   "cell_type": "code",
   "execution_count": 114,
   "metadata": {},
   "outputs": [
    {
     "name": "stderr",
     "output_type": "stream",
     "text": [
      "                                                                                \r"
     ]
    },
    {
     "data": {
      "text/plain": [
       "13614675"
      ]
     },
     "execution_count": 114,
     "metadata": {},
     "output_type": "execute_result"
    }
   ],
   "source": [
    "consumer_full.count()"
   ]
  },
  {
   "cell_type": "code",
   "execution_count": 115,
   "metadata": {},
   "outputs": [
    {
     "name": "stderr",
     "output_type": "stream",
     "text": [
      "                                                                                \r"
     ]
    },
    {
     "name": "stdout",
     "output_type": "stream",
     "text": [
      "+--------+-------+--------------+-----------+----+-----+------+------------+------------+--------+-----------------+------------------+---------------+--------------------------+------------------------+---------------+----------------------+------------------------+----------------------+------------------+---------------------+\n",
      "|postcode|user_id|order_datetime|consumer_id|name|state|gender|merchant_abn|dollar_value|order_id|fraud_probability|average_population|avg_age_persons|avg_mortgage_repay_monthly|avg_tot_prsnl_inc_weekly|avg_rent_weekly|avg_tot_fam_inc_weekly|avg_num_psns_per_bedroom|avg_tot_hhd_inc_weekly|avg_household_size|avg_unemployment_rate|\n",
      "+--------+-------+--------------+-----------+----+-----+------+------------+------------+--------+-----------------+------------------+---------------+--------------------------+------------------------+---------------+----------------------+------------------------+----------------------+------------------+---------------------+\n",
      "|       0|      0|             0|          0|   0|    0|     0|           0|           0|       0|         13543038|           2241930|        2241930|                   2241930|                 2241930|        2241930|               2241930|                 2241930|               2241930|           2241930|              2241930|\n",
      "+--------+-------+--------------+-----------+----+-----+------+------------+------------+--------+-----------------+------------------+---------------+--------------------------+------------------------+---------------+----------------------+------------------------+----------------------+------------------+---------------------+\n",
      "\n"
     ]
    }
   ],
   "source": [
    "# count the number of missing values ​​in each column\n",
    "missing_values_df = consumer_full.select([\n",
    "    count(when(col(c).isNull(), c)).alias(c) for c in consumer_full.columns\n",
    "])\n",
    "missing_values_df.show()"
   ]
  },
  {
   "cell_type": "markdown",
   "metadata": {},
   "source": [
    "The above result means there are 2,241,930 records that do not have related external dataset information, so we drop them."
   ]
  },
  {
   "cell_type": "markdown",
   "metadata": {},
   "source": [
    "Find the rows need to be dropped:"
   ]
  },
  {
   "cell_type": "code",
   "execution_count": 116,
   "metadata": {},
   "outputs": [
    {
     "name": "stdout",
     "output_type": "stream",
     "text": [
      "+--------+-------+--------------+-----------+----------------+-----+------+------------+------------------+--------------------+-----------------+------------------+---------------+--------------------------+------------------------+---------------+----------------------+------------------------+----------------------+------------------+---------------------+\n",
      "|postcode|user_id|order_datetime|consumer_id|            name|state|gender|merchant_abn|      dollar_value|            order_id|fraud_probability|average_population|avg_age_persons|avg_mortgage_repay_monthly|avg_tot_prsnl_inc_weekly|avg_rent_weekly|avg_tot_fam_inc_weekly|avg_num_psns_per_bedroom|avg_tot_hhd_inc_weekly|avg_household_size|avg_unemployment_rate|\n",
      "+--------+-------+--------------+-----------+----------------+-----+------+------------+------------------+--------------------+-----------------+------------------+---------------+--------------------------+------------------------+---------------+----------------------+------------------------+----------------------+------------------+---------------------+\n",
      "|    6935|      1|    2021-11-26|    1195503|Yolanda Williams|   WA|Female| 46451548968| 72.61581642788431|76bab304-fa2d-400...|             NULL|              NULL|           NULL|                      NULL|                    NULL|           NULL|                  NULL|                    NULL|                  NULL|              NULL|                 NULL|\n",
      "|    6935|      1|    2021-11-26|    1195503|Yolanda Williams|   WA|Female| 49167531725| 51.58228625503599|7080c274-17f7-4cc...|             NULL|              NULL|           NULL|                      NULL|                    NULL|           NULL|                  NULL|                    NULL|                  NULL|              NULL|                 NULL|\n",
      "|    1565|  14943|    2021-11-26|      37167|    Alicia Brown|  NSW|Female| 18305506006|45.897464571978304|83d42842-0c5b-4c8...|             NULL|              NULL|           NULL|                      NULL|                    NULL|           NULL|                  NULL|                    NULL|                  NULL|              NULL|                 NULL|\n",
      "|    4229|  14948|    2021-11-26|    1294748|Daniel Stevenson|  QLD|  Male| 95431176007|243.22340867241888|8a2527b6-c85b-42e...|             NULL|              NULL|           NULL|                      NULL|                    NULL|           NULL|                  NULL|                    NULL|                  NULL|              NULL|                 NULL|\n",
      "|    4229|  14948|    2021-11-26|    1294748|Daniel Stevenson|  QLD|  Male| 52594457116| 815.5839606606046|d427d04a-8283-407...|             NULL|              NULL|           NULL|                      NULL|                    NULL|           NULL|                  NULL|                    NULL|                  NULL|              NULL|                 NULL|\n",
      "+--------+-------+--------------+-----------+----------------+-----+------+------------+------------------+--------------------+-----------------+------------------+---------------+--------------------------+------------------------+---------------+----------------------+------------------------+----------------------+------------------+---------------------+\n",
      "only showing top 5 rows\n",
      "\n"
     ]
    }
   ],
   "source": [
    "# list of columns to check for NULLs\n",
    "columns_to_check = [\n",
    "    'average_population',\n",
    "    'avg_age_persons',\n",
    "    'avg_mortgage_repay_monthly',\n",
    "    'avg_tot_prsnl_inc_weekly',\n",
    "    'avg_rent_weekly',\n",
    "    'avg_tot_fam_inc_weekly',\n",
    "    'avg_num_psns_per_bedroom',\n",
    "    'avg_tot_hhd_inc_weekly',\n",
    "    'avg_household_size',\n",
    "    'avg_unemployment_rate'\n",
    "]\n",
    "\n",
    "# create a condition for rows where all specified columns are NULL\n",
    "condition = col(columns_to_check[0]).isNull()\n",
    "for c in columns_to_check[1:]:\n",
    "    condition = condition & col(c).isNull()\n",
    "\n",
    "# filter the DataFrame to show these rows\n",
    "consumer_full_dropped = consumer_full.filter(condition)\n",
    "consumer_full_dropped.show(5)"
   ]
  },
  {
   "cell_type": "code",
   "execution_count": 117,
   "metadata": {},
   "outputs": [
    {
     "name": "stderr",
     "output_type": "stream",
     "text": [
      "                                                                                \r"
     ]
    },
    {
     "data": {
      "text/plain": [
       "2241930"
      ]
     },
     "execution_count": 117,
     "metadata": {},
     "output_type": "execute_result"
    }
   ],
   "source": [
    "consumer_full_dropped.count()"
   ]
  },
  {
   "cell_type": "markdown",
   "metadata": {},
   "source": [
    "The final consumer table (with consumer transaction records and details, and external datasets):"
   ]
  },
  {
   "cell_type": "code",
   "execution_count": 118,
   "metadata": {},
   "outputs": [
    {
     "name": "stdout",
     "output_type": "stream",
     "text": [
      "+--------+-------+--------------+-----------+-------------+-----+------+------------+------------------+--------------------+-----------------+------------------+------------------+--------------------------+------------------------+-----------------+----------------------+------------------------+----------------------+------------------+---------------------+\n",
      "|postcode|user_id|order_datetime|consumer_id|         name|state|gender|merchant_abn|      dollar_value|            order_id|fraud_probability|average_population|   avg_age_persons|avg_mortgage_repay_monthly|avg_tot_prsnl_inc_weekly|  avg_rent_weekly|avg_tot_fam_inc_weekly|avg_num_psns_per_bedroom|avg_tot_hhd_inc_weekly|avg_household_size|avg_unemployment_rate|\n",
      "+--------+-------+--------------+-----------+-------------+-----+------+------------+------------------+--------------------+-----------------+------------------+------------------+--------------------------+------------------------+-----------------+----------------------+------------------------+----------------------+------------------+---------------------+\n",
      "|    4563|  14935|    2021-11-26|    1059280|Cameron Adams|  QLD|  Male| 79417999332|136.06570809815838|23acbb7b-cf98-458...|             NULL|           70492.0|48.666666666666664|        1690.6666666666667|                   642.0|376.6666666666667|                1647.0|      0.8000000000000002|                1428.0|               2.6|    4.833333333333333|\n",
      "|    5157|  14936|    2021-11-26|     986886|  Maria Riley|   SA|Female| 89518629617|3.0783487174439297|a2ae446a-2959-41c...|             NULL|           17881.5|              46.0|        1679.6666666666667|                   783.0|287.6666666666667|                2063.0|      0.8000000000000002|                1761.0|               2.6|    3.266666666666667|\n",
      "|    5157|  14936|    2021-11-26|     986886|  Maria Riley|   SA|Female| 31101120643|25.228114942417797|8e301c0f-06ab-45c...|             NULL|           17881.5|              46.0|        1679.6666666666667|                   783.0|287.6666666666667|                2063.0|      0.8000000000000002|                1761.0|               2.6|    3.266666666666667|\n",
      "|    2782|      2|    2021-11-26|     179208|   Mary Smith|  NSW|Female| 67978471888| 691.5028234458998|0380e9ad-b0e8-420...|             NULL|            6376.0|              50.0|                    2080.0|                   740.0|            430.0|                1978.0|                     0.7|                1528.0|               2.3|                  4.3|\n",
      "|    5157|  14936|    2021-11-26|     986886|  Maria Riley|   SA|Female| 60956456424|102.13952056640888|5ac3da9c-5147-452...|             NULL|           17881.5|              46.0|        1679.6666666666667|                   783.0|287.6666666666667|                2063.0|      0.8000000000000002|                1761.0|               2.6|    3.266666666666667|\n",
      "+--------+-------+--------------+-----------+-------------+-----+------+------------+------------------+--------------------+-----------------+------------------+------------------+--------------------------+------------------------+-----------------+----------------------+------------------------+----------------------+------------------+---------------------+\n",
      "only showing top 5 rows\n",
      "\n"
     ]
    }
   ],
   "source": [
    "# drop all Null\n",
    "consumer_full_cleaned = consumer_full.dropna(subset=columns_to_check)\n",
    "consumer_full_cleaned.show(5)"
   ]
  },
  {
   "cell_type": "code",
   "execution_count": 119,
   "metadata": {},
   "outputs": [
    {
     "name": "stderr",
     "output_type": "stream",
     "text": [
      "                                                                                \r"
     ]
    },
    {
     "data": {
      "text/plain": [
       "11372745"
      ]
     },
     "execution_count": 119,
     "metadata": {},
     "output_type": "execute_result"
    }
   ],
   "source": [
    "consumer_full_cleaned.count()"
   ]
  },
  {
   "cell_type": "code",
   "execution_count": 120,
   "metadata": {},
   "outputs": [
    {
     "name": "stdout",
     "output_type": "stream",
     "text": [
      "Number of rows deleted: 2241930\n",
      "Percentage of rows deleted: 0.16467010780646618\n"
     ]
    }
   ],
   "source": [
    "print(f'Number of rows deleted:', 13614675-11372745)\n",
    "print(f'Percentage of rows deleted:', (13614675-11372745)/13614675)"
   ]
  },
  {
   "cell_type": "code",
   "execution_count": 121,
   "metadata": {},
   "outputs": [
    {
     "name": "stdout",
     "output_type": "stream",
     "text": [
      "+----------+----------+\n",
      "|  min_date|  max_date|\n",
      "+----------+----------+\n",
      "|2021-02-28|2022-10-26|\n",
      "+----------+----------+\n",
      "\n"
     ]
    },
    {
     "name": "stderr",
     "output_type": "stream",
     "text": [
      "                                                                                \r"
     ]
    }
   ],
   "source": [
    "# find the maximum and minimum values ​​of the order_datetime column\n",
    "consumer_full_cleaned.select(min(\"order_datetime\").alias(\"min_date\"), max(\"order_datetime\").alias(\"max_date\")).show()"
   ]
  },
  {
   "cell_type": "markdown",
   "metadata": {},
   "source": [
    "Compute the number of missing values again, this is the number of missing values for consumer fraud probability:"
   ]
  },
  {
   "cell_type": "code",
   "execution_count": 122,
   "metadata": {},
   "outputs": [
    {
     "name": "stderr",
     "output_type": "stream",
     "text": [
      "[Stage 464:==================================================>     (9 + 1) / 10]\r"
     ]
    },
    {
     "name": "stdout",
     "output_type": "stream",
     "text": [
      "+--------+-------+--------------+-----------+----+-----+------+------------+------------+--------+-----------------+------------------+---------------+--------------------------+------------------------+---------------+----------------------+------------------------+----------------------+------------------+---------------------+\n",
      "|postcode|user_id|order_datetime|consumer_id|name|state|gender|merchant_abn|dollar_value|order_id|fraud_probability|average_population|avg_age_persons|avg_mortgage_repay_monthly|avg_tot_prsnl_inc_weekly|avg_rent_weekly|avg_tot_fam_inc_weekly|avg_num_psns_per_bedroom|avg_tot_hhd_inc_weekly|avg_household_size|avg_unemployment_rate|\n",
      "+--------+-------+--------------+-----------+----+-----+------+------------+------------+--------+-----------------+------------------+---------------+--------------------------+------------------------+---------------+----------------------+------------------------+----------------------+------------------+---------------------+\n",
      "|       0|      0|             0|          0|   0|    0|     0|           0|           0|       0|         11312983|                 0|              0|                         0|                       0|              0|                     0|                       0|                     0|                 0|                    0|\n",
      "+--------+-------+--------------+-----------+----+-----+------+------------+------------+--------+-----------------+------------------+---------------+--------------------------+------------------------+---------------+----------------------+------------------------+----------------------+------------------+---------------------+\n",
      "\n"
     ]
    },
    {
     "name": "stderr",
     "output_type": "stream",
     "text": [
      "                                                                                \r"
     ]
    }
   ],
   "source": [
    "# create a dictionary with column names and their respective null counts\n",
    "null_count_dict = {col_name: sum(col(col_name).isNull().cast(\"int\")).alias(col_name) for col_name in consumer_full_cleaned.columns}\n",
    "\n",
    "# use agg() to calculate null counts for each column\n",
    "null_counts_df = consumer_full_cleaned.agg(*null_count_dict.values())\n",
    "null_counts_df.show()"
   ]
  },
  {
   "cell_type": "code",
   "execution_count": 123,
   "metadata": {},
   "outputs": [
    {
     "name": "stderr",
     "output_type": "stream",
     "text": [
      "                                                                                \r"
     ]
    }
   ],
   "source": [
    "# save as a parquet file\n",
    "consumer_full_cleaned.write.parquet('../data/curated/consumer_full', mode='overwrite')"
   ]
  },
  {
   "cell_type": "markdown",
   "metadata": {},
   "source": [
    "# Combine merchant details with their fraud probability"
   ]
  },
  {
   "cell_type": "code",
   "execution_count": 124,
   "metadata": {},
   "outputs": [
    {
     "name": "stdout",
     "output_type": "stream",
     "text": [
      "+------------+-------+------------------+--------------------+--------------+--------------------+-------------+---------+--------------------+\n",
      "|merchant_abn|user_id|      dollar_value|            order_id|order_datetime|                name|revenue_level|take_rate|  processed_category|\n",
      "+------------+-------+------------------+--------------------+--------------+--------------------+-------------+---------+--------------------+\n",
      "| 79417999332|  14935|136.06570809815838|23acbb7b-cf98-458...|    2021-11-26|phasellus at company|            b|     4.95|souvenir card sho...|\n",
      "| 46451548968|      1| 72.61581642788431|76bab304-fa2d-400...|    2021-11-26|tempus eu ligula ...|            a|     6.04|and beauty health...|\n",
      "| 89518629617|  14936|3.0783487174439297|a2ae446a-2959-41c...|    2021-11-26|vulputate velit e...|            c|     3.09|and shop awning tent|\n",
      "| 49167531725|      1| 51.58228625503599|7080c274-17f7-4cc...|    2021-11-26|     felis institute|            a|     6.42|digital book musi...|\n",
      "| 31101120643|  14936|25.228114942417797|8e301c0f-06ab-45c...|    2021-11-26|commodo hendrerit...|            a|     6.37|radio other servi...|\n",
      "+------------+-------+------------------+--------------------+--------------+--------------------+-------------+---------+--------------------+\n",
      "only showing top 5 rows\n",
      "\n"
     ]
    }
   ],
   "source": [
    "merchant_df = transaction.join(\n",
    "    merchant_detail,\n",
    "    on=['merchant_abn'],\n",
    "    how='inner'\n",
    ")\n",
    "merchant_df.show(5)"
   ]
  },
  {
   "cell_type": "code",
   "execution_count": 125,
   "metadata": {},
   "outputs": [
    {
     "data": {
      "text/plain": [
       "13614675"
      ]
     },
     "execution_count": 125,
     "metadata": {},
     "output_type": "execute_result"
    }
   ],
   "source": [
    "merchant_df.count()"
   ]
  },
  {
   "cell_type": "code",
   "execution_count": 126,
   "metadata": {},
   "outputs": [
    {
     "name": "stdout",
     "output_type": "stream",
     "text": [
      "+------------+--------------+-------+------------------+--------------------+--------------------+-------------+---------+--------------------+-----------------+\n",
      "|merchant_abn|order_datetime|user_id|      dollar_value|            order_id|                name|revenue_level|take_rate|  processed_category|fraud_probability|\n",
      "+------------+--------------+-------+------------------+--------------------+--------------------+-------------+---------+--------------------+-----------------+\n",
      "| 79417999332|    2021-11-26|  14935|136.06570809815838|23acbb7b-cf98-458...|phasellus at company|            b|     4.95|souvenir card sho...|             NULL|\n",
      "| 46451548968|    2021-11-26|      1| 72.61581642788431|76bab304-fa2d-400...|tempus eu ligula ...|            a|     6.04|and beauty health...|             NULL|\n",
      "| 89518629617|    2021-11-26|  14936|3.0783487174439297|a2ae446a-2959-41c...|vulputate velit e...|            c|     3.09|and shop awning tent|             NULL|\n",
      "| 49167531725|    2021-11-26|      1| 51.58228625503599|7080c274-17f7-4cc...|     felis institute|            a|     6.42|digital book musi...|             NULL|\n",
      "| 31101120643|    2021-11-26|  14936|25.228114942417797|8e301c0f-06ab-45c...|commodo hendrerit...|            a|     6.37|radio other servi...|             NULL|\n",
      "+------------+--------------+-------+------------------+--------------------+--------------------+-------------+---------+--------------------+-----------------+\n",
      "only showing top 5 rows\n",
      "\n"
     ]
    }
   ],
   "source": [
    "merchant_select = merchant.select(['merchant_abn', 'order_datetime', 'fraud_probability'])\n",
    "merchant_full= merchant_df.join(\n",
    "    merchant_select,\n",
    "    on=['merchant_abn', 'order_datetime'],\n",
    "    how='left'\n",
    ")\n",
    "merchant_full.show(5)"
   ]
  },
  {
   "cell_type": "code",
   "execution_count": 127,
   "metadata": {},
   "outputs": [
    {
     "name": "stderr",
     "output_type": "stream",
     "text": [
      "                                                                                \r"
     ]
    },
    {
     "data": {
      "text/plain": [
       "13614675"
      ]
     },
     "execution_count": 127,
     "metadata": {},
     "output_type": "execute_result"
    }
   ],
   "source": [
    "merchant_full.count()"
   ]
  },
  {
   "cell_type": "markdown",
   "metadata": {},
   "source": [
    "Drop the rows which are removed in `consumer_full`:"
   ]
  },
  {
   "cell_type": "code",
   "execution_count": 128,
   "metadata": {},
   "outputs": [
    {
     "name": "stderr",
     "output_type": "stream",
     "text": [
      "                                                                                \r"
     ]
    },
    {
     "data": {
      "text/plain": [
       "11372745"
      ]
     },
     "execution_count": 128,
     "metadata": {},
     "output_type": "execute_result"
    }
   ],
   "source": [
    "# extract order_id from consumer_full_dropped as a DataFrame\n",
    "order_ids_df = consumer_full_dropped.select('order_id').distinct()\n",
    "\n",
    "# filter merchant_full by performing a left anti join\n",
    "merchant_filtered = merchant_full.join(\n",
    "    order_ids_df,\n",
    "    on='order_id',\n",
    "    how='left_anti'\n",
    ")\n",
    "merchant_filtered.count()"
   ]
  },
  {
   "cell_type": "code",
   "execution_count": 129,
   "metadata": {},
   "outputs": [
    {
     "name": "stderr",
     "output_type": "stream",
     "text": [
      "[Stage 513:==========================================>             (9 + 3) / 12]\r"
     ]
    },
    {
     "name": "stdout",
     "output_type": "stream",
     "text": [
      "+----------+----------+\n",
      "|  min_date|  max_date|\n",
      "+----------+----------+\n",
      "|2021-02-28|2022-10-26|\n",
      "+----------+----------+\n",
      "\n"
     ]
    },
    {
     "name": "stderr",
     "output_type": "stream",
     "text": [
      "                                                                                \r"
     ]
    }
   ],
   "source": [
    "# find the maximum and minimum values ​​of the order_datetime column\n",
    "merchant_filtered.select(min(\"order_datetime\").alias(\"min_date\"), max(\"order_datetime\").alias(\"max_date\")).show()"
   ]
  },
  {
   "cell_type": "markdown",
   "metadata": {},
   "source": [
    "Compute the revenue for each transaction:"
   ]
  },
  {
   "cell_type": "code",
   "execution_count": 130,
   "metadata": {},
   "outputs": [
    {
     "name": "stderr",
     "output_type": "stream",
     "text": [
      "[Stage 526:==================================================>     (9 + 1) / 10]\r"
     ]
    },
    {
     "name": "stdout",
     "output_type": "stream",
     "text": [
      "+--------------------+------------+--------------+-------+-----------------+--------------------+-------------+---------+--------------------+-----------------+-------------------+\n",
      "|            order_id|merchant_abn|order_datetime|user_id|     dollar_value|                name|revenue_level|take_rate|  processed_category|fraud_probability|transaction_revenue|\n",
      "+--------------------+------------+--------------+-------+-----------------+--------------------+-------------+---------+--------------------+-----------------+-------------------+\n",
      "|0000141d-a22c-4fc...| 49322182190|    2021-10-11|  22405|77.78061012666785|gravida mauris in...|            a|     6.35|shop jewelry repa...|             NULL|  72.84154257046237|\n",
      "|0000157a-5ae1-4dd...| 11121775571|    2021-11-09|  17063|95.72482420618412|egestas nunc asso...|            a|     6.58|digital book musi...|             NULL|  89.42612902064333|\n",
      "|0000288a-40dc-4d7...| 15061716544|    2021-06-25|   6681|85.93800442618074|tempus scelerisqu...|            a|     5.73|digital book musi...|             NULL|  81.01375388767885|\n",
      "|00002bc8-a159-4b5...| 90173050473|    2022-09-21|   9850|341.6523421973905|lobortis class in...|            c|     2.49|nursery lawn supp...|             NULL| 333.14520617515694|\n",
      "|0000306f-f78a-456...| 77338620996|    2021-12-03|  21570|299.2987303493302| fames ac turpis llc|            b|     3.59|equipment periphe...|             NULL|  288.5539168904361|\n",
      "+--------------------+------------+--------------+-------+-----------------+--------------------+-------------+---------+--------------------+-----------------+-------------------+\n",
      "only showing top 5 rows\n",
      "\n"
     ]
    },
    {
     "name": "stderr",
     "output_type": "stream",
     "text": [
      "                                                                                \r"
     ]
    }
   ],
   "source": [
    "merchant_filtered = merchant_filtered.withColumn(\n",
    "    \"transaction_revenue\", \n",
    "    col(\"dollar_value\") * (100 - col(\"take_rate\")) / 100\n",
    ")\n",
    "merchant_filtered.show(5)"
   ]
  },
  {
   "cell_type": "markdown",
   "metadata": {},
   "source": [
    "Compute the revenue for BNLP:"
   ]
  },
  {
   "cell_type": "code",
   "execution_count": 131,
   "metadata": {},
   "outputs": [
    {
     "name": "stderr",
     "output_type": "stream",
     "text": [
      "[Stage 538:============================================>           (8 + 2) / 10]\r"
     ]
    },
    {
     "name": "stdout",
     "output_type": "stream",
     "text": [
      "+--------------------+------------+--------------+-------+-----------------+--------------------+-------------+---------+--------------------+-----------------+-------------------+------------------+\n",
      "|            order_id|merchant_abn|order_datetime|user_id|     dollar_value|                name|revenue_level|take_rate|  processed_category|fraud_probability|transaction_revenue|      BNPL_revenue|\n",
      "+--------------------+------------+--------------+-------+-----------------+--------------------+-------------+---------+--------------------+-----------------+-------------------+------------------+\n",
      "|0000141d-a22c-4fc...| 49322182190|    2021-10-11|  22405|77.78061012666785|gravida mauris in...|            a|     6.35|shop jewelry repa...|             NULL|  72.84154257046237| 4.939068668866039|\n",
      "|0000157a-5ae1-4dd...| 11121775571|    2021-11-09|  17063|95.72482420618412|egestas nunc asso...|            a|     6.58|digital book musi...|             NULL|  89.42612902064333| 6.298693359734671|\n",
      "|0000288a-40dc-4d7...| 15061716544|    2021-06-25|   6681|85.93800442618074|tempus scelerisqu...|            a|     5.73|digital book musi...|             NULL|  81.01375388767885|  4.92424767001153|\n",
      "|00002bc8-a159-4b5...| 90173050473|    2022-09-21|   9850|341.6523421973905|lobortis class in...|            c|     2.49|nursery lawn supp...|             NULL| 333.14520617515694|  8.50714335329753|\n",
      "|0000306f-f78a-456...| 77338620996|    2021-12-03|  21570|299.2987303493302| fames ac turpis llc|            b|     3.59|equipment periphe...|             NULL|  288.5539168904361|10.744824162650794|\n",
      "+--------------------+------------+--------------+-------+-----------------+--------------------+-------------+---------+--------------------+-----------------+-------------------+------------------+\n",
      "only showing top 5 rows\n",
      "\n"
     ]
    },
    {
     "name": "stderr",
     "output_type": "stream",
     "text": [
      "                                                                                \r"
     ]
    }
   ],
   "source": [
    "merchant_filtered = merchant_filtered.withColumn(\n",
    "    \"BNPL_revenue\", \n",
    "    col(\"dollar_value\") * col(\"take_rate\")/100\n",
    ")\n",
    "merchant_filtered.show(5)"
   ]
  },
  {
   "cell_type": "markdown",
   "metadata": {},
   "source": [
    "Compute the number of missing values, this is the number of missing values for merchant fraud probability:"
   ]
  },
  {
   "cell_type": "code",
   "execution_count": 132,
   "metadata": {},
   "outputs": [
    {
     "name": "stderr",
     "output_type": "stream",
     "text": [
      "[Stage 553:=================================>                      (9 + 6) / 15]\r"
     ]
    },
    {
     "name": "stdout",
     "output_type": "stream",
     "text": [
      "+--------+------------+--------------+-------+------------+----+-------------+---------+------------------+-----------------+-------------------+------------+\n",
      "|order_id|merchant_abn|order_datetime|user_id|dollar_value|name|revenue_level|take_rate|processed_category|fraud_probability|transaction_revenue|BNPL_revenue|\n",
      "+--------+------------+--------------+-------+------------+----+-------------+---------+------------------+-----------------+-------------------+------------+\n",
      "|       0|           0|             0|      0|           0|   0|            0|        0|                 0|         11369426|                  0|           0|\n",
      "+--------+------------+--------------+-------+------------+----+-------------+---------+------------------+-----------------+-------------------+------------+\n",
      "\n"
     ]
    },
    {
     "name": "stderr",
     "output_type": "stream",
     "text": [
      "                                                                                \r"
     ]
    }
   ],
   "source": [
    "# create a dictionary with column names and their respective null counts\n",
    "null_count_dict = {col_name: sum(col(col_name).isNull().cast(\"int\")).alias(col_name) for col_name in merchant_filtered.columns}\n",
    "\n",
    "# use agg() to calculate null counts for each column\n",
    "null_counts_df = merchant_filtered.agg(*null_count_dict.values())\n",
    "null_counts_df.show()"
   ]
  },
  {
   "cell_type": "code",
   "execution_count": 133,
   "metadata": {},
   "outputs": [
    {
     "name": "stderr",
     "output_type": "stream",
     "text": [
      "                                                                                \r"
     ]
    }
   ],
   "source": [
    "# save as a parquet file\n",
    "merchant_filtered.write.parquet('../data/curated/merchant_full', mode='overwrite')"
   ]
  }
 ],
 "metadata": {
  "kernelspec": {
   "display_name": "Python 3",
   "language": "python",
   "name": "python3"
  },
  "language_info": {
   "codemirror_mode": {
    "name": "ipython",
    "version": 3
   },
   "file_extension": ".py",
   "mimetype": "text/x-python",
   "name": "python",
   "nbconvert_exporter": "python",
   "pygments_lexer": "ipython3",
   "version": "3.11.3"
  }
 },
 "nbformat": 4,
 "nbformat_minor": 2
}
