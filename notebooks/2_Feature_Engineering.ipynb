{
 "cells": [
  {
   "cell_type": "markdown",
   "metadata": {},
   "source": [
    "# Feature Engineering"
   ]
  },
  {
   "cell_type": "markdown",
   "metadata": {},
   "source": [
    "---"
   ]
  },
  {
   "cell_type": "code",
   "execution_count": 1,
   "metadata": {},
   "outputs": [],
   "source": [
    "from pyspark.sql import SparkSession\n",
    "from pyspark.sql.functions import* \n",
    "import pandas as pd\n",
    "import geopandas as gpd"
   ]
  },
  {
   "cell_type": "code",
   "execution_count": 2,
   "metadata": {},
   "outputs": [
    {
     "name": "stderr",
     "output_type": "stream",
     "text": [
      "24/09/08 18:03:33 WARN Utils: Your hostname, Cocos-MacBook-Air.local resolves to a loopback address: 127.0.0.1; using 172.16.33.67 instead (on interface en0)\n",
      "24/09/08 18:03:33 WARN Utils: Set SPARK_LOCAL_IP if you need to bind to another address\n",
      "Setting default log level to \"WARN\".\n",
      "To adjust logging level use sc.setLogLevel(newLevel). For SparkR, use setLogLevel(newLevel).\n",
      "24/09/08 18:03:33 WARN NativeCodeLoader: Unable to load native-hadoop library for your platform... using builtin-java classes where applicable\n",
      "24/09/08 18:03:34 WARN Utils: Service 'SparkUI' could not bind on port 4040. Attempting port 4041.\n",
      "24/09/08 18:03:34 WARN Utils: Service 'SparkUI' could not bind on port 4041. Attempting port 4042.\n",
      "24/09/08 18:03:34 WARN Utils: Service 'SparkUI' could not bind on port 4042. Attempting port 4043.\n"
     ]
    }
   ],
   "source": [
    "spark = (\n",
    "    SparkSession.builder.appName(\"Feature_Engineering\")\n",
    "    .config(\"spark.sql.repl.eagerEval.enabled\", True) \n",
    "    .config(\"spark.driver.memory\",\"4G\")\n",
    "    .config(\"spark.executor.memory\",\"4G\")\n",
    "    .config(\"spark.sql.parquet.cacheMetadata\", \"true\")\n",
    "    .config(\"spark.sql.session.timeZone\", \"Etc/UTC\")\n",
    "    .getOrCreate()\n",
    ")"
   ]
  },
  {
   "cell_type": "markdown",
   "metadata": {},
   "source": [
    "# Read datasets"
   ]
  },
  {
   "cell_type": "code",
   "execution_count": 17,
   "metadata": {},
   "outputs": [],
   "source": [
    "consumer_detail  = spark.read.parquet('../data/curated/consumer_detail')\n",
    "transaction = spark.read.parquet('../data/curated/transaction')\n",
    "merchant  = spark.read.parquet('../data/curated/merchant')\n",
    "postcode_sa2_geo = gpd.read_file('../data/curated/postcode_sa2_geo.shp')"
   ]
  },
  {
   "cell_type": "markdown",
   "metadata": {},
   "source": [
    "### Convert data types"
   ]
  },
  {
   "cell_type": "code",
   "execution_count": 18,
   "metadata": {},
   "outputs": [
    {
     "name": "stdout",
     "output_type": "stream",
     "text": [
      "consumer_detail:\n",
      "root\n",
      " |-- consumer_id: long (nullable = true)\n",
      " |-- user_id: long (nullable = true)\n",
      " |-- name: string (nullable = true)\n",
      " |-- state: string (nullable = true)\n",
      " |-- postcode: string (nullable = true)\n",
      " |-- gender: string (nullable = true)\n",
      "\n",
      "\n",
      "transaction:\n",
      "root\n",
      " |-- user_id: long (nullable = true)\n",
      " |-- merchant_abn: long (nullable = true)\n",
      " |-- dollar_value: double (nullable = true)\n",
      " |-- order_id: string (nullable = true)\n",
      " |-- order_datetime: date (nullable = true)\n",
      "\n",
      "\n",
      "merchant:\n",
      "root\n",
      " |-- merchant_abn: long (nullable = true)\n",
      " |-- order_datetime: date (nullable = true)\n",
      " |-- fraud_probability: double (nullable = true)\n",
      " |-- name: string (nullable = true)\n",
      " |-- category: string (nullable = true)\n",
      " |-- revenue_level: string (nullable = true)\n",
      " |-- take_rate: float (nullable = true)\n",
      "\n",
      "\n",
      "postcode_sa2_geo:\n"
     ]
    },
    {
     "data": {
      "text/plain": [
       "SA2_name        object\n",
       "SA2_MAINCO       int64\n",
       "postcode         int64\n",
       "state           object\n",
       "geometry      geometry\n",
       "dtype: object"
      ]
     },
     "execution_count": 18,
     "metadata": {},
     "output_type": "execute_result"
    }
   ],
   "source": [
    "print('consumer_detail:')\n",
    "consumer_detail.printSchema()\n",
    "\n",
    "print('\\ntransaction:')\n",
    "transaction.printSchema()\n",
    "\n",
    "print('\\nmerchant:')\n",
    "merchant.printSchema()\n",
    "\n",
    "print('\\npostcode_sa2_geo:')\n",
    "postcode_sa2_geo.dtypes"
   ]
  },
  {
   "cell_type": "code",
   "execution_count": 21,
   "metadata": {},
   "outputs": [
    {
     "name": "stdout",
     "output_type": "stream",
     "text": [
      "root\n",
      " |-- consumer_id: long (nullable = true)\n",
      " |-- user_id: long (nullable = true)\n",
      " |-- name: string (nullable = true)\n",
      " |-- state: string (nullable = true)\n",
      " |-- postcode: integer (nullable = true)\n",
      " |-- gender: string (nullable = true)\n",
      "\n"
     ]
    }
   ],
   "source": [
    "# convert the data type of postcode column in consumer_transaction dataset \n",
    "consumer_detail = consumer_detail.withColumn('postcode', col('postcode').cast('int'))\n",
    "consumer_detail.printSchema()"
   ]
  },
  {
   "cell_type": "markdown",
   "metadata": {},
   "source": [
    "### Display dataset"
   ]
  },
  {
   "cell_type": "code",
   "execution_count": 22,
   "metadata": {},
   "outputs": [
    {
     "name": "stdout",
     "output_type": "stream",
     "text": [
      "+-----------+-------+-----------------+-----+--------+------+\n",
      "|consumer_id|user_id|             name|state|postcode|gender|\n",
      "+-----------+-------+-----------------+-----+--------+------+\n",
      "|     870353| 213579|    Charles Davis|   SA|    5261|  Male|\n",
      "|     923963| 213580|Jacqueline Nelson|  QLD|    4744|Female|\n",
      "|      93016| 213581|    Carolyn Smith|  QLD|    4454|Female|\n",
      "|      61324| 213582|      Denise Rush|   WA|    6705|Female|\n",
      "|     823311| 213583|  Nathan Williams|  NSW|    2145|  Male|\n",
      "+-----------+-------+-----------------+-----+--------+------+\n",
      "only showing top 5 rows\n",
      "\n"
     ]
    }
   ],
   "source": [
    "consumer_detail.show(5)"
   ]
  },
  {
   "cell_type": "code",
   "execution_count": 23,
   "metadata": {},
   "outputs": [
    {
     "data": {
      "text/plain": [
       "499999"
      ]
     },
     "execution_count": 23,
     "metadata": {},
     "output_type": "execute_result"
    }
   ],
   "source": [
    "consumer_detail.count()"
   ]
  },
  {
   "cell_type": "code",
   "execution_count": 24,
   "metadata": {},
   "outputs": [
    {
     "name": "stdout",
     "output_type": "stream",
     "text": [
      "+-----------+-------+-----------------+-----+--------+------+\n",
      "|consumer_id|user_id|             name|state|postcode|gender|\n",
      "+-----------+-------+-----------------+-----+--------+------+\n",
      "|     870353| 213579|    Charles Davis|   SA|    5261|  Male|\n",
      "|     923963| 213580|Jacqueline Nelson|  QLD|    4744|Female|\n",
      "|      93016| 213581|    Carolyn Smith|  QLD|    4454|Female|\n",
      "|      61324| 213582|      Denise Rush|   WA|    6705|Female|\n",
      "|     823311| 213583|  Nathan Williams|  NSW|    2145|  Male|\n",
      "+-----------+-------+-----------------+-----+--------+------+\n",
      "only showing top 5 rows\n",
      "\n"
     ]
    }
   ],
   "source": [
    "consumer_detail.show(5)"
   ]
  },
  {
   "cell_type": "code",
   "execution_count": 25,
   "metadata": {},
   "outputs": [
    {
     "name": "stdout",
     "output_type": "stream",
     "text": [
      "+-------+------------+------------------+--------------------+--------------+\n",
      "|user_id|merchant_abn|      dollar_value|            order_id|order_datetime|\n",
      "+-------+------------+------------------+--------------------+--------------+\n",
      "|  14935| 79417999332|136.06570809815838|23acbb7b-cf98-458...|    2021-11-26|\n",
      "|      1| 46451548968| 72.61581642788431|76bab304-fa2d-400...|    2021-11-26|\n",
      "|  14936| 89518629617|3.0783487174439297|a2ae446a-2959-41c...|    2021-11-26|\n",
      "|      1| 49167531725| 51.58228625503599|7080c274-17f7-4cc...|    2021-11-26|\n",
      "|  14936| 31101120643|25.228114942417797|8e301c0f-06ab-45c...|    2021-11-26|\n",
      "+-------+------------+------------------+--------------------+--------------+\n",
      "only showing top 5 rows\n",
      "\n"
     ]
    }
   ],
   "source": [
    "transaction.show(5)"
   ]
  },
  {
   "cell_type": "code",
   "execution_count": 26,
   "metadata": {},
   "outputs": [
    {
     "data": {
      "text/plain": [
       "13614675"
      ]
     },
     "execution_count": 26,
     "metadata": {},
     "output_type": "execute_result"
    }
   ],
   "source": [
    "transaction.count()"
   ]
  },
  {
   "cell_type": "markdown",
   "metadata": {},
   "source": [
    "# Compute the number of orders and total `dollar_value`"
   ]
  },
  {
   "cell_type": "code",
   "execution_count": 27,
   "metadata": {},
   "outputs": [
    {
     "name": "stderr",
     "output_type": "stream",
     "text": [
      "[Stage 87:===================================================>     (9 + 1) / 10]\r"
     ]
    },
    {
     "name": "stdout",
     "output_type": "stream",
     "text": [
      "+------------+-----------------+------------------+\n",
      "|merchant_abn|transaction_count|total_dollar_value|\n",
      "+------------+-----------------+------------------+\n",
      "| 83412691377|            14288| 498536.5816973135|\n",
      "| 38700038932|             7132| 9546185.360697312|\n",
      "| 35344855546|             1522|134737.25046268434|\n",
      "| 15613631617|             1785| 543030.5313328261|\n",
      "| 19839532017|              726|          113982.0|\n",
      "+------------+-----------------+------------------+\n",
      "only showing top 5 rows\n",
      "\n"
     ]
    },
    {
     "name": "stderr",
     "output_type": "stream",
     "text": [
      "                                                                                \r"
     ]
    }
   ],
   "source": [
    "# group by merchant_abn and aggregate the count of orders and total dollar_value\n",
    "transaction_detail = transaction.groupBy(\"merchant_abn\").agg(\n",
    "    count(\"order_id\").alias(\"transaction_count\"),  # assuming tip count is equivalent to the number of orders\n",
    "    sum(\"dollar_value\").alias(\"total_dollar_value\")\n",
    ")\n",
    "\n",
    "transaction_detail.show(5)"
   ]
  },
  {
   "cell_type": "code",
   "execution_count": 28,
   "metadata": {},
   "outputs": [
    {
     "name": "stderr",
     "output_type": "stream",
     "text": [
      "                                                                                \r"
     ]
    }
   ],
   "source": [
    "# save the parquet file\n",
    "transaction_detail.write.parquet('../data/curated/transactions_count_dollar', mode='overwrite')"
   ]
  },
  {
   "cell_type": "markdown",
   "metadata": {},
   "source": [
    "# Merge consumer and transaction by `user_id`"
   ]
  },
  {
   "cell_type": "code",
   "execution_count": 29,
   "metadata": {},
   "outputs": [
    {
     "name": "stdout",
     "output_type": "stream",
     "text": [
      "+-------+-----------+----------------+-----+--------+------+------------+------------------+--------------------+--------------+\n",
      "|user_id|consumer_id|            name|state|postcode|gender|merchant_abn|      dollar_value|            order_id|order_datetime|\n",
      "+-------+-----------+----------------+-----+--------+------+------------+------------------+--------------------+--------------+\n",
      "|  14935|    1059280|   Cameron Adams|  QLD|    4563|  Male| 79417999332|136.06570809815838|23acbb7b-cf98-458...|    2021-11-26|\n",
      "|      1|    1195503|Yolanda Williams|   WA|    6935|Female| 46451548968| 72.61581642788431|76bab304-fa2d-400...|    2021-11-26|\n",
      "|  14936|     986886|     Maria Riley|   SA|    5157|Female| 89518629617|3.0783487174439297|a2ae446a-2959-41c...|    2021-11-26|\n",
      "|      1|    1195503|Yolanda Williams|   WA|    6935|Female| 49167531725| 51.58228625503599|7080c274-17f7-4cc...|    2021-11-26|\n",
      "|  14936|     986886|     Maria Riley|   SA|    5157|Female| 31101120643|25.228114942417797|8e301c0f-06ab-45c...|    2021-11-26|\n",
      "+-------+-----------+----------------+-----+--------+------+------------+------------------+--------------------+--------------+\n",
      "only showing top 5 rows\n",
      "\n"
     ]
    }
   ],
   "source": [
    "consumer_transaction = consumer_detail.join(\n",
    "    transaction,\n",
    "    on=['user_id'],\n",
    "    how='inner'\n",
    ")\n",
    "\n",
    "consumer_transaction = consumer_detail.join(\n",
    "    transaction,\n",
    "    on=['user_id'],\n",
    "    how='inner'\n",
    ")\n",
    "\n",
    "consumer_transaction.show(5)"
   ]
  },
  {
   "cell_type": "code",
   "execution_count": 30,
   "metadata": {},
   "outputs": [
    {
     "data": {
      "text/plain": [
       "13614675"
      ]
     },
     "execution_count": 30,
     "metadata": {},
     "output_type": "execute_result"
    }
   ],
   "source": [
    "consumer_transaction.count()"
   ]
  },
  {
   "cell_type": "code",
   "execution_count": 31,
   "metadata": {},
   "outputs": [
    {
     "name": "stderr",
     "output_type": "stream",
     "text": [
      "                                                                                \r"
     ]
    }
   ],
   "source": [
    "# save the parquet file\n",
    "consumer_transaction.write.parquet('../data/curated/consumer_transaction', mode='overwrite')"
   ]
  },
  {
   "cell_type": "markdown",
   "metadata": {},
   "source": [
    "# Create total transaction values for each consumer with geometry dataset"
   ]
  },
  {
   "cell_type": "code",
   "execution_count": 32,
   "metadata": {},
   "outputs": [
    {
     "name": "stdout",
     "output_type": "stream",
     "text": [
      "root\n",
      " |-- user_id: long (nullable = true)\n",
      " |-- consumer_id: long (nullable = true)\n",
      " |-- name: string (nullable = true)\n",
      " |-- state: string (nullable = true)\n",
      " |-- postcode: integer (nullable = true)\n",
      " |-- gender: string (nullable = true)\n",
      " |-- merchant_abn: long (nullable = true)\n",
      " |-- dollar_value: double (nullable = true)\n",
      " |-- order_id: string (nullable = true)\n",
      " |-- order_datetime: date (nullable = true)\n",
      "\n"
     ]
    }
   ],
   "source": [
    "consumer_transaction.printSchema()"
   ]
  },
  {
   "cell_type": "code",
   "execution_count": 36,
   "metadata": {},
   "outputs": [
    {
     "name": "stderr",
     "output_type": "stream",
     "text": [
      "                                                                                \r"
     ]
    }
   ],
   "source": [
    "selected_consumer_transaction = consumer_transaction.select('postcode', 'dollar_value')\n",
    "selected_consumer_transaction = selected_consumer_transaction.toPandas()\n",
    "consumer_dollar_geo = selected_consumer_transaction.merge(postcode_sa2_geo, on='postcode', how='inner')"
   ]
  },
  {
   "cell_type": "code",
   "execution_count": 37,
   "metadata": {},
   "outputs": [
    {
     "data": {
      "text/html": [
       "<div>\n",
       "<style scoped>\n",
       "    .dataframe tbody tr th:only-of-type {\n",
       "        vertical-align: middle;\n",
       "    }\n",
       "\n",
       "    .dataframe tbody tr th {\n",
       "        vertical-align: top;\n",
       "    }\n",
       "\n",
       "    .dataframe thead th {\n",
       "        text-align: right;\n",
       "    }\n",
       "</style>\n",
       "<table border=\"1\" class=\"dataframe\">\n",
       "  <thead>\n",
       "    <tr style=\"text-align: right;\">\n",
       "      <th></th>\n",
       "      <th>postcode</th>\n",
       "      <th>dollar_value</th>\n",
       "      <th>SA2_name</th>\n",
       "      <th>SA2_MAINCO</th>\n",
       "      <th>state</th>\n",
       "      <th>geometry</th>\n",
       "    </tr>\n",
       "  </thead>\n",
       "  <tbody>\n",
       "    <tr>\n",
       "      <th>0</th>\n",
       "      <td>4563</td>\n",
       "      <td>136.065708</td>\n",
       "      <td>Noosa Hinterland</td>\n",
       "      <td>316081549</td>\n",
       "      <td>QLD</td>\n",
       "      <td>POLYGON ((152.79369 -26.34524, 152.79402 -26.3...</td>\n",
       "    </tr>\n",
       "    <tr>\n",
       "      <th>1</th>\n",
       "      <td>4563</td>\n",
       "      <td>136.065708</td>\n",
       "      <td>Gympie Surrounds</td>\n",
       "      <td>319031514</td>\n",
       "      <td>QLD</td>\n",
       "      <td>POLYGON ((152.51447 -26.05321, 152.5146 -26.05...</td>\n",
       "    </tr>\n",
       "    <tr>\n",
       "      <th>2</th>\n",
       "      <td>4563</td>\n",
       "      <td>173.407114</td>\n",
       "      <td>Noosa Hinterland</td>\n",
       "      <td>316081549</td>\n",
       "      <td>QLD</td>\n",
       "      <td>POLYGON ((152.79369 -26.34524, 152.79402 -26.3...</td>\n",
       "    </tr>\n",
       "    <tr>\n",
       "      <th>3</th>\n",
       "      <td>4563</td>\n",
       "      <td>173.407114</td>\n",
       "      <td>Gympie Surrounds</td>\n",
       "      <td>319031514</td>\n",
       "      <td>QLD</td>\n",
       "      <td>POLYGON ((152.51447 -26.05321, 152.5146 -26.05...</td>\n",
       "    </tr>\n",
       "    <tr>\n",
       "      <th>4</th>\n",
       "      <td>4563</td>\n",
       "      <td>198.466744</td>\n",
       "      <td>Noosa Hinterland</td>\n",
       "      <td>316081549</td>\n",
       "      <td>QLD</td>\n",
       "      <td>POLYGON ((152.79369 -26.34524, 152.79402 -26.3...</td>\n",
       "    </tr>\n",
       "  </tbody>\n",
       "</table>\n",
       "</div>"
      ],
      "text/plain": [
       "   postcode  dollar_value          SA2_name  SA2_MAINCO state  \\\n",
       "0      4563    136.065708  Noosa Hinterland   316081549   QLD   \n",
       "1      4563    136.065708  Gympie Surrounds   319031514   QLD   \n",
       "2      4563    173.407114  Noosa Hinterland   316081549   QLD   \n",
       "3      4563    173.407114  Gympie Surrounds   319031514   QLD   \n",
       "4      4563    198.466744  Noosa Hinterland   316081549   QLD   \n",
       "\n",
       "                                            geometry  \n",
       "0  POLYGON ((152.79369 -26.34524, 152.79402 -26.3...  \n",
       "1  POLYGON ((152.51447 -26.05321, 152.5146 -26.05...  \n",
       "2  POLYGON ((152.79369 -26.34524, 152.79402 -26.3...  \n",
       "3  POLYGON ((152.51447 -26.05321, 152.5146 -26.05...  \n",
       "4  POLYGON ((152.79369 -26.34524, 152.79402 -26.3...  "
      ]
     },
     "execution_count": 37,
     "metadata": {},
     "output_type": "execute_result"
    }
   ],
   "source": [
    "consumer_dollar_geo.head()"
   ]
  },
  {
   "cell_type": "code",
   "execution_count": 38,
   "metadata": {},
   "outputs": [
    {
     "data": {
      "text/plain": [
       "(21008714, 6)"
      ]
     },
     "execution_count": 38,
     "metadata": {},
     "output_type": "execute_result"
    }
   ],
   "source": [
    "consumer_dollar_geo.shape"
   ]
  },
  {
   "cell_type": "code",
   "execution_count": 40,
   "metadata": {},
   "outputs": [
    {
     "data": {
      "text/html": [
       "<div>\n",
       "<style scoped>\n",
       "    .dataframe tbody tr th:only-of-type {\n",
       "        vertical-align: middle;\n",
       "    }\n",
       "\n",
       "    .dataframe tbody tr th {\n",
       "        vertical-align: top;\n",
       "    }\n",
       "\n",
       "    .dataframe thead th {\n",
       "        text-align: right;\n",
       "    }\n",
       "</style>\n",
       "<table border=\"1\" class=\"dataframe\">\n",
       "  <thead>\n",
       "    <tr style=\"text-align: right;\">\n",
       "      <th></th>\n",
       "      <th>SA2_name</th>\n",
       "      <th>dollar_value</th>\n",
       "      <th>geometry</th>\n",
       "    </tr>\n",
       "  </thead>\n",
       "  <tbody>\n",
       "    <tr>\n",
       "      <th>0</th>\n",
       "      <td>ACT - South West</td>\n",
       "      <td>2.002136e+06</td>\n",
       "      <td>POLYGON ((148.88381 -35.26411, 148.94988 -35.2...</td>\n",
       "    </tr>\n",
       "    <tr>\n",
       "      <th>1</th>\n",
       "      <td>APY Lands</td>\n",
       "      <td>1.400538e+06</td>\n",
       "      <td>POLYGON ((129.00186 -26.72252, 129.00186 -26.7...</td>\n",
       "    </tr>\n",
       "    <tr>\n",
       "      <th>2</th>\n",
       "      <td>Abbotsford</td>\n",
       "      <td>5.278622e+05</td>\n",
       "      <td>POLYGON ((144.99255 -37.80249, 144.99266 -37.8...</td>\n",
       "    </tr>\n",
       "    <tr>\n",
       "      <th>3</th>\n",
       "      <td>Aberfoyle Park</td>\n",
       "      <td>6.247266e+05</td>\n",
       "      <td>POLYGON ((138.58963 -35.06584, 138.58993 -35.0...</td>\n",
       "    </tr>\n",
       "    <tr>\n",
       "      <th>4</th>\n",
       "      <td>Acacia Gardens</td>\n",
       "      <td>7.369201e+05</td>\n",
       "      <td>POLYGON ((150.91593 -33.72971, 150.91661 -33.7...</td>\n",
       "    </tr>\n",
       "  </tbody>\n",
       "</table>\n",
       "</div>"
      ],
      "text/plain": [
       "           SA2_name  dollar_value  \\\n",
       "0  ACT - South West  2.002136e+06   \n",
       "1         APY Lands  1.400538e+06   \n",
       "2        Abbotsford  5.278622e+05   \n",
       "3    Aberfoyle Park  6.247266e+05   \n",
       "4    Acacia Gardens  7.369201e+05   \n",
       "\n",
       "                                            geometry  \n",
       "0  POLYGON ((148.88381 -35.26411, 148.94988 -35.2...  \n",
       "1  POLYGON ((129.00186 -26.72252, 129.00186 -26.7...  \n",
       "2  POLYGON ((144.99255 -37.80249, 144.99266 -37.8...  \n",
       "3  POLYGON ((138.58963 -35.06584, 138.58993 -35.0...  \n",
       "4  POLYGON ((150.91593 -33.72971, 150.91661 -33.7...  "
      ]
     },
     "execution_count": 40,
     "metadata": {},
     "output_type": "execute_result"
    }
   ],
   "source": [
    "summed_consumer_dollar_geo = consumer_dollar_geo.groupby('SA2_name', as_index=False).agg({\n",
    "    'dollar_value': 'sum',  # sum the dollar_value column\n",
    "    'geometry': 'first'     # keep the first geometry of each SA2_name\n",
    "})\n",
    "summed_consumer_dollar_geo.head()"
   ]
  },
  {
   "cell_type": "code",
   "execution_count": 41,
   "metadata": {},
   "outputs": [
    {
     "data": {
      "text/plain": [
       "(2311, 3)"
      ]
     },
     "execution_count": 41,
     "metadata": {},
     "output_type": "execute_result"
    }
   ],
   "source": [
    "summed_consumer_dollar_geo.shape"
   ]
  },
  {
   "cell_type": "code",
   "execution_count": 42,
   "metadata": {},
   "outputs": [],
   "source": [
    "# save the DataFrame as a CSV file\n",
    "summed_consumer_dollar_geo.to_csv('../data/curated/summed_consumer_dollar_geo.csv', index=False)"
   ]
  },
  {
   "cell_type": "code",
   "execution_count": 43,
   "metadata": {},
   "outputs": [
    {
     "name": "stderr",
     "output_type": "stream",
     "text": [
      "                                                                                \r"
     ]
    }
   ],
   "source": [
    "# drop the geometry column\n",
    "consumer_dollar_bySA2_df = summed_consumer_dollar_geo.drop(columns=['geometry'])\n",
    "\n",
    "# convert the DataFrame as a Parquet file\n",
    "consumer_dollar_bySA2 = spark.createDataFrame(consumer_dollar_bySA2_df)\n",
    "\n",
    "# save the DataFrame as a Parquet file\n",
    "consumer_dollar_bySA2.write.parquet('../data/curated/consumer_dollar_bySA2', mode='overwrite')"
   ]
  }
 ],
 "metadata": {
  "kernelspec": {
   "display_name": "Python 3",
   "language": "python",
   "name": "python3"
  },
  "language_info": {
   "codemirror_mode": {
    "name": "ipython",
    "version": 3
   },
   "file_extension": ".py",
   "mimetype": "text/x-python",
   "name": "python",
   "nbconvert_exporter": "python",
   "pygments_lexer": "ipython3",
   "version": "3.11.3"
  }
 },
 "nbformat": 4,
 "nbformat_minor": 2
}
